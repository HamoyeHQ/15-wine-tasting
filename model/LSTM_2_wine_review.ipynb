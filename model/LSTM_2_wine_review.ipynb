{
  "nbformat": 4,
  "nbformat_minor": 0,
  "metadata": {
    "accelerator": "GPU",
    "colab": {
      "name": "LSTM 2 wine review.ipynb",
      "provenance": [],
      "collapsed_sections": []
    },
    "kernelspec": {
      "display_name": "Python 3",
      "name": "python3"
    }
  },
  "cells": [
    {
      "cell_type": "code",
      "metadata": {
        "id": "UFfzm-f_gfPJ"
      },
      "source": [
        "import os\n",
        "os.environ['KAGGLE_CONFIG_DIR'] = \"/content/drive/My Drive/Kaggle\""
      ],
      "execution_count": 1,
      "outputs": []
    },
    {
      "cell_type": "code",
      "metadata": {
        "id": "iC8YCpOPhsS4",
        "outputId": "c784e05c-f451-45d6-a3dc-eca47d042834",
        "colab": {
          "base_uri": "https://localhost:8080/"
        }
      },
      "source": [
        "#changing the working directory\n",
        "%cd /content\n",
        "\n",
        "#Check the present working directory using pwd command"
      ],
      "execution_count": 2,
      "outputs": [
        {
          "output_type": "stream",
          "text": [
            "/content\n"
          ],
          "name": "stdout"
        }
      ]
    },
    {
      "cell_type": "code",
      "metadata": {
        "id": "0WclKNrQjl8A",
        "outputId": "cd29c608-5ecd-4e7b-cbf5-d64937c0871f",
        "colab": {
          "base_uri": "https://localhost:8080/"
        }
      },
      "source": [
        "!kaggle datasets download -d zynicide/wine-reviews"
      ],
      "execution_count": 3,
      "outputs": [
        {
          "output_type": "stream",
          "text": [
            "Downloading wine-reviews.zip to /content\n",
            " 83% 42.0M/50.9M [00:00<00:00, 58.5MB/s]\n",
            "100% 50.9M/50.9M [00:00<00:00, 115MB/s] \n"
          ],
          "name": "stdout"
        }
      ]
    },
    {
      "cell_type": "code",
      "metadata": {
        "id": "f-MAav7Jj8IM",
        "outputId": "3850002a-a5f4-4a9a-8033-1a17c75e5a52",
        "colab": {
          "base_uri": "https://localhost:8080/"
        }
      },
      "source": [
        "!unzip /content/wine-reviews.zip"
      ],
      "execution_count": 4,
      "outputs": [
        {
          "output_type": "stream",
          "text": [
            "Archive:  /content/wine-reviews.zip\n",
            "  inflating: winemag-data-130k-v2.csv  \n",
            "  inflating: winemag-data-130k-v2.json  \n",
            "  inflating: winemag-data_first150k.csv  \n"
          ],
          "name": "stdout"
        }
      ]
    },
    {
      "cell_type": "code",
      "metadata": {
        "id": "p6lsqKZtkDAW",
        "outputId": "51d7ef1a-a018-48db-b2b6-e0c5d3829793",
        "colab": {
          "base_uri": "https://localhost:8080/"
        }
      },
      "source": [
        "!ls"
      ],
      "execution_count": 5,
      "outputs": [
        {
          "output_type": "stream",
          "text": [
            "drive\t     winemag-data-130k-v2.csv\twinemag-data_first150k.csv\n",
            "sample_data  winemag-data-130k-v2.json\twine-reviews.zip\n"
          ],
          "name": "stdout"
        }
      ]
    },
    {
      "cell_type": "code",
      "metadata": {
        "id": "QRSP8JGtkE9U"
      },
      "source": [
        "import pandas as pd\n",
        "import numpy as np\n",
        "import matplotlib.pyplot as plt\n",
        "import seaborn as sns\n",
        "\n",
        "import spacy\n",
        "from gensim.models import Word2Vec # importing Word2Vec\n",
        "\n",
        "import tensorflow as tf\n",
        "from tensorflow.keras.optimizers import Adam, SGD\n",
        "from tensorflow.keras.models import Sequential\n",
        "from tensorflow.keras.layers import Dense, GlobalAveragePooling1D, Conv1D, Dropout, SpatialDropout1D, LSTM, Embedding, GlobalMaxPool1D\n",
        "from tensorflow.keras.callbacks import ModelCheckpoint, EarlyStopping, ReduceLROnPlateau, LearningRateScheduler\n",
        "from tensorflow.keras.preprocessing.text import Tokenizer\n",
        "from tensorflow.keras.preprocessing.sequence import pad_sequences\n",
        "\n",
        "\n",
        "import warnings\n",
        "warnings.filterwarnings('ignore')"
      ],
      "execution_count": 6,
      "outputs": []
    },
    {
      "cell_type": "code",
      "metadata": {
        "id": "3UbYsEvOkYGL"
      },
      "source": [
        "df = pd.read_csv('/content/winemag-data-130k-v2.csv')"
      ],
      "execution_count": 7,
      "outputs": []
    },
    {
      "cell_type": "code",
      "metadata": {
        "id": "QMpRxxmAk6hq",
        "outputId": "df008329-d77f-4323-ff10-d18d1c3c61fc",
        "colab": {
          "base_uri": "https://localhost:8080/",
          "height": 571
        }
      },
      "source": [
        "df.head()"
      ],
      "execution_count": 8,
      "outputs": [
        {
          "output_type": "execute_result",
          "data": {
            "text/html": [
              "<div>\n",
              "<style scoped>\n",
              "    .dataframe tbody tr th:only-of-type {\n",
              "        vertical-align: middle;\n",
              "    }\n",
              "\n",
              "    .dataframe tbody tr th {\n",
              "        vertical-align: top;\n",
              "    }\n",
              "\n",
              "    .dataframe thead th {\n",
              "        text-align: right;\n",
              "    }\n",
              "</style>\n",
              "<table border=\"1\" class=\"dataframe\">\n",
              "  <thead>\n",
              "    <tr style=\"text-align: right;\">\n",
              "      <th></th>\n",
              "      <th>Unnamed: 0</th>\n",
              "      <th>country</th>\n",
              "      <th>description</th>\n",
              "      <th>designation</th>\n",
              "      <th>points</th>\n",
              "      <th>price</th>\n",
              "      <th>province</th>\n",
              "      <th>region_1</th>\n",
              "      <th>region_2</th>\n",
              "      <th>taster_name</th>\n",
              "      <th>taster_twitter_handle</th>\n",
              "      <th>title</th>\n",
              "      <th>variety</th>\n",
              "      <th>winery</th>\n",
              "    </tr>\n",
              "  </thead>\n",
              "  <tbody>\n",
              "    <tr>\n",
              "      <th>0</th>\n",
              "      <td>0</td>\n",
              "      <td>Italy</td>\n",
              "      <td>Aromas include tropical fruit, broom, brimston...</td>\n",
              "      <td>Vulkà Bianco</td>\n",
              "      <td>87</td>\n",
              "      <td>NaN</td>\n",
              "      <td>Sicily &amp; Sardinia</td>\n",
              "      <td>Etna</td>\n",
              "      <td>NaN</td>\n",
              "      <td>Kerin O’Keefe</td>\n",
              "      <td>@kerinokeefe</td>\n",
              "      <td>Nicosia 2013 Vulkà Bianco  (Etna)</td>\n",
              "      <td>White Blend</td>\n",
              "      <td>Nicosia</td>\n",
              "    </tr>\n",
              "    <tr>\n",
              "      <th>1</th>\n",
              "      <td>1</td>\n",
              "      <td>Portugal</td>\n",
              "      <td>This is ripe and fruity, a wine that is smooth...</td>\n",
              "      <td>Avidagos</td>\n",
              "      <td>87</td>\n",
              "      <td>15.0</td>\n",
              "      <td>Douro</td>\n",
              "      <td>NaN</td>\n",
              "      <td>NaN</td>\n",
              "      <td>Roger Voss</td>\n",
              "      <td>@vossroger</td>\n",
              "      <td>Quinta dos Avidagos 2011 Avidagos Red (Douro)</td>\n",
              "      <td>Portuguese Red</td>\n",
              "      <td>Quinta dos Avidagos</td>\n",
              "    </tr>\n",
              "    <tr>\n",
              "      <th>2</th>\n",
              "      <td>2</td>\n",
              "      <td>US</td>\n",
              "      <td>Tart and snappy, the flavors of lime flesh and...</td>\n",
              "      <td>NaN</td>\n",
              "      <td>87</td>\n",
              "      <td>14.0</td>\n",
              "      <td>Oregon</td>\n",
              "      <td>Willamette Valley</td>\n",
              "      <td>Willamette Valley</td>\n",
              "      <td>Paul Gregutt</td>\n",
              "      <td>@paulgwine</td>\n",
              "      <td>Rainstorm 2013 Pinot Gris (Willamette Valley)</td>\n",
              "      <td>Pinot Gris</td>\n",
              "      <td>Rainstorm</td>\n",
              "    </tr>\n",
              "    <tr>\n",
              "      <th>3</th>\n",
              "      <td>3</td>\n",
              "      <td>US</td>\n",
              "      <td>Pineapple rind, lemon pith and orange blossom ...</td>\n",
              "      <td>Reserve Late Harvest</td>\n",
              "      <td>87</td>\n",
              "      <td>13.0</td>\n",
              "      <td>Michigan</td>\n",
              "      <td>Lake Michigan Shore</td>\n",
              "      <td>NaN</td>\n",
              "      <td>Alexander Peartree</td>\n",
              "      <td>NaN</td>\n",
              "      <td>St. Julian 2013 Reserve Late Harvest Riesling ...</td>\n",
              "      <td>Riesling</td>\n",
              "      <td>St. Julian</td>\n",
              "    </tr>\n",
              "    <tr>\n",
              "      <th>4</th>\n",
              "      <td>4</td>\n",
              "      <td>US</td>\n",
              "      <td>Much like the regular bottling from 2012, this...</td>\n",
              "      <td>Vintner's Reserve Wild Child Block</td>\n",
              "      <td>87</td>\n",
              "      <td>65.0</td>\n",
              "      <td>Oregon</td>\n",
              "      <td>Willamette Valley</td>\n",
              "      <td>Willamette Valley</td>\n",
              "      <td>Paul Gregutt</td>\n",
              "      <td>@paulgwine</td>\n",
              "      <td>Sweet Cheeks 2012 Vintner's Reserve Wild Child...</td>\n",
              "      <td>Pinot Noir</td>\n",
              "      <td>Sweet Cheeks</td>\n",
              "    </tr>\n",
              "  </tbody>\n",
              "</table>\n",
              "</div>"
            ],
            "text/plain": [
              "   Unnamed: 0   country  ...         variety               winery\n",
              "0           0     Italy  ...     White Blend              Nicosia\n",
              "1           1  Portugal  ...  Portuguese Red  Quinta dos Avidagos\n",
              "2           2        US  ...      Pinot Gris            Rainstorm\n",
              "3           3        US  ...        Riesling           St. Julian\n",
              "4           4        US  ...      Pinot Noir         Sweet Cheeks\n",
              "\n",
              "[5 rows x 14 columns]"
            ]
          },
          "metadata": {
            "tags": []
          },
          "execution_count": 8
        }
      ]
    },
    {
      "cell_type": "code",
      "metadata": {
        "id": "KqsL5vdWnRL3",
        "outputId": "e00135aa-993c-4ed6-91b1-c5605f5b15a5",
        "colab": {
          "base_uri": "https://localhost:8080/"
        }
      },
      "source": [
        "df.shape"
      ],
      "execution_count": 9,
      "outputs": [
        {
          "output_type": "execute_result",
          "data": {
            "text/plain": [
              "(129971, 14)"
            ]
          },
          "metadata": {
            "tags": []
          },
          "execution_count": 9
        }
      ]
    },
    {
      "cell_type": "code",
      "metadata": {
        "id": "ZgWBMskak8wT",
        "outputId": "3e5ab89e-4e68-4af6-9efd-3bd03a2bff2c",
        "colab": {
          "base_uri": "https://localhost:8080/"
        }
      },
      "source": [
        "df['description'].nunique()"
      ],
      "execution_count": 10,
      "outputs": [
        {
          "output_type": "execute_result",
          "data": {
            "text/plain": [
              "119955"
            ]
          },
          "metadata": {
            "tags": []
          },
          "execution_count": 10
        }
      ]
    },
    {
      "cell_type": "code",
      "metadata": {
        "id": "xuAnbgJTmKKh"
      },
      "source": [
        "duplicate = df[df.duplicated('description', keep=False)]"
      ],
      "execution_count": 11,
      "outputs": []
    },
    {
      "cell_type": "code",
      "metadata": {
        "id": "ArwmN6ssptaj",
        "outputId": "54f836f4-74b3-4d37-ff8a-89feee04fc47",
        "colab": {
          "base_uri": "https://localhost:8080/"
        }
      },
      "source": [
        "duplicate.shape"
      ],
      "execution_count": 12,
      "outputs": [
        {
          "output_type": "execute_result",
          "data": {
            "text/plain": [
              "(20026, 14)"
            ]
          },
          "metadata": {
            "tags": []
          },
          "execution_count": 12
        }
      ]
    },
    {
      "cell_type": "code",
      "metadata": {
        "id": "-E1-2qY8m9sl",
        "outputId": "ef08ffa7-65bd-4631-b692-b8c0c4e14789",
        "colab": {
          "base_uri": "https://localhost:8080/"
        }
      },
      "source": [
        "duplicate['description'].value_counts()"
      ],
      "execution_count": 13,
      "outputs": [
        {
          "output_type": "execute_result",
          "data": {
            "text/plain": [
              "Cigar box, café au lait, and dried tobacco aromas are followed by coffee and cherry flavors, with barrel spices lingering on the finish. The wood gets a bit out front but it still delivers enjoyment.                                                                                                          3\n",
              "Gravenstein apple, honeysuckle and jasmine aromas show on the relatively boisterous nose of this bottling from a large vineyard on Highway 46 east of Paso Robles. There is compellingly grippy texture to the sip, with ripe flavors of pear and honeydew melon. A salty acidity takes it to the next level.    3\n",
              "Stalky aromas suggest hay and green herbs, with raspberry in the backdrop. It's hot and short in terms of mouthfeel, with herbal flavors leading the way and berry fruit running behind. Dry red fruit and herbal notes dominate the finish.                                                                     3\n",
              "This zesty red has pretty aromas that suggest small red berry, blue flower and a whiff of moist soil. The vibrant palate offers sour cherry, pomegranate and a hint of anise alongside zesty acidity and refined tannins.                                                                                        3\n",
              "Ripe plum, game, truffle, leather and menthol are some of the aromas you'll find on this earthy wine. The tightly wound palate offers dried black cherry, chopped sage, mint and roasted coffee bean alongside raspy tannins that leave a mouth-drying finish.                                                   3\n",
              "                                                                                                                                                                                                                                                                                                                ..\n",
              "Fresh for the summer season is this tutti-frutti Navarran Garnacha. Pink in color and pumped up, this tastes of pink grapefruit, nectarine and citrus pith. It's all about freshness and drinkability.                                                                                                           2\n",
              "Light-bodied and crisp, this delivers tart cherries and a whack of mocha-tinged oak, which dominates the finish.                                                                                                                                                                                                 2\n",
              "Shows a pretty, polished nose with dusty mineral notes backed by elegant tones of dried berry, spice and leather. Nice complexity and balance. Loads of tobacco-like sensations on the close.                                                                                                                    2\n",
              "Altrovino is a 50-50 blend of Merlot and Cabernet Franc that opens with intense aromas of black fruit, spice, tobacco and smooth black chocolate. In the mouth, this wine offers richness and a silky, long finish.                                                                                              2\n",
              "A smooth, ripe and accessible Port that balances its raisins and other dried fruits with a drier, denser character. This well-made, generous wine can be drunk now.                                                                                                                                              2\n",
              "Name: description, Length: 10010, dtype: int64"
            ]
          },
          "metadata": {
            "tags": []
          },
          "execution_count": 13
        }
      ]
    },
    {
      "cell_type": "code",
      "metadata": {
        "id": "zcENAVlLofSj"
      },
      "source": [
        "vardescr = df[df.duplicated(['description', 'variety'],keep=False)]"
      ],
      "execution_count": 14,
      "outputs": []
    },
    {
      "cell_type": "code",
      "metadata": {
        "id": "gsF6QzUXpnlZ",
        "outputId": "9edd6c3a-a0f7-498f-ead2-30c9f3dbdf0a",
        "colab": {
          "base_uri": "https://localhost:8080/"
        }
      },
      "source": [
        "vardescr.shape"
      ],
      "execution_count": 15,
      "outputs": [
        {
          "output_type": "execute_result",
          "data": {
            "text/plain": [
              "(20008, 14)"
            ]
          },
          "metadata": {
            "tags": []
          },
          "execution_count": 15
        }
      ]
    },
    {
      "cell_type": "code",
      "metadata": {
        "id": "L6Q-E-ajpqP2",
        "outputId": "d68c72ad-634b-411b-c74e-12c5d2101727",
        "colab": {
          "base_uri": "https://localhost:8080/",
          "height": 1000
        }
      },
      "source": [
        "duplicate[duplicate[['description', 'variety']].eq(vardescr[['description', 'variety']]).all(axis=1)==False]"
      ],
      "execution_count": 16,
      "outputs": [
        {
          "output_type": "execute_result",
          "data": {
            "text/html": [
              "<div>\n",
              "<style scoped>\n",
              "    .dataframe tbody tr th:only-of-type {\n",
              "        vertical-align: middle;\n",
              "    }\n",
              "\n",
              "    .dataframe tbody tr th {\n",
              "        vertical-align: top;\n",
              "    }\n",
              "\n",
              "    .dataframe thead th {\n",
              "        text-align: right;\n",
              "    }\n",
              "</style>\n",
              "<table border=\"1\" class=\"dataframe\">\n",
              "  <thead>\n",
              "    <tr style=\"text-align: right;\">\n",
              "      <th></th>\n",
              "      <th>Unnamed: 0</th>\n",
              "      <th>country</th>\n",
              "      <th>description</th>\n",
              "      <th>designation</th>\n",
              "      <th>points</th>\n",
              "      <th>price</th>\n",
              "      <th>province</th>\n",
              "      <th>region_1</th>\n",
              "      <th>region_2</th>\n",
              "      <th>taster_name</th>\n",
              "      <th>taster_twitter_handle</th>\n",
              "      <th>title</th>\n",
              "      <th>variety</th>\n",
              "      <th>winery</th>\n",
              "    </tr>\n",
              "  </thead>\n",
              "  <tbody>\n",
              "    <tr>\n",
              "      <th>16162</th>\n",
              "      <td>16162</td>\n",
              "      <td>Italy</td>\n",
              "      <td>This opens with subtle aromas of wild flower a...</td>\n",
              "      <td>Ventidue</td>\n",
              "      <td>93</td>\n",
              "      <td>35.0</td>\n",
              "      <td>Southern Italy</td>\n",
              "      <td>Fiano di Avellino</td>\n",
              "      <td>NaN</td>\n",
              "      <td>Kerin O’Keefe</td>\n",
              "      <td>@kerinokeefe</td>\n",
              "      <td>Villa Raiano 2014 Ventidue  (Fiano di Avellino)</td>\n",
              "      <td>Fiano</td>\n",
              "      <td>Villa Raiano</td>\n",
              "    </tr>\n",
              "    <tr>\n",
              "      <th>21810</th>\n",
              "      <td>21810</td>\n",
              "      <td>Italy</td>\n",
              "      <td>Vibrant and spicy, this savory red delivers ar...</td>\n",
              "      <td>Grotta Rossa</td>\n",
              "      <td>89</td>\n",
              "      <td>14.0</td>\n",
              "      <td>Sicily &amp; Sardinia</td>\n",
              "      <td>Carignano del Sulcis</td>\n",
              "      <td>NaN</td>\n",
              "      <td>Kerin O’Keefe</td>\n",
              "      <td>@kerinokeefe</td>\n",
              "      <td>Cantina Santadi 2012 Grotta Rossa  (Carignano ...</td>\n",
              "      <td>Carignano</td>\n",
              "      <td>Cantina Santadi</td>\n",
              "    </tr>\n",
              "    <tr>\n",
              "      <th>26490</th>\n",
              "      <td>26490</td>\n",
              "      <td>Italy</td>\n",
              "      <td>This opens with subtle aromas of wild flower a...</td>\n",
              "      <td>Vigne di Sande</td>\n",
              "      <td>87</td>\n",
              "      <td>NaN</td>\n",
              "      <td>Veneto</td>\n",
              "      <td>Soave</td>\n",
              "      <td>NaN</td>\n",
              "      <td>Kerin O’Keefe</td>\n",
              "      <td>@kerinokeefe</td>\n",
              "      <td>Villa Canestrari 2016 Vigne di Sande  (Soave)</td>\n",
              "      <td>Garganega</td>\n",
              "      <td>Villa Canestrari</td>\n",
              "    </tr>\n",
              "    <tr>\n",
              "      <th>31584</th>\n",
              "      <td>31584</td>\n",
              "      <td>Italy</td>\n",
              "      <td>Vibrant and spicy, this savory red delivers ar...</td>\n",
              "      <td>Costera</td>\n",
              "      <td>90</td>\n",
              "      <td>18.0</td>\n",
              "      <td>Sicily &amp; Sardinia</td>\n",
              "      <td>Cannonau di Sardegna</td>\n",
              "      <td>NaN</td>\n",
              "      <td>Kerin O’Keefe</td>\n",
              "      <td>@kerinokeefe</td>\n",
              "      <td>Argiolas 2013 Costera  (Cannonau di Sardegna)</td>\n",
              "      <td>Red Blend</td>\n",
              "      <td>Argiolas</td>\n",
              "    </tr>\n",
              "    <tr>\n",
              "      <th>33110</th>\n",
              "      <td>33110</td>\n",
              "      <td>Argentina</td>\n",
              "      <td>Stalky aromas suggest hay and green herbs, wit...</td>\n",
              "      <td>Finca La Niña</td>\n",
              "      <td>84</td>\n",
              "      <td>10.0</td>\n",
              "      <td>Mendoza Province</td>\n",
              "      <td>Mendoza</td>\n",
              "      <td>NaN</td>\n",
              "      <td>Michael Schachner</td>\n",
              "      <td>@wineschach</td>\n",
              "      <td>Don Cristobal 1492 2010 Finca La Niña Cabernet...</td>\n",
              "      <td>Cabernet Sauvignon</td>\n",
              "      <td>Don Cristobal 1492</td>\n",
              "    </tr>\n",
              "    <tr>\n",
              "      <th>33463</th>\n",
              "      <td>33463</td>\n",
              "      <td>Greece</td>\n",
              "      <td>Aromas of citrus, melon and orange blossom sta...</td>\n",
              "      <td>NaN</td>\n",
              "      <td>88</td>\n",
              "      <td>15.0</td>\n",
              "      <td>Atalanti Valley</td>\n",
              "      <td>NaN</td>\n",
              "      <td>NaN</td>\n",
              "      <td>Susan Kostrzewa</td>\n",
              "      <td>@suskostrzewa</td>\n",
              "      <td>Hatzimichalis 2015 Chardonnay (Atalanti Valley)</td>\n",
              "      <td>Chardonnay</td>\n",
              "      <td>Hatzimichalis</td>\n",
              "    </tr>\n",
              "    <tr>\n",
              "      <th>36475</th>\n",
              "      <td>36475</td>\n",
              "      <td>Italy</td>\n",
              "      <td>Green bell pepper, red currant and dark spice ...</td>\n",
              "      <td>NaN</td>\n",
              "      <td>85</td>\n",
              "      <td>NaN</td>\n",
              "      <td>Northeastern Italy</td>\n",
              "      <td>Collio</td>\n",
              "      <td>NaN</td>\n",
              "      <td>Kerin O’Keefe</td>\n",
              "      <td>@kerinokeefe</td>\n",
              "      <td>Ca'Ronesca 2013 Pinot Nero (Collio)</td>\n",
              "      <td>Pinot Nero</td>\n",
              "      <td>Ca'Ronesca</td>\n",
              "    </tr>\n",
              "    <tr>\n",
              "      <th>37160</th>\n",
              "      <td>37160</td>\n",
              "      <td>Italy</td>\n",
              "      <td>The subdued nose eventually reveals black cher...</td>\n",
              "      <td>Marchese Montefusco</td>\n",
              "      <td>85</td>\n",
              "      <td>10.0</td>\n",
              "      <td>Sicily &amp; Sardinia</td>\n",
              "      <td>Terre Siciliane</td>\n",
              "      <td>NaN</td>\n",
              "      <td>Kerin O’Keefe</td>\n",
              "      <td>@kerinokeefe</td>\n",
              "      <td>Cantine Ermes 2014 Marchese Montefusco Nero d'...</td>\n",
              "      <td>Nero d'Avola</td>\n",
              "      <td>Cantine Ermes</td>\n",
              "    </tr>\n",
              "    <tr>\n",
              "      <th>51315</th>\n",
              "      <td>51315</td>\n",
              "      <td>Australia</td>\n",
              "      <td>In 2009 this single vineyard offering includes...</td>\n",
              "      <td>Noble Baron</td>\n",
              "      <td>90</td>\n",
              "      <td>50.0</td>\n",
              "      <td>South Australia</td>\n",
              "      <td>Barossa</td>\n",
              "      <td>NaN</td>\n",
              "      <td>Joe Czerwinski</td>\n",
              "      <td>@JoeCz</td>\n",
              "      <td>Château Tanunda 2007 Noble Baron Cabernet Sauv...</td>\n",
              "      <td>Cabernet Sauvignon</td>\n",
              "      <td>Château Tanunda</td>\n",
              "    </tr>\n",
              "    <tr>\n",
              "      <th>52601</th>\n",
              "      <td>52601</td>\n",
              "      <td>Italy</td>\n",
              "      <td>This offers aromas and flavors suggesting unri...</td>\n",
              "      <td>Vermentino del marchese</td>\n",
              "      <td>85</td>\n",
              "      <td>20.0</td>\n",
              "      <td>Sicily &amp; Sardinia</td>\n",
              "      <td>Sicilia</td>\n",
              "      <td>NaN</td>\n",
              "      <td>Kerin O’Keefe</td>\n",
              "      <td>@kerinokeefe</td>\n",
              "      <td>Marchesi De Gregorio 2015 Vermentino del march...</td>\n",
              "      <td>White Blend</td>\n",
              "      <td>Marchesi De Gregorio</td>\n",
              "    </tr>\n",
              "    <tr>\n",
              "      <th>59358</th>\n",
              "      <td>59358</td>\n",
              "      <td>US</td>\n",
              "      <td>In 2009 this single vineyard offering includes...</td>\n",
              "      <td>Horse Heaven Vineyard</td>\n",
              "      <td>90</td>\n",
              "      <td>15.0</td>\n",
              "      <td>Washington</td>\n",
              "      <td>Horse Heaven Hills</td>\n",
              "      <td>Columbia Valley</td>\n",
              "      <td>Paul Gregutt</td>\n",
              "      <td>@paulgwine</td>\n",
              "      <td>Chateau Ste. Michelle 2009 Horse Heaven Vineya...</td>\n",
              "      <td>Sauvignon Blanc</td>\n",
              "      <td>Chateau Ste. Michelle</td>\n",
              "    </tr>\n",
              "    <tr>\n",
              "      <th>62186</th>\n",
              "      <td>62186</td>\n",
              "      <td>Italy</td>\n",
              "      <td>The subdued nose eventually reveals black cher...</td>\n",
              "      <td>Poggionotte</td>\n",
              "      <td>86</td>\n",
              "      <td>18.0</td>\n",
              "      <td>Sicily &amp; Sardinia</td>\n",
              "      <td>Terre Siciliane</td>\n",
              "      <td>NaN</td>\n",
              "      <td>Kerin O’Keefe</td>\n",
              "      <td>@kerinokeefe</td>\n",
              "      <td>Di Giovanna 2013 Poggionotte Red (Terre Sicili...</td>\n",
              "      <td>Red Blend</td>\n",
              "      <td>Di Giovanna</td>\n",
              "    </tr>\n",
              "    <tr>\n",
              "      <th>87797</th>\n",
              "      <td>87797</td>\n",
              "      <td>Italy</td>\n",
              "      <td>Green bell pepper, red currant and dark spice ...</td>\n",
              "      <td>NaN</td>\n",
              "      <td>90</td>\n",
              "      <td>NaN</td>\n",
              "      <td>Northeastern Italy</td>\n",
              "      <td>Collio</td>\n",
              "      <td>NaN</td>\n",
              "      <td>Kerin O’Keefe</td>\n",
              "      <td>@kerinokeefe</td>\n",
              "      <td>Zorzon 2013 Cabernet Franc (Collio)</td>\n",
              "      <td>Cabernet Franc</td>\n",
              "      <td>Zorzon</td>\n",
              "    </tr>\n",
              "    <tr>\n",
              "      <th>93839</th>\n",
              "      <td>93839</td>\n",
              "      <td>Italy</td>\n",
              "      <td>This offers aromas and flavors suggesting unri...</td>\n",
              "      <td>NaN</td>\n",
              "      <td>87</td>\n",
              "      <td>NaN</td>\n",
              "      <td>Sicily &amp; Sardinia</td>\n",
              "      <td>Terre Siciliane</td>\n",
              "      <td>NaN</td>\n",
              "      <td>Kerin O’Keefe</td>\n",
              "      <td>@kerinokeefe</td>\n",
              "      <td>MandraRossa 2015 Zibibbo (Terre Siciliane)</td>\n",
              "      <td>Zibibbo</td>\n",
              "      <td>MandraRossa</td>\n",
              "    </tr>\n",
              "    <tr>\n",
              "      <th>103115</th>\n",
              "      <td>103115</td>\n",
              "      <td>US</td>\n",
              "      <td>The tannins are so fierce on this baby Caberne...</td>\n",
              "      <td>NaN</td>\n",
              "      <td>95</td>\n",
              "      <td>65.0</td>\n",
              "      <td>California</td>\n",
              "      <td>Howell Mountain</td>\n",
              "      <td>Napa</td>\n",
              "      <td>NaN</td>\n",
              "      <td>NaN</td>\n",
              "      <td>La Jota Vineyard 2009 Cabernet Sauvignon (Howe...</td>\n",
              "      <td>Cabernet Sauvignon</td>\n",
              "      <td>La Jota Vineyard</td>\n",
              "    </tr>\n",
              "    <tr>\n",
              "      <th>113218</th>\n",
              "      <td>113218</td>\n",
              "      <td>US</td>\n",
              "      <td>Gravenstein apple, honeysuckle and jasmine aro...</td>\n",
              "      <td>NaN</td>\n",
              "      <td>89</td>\n",
              "      <td>24.0</td>\n",
              "      <td>California</td>\n",
              "      <td>Paso Robles</td>\n",
              "      <td>Central Coast</td>\n",
              "      <td>Matt Kettmann</td>\n",
              "      <td>@mattkettmann</td>\n",
              "      <td>Broken Earth 2015 Grenache Blanc (Paso Robles)</td>\n",
              "      <td>Grenache Blanc</td>\n",
              "      <td>Broken Earth</td>\n",
              "    </tr>\n",
              "    <tr>\n",
              "      <th>118069</th>\n",
              "      <td>118069</td>\n",
              "      <td>US</td>\n",
              "      <td>The tannins are so fierce on this baby Caberne...</td>\n",
              "      <td>NaN</td>\n",
              "      <td>95</td>\n",
              "      <td>55.0</td>\n",
              "      <td>California</td>\n",
              "      <td>Howell Mountain</td>\n",
              "      <td>Napa</td>\n",
              "      <td>NaN</td>\n",
              "      <td>NaN</td>\n",
              "      <td>La Jota Vineyard 2009 Merlot (Howell Mountain)</td>\n",
              "      <td>Merlot</td>\n",
              "      <td>La Jota Vineyard</td>\n",
              "    </tr>\n",
              "    <tr>\n",
              "      <th>124931</th>\n",
              "      <td>124931</td>\n",
              "      <td>Greece</td>\n",
              "      <td>Aromas of citrus, melon and orange blossom sta...</td>\n",
              "      <td>NaN</td>\n",
              "      <td>89</td>\n",
              "      <td>22.0</td>\n",
              "      <td>Cephalonia</td>\n",
              "      <td>NaN</td>\n",
              "      <td>NaN</td>\n",
              "      <td>Susan Kostrzewa</td>\n",
              "      <td>@suskostrzewa</td>\n",
              "      <td>Gentilini 2015 Robola (Cephalonia)</td>\n",
              "      <td>Robola</td>\n",
              "      <td>Gentilini</td>\n",
              "    </tr>\n",
              "  </tbody>\n",
              "</table>\n",
              "</div>"
            ],
            "text/plain": [
              "        Unnamed: 0    country  ...             variety                 winery\n",
              "16162        16162      Italy  ...               Fiano           Villa Raiano\n",
              "21810        21810      Italy  ...           Carignano        Cantina Santadi\n",
              "26490        26490      Italy  ...           Garganega       Villa Canestrari\n",
              "31584        31584      Italy  ...           Red Blend               Argiolas\n",
              "33110        33110  Argentina  ...  Cabernet Sauvignon     Don Cristobal 1492\n",
              "33463        33463     Greece  ...          Chardonnay          Hatzimichalis\n",
              "36475        36475      Italy  ...          Pinot Nero             Ca'Ronesca\n",
              "37160        37160      Italy  ...        Nero d'Avola          Cantine Ermes\n",
              "51315        51315  Australia  ...  Cabernet Sauvignon        Château Tanunda\n",
              "52601        52601      Italy  ...         White Blend   Marchesi De Gregorio\n",
              "59358        59358         US  ...     Sauvignon Blanc  Chateau Ste. Michelle\n",
              "62186        62186      Italy  ...           Red Blend            Di Giovanna\n",
              "87797        87797      Italy  ...      Cabernet Franc                 Zorzon\n",
              "93839        93839      Italy  ...             Zibibbo            MandraRossa\n",
              "103115      103115         US  ...  Cabernet Sauvignon       La Jota Vineyard\n",
              "113218      113218         US  ...      Grenache Blanc           Broken Earth\n",
              "118069      118069         US  ...              Merlot       La Jota Vineyard\n",
              "124931      124931     Greece  ...              Robola              Gentilini\n",
              "\n",
              "[18 rows x 14 columns]"
            ]
          },
          "metadata": {
            "tags": []
          },
          "execution_count": 16
        }
      ]
    },
    {
      "cell_type": "code",
      "metadata": {
        "id": "RI0mdUDjqK4r",
        "outputId": "e9f3e1f8-8510-483f-97fb-bca75ee65880",
        "colab": {
          "base_uri": "https://localhost:8080/"
        }
      },
      "source": [
        "df.isna().sum()"
      ],
      "execution_count": 17,
      "outputs": [
        {
          "output_type": "execute_result",
          "data": {
            "text/plain": [
              "Unnamed: 0                   0\n",
              "country                     63\n",
              "description                  0\n",
              "designation              37465\n",
              "points                       0\n",
              "price                     8996\n",
              "province                    63\n",
              "region_1                 21247\n",
              "region_2                 79460\n",
              "taster_name              26244\n",
              "taster_twitter_handle    31213\n",
              "title                        0\n",
              "variety                      1\n",
              "winery                       0\n",
              "dtype: int64"
            ]
          },
          "metadata": {
            "tags": []
          },
          "execution_count": 17
        }
      ]
    },
    {
      "cell_type": "code",
      "metadata": {
        "id": "OXs7vETAx3C-"
      },
      "source": [
        "top40df = pd.DataFrame(df['variety'].value_counts().head(20))"
      ],
      "execution_count": 18,
      "outputs": []
    },
    {
      "cell_type": "code",
      "metadata": {
        "id": "kDoF-qH40xYx",
        "outputId": "e6a11679-eb53-4b06-c73b-9c6bd7d751c9",
        "colab": {
          "base_uri": "https://localhost:8080/",
          "height": 677
        }
      },
      "source": [
        "top40df"
      ],
      "execution_count": 19,
      "outputs": [
        {
          "output_type": "execute_result",
          "data": {
            "text/html": [
              "<div>\n",
              "<style scoped>\n",
              "    .dataframe tbody tr th:only-of-type {\n",
              "        vertical-align: middle;\n",
              "    }\n",
              "\n",
              "    .dataframe tbody tr th {\n",
              "        vertical-align: top;\n",
              "    }\n",
              "\n",
              "    .dataframe thead th {\n",
              "        text-align: right;\n",
              "    }\n",
              "</style>\n",
              "<table border=\"1\" class=\"dataframe\">\n",
              "  <thead>\n",
              "    <tr style=\"text-align: right;\">\n",
              "      <th></th>\n",
              "      <th>variety</th>\n",
              "    </tr>\n",
              "  </thead>\n",
              "  <tbody>\n",
              "    <tr>\n",
              "      <th>Pinot Noir</th>\n",
              "      <td>13272</td>\n",
              "    </tr>\n",
              "    <tr>\n",
              "      <th>Chardonnay</th>\n",
              "      <td>11753</td>\n",
              "    </tr>\n",
              "    <tr>\n",
              "      <th>Cabernet Sauvignon</th>\n",
              "      <td>9472</td>\n",
              "    </tr>\n",
              "    <tr>\n",
              "      <th>Red Blend</th>\n",
              "      <td>8946</td>\n",
              "    </tr>\n",
              "    <tr>\n",
              "      <th>Bordeaux-style Red Blend</th>\n",
              "      <td>6915</td>\n",
              "    </tr>\n",
              "    <tr>\n",
              "      <th>Riesling</th>\n",
              "      <td>5189</td>\n",
              "    </tr>\n",
              "    <tr>\n",
              "      <th>Sauvignon Blanc</th>\n",
              "      <td>4967</td>\n",
              "    </tr>\n",
              "    <tr>\n",
              "      <th>Syrah</th>\n",
              "      <td>4142</td>\n",
              "    </tr>\n",
              "    <tr>\n",
              "      <th>Rosé</th>\n",
              "      <td>3564</td>\n",
              "    </tr>\n",
              "    <tr>\n",
              "      <th>Merlot</th>\n",
              "      <td>3102</td>\n",
              "    </tr>\n",
              "    <tr>\n",
              "      <th>Nebbiolo</th>\n",
              "      <td>2804</td>\n",
              "    </tr>\n",
              "    <tr>\n",
              "      <th>Zinfandel</th>\n",
              "      <td>2714</td>\n",
              "    </tr>\n",
              "    <tr>\n",
              "      <th>Sangiovese</th>\n",
              "      <td>2707</td>\n",
              "    </tr>\n",
              "    <tr>\n",
              "      <th>Malbec</th>\n",
              "      <td>2652</td>\n",
              "    </tr>\n",
              "    <tr>\n",
              "      <th>Portuguese Red</th>\n",
              "      <td>2466</td>\n",
              "    </tr>\n",
              "    <tr>\n",
              "      <th>White Blend</th>\n",
              "      <td>2360</td>\n",
              "    </tr>\n",
              "    <tr>\n",
              "      <th>Sparkling Blend</th>\n",
              "      <td>2153</td>\n",
              "    </tr>\n",
              "    <tr>\n",
              "      <th>Tempranillo</th>\n",
              "      <td>1810</td>\n",
              "    </tr>\n",
              "    <tr>\n",
              "      <th>Rhône-style Red Blend</th>\n",
              "      <td>1471</td>\n",
              "    </tr>\n",
              "    <tr>\n",
              "      <th>Pinot Gris</th>\n",
              "      <td>1455</td>\n",
              "    </tr>\n",
              "  </tbody>\n",
              "</table>\n",
              "</div>"
            ],
            "text/plain": [
              "                          variety\n",
              "Pinot Noir                  13272\n",
              "Chardonnay                  11753\n",
              "Cabernet Sauvignon           9472\n",
              "Red Blend                    8946\n",
              "Bordeaux-style Red Blend     6915\n",
              "Riesling                     5189\n",
              "Sauvignon Blanc              4967\n",
              "Syrah                        4142\n",
              "Rosé                         3564\n",
              "Merlot                       3102\n",
              "Nebbiolo                     2804\n",
              "Zinfandel                    2714\n",
              "Sangiovese                   2707\n",
              "Malbec                       2652\n",
              "Portuguese Red               2466\n",
              "White Blend                  2360\n",
              "Sparkling Blend              2153\n",
              "Tempranillo                  1810\n",
              "Rhône-style Red Blend        1471\n",
              "Pinot Gris                   1455"
            ]
          },
          "metadata": {
            "tags": []
          },
          "execution_count": 19
        }
      ]
    },
    {
      "cell_type": "code",
      "metadata": {
        "id": "QSsRKfWwJjpq"
      },
      "source": [
        "newdf = df[df['variety'].isin(top40df.index)]"
      ],
      "execution_count": 20,
      "outputs": []
    },
    {
      "cell_type": "code",
      "metadata": {
        "id": "QZt28twL11VG",
        "outputId": "7fe5e3cd-c6fe-43de-df43-0a6c1e9595fb",
        "colab": {
          "base_uri": "https://localhost:8080/",
          "height": 288
        }
      },
      "source": [
        "# threshold of miniority variety to over sample (use sentences as document instead of the whole description)\n",
        "minority_threshold = 5000 \n",
        "\n",
        "# making a dataframe of the miniority classes\n",
        "minority_df = newdf[newdf['variety'].isin(top40df[top40df <  minority_threshold].dropna().index)]\n",
        "print(minority_df.shape)\n",
        "print(len(minority_df['variety'].unique()))\n",
        "minority_df.head(2)"
      ],
      "execution_count": 21,
      "outputs": [
        {
          "output_type": "stream",
          "text": [
            "(38367, 14)\n",
            "14\n"
          ],
          "name": "stdout"
        },
        {
          "output_type": "execute_result",
          "data": {
            "text/html": [
              "<div>\n",
              "<style scoped>\n",
              "    .dataframe tbody tr th:only-of-type {\n",
              "        vertical-align: middle;\n",
              "    }\n",
              "\n",
              "    .dataframe tbody tr th {\n",
              "        vertical-align: top;\n",
              "    }\n",
              "\n",
              "    .dataframe thead th {\n",
              "        text-align: right;\n",
              "    }\n",
              "</style>\n",
              "<table border=\"1\" class=\"dataframe\">\n",
              "  <thead>\n",
              "    <tr style=\"text-align: right;\">\n",
              "      <th></th>\n",
              "      <th>Unnamed: 0</th>\n",
              "      <th>country</th>\n",
              "      <th>description</th>\n",
              "      <th>designation</th>\n",
              "      <th>points</th>\n",
              "      <th>price</th>\n",
              "      <th>province</th>\n",
              "      <th>region_1</th>\n",
              "      <th>region_2</th>\n",
              "      <th>taster_name</th>\n",
              "      <th>taster_twitter_handle</th>\n",
              "      <th>title</th>\n",
              "      <th>variety</th>\n",
              "      <th>winery</th>\n",
              "    </tr>\n",
              "  </thead>\n",
              "  <tbody>\n",
              "    <tr>\n",
              "      <th>0</th>\n",
              "      <td>0</td>\n",
              "      <td>Italy</td>\n",
              "      <td>Aromas include tropical fruit, broom, brimston...</td>\n",
              "      <td>Vulkà Bianco</td>\n",
              "      <td>87</td>\n",
              "      <td>NaN</td>\n",
              "      <td>Sicily &amp; Sardinia</td>\n",
              "      <td>Etna</td>\n",
              "      <td>NaN</td>\n",
              "      <td>Kerin O’Keefe</td>\n",
              "      <td>@kerinokeefe</td>\n",
              "      <td>Nicosia 2013 Vulkà Bianco  (Etna)</td>\n",
              "      <td>White Blend</td>\n",
              "      <td>Nicosia</td>\n",
              "    </tr>\n",
              "    <tr>\n",
              "      <th>1</th>\n",
              "      <td>1</td>\n",
              "      <td>Portugal</td>\n",
              "      <td>This is ripe and fruity, a wine that is smooth...</td>\n",
              "      <td>Avidagos</td>\n",
              "      <td>87</td>\n",
              "      <td>15.0</td>\n",
              "      <td>Douro</td>\n",
              "      <td>NaN</td>\n",
              "      <td>NaN</td>\n",
              "      <td>Roger Voss</td>\n",
              "      <td>@vossroger</td>\n",
              "      <td>Quinta dos Avidagos 2011 Avidagos Red (Douro)</td>\n",
              "      <td>Portuguese Red</td>\n",
              "      <td>Quinta dos Avidagos</td>\n",
              "    </tr>\n",
              "  </tbody>\n",
              "</table>\n",
              "</div>"
            ],
            "text/plain": [
              "   Unnamed: 0   country  ...         variety               winery\n",
              "0           0     Italy  ...     White Blend              Nicosia\n",
              "1           1  Portugal  ...  Portuguese Red  Quinta dos Avidagos\n",
              "\n",
              "[2 rows x 14 columns]"
            ]
          },
          "metadata": {
            "tags": []
          },
          "execution_count": 21
        }
      ]
    },
    {
      "cell_type": "code",
      "metadata": {
        "id": "nmIIbGQ9NlxR",
        "outputId": "6ef0c024-0693-4a86-850a-52526ba82546",
        "colab": {
          "base_uri": "https://localhost:8080/"
        }
      },
      "source": [
        "import nltk\n",
        "nltk.download('punkt')"
      ],
      "execution_count": 22,
      "outputs": [
        {
          "output_type": "stream",
          "text": [
            "[nltk_data] Downloading package punkt to /root/nltk_data...\n",
            "[nltk_data]   Unzipping tokenizers/punkt.zip.\n"
          ],
          "name": "stdout"
        },
        {
          "output_type": "execute_result",
          "data": {
            "text/plain": [
              "True"
            ]
          },
          "metadata": {
            "tags": []
          },
          "execution_count": 22
        }
      ]
    },
    {
      "cell_type": "code",
      "metadata": {
        "id": "8AEKhrdlNOlr"
      },
      "source": [
        "from nltk.tokenize import sent_tokenize # importing useful library"
      ],
      "execution_count": 23,
      "outputs": []
    },
    {
      "cell_type": "code",
      "metadata": {
        "id": "CJtEZTSMNOpH"
      },
      "source": [
        "oversampled_miniority_lst = [] # empty list to store sentences as tokens miniority corpus\n",
        "\n",
        "# creating a function to use sentences as tokens for the miniority classes\n",
        "def over_sample_miniority(row):\n",
        "    doc_list = sent_tokenize(row['description'])\n",
        "    for sent in doc_list:\n",
        "        row['description'] = sent\n",
        "        oversampled_miniority_lst.append(list(row))"
      ],
      "execution_count": 24,
      "outputs": []
    },
    {
      "cell_type": "code",
      "metadata": {
        "id": "l0Kud8nFNOsb"
      },
      "source": [
        "minority_df.apply(over_sample_miniority, axis=1); # over sample the miniority classes"
      ],
      "execution_count": 25,
      "outputs": []
    },
    {
      "cell_type": "code",
      "metadata": {
        "id": "S9crvqOkNOva",
        "outputId": "da1f6d2f-4848-466a-8c68-859cee328aa5",
        "colab": {
          "base_uri": "https://localhost:8080/"
        }
      },
      "source": [
        "oversampled_miniority_lst[:4]"
      ],
      "execution_count": 26,
      "outputs": [
        {
          "output_type": "execute_result",
          "data": {
            "text/plain": [
              "[[0,\n",
              "  'Italy',\n",
              "  'Aromas include tropical fruit, broom, brimstone and dried herb.',\n",
              "  'Vulkà Bianco',\n",
              "  87,\n",
              "  nan,\n",
              "  'Sicily & Sardinia',\n",
              "  'Etna',\n",
              "  nan,\n",
              "  'Kerin O’Keefe',\n",
              "  '@kerinokeefe',\n",
              "  'Nicosia 2013 Vulkà Bianco  (Etna)',\n",
              "  'White Blend',\n",
              "  'Nicosia'],\n",
              " [0,\n",
              "  'Italy',\n",
              "  \"The palate isn't overly expressive, offering unripened apple, citrus and dried sage alongside brisk acidity.\",\n",
              "  'Vulkà Bianco',\n",
              "  87,\n",
              "  nan,\n",
              "  'Sicily & Sardinia',\n",
              "  'Etna',\n",
              "  nan,\n",
              "  'Kerin O’Keefe',\n",
              "  '@kerinokeefe',\n",
              "  'Nicosia 2013 Vulkà Bianco  (Etna)',\n",
              "  'White Blend',\n",
              "  'Nicosia'],\n",
              " [1,\n",
              "  'Portugal',\n",
              "  'This is ripe and fruity, a wine that is smooth while still structured.',\n",
              "  'Avidagos',\n",
              "  87,\n",
              "  15.0,\n",
              "  'Douro',\n",
              "  nan,\n",
              "  nan,\n",
              "  'Roger Voss',\n",
              "  '@vossroger',\n",
              "  'Quinta dos Avidagos 2011 Avidagos Red (Douro)',\n",
              "  'Portuguese Red',\n",
              "  'Quinta dos Avidagos'],\n",
              " [1,\n",
              "  'Portugal',\n",
              "  'Firm tannins are filled out with juicy red berry fruits and freshened with acidity.',\n",
              "  'Avidagos',\n",
              "  87,\n",
              "  15.0,\n",
              "  'Douro',\n",
              "  nan,\n",
              "  nan,\n",
              "  'Roger Voss',\n",
              "  '@vossroger',\n",
              "  'Quinta dos Avidagos 2011 Avidagos Red (Douro)',\n",
              "  'Portuguese Red',\n",
              "  'Quinta dos Avidagos']]"
            ]
          },
          "metadata": {
            "tags": []
          },
          "execution_count": 26
        }
      ]
    },
    {
      "cell_type": "code",
      "metadata": {
        "id": "Vn2OGOc2NOy4",
        "outputId": "1ca40d60-b30a-4d3e-830a-4ce6b6ba7a9a",
        "colab": {
          "base_uri": "https://localhost:8080/",
          "height": 252
        }
      },
      "source": [
        "# converts oversampled_miniority_lst to a dataframe\n",
        "oversampled_miniority_df = pd.DataFrame(oversampled_miniority_lst, columns=minority_df.columns)\n",
        "print(oversampled_miniority_df.shape)\n",
        "oversampled_miniority_df.head(2)"
      ],
      "execution_count": 27,
      "outputs": [
        {
          "output_type": "stream",
          "text": [
            "(104101, 14)\n"
          ],
          "name": "stdout"
        },
        {
          "output_type": "execute_result",
          "data": {
            "text/html": [
              "<div>\n",
              "<style scoped>\n",
              "    .dataframe tbody tr th:only-of-type {\n",
              "        vertical-align: middle;\n",
              "    }\n",
              "\n",
              "    .dataframe tbody tr th {\n",
              "        vertical-align: top;\n",
              "    }\n",
              "\n",
              "    .dataframe thead th {\n",
              "        text-align: right;\n",
              "    }\n",
              "</style>\n",
              "<table border=\"1\" class=\"dataframe\">\n",
              "  <thead>\n",
              "    <tr style=\"text-align: right;\">\n",
              "      <th></th>\n",
              "      <th>Unnamed: 0</th>\n",
              "      <th>country</th>\n",
              "      <th>description</th>\n",
              "      <th>designation</th>\n",
              "      <th>points</th>\n",
              "      <th>price</th>\n",
              "      <th>province</th>\n",
              "      <th>region_1</th>\n",
              "      <th>region_2</th>\n",
              "      <th>taster_name</th>\n",
              "      <th>taster_twitter_handle</th>\n",
              "      <th>title</th>\n",
              "      <th>variety</th>\n",
              "      <th>winery</th>\n",
              "    </tr>\n",
              "  </thead>\n",
              "  <tbody>\n",
              "    <tr>\n",
              "      <th>0</th>\n",
              "      <td>0</td>\n",
              "      <td>Italy</td>\n",
              "      <td>Aromas include tropical fruit, broom, brimston...</td>\n",
              "      <td>Vulkà Bianco</td>\n",
              "      <td>87</td>\n",
              "      <td>NaN</td>\n",
              "      <td>Sicily &amp; Sardinia</td>\n",
              "      <td>Etna</td>\n",
              "      <td>NaN</td>\n",
              "      <td>Kerin O’Keefe</td>\n",
              "      <td>@kerinokeefe</td>\n",
              "      <td>Nicosia 2013 Vulkà Bianco  (Etna)</td>\n",
              "      <td>White Blend</td>\n",
              "      <td>Nicosia</td>\n",
              "    </tr>\n",
              "    <tr>\n",
              "      <th>1</th>\n",
              "      <td>0</td>\n",
              "      <td>Italy</td>\n",
              "      <td>The palate isn't overly expressive, offering u...</td>\n",
              "      <td>Vulkà Bianco</td>\n",
              "      <td>87</td>\n",
              "      <td>NaN</td>\n",
              "      <td>Sicily &amp; Sardinia</td>\n",
              "      <td>Etna</td>\n",
              "      <td>NaN</td>\n",
              "      <td>Kerin O’Keefe</td>\n",
              "      <td>@kerinokeefe</td>\n",
              "      <td>Nicosia 2013 Vulkà Bianco  (Etna)</td>\n",
              "      <td>White Blend</td>\n",
              "      <td>Nicosia</td>\n",
              "    </tr>\n",
              "  </tbody>\n",
              "</table>\n",
              "</div>"
            ],
            "text/plain": [
              "   Unnamed: 0 country  ...      variety   winery\n",
              "0           0   Italy  ...  White Blend  Nicosia\n",
              "1           0   Italy  ...  White Blend  Nicosia\n",
              "\n",
              "[2 rows x 14 columns]"
            ]
          },
          "metadata": {
            "tags": []
          },
          "execution_count": 27
        }
      ]
    },
    {
      "cell_type": "code",
      "metadata": {
        "id": "EtjtCLp3NO2E",
        "outputId": "cdc76cc5-c8bd-4e77-cd7d-7e9e33a5a998",
        "colab": {
          "base_uri": "https://localhost:8080/",
          "height": 304
        }
      },
      "source": [
        "\n",
        "\n",
        "# selecting majority classes as a dataframe to concatenate to oversampled_miniority_lst\n",
        "majority_df = newdf[newdf['variety'].isin(top40df[top40df >= minority_threshold].dropna().index)]\n",
        "\n",
        "# concatenates majority_df to oversampled_miniority_lst\n",
        "balanced_df = pd.concat([majority_df, oversampled_miniority_df]) \n",
        "balanced_df = balanced_df.reset_index().drop('index', axis=1) # resets index\n",
        "print(balanced_df.shape)\n",
        "balanced_df.head(2)\n",
        "\n"
      ],
      "execution_count": 28,
      "outputs": [
        {
          "output_type": "stream",
          "text": [
            "(159648, 14)\n"
          ],
          "name": "stdout"
        },
        {
          "output_type": "execute_result",
          "data": {
            "text/html": [
              "<div>\n",
              "<style scoped>\n",
              "    .dataframe tbody tr th:only-of-type {\n",
              "        vertical-align: middle;\n",
              "    }\n",
              "\n",
              "    .dataframe tbody tr th {\n",
              "        vertical-align: top;\n",
              "    }\n",
              "\n",
              "    .dataframe thead th {\n",
              "        text-align: right;\n",
              "    }\n",
              "</style>\n",
              "<table border=\"1\" class=\"dataframe\">\n",
              "  <thead>\n",
              "    <tr style=\"text-align: right;\">\n",
              "      <th></th>\n",
              "      <th>Unnamed: 0</th>\n",
              "      <th>country</th>\n",
              "      <th>description</th>\n",
              "      <th>designation</th>\n",
              "      <th>points</th>\n",
              "      <th>price</th>\n",
              "      <th>province</th>\n",
              "      <th>region_1</th>\n",
              "      <th>region_2</th>\n",
              "      <th>taster_name</th>\n",
              "      <th>taster_twitter_handle</th>\n",
              "      <th>title</th>\n",
              "      <th>variety</th>\n",
              "      <th>winery</th>\n",
              "    </tr>\n",
              "  </thead>\n",
              "  <tbody>\n",
              "    <tr>\n",
              "      <th>0</th>\n",
              "      <td>3</td>\n",
              "      <td>US</td>\n",
              "      <td>Pineapple rind, lemon pith and orange blossom ...</td>\n",
              "      <td>Reserve Late Harvest</td>\n",
              "      <td>87</td>\n",
              "      <td>13.0</td>\n",
              "      <td>Michigan</td>\n",
              "      <td>Lake Michigan Shore</td>\n",
              "      <td>NaN</td>\n",
              "      <td>Alexander Peartree</td>\n",
              "      <td>NaN</td>\n",
              "      <td>St. Julian 2013 Reserve Late Harvest Riesling ...</td>\n",
              "      <td>Riesling</td>\n",
              "      <td>St. Julian</td>\n",
              "    </tr>\n",
              "    <tr>\n",
              "      <th>1</th>\n",
              "      <td>4</td>\n",
              "      <td>US</td>\n",
              "      <td>Much like the regular bottling from 2012, this...</td>\n",
              "      <td>Vintner's Reserve Wild Child Block</td>\n",
              "      <td>87</td>\n",
              "      <td>65.0</td>\n",
              "      <td>Oregon</td>\n",
              "      <td>Willamette Valley</td>\n",
              "      <td>Willamette Valley</td>\n",
              "      <td>Paul Gregutt</td>\n",
              "      <td>@paulgwine</td>\n",
              "      <td>Sweet Cheeks 2012 Vintner's Reserve Wild Child...</td>\n",
              "      <td>Pinot Noir</td>\n",
              "      <td>Sweet Cheeks</td>\n",
              "    </tr>\n",
              "  </tbody>\n",
              "</table>\n",
              "</div>"
            ],
            "text/plain": [
              "   Unnamed: 0 country  ...     variety        winery\n",
              "0           3      US  ...    Riesling    St. Julian\n",
              "1           4      US  ...  Pinot Noir  Sweet Cheeks\n",
              "\n",
              "[2 rows x 14 columns]"
            ]
          },
          "metadata": {
            "tags": []
          },
          "execution_count": 28
        }
      ]
    },
    {
      "cell_type": "code",
      "metadata": {
        "id": "Dt12oqFuPdNC"
      },
      "source": [
        "balanced_df.drop('Unnamed: 0', inplace=True, axis=1)"
      ],
      "execution_count": 29,
      "outputs": []
    },
    {
      "cell_type": "code",
      "metadata": {
        "id": "ntemhAo23BO5",
        "outputId": "52c63b1f-e739-48ba-b286-146812e507bd",
        "colab": {
          "base_uri": "https://localhost:8080/"
        }
      },
      "source": [
        "balanced_df.isna().sum()"
      ],
      "execution_count": 30,
      "outputs": [
        {
          "output_type": "execute_result",
          "data": {
            "text/plain": [
              "country                     69\n",
              "description                  0\n",
              "designation              43512\n",
              "points                       0\n",
              "price                     9325\n",
              "province                    69\n",
              "region_1                 25858\n",
              "region_2                 95561\n",
              "taster_name              30409\n",
              "taster_twitter_handle    35171\n",
              "title                        0\n",
              "variety                      0\n",
              "winery                       0\n",
              "dtype: int64"
            ]
          },
          "metadata": {
            "tags": []
          },
          "execution_count": 30
        }
      ]
    },
    {
      "cell_type": "code",
      "metadata": {
        "id": "6zb4f_w29EP7"
      },
      "source": [
        "balanced_df['country'].replace({'US':'United States of America'}, inplace=True)"
      ],
      "execution_count": 31,
      "outputs": []
    },
    {
      "cell_type": "code",
      "metadata": {
        "id": "hpD5RXai9gj3",
        "outputId": "b2ed8840-ba22-4198-d6d2-9f6d24a087b2",
        "colab": {
          "base_uri": "https://localhost:8080/",
          "height": 449
        }
      },
      "source": [
        "balanced_df.head()"
      ],
      "execution_count": 32,
      "outputs": [
        {
          "output_type": "execute_result",
          "data": {
            "text/html": [
              "<div>\n",
              "<style scoped>\n",
              "    .dataframe tbody tr th:only-of-type {\n",
              "        vertical-align: middle;\n",
              "    }\n",
              "\n",
              "    .dataframe tbody tr th {\n",
              "        vertical-align: top;\n",
              "    }\n",
              "\n",
              "    .dataframe thead th {\n",
              "        text-align: right;\n",
              "    }\n",
              "</style>\n",
              "<table border=\"1\" class=\"dataframe\">\n",
              "  <thead>\n",
              "    <tr style=\"text-align: right;\">\n",
              "      <th></th>\n",
              "      <th>country</th>\n",
              "      <th>description</th>\n",
              "      <th>designation</th>\n",
              "      <th>points</th>\n",
              "      <th>price</th>\n",
              "      <th>province</th>\n",
              "      <th>region_1</th>\n",
              "      <th>region_2</th>\n",
              "      <th>taster_name</th>\n",
              "      <th>taster_twitter_handle</th>\n",
              "      <th>title</th>\n",
              "      <th>variety</th>\n",
              "      <th>winery</th>\n",
              "    </tr>\n",
              "  </thead>\n",
              "  <tbody>\n",
              "    <tr>\n",
              "      <th>0</th>\n",
              "      <td>United States of America</td>\n",
              "      <td>Pineapple rind, lemon pith and orange blossom ...</td>\n",
              "      <td>Reserve Late Harvest</td>\n",
              "      <td>87</td>\n",
              "      <td>13.0</td>\n",
              "      <td>Michigan</td>\n",
              "      <td>Lake Michigan Shore</td>\n",
              "      <td>NaN</td>\n",
              "      <td>Alexander Peartree</td>\n",
              "      <td>NaN</td>\n",
              "      <td>St. Julian 2013 Reserve Late Harvest Riesling ...</td>\n",
              "      <td>Riesling</td>\n",
              "      <td>St. Julian</td>\n",
              "    </tr>\n",
              "    <tr>\n",
              "      <th>1</th>\n",
              "      <td>United States of America</td>\n",
              "      <td>Much like the regular bottling from 2012, this...</td>\n",
              "      <td>Vintner's Reserve Wild Child Block</td>\n",
              "      <td>87</td>\n",
              "      <td>65.0</td>\n",
              "      <td>Oregon</td>\n",
              "      <td>Willamette Valley</td>\n",
              "      <td>Willamette Valley</td>\n",
              "      <td>Paul Gregutt</td>\n",
              "      <td>@paulgwine</td>\n",
              "      <td>Sweet Cheeks 2012 Vintner's Reserve Wild Child...</td>\n",
              "      <td>Pinot Noir</td>\n",
              "      <td>Sweet Cheeks</td>\n",
              "    </tr>\n",
              "    <tr>\n",
              "      <th>2</th>\n",
              "      <td>United States of America</td>\n",
              "      <td>Soft, supple plum envelopes an oaky structure ...</td>\n",
              "      <td>Mountain Cuvée</td>\n",
              "      <td>87</td>\n",
              "      <td>19.0</td>\n",
              "      <td>California</td>\n",
              "      <td>Napa Valley</td>\n",
              "      <td>Napa</td>\n",
              "      <td>Virginie Boone</td>\n",
              "      <td>@vboone</td>\n",
              "      <td>Kirkland Signature 2011 Mountain Cuvée Caberne...</td>\n",
              "      <td>Cabernet Sauvignon</td>\n",
              "      <td>Kirkland Signature</td>\n",
              "    </tr>\n",
              "    <tr>\n",
              "      <th>3</th>\n",
              "      <td>United States of America</td>\n",
              "      <td>Slightly reduced, this wine offers a chalky, t...</td>\n",
              "      <td>NaN</td>\n",
              "      <td>87</td>\n",
              "      <td>34.0</td>\n",
              "      <td>California</td>\n",
              "      <td>Alexander Valley</td>\n",
              "      <td>Sonoma</td>\n",
              "      <td>Virginie Boone</td>\n",
              "      <td>@vboone</td>\n",
              "      <td>Louis M. Martini 2012 Cabernet Sauvignon (Alex...</td>\n",
              "      <td>Cabernet Sauvignon</td>\n",
              "      <td>Louis M. Martini</td>\n",
              "    </tr>\n",
              "    <tr>\n",
              "      <th>4</th>\n",
              "      <td>United States of America</td>\n",
              "      <td>Building on 150 years and six generations of w...</td>\n",
              "      <td>NaN</td>\n",
              "      <td>87</td>\n",
              "      <td>12.0</td>\n",
              "      <td>California</td>\n",
              "      <td>Central Coast</td>\n",
              "      <td>Central Coast</td>\n",
              "      <td>Matt Kettmann</td>\n",
              "      <td>@mattkettmann</td>\n",
              "      <td>Mirassou 2012 Chardonnay (Central Coast)</td>\n",
              "      <td>Chardonnay</td>\n",
              "      <td>Mirassou</td>\n",
              "    </tr>\n",
              "  </tbody>\n",
              "</table>\n",
              "</div>"
            ],
            "text/plain": [
              "                    country  ...              winery\n",
              "0  United States of America  ...          St. Julian\n",
              "1  United States of America  ...        Sweet Cheeks\n",
              "2  United States of America  ...  Kirkland Signature\n",
              "3  United States of America  ...    Louis M. Martini\n",
              "4  United States of America  ...            Mirassou\n",
              "\n",
              "[5 rows x 13 columns]"
            ]
          },
          "metadata": {
            "tags": []
          },
          "execution_count": 32
        }
      ]
    },
    {
      "cell_type": "code",
      "metadata": {
        "id": "Qoa6MN5R-S4l",
        "outputId": "a12c62dc-94e9-4d44-fd02-e20bc562a6f8",
        "colab": {
          "base_uri": "https://localhost:8080/"
        }
      },
      "source": [
        "balanced_variety = balanced_df['variety'].value_counts() # gets a Series of the variety count in balanced_df\n",
        "balanced_variety"
      ],
      "execution_count": 33,
      "outputs": [
        {
          "output_type": "execute_result",
          "data": {
            "text/plain": [
              "Pinot Noir                  13272\n",
              "Sauvignon Blanc             12801\n",
              "Chardonnay                  11753\n",
              "Syrah                       11128\n",
              "Cabernet Sauvignon           9472\n",
              "Rosé                         9207\n",
              "Red Blend                    8946\n",
              "Nebbiolo                     8107\n",
              "Malbec                       8047\n",
              "Merlot                       7874\n",
              "Portuguese Red               7734\n",
              "Sangiovese                   7432\n",
              "Bordeaux-style Red Blend     6915\n",
              "Zinfandel                    6512\n",
              "White Blend                  6034\n",
              "Sparkling Blend              5740\n",
              "Tempranillo                  5552\n",
              "Riesling                     5189\n",
              "Rhône-style Red Blend        3972\n",
              "Pinot Gris                   3961\n",
              "Name: variety, dtype: int64"
            ]
          },
          "metadata": {
            "tags": []
          },
          "execution_count": 33
        }
      ]
    },
    {
      "cell_type": "code",
      "metadata": {
        "id": "7Q6HiVQOAxoB"
      },
      "source": [
        "newdf = balanced_df.copy()"
      ],
      "execution_count": 34,
      "outputs": []
    },
    {
      "cell_type": "code",
      "metadata": {
        "id": "5eKJr97PA2pK"
      },
      "source": [
        "newdf.fillna('', inplace=True)"
      ],
      "execution_count": 35,
      "outputs": []
    },
    {
      "cell_type": "code",
      "metadata": {
        "id": "8WWquNwY3fzM"
      },
      "source": [
        "balanced_df['not vintage'] = newdf['country'] + ' ' + newdf['designation'] + ' ' + newdf['province']\\\n",
        "   + ' ' + newdf['region_1'] + ' ' + newdf['region_2'] + ' ' + newdf['winery']"
      ],
      "execution_count": 36,
      "outputs": []
    },
    {
      "cell_type": "code",
      "metadata": {
        "id": "iIBS8C2r_1Mg"
      },
      "source": [
        "balanced_df['sentences'] = balanced_df['description'] + ' ' + balanced_df['not vintage']"
      ],
      "execution_count": 37,
      "outputs": []
    },
    {
      "cell_type": "code",
      "metadata": {
        "id": "PXU1Icz1boYl",
        "outputId": "4c0c6051-a956-4e24-e663-cfc7d9ac6b2b",
        "colab": {
          "base_uri": "https://localhost:8080/",
          "height": 375
        }
      },
      "source": [
        "balanced_df.head(2)"
      ],
      "execution_count": 81,
      "outputs": [
        {
          "output_type": "execute_result",
          "data": {
            "text/html": [
              "<div>\n",
              "<style scoped>\n",
              "    .dataframe tbody tr th:only-of-type {\n",
              "        vertical-align: middle;\n",
              "    }\n",
              "\n",
              "    .dataframe tbody tr th {\n",
              "        vertical-align: top;\n",
              "    }\n",
              "\n",
              "    .dataframe thead th {\n",
              "        text-align: right;\n",
              "    }\n",
              "</style>\n",
              "<table border=\"1\" class=\"dataframe\">\n",
              "  <thead>\n",
              "    <tr style=\"text-align: right;\">\n",
              "      <th></th>\n",
              "      <th>country</th>\n",
              "      <th>description</th>\n",
              "      <th>designation</th>\n",
              "      <th>points</th>\n",
              "      <th>price</th>\n",
              "      <th>province</th>\n",
              "      <th>region_1</th>\n",
              "      <th>region_2</th>\n",
              "      <th>taster_name</th>\n",
              "      <th>taster_twitter_handle</th>\n",
              "      <th>title</th>\n",
              "      <th>variety</th>\n",
              "      <th>winery</th>\n",
              "      <th>not vintage</th>\n",
              "      <th>sentences</th>\n",
              "    </tr>\n",
              "  </thead>\n",
              "  <tbody>\n",
              "    <tr>\n",
              "      <th>0</th>\n",
              "      <td>United States of America</td>\n",
              "      <td>Pineapple rind, lemon pith and orange blossom ...</td>\n",
              "      <td>Reserve Late Harvest</td>\n",
              "      <td>87</td>\n",
              "      <td>13.0</td>\n",
              "      <td>Michigan</td>\n",
              "      <td>Lake Michigan Shore</td>\n",
              "      <td>NaN</td>\n",
              "      <td>Alexander Peartree</td>\n",
              "      <td>NaN</td>\n",
              "      <td>St. Julian 2013 Reserve Late Harvest Riesling ...</td>\n",
              "      <td>Riesling</td>\n",
              "      <td>St. Julian</td>\n",
              "      <td>United States of America Reserve Late Harvest ...</td>\n",
              "      <td>Pineapple rind, lemon pith and orange blossom ...</td>\n",
              "    </tr>\n",
              "    <tr>\n",
              "      <th>1</th>\n",
              "      <td>United States of America</td>\n",
              "      <td>Much like the regular bottling from 2012, this...</td>\n",
              "      <td>Vintner's Reserve Wild Child Block</td>\n",
              "      <td>87</td>\n",
              "      <td>65.0</td>\n",
              "      <td>Oregon</td>\n",
              "      <td>Willamette Valley</td>\n",
              "      <td>Willamette Valley</td>\n",
              "      <td>Paul Gregutt</td>\n",
              "      <td>@paulgwine</td>\n",
              "      <td>Sweet Cheeks 2012 Vintner's Reserve Wild Child...</td>\n",
              "      <td>Pinot Noir</td>\n",
              "      <td>Sweet Cheeks</td>\n",
              "      <td>United States of America Vintner's Reserve Wil...</td>\n",
              "      <td>Much like the regular bottling from 2012, this...</td>\n",
              "    </tr>\n",
              "  </tbody>\n",
              "</table>\n",
              "</div>"
            ],
            "text/plain": [
              "                    country  ...                                          sentences\n",
              "0  United States of America  ...  Pineapple rind, lemon pith and orange blossom ...\n",
              "1  United States of America  ...  Much like the regular bottling from 2012, this...\n",
              "\n",
              "[2 rows x 15 columns]"
            ]
          },
          "metadata": {
            "tags": []
          },
          "execution_count": 81
        }
      ]
    },
    {
      "cell_type": "markdown",
      "metadata": {
        "id": "xI_zYydOIVWz"
      },
      "source": [
        "# Loading spacy"
      ]
    },
    {
      "cell_type": "code",
      "metadata": {
        "id": "C9kul1wzcFSO"
      },
      "source": [
        "nlp = spacy.load('en', disable=['tagger', 'parser', 'ner'])\n",
        "spacy_stop_words = spacy.lang.en.STOP_WORDS # getting spacy's stop-words"
      ],
      "execution_count": 39,
      "outputs": []
    },
    {
      "cell_type": "code",
      "metadata": {
        "id": "gKLWxRz3DSTV"
      },
      "source": [
        "#Stopwords list from https://github.com/Yoast/YoastSEO.js/blob/develop/src/config/stopwords.js\n",
        "# Convert it to a Python list and paste it here\n",
        "stopwords = [ \"a\", \"about\", \"above\", \"after\", \"again\", \"against\", \"all\", \"am\", \"an\", \"and\", \"any\", \"are\", \"as\", \"at\", \"be\", \"because\", \"been\", \"before\", \"being\", \"below\", \"between\", \"both\", \"but\", \"by\", \"could\", \"did\", \"do\", \"does\", \"doing\", \"down\", \"during\", \"each\", \"few\", \"for\", \"from\", \"further\", \"had\", \"has\", \"have\", \"having\", \"he\", \"he'd\", \"he'll\", \"he's\", \"her\", \"here\", \"here's\", \"hers\", \"herself\", \"him\", \"himself\", \"his\", \"how\", \"how's\", \"i\", \"i'd\", \"i'll\", \"i'm\", \"i've\", \"if\", \"in\", \"into\", \"is\", \"it\", \"it's\", \"its\", \"itself\", \"let's\", \"me\", \"more\", \"most\", \"my\", \"myself\", \"nor\", \"of\", \"on\", \"once\", \"only\", \"or\", \"other\", \"ought\", \"our\", \"ours\", \"ourselves\", \"out\", \"over\", \"own\", \"same\", \"she\", \"she'd\", \"she'll\", \"she's\", \"should\", \"so\", \"some\", \"such\", \"than\", \"that\", \"that's\", \"the\", \"their\", \"theirs\", \"them\", \"themselves\", \"then\", \"there\", \"there's\", \"these\", \"they\", \"they'd\", \"they'll\", \"they're\", \"they've\", \"this\", \"those\", \"through\", \"to\", \"too\", \"under\", \"until\", \"up\", \"very\", \"was\", \"we\", \"we'd\", \"we'll\", \"we're\", \"we've\", \"were\", \"what\", \"what's\", \"when\", \"when's\", \"where\", \"where's\", \"which\", \"while\", \"who\", \"who's\", \"whom\", \"why\", \"why's\", \"with\", \"would\", \"you\", \"you'd\", \"you'll\", \"you're\", \"you've\", \"your\", \"yours\", \"yourself\", \"yourselves\" ]"
      ],
      "execution_count": 40,
      "outputs": []
    },
    {
      "cell_type": "code",
      "metadata": {
        "id": "pTPuxmA6dLI0",
        "outputId": "bcb0ba5c-a00c-4771-a99c-480f1536e5b8",
        "colab": {
          "base_uri": "https://localhost:8080/"
        }
      },
      "source": [
        "type(spacy_stop_words)"
      ],
      "execution_count": 41,
      "outputs": [
        {
          "output_type": "execute_result",
          "data": {
            "text/plain": [
              "set"
            ]
          },
          "metadata": {
            "tags": []
          },
          "execution_count": 41
        }
      ]
    },
    {
      "cell_type": "code",
      "metadata": {
        "id": "uszi_qnvqbWN"
      },
      "source": [
        "odd_stop = ['-pron-', '10', '12', 'aah', 'aa', 'ab', 'aaa', 'aand', '16', '2', '20', '30', '4', '40', '5', '6', '7', '8', '9']"
      ],
      "execution_count": 43,
      "outputs": []
    },
    {
      "cell_type": "code",
      "metadata": {
        "id": "Pc5Dz9Wu7CF9"
      },
      "source": [
        "stop_words_lemma = {word.lemma_.lower() for word in nlp(' '.join(stopwords))}"
      ],
      "execution_count": 44,
      "outputs": []
    },
    {
      "cell_type": "code",
      "metadata": {
        "id": "iB5iwTmIcwsO"
      },
      "source": [
        "stopwords = list(set(list(spacy_stop_words) + stopwords + odd_stop + list(stop_words_lemma)))"
      ],
      "execution_count": 45,
      "outputs": []
    },
    {
      "cell_type": "code",
      "metadata": {
        "id": "Tzi9LpNz7kH4"
      },
      "source": [
        "# defining tokenzer function to tokenize the lower case lemma of documents in a corpus and \n",
        "# filter out stop-words  \n",
        "def tokenizer_spacy(text):\n",
        "    return [word.lemma_.lower() for word in nlp(text) if word.is_alpha and word.lemma_.lower() not in stopwords]\n",
        "\n"
      ],
      "execution_count": 46,
      "outputs": []
    },
    {
      "cell_type": "code",
      "metadata": {
        "id": "PScQeiUFKXxx"
      },
      "source": [
        "from sklearn.preprocessing import LabelEncoder\n",
        "from sklearn.model_selection import train_test_split, StratifiedKFold, RepeatedStratifiedKFold"
      ],
      "execution_count": 47,
      "outputs": []
    },
    {
      "cell_type": "code",
      "metadata": {
        "id": "NJklv5vBLRuV"
      },
      "source": [
        "sentences = balanced_df['sentences']\n",
        "labels = balanced_df['variety']"
      ],
      "execution_count": 48,
      "outputs": []
    },
    {
      "cell_type": "code",
      "metadata": {
        "id": "ogwCiJ5fKX1t"
      },
      "source": [
        "encode = LabelEncoder()\n",
        "labels = encode.fit_transform(labels)"
      ],
      "execution_count": 49,
      "outputs": []
    },
    {
      "cell_type": "code",
      "metadata": {
        "id": "1RqClFxdBu2a"
      },
      "source": [
        "embedding_dim = 300\n",
        "max_length = 90\n",
        "trunc_type='post'\n",
        "padding_type='post'\n",
        "oov_tok = \"<OOV>\"\n",
        "\n",
        "senten = []\n",
        "\n",
        "for sentence in sentences:\n",
        "  for word in stopwords:\n",
        "    token = \" \" + word + \" \"\n",
        "    sentence = sentence.lower().replace(token, \" \")\n",
        "    sentence = sentence.replace(\"  \", \" \")\n",
        "    sentence = sentence.replace(\"\\xa0\", \" \")\n",
        "  senten.append(sentence)\n",
        "\n",
        "senten = [word for word in senten if word not in stopwords]"
      ],
      "execution_count": 144,
      "outputs": []
    },
    {
      "cell_type": "code",
      "metadata": {
        "id": "HrsoGMCp63WM"
      },
      "source": [
        "# tokenize (lemmatize and filter stop words) corpus \n",
        "senten = [' '.join(tokenizer_spacy(doc)) for doc in senten]"
      ],
      "execution_count": 145,
      "outputs": []
    },
    {
      "cell_type": "code",
      "metadata": {
        "id": "41qiTqTTeoet",
        "outputId": "818cb3d8-3a48-409c-8890-263edfe4faa6",
        "colab": {
          "base_uri": "https://localhost:8080/",
          "height": 55
        }
      },
      "source": [
        "balanced_df['sentences'][:2].iloc[0]"
      ],
      "execution_count": 146,
      "outputs": [
        {
          "output_type": "execute_result",
          "data": {
            "application/vnd.google.colaboratory.intrinsic+json": {
              "type": "string"
            },
            "text/plain": [
              "'Pineapple rind, lemon pith and orange blossom start off the aromas. The palate is a bit more opulent, with notes of honey-drizzled guava and mango giving way to a slightly astringent, semidry finish. United States of America Reserve Late Harvest Michigan Lake Michigan Shore  St. Julian'"
            ]
          },
          "metadata": {
            "tags": []
          },
          "execution_count": 146
        }
      ]
    },
    {
      "cell_type": "code",
      "metadata": {
        "id": "1Ns4hfJKEh9Y",
        "outputId": "00b0e969-00cf-4d52-f13f-1e3242d0fb8c",
        "colab": {
          "base_uri": "https://localhost:8080/",
          "height": 55
        }
      },
      "source": [
        "senten[0]"
      ],
      "execution_count": 147,
      "outputs": [
        {
          "output_type": "execute_result",
          "data": {
            "application/vnd.google.colaboratory.intrinsic+json": {
              "type": "string"
            },
            "text/plain": [
              "'pineapple rind lemon pith orange blossom start aroma palate bite opulent note honey drizzle guava mango way slightly astringent semidry finish unite state america reserve late harvest michigan lake michigan shore st julian'"
            ]
          },
          "metadata": {
            "tags": []
          },
          "execution_count": 147
        }
      ]
    },
    {
      "cell_type": "code",
      "metadata": {
        "id": "_B0bNIuBFnz8",
        "outputId": "64a05454-6a9a-4d8f-cb68-088644730d56",
        "colab": {
          "base_uri": "https://localhost:8080/",
          "height": 55
        }
      },
      "source": [
        "sentences[:2].iloc[0]"
      ],
      "execution_count": 148,
      "outputs": [
        {
          "output_type": "execute_result",
          "data": {
            "application/vnd.google.colaboratory.intrinsic+json": {
              "type": "string"
            },
            "text/plain": [
              "'Pineapple rind, lemon pith and orange blossom start off the aromas. The palate is a bit more opulent, with notes of honey-drizzled guava and mango giving way to a slightly astringent, semidry finish. United States of America Reserve Late Harvest Michigan Lake Michigan Shore  St. Julian'"
            ]
          },
          "metadata": {
            "tags": []
          },
          "execution_count": 148
        }
      ]
    },
    {
      "cell_type": "code",
      "metadata": {
        "id": "DB96K7b-CPME"
      },
      "source": [
        "tokenizer = Tokenizer(oov_token=oov_tok)\n",
        "tokenizer.fit_on_texts(senten)\n",
        "\n",
        "word_index = tokenizer.word_index"
      ],
      "execution_count": 149,
      "outputs": []
    },
    {
      "cell_type": "code",
      "metadata": {
        "id": "kPs5ghXqClla"
      },
      "source": [
        "vocab_size = len(word_index)"
      ],
      "execution_count": 150,
      "outputs": []
    },
    {
      "cell_type": "code",
      "metadata": {
        "id": "7ZzBZQY-fBPd",
        "outputId": "b52ddb55-4ff7-4286-8bef-4098c440d1b2",
        "colab": {
          "base_uri": "https://localhost:8080/"
        }
      },
      "source": [
        "vocab_size"
      ],
      "execution_count": 151,
      "outputs": [
        {
          "output_type": "execute_result",
          "data": {
            "text/plain": [
              "37725"
            ]
          },
          "metadata": {
            "tags": []
          },
          "execution_count": 151
        }
      ]
    },
    {
      "cell_type": "code",
      "metadata": {
        "id": "DS_rznf3EU8I"
      },
      "source": [
        "training_sequences = tokenizer.texts_to_sequences(senten)\n",
        "training_padded = pad_sequences(training_sequences, maxlen=max_length, padding=padding_type, truncating=trunc_type)"
      ],
      "execution_count": 152,
      "outputs": []
    },
    {
      "cell_type": "code",
      "metadata": {
        "id": "ysZ4Q1wrakg_"
      },
      "source": [
        "senten_corpus = tokenizer.sequences_to_texts(training_sequences)"
      ],
      "execution_count": 153,
      "outputs": []
    },
    {
      "cell_type": "code",
      "metadata": {
        "id": "XN4jFUWabF4Y",
        "outputId": "306f6a13-bd9e-4f5b-f255-48901071ad51",
        "colab": {
          "base_uri": "https://localhost:8080/"
        }
      },
      "source": [
        "senten_corpus[-3:]"
      ],
      "execution_count": 154,
      "outputs": [
        {
          "output_type": "execute_result",
          "data": {
            "text/plain": [
              "['weight solid powerful core spice bake apple flavor france alsace alsace domaine marcel deiss',\n",
              " 'structure develope wine need age france alsace alsace domaine marcel deiss',\n",
              " 'drink france alsace alsace domaine marcel deiss']"
            ]
          },
          "metadata": {
            "tags": []
          },
          "execution_count": 154
        }
      ]
    },
    {
      "cell_type": "code",
      "metadata": {
        "id": "1gEFJzL2hkMS",
        "outputId": "1869fcb5-5959-489e-e457-25a5e84a52e0",
        "colab": {
          "base_uri": "https://localhost:8080/"
        }
      },
      "source": [
        "senten_corpus[:2]"
      ],
      "execution_count": 155,
      "outputs": [
        {
          "output_type": "execute_result",
          "data": {
            "text/plain": [
              "['pineapple rind lemon pith orange blossom start aroma palate bite opulent note honey drizzle guava mango way slightly astringent semidry finish unite state america reserve late harvest michigan lake michigan shore st julian',\n",
              " 'like regular bottle come rough tannic rustic earthy herbal characteristic nonetheless think pleasantly unfussy country wine good companion hearty winter stew unite state america vintner reserve wild child block oregon willamette valley willamette valley sweet cheek']"
            ]
          },
          "metadata": {
            "tags": []
          },
          "execution_count": 155
        }
      ]
    },
    {
      "cell_type": "code",
      "metadata": {
        "id": "FQL5EwUyhQKu",
        "outputId": "71159536-231e-46c6-9b7c-6faa76a094cc",
        "colab": {
          "base_uri": "https://localhost:8080/"
        }
      },
      "source": [
        "len(senten_corpus)"
      ],
      "execution_count": 156,
      "outputs": [
        {
          "output_type": "execute_result",
          "data": {
            "text/plain": [
              "159648"
            ]
          },
          "metadata": {
            "tags": []
          },
          "execution_count": 156
        }
      ]
    },
    {
      "cell_type": "code",
      "metadata": {
        "id": "FsqocNWshQOo"
      },
      "source": [
        "sent_oversample_corpus = [doc.split() for doc in senten_corpus] # gets corpus as a list of lists"
      ],
      "execution_count": 157,
      "outputs": []
    },
    {
      "cell_type": "code",
      "metadata": {
        "id": "YPTxtB58hQSC",
        "outputId": "92516c9b-6f26-4d8f-e1b3-f01127722321",
        "colab": {
          "base_uri": "https://localhost:8080/"
        }
      },
      "source": [
        "sent_oversample_corpus[:2]"
      ],
      "execution_count": 158,
      "outputs": [
        {
          "output_type": "execute_result",
          "data": {
            "text/plain": [
              "[['pineapple',\n",
              "  'rind',\n",
              "  'lemon',\n",
              "  'pith',\n",
              "  'orange',\n",
              "  'blossom',\n",
              "  'start',\n",
              "  'aroma',\n",
              "  'palate',\n",
              "  'bite',\n",
              "  'opulent',\n",
              "  'note',\n",
              "  'honey',\n",
              "  'drizzle',\n",
              "  'guava',\n",
              "  'mango',\n",
              "  'way',\n",
              "  'slightly',\n",
              "  'astringent',\n",
              "  'semidry',\n",
              "  'finish',\n",
              "  'unite',\n",
              "  'state',\n",
              "  'america',\n",
              "  'reserve',\n",
              "  'late',\n",
              "  'harvest',\n",
              "  'michigan',\n",
              "  'lake',\n",
              "  'michigan',\n",
              "  'shore',\n",
              "  'st',\n",
              "  'julian'],\n",
              " ['like',\n",
              "  'regular',\n",
              "  'bottle',\n",
              "  'come',\n",
              "  'rough',\n",
              "  'tannic',\n",
              "  'rustic',\n",
              "  'earthy',\n",
              "  'herbal',\n",
              "  'characteristic',\n",
              "  'nonetheless',\n",
              "  'think',\n",
              "  'pleasantly',\n",
              "  'unfussy',\n",
              "  'country',\n",
              "  'wine',\n",
              "  'good',\n",
              "  'companion',\n",
              "  'hearty',\n",
              "  'winter',\n",
              "  'stew',\n",
              "  'unite',\n",
              "  'state',\n",
              "  'america',\n",
              "  'vintner',\n",
              "  'reserve',\n",
              "  'wild',\n",
              "  'child',\n",
              "  'block',\n",
              "  'oregon',\n",
              "  'willamette',\n",
              "  'valley',\n",
              "  'willamette',\n",
              "  'valley',\n",
              "  'sweet',\n",
              "  'cheek']]"
            ]
          },
          "metadata": {
            "tags": []
          },
          "execution_count": 158
        }
      ]
    },
    {
      "cell_type": "code",
      "metadata": {
        "id": "sq_sh212iFw1",
        "outputId": "03560a8a-826c-414c-f1d0-f83009db004d",
        "colab": {
          "base_uri": "https://localhost:8080/"
        }
      },
      "source": [
        "# trains sent_oversample_corpus2 on Word2Vec. For sent_oversample_corpus2, min_count of 5 and iter (epoch) of 10 \n",
        "# seems to be the best\n",
        "sent_w2v_model = Word2Vec(sent_oversample_corpus, size=300, min_count=1, iter=10)\n",
        "\n",
        "print(sent_w2v_model) # sumarizes the word2vec"
      ],
      "execution_count": 159,
      "outputs": [
        {
          "output_type": "stream",
          "text": [
            "Word2Vec(vocab=37724, size=300, alpha=0.025)\n"
          ],
          "name": "stdout"
        }
      ]
    },
    {
      "cell_type": "code",
      "metadata": {
        "id": "3vVPpD8diGAk",
        "outputId": "26102e84-a513-4f35-cb77-421b8140c9d0",
        "colab": {
          "base_uri": "https://localhost:8080/"
        }
      },
      "source": [
        "sent_w2v_model.wv.__getitem__('pineapple').shape # confirms the dimension of our embedding"
      ],
      "execution_count": 160,
      "outputs": [
        {
          "output_type": "execute_result",
          "data": {
            "text/plain": [
              "(300,)"
            ]
          },
          "metadata": {
            "tags": []
          },
          "execution_count": 160
        }
      ]
    },
    {
      "cell_type": "code",
      "metadata": {
        "id": "w1TIleJ3jM3-",
        "outputId": "460392b6-c430-4efd-e6e7-61e00f9ebab2",
        "colab": {
          "base_uri": "https://localhost:8080/",
          "height": 36
        }
      },
      "source": [
        "# picking out the odd word\n",
        "sent_w2v_model.wv.doesnt_match(['cherry', 'italy', 'apple', 'pineapple', 'tangerine'])"
      ],
      "execution_count": 161,
      "outputs": [
        {
          "output_type": "execute_result",
          "data": {
            "application/vnd.google.colaboratory.intrinsic+json": {
              "type": "string"
            },
            "text/plain": [
              "'italy'"
            ]
          },
          "metadata": {
            "tags": []
          },
          "execution_count": 161
        }
      ]
    },
    {
      "cell_type": "code",
      "metadata": {
        "id": "pk5Vrv7NjM6w",
        "outputId": "1ccc7ab7-e048-4ab8-c9a2-d713b896a0d1",
        "colab": {
          "base_uri": "https://localhost:8080/",
          "height": 36
        }
      },
      "source": [
        "# picking out the odd word\n",
        "sent_w2v_model.wv.doesnt_match(['arizona', 'france', 'michigan', 'texas', 'pennsylvania'])"
      ],
      "execution_count": 162,
      "outputs": [
        {
          "output_type": "execute_result",
          "data": {
            "application/vnd.google.colaboratory.intrinsic+json": {
              "type": "string"
            },
            "text/plain": [
              "'france'"
            ]
          },
          "metadata": {
            "tags": []
          },
          "execution_count": 162
        }
      ]
    },
    {
      "cell_type": "code",
      "metadata": {
        "id": "2NDYaS8HknzU",
        "outputId": "3a2d9e10-f836-4e49-d435-364d641b6637",
        "colab": {
          "base_uri": "https://localhost:8080/",
          "height": 36
        }
      },
      "source": [
        "# let's see a random province in Portugal\n",
        "balanced_df[balanced_df['country'] == 'Portugal']['province'].unique()[0]"
      ],
      "execution_count": 163,
      "outputs": [
        {
          "output_type": "execute_result",
          "data": {
            "application/vnd.google.colaboratory.intrinsic+json": {
              "type": "string"
            },
            "text/plain": [
              "'Estremadura'"
            ]
          },
          "metadata": {
            "tags": []
          },
          "execution_count": 163
        }
      ]
    },
    {
      "cell_type": "code",
      "metadata": {
        "id": "8mQZ9gdhjM-A",
        "outputId": "4b42a594-6c66-468b-9008-634fc1fc7024",
        "colab": {
          "base_uri": "https://localhost:8080/"
        }
      },
      "source": [
        "# just like king - man + woman = queen, we want to prove that portugal - estremadura + ontario = canada\n",
        "print(sent_w2v_model.wv.most_similar(positive=['portugal', 'ontario'], negative=['estremadura']))"
      ],
      "execution_count": 164,
      "outputs": [
        {
          "output_type": "stream",
          "text": [
            "[('canada', 0.5451585650444031), ('germany', 0.4108649492263794), ('vaïla', 0.4010735750198364), ('mclean', 0.372231662273407), ('british', 0.3711729645729065), ('caronne', 0.35238224267959595), ('right', 0.3501496911048889), ('austria', 0.3487246632575989), ('vanessa', 0.33699628710746765), ('france', 0.33164799213409424)]\n"
          ],
          "name": "stdout"
        }
      ]
    },
    {
      "cell_type": "code",
      "metadata": {
        "id": "ltAf-getjNBC",
        "outputId": "6dcab352-6dc8-492e-9313-b12e8c11bff1",
        "colab": {
          "base_uri": "https://localhost:8080/"
        }
      },
      "source": [
        "# let's see the most similar words to 'aroma'\n",
        "print(sent_w2v_model.wv.most_similar('aroma'))"
      ],
      "execution_count": 165,
      "outputs": [
        {
          "output_type": "stream",
          "text": [
            "[('scent', 0.8007731437683105), ('bouquet', 0.6715725064277649), ('note', 0.6315639615058899), ('smell', 0.6044454574584961), ('nose', 0.5825537443161011), ('whiff', 0.5671712756156921), ('mix', 0.5607091188430786), ('fragrance', 0.5548509359359741), ('aromatic', 0.5361471772193909), ('recall', 0.533400297164917)]\n"
          ],
          "name": "stdout"
        }
      ]
    },
    {
      "cell_type": "code",
      "metadata": {
        "id": "aEPmO6KWkzll",
        "outputId": "dbc1b8ca-6830-4bf7-8b6a-3f243c6b4f1b",
        "colab": {
          "base_uri": "https://localhost:8080/"
        }
      },
      "source": [
        "len(sent_w2v_model.wv.vocab)"
      ],
      "execution_count": 166,
      "outputs": [
        {
          "output_type": "execute_result",
          "data": {
            "text/plain": [
              "37724"
            ]
          },
          "metadata": {
            "tags": []
          },
          "execution_count": 166
        }
      ]
    },
    {
      "cell_type": "code",
      "metadata": {
        "id": "ddZtD8h9tRlX",
        "outputId": "6d836cfc-78ea-4195-8a46-957c68dc65d8",
        "colab": {
          "base_uri": "https://localhost:8080/"
        }
      },
      "source": [
        "# Using set()\n",
        "def Diff(li1, li2):\n",
        "    return (list(list(set(li1)-set(li2)) + list(set(li2)-set(li1))))\n",
        " \n",
        "# Driver Code\n",
        "li1 = list(sent_w2v_model.wv.vocab.keys())\n",
        "li2 = list(word_index.keys())\n",
        "print(Diff(li1, li2))"
      ],
      "execution_count": 167,
      "outputs": [
        {
          "output_type": "stream",
          "text": [
            "['<OOV>']\n"
          ],
          "name": "stdout"
        }
      ]
    },
    {
      "cell_type": "markdown",
      "metadata": {
        "id": "1rCkcQkIojr8"
      },
      "source": [
        "# Modelling\n",
        "\n",
        "Defining a function that creates an embedding matrix"
      ]
    },
    {
      "cell_type": "code",
      "metadata": {
        "id": "8aaQhf4kZyqh"
      },
      "source": [
        "def get_embedding_matrix(model, word_index):\n",
        "    vocab_size = len(word_index) + 1\n",
        "    embedding_dim = model.wv.vector_size\n",
        "    embedding_matrix = np.zeros((vocab_size, embedding_dim))\n",
        "    \n",
        "    for word in model.wv.vocab:\n",
        "        ind = word_index[word]\n",
        "        embedding_matrix[ind] = model[word]\n",
        "        \n",
        "    return embedding_matrix"
      ],
      "execution_count": 168,
      "outputs": []
    },
    {
      "cell_type": "code",
      "metadata": {
        "id": "MKlPnLYXoq2W"
      },
      "source": [
        "embedding_matrix = get_embedding_matrix(sent_w2v_model, word_index)"
      ],
      "execution_count": 169,
      "outputs": []
    },
    {
      "cell_type": "code",
      "metadata": {
        "id": "Fr-kvTfNusE0",
        "outputId": "c7fab91f-c9be-48d6-abc2-0557a7fe7f98",
        "colab": {
          "base_uri": "https://localhost:8080/"
        }
      },
      "source": [
        "embedding_matrix.shape"
      ],
      "execution_count": 170,
      "outputs": [
        {
          "output_type": "execute_result",
          "data": {
            "text/plain": [
              "(37726, 300)"
            ]
          },
          "metadata": {
            "tags": []
          },
          "execution_count": 170
        }
      ]
    },
    {
      "cell_type": "code",
      "metadata": {
        "id": "ELpXfBfkusIf"
      },
      "source": [
        "def nlp_model():\n",
        "  model = tf.keras.Sequential([\n",
        "    tf.keras.layers.Embedding(vocab_size+1, embedding_dim, input_length=max_length,  mask_zero=True, weights=[embedding_matrix], trainable=False),\n",
        "    tf.keras.layers.Dropout(0.5),\n",
        "    tf.keras.layers.Bidirectional(tf.keras.layers.LSTM(250)),\n",
        "    tf.keras.layers.Dropout(0.5),\n",
        "    tf.keras.layers.Dense(20, activation='softmax')\n",
        "  ])\n",
        "\n",
        "  model.compile(loss='sparse_categorical_crossentropy',optimizer='adam',metrics=['accuracy'])\n",
        "\n",
        "  return model"
      ],
      "execution_count": 256,
      "outputs": []
    },
    {
      "cell_type": "code",
      "metadata": {
        "id": "Dh4CcE6TrkG4",
        "outputId": "5b6b9bd1-0f85-458d-d452-2d1abee84531",
        "colab": {
          "base_uri": "https://localhost:8080/"
        }
      },
      "source": [
        "model = nlp_model()\n",
        "model.summary()"
      ],
      "execution_count": 257,
      "outputs": [
        {
          "output_type": "stream",
          "text": [
            "Model: \"sequential_42\"\n",
            "_________________________________________________________________\n",
            "Layer (type)                 Output Shape              Param #   \n",
            "=================================================================\n",
            "embedding_42 (Embedding)     (None, 90, 300)           11317800  \n",
            "_________________________________________________________________\n",
            "dropout_37 (Dropout)         (None, 90, 300)           0         \n",
            "_________________________________________________________________\n",
            "bidirectional_42 (Bidirectio (None, 500)               1102000   \n",
            "_________________________________________________________________\n",
            "dropout_38 (Dropout)         (None, 500)               0         \n",
            "_________________________________________________________________\n",
            "dense_42 (Dense)             (None, 20)                10020     \n",
            "=================================================================\n",
            "Total params: 12,429,820\n",
            "Trainable params: 1,112,020\n",
            "Non-trainable params: 11,317,800\n",
            "_________________________________________________________________\n"
          ],
          "name": "stdout"
        }
      ]
    },
    {
      "cell_type": "code",
      "metadata": {
        "id": "xb7sjzNKusO8"
      },
      "source": [
        "from sklearn.utils import class_weight\n",
        "class_weights = dict(zip(np.unique(labels), class_weight.compute_class_weight('balanced',\n",
        "                                                 np.unique(labels),\n",
        "                                                 labels))) "
      ],
      "execution_count": 258,
      "outputs": []
    },
    {
      "cell_type": "code",
      "metadata": {
        "id": "-hRdYrBqzEhr",
        "outputId": "2c8f23ab-d885-4401-fdc6-8b411ff51faf",
        "colab": {
          "base_uri": "https://localhost:8080/"
        }
      },
      "source": [
        "training_padded = np.array(training_padded)\n",
        "\n",
        "\n",
        "num_epochs = 20\n",
        "\n",
        "early_stopping = tf.keras.callbacks.EarlyStopping(monitor='val_loss',\n",
        "                               patience=5,\n",
        "                               verbose=1,\n",
        "                               min_delta=1e-4)\n",
        "lrp = tf.keraslrp = tf.keras.callbacks.ReduceLROnPlateau(monitor='val_loss',\n",
        "                                   factor=0.1,\n",
        "                                   patience=2,\n",
        "                                   cooldown=2,\n",
        "                                   verbose=1)\n",
        "\n",
        "\n",
        "history = model.fit(training_padded, labels, epochs=num_epochs, class_weight=class_weights, \n",
        "                    validation_split=0.25,\n",
        "                    batch_size=128, verbose=1,\n",
        "                    callbacks=[early_stopping, lrp])"
      ],
      "execution_count": 259,
      "outputs": [
        {
          "output_type": "stream",
          "text": [
            "Epoch 1/20\n",
            "936/936 [==============================] - 28s 30ms/step - loss: 0.7161 - accuracy: 0.7621 - val_loss: 0.6921 - val_accuracy: 0.7761\n",
            "Epoch 2/20\n",
            "936/936 [==============================] - 26s 28ms/step - loss: 0.5031 - accuracy: 0.8272 - val_loss: 0.6357 - val_accuracy: 0.7932\n",
            "Epoch 3/20\n",
            "936/936 [==============================] - 26s 28ms/step - loss: 0.4538 - accuracy: 0.8432 - val_loss: 0.6061 - val_accuracy: 0.7997\n",
            "Epoch 4/20\n",
            "936/936 [==============================] - 26s 28ms/step - loss: 0.4195 - accuracy: 0.8533 - val_loss: 0.5833 - val_accuracy: 0.8105\n",
            "Epoch 5/20\n",
            "936/936 [==============================] - 27s 29ms/step - loss: 0.3961 - accuracy: 0.8611 - val_loss: 0.5817 - val_accuracy: 0.8123\n",
            "Epoch 6/20\n",
            "936/936 [==============================] - 27s 28ms/step - loss: 0.3780 - accuracy: 0.8662 - val_loss: 0.5745 - val_accuracy: 0.8160\n",
            "Epoch 7/20\n",
            "936/936 [==============================] - 27s 28ms/step - loss: 0.3607 - accuracy: 0.8706 - val_loss: 0.5584 - val_accuracy: 0.8233\n",
            "Epoch 8/20\n",
            "936/936 [==============================] - 27s 29ms/step - loss: 0.3449 - accuracy: 0.8762 - val_loss: 0.5602 - val_accuracy: 0.8227\n",
            "Epoch 9/20\n",
            "936/936 [==============================] - 27s 28ms/step - loss: 0.3328 - accuracy: 0.8799 - val_loss: 0.5509 - val_accuracy: 0.8251\n",
            "Epoch 10/20\n",
            "936/936 [==============================] - 27s 29ms/step - loss: 0.3228 - accuracy: 0.8823 - val_loss: 0.5659 - val_accuracy: 0.8229\n",
            "Epoch 11/20\n",
            "934/936 [============================>.] - ETA: 0s - loss: 0.3151 - accuracy: 0.8862\n",
            "Epoch 00011: ReduceLROnPlateau reducing learning rate to 0.00010000000474974513.\n",
            "936/936 [==============================] - 27s 28ms/step - loss: 0.3153 - accuracy: 0.8861 - val_loss: 0.5734 - val_accuracy: 0.8229\n",
            "Epoch 12/20\n",
            "936/936 [==============================] - 27s 28ms/step - loss: 0.2836 - accuracy: 0.8951 - val_loss: 0.5495 - val_accuracy: 0.8298\n",
            "Epoch 13/20\n",
            "936/936 [==============================] - 27s 29ms/step - loss: 0.2742 - accuracy: 0.8987 - val_loss: 0.5476 - val_accuracy: 0.8309\n",
            "Epoch 14/20\n",
            "936/936 [==============================] - 27s 28ms/step - loss: 0.2666 - accuracy: 0.9013 - val_loss: 0.5502 - val_accuracy: 0.8311\n",
            "Epoch 15/20\n",
            "935/936 [============================>.] - ETA: 0s - loss: 0.2634 - accuracy: 0.9026\n",
            "Epoch 00015: ReduceLROnPlateau reducing learning rate to 1.0000000474974514e-05.\n",
            "936/936 [==============================] - 27s 28ms/step - loss: 0.2633 - accuracy: 0.9027 - val_loss: 0.5491 - val_accuracy: 0.8323\n",
            "Epoch 16/20\n",
            "936/936 [==============================] - 27s 28ms/step - loss: 0.2578 - accuracy: 0.9041 - val_loss: 0.5477 - val_accuracy: 0.8328\n",
            "Epoch 17/20\n",
            "936/936 [==============================] - 27s 29ms/step - loss: 0.2579 - accuracy: 0.9043 - val_loss: 0.5477 - val_accuracy: 0.8330\n",
            "Epoch 18/20\n",
            "935/936 [============================>.] - ETA: 0s - loss: 0.2572 - accuracy: 0.9035\n",
            "Epoch 00018: ReduceLROnPlateau reducing learning rate to 1.0000000656873453e-06.\n",
            "936/936 [==============================] - 27s 28ms/step - loss: 0.2574 - accuracy: 0.9034 - val_loss: 0.5476 - val_accuracy: 0.8331\n",
            "Epoch 00018: early stopping\n"
          ],
          "name": "stdout"
        }
      ]
    },
    {
      "cell_type": "code",
      "metadata": {
        "id": "tRzYW_dCzEk0",
        "outputId": "16002420-fb18-4a4c-f9c0-c6db6eda3adb",
        "colab": {
          "base_uri": "https://localhost:8080/",
          "height": 867
        }
      },
      "source": [
        "def plot_graphs(history, string):\n",
        "  plt.figure(figsize=(12,7))\n",
        "  plt.plot(history.history[string])\n",
        "  plt.plot(history.history['val_'+string])\n",
        "  plt.xlabel(\"Epochs\")\n",
        "  plt.ylabel(string)\n",
        "  plt.legend([string, 'val_'+string])\n",
        "  plt.show()\n",
        "\n",
        "plot_graphs(history, 'accuracy')\n",
        "plot_graphs(history, 'loss')"
      ],
      "execution_count": 260,
      "outputs": [
        {
          "output_type": "display_data",
          "data": {
            "image/png": "[encoded data removed]",
            "text/plain": [
              "<Figure size 864x504 with 1 Axes>"
            ]
          },
          "metadata": {
            "tags": [],
            "needs_background": "light"
          }
        },
        {
          "output_type": "display_data",
          "data": {
            "image/png": "[encoded data removed]",
            "text/plain": [
              "<Figure size 864x504 with 1 Axes>"
            ]
          },
          "metadata": {
            "tags": [],
            "needs_background": "light"
          }
        }
      ]
    },
    {
      "cell_type": "code",
      "metadata": {
        "id": "1ksZUAliOasT"
      },
      "source": [
        "from tensorflow.keras.wrappers.scikit_learn import KerasClassifier\n",
        "from tensorflow.keras.callbacks import EarlyStopping\n",
        "from sklearn.model_selection import cross_val_score, RepeatedStratifiedKFold"
      ],
      "execution_count": 261,
      "outputs": []
    },
    {
      "cell_type": "code",
      "metadata": {
        "id": "CVdSMqCxzErN"
      },
      "source": [
        "model2 = KerasClassifier(build_fn=nlp_model) # build model"
      ],
      "execution_count": 262,
      "outputs": []
    },
    {
      "cell_type": "code",
      "metadata": {
        "id": "Vgw-ApgAzDaQ"
      },
      "source": [
        "# creating a RepeatedStratifiedKFold object. Since we plan using 25% as our test-size, we will use 4 fold cv.\n",
        "# to have a level plain ground for comparing different models, we will be using random state of 1 through out.\n",
        "cv = RepeatedStratifiedKFold(n_splits=4, n_repeats=3, random_state=1)"
      ],
      "execution_count": 263,
      "outputs": []
    },
    {
      "cell_type": "code",
      "metadata": {
        "id": "NCIlW1TmzDf_",
        "outputId": "08778c53-73f9-4612-a570-5b08d761e258",
        "colab": {
          "base_uri": "https://localhost:8080/"
        }
      },
      "source": [
        "# getting cross validation scores\n",
        "score = cross_val_score(model2, training_padded, labels, scoring='f1_weighted', cv=cv,\\\n",
        "                        n_jobs=1, verbose=2, fit_params={\\\n",
        "                        'epochs': 7, 'batch_size': 128, 'class_weight': class_weights, 'verbose': 0, \\\n",
        "                                                        })"
      ],
      "execution_count": 264,
      "outputs": [
        {
          "output_type": "stream",
          "text": [
            "[Parallel(n_jobs=1)]: Using backend SequentialBackend with 1 concurrent workers.\n"
          ],
          "name": "stderr"
        },
        {
          "output_type": "stream",
          "text": [
            "[CV]  ................................................................\n",
            "[CV] ................................................. , total= 2.7min\n",
            "[CV]  ................................................................\n"
          ],
          "name": "stdout"
        },
        {
          "output_type": "stream",
          "text": [
            "[Parallel(n_jobs=1)]: Done   1 out of   1 | elapsed:  2.7min remaining:    0.0s\n"
          ],
          "name": "stderr"
        },
        {
          "output_type": "stream",
          "text": [
            "[CV] ................................................. , total= 2.7min\n",
            "[CV]  ................................................................\n",
            "[CV] ................................................. , total= 2.7min\n",
            "[CV]  ................................................................\n",
            "[CV] ................................................. , total= 2.7min\n",
            "[CV]  ................................................................\n",
            "[CV] ................................................. , total= 2.7min\n",
            "[CV]  ................................................................\n",
            "[CV] ................................................. , total= 2.7min\n",
            "[CV]  ................................................................\n",
            "[CV] ................................................. , total= 2.7min\n",
            "[CV]  ................................................................\n",
            "[CV] ................................................. , total= 2.7min\n",
            "[CV]  ................................................................\n",
            "[CV] ................................................. , total= 2.7min\n",
            "[CV]  ................................................................\n",
            "[CV] ................................................. , total= 2.7min\n",
            "[CV]  ................................................................\n",
            "[CV] ................................................. , total= 2.9min\n",
            "[CV]  ................................................................\n",
            "[CV] ................................................. , total= 2.8min\n"
          ],
          "name": "stdout"
        },
        {
          "output_type": "stream",
          "text": [
            "[Parallel(n_jobs=1)]: Done  12 out of  12 | elapsed: 32.8min finished\n"
          ],
          "name": "stderr"
        }
      ]
    },
    {
      "cell_type": "code",
      "metadata": {
        "id": "9dpSzeVMzDlJ",
        "outputId": "67169b63-eabc-4fec-b1f3-282dc278ff2b",
        "colab": {
          "base_uri": "https://localhost:8080/"
        }
      },
      "source": [
        "print(score)\n",
        "np.mean(score) # reporting the mean score"
      ],
      "execution_count": 265,
      "outputs": [
        {
          "output_type": "stream",
          "text": [
            "[0.86541072 0.86390355 0.86631223 0.86363147 0.86452971 0.86657303\n",
            " 0.8649578  0.86553129 0.86774611 0.86644015 0.86623817 0.86556372]\n"
          ],
          "name": "stdout"
        },
        {
          "output_type": "execute_result",
          "data": {
            "text/plain": [
              "0.8655698303196928"
            ]
          },
          "metadata": {
            "tags": []
          },
          "execution_count": 265
        }
      ]
    },
    {
      "cell_type": "markdown",
      "metadata": {
        "id": "Z4rciyNwLhuE"
      },
      "source": [
        "# Trying Other means"
      ]
    },
    {
      "cell_type": "code",
      "metadata": {
        "id": "nDosGZevzDoc"
      },
      "source": [
        "# train-test split\n",
        "X_train, X_test, y_train, y_test = train_test_split(training_padded, labels, \\\n",
        "                                                    test_size=0.25, random_state=1)"
      ],
      "execution_count": 266,
      "outputs": []
    },
    {
      "cell_type": "code",
      "metadata": {
        "id": "2dVw8zz6zDjj"
      },
      "source": [
        "model2 = nlp_model() # builds model"
      ],
      "execution_count": 272,
      "outputs": []
    },
    {
      "cell_type": "code",
      "metadata": {
        "id": "NqB-d1kSLn79",
        "outputId": "f672129e-06be-4bf8-9c45-2391aedcf35d",
        "colab": {
          "base_uri": "https://localhost:8080/"
        }
      },
      "source": [
        "model2.fit(X_train, y_train,\n",
        "                    epochs=5, # using the best epoch from model1\n",
        "                    verbose=True,\n",
        "                    batch_size=128,\n",
        "                    class_weight=class_weights)"
      ],
      "execution_count": 310,
      "outputs": [
        {
          "output_type": "stream",
          "text": [
            "Epoch 1/5\n",
            "936/936 [==============================] - 24s 25ms/step - loss: 0.3759 - accuracy: 0.8647\n",
            "Epoch 2/5\n",
            "936/936 [==============================] - 23s 25ms/step - loss: 0.3676 - accuracy: 0.8677\n",
            "Epoch 3/5\n",
            "936/936 [==============================] - 23s 25ms/step - loss: 0.3568 - accuracy: 0.8709\n",
            "Epoch 4/5\n",
            "936/936 [==============================] - 23s 25ms/step - loss: 0.3491 - accuracy: 0.8736\n",
            "Epoch 5/5\n",
            "936/936 [==============================] - 23s 25ms/step - loss: 0.3410 - accuracy: 0.8762\n"
          ],
          "name": "stdout"
        },
        {
          "output_type": "execute_result",
          "data": {
            "text/plain": [
              "<tensorflow.python.keras.callbacks.History at 0x7f6edbee9390>"
            ]
          },
          "metadata": {
            "tags": []
          },
          "execution_count": 310
        }
      ]
    },
    {
      "cell_type": "code",
      "metadata": {
        "id": "CI5GC9BvLqSO",
        "outputId": "f3366704-bd1a-4737-ae8f-c9fc529f4fbe",
        "colab": {
          "base_uri": "https://localhost:8080/"
        }
      },
      "source": [
        "loss, accuracy = model2.evaluate(X_train, y_train, batch_size=128, verbose=False)\n",
        "print('Training Accuracy: {:.4f}\\nTraining loss: {:.4f}'.format(accuracy, loss))\n",
        "print()\n",
        "loss, accuracy = model2.evaluate(X_test, y_test, batch_size=128, verbose=False)\n",
        "print('Testing Accuracy: {:.4f}\\nTesting loss: {:.4f}'.format(accuracy, loss))"
      ],
      "execution_count": 311,
      "outputs": [
        {
          "output_type": "stream",
          "text": [
            "Training Accuracy: 0.9173\n",
            "Training loss: 0.2377\n",
            "\n",
            "Testing Accuracy: 0.8772\n",
            "Testing loss: 0.3820\n"
          ],
          "name": "stdout"
        }
      ]
    },
    {
      "cell_type": "code",
      "metadata": {
        "id": "KloYfRU2N057"
      },
      "source": [
        "user_input = [\"This deeply refreshing White Blend starts with a fine California wine that undergoes a secondary fermentation with pineapple juice. The result is a vibrant, light-bodied wine style with notes of fresh pineapple and other tropical fruits and a crisp finish.\"]"
      ],
      "execution_count": 297,
      "outputs": []
    },
    {
      "cell_type": "code",
      "metadata": {
        "id": "5e9Lo6Zoiwir"
      },
      "source": [
        "# converting texts to numbers\n",
        "test1 = tokenizer.texts_to_sequences(user_input)\n",
        "test1_padded = pad_sequences(test1, maxlen=max_length, padding=padding_type, truncating=trunc_type)"
      ],
      "execution_count": 298,
      "outputs": []
    },
    {
      "cell_type": "code",
      "metadata": {
        "id": "BoWOux9loZ2p"
      },
      "source": [
        "test1pred = model.predict(test1_padded)"
      ],
      "execution_count": 306,
      "outputs": []
    },
    {
      "cell_type": "code",
      "metadata": {
        "id": "cnlWHlZiot7j",
        "outputId": "51d110e3-394d-48dd-87dd-5992f1e71bd9",
        "colab": {
          "base_uri": "https://localhost:8080/"
        }
      },
      "source": [
        "test1pred"
      ],
      "execution_count": 307,
      "outputs": [
        {
          "output_type": "execute_result",
          "data": {
            "text/plain": [
              "array([[2.09754708e-05, 3.72640170e-05, 9.80693638e-01, 1.71310681e-08,\n",
              "        1.38594558e-07, 1.70136308e-10, 1.17759377e-07, 1.03562861e-05,\n",
              "        5.22521637e-10, 1.31258322e-03, 8.83384388e-08, 2.55559862e-04,\n",
              "        2.31805711e-06, 6.94250218e-07, 1.13733906e-04, 2.05769357e-08,\n",
              "        1.70330736e-07, 5.64578045e-07, 1.75517313e-02, 4.23132818e-08]],\n",
              "      dtype=float32)"
            ]
          },
          "metadata": {
            "tags": []
          },
          "execution_count": 307
        }
      ]
    },
    {
      "cell_type": "code",
      "metadata": {
        "id": "B39B8s7XoxKT",
        "outputId": "358dab51-bd47-4976-87cd-80cb514ac4cd",
        "colab": {
          "base_uri": "https://localhost:8080/"
        }
      },
      "source": [
        "encode.inverse_transform([np.argmax(test1pred)])"
      ],
      "execution_count": 308,
      "outputs": [
        {
          "output_type": "execute_result",
          "data": {
            "text/plain": [
              "array(['Chardonnay'], dtype=object)"
            ]
          },
          "metadata": {
            "tags": []
          },
          "execution_count": 308
        }
      ]
    },
    {
      "cell_type": "code",
      "metadata": {
        "id": "PwGRlBnso3Vb",
        "outputId": "bec9582c-a48d-4072-f756-0b2cbfc70fa4",
        "colab": {
          "base_uri": "https://localhost:8080/"
        }
      },
      "source": [
        "encode.inverse_transform([18])"
      ],
      "execution_count": 309,
      "outputs": [
        {
          "output_type": "execute_result",
          "data": {
            "text/plain": [
              "array(['White Blend'], dtype=object)"
            ]
          },
          "metadata": {
            "tags": []
          },
          "execution_count": 309
        }
      ]
    },
    {
      "cell_type": "code",
      "metadata": {
        "id": "S059_12ZroO5"
      },
      "source": [
        ""
      ],
      "execution_count": null,
      "outputs": []
    }
  ]
}