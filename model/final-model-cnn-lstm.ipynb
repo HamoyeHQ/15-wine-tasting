{
 "cells": [
  {
   "cell_type": "markdown",
   "metadata": {
    "papermill": {
     "duration": 0.042977,
     "end_time": "2020-11-13T16:26:32.016760",
     "exception": false,
     "start_time": "2020-11-13T16:26:31.973783",
     "status": "completed"
    },
    "tags": []
   },
   "source": [
    "# Blending CNN and LSTM"
   ]
  },
  {
   "cell_type": "code",
   "execution_count": 1,
   "metadata": {
    "execution": {
     "iopub.execute_input": "2020-11-13T16:26:32.105527Z",
     "iopub.status.busy": "2020-11-13T16:26:32.104765Z",
     "iopub.status.idle": "2020-11-13T16:26:37.211071Z",
     "shell.execute_reply": "2020-11-13T16:26:37.211910Z"
    },
    "papermill": {
     "duration": 5.154399,
     "end_time": "2020-11-13T16:26:37.212143",
     "exception": false,
     "start_time": "2020-11-13T16:26:32.057744",
     "status": "completed"
    },
    "tags": []
   },
   "outputs": [],
   "source": [
    "import numpy as np\n",
    "import tensorflow as tf\n",
    "import random as python_random"
   ]
  },
  {
   "cell_type": "code",
   "execution_count": 2,
   "metadata": {
    "execution": {
     "iopub.execute_input": "2020-11-13T16:26:37.336307Z",
     "iopub.status.busy": "2020-11-13T16:26:37.335232Z",
     "iopub.status.idle": "2020-11-13T16:26:37.337733Z",
     "shell.execute_reply": "2020-11-13T16:26:37.337059Z"
    },
    "papermill": {
     "duration": 0.064242,
     "end_time": "2020-11-13T16:26:37.337849",
     "exception": false,
     "start_time": "2020-11-13T16:26:37.273607",
     "status": "completed"
    },
    "tags": []
   },
   "outputs": [],
   "source": [
    "np.random.seed(1)\n",
    "python_random.seed(12)\n",
    "tf.random.set_seed(123)"
   ]
  },
  {
   "cell_type": "code",
   "execution_count": 3,
   "metadata": {
    "execution": {
     "iopub.execute_input": "2020-11-13T16:26:37.463618Z",
     "iopub.status.busy": "2020-11-13T16:26:37.462814Z",
     "iopub.status.idle": "2020-11-13T16:26:38.546854Z",
     "shell.execute_reply": "2020-11-13T16:26:38.545642Z"
    },
    "papermill": {
     "duration": 1.152059,
     "end_time": "2020-11-13T16:26:38.546985",
     "exception": false,
     "start_time": "2020-11-13T16:26:37.394926",
     "status": "completed"
    },
    "tags": []
   },
   "outputs": [],
   "source": [
    "# importing useful libraries\n",
    "import pandas as pd\n",
    "import matplotlib.pyplot as plt\n",
    "import seaborn as sns\n",
    "import requests\n",
    "import re\n",
    "\n",
    "import time \n",
    "\n",
    "import warnings\n",
    "warnings.filterwarnings('ignore')\n",
    "\n",
    "from sklearn.preprocessing import LabelEncoder, OneHotEncoder\n",
    "from sklearn.model_selection import train_test_split\n",
    "from sklearn.utils import class_weight\n",
    "from sklearn.pipeline import Pipeline, FeatureUnion\n",
    "from sklearn.base import BaseEstimator, TransformerMixin, ClassifierMixin\n",
    "\n",
    "# importing deep learning libraries\n",
    "from tensorflow.keras.preprocessing.text import Tokenizer\n",
    "from tensorflow.keras.preprocessing.sequence import pad_sequences\n",
    "from tensorflow.keras.layers import Embedding, Dense, GlobalMaxPool1D, Conv1D, Dropout, LSTM, Bidirectional\n",
    "from tensorflow.keras.models import Sequential\n",
    "from tensorflow.keras.wrappers.scikit_learn import KerasClassifier\n",
    "\n",
    "from gensim.models import Word2Vec # importing Word2Vec"
   ]
  },
  {
   "cell_type": "markdown",
   "metadata": {
    "papermill": {
     "duration": 0.041622,
     "end_time": "2020-11-13T16:26:38.631668",
     "exception": false,
     "start_time": "2020-11-13T16:26:38.590046",
     "status": "completed"
    },
    "tags": []
   },
   "source": [
    "### Downloading the data from our github repository"
   ]
  },
  {
   "cell_type": "code",
   "execution_count": 4,
   "metadata": {
    "execution": {
     "iopub.execute_input": "2020-11-13T16:26:38.732108Z",
     "iopub.status.busy": "2020-11-13T16:26:38.731099Z",
     "iopub.status.idle": "2020-11-13T16:26:38.733808Z",
     "shell.execute_reply": "2020-11-13T16:26:38.733220Z"
    },
    "papermill": {
     "duration": 0.053833,
     "end_time": "2020-11-13T16:26:38.733905",
     "exception": false,
     "start_time": "2020-11-13T16:26:38.680072",
     "status": "completed"
    },
    "tags": []
   },
   "outputs": [],
   "source": [
    "url1 = 'https://raw.github.com/HamoyeHQ/stage-f-06-wine-tasting/master/data/top_40_varieties.zip'\n",
    "url2 = 'https://raw.github.com/HamoyeHQ/stage-f-06-wine-tasting/master/data/top_varieties_count.csv'"
   ]
  },
  {
   "cell_type": "code",
   "execution_count": 5,
   "metadata": {
    "execution": {
     "iopub.execute_input": "2020-11-13T16:26:38.830205Z",
     "iopub.status.busy": "2020-11-13T16:26:38.829481Z",
     "iopub.status.idle": "2020-11-13T16:26:43.374710Z",
     "shell.execute_reply": "2020-11-13T16:26:43.374107Z"
    },
    "papermill": {
     "duration": 4.599708,
     "end_time": "2020-11-13T16:26:43.374831",
     "exception": false,
     "start_time": "2020-11-13T16:26:38.775123",
     "status": "completed"
    },
    "tags": []
   },
   "outputs": [],
   "source": [
    "top_40_varieties = pd.read_csv(url1)\n",
    "top_varieties_count = pd.read_csv(url2)"
   ]
  },
  {
   "cell_type": "code",
   "execution_count": 6,
   "metadata": {
    "execution": {
     "iopub.execute_input": "2020-11-13T16:26:43.479926Z",
     "iopub.status.busy": "2020-11-13T16:26:43.478897Z",
     "iopub.status.idle": "2020-11-13T16:26:43.543855Z",
     "shell.execute_reply": "2020-11-13T16:26:43.543196Z"
    },
    "papermill": {
     "duration": 0.127515,
     "end_time": "2020-11-13T16:26:43.543987",
     "exception": false,
     "start_time": "2020-11-13T16:26:43.416472",
     "status": "completed"
    },
    "tags": []
   },
   "outputs": [],
   "source": [
    "# replacing every occurence of 'US' in country with 'United States of America'\n",
    "top_40_varieties['country'].replace('US', 'United States of America', inplace=True)\n",
    "\n",
    "# replacing every occurence of 'US' in not_vintage with 'United States of America'\n",
    "top_40_varieties['not_vintage'] = top_40_varieties['not_vintage'].apply(lambda x: x.replace(\\\n",
    "                                                                        'US', 'United States of America'))"
   ]
  },
  {
   "cell_type": "code",
   "execution_count": 7,
   "metadata": {
    "execution": {
     "iopub.execute_input": "2020-11-13T16:26:43.641233Z",
     "iopub.status.busy": "2020-11-13T16:26:43.640351Z",
     "iopub.status.idle": "2020-11-13T16:26:43.642816Z",
     "shell.execute_reply": "2020-11-13T16:26:43.643287Z"
    },
    "papermill": {
     "duration": 0.054979,
     "end_time": "2020-11-13T16:26:43.643422",
     "exception": false,
     "start_time": "2020-11-13T16:26:43.588443",
     "status": "completed"
    },
    "tags": []
   },
   "outputs": [],
   "source": [
    "# renaming the columns in top_varieties_count\n",
    "top_varieties_count = top_varieties_count.rename(columns={'variety': 'count', 'Unnamed: 0': 'variety'})\n",
    "top_varieties_count = top_varieties_count.set_index('variety') # setting the index\n",
    "top_varieties_count = top_varieties_count['count'] # making it a Series"
   ]
  },
  {
   "cell_type": "code",
   "execution_count": 8,
   "metadata": {
    "execution": {
     "iopub.execute_input": "2020-11-13T16:26:43.746990Z",
     "iopub.status.busy": "2020-11-13T16:26:43.746217Z",
     "iopub.status.idle": "2020-11-13T16:26:43.770818Z",
     "shell.execute_reply": "2020-11-13T16:26:43.770276Z"
    },
    "papermill": {
     "duration": 0.084202,
     "end_time": "2020-11-13T16:26:43.770931",
     "exception": false,
     "start_time": "2020-11-13T16:26:43.686729",
     "status": "completed"
    },
    "tags": []
   },
   "outputs": [],
   "source": [
    "top = 20 # selecting top 20 varities as our working varieties. note 1 < n <= 40\n",
    "\n",
    "# making a datframe of our selecting top n varieties\n",
    "top_df = top_40_varieties[top_40_varieties['variety'].isin(top_varieties_count.iloc[:top].index)]"
   ]
  },
  {
   "cell_type": "code",
   "execution_count": 9,
   "metadata": {
    "execution": {
     "iopub.execute_input": "2020-11-13T16:26:43.861563Z",
     "iopub.status.busy": "2020-11-13T16:26:43.860722Z",
     "iopub.status.idle": "2020-11-13T16:26:43.893666Z",
     "shell.execute_reply": "2020-11-13T16:26:43.894120Z"
    },
    "papermill": {
     "duration": 0.080688,
     "end_time": "2020-11-13T16:26:43.894259",
     "exception": false,
     "start_time": "2020-11-13T16:26:43.813571",
     "status": "completed"
    },
    "tags": []
   },
   "outputs": [],
   "source": [
    "# threshold of miniority variety to over sample (use sentences as document instead of the whole description)\n",
    "minority_threshold = 5000 \n",
    "\n",
    "# making a dataframe of the miniority classes\n",
    "minority_df = top_df[top_df['variety'].isin(top_varieties_count[top_varieties_count < \\\n",
    "                                                                      minority_threshold].index)]"
   ]
  },
  {
   "cell_type": "code",
   "execution_count": 10,
   "metadata": {
    "execution": {
     "iopub.execute_input": "2020-11-13T16:26:43.983258Z",
     "iopub.status.busy": "2020-11-13T16:26:43.982518Z",
     "iopub.status.idle": "2020-11-13T16:26:44.468495Z",
     "shell.execute_reply": "2020-11-13T16:26:44.467963Z"
    },
    "papermill": {
     "duration": 0.532159,
     "end_time": "2020-11-13T16:26:44.468644",
     "exception": false,
     "start_time": "2020-11-13T16:26:43.936485",
     "status": "completed"
    },
    "tags": []
   },
   "outputs": [],
   "source": [
    "from nltk.tokenize import sent_tokenize # importing useful library"
   ]
  },
  {
   "cell_type": "code",
   "execution_count": 11,
   "metadata": {
    "execution": {
     "iopub.execute_input": "2020-11-13T16:26:44.569009Z",
     "iopub.status.busy": "2020-11-13T16:26:44.568126Z",
     "iopub.status.idle": "2020-11-13T16:26:44.571170Z",
     "shell.execute_reply": "2020-11-13T16:26:44.570704Z"
    },
    "papermill": {
     "duration": 0.060379,
     "end_time": "2020-11-13T16:26:44.571282",
     "exception": false,
     "start_time": "2020-11-13T16:26:44.510903",
     "status": "completed"
    },
    "tags": []
   },
   "outputs": [],
   "source": [
    "oversampled_miniority_lst = [] # empty list to store sentences as tokens miniority corpus\n",
    "\n",
    "# creating a function to use sentences as tokens for the miniority classes\n",
    "def over_sample_miniority(row):\n",
    "    doc_list = sent_tokenize(row['description'])\n",
    "    for sent in doc_list:\n",
    "        row['description'] = sent\n",
    "        oversampled_miniority_lst.append(list(row))"
   ]
  },
  {
   "cell_type": "code",
   "execution_count": 12,
   "metadata": {
    "execution": {
     "iopub.execute_input": "2020-11-13T16:26:44.665025Z",
     "iopub.status.busy": "2020-11-13T16:26:44.664068Z",
     "iopub.status.idle": "2020-11-13T16:26:53.273726Z",
     "shell.execute_reply": "2020-11-13T16:26:53.274282Z"
    },
    "papermill": {
     "duration": 8.659148,
     "end_time": "2020-11-13T16:26:53.274423",
     "exception": false,
     "start_time": "2020-11-13T16:26:44.615275",
     "status": "completed"
    },
    "tags": []
   },
   "outputs": [],
   "source": [
    "minority_df.apply(over_sample_miniority, axis=1); # over sample the miniority classes"
   ]
  },
  {
   "cell_type": "code",
   "execution_count": 13,
   "metadata": {
    "execution": {
     "iopub.execute_input": "2020-11-13T16:26:53.365431Z",
     "iopub.status.busy": "2020-11-13T16:26:53.364812Z",
     "iopub.status.idle": "2020-11-13T16:26:53.568959Z",
     "shell.execute_reply": "2020-11-13T16:26:53.568317Z"
    },
    "papermill": {
     "duration": 0.250848,
     "end_time": "2020-11-13T16:26:53.569090",
     "exception": false,
     "start_time": "2020-11-13T16:26:53.318242",
     "status": "completed"
    },
    "tags": []
   },
   "outputs": [],
   "source": [
    "# converts oversampled_miniority_lst to a dataframe\n",
    "oversampled_miniority_df = pd.DataFrame(oversampled_miniority_lst, columns=minority_df.columns)"
   ]
  },
  {
   "cell_type": "code",
   "execution_count": 14,
   "metadata": {
    "execution": {
     "iopub.execute_input": "2020-11-13T16:26:53.677990Z",
     "iopub.status.busy": "2020-11-13T16:26:53.676850Z",
     "iopub.status.idle": "2020-11-13T16:26:53.894068Z",
     "shell.execute_reply": "2020-11-13T16:26:53.893506Z"
    },
    "papermill": {
     "duration": 0.278024,
     "end_time": "2020-11-13T16:26:53.894187",
     "exception": false,
     "start_time": "2020-11-13T16:26:53.616163",
     "status": "completed"
    },
    "tags": []
   },
   "outputs": [],
   "source": [
    "# selecting majority classes as a dataframe to concatenate to oversampled_miniority_lst\n",
    "majority_df = top_df[top_df['variety'].isin(\\\n",
    "                                        top_varieties_count[top_varieties_count >= minority_threshold].index)]\n",
    "\n",
    "# concatenates majority_df to oversampled_miniority_lst\n",
    "balanced_df = pd.concat([majority_df, oversampled_miniority_df]) \n",
    "balanced_df = balanced_df.reset_index().drop('index', axis=1) # resets index"
   ]
  },
  {
   "cell_type": "code",
   "execution_count": 15,
   "metadata": {
    "execution": {
     "iopub.execute_input": "2020-11-13T16:26:54.019436Z",
     "iopub.status.busy": "2020-11-13T16:26:54.004081Z",
     "iopub.status.idle": "2020-11-13T16:26:54.023343Z",
     "shell.execute_reply": "2020-11-13T16:26:54.023802Z"
    },
    "papermill": {
     "duration": 0.087011,
     "end_time": "2020-11-13T16:26:54.023941",
     "exception": false,
     "start_time": "2020-11-13T16:26:53.936930",
     "status": "completed"
    },
    "tags": []
   },
   "outputs": [],
   "source": [
    "balanced_variety = balanced_df['variety'].value_counts() # gets a Series of the variety count in balanced_df"
   ]
  },
  {
   "cell_type": "code",
   "execution_count": 16,
   "metadata": {
    "execution": {
     "iopub.execute_input": "2020-11-13T16:26:54.138998Z",
     "iopub.status.busy": "2020-11-13T16:26:54.123615Z",
     "iopub.status.idle": "2020-11-13T16:26:54.250654Z",
     "shell.execute_reply": "2020-11-13T16:26:54.250104Z"
    },
    "papermill": {
     "duration": 0.183347,
     "end_time": "2020-11-13T16:26:54.250764",
     "exception": false,
     "start_time": "2020-11-13T16:26:54.067417",
     "status": "completed"
    },
    "tags": []
   },
   "outputs": [],
   "source": [
    "# for sentence oversampling\n",
    "sent_oversample_corpus = [doc1 + ' ' + doc2 for doc1, doc2 in zip(\\\n",
    "                                                        balanced_df['description'], balanced_df['not_vintage'])]"
   ]
  },
  {
   "cell_type": "code",
   "execution_count": 17,
   "metadata": {
    "execution": {
     "iopub.execute_input": "2020-11-13T16:26:54.352226Z",
     "iopub.status.busy": "2020-11-13T16:26:54.347127Z",
     "iopub.status.idle": "2020-11-13T16:26:54.371780Z",
     "shell.execute_reply": "2020-11-13T16:26:54.371144Z"
    },
    "papermill": {
     "duration": 0.076233,
     "end_time": "2020-11-13T16:26:54.371897",
     "exception": false,
     "start_time": "2020-11-13T16:26:54.295664",
     "status": "completed"
    },
    "tags": []
   },
   "outputs": [],
   "source": [
    "labels = [label for label in balanced_df['variety']]"
   ]
  },
  {
   "cell_type": "markdown",
   "metadata": {
    "papermill": {
     "duration": 0.043958,
     "end_time": "2020-11-13T16:26:54.463859",
     "exception": false,
     "start_time": "2020-11-13T16:26:54.419901",
     "status": "completed"
    },
    "tags": []
   },
   "source": [
    "## Here is our workflow. It tells the whole story. (source: our github repo)"
   ]
  },
  {
   "cell_type": "markdown",
   "metadata": {
    "papermill": {
     "duration": 0.046833,
     "end_time": "2020-11-13T16:26:54.555474",
     "exception": false,
     "start_time": "2020-11-13T16:26:54.508641",
     "status": "completed"
    },
    "tags": []
   },
   "source": [
    "![workflow_image](https://raw.github.com/HamoyeHQ/stage-f-06-wine-tasting/master/images/Screenshot%20(44).png)"
   ]
  },
  {
   "cell_type": "markdown",
   "metadata": {
    "papermill": {
     "duration": 0.044132,
     "end_time": "2020-11-13T16:26:54.645093",
     "exception": false,
     "start_time": "2020-11-13T16:26:54.600961",
     "status": "completed"
    },
    "tags": []
   },
   "source": [
    "## 2.0 Data Preprocessing"
   ]
  },
  {
   "cell_type": "code",
   "execution_count": 18,
   "metadata": {
    "execution": {
     "iopub.execute_input": "2020-11-13T16:26:54.747138Z",
     "iopub.status.busy": "2020-11-13T16:26:54.746523Z",
     "iopub.status.idle": "2020-11-13T16:26:56.767433Z",
     "shell.execute_reply": "2020-11-13T16:26:56.766316Z"
    },
    "papermill": {
     "duration": 2.070739,
     "end_time": "2020-11-13T16:26:56.767589",
     "exception": false,
     "start_time": "2020-11-13T16:26:54.696850",
     "status": "completed"
    },
    "tags": []
   },
   "outputs": [],
   "source": [
    "import spacy"
   ]
  },
  {
   "cell_type": "code",
   "execution_count": 19,
   "metadata": {
    "execution": {
     "iopub.execute_input": "2020-11-13T16:26:56.862983Z",
     "iopub.status.busy": "2020-11-13T16:26:56.862188Z",
     "iopub.status.idle": "2020-11-13T16:26:57.899455Z",
     "shell.execute_reply": "2020-11-13T16:26:57.898940Z"
    },
    "papermill": {
     "duration": 1.086016,
     "end_time": "2020-11-13T16:26:57.899587",
     "exception": false,
     "start_time": "2020-11-13T16:26:56.813571",
     "status": "completed"
    },
    "tags": []
   },
   "outputs": [],
   "source": [
    "# creating a spacy pipeline and disabling tagger, parser and ner to speed up tokenizer\n",
    "nlp = spacy.load('en', disable=['tagger', 'parser', 'ner']) "
   ]
  },
  {
   "cell_type": "code",
   "execution_count": 20,
   "metadata": {
    "execution": {
     "iopub.execute_input": "2020-11-13T16:26:57.992894Z",
     "iopub.status.busy": "2020-11-13T16:26:57.992222Z",
     "iopub.status.idle": "2020-11-13T16:26:57.996411Z",
     "shell.execute_reply": "2020-11-13T16:26:57.995888Z"
    },
    "papermill": {
     "duration": 0.051834,
     "end_time": "2020-11-13T16:26:57.996514",
     "exception": false,
     "start_time": "2020-11-13T16:26:57.944680",
     "status": "completed"
    },
    "tags": []
   },
   "outputs": [],
   "source": [
    "spacy_stop_words = spacy.lang.en.STOP_WORDS # getting spacy's stop-words"
   ]
  },
  {
   "cell_type": "code",
   "execution_count": 21,
   "metadata": {
    "execution": {
     "iopub.execute_input": "2020-11-13T16:26:58.093284Z",
     "iopub.status.busy": "2020-11-13T16:26:58.092386Z",
     "iopub.status.idle": "2020-11-13T16:26:58.836966Z",
     "shell.execute_reply": "2020-11-13T16:26:58.837751Z"
    },
    "papermill": {
     "duration": 0.795514,
     "end_time": "2020-11-13T16:26:58.837942",
     "exception": false,
     "start_time": "2020-11-13T16:26:58.042428",
     "status": "completed"
    },
    "tags": []
   },
   "outputs": [],
   "source": [
    "response = requests.get('https://raw.github.com/Yoast/YoastSEO.js/develop/src/config/stopwords.js')\n",
    "yoast_stop_words = response.content.decode()"
   ]
  },
  {
   "cell_type": "code",
   "execution_count": 22,
   "metadata": {
    "execution": {
     "iopub.execute_input": "2020-11-13T16:26:58.996104Z",
     "iopub.status.busy": "2020-11-13T16:26:58.992100Z",
     "iopub.status.idle": "2020-11-13T16:26:59.001020Z",
     "shell.execute_reply": "2020-11-13T16:26:58.999960Z"
    },
    "papermill": {
     "duration": 0.093147,
     "end_time": "2020-11-13T16:26:59.001220",
     "exception": false,
     "start_time": "2020-11-13T16:26:58.908073",
     "status": "completed"
    },
    "tags": []
   },
   "outputs": [
    {
     "data": {
      "text/plain": [
       "'/** @module config/stopwords */\\n\\n/**\\n * Returns an array with stopwords to be used by the analyzer.\\n *\\n * @returns {Array} stopwords The array filled with stopwords.\\n */\\nexport default function() {\\n\\treturn [ \"a\", \"about\", \"above\", \"after\", \"again\", \"against\", \"all\", \"am\", \"an\", \"and\", \"any\", \"are\", \"as\", \"at\", \"be\", \"because\", \"been\", \"before\", \"being\", \"below\", \"between\", \"both\", \"but\", \"by\", \"could\", \"did\", \"do\", \"does\", \"doing\", \"down\", \"during\", \"each\", \"few\", \"for\", \"from\", \"further\", \"had\", \"has\", \"have\", \"having\", \"he\", \"he\\'d\", \"he\\'ll\", \"he\\'s\", \"her\", \"here\", \"here\\'s\", \"hers\", \"herself\", \"him\", \"himself\", \"his\", \"how\", \"how\\'s\", \"i\", \"i\\'d\", \"i\\'ll\", \"i\\'m\", \"i\\'ve\", \"if\", \"in\", \"into\", \"is\", \"it\", \"it\\'s\", \"its\", \"itself\", \"let\\'s\", \"me\", \"more\", \"most\", \"my\", \"myself\", \"nor\", \"of\", \"on\", \"once\", \"only\", \"or\", \"other\", \"ought\", \"our\", \"ours\", \"ourselves\", \"out\", \"over\", \"own\", \"same\", \"she\", \"she\\'d\", \"she\\'ll\", \"she\\'s\", \"should\", \"so\", \"some\", \"such\", \"than\", \"that\", \"that\\'s\", \"the\", \"their\", \"theirs\", \"them\", \"themselves\", \"then\", \"there\", \"there\\'s\", \"these\", \"they\", \"they\\'d\", \"they\\'ll\", \"they\\'re\", \"they\\'ve\", \"this\", \"those\", \"through\", \"to\", \"too\", \"under\", \"until\", \"up\", \"very\", \"was\", \"we\", \"we\\'d\", \"we\\'ll\", \"we\\'re\", \"we\\'ve\", \"were\", \"what\", \"what\\'s\", \"when\", \"when\\'s\", \"where\", \"where\\'s\", \"which\", \"while\", \"who\", \"who\\'s\", \"whom\", \"why\", \"why\\'s\", \"with\", \"would\", \"you\", \"you\\'d\", \"you\\'ll\", \"you\\'re\", \"you\\'ve\", \"your\", \"yours\", \"yourself\", \"yourselves\" ];\\n};\\n'"
      ]
     },
     "execution_count": 22,
     "metadata": {},
     "output_type": "execute_result"
    }
   ],
   "source": [
    "yoast_stop_words"
   ]
  },
  {
   "cell_type": "code",
   "execution_count": 23,
   "metadata": {
    "execution": {
     "iopub.execute_input": "2020-11-13T16:26:59.152144Z",
     "iopub.status.busy": "2020-11-13T16:26:59.151300Z",
     "iopub.status.idle": "2020-11-13T16:26:59.158105Z",
     "shell.execute_reply": "2020-11-13T16:26:59.159273Z"
    },
    "papermill": {
     "duration": 0.088057,
     "end_time": "2020-11-13T16:26:59.159555",
     "exception": false,
     "start_time": "2020-11-13T16:26:59.071498",
     "status": "completed"
    },
    "tags": []
   },
   "outputs": [
    {
     "name": "stdout",
     "output_type": "stream",
     "text": [
      "length of yoast_stop_words is 153\n",
      "\n",
      "{'him', \"here's\", 'this', 'could', 'had', 'few', 'below', 'be', 'himself', 'or', \"let's\", 'on', 'our', 'too', \"she's\", 'we', \"we'd\", 'having', 'to', 'was', 'against', 'each', \"he'd\", 'myself', 'there', 'they', 'until', \"we're\", 'itself', 'he', \"he'll\", 'does', 'further', 'did', 'for', 'of', 'it', 'through', 'where', 'those', 'what', 'yours', 'an', \"how's\", 'some', 'with', 'whom', 'at', 'are', 'once', \"he's\", 'and', \"you'll\", 'as', \"we've\", 'about', 'being', \"that's\", 'from', 'all', 'any', \"i'll\", 'then', \"they'll\", \"you're\", \"you've\", 'why', 'herself', 'i', \"there's\", 'how', 'by', 'his', 'were', 'you', 'again', \"when's\", 'more', 'her', 'in', 'while', 'because', 'which', 'doing', 'nor', \"she'll\", 'been', 'over', 'their', \"we'll\", \"why's\", 'than', 'other', 'should', \"she'd\", 'am', 'down', 'them', 'ourselves', 'ours', \"you'd\", \"i'd\", 'such', 'that', 'themselves', 'both', \"where's\", 'but', 'the', 'has', 'up', 'hers', 'would', 'have', 'during', 'before', 'me', 'same', 'your', 'under', 'above', \"i'm\", 'most', 'yourselves', 'between', 'my', 'into', \"who's\", 'these', 'yourself', 'very', 'its', 'is', 'after', 'own', 'who', \"what's\", \"they've\", 'do', 'if', 'out', \"they'd\", \"they're\", 'ought', 'theirs', 'here', \"i've\", 'only', 'so', 'she', 'a', 'when', \"it's\"}\n"
     ]
    }
   ],
   "source": [
    "pattern = r'\\[.+\\]'\n",
    "match = re.search(pattern, yoast_stop_words)\n",
    "yoast_stop_words = set(match.group()[1:-1].replace('\"', '').replace(',', '').split())\n",
    "print(f'length of yoast_stop_words is {len(yoast_stop_words)}\\n')\n",
    "print(yoast_stop_words)"
   ]
  },
  {
   "cell_type": "code",
   "execution_count": 24,
   "metadata": {
    "execution": {
     "iopub.execute_input": "2020-11-13T16:26:59.320457Z",
     "iopub.status.busy": "2020-11-13T16:26:59.319569Z",
     "iopub.status.idle": "2020-11-13T16:26:59.340450Z",
     "shell.execute_reply": "2020-11-13T16:26:59.341601Z"
    },
    "papermill": {
     "duration": 0.112667,
     "end_time": "2020-11-13T16:26:59.341769",
     "exception": false,
     "start_time": "2020-11-13T16:26:59.229102",
     "status": "completed"
    },
    "tags": []
   },
   "outputs": [],
   "source": [
    "stop_words_lemma = {word.lemma_.lower() for word in nlp(' '.join(spacy_stop_words | yoast_stop_words))} | \\\n",
    "{'-pron-', '10', '12', 'aah', 'aa', 'ab', 'aaa', 'aand', '16', '2', '20', '30', '4', '40', '5', '6', '7', \\\n",
    " '8', '9'}"
   ]
  },
  {
   "cell_type": "markdown",
   "metadata": {
    "papermill": {
     "duration": 0.062816,
     "end_time": "2020-11-13T16:26:59.467118",
     "exception": false,
     "start_time": "2020-11-13T16:26:59.404302",
     "status": "completed"
    },
    "tags": []
   },
   "source": [
    "### creating custom transformers to encapsulate our preprocessing"
   ]
  },
  {
   "cell_type": "code",
   "execution_count": 25,
   "metadata": {
    "execution": {
     "iopub.execute_input": "2020-11-13T16:26:59.596960Z",
     "iopub.status.busy": "2020-11-13T16:26:59.596116Z",
     "iopub.status.idle": "2020-11-13T16:26:59.599459Z",
     "shell.execute_reply": "2020-11-13T16:26:59.598877Z"
    },
    "papermill": {
     "duration": 0.069515,
     "end_time": "2020-11-13T16:26:59.599637",
     "exception": false,
     "start_time": "2020-11-13T16:26:59.530122",
     "status": "completed"
    },
    "tags": []
   },
   "outputs": [],
   "source": [
    "class GetTokens(BaseEstimator, TransformerMixin):\n",
    "    def __init__(self, stop_words=stop_words_lemma):\n",
    "        self.stop_words = stop_words\n",
    "    \n",
    "    # defining tokenzer function to tokenize the lower case lemma of documents in a corpus and \n",
    "    # filter out stop-words  \n",
    "    def tokenize(self, text):\n",
    "        return [word.lemma_.lower() for word in nlp(text) if word.is_alpha and word.lemma_.lower() \\\n",
    "                not in self.stop_words]\n",
    "\n",
    "    def fit(self, X, y=None):\n",
    "        return self\n",
    "    \n",
    "    def transform(self, X):\n",
    "        self.tokens = [self.tokenize(doc) for doc in X]\n",
    "            \n",
    "        return self.tokens"
   ]
  },
  {
   "cell_type": "code",
   "execution_count": 26,
   "metadata": {
    "execution": {
     "iopub.execute_input": "2020-11-13T16:26:59.760003Z",
     "iopub.status.busy": "2020-11-13T16:26:59.759054Z",
     "iopub.status.idle": "2020-11-13T16:26:59.761557Z",
     "shell.execute_reply": "2020-11-13T16:26:59.760855Z"
    },
    "papermill": {
     "duration": 0.101514,
     "end_time": "2020-11-13T16:26:59.761685",
     "exception": false,
     "start_time": "2020-11-13T16:26:59.660171",
     "status": "completed"
    },
    "tags": []
   },
   "outputs": [],
   "source": [
    "tokens = GetTokens()"
   ]
  },
  {
   "cell_type": "code",
   "execution_count": null,
   "metadata": {
    "papermill": {
     "duration": 0.073495,
     "end_time": "2020-11-13T16:26:59.897720",
     "exception": false,
     "start_time": "2020-11-13T16:26:59.824225",
     "status": "completed"
    },
    "tags": []
   },
   "outputs": [],
   "source": []
  },
  {
   "cell_type": "code",
   "execution_count": 27,
   "metadata": {
    "execution": {
     "iopub.execute_input": "2020-11-13T16:27:00.000095Z",
     "iopub.status.busy": "2020-11-13T16:26:59.998699Z",
     "iopub.status.idle": "2020-11-13T16:27:00.000957Z",
     "shell.execute_reply": "2020-11-13T16:27:00.001677Z"
    },
    "papermill": {
     "duration": 0.056632,
     "end_time": "2020-11-13T16:27:00.001813",
     "exception": false,
     "start_time": "2020-11-13T16:26:59.945181",
     "status": "completed"
    },
    "tags": []
   },
   "outputs": [],
   "source": [
    "class Text2Sequence(BaseEstimator, TransformerMixin):\n",
    "    def __init__(self):\n",
    "        self.sequence_tokenizer = Tokenizer(oov_token='<oov>')\n",
    "\n",
    "    def fit(self, X, y=None):\n",
    "        self.sequence_tokenizer.fit_on_texts(X)\n",
    "        self.words_indices = self.sequence_tokenizer.word_index\n",
    "        return self\n",
    "    \n",
    "    def transform(self, X):\n",
    "        self.get_sequences = self.sequence_tokenizer.texts_to_sequences(X)\n",
    "        return self.get_sequences"
   ]
  },
  {
   "cell_type": "code",
   "execution_count": 28,
   "metadata": {
    "execution": {
     "iopub.execute_input": "2020-11-13T16:27:00.101193Z",
     "iopub.status.busy": "2020-11-13T16:27:00.099297Z",
     "iopub.status.idle": "2020-11-13T16:27:00.102044Z",
     "shell.execute_reply": "2020-11-13T16:27:00.102527Z"
    },
    "papermill": {
     "duration": 0.054246,
     "end_time": "2020-11-13T16:27:00.102674",
     "exception": false,
     "start_time": "2020-11-13T16:27:00.048428",
     "status": "completed"
    },
    "tags": []
   },
   "outputs": [],
   "source": [
    "text_2_seq = Text2Sequence()"
   ]
  },
  {
   "cell_type": "code",
   "execution_count": null,
   "metadata": {
    "papermill": {
     "duration": 0.047322,
     "end_time": "2020-11-13T16:27:00.197064",
     "exception": false,
     "start_time": "2020-11-13T16:27:00.149742",
     "status": "completed"
    },
    "tags": []
   },
   "outputs": [],
   "source": []
  },
  {
   "cell_type": "code",
   "execution_count": 29,
   "metadata": {
    "execution": {
     "iopub.execute_input": "2020-11-13T16:27:00.298617Z",
     "iopub.status.busy": "2020-11-13T16:27:00.297873Z",
     "iopub.status.idle": "2020-11-13T16:27:00.301682Z",
     "shell.execute_reply": "2020-11-13T16:27:00.301147Z"
    },
    "papermill": {
     "duration": 0.057352,
     "end_time": "2020-11-13T16:27:00.301792",
     "exception": false,
     "start_time": "2020-11-13T16:27:00.244440",
     "status": "completed"
    },
    "tags": []
   },
   "outputs": [],
   "source": [
    "class Padding(BaseEstimator, TransformerMixin):\n",
    "    def __init__(self, pad='post'):\n",
    "        self.pad = pad\n",
    "    \n",
    "    def fit(self, X, y=None):\n",
    "        return self\n",
    "    \n",
    "    def transform(self, X):\n",
    "        self.get_paddings = pad_sequences(X, padding=self.pad)\n",
    "        return self.get_paddings"
   ]
  },
  {
   "cell_type": "code",
   "execution_count": 30,
   "metadata": {
    "execution": {
     "iopub.execute_input": "2020-11-13T16:27:00.400054Z",
     "iopub.status.busy": "2020-11-13T16:27:00.399136Z",
     "iopub.status.idle": "2020-11-13T16:27:00.401864Z",
     "shell.execute_reply": "2020-11-13T16:27:00.402477Z"
    },
    "papermill": {
     "duration": 0.053638,
     "end_time": "2020-11-13T16:27:00.402622",
     "exception": false,
     "start_time": "2020-11-13T16:27:00.348984",
     "status": "completed"
    },
    "tags": []
   },
   "outputs": [],
   "source": [
    "pad = Padding()"
   ]
  },
  {
   "cell_type": "code",
   "execution_count": null,
   "metadata": {
    "papermill": {
     "duration": 0.046676,
     "end_time": "2020-11-13T16:27:00.498314",
     "exception": false,
     "start_time": "2020-11-13T16:27:00.451638",
     "status": "completed"
    },
    "tags": []
   },
   "outputs": [],
   "source": []
  },
  {
   "cell_type": "code",
   "execution_count": 31,
   "metadata": {
    "execution": {
     "iopub.execute_input": "2020-11-13T16:27:00.606993Z",
     "iopub.status.busy": "2020-11-13T16:27:00.606022Z",
     "iopub.status.idle": "2020-11-13T16:27:00.609180Z",
     "shell.execute_reply": "2020-11-13T16:27:00.608574Z"
    },
    "papermill": {
     "duration": 0.061172,
     "end_time": "2020-11-13T16:27:00.609284",
     "exception": false,
     "start_time": "2020-11-13T16:27:00.548112",
     "status": "completed"
    },
    "tags": []
   },
   "outputs": [],
   "source": [
    "data_prep_pipe = Pipeline([('get_tokens', tokens), ('text_2_sequence', text_2_seq), ('padding', pad)], verbose=1)"
   ]
  },
  {
   "cell_type": "markdown",
   "metadata": {
    "papermill": {
     "duration": 0.049582,
     "end_time": "2020-11-13T16:27:00.706656",
     "exception": false,
     "start_time": "2020-11-13T16:27:00.657074",
     "status": "completed"
    },
    "tags": []
   },
   "source": [
    "## Training"
   ]
  },
  {
   "cell_type": "code",
   "execution_count": 32,
   "metadata": {
    "execution": {
     "iopub.execute_input": "2020-11-13T16:27:00.808773Z",
     "iopub.status.busy": "2020-11-13T16:27:00.807806Z",
     "iopub.status.idle": "2020-11-13T16:27:00.810322Z",
     "shell.execute_reply": "2020-11-13T16:27:00.810914Z"
    },
    "papermill": {
     "duration": 0.057463,
     "end_time": "2020-11-13T16:27:00.811070",
     "exception": false,
     "start_time": "2020-11-13T16:27:00.753607",
     "status": "completed"
    },
    "tags": []
   },
   "outputs": [],
   "source": [
    "def get_embedding_matrix(model, word_index):\n",
    "    vocab_size = len(word_index) + 1\n",
    "    embedding_dim = model.wv.vector_size\n",
    "    embedding_matrix = np.zeros((vocab_size, embedding_dim))\n",
    "    \n",
    "    for word in model.wv.vocab:\n",
    "        ind = word_index[word]\n",
    "        embedding_matrix[ind] = model[word]\n",
    "        \n",
    "    return embedding_matrix"
   ]
  },
  {
   "cell_type": "code",
   "execution_count": 33,
   "metadata": {
    "execution": {
     "iopub.execute_input": "2020-11-13T16:27:00.918563Z",
     "iopub.status.busy": "2020-11-13T16:27:00.917507Z",
     "iopub.status.idle": "2020-11-13T16:27:00.919987Z",
     "shell.execute_reply": "2020-11-13T16:27:00.920668Z"
    },
    "papermill": {
     "duration": 0.061628,
     "end_time": "2020-11-13T16:27:00.920800",
     "exception": false,
     "start_time": "2020-11-13T16:27:00.859172",
     "status": "completed"
    },
    "tags": []
   },
   "outputs": [],
   "source": [
    "def multi_class_fbeta(ytrue , ypred, beta=1, weighted=True, raw=False, epsilon=1e-7):\n",
    "    beta_squared = beta**2\n",
    "\n",
    "    ytrue = tf.cast(ytrue, tf.float32)\n",
    "    ypred= tf.cast(ypred, tf.float32)\n",
    "    \n",
    "    max_prob = tf.reduce_max(ypred, axis=-1, keepdims=True)\n",
    "    ypred = tf.cast(tf.equal(ypred, max_prob), tf.float32)\n",
    "        \n",
    "    tp = tf.reduce_sum(ytrue*ypred, axis=0)\n",
    "    predicted_positive = tf.reduce_sum(ypred, axis=0)\n",
    "    actual_positive = tf.reduce_sum(ytrue, axis=0)\n",
    "    \n",
    "    precision = tp/(predicted_positive+epsilon)\n",
    "    recall = tp/(actual_positive+epsilon)\n",
    "    \n",
    "    fb = (1+beta_squared)*precision*recall / (beta_squared*precision + recall + epsilon)\n",
    "    \n",
    "    if raw:\n",
    "        return fb\n",
    "    \n",
    "    if weighted:\n",
    "        supports = tf.reduce_sum(ytrue, axis=0)\n",
    "        return tf.reduce_sum(fb*supports / tf.reduce_sum(supports))\n",
    "\n",
    "    return tf.reduce_mean(fb)"
   ]
  },
  {
   "cell_type": "code",
   "execution_count": 34,
   "metadata": {
    "execution": {
     "iopub.execute_input": "2020-11-13T16:27:01.026113Z",
     "iopub.status.busy": "2020-11-13T16:27:01.025328Z",
     "iopub.status.idle": "2020-11-13T16:27:01.029385Z",
     "shell.execute_reply": "2020-11-13T16:27:01.028812Z"
    },
    "papermill": {
     "duration": 0.060831,
     "end_time": "2020-11-13T16:27:01.029497",
     "exception": false,
     "start_time": "2020-11-13T16:27:00.968666",
     "status": "completed"
    },
    "tags": []
   },
   "outputs": [],
   "source": [
    "def build_cnn_model(embedding_matrix, input_length):\n",
    "    model = Sequential()\n",
    "    model.add(Embedding(embedding_matrix.shape[0], embedding_matrix.shape[1], \n",
    "                           weights=[embedding_matrix], \n",
    "                           input_length=input_length,\n",
    "                           mask_zero=True,\n",
    "                           trainable=False))\n",
    "    \n",
    "    model.add(Conv1D(128, 3, activation='relu'))\n",
    "    model.add(Conv1D(128, 3, activation='relu'))\n",
    "    \n",
    "    model.add(GlobalMaxPool1D())\n",
    "    \n",
    "    model.add(Dropout(0.2))\n",
    "    \n",
    "    model.add(Dense(20, activation='softmax'))\n",
    "\n",
    "    model.compile(optimizer='adam',\n",
    "              loss='categorical_crossentropy',\n",
    "              metrics=['accuracy', multi_class_fbeta])\n",
    "\n",
    "    return model"
   ]
  },
  {
   "cell_type": "code",
   "execution_count": 35,
   "metadata": {
    "execution": {
     "iopub.execute_input": "2020-11-13T16:27:01.171585Z",
     "iopub.status.busy": "2020-11-13T16:27:01.170891Z",
     "iopub.status.idle": "2020-11-13T16:27:01.174637Z",
     "shell.execute_reply": "2020-11-13T16:27:01.175109Z"
    },
    "papermill": {
     "duration": 0.097695,
     "end_time": "2020-11-13T16:27:01.175248",
     "exception": false,
     "start_time": "2020-11-13T16:27:01.077553",
     "status": "completed"
    },
    "tags": []
   },
   "outputs": [],
   "source": [
    "def build_lstm_model(embedding_matrix, input_length):\n",
    "    model = Sequential()\n",
    "    model.add(Embedding(embedding_matrix.shape[0], embedding_matrix.shape[1], \n",
    "                           weights=[embedding_matrix], \n",
    "                           input_length=input_length,\n",
    "                           mask_zero=True,\n",
    "                           trainable=False))\n",
    "    \n",
    "    model.add(Dropout(0.5))\n",
    "    model.add(Bidirectional(LSTM(250)))\n",
    "    model.add(Dropout(0.5))\n",
    "    model.add(Dense(20, activation='softmax'))\n",
    "\n",
    "    model.compile(loss='categorical_crossentropy',optimizer='adam',metrics=['accuracy', multi_class_fbeta])\n",
    "\n",
    "    return model"
   ]
  },
  {
   "cell_type": "code",
   "execution_count": 36,
   "metadata": {
    "execution": {
     "iopub.execute_input": "2020-11-13T16:27:01.291542Z",
     "iopub.status.busy": "2020-11-13T16:27:01.289722Z",
     "iopub.status.idle": "2020-11-13T16:27:01.292265Z",
     "shell.execute_reply": "2020-11-13T16:27:01.292798Z"
    },
    "papermill": {
     "duration": 0.070319,
     "end_time": "2020-11-13T16:27:01.292928",
     "exception": false,
     "start_time": "2020-11-13T16:27:01.222609",
     "status": "completed"
    },
    "tags": []
   },
   "outputs": [],
   "source": [
    "class NLPModel(BaseEstimator, TransformerMixin):\n",
    "    def __init__(self, build_fn, epochs=7, batch_size=128, verbose=0):\n",
    "        self.build_fn = build_fn\n",
    "        self.epochs = epochs\n",
    "        self.batch_size = batch_size\n",
    "        self.verbose = verbose\n",
    "        \n",
    "    def fit(self, X, y):\n",
    "        self.corpus = data_prep_pipe.named_steps['get_tokens'].tokens\n",
    "        \n",
    "        t1 = time.time()\n",
    "        self.w2v_model = Word2Vec(self.corpus, size=300, min_count=1, iter=10)\n",
    "        \n",
    "        self.name = [k for k, v in union.transformer_list if v == self][0]\n",
    "\n",
    "        \n",
    "        print('Done training Word2Vec for {}                    total: {}mins'.format(self.name, \\\n",
    "                                                                          round((time.time()-t1)/60, 1)))\n",
    "        \n",
    "        self.embedding_matrix = get_embedding_matrix(self.w2v_model, \\\n",
    "                                                     data_prep_pipe.named_steps['text_2_sequence'].words_indices)\n",
    "        \n",
    "        self.model = self.build_fn(self.embedding_matrix, X.shape[1])\n",
    "        \n",
    "        self.le = LabelEncoder()\n",
    "        self.one_hot = OneHotEncoder(sparse=False) \n",
    "        \n",
    "        self.encoded_labels = self.le.fit_transform(y)\n",
    "        \n",
    "        self.class_weights = class_weight.compute_class_weight('balanced', np.arange(20), self.encoded_labels)\n",
    "        self.class_weights = dict(enumerate(self.class_weights))\n",
    "\n",
    "        self.one_hot_labels = self.one_hot.fit_transform(self.encoded_labels.reshape(-1, 1))\n",
    "        \n",
    "        t2 = time.time()\n",
    "        \n",
    "        self.history = self.model.fit(X, self.one_hot_labels, epochs=self.epochs, batch_size=self.batch_size, \\\n",
    "                                      class_weight=self.class_weights, verbose=self.verbose)\n",
    "        \n",
    "        print('Done training {} model                           total: {}mins'.format(self.name, \\\n",
    "                                                                          round((time.time()-t2)/60, 1)))\n",
    "        \n",
    "        return self\n",
    "    \n",
    "    def transform(self, X):\n",
    "        self.pred = self.model.predict(X)\n",
    "        return self.pred   \n",
    "        "
   ]
  },
  {
   "cell_type": "code",
   "execution_count": 37,
   "metadata": {
    "execution": {
     "iopub.execute_input": "2020-11-13T16:27:01.396612Z",
     "iopub.status.busy": "2020-11-13T16:27:01.394844Z",
     "iopub.status.idle": "2020-11-13T16:27:01.397400Z",
     "shell.execute_reply": "2020-11-13T16:27:01.397910Z"
    },
    "papermill": {
     "duration": 0.056416,
     "end_time": "2020-11-13T16:27:01.398034",
     "exception": false,
     "start_time": "2020-11-13T16:27:01.341618",
     "status": "completed"
    },
    "tags": []
   },
   "outputs": [],
   "source": [
    "cnn_model = NLPModel(build_cnn_model)"
   ]
  },
  {
   "cell_type": "code",
   "execution_count": 38,
   "metadata": {
    "execution": {
     "iopub.execute_input": "2020-11-13T16:27:01.499804Z",
     "iopub.status.busy": "2020-11-13T16:27:01.498811Z",
     "iopub.status.idle": "2020-11-13T16:27:01.501884Z",
     "shell.execute_reply": "2020-11-13T16:27:01.501383Z"
    },
    "papermill": {
     "duration": 0.054475,
     "end_time": "2020-11-13T16:27:01.501988",
     "exception": false,
     "start_time": "2020-11-13T16:27:01.447513",
     "status": "completed"
    },
    "tags": []
   },
   "outputs": [],
   "source": [
    "lstm_model = NLPModel(build_lstm_model)"
   ]
  },
  {
   "cell_type": "code",
   "execution_count": 39,
   "metadata": {
    "execution": {
     "iopub.execute_input": "2020-11-13T16:27:01.606915Z",
     "iopub.status.busy": "2020-11-13T16:27:01.606052Z",
     "iopub.status.idle": "2020-11-13T16:27:01.608525Z",
     "shell.execute_reply": "2020-11-13T16:27:01.609025Z"
    },
    "papermill": {
     "duration": 0.056055,
     "end_time": "2020-11-13T16:27:01.609149",
     "exception": false,
     "start_time": "2020-11-13T16:27:01.553094",
     "status": "completed"
    },
    "tags": []
   },
   "outputs": [],
   "source": [
    "union = FeatureUnion([('cnn_model', cnn_model), ('lstm_model', lstm_model)])"
   ]
  },
  {
   "cell_type": "code",
   "execution_count": 40,
   "metadata": {
    "execution": {
     "iopub.execute_input": "2020-11-13T16:27:01.714089Z",
     "iopub.status.busy": "2020-11-13T16:27:01.713199Z",
     "iopub.status.idle": "2020-11-13T16:27:01.715944Z",
     "shell.execute_reply": "2020-11-13T16:27:01.715357Z"
    },
    "papermill": {
     "duration": 0.056254,
     "end_time": "2020-11-13T16:27:01.716041",
     "exception": false,
     "start_time": "2020-11-13T16:27:01.659787",
     "status": "completed"
    },
    "tags": []
   },
   "outputs": [],
   "source": [
    "data_prep2 = Pipeline([('data_prep', data_prep_pipe), ('union', union)], verbose=1)"
   ]
  },
  {
   "cell_type": "code",
   "execution_count": 41,
   "metadata": {
    "execution": {
     "iopub.execute_input": "2020-11-13T16:27:01.838627Z",
     "iopub.status.busy": "2020-11-13T16:27:01.828361Z",
     "iopub.status.idle": "2020-11-13T16:37:10.820364Z",
     "shell.execute_reply": "2020-11-13T16:37:10.819858Z"
    },
    "papermill": {
     "duration": 609.0548,
     "end_time": "2020-11-13T16:37:10.820475",
     "exception": false,
     "start_time": "2020-11-13T16:27:01.765675",
     "status": "completed"
    },
    "tags": []
   },
   "outputs": [
    {
     "name": "stdout",
     "output_type": "stream",
     "text": [
      "[Pipeline] ........ (step 1 of 3) Processing get_tokens, total= 1.1min\n",
      "[Pipeline] ... (step 2 of 3) Processing text_2_sequence, total=   6.0s\n",
      "[Pipeline] ........... (step 3 of 3) Processing padding, total=   1.8s\n",
      "[Pipeline] ......... (step 1 of 2) Processing data_prep, total= 1.2min\n",
      "Done training Word2Vec for cnn_model                    total: 1.7mins\n",
      "Done training cnn_model model                           total: 0.9mins\n",
      "Done training Word2Vec for lstm_model                    total: 1.7mins\n",
      "Done training lstm_model model                           total: 3.9mins\n",
      "[Pipeline] ............. (step 2 of 2) Processing union, total= 8.9min\n"
     ]
    }
   ],
   "source": [
    "Xtt = data_prep2.fit_transform(sent_oversample_corpus, labels)"
   ]
  },
  {
   "cell_type": "code",
   "execution_count": 42,
   "metadata": {
    "execution": {
     "iopub.execute_input": "2020-11-13T16:37:10.933411Z",
     "iopub.status.busy": "2020-11-13T16:37:10.932456Z",
     "iopub.status.idle": "2020-11-13T16:37:10.937893Z",
     "shell.execute_reply": "2020-11-13T16:37:10.937393Z"
    },
    "papermill": {
     "duration": 0.06415,
     "end_time": "2020-11-13T16:37:10.937995",
     "exception": false,
     "start_time": "2020-11-13T16:37:10.873845",
     "status": "completed"
    },
    "tags": []
   },
   "outputs": [
    {
     "data": {
      "text/plain": [
       "(159648, 40)"
      ]
     },
     "execution_count": 42,
     "metadata": {},
     "output_type": "execute_result"
    }
   ],
   "source": [
    "Xtt.shape"
   ]
  },
  {
   "cell_type": "code",
   "execution_count": 43,
   "metadata": {
    "execution": {
     "iopub.execute_input": "2020-11-13T16:37:11.047481Z",
     "iopub.status.busy": "2020-11-13T16:37:11.046865Z",
     "iopub.status.idle": "2020-11-13T16:37:11.051494Z",
     "shell.execute_reply": "2020-11-13T16:37:11.050923Z"
    },
    "papermill": {
     "duration": 0.060456,
     "end_time": "2020-11-13T16:37:11.051623",
     "exception": false,
     "start_time": "2020-11-13T16:37:10.991167",
     "status": "completed"
    },
    "tags": []
   },
   "outputs": [],
   "source": [
    "ytt = union.transformer_list[0][1].one_hot_labels"
   ]
  },
  {
   "cell_type": "code",
   "execution_count": 44,
   "metadata": {
    "execution": {
     "iopub.execute_input": "2020-11-13T16:37:11.167108Z",
     "iopub.status.busy": "2020-11-13T16:37:11.165887Z",
     "iopub.status.idle": "2020-11-13T16:37:11.170011Z",
     "shell.execute_reply": "2020-11-13T16:37:11.169498Z"
    },
    "papermill": {
     "duration": 0.066397,
     "end_time": "2020-11-13T16:37:11.170112",
     "exception": false,
     "start_time": "2020-11-13T16:37:11.103715",
     "status": "completed"
    },
    "tags": []
   },
   "outputs": [
    {
     "data": {
      "text/plain": [
       "(159648, 20)"
      ]
     },
     "execution_count": 44,
     "metadata": {},
     "output_type": "execute_result"
    }
   ],
   "source": [
    "ytt.shape"
   ]
  },
  {
   "cell_type": "code",
   "execution_count": 45,
   "metadata": {
    "execution": {
     "iopub.execute_input": "2020-11-13T16:37:11.282320Z",
     "iopub.status.busy": "2020-11-13T16:37:11.281446Z",
     "iopub.status.idle": "2020-11-13T16:37:11.284461Z",
     "shell.execute_reply": "2020-11-13T16:37:11.283981Z"
    },
    "papermill": {
     "duration": 0.062298,
     "end_time": "2020-11-13T16:37:11.284594",
     "exception": false,
     "start_time": "2020-11-13T16:37:11.222296",
     "status": "completed"
    },
    "tags": []
   },
   "outputs": [],
   "source": [
    "def build_blender():\n",
    "    model = Sequential()\n",
    "\n",
    "    model.add(Dense(20, activation='softmax')) # this layer will find the best combination of CNN and LSTM\n",
    "    \n",
    "    model.compile(loss='categorical_crossentropy',optimizer='adam',metrics=['accuracy', multi_class_fbeta])\n",
    "\n",
    "    return model"
   ]
  },
  {
   "cell_type": "code",
   "execution_count": 46,
   "metadata": {
    "execution": {
     "iopub.execute_input": "2020-11-13T16:37:11.404370Z",
     "iopub.status.busy": "2020-11-13T16:37:11.403257Z",
     "iopub.status.idle": "2020-11-13T16:37:11.419189Z",
     "shell.execute_reply": "2020-11-13T16:37:11.418078Z"
    },
    "papermill": {
     "duration": 0.081576,
     "end_time": "2020-11-13T16:37:11.419299",
     "exception": false,
     "start_time": "2020-11-13T16:37:11.337723",
     "status": "completed"
    },
    "tags": []
   },
   "outputs": [],
   "source": [
    "model = build_blender()"
   ]
  },
  {
   "cell_type": "code",
   "execution_count": 47,
   "metadata": {
    "execution": {
     "iopub.execute_input": "2020-11-13T16:37:11.530875Z",
     "iopub.status.busy": "2020-11-13T16:37:11.530155Z",
     "iopub.status.idle": "2020-11-13T16:38:11.615449Z",
     "shell.execute_reply": "2020-11-13T16:38:11.614864Z"
    },
    "papermill": {
     "duration": 60.143382,
     "end_time": "2020-11-13T16:38:11.615614",
     "exception": false,
     "start_time": "2020-11-13T16:37:11.472232",
     "status": "completed"
    },
    "tags": []
   },
   "outputs": [
    {
     "name": "stdout",
     "output_type": "stream",
     "text": [
      "Epoch 1/20\n",
      "936/936 [==============================] - 3s 3ms/step - loss: 1.7579 - accuracy: 0.7759 - multi_class_fbeta: 0.7561 - val_loss: 1.1761 - val_accuracy: 0.8719 - val_multi_class_fbeta: 0.8747\n",
      "Epoch 2/20\n",
      "936/936 [==============================] - 3s 3ms/step - loss: 0.6582 - accuracy: 0.9103 - multi_class_fbeta: 0.9114 - val_loss: 0.6108 - val_accuracy: 0.8834 - val_multi_class_fbeta: 0.8868\n",
      "Epoch 3/20\n",
      "936/936 [==============================] - 3s 4ms/step - loss: 0.4133 - accuracy: 0.9116 - multi_class_fbeta: 0.9131 - val_loss: 0.4709 - val_accuracy: 0.8846 - val_multi_class_fbeta: 0.8881\n",
      "Epoch 4/20\n",
      "936/936 [==============================] - 3s 3ms/step - loss: 0.3435 - accuracy: 0.9121 - multi_class_fbeta: 0.9136 - val_loss: 0.4225 - val_accuracy: 0.8850 - val_multi_class_fbeta: 0.8885\n",
      "Epoch 5/20\n",
      "936/936 [==============================] - 4s 4ms/step - loss: 0.3157 - accuracy: 0.9127 - multi_class_fbeta: 0.9140 - val_loss: 0.4018 - val_accuracy: 0.8851 - val_multi_class_fbeta: 0.8887\n",
      "Epoch 6/20\n",
      "936/936 [==============================] - 3s 3ms/step - loss: 0.3025 - accuracy: 0.9132 - multi_class_fbeta: 0.9143 - val_loss: 0.3915 - val_accuracy: 0.8851 - val_multi_class_fbeta: 0.8889\n",
      "Epoch 7/20\n",
      "936/936 [==============================] - 3s 3ms/step - loss: 0.2953 - accuracy: 0.9136 - multi_class_fbeta: 0.9147 - val_loss: 0.3864 - val_accuracy: 0.8852 - val_multi_class_fbeta: 0.8891\n",
      "Epoch 8/20\n",
      "936/936 [==============================] - 3s 3ms/step - loss: 0.2911 - accuracy: 0.9138 - multi_class_fbeta: 0.9149 - val_loss: 0.3831 - val_accuracy: 0.8854 - val_multi_class_fbeta: 0.8892\n",
      "Epoch 9/20\n",
      "936/936 [==============================] - 3s 3ms/step - loss: 0.2884 - accuracy: 0.9141 - multi_class_fbeta: 0.9152 - val_loss: 0.3814 - val_accuracy: 0.8857 - val_multi_class_fbeta: 0.8895\n",
      "Epoch 10/20\n",
      "936/936 [==============================] - 3s 3ms/step - loss: 0.2865 - accuracy: 0.9143 - multi_class_fbeta: 0.9154 - val_loss: 0.3803 - val_accuracy: 0.8856 - val_multi_class_fbeta: 0.8895\n",
      "Epoch 11/20\n",
      "936/936 [==============================] - 3s 3ms/step - loss: 0.2852 - accuracy: 0.9143 - multi_class_fbeta: 0.9155 - val_loss: 0.3795 - val_accuracy: 0.8856 - val_multi_class_fbeta: 0.8895\n",
      "Epoch 12/20\n",
      "936/936 [==============================] - 3s 3ms/step - loss: 0.2842 - accuracy: 0.9146 - multi_class_fbeta: 0.9156 - val_loss: 0.3788 - val_accuracy: 0.8858 - val_multi_class_fbeta: 0.8898\n",
      "Epoch 13/20\n",
      "936/936 [==============================] - 3s 3ms/step - loss: 0.2834 - accuracy: 0.9147 - multi_class_fbeta: 0.9156 - val_loss: 0.3781 - val_accuracy: 0.8858 - val_multi_class_fbeta: 0.8899\n",
      "Epoch 14/20\n",
      "936/936 [==============================] - 3s 3ms/step - loss: 0.2827 - accuracy: 0.9147 - multi_class_fbeta: 0.9157 - val_loss: 0.3777 - val_accuracy: 0.8855 - val_multi_class_fbeta: 0.8896\n",
      "Epoch 15/20\n",
      "936/936 [==============================] - 3s 3ms/step - loss: 0.2822 - accuracy: 0.9148 - multi_class_fbeta: 0.9159 - val_loss: 0.3778 - val_accuracy: 0.8856 - val_multi_class_fbeta: 0.8896\n",
      "Epoch 16/20\n",
      "936/936 [==============================] - 4s 4ms/step - loss: 0.2818 - accuracy: 0.9150 - multi_class_fbeta: 0.9160 - val_loss: 0.3777 - val_accuracy: 0.8856 - val_multi_class_fbeta: 0.8897\n",
      "Epoch 17/20\n",
      "936/936 [==============================] - 3s 3ms/step - loss: 0.2814 - accuracy: 0.9149 - multi_class_fbeta: 0.9158 - val_loss: 0.3774 - val_accuracy: 0.8857 - val_multi_class_fbeta: 0.8897\n",
      "Epoch 18/20\n",
      "936/936 [==============================] - 3s 3ms/step - loss: 0.2811 - accuracy: 0.9151 - multi_class_fbeta: 0.9158 - val_loss: 0.3772 - val_accuracy: 0.8858 - val_multi_class_fbeta: 0.8898\n",
      "Epoch 19/20\n",
      "936/936 [==============================] - 3s 3ms/step - loss: 0.2808 - accuracy: 0.9152 - multi_class_fbeta: 0.9160 - val_loss: 0.3772 - val_accuracy: 0.8855 - val_multi_class_fbeta: 0.8896\n",
      "Epoch 20/20\n",
      "936/936 [==============================] - 3s 3ms/step - loss: 0.2805 - accuracy: 0.9152 - multi_class_fbeta: 0.9163 - val_loss: 0.3770 - val_accuracy: 0.8858 - val_multi_class_fbeta: 0.8899\n"
     ]
    }
   ],
   "source": [
    "history = model.fit(Xtt, ytt, epochs=20, batch_size=128, \\\n",
    "                    validation_split=0.25, verbose=1)"
   ]
  },
  {
   "cell_type": "markdown",
   "metadata": {
    "papermill": {
     "duration": 0.373573,
     "end_time": "2020-11-13T16:38:12.363166",
     "exception": false,
     "start_time": "2020-11-13T16:38:11.989593",
     "status": "completed"
    },
    "tags": []
   },
   "source": [
    "## Learning Curve"
   ]
  },
  {
   "cell_type": "code",
   "execution_count": 48,
   "metadata": {
    "execution": {
     "iopub.execute_input": "2020-11-13T16:38:13.129039Z",
     "iopub.status.busy": "2020-11-13T16:38:13.127174Z",
     "iopub.status.idle": "2020-11-13T16:38:13.129800Z",
     "shell.execute_reply": "2020-11-13T16:38:13.130262Z"
    },
    "papermill": {
     "duration": 0.390533,
     "end_time": "2020-11-13T16:38:13.130378",
     "exception": false,
     "start_time": "2020-11-13T16:38:12.739845",
     "status": "completed"
    },
    "tags": []
   },
   "outputs": [],
   "source": [
    "plt.style.use('ggplot')\n",
    "\n",
    "def plot_history(history):\n",
    "    acc = history.history['accuracy']\n",
    "    val_acc = history.history['val_accuracy']\n",
    "    fbeta = history.history['multi_class_fbeta']\n",
    "    val_fbeta = history.history['val_multi_class_fbeta']\n",
    "    loss = history.history['loss']\n",
    "    val_loss = history.history['val_loss']\n",
    "    epochs = range(1, len(acc)+1)\n",
    "\n",
    "    metrics = {'loss': (loss, val_loss), 'accuracy': (acc, val_acc), 'fbeta': (fbeta, val_fbeta)}\n",
    "    \n",
    "    plt.figure(figsize=(18, 5))\n",
    "    \n",
    "    for i, metric in zip(range(1, 4), list(metrics.keys())):\n",
    "        plt.subplot(1, 3, i)\n",
    "        plt.plot(epochs, metrics[metric][0], 'b', label='Training ' + metric)\n",
    "        plt.plot(epochs, metrics[metric][1], 'r', label='Validation ' + metric)\n",
    "        plt.title('Training and validation ' + metric)\n",
    "        plt.legend()"
   ]
  },
  {
   "cell_type": "code",
   "execution_count": 49,
   "metadata": {
    "execution": {
     "iopub.execute_input": "2020-11-13T16:38:13.880489Z",
     "iopub.status.busy": "2020-11-13T16:38:13.879792Z",
     "iopub.status.idle": "2020-11-13T16:38:14.455425Z",
     "shell.execute_reply": "2020-11-13T16:38:14.456061Z"
    },
    "papermill": {
     "duration": 0.955853,
     "end_time": "2020-11-13T16:38:14.456209",
     "exception": false,
     "start_time": "2020-11-13T16:38:13.500356",
     "status": "completed"
    },
    "tags": []
   },
   "outputs": [
    {
     "data": {
      "image/png": "[encoded data removed]",
      "text/plain": [
       "<Figure size 1296x360 with 3 Axes>"
      ]
     },
     "metadata": {},
     "output_type": "display_data"
    }
   ],
   "source": [
    "plot_history(history)"
   ]
  },
  {
   "cell_type": "markdown",
   "metadata": {
    "papermill": {
     "duration": 0.376277,
     "end_time": "2020-11-13T16:38:15.235063",
     "exception": false,
     "start_time": "2020-11-13T16:38:14.858786",
     "status": "completed"
    },
    "tags": []
   },
   "source": [
    "## The f1score and accuracy seem not to increase after the 5th epoch. Our best epoch for our blender is 5"
   ]
  },
  {
   "cell_type": "markdown",
   "metadata": {
    "papermill": {
     "duration": 0.37722,
     "end_time": "2020-11-13T16:38:15.999592",
     "exception": false,
     "start_time": "2020-11-13T16:38:15.622372",
     "status": "completed"
    },
    "tags": []
   },
   "source": [
    "## We will not do cross validation due to the high time complexity but only evaluate on stratisfied train_test_split."
   ]
  },
  {
   "cell_type": "code",
   "execution_count": null,
   "metadata": {
    "papermill": {
     "duration": 0.378342,
     "end_time": "2020-11-13T16:38:16.752933",
     "exception": false,
     "start_time": "2020-11-13T16:38:16.374591",
     "status": "completed"
    },
    "tags": []
   },
   "outputs": [],
   "source": []
  },
  {
   "cell_type": "code",
   "execution_count": 50,
   "metadata": {
    "execution": {
     "iopub.execute_input": "2020-11-13T16:38:17.513513Z",
     "iopub.status.busy": "2020-11-13T16:38:17.512394Z",
     "iopub.status.idle": "2020-11-13T16:38:22.198144Z",
     "shell.execute_reply": "2020-11-13T16:38:22.199328Z"
    },
    "papermill": {
     "duration": 5.070542,
     "end_time": "2020-11-13T16:38:22.199517",
     "exception": false,
     "start_time": "2020-11-13T16:38:17.128975",
     "status": "completed"
    },
    "tags": []
   },
   "outputs": [],
   "source": [
    "X_train, X_test, y_train, y_test = train_test_split(Xtt, ytt, test_size=0.25, \\\n",
    "                                                    stratify=ytt, random_state=1)"
   ]
  },
  {
   "cell_type": "code",
   "execution_count": 51,
   "metadata": {
    "execution": {
     "iopub.execute_input": "2020-11-13T16:38:23.063850Z",
     "iopub.status.busy": "2020-11-13T16:38:23.062752Z",
     "iopub.status.idle": "2020-11-13T16:38:23.077200Z",
     "shell.execute_reply": "2020-11-13T16:38:23.077803Z"
    },
    "papermill": {
     "duration": 0.437429,
     "end_time": "2020-11-13T16:38:23.077950",
     "exception": false,
     "start_time": "2020-11-13T16:38:22.640521",
     "status": "completed"
    },
    "tags": []
   },
   "outputs": [],
   "source": [
    "model2 = build_blender()"
   ]
  },
  {
   "cell_type": "code",
   "execution_count": 52,
   "metadata": {
    "execution": {
     "iopub.execute_input": "2020-11-13T16:38:23.862839Z",
     "iopub.status.busy": "2020-11-13T16:38:23.861839Z",
     "iopub.status.idle": "2020-11-13T16:38:36.745120Z",
     "shell.execute_reply": "2020-11-13T16:38:36.744629Z"
    },
    "papermill": {
     "duration": 13.281667,
     "end_time": "2020-11-13T16:38:36.745227",
     "exception": false,
     "start_time": "2020-11-13T16:38:23.463560",
     "status": "completed"
    },
    "tags": []
   },
   "outputs": [
    {
     "name": "stdout",
     "output_type": "stream",
     "text": [
      "Epoch 1/5\n",
      "936/936 [==============================] - 2s 3ms/step - loss: 1.8685 - accuracy: 0.7407 - multi_class_fbeta: 0.7209\n",
      "Epoch 2/5\n",
      "936/936 [==============================] - 3s 3ms/step - loss: 0.7045 - accuracy: 0.9020 - multi_class_fbeta: 0.9031\n",
      "Epoch 3/5\n",
      "936/936 [==============================] - 3s 3ms/step - loss: 0.4401 - accuracy: 0.9042 - multi_class_fbeta: 0.9056\n",
      "Epoch 4/5\n",
      "936/936 [==============================] - 2s 3ms/step - loss: 0.3662 - accuracy: 0.9051 - multi_class_fbeta: 0.9064\n",
      "Epoch 5/5\n",
      "936/936 [==============================] - 2s 2ms/step - loss: 0.3372 - accuracy: 0.9057 - multi_class_fbeta: 0.9070\n"
     ]
    },
    {
     "data": {
      "text/plain": [
       "<tensorflow.python.keras.callbacks.History at 0x7fa0a4401a10>"
      ]
     },
     "execution_count": 52,
     "metadata": {},
     "output_type": "execute_result"
    }
   ],
   "source": [
    "model2.fit(X_train, y_train,\n",
    "                    epochs=5, # using the best epoch from model1\n",
    "                    verbose=True,\n",
    "                    batch_size=128)"
   ]
  },
  {
   "cell_type": "code",
   "execution_count": 53,
   "metadata": {
    "execution": {
     "iopub.execute_input": "2020-11-13T16:38:37.685576Z",
     "iopub.status.busy": "2020-11-13T16:38:37.684425Z",
     "iopub.status.idle": "2020-11-13T16:38:39.679386Z",
     "shell.execute_reply": "2020-11-13T16:38:39.678876Z"
    },
    "papermill": {
     "duration": 2.46994,
     "end_time": "2020-11-13T16:38:39.679502",
     "exception": false,
     "start_time": "2020-11-13T16:38:37.209562",
     "status": "completed"
    },
    "tags": []
   },
   "outputs": [
    {
     "name": "stdout",
     "output_type": "stream",
     "text": [
      "Training Accuracy: 0.9059\n",
      "Training Fbeta: 0.9071\n",
      "\n",
      "Testing Accuracy: 0.9042\n",
      "Testing Fbeta: 0.9055\n"
     ]
    }
   ],
   "source": [
    "loss, accuracy, fbeta = model2.evaluate(X_train, y_train, batch_size=128, verbose=False)\n",
    "print('Training Accuracy: {:.4f}\\nTraining Fbeta: {:.4f}'.format(accuracy, fbeta))\n",
    "print()\n",
    "loss, accuracy, fbeta = model2.evaluate(X_test, y_test, batch_size=128, verbose=False)\n",
    "print('Testing Accuracy: {:.4f}\\nTesting Fbeta: {:.4f}'.format(accuracy, fbeta))"
   ]
  },
  {
   "cell_type": "markdown",
   "metadata": {
    "papermill": {
     "duration": 0.455098,
     "end_time": "2020-11-13T16:38:40.598150",
     "exception": false,
     "start_time": "2020-11-13T16:38:40.143052",
     "status": "completed"
    },
    "tags": []
   },
   "source": [
    "## Our blended model seem to out-perform both CNN and LSTM. It also greatly reduced overfitting."
   ]
  },
  {
   "cell_type": "code",
   "execution_count": null,
   "metadata": {
    "papermill": {
     "duration": 0.457732,
     "end_time": "2020-11-13T16:38:41.517368",
     "exception": false,
     "start_time": "2020-11-13T16:38:41.059636",
     "status": "completed"
    },
    "tags": []
   },
   "outputs": [],
   "source": []
  }
 ],
 "metadata": {
  "kernelspec": {
   "display_name": "Python 3",
   "language": "python",
   "name": "python3"
  },
  "language_info": {
   "codemirror_mode": {
    "name": "ipython",
    "version": 3
   },
   "file_extension": ".py",
   "mimetype": "text/x-python",
   "name": "python",
   "nbconvert_exporter": "python",
   "pygments_lexer": "ipython3",
   "version": "3.7.7"
  },
  "papermill": {
   "duration": 735.382968,
   "end_time": "2020-11-13T16:38:43.349373",
   "environment_variables": {},
   "exception": null,
   "input_path": "__notebook__.ipynb",
   "output_path": "__notebook__.ipynb",
   "parameters": {},
   "start_time": "2020-11-13T16:26:27.966405",
   "version": "2.1.0"
  }
 },
 "nbformat": 4,
 "nbformat_minor": 4
}
