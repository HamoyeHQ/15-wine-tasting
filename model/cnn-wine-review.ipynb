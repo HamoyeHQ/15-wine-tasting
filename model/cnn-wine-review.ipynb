{
 "cells": [
  {
   "cell_type": "markdown",
   "metadata": {
    "papermill": {
     "duration": 0.075091,
     "end_time": "2020-11-08T14:29:00.689100",
     "exception": false,
     "start_time": "2020-11-08T14:29:00.614009",
     "status": "completed"
    },
    "tags": []
   },
   "source": [
    "# Modelling with CNN"
   ]
  },
  {
   "cell_type": "code",
   "execution_count": 1,
   "metadata": {
    "execution": {
     "iopub.execute_input": "2020-11-08T14:29:00.845595Z",
     "iopub.status.busy": "2020-11-08T14:29:00.844759Z",
     "iopub.status.idle": "2020-11-08T14:29:01.811186Z",
     "shell.execute_reply": "2020-11-08T14:29:01.810457Z"
    },
    "papermill": {
     "duration": 1.048765,
     "end_time": "2020-11-08T14:29:01.811316",
     "exception": false,
     "start_time": "2020-11-08T14:29:00.762551",
     "status": "completed"
    },
    "tags": []
   },
   "outputs": [],
   "source": [
    "# importing useful libraries\n",
    "import numpy as np\n",
    "import pandas as pd\n",
    "import matplotlib.pyplot as plt\n",
    "import seaborn as sns\n",
    "\n",
    "import warnings\n",
    "warnings.filterwarnings('ignore')\n",
    "\n",
    "%matplotlib inline"
   ]
  },
  {
   "cell_type": "markdown",
   "metadata": {
    "papermill": {
     "duration": 0.073938,
     "end_time": "2020-11-08T14:29:01.962144",
     "exception": false,
     "start_time": "2020-11-08T14:29:01.888206",
     "status": "completed"
    },
    "tags": []
   },
   "source": [
    "## Loading in our selected top varieties data "
   ]
  },
  {
   "cell_type": "code",
   "execution_count": 2,
   "metadata": {
    "execution": {
     "iopub.execute_input": "2020-11-08T14:29:02.119479Z",
     "iopub.status.busy": "2020-11-08T14:29:02.118474Z",
     "iopub.status.idle": "2020-11-08T14:29:03.090828Z",
     "shell.execute_reply": "2020-11-08T14:29:03.091487Z"
    },
    "papermill": {
     "duration": 1.055704,
     "end_time": "2020-11-08T14:29:03.091673",
     "exception": false,
     "start_time": "2020-11-08T14:29:02.035969",
     "status": "completed"
    },
    "tags": []
   },
   "outputs": [
    {
     "data": {
      "text/html": [
       "<div>\n",
       "<style scoped>\n",
       "    .dataframe tbody tr th:only-of-type {\n",
       "        vertical-align: middle;\n",
       "    }\n",
       "\n",
       "    .dataframe tbody tr th {\n",
       "        vertical-align: top;\n",
       "    }\n",
       "\n",
       "    .dataframe thead th {\n",
       "        text-align: right;\n",
       "    }\n",
       "</style>\n",
       "<table border=\"1\" class=\"dataframe\">\n",
       "  <thead>\n",
       "    <tr style=\"text-align: right;\">\n",
       "      <th></th>\n",
       "      <th>country</th>\n",
       "      <th>description</th>\n",
       "      <th>designation</th>\n",
       "      <th>points</th>\n",
       "      <th>price</th>\n",
       "      <th>province</th>\n",
       "      <th>region_1</th>\n",
       "      <th>region_2</th>\n",
       "      <th>taster_name</th>\n",
       "      <th>taster_twitter_handle</th>\n",
       "      <th>title</th>\n",
       "      <th>variety</th>\n",
       "      <th>winery</th>\n",
       "      <th>not_vintage</th>\n",
       "      <th>vintage</th>\n",
       "    </tr>\n",
       "  </thead>\n",
       "  <tbody>\n",
       "    <tr>\n",
       "      <th>0</th>\n",
       "      <td>Italy</td>\n",
       "      <td>Aromas include tropical fruit, broom, brimston...</td>\n",
       "      <td>Vulkà Bianco</td>\n",
       "      <td>87</td>\n",
       "      <td>NaN</td>\n",
       "      <td>Sicily &amp; Sardinia</td>\n",
       "      <td>Etna</td>\n",
       "      <td>NaN</td>\n",
       "      <td>Kerin O’Keefe</td>\n",
       "      <td>@kerinokeefe</td>\n",
       "      <td>Nicosia 2013 Vulkà Bianco  (Etna)</td>\n",
       "      <td>White Blend</td>\n",
       "      <td>Nicosia</td>\n",
       "      <td>Italy Vulkà Bianco Sicily &amp; Sardinia Etna Nicosia</td>\n",
       "      <td>2013.0</td>\n",
       "    </tr>\n",
       "    <tr>\n",
       "      <th>1</th>\n",
       "      <td>Portugal</td>\n",
       "      <td>This is ripe and fruity, a wine that is smooth...</td>\n",
       "      <td>Avidagos</td>\n",
       "      <td>87</td>\n",
       "      <td>15.0</td>\n",
       "      <td>Douro</td>\n",
       "      <td>NaN</td>\n",
       "      <td>NaN</td>\n",
       "      <td>Roger Voss</td>\n",
       "      <td>@vossroger</td>\n",
       "      <td>Quinta dos Avidagos 2011 Avidagos Red (Douro)</td>\n",
       "      <td>Portuguese Red</td>\n",
       "      <td>Quinta dos Avidagos</td>\n",
       "      <td>Portugal Avidagos Douro Quinta dos Avidagos</td>\n",
       "      <td>2011.0</td>\n",
       "    </tr>\n",
       "  </tbody>\n",
       "</table>\n",
       "</div>"
      ],
      "text/plain": [
       "    country                                        description   designation  \\\n",
       "0     Italy  Aromas include tropical fruit, broom, brimston...  Vulkà Bianco   \n",
       "1  Portugal  This is ripe and fruity, a wine that is smooth...      Avidagos   \n",
       "\n",
       "   points  price           province region_1 region_2    taster_name  \\\n",
       "0      87    NaN  Sicily & Sardinia     Etna      NaN  Kerin O’Keefe   \n",
       "1      87   15.0              Douro      NaN      NaN     Roger Voss   \n",
       "\n",
       "  taster_twitter_handle                                          title  \\\n",
       "0          @kerinokeefe              Nicosia 2013 Vulkà Bianco  (Etna)   \n",
       "1            @vossroger  Quinta dos Avidagos 2011 Avidagos Red (Douro)   \n",
       "\n",
       "          variety               winery  \\\n",
       "0     White Blend              Nicosia   \n",
       "1  Portuguese Red  Quinta dos Avidagos   \n",
       "\n",
       "                                         not_vintage  vintage  \n",
       "0  Italy Vulkà Bianco Sicily & Sardinia Etna Nicosia   2013.0  \n",
       "1        Portugal Avidagos Douro Quinta dos Avidagos   2011.0  "
      ]
     },
     "execution_count": 2,
     "metadata": {},
     "output_type": "execute_result"
    }
   ],
   "source": [
    "top_varieties_count = pd.read_csv('../input/wine-review-data-top-varieties/top_varieties_count.csv')\n",
    "top_40_varieties = pd.read_csv('../input/wine-review-data-top-varieties/top_40_varieties.csv')\n",
    "top_40_varieties.head(2)"
   ]
  },
  {
   "cell_type": "markdown",
   "metadata": {
    "papermill": {
     "duration": 0.075138,
     "end_time": "2020-11-08T14:29:03.244345",
     "exception": false,
     "start_time": "2020-11-08T14:29:03.169207",
     "status": "completed"
    },
    "tags": []
   },
   "source": [
    "### We know that in our dataset, *'United States of America'* is abrreviated as *'US'* and this will make our model to find it difficult to differentiate between the word *'us'* as a first person plural and as a country (after converting to lower case). We will solve this issue by replacing every occurence of *'US'* in ````country```` and ````not_vintage```` with *'United States of America'*."
   ]
  },
  {
   "cell_type": "code",
   "execution_count": 3,
   "metadata": {
    "execution": {
     "iopub.execute_input": "2020-11-08T14:29:03.418349Z",
     "iopub.status.busy": "2020-11-08T14:29:03.417595Z",
     "iopub.status.idle": "2020-11-08T14:29:03.451828Z",
     "shell.execute_reply": "2020-11-08T14:29:03.451175Z"
    },
    "papermill": {
     "duration": 0.133234,
     "end_time": "2020-11-08T14:29:03.451998",
     "exception": false,
     "start_time": "2020-11-08T14:29:03.318764",
     "status": "completed"
    },
    "tags": []
   },
   "outputs": [
    {
     "data": {
      "text/html": [
       "<div>\n",
       "<style scoped>\n",
       "    .dataframe tbody tr th:only-of-type {\n",
       "        vertical-align: middle;\n",
       "    }\n",
       "\n",
       "    .dataframe tbody tr th {\n",
       "        vertical-align: top;\n",
       "    }\n",
       "\n",
       "    .dataframe thead th {\n",
       "        text-align: right;\n",
       "    }\n",
       "</style>\n",
       "<table border=\"1\" class=\"dataframe\">\n",
       "  <thead>\n",
       "    <tr style=\"text-align: right;\">\n",
       "      <th></th>\n",
       "      <th>country</th>\n",
       "      <th>description</th>\n",
       "      <th>designation</th>\n",
       "      <th>points</th>\n",
       "      <th>price</th>\n",
       "      <th>province</th>\n",
       "      <th>region_1</th>\n",
       "      <th>region_2</th>\n",
       "      <th>taster_name</th>\n",
       "      <th>taster_twitter_handle</th>\n",
       "      <th>title</th>\n",
       "      <th>variety</th>\n",
       "      <th>winery</th>\n",
       "      <th>not_vintage</th>\n",
       "      <th>vintage</th>\n",
       "    </tr>\n",
       "  </thead>\n",
       "  <tbody>\n",
       "    <tr>\n",
       "      <th>2</th>\n",
       "      <td>US</td>\n",
       "      <td>Tart and snappy, the flavors of lime flesh and...</td>\n",
       "      <td>NaN</td>\n",
       "      <td>87</td>\n",
       "      <td>14.0</td>\n",
       "      <td>Oregon</td>\n",
       "      <td>Willamette Valley</td>\n",
       "      <td>Willamette Valley</td>\n",
       "      <td>Paul Gregutt</td>\n",
       "      <td>@paulgwine</td>\n",
       "      <td>Rainstorm 2013 Pinot Gris (Willamette Valley)</td>\n",
       "      <td>Pinot Gris</td>\n",
       "      <td>Rainstorm</td>\n",
       "      <td>US Oregon Willamette Valley Willamette Valley ...</td>\n",
       "      <td>2013.0</td>\n",
       "    </tr>\n",
       "    <tr>\n",
       "      <th>3</th>\n",
       "      <td>US</td>\n",
       "      <td>Pineapple rind, lemon pith and orange blossom ...</td>\n",
       "      <td>Reserve Late Harvest</td>\n",
       "      <td>87</td>\n",
       "      <td>13.0</td>\n",
       "      <td>Michigan</td>\n",
       "      <td>Lake Michigan Shore</td>\n",
       "      <td>NaN</td>\n",
       "      <td>Alexander Peartree</td>\n",
       "      <td>NaN</td>\n",
       "      <td>St. Julian 2013 Reserve Late Harvest Riesling ...</td>\n",
       "      <td>Riesling</td>\n",
       "      <td>St. Julian</td>\n",
       "      <td>US Reserve Late Harvest Michigan Lake Michigan...</td>\n",
       "      <td>2013.0</td>\n",
       "    </tr>\n",
       "  </tbody>\n",
       "</table>\n",
       "</div>"
      ],
      "text/plain": [
       "  country                                        description  \\\n",
       "2      US  Tart and snappy, the flavors of lime flesh and...   \n",
       "3      US  Pineapple rind, lemon pith and orange blossom ...   \n",
       "\n",
       "            designation  points  price  province             region_1  \\\n",
       "2                   NaN      87   14.0    Oregon    Willamette Valley   \n",
       "3  Reserve Late Harvest      87   13.0  Michigan  Lake Michigan Shore   \n",
       "\n",
       "            region_2         taster_name taster_twitter_handle  \\\n",
       "2  Willamette Valley        Paul Gregutt           @paulgwine    \n",
       "3                NaN  Alexander Peartree                   NaN   \n",
       "\n",
       "                                               title     variety      winery  \\\n",
       "2      Rainstorm 2013 Pinot Gris (Willamette Valley)  Pinot Gris   Rainstorm   \n",
       "3  St. Julian 2013 Reserve Late Harvest Riesling ...    Riesling  St. Julian   \n",
       "\n",
       "                                         not_vintage  vintage  \n",
       "2  US Oregon Willamette Valley Willamette Valley ...   2013.0  \n",
       "3  US Reserve Late Harvest Michigan Lake Michigan...   2013.0  "
      ]
     },
     "execution_count": 3,
     "metadata": {},
     "output_type": "execute_result"
    }
   ],
   "source": [
    "top_40_varieties[top_40_varieties['country'] == 'US'].head(2) # a view of wine review data of US"
   ]
  },
  {
   "cell_type": "code",
   "execution_count": 4,
   "metadata": {
    "execution": {
     "iopub.execute_input": "2020-11-08T14:29:03.617502Z",
     "iopub.status.busy": "2020-11-08T14:29:03.616677Z",
     "iopub.status.idle": "2020-11-08T14:29:03.660733Z",
     "shell.execute_reply": "2020-11-08T14:29:03.660163Z"
    },
    "papermill": {
     "duration": 0.127879,
     "end_time": "2020-11-08T14:29:03.660830",
     "exception": false,
     "start_time": "2020-11-08T14:29:03.532951",
     "status": "completed"
    },
    "tags": []
   },
   "outputs": [
    {
     "data": {
      "text/plain": [
       "50734"
      ]
     },
     "execution_count": 4,
     "metadata": {},
     "output_type": "execute_result"
    }
   ],
   "source": [
    "top_40_varieties['not_vintage'].apply(lambda x: 'US' in x).sum() # checks the number of rows with US"
   ]
  },
  {
   "cell_type": "code",
   "execution_count": 5,
   "metadata": {
    "execution": {
     "iopub.execute_input": "2020-11-08T14:29:03.929826Z",
     "iopub.status.busy": "2020-11-08T14:29:03.928805Z",
     "iopub.status.idle": "2020-11-08T14:29:04.033187Z",
     "shell.execute_reply": "2020-11-08T14:29:04.031901Z"
    },
    "papermill": {
     "duration": 0.253255,
     "end_time": "2020-11-08T14:29:04.033345",
     "exception": false,
     "start_time": "2020-11-08T14:29:03.780090",
     "status": "completed"
    },
    "tags": []
   },
   "outputs": [],
   "source": [
    "# replacing every occurence of 'US' in country with 'United States of America'\n",
    "top_40_varieties['country'].replace('US', 'United States of America', inplace=True)\n",
    "\n",
    "# replacing every occurence of 'US' in not_vintage with 'United States of America'\n",
    "top_40_varieties['not_vintage'] = top_40_varieties['not_vintage'].apply(lambda x: x.replace(\\\n",
    "                                                                        'US', 'United States of America'))"
   ]
  },
  {
   "cell_type": "code",
   "execution_count": 6,
   "metadata": {
    "execution": {
     "iopub.execute_input": "2020-11-08T14:29:04.282411Z",
     "iopub.status.busy": "2020-11-08T14:29:04.281494Z",
     "iopub.status.idle": "2020-11-08T14:29:04.338139Z",
     "shell.execute_reply": "2020-11-08T14:29:04.341584Z"
    },
    "papermill": {
     "duration": 0.196716,
     "end_time": "2020-11-08T14:29:04.341742",
     "exception": false,
     "start_time": "2020-11-08T14:29:04.145026",
     "status": "completed"
    },
    "tags": []
   },
   "outputs": [
    {
     "data": {
      "text/html": [
       "<div>\n",
       "<style scoped>\n",
       "    .dataframe tbody tr th:only-of-type {\n",
       "        vertical-align: middle;\n",
       "    }\n",
       "\n",
       "    .dataframe tbody tr th {\n",
       "        vertical-align: top;\n",
       "    }\n",
       "\n",
       "    .dataframe thead th {\n",
       "        text-align: right;\n",
       "    }\n",
       "</style>\n",
       "<table border=\"1\" class=\"dataframe\">\n",
       "  <thead>\n",
       "    <tr style=\"text-align: right;\">\n",
       "      <th></th>\n",
       "      <th>country</th>\n",
       "      <th>description</th>\n",
       "      <th>designation</th>\n",
       "      <th>points</th>\n",
       "      <th>price</th>\n",
       "      <th>province</th>\n",
       "      <th>region_1</th>\n",
       "      <th>region_2</th>\n",
       "      <th>taster_name</th>\n",
       "      <th>taster_twitter_handle</th>\n",
       "      <th>title</th>\n",
       "      <th>variety</th>\n",
       "      <th>winery</th>\n",
       "      <th>not_vintage</th>\n",
       "      <th>vintage</th>\n",
       "    </tr>\n",
       "  </thead>\n",
       "  <tbody>\n",
       "    <tr>\n",
       "      <th>2</th>\n",
       "      <td>United States of America</td>\n",
       "      <td>Tart and snappy, the flavors of lime flesh and...</td>\n",
       "      <td>NaN</td>\n",
       "      <td>87</td>\n",
       "      <td>14.0</td>\n",
       "      <td>Oregon</td>\n",
       "      <td>Willamette Valley</td>\n",
       "      <td>Willamette Valley</td>\n",
       "      <td>Paul Gregutt</td>\n",
       "      <td>@paulgwine</td>\n",
       "      <td>Rainstorm 2013 Pinot Gris (Willamette Valley)</td>\n",
       "      <td>Pinot Gris</td>\n",
       "      <td>Rainstorm</td>\n",
       "      <td>United States of America Oregon Willamette Val...</td>\n",
       "      <td>2013.0</td>\n",
       "    </tr>\n",
       "    <tr>\n",
       "      <th>3</th>\n",
       "      <td>United States of America</td>\n",
       "      <td>Pineapple rind, lemon pith and orange blossom ...</td>\n",
       "      <td>Reserve Late Harvest</td>\n",
       "      <td>87</td>\n",
       "      <td>13.0</td>\n",
       "      <td>Michigan</td>\n",
       "      <td>Lake Michigan Shore</td>\n",
       "      <td>NaN</td>\n",
       "      <td>Alexander Peartree</td>\n",
       "      <td>NaN</td>\n",
       "      <td>St. Julian 2013 Reserve Late Harvest Riesling ...</td>\n",
       "      <td>Riesling</td>\n",
       "      <td>St. Julian</td>\n",
       "      <td>United States of America Reserve Late Harvest ...</td>\n",
       "      <td>2013.0</td>\n",
       "    </tr>\n",
       "  </tbody>\n",
       "</table>\n",
       "</div>"
      ],
      "text/plain": [
       "                    country  \\\n",
       "2  United States of America   \n",
       "3  United States of America   \n",
       "\n",
       "                                         description           designation  \\\n",
       "2  Tart and snappy, the flavors of lime flesh and...                   NaN   \n",
       "3  Pineapple rind, lemon pith and orange blossom ...  Reserve Late Harvest   \n",
       "\n",
       "   points  price  province             region_1           region_2  \\\n",
       "2      87   14.0    Oregon    Willamette Valley  Willamette Valley   \n",
       "3      87   13.0  Michigan  Lake Michigan Shore                NaN   \n",
       "\n",
       "          taster_name taster_twitter_handle  \\\n",
       "2        Paul Gregutt           @paulgwine    \n",
       "3  Alexander Peartree                   NaN   \n",
       "\n",
       "                                               title     variety      winery  \\\n",
       "2      Rainstorm 2013 Pinot Gris (Willamette Valley)  Pinot Gris   Rainstorm   \n",
       "3  St. Julian 2013 Reserve Late Harvest Riesling ...    Riesling  St. Julian   \n",
       "\n",
       "                                         not_vintage  vintage  \n",
       "2  United States of America Oregon Willamette Val...   2013.0  \n",
       "3  United States of America Reserve Late Harvest ...   2013.0  "
      ]
     },
     "execution_count": 6,
     "metadata": {},
     "output_type": "execute_result"
    }
   ],
   "source": [
    "top_40_varieties[top_40_varieties['country'] == 'United States of America'].head(2) # a view of the dataset"
   ]
  },
  {
   "cell_type": "code",
   "execution_count": 7,
   "metadata": {
    "execution": {
     "iopub.execute_input": "2020-11-08T14:29:04.563046Z",
     "iopub.status.busy": "2020-11-08T14:29:04.562138Z",
     "iopub.status.idle": "2020-11-08T14:29:04.614529Z",
     "shell.execute_reply": "2020-11-08T14:29:04.613740Z"
    },
    "papermill": {
     "duration": 0.164668,
     "end_time": "2020-11-08T14:29:04.614635",
     "exception": false,
     "start_time": "2020-11-08T14:29:04.449967",
     "status": "completed"
    },
    "tags": []
   },
   "outputs": [],
   "source": [
    "# asserting that there is no occurence of 'US' in country and not_vintage\n",
    "assert 'US' not in top_40_varieties['country']\n",
    "assert top_40_varieties['not_vintage'].apply(lambda x: 'US' in x).sum() == 0  "
   ]
  },
  {
   "cell_type": "code",
   "execution_count": 8,
   "metadata": {
    "execution": {
     "iopub.execute_input": "2020-11-08T14:29:04.842763Z",
     "iopub.status.busy": "2020-11-08T14:29:04.841971Z",
     "iopub.status.idle": "2020-11-08T14:29:04.848422Z",
     "shell.execute_reply": "2020-11-08T14:29:04.849409Z"
    },
    "papermill": {
     "duration": 0.143248,
     "end_time": "2020-11-08T14:29:04.849557",
     "exception": false,
     "start_time": "2020-11-08T14:29:04.706309",
     "status": "completed"
    },
    "tags": []
   },
   "outputs": [
    {
     "data": {
      "text/plain": [
       "variety\n",
       "Pinot Noir                       13272\n",
       "Chardonnay                       11753\n",
       "Cabernet Sauvignon                9472\n",
       "Red Blend                         8946\n",
       "Bordeaux-style Red Blend          6915\n",
       "Riesling                          5189\n",
       "Sauvignon Blanc                   4967\n",
       "Syrah                             4142\n",
       "Rosé                              3564\n",
       "Merlot                            3102\n",
       "Nebbiolo                          2804\n",
       "Zinfandel                         2714\n",
       "Sangiovese                        2707\n",
       "Malbec                            2652\n",
       "Portuguese Red                    2466\n",
       "White Blend                       2360\n",
       "Sparkling Blend                   2153\n",
       "Tempranillo                       1810\n",
       "Rhône-style Red Blend             1471\n",
       "Pinot Gris                        1455\n",
       "Champagne Blend                   1396\n",
       "Cabernet Franc                    1353\n",
       "Grüner Veltliner                  1345\n",
       "Portuguese White                  1159\n",
       "Bordeaux-style White Blend        1066\n",
       "Pinot Grigio                      1052\n",
       "Gamay                             1025\n",
       "Gewürztraminer                    1012\n",
       "Viognier                           996\n",
       "Shiraz                             836\n",
       "Petite Sirah                       770\n",
       "Sangiovese Grosso                  751\n",
       "Barbera                            721\n",
       "Glera                              709\n",
       "Port                               668\n",
       "Grenache                           651\n",
       "Corvina, Rondinella, Molinara      619\n",
       "Chenin Blanc                       591\n",
       "Tempranillo Blend                  588\n",
       "Carmenère                          575\n",
       "Name: count, dtype: int64"
      ]
     },
     "execution_count": 8,
     "metadata": {},
     "output_type": "execute_result"
    }
   ],
   "source": [
    "# renaming the columns in top_varieties_count\n",
    "top_varieties_count = top_varieties_count.rename(columns={'variety': 'count', 'Unnamed: 0': 'variety'})\n",
    "top_varieties_count = top_varieties_count.set_index('variety') # setting the index\n",
    "top_varieties_count = top_varieties_count['count'] # making it a Series\n",
    "top_varieties_count"
   ]
  },
  {
   "cell_type": "code",
   "execution_count": 9,
   "metadata": {
    "execution": {
     "iopub.execute_input": "2020-11-08T14:29:05.067816Z",
     "iopub.status.busy": "2020-11-08T14:29:05.066782Z",
     "iopub.status.idle": "2020-11-08T14:29:05.124627Z",
     "shell.execute_reply": "2020-11-08T14:29:05.124018Z"
    },
    "papermill": {
     "duration": 0.160575,
     "end_time": "2020-11-08T14:29:05.124744",
     "exception": false,
     "start_time": "2020-11-08T14:29:04.964169",
     "status": "completed"
    },
    "tags": []
   },
   "outputs": [
    {
     "name": "stdout",
     "output_type": "stream",
     "text": [
      "percentage of initial 130k dataframe is 72%\n",
      "20\n"
     ]
    },
    {
     "data": {
      "text/html": [
       "<div>\n",
       "<style scoped>\n",
       "    .dataframe tbody tr th:only-of-type {\n",
       "        vertical-align: middle;\n",
       "    }\n",
       "\n",
       "    .dataframe tbody tr th {\n",
       "        vertical-align: top;\n",
       "    }\n",
       "\n",
       "    .dataframe thead th {\n",
       "        text-align: right;\n",
       "    }\n",
       "</style>\n",
       "<table border=\"1\" class=\"dataframe\">\n",
       "  <thead>\n",
       "    <tr style=\"text-align: right;\">\n",
       "      <th></th>\n",
       "      <th>country</th>\n",
       "      <th>description</th>\n",
       "      <th>designation</th>\n",
       "      <th>points</th>\n",
       "      <th>price</th>\n",
       "      <th>province</th>\n",
       "      <th>region_1</th>\n",
       "      <th>region_2</th>\n",
       "      <th>taster_name</th>\n",
       "      <th>taster_twitter_handle</th>\n",
       "      <th>title</th>\n",
       "      <th>variety</th>\n",
       "      <th>winery</th>\n",
       "      <th>not_vintage</th>\n",
       "      <th>vintage</th>\n",
       "    </tr>\n",
       "  </thead>\n",
       "  <tbody>\n",
       "    <tr>\n",
       "      <th>0</th>\n",
       "      <td>Italy</td>\n",
       "      <td>Aromas include tropical fruit, broom, brimston...</td>\n",
       "      <td>Vulkà Bianco</td>\n",
       "      <td>87</td>\n",
       "      <td>NaN</td>\n",
       "      <td>Sicily &amp; Sardinia</td>\n",
       "      <td>Etna</td>\n",
       "      <td>NaN</td>\n",
       "      <td>Kerin O’Keefe</td>\n",
       "      <td>@kerinokeefe</td>\n",
       "      <td>Nicosia 2013 Vulkà Bianco  (Etna)</td>\n",
       "      <td>White Blend</td>\n",
       "      <td>Nicosia</td>\n",
       "      <td>Italy Vulkà Bianco Sicily &amp; Sardinia Etna Nicosia</td>\n",
       "      <td>2013.0</td>\n",
       "    </tr>\n",
       "    <tr>\n",
       "      <th>1</th>\n",
       "      <td>Portugal</td>\n",
       "      <td>This is ripe and fruity, a wine that is smooth...</td>\n",
       "      <td>Avidagos</td>\n",
       "      <td>87</td>\n",
       "      <td>15.0</td>\n",
       "      <td>Douro</td>\n",
       "      <td>NaN</td>\n",
       "      <td>NaN</td>\n",
       "      <td>Roger Voss</td>\n",
       "      <td>@vossroger</td>\n",
       "      <td>Quinta dos Avidagos 2011 Avidagos Red (Douro)</td>\n",
       "      <td>Portuguese Red</td>\n",
       "      <td>Quinta dos Avidagos</td>\n",
       "      <td>Portugal Avidagos Douro Quinta dos Avidagos</td>\n",
       "      <td>2011.0</td>\n",
       "    </tr>\n",
       "  </tbody>\n",
       "</table>\n",
       "</div>"
      ],
      "text/plain": [
       "    country                                        description   designation  \\\n",
       "0     Italy  Aromas include tropical fruit, broom, brimston...  Vulkà Bianco   \n",
       "1  Portugal  This is ripe and fruity, a wine that is smooth...      Avidagos   \n",
       "\n",
       "   points  price           province region_1 region_2    taster_name  \\\n",
       "0      87    NaN  Sicily & Sardinia     Etna      NaN  Kerin O’Keefe   \n",
       "1      87   15.0              Douro      NaN      NaN     Roger Voss   \n",
       "\n",
       "  taster_twitter_handle                                          title  \\\n",
       "0          @kerinokeefe              Nicosia 2013 Vulkà Bianco  (Etna)   \n",
       "1            @vossroger  Quinta dos Avidagos 2011 Avidagos Red (Douro)   \n",
       "\n",
       "          variety               winery  \\\n",
       "0     White Blend              Nicosia   \n",
       "1  Portuguese Red  Quinta dos Avidagos   \n",
       "\n",
       "                                         not_vintage  vintage  \n",
       "0  Italy Vulkà Bianco Sicily & Sardinia Etna Nicosia   2013.0  \n",
       "1        Portugal Avidagos Douro Quinta dos Avidagos   2011.0  "
      ]
     },
     "execution_count": 9,
     "metadata": {},
     "output_type": "execute_result"
    }
   ],
   "source": [
    "top = 20 # selecting top 20 varities as our working varieties. note 1 < n <= 40\n",
    "\n",
    "# making a datframe of our selecting top n varieties\n",
    "top_df = top_40_varieties[top_40_varieties['variety'].isin(top_varieties_count.iloc[:top].index)]\n",
    "print('percentage of initial 130k dataframe is {}%'.format(72))\n",
    "print(len(top_df['variety'].unique()))\n",
    "top_df.head(2)"
   ]
  },
  {
   "cell_type": "code",
   "execution_count": 10,
   "metadata": {
    "execution": {
     "iopub.execute_input": "2020-11-08T14:29:05.300890Z",
     "iopub.status.busy": "2020-11-08T14:29:05.300087Z",
     "iopub.status.idle": "2020-11-08T14:29:05.372758Z",
     "shell.execute_reply": "2020-11-08T14:29:05.373412Z"
    },
    "papermill": {
     "duration": 0.163269,
     "end_time": "2020-11-08T14:29:05.373590",
     "exception": false,
     "start_time": "2020-11-08T14:29:05.210321",
     "status": "completed"
    },
    "tags": []
   },
   "outputs": [
    {
     "name": "stdout",
     "output_type": "stream",
     "text": [
      "(38367, 15)\n",
      "14\n"
     ]
    },
    {
     "data": {
      "text/html": [
       "<div>\n",
       "<style scoped>\n",
       "    .dataframe tbody tr th:only-of-type {\n",
       "        vertical-align: middle;\n",
       "    }\n",
       "\n",
       "    .dataframe tbody tr th {\n",
       "        vertical-align: top;\n",
       "    }\n",
       "\n",
       "    .dataframe thead th {\n",
       "        text-align: right;\n",
       "    }\n",
       "</style>\n",
       "<table border=\"1\" class=\"dataframe\">\n",
       "  <thead>\n",
       "    <tr style=\"text-align: right;\">\n",
       "      <th></th>\n",
       "      <th>country</th>\n",
       "      <th>description</th>\n",
       "      <th>designation</th>\n",
       "      <th>points</th>\n",
       "      <th>price</th>\n",
       "      <th>province</th>\n",
       "      <th>region_1</th>\n",
       "      <th>region_2</th>\n",
       "      <th>taster_name</th>\n",
       "      <th>taster_twitter_handle</th>\n",
       "      <th>title</th>\n",
       "      <th>variety</th>\n",
       "      <th>winery</th>\n",
       "      <th>not_vintage</th>\n",
       "      <th>vintage</th>\n",
       "    </tr>\n",
       "  </thead>\n",
       "  <tbody>\n",
       "    <tr>\n",
       "      <th>0</th>\n",
       "      <td>Italy</td>\n",
       "      <td>Aromas include tropical fruit, broom, brimston...</td>\n",
       "      <td>Vulkà Bianco</td>\n",
       "      <td>87</td>\n",
       "      <td>NaN</td>\n",
       "      <td>Sicily &amp; Sardinia</td>\n",
       "      <td>Etna</td>\n",
       "      <td>NaN</td>\n",
       "      <td>Kerin O’Keefe</td>\n",
       "      <td>@kerinokeefe</td>\n",
       "      <td>Nicosia 2013 Vulkà Bianco  (Etna)</td>\n",
       "      <td>White Blend</td>\n",
       "      <td>Nicosia</td>\n",
       "      <td>Italy Vulkà Bianco Sicily &amp; Sardinia Etna Nicosia</td>\n",
       "      <td>2013.0</td>\n",
       "    </tr>\n",
       "    <tr>\n",
       "      <th>1</th>\n",
       "      <td>Portugal</td>\n",
       "      <td>This is ripe and fruity, a wine that is smooth...</td>\n",
       "      <td>Avidagos</td>\n",
       "      <td>87</td>\n",
       "      <td>15.0</td>\n",
       "      <td>Douro</td>\n",
       "      <td>NaN</td>\n",
       "      <td>NaN</td>\n",
       "      <td>Roger Voss</td>\n",
       "      <td>@vossroger</td>\n",
       "      <td>Quinta dos Avidagos 2011 Avidagos Red (Douro)</td>\n",
       "      <td>Portuguese Red</td>\n",
       "      <td>Quinta dos Avidagos</td>\n",
       "      <td>Portugal Avidagos Douro Quinta dos Avidagos</td>\n",
       "      <td>2011.0</td>\n",
       "    </tr>\n",
       "  </tbody>\n",
       "</table>\n",
       "</div>"
      ],
      "text/plain": [
       "    country                                        description   designation  \\\n",
       "0     Italy  Aromas include tropical fruit, broom, brimston...  Vulkà Bianco   \n",
       "1  Portugal  This is ripe and fruity, a wine that is smooth...      Avidagos   \n",
       "\n",
       "   points  price           province region_1 region_2    taster_name  \\\n",
       "0      87    NaN  Sicily & Sardinia     Etna      NaN  Kerin O’Keefe   \n",
       "1      87   15.0              Douro      NaN      NaN     Roger Voss   \n",
       "\n",
       "  taster_twitter_handle                                          title  \\\n",
       "0          @kerinokeefe              Nicosia 2013 Vulkà Bianco  (Etna)   \n",
       "1            @vossroger  Quinta dos Avidagos 2011 Avidagos Red (Douro)   \n",
       "\n",
       "          variety               winery  \\\n",
       "0     White Blend              Nicosia   \n",
       "1  Portuguese Red  Quinta dos Avidagos   \n",
       "\n",
       "                                         not_vintage  vintage  \n",
       "0  Italy Vulkà Bianco Sicily & Sardinia Etna Nicosia   2013.0  \n",
       "1        Portugal Avidagos Douro Quinta dos Avidagos   2011.0  "
      ]
     },
     "execution_count": 10,
     "metadata": {},
     "output_type": "execute_result"
    }
   ],
   "source": [
    "# threshold of miniority variety to over sample (use sentences as document instead of the whole description)\n",
    "minority_threshold = 5000 \n",
    "\n",
    "# making a dataframe of the miniority classes\n",
    "minority_df = top_df[top_df['variety'].isin(top_varieties_count[top_varieties_count < \\\n",
    "                                                                      minority_threshold].index)]\n",
    "print(minority_df.shape)\n",
    "print(len(minority_df['variety'].unique()))\n",
    "minority_df.head(2)"
   ]
  },
  {
   "cell_type": "markdown",
   "metadata": {
    "papermill": {
     "duration": 0.078836,
     "end_time": "2020-11-08T14:29:05.539701",
     "exception": false,
     "start_time": "2020-11-08T14:29:05.460865",
     "status": "completed"
    },
    "tags": []
   },
   "source": [
    "### nltk and spacy are the two most popular libraries in NLP. We will just use nltk to tokenize sentences in our miniority class but for our heavy weight preprocessing, we will use spacy because it is mostly used in industries and has wealth of functionalities."
   ]
  },
  {
   "cell_type": "code",
   "execution_count": 11,
   "metadata": {
    "execution": {
     "iopub.execute_input": "2020-11-08T14:29:05.706440Z",
     "iopub.status.busy": "2020-11-08T14:29:05.705676Z",
     "iopub.status.idle": "2020-11-08T14:29:06.470292Z",
     "shell.execute_reply": "2020-11-08T14:29:06.469514Z"
    },
    "papermill": {
     "duration": 0.849429,
     "end_time": "2020-11-08T14:29:06.470434",
     "exception": false,
     "start_time": "2020-11-08T14:29:05.621005",
     "status": "completed"
    },
    "tags": []
   },
   "outputs": [],
   "source": [
    "from nltk.tokenize import sent_tokenize # importing useful library"
   ]
  },
  {
   "cell_type": "code",
   "execution_count": 12,
   "metadata": {
    "execution": {
     "iopub.execute_input": "2020-11-08T14:29:06.645824Z",
     "iopub.status.busy": "2020-11-08T14:29:06.645088Z",
     "iopub.status.idle": "2020-11-08T14:29:06.648850Z",
     "shell.execute_reply": "2020-11-08T14:29:06.648307Z"
    },
    "papermill": {
     "duration": 0.097217,
     "end_time": "2020-11-08T14:29:06.648978",
     "exception": false,
     "start_time": "2020-11-08T14:29:06.551761",
     "status": "completed"
    },
    "tags": []
   },
   "outputs": [],
   "source": [
    "oversampled_miniority_lst = [] # empty list to store sentences as tokens miniority corpus\n",
    "\n",
    "# creating a function to use sentences as tokens for the miniority classes\n",
    "def over_sample_miniority(row):\n",
    "    doc_list = sent_tokenize(row['description'])\n",
    "    for sent in doc_list:\n",
    "        row['description'] = sent\n",
    "        oversampled_miniority_lst.append(list(row))"
   ]
  },
  {
   "cell_type": "code",
   "execution_count": 13,
   "metadata": {
    "execution": {
     "iopub.execute_input": "2020-11-08T14:29:06.832402Z",
     "iopub.status.busy": "2020-11-08T14:29:06.831725Z",
     "iopub.status.idle": "2020-11-08T14:29:16.463250Z",
     "shell.execute_reply": "2020-11-08T14:29:16.462484Z"
    },
    "papermill": {
     "duration": 9.72427,
     "end_time": "2020-11-08T14:29:16.463366",
     "exception": false,
     "start_time": "2020-11-08T14:29:06.739096",
     "status": "completed"
    },
    "tags": []
   },
   "outputs": [],
   "source": [
    "minority_df.apply(over_sample_miniority, axis=1); # over sample the miniority classes"
   ]
  },
  {
   "cell_type": "code",
   "execution_count": 14,
   "metadata": {
    "execution": {
     "iopub.execute_input": "2020-11-08T14:29:16.630787Z",
     "iopub.status.busy": "2020-11-08T14:29:16.630140Z",
     "iopub.status.idle": "2020-11-08T14:29:16.853846Z",
     "shell.execute_reply": "2020-11-08T14:29:16.854432Z"
    },
    "papermill": {
     "duration": 0.310532,
     "end_time": "2020-11-08T14:29:16.854580",
     "exception": false,
     "start_time": "2020-11-08T14:29:16.544048",
     "status": "completed"
    },
    "tags": []
   },
   "outputs": [
    {
     "name": "stdout",
     "output_type": "stream",
     "text": [
      "(104101, 15)\n"
     ]
    },
    {
     "data": {
      "text/html": [
       "<div>\n",
       "<style scoped>\n",
       "    .dataframe tbody tr th:only-of-type {\n",
       "        vertical-align: middle;\n",
       "    }\n",
       "\n",
       "    .dataframe tbody tr th {\n",
       "        vertical-align: top;\n",
       "    }\n",
       "\n",
       "    .dataframe thead th {\n",
       "        text-align: right;\n",
       "    }\n",
       "</style>\n",
       "<table border=\"1\" class=\"dataframe\">\n",
       "  <thead>\n",
       "    <tr style=\"text-align: right;\">\n",
       "      <th></th>\n",
       "      <th>country</th>\n",
       "      <th>description</th>\n",
       "      <th>designation</th>\n",
       "      <th>points</th>\n",
       "      <th>price</th>\n",
       "      <th>province</th>\n",
       "      <th>region_1</th>\n",
       "      <th>region_2</th>\n",
       "      <th>taster_name</th>\n",
       "      <th>taster_twitter_handle</th>\n",
       "      <th>title</th>\n",
       "      <th>variety</th>\n",
       "      <th>winery</th>\n",
       "      <th>not_vintage</th>\n",
       "      <th>vintage</th>\n",
       "    </tr>\n",
       "  </thead>\n",
       "  <tbody>\n",
       "    <tr>\n",
       "      <th>0</th>\n",
       "      <td>Italy</td>\n",
       "      <td>Aromas include tropical fruit, broom, brimston...</td>\n",
       "      <td>Vulkà Bianco</td>\n",
       "      <td>87</td>\n",
       "      <td>NaN</td>\n",
       "      <td>Sicily &amp; Sardinia</td>\n",
       "      <td>Etna</td>\n",
       "      <td>NaN</td>\n",
       "      <td>Kerin O’Keefe</td>\n",
       "      <td>@kerinokeefe</td>\n",
       "      <td>Nicosia 2013 Vulkà Bianco  (Etna)</td>\n",
       "      <td>White Blend</td>\n",
       "      <td>Nicosia</td>\n",
       "      <td>Italy Vulkà Bianco Sicily &amp; Sardinia Etna Nicosia</td>\n",
       "      <td>2013.0</td>\n",
       "    </tr>\n",
       "    <tr>\n",
       "      <th>1</th>\n",
       "      <td>Italy</td>\n",
       "      <td>The palate isn't overly expressive, offering u...</td>\n",
       "      <td>Vulkà Bianco</td>\n",
       "      <td>87</td>\n",
       "      <td>NaN</td>\n",
       "      <td>Sicily &amp; Sardinia</td>\n",
       "      <td>Etna</td>\n",
       "      <td>NaN</td>\n",
       "      <td>Kerin O’Keefe</td>\n",
       "      <td>@kerinokeefe</td>\n",
       "      <td>Nicosia 2013 Vulkà Bianco  (Etna)</td>\n",
       "      <td>White Blend</td>\n",
       "      <td>Nicosia</td>\n",
       "      <td>Italy Vulkà Bianco Sicily &amp; Sardinia Etna Nicosia</td>\n",
       "      <td>2013.0</td>\n",
       "    </tr>\n",
       "  </tbody>\n",
       "</table>\n",
       "</div>"
      ],
      "text/plain": [
       "  country                                        description   designation  \\\n",
       "0   Italy  Aromas include tropical fruit, broom, brimston...  Vulkà Bianco   \n",
       "1   Italy  The palate isn't overly expressive, offering u...  Vulkà Bianco   \n",
       "\n",
       "   points  price           province region_1 region_2    taster_name  \\\n",
       "0      87    NaN  Sicily & Sardinia     Etna      NaN  Kerin O’Keefe   \n",
       "1      87    NaN  Sicily & Sardinia     Etna      NaN  Kerin O’Keefe   \n",
       "\n",
       "  taster_twitter_handle                              title      variety  \\\n",
       "0          @kerinokeefe  Nicosia 2013 Vulkà Bianco  (Etna)  White Blend   \n",
       "1          @kerinokeefe  Nicosia 2013 Vulkà Bianco  (Etna)  White Blend   \n",
       "\n",
       "    winery                                        not_vintage  vintage  \n",
       "0  Nicosia  Italy Vulkà Bianco Sicily & Sardinia Etna Nicosia   2013.0  \n",
       "1  Nicosia  Italy Vulkà Bianco Sicily & Sardinia Etna Nicosia   2013.0  "
      ]
     },
     "execution_count": 14,
     "metadata": {},
     "output_type": "execute_result"
    }
   ],
   "source": [
    "# converts oversampled_miniority_lst to a dataframe\n",
    "oversampled_miniority_df = pd.DataFrame(oversampled_miniority_lst, columns=minority_df.columns)\n",
    "print(oversampled_miniority_df.shape)\n",
    "oversampled_miniority_df.head(2)"
   ]
  },
  {
   "cell_type": "code",
   "execution_count": 15,
   "metadata": {
    "execution": {
     "iopub.execute_input": "2020-11-08T14:29:17.038213Z",
     "iopub.status.busy": "2020-11-08T14:29:17.037396Z",
     "iopub.status.idle": "2020-11-08T14:29:17.041405Z",
     "shell.execute_reply": "2020-11-08T14:29:17.041904Z"
    },
    "papermill": {
     "duration": 0.093192,
     "end_time": "2020-11-08T14:29:17.042064",
     "exception": false,
     "start_time": "2020-11-08T14:29:16.948872",
     "status": "completed"
    },
    "tags": []
   },
   "outputs": [
    {
     "data": {
      "text/plain": [
       "array(['Aromas include tropical fruit, broom, brimstone and dried herb.',\n",
       "       \"The palate isn't overly expressive, offering unripened apple, citrus and dried sage alongside brisk acidity.\",\n",
       "       'This is ripe and fruity, a wine that is smooth while still structured.',\n",
       "       'Firm tannins are filled out with juicy red berry fruits and freshened with acidity.',\n",
       "       \"It's  already drinkable, although it will certainly be better from 2016.\"],\n",
       "      dtype=object)"
      ]
     },
     "execution_count": 15,
     "metadata": {},
     "output_type": "execute_result"
    }
   ],
   "source": [
    "# a view at the new descriptions of the oversampled miniority classes\n",
    "oversampled_miniority_df['description'][:5].values"
   ]
  },
  {
   "cell_type": "markdown",
   "metadata": {
    "papermill": {
     "duration": 0.083005,
     "end_time": "2020-11-08T14:29:17.207805",
     "exception": false,
     "start_time": "2020-11-08T14:29:17.124800",
     "status": "completed"
    },
    "tags": []
   },
   "source": [
    "### we see that sentences are counted as tokens instead of the whole review"
   ]
  },
  {
   "cell_type": "code",
   "execution_count": 16,
   "metadata": {
    "execution": {
     "iopub.execute_input": "2020-11-08T14:29:17.390870Z",
     "iopub.status.busy": "2020-11-08T14:29:17.389872Z",
     "iopub.status.idle": "2020-11-08T14:29:17.644051Z",
     "shell.execute_reply": "2020-11-08T14:29:17.644626Z"
    },
    "papermill": {
     "duration": 0.353884,
     "end_time": "2020-11-08T14:29:17.644774",
     "exception": false,
     "start_time": "2020-11-08T14:29:17.290890",
     "status": "completed"
    },
    "tags": []
   },
   "outputs": [
    {
     "name": "stdout",
     "output_type": "stream",
     "text": [
      "(159648, 15)\n"
     ]
    },
    {
     "data": {
      "text/html": [
       "<div>\n",
       "<style scoped>\n",
       "    .dataframe tbody tr th:only-of-type {\n",
       "        vertical-align: middle;\n",
       "    }\n",
       "\n",
       "    .dataframe tbody tr th {\n",
       "        vertical-align: top;\n",
       "    }\n",
       "\n",
       "    .dataframe thead th {\n",
       "        text-align: right;\n",
       "    }\n",
       "</style>\n",
       "<table border=\"1\" class=\"dataframe\">\n",
       "  <thead>\n",
       "    <tr style=\"text-align: right;\">\n",
       "      <th></th>\n",
       "      <th>country</th>\n",
       "      <th>description</th>\n",
       "      <th>designation</th>\n",
       "      <th>points</th>\n",
       "      <th>price</th>\n",
       "      <th>province</th>\n",
       "      <th>region_1</th>\n",
       "      <th>region_2</th>\n",
       "      <th>taster_name</th>\n",
       "      <th>taster_twitter_handle</th>\n",
       "      <th>title</th>\n",
       "      <th>variety</th>\n",
       "      <th>winery</th>\n",
       "      <th>not_vintage</th>\n",
       "      <th>vintage</th>\n",
       "    </tr>\n",
       "  </thead>\n",
       "  <tbody>\n",
       "    <tr>\n",
       "      <th>0</th>\n",
       "      <td>United States of America</td>\n",
       "      <td>Pineapple rind, lemon pith and orange blossom ...</td>\n",
       "      <td>Reserve Late Harvest</td>\n",
       "      <td>87</td>\n",
       "      <td>13.0</td>\n",
       "      <td>Michigan</td>\n",
       "      <td>Lake Michigan Shore</td>\n",
       "      <td>NaN</td>\n",
       "      <td>Alexander Peartree</td>\n",
       "      <td>NaN</td>\n",
       "      <td>St. Julian 2013 Reserve Late Harvest Riesling ...</td>\n",
       "      <td>Riesling</td>\n",
       "      <td>St. Julian</td>\n",
       "      <td>United States of America Reserve Late Harvest ...</td>\n",
       "      <td>2013.0</td>\n",
       "    </tr>\n",
       "    <tr>\n",
       "      <th>1</th>\n",
       "      <td>United States of America</td>\n",
       "      <td>Much like the regular bottling from 2012, this...</td>\n",
       "      <td>Vintner's Reserve Wild Child Block</td>\n",
       "      <td>87</td>\n",
       "      <td>65.0</td>\n",
       "      <td>Oregon</td>\n",
       "      <td>Willamette Valley</td>\n",
       "      <td>Willamette Valley</td>\n",
       "      <td>Paul Gregutt</td>\n",
       "      <td>@paulgwine</td>\n",
       "      <td>Sweet Cheeks 2012 Vintner's Reserve Wild Child...</td>\n",
       "      <td>Pinot Noir</td>\n",
       "      <td>Sweet Cheeks</td>\n",
       "      <td>United States of America Vintner's Reserve Wil...</td>\n",
       "      <td>2012.0</td>\n",
       "    </tr>\n",
       "  </tbody>\n",
       "</table>\n",
       "</div>"
      ],
      "text/plain": [
       "                    country  \\\n",
       "0  United States of America   \n",
       "1  United States of America   \n",
       "\n",
       "                                         description  \\\n",
       "0  Pineapple rind, lemon pith and orange blossom ...   \n",
       "1  Much like the regular bottling from 2012, this...   \n",
       "\n",
       "                          designation  points  price  province  \\\n",
       "0                Reserve Late Harvest      87   13.0  Michigan   \n",
       "1  Vintner's Reserve Wild Child Block      87   65.0    Oregon   \n",
       "\n",
       "              region_1           region_2         taster_name  \\\n",
       "0  Lake Michigan Shore                NaN  Alexander Peartree   \n",
       "1    Willamette Valley  Willamette Valley        Paul Gregutt   \n",
       "\n",
       "  taster_twitter_handle                                              title  \\\n",
       "0                   NaN  St. Julian 2013 Reserve Late Harvest Riesling ...   \n",
       "1           @paulgwine   Sweet Cheeks 2012 Vintner's Reserve Wild Child...   \n",
       "\n",
       "      variety        winery  \\\n",
       "0    Riesling    St. Julian   \n",
       "1  Pinot Noir  Sweet Cheeks   \n",
       "\n",
       "                                         not_vintage  vintage  \n",
       "0  United States of America Reserve Late Harvest ...   2013.0  \n",
       "1  United States of America Vintner's Reserve Wil...   2012.0  "
      ]
     },
     "execution_count": 16,
     "metadata": {},
     "output_type": "execute_result"
    }
   ],
   "source": [
    "# selecting majority classes as a dataframe to concatenate to oversampled_miniority_lst\n",
    "majority_df = top_df[top_df['variety'].isin(\\\n",
    "                                        top_varieties_count[top_varieties_count >= minority_threshold].index)]\n",
    "\n",
    "# concatenates majority_df to oversampled_miniority_lst\n",
    "balanced_df = pd.concat([majority_df, oversampled_miniority_df]) \n",
    "balanced_df = balanced_df.reset_index().drop('index', axis=1) # resets index\n",
    "print(balanced_df.shape)\n",
    "balanced_df.head(2)"
   ]
  },
  {
   "cell_type": "code",
   "execution_count": 17,
   "metadata": {
    "execution": {
     "iopub.execute_input": "2020-11-08T14:29:17.858457Z",
     "iopub.status.busy": "2020-11-08T14:29:17.842643Z",
     "iopub.status.idle": "2020-11-08T14:29:17.865001Z",
     "shell.execute_reply": "2020-11-08T14:29:17.865475Z"
    },
    "papermill": {
     "duration": 0.130534,
     "end_time": "2020-11-08T14:29:17.865611",
     "exception": false,
     "start_time": "2020-11-08T14:29:17.735077",
     "status": "completed"
    },
    "tags": []
   },
   "outputs": [
    {
     "data": {
      "text/plain": [
       "Pinot Noir                  13272\n",
       "Sauvignon Blanc             12801\n",
       "Chardonnay                  11753\n",
       "Syrah                       11128\n",
       "Cabernet Sauvignon           9472\n",
       "Rosé                         9207\n",
       "Red Blend                    8946\n",
       "Nebbiolo                     8107\n",
       "Malbec                       8047\n",
       "Merlot                       7874\n",
       "Portuguese Red               7734\n",
       "Sangiovese                   7432\n",
       "Bordeaux-style Red Blend     6915\n",
       "Zinfandel                    6512\n",
       "White Blend                  6034\n",
       "Sparkling Blend              5740\n",
       "Tempranillo                  5552\n",
       "Riesling                     5189\n",
       "Rhône-style Red Blend        3972\n",
       "Pinot Gris                   3961\n",
       "Name: variety, dtype: int64"
      ]
     },
     "execution_count": 17,
     "metadata": {},
     "output_type": "execute_result"
    }
   ],
   "source": [
    "balanced_variety = balanced_df['variety'].value_counts() # gets a Series of the variety count in balanced_df\n",
    "balanced_variety"
   ]
  },
  {
   "cell_type": "code",
   "execution_count": 18,
   "metadata": {
    "execution": {
     "iopub.execute_input": "2020-11-08T14:29:18.037140Z",
     "iopub.status.busy": "2020-11-08T14:29:18.036372Z",
     "iopub.status.idle": "2020-11-08T14:29:18.040130Z",
     "shell.execute_reply": "2020-11-08T14:29:18.040615Z"
    },
    "papermill": {
     "duration": 0.092446,
     "end_time": "2020-11-08T14:29:18.040730",
     "exception": false,
     "start_time": "2020-11-08T14:29:17.948284",
     "status": "completed"
    },
    "tags": []
   },
   "outputs": [
    {
     "name": "stdout",
     "output_type": "stream",
     "text": [
      "before sentence oversampling, highest class ratio was 9.507163323782235\n"
     ]
    }
   ],
   "source": [
    "print('before sentence oversampling, highest class ratio was {}'.format(\\\n",
    "                                        top_varieties_count.iloc[0] / top_varieties_count.iloc[top]))"
   ]
  },
  {
   "cell_type": "code",
   "execution_count": 19,
   "metadata": {
    "execution": {
     "iopub.execute_input": "2020-11-08T14:29:18.214055Z",
     "iopub.status.busy": "2020-11-08T14:29:18.213391Z",
     "iopub.status.idle": "2020-11-08T14:29:18.521905Z",
     "shell.execute_reply": "2020-11-08T14:29:18.522456Z"
    },
    "papermill": {
     "duration": 0.398519,
     "end_time": "2020-11-08T14:29:18.522591",
     "exception": false,
     "start_time": "2020-11-08T14:29:18.124072",
     "status": "completed"
    },
    "tags": []
   },
   "outputs": [
    {
     "data": {
      "image/png": "[encoded data removed]",
      "text/plain": [
       "<Figure size 1296x288 with 1 Axes>"
      ]
     },
     "metadata": {
      "needs_background": "light"
     },
     "output_type": "display_data"
    }
   ],
   "source": [
    "fig = plt.figure(figsize=(18, 4))\n",
    "plt.bar(top_varieties_count[:top].index, top_varieties_count[:top].values)\n",
    "plt.xticks(rotation=90)\n",
    "plt.xlabel('variety')\n",
    "plt.ylabel('count')\n",
    "plt.title('Counts of varieties before sentence oversampling')\n",
    "plt.show()"
   ]
  },
  {
   "cell_type": "code",
   "execution_count": 20,
   "metadata": {
    "execution": {
     "iopub.execute_input": "2020-11-08T14:29:18.707306Z",
     "iopub.status.busy": "2020-11-08T14:29:18.706520Z",
     "iopub.status.idle": "2020-11-08T14:29:18.710404Z",
     "shell.execute_reply": "2020-11-08T14:29:18.710938Z"
    },
    "papermill": {
     "duration": 0.094829,
     "end_time": "2020-11-08T14:29:18.711066",
     "exception": false,
     "start_time": "2020-11-08T14:29:18.616237",
     "status": "completed"
    },
    "tags": []
   },
   "outputs": [
    {
     "name": "stdout",
     "output_type": "stream",
     "text": [
      "after sentence oversampling, highest class ratio is 3.3506690229739964\n"
     ]
    }
   ],
   "source": [
    "print('after sentence oversampling, highest class ratio is {}'.format(\\\n",
    "                                                    balanced_variety.iloc[0] / balanced_variety.iloc[-1]))"
   ]
  },
  {
   "cell_type": "code",
   "execution_count": 21,
   "metadata": {
    "execution": {
     "iopub.execute_input": "2020-11-08T14:29:18.892408Z",
     "iopub.status.busy": "2020-11-08T14:29:18.891395Z",
     "iopub.status.idle": "2020-11-08T14:29:19.145822Z",
     "shell.execute_reply": "2020-11-08T14:29:19.146447Z"
    },
    "papermill": {
     "duration": 0.350227,
     "end_time": "2020-11-08T14:29:19.146611",
     "exception": false,
     "start_time": "2020-11-08T14:29:18.796384",
     "status": "completed"
    },
    "tags": []
   },
   "outputs": [
    {
     "data": {
      "image/png": "[encoded data removed]",
      "text/plain": [
       "<Figure size 1296x288 with 1 Axes>"
      ]
     },
     "metadata": {
      "needs_background": "light"
     },
     "output_type": "display_data"
    }
   ],
   "source": [
    "fig = plt.figure(figsize=(18, 4))\n",
    "plt.bar(balanced_variety.index, balanced_variety.values)\n",
    "plt.xticks(rotation=90)\n",
    "plt.xlabel('variety')\n",
    "plt.ylabel('count')\n",
    "plt.title('Counts of varieties after sentence oversampling')\n",
    "plt.show()"
   ]
  },
  {
   "cell_type": "code",
   "execution_count": 22,
   "metadata": {
    "execution": {
     "iopub.execute_input": "2020-11-08T14:29:19.375000Z",
     "iopub.status.busy": "2020-11-08T14:29:19.374130Z",
     "iopub.status.idle": "2020-11-08T14:29:22.011918Z",
     "shell.execute_reply": "2020-11-08T14:29:22.011033Z"
    },
    "papermill": {
     "duration": 2.729881,
     "end_time": "2020-11-08T14:29:22.012086",
     "exception": false,
     "start_time": "2020-11-08T14:29:19.282205",
     "status": "completed"
    },
    "tags": []
   },
   "outputs": [],
   "source": [
    "# importing useful libraries\n",
    "import spacy\n",
    "from imblearn.over_sampling import SMOTE\n",
    "from imblearn.pipeline import Pipeline\n",
    "from sklearn.tree import DecisionTreeClassifier\n",
    "from sklearn.preprocessing import LabelEncoder, OneHotEncoder\n",
    "from sklearn.model_selection import RepeatedStratifiedKFold, cross_val_score"
   ]
  },
  {
   "cell_type": "markdown",
   "metadata": {
    "papermill": {
     "duration": 0.090933,
     "end_time": "2020-11-08T14:29:22.197766",
     "exception": false,
     "start_time": "2020-11-08T14:29:22.106833",
     "status": "completed"
    },
    "tags": []
   },
   "source": [
    "### Let's check for Nan values"
   ]
  },
  {
   "cell_type": "code",
   "execution_count": 23,
   "metadata": {
    "execution": {
     "iopub.execute_input": "2020-11-08T14:29:22.391318Z",
     "iopub.status.busy": "2020-11-08T14:29:22.390447Z",
     "iopub.status.idle": "2020-11-08T14:29:22.518396Z",
     "shell.execute_reply": "2020-11-08T14:29:22.518988Z"
    },
    "papermill": {
     "duration": 0.227459,
     "end_time": "2020-11-08T14:29:22.519139",
     "exception": false,
     "start_time": "2020-11-08T14:29:22.291680",
     "status": "completed"
    },
    "tags": []
   },
   "outputs": [
    {
     "data": {
      "text/html": [
       "<div>\n",
       "<style scoped>\n",
       "    .dataframe tbody tr th:only-of-type {\n",
       "        vertical-align: middle;\n",
       "    }\n",
       "\n",
       "    .dataframe tbody tr th {\n",
       "        vertical-align: top;\n",
       "    }\n",
       "\n",
       "    .dataframe thead th {\n",
       "        text-align: right;\n",
       "    }\n",
       "</style>\n",
       "<table border=\"1\" class=\"dataframe\">\n",
       "  <thead>\n",
       "    <tr style=\"text-align: right;\">\n",
       "      <th></th>\n",
       "      <th>n_Nan</th>\n",
       "      <th>%missing</th>\n",
       "    </tr>\n",
       "  </thead>\n",
       "  <tbody>\n",
       "    <tr>\n",
       "      <th>country</th>\n",
       "      <td>37</td>\n",
       "      <td>0.039398</td>\n",
       "    </tr>\n",
       "    <tr>\n",
       "      <th>description</th>\n",
       "      <td>0</td>\n",
       "      <td>0.000000</td>\n",
       "    </tr>\n",
       "    <tr>\n",
       "      <th>designation</th>\n",
       "      <td>26985</td>\n",
       "      <td>28.733735</td>\n",
       "    </tr>\n",
       "    <tr>\n",
       "      <th>points</th>\n",
       "      <td>0</td>\n",
       "      <td>0.000000</td>\n",
       "    </tr>\n",
       "    <tr>\n",
       "      <th>price</th>\n",
       "      <td>5691</td>\n",
       "      <td>6.059799</td>\n",
       "    </tr>\n",
       "    <tr>\n",
       "      <th>province</th>\n",
       "      <td>37</td>\n",
       "      <td>0.039398</td>\n",
       "    </tr>\n",
       "    <tr>\n",
       "      <th>region_1</th>\n",
       "      <td>13466</td>\n",
       "      <td>14.338650</td>\n",
       "    </tr>\n",
       "    <tr>\n",
       "      <th>region_2</th>\n",
       "      <td>50804</td>\n",
       "      <td>54.096301</td>\n",
       "    </tr>\n",
       "    <tr>\n",
       "      <th>taster_name</th>\n",
       "      <td>18863</td>\n",
       "      <td>20.085397</td>\n",
       "    </tr>\n",
       "    <tr>\n",
       "      <th>taster_twitter_handle</th>\n",
       "      <td>22626</td>\n",
       "      <td>24.092255</td>\n",
       "    </tr>\n",
       "    <tr>\n",
       "      <th>title</th>\n",
       "      <td>0</td>\n",
       "      <td>0.000000</td>\n",
       "    </tr>\n",
       "    <tr>\n",
       "      <th>variety</th>\n",
       "      <td>0</td>\n",
       "      <td>0.000000</td>\n",
       "    </tr>\n",
       "    <tr>\n",
       "      <th>winery</th>\n",
       "      <td>0</td>\n",
       "      <td>0.000000</td>\n",
       "    </tr>\n",
       "    <tr>\n",
       "      <th>not_vintage</th>\n",
       "      <td>0</td>\n",
       "      <td>0.000000</td>\n",
       "    </tr>\n",
       "    <tr>\n",
       "      <th>vintage</th>\n",
       "      <td>2202</td>\n",
       "      <td>2.344698</td>\n",
       "    </tr>\n",
       "  </tbody>\n",
       "</table>\n",
       "</div>"
      ],
      "text/plain": [
       "                       n_Nan   %missing\n",
       "country                   37   0.039398\n",
       "description                0   0.000000\n",
       "designation            26985  28.733735\n",
       "points                     0   0.000000\n",
       "price                   5691   6.059799\n",
       "province                  37   0.039398\n",
       "region_1               13466  14.338650\n",
       "region_2               50804  54.096301\n",
       "taster_name            18863  20.085397\n",
       "taster_twitter_handle  22626  24.092255\n",
       "title                      0   0.000000\n",
       "variety                    0   0.000000\n",
       "winery                     0   0.000000\n",
       "not_vintage                0   0.000000\n",
       "vintage                 2202   2.344698"
      ]
     },
     "execution_count": 23,
     "metadata": {},
     "output_type": "execute_result"
    }
   ],
   "source": [
    "nan_df = top_df.isnull().sum().to_frame()\n",
    "nan_df.rename(columns={0: 'n_Nan'}, inplace=True)\n",
    "nan_df['%missing'] = 100*nan_df['n_Nan'] / top_df.shape[0]\n",
    "nan_df"
   ]
  },
  {
   "cell_type": "code",
   "execution_count": 24,
   "metadata": {
    "execution": {
     "iopub.execute_input": "2020-11-08T14:29:22.726839Z",
     "iopub.status.busy": "2020-11-08T14:29:22.725991Z",
     "iopub.status.idle": "2020-11-08T14:29:23.966663Z",
     "shell.execute_reply": "2020-11-08T14:29:23.965977Z"
    },
    "papermill": {
     "duration": 1.348506,
     "end_time": "2020-11-08T14:29:23.966866",
     "exception": false,
     "start_time": "2020-11-08T14:29:22.618360",
     "status": "completed"
    },
    "tags": []
   },
   "outputs": [],
   "source": [
    "# creating a spacy pipeline and disabling tagger, parser and ner to speed up tokenizer\n",
    "nlp = spacy.load('en', disable=['tagger', 'parser', 'ner']) "
   ]
  },
  {
   "cell_type": "markdown",
   "metadata": {
    "papermill": {
     "duration": 0.090121,
     "end_time": "2020-11-08T14:29:24.148629",
     "exception": false,
     "start_time": "2020-11-08T14:29:24.058508",
     "status": "completed"
    },
    "tags": []
   },
   "source": [
    "### We will be evaluating six preprocessing approaches to choose the best one.\n",
    "\n",
    "1. sentence oversampling without including 'not_vintage'\n",
    "2. no oversampling without including 'not_vintage'\n",
    "3. SMOTE oversampling without including 'not_vintage'\n",
    "4. sentence oversampling including 'not_vintage'\n",
    "5. no oversampling including 'not_vintage'\n",
    "6. SMOTE oversampling without including 'not_vintage'"
   ]
  },
  {
   "cell_type": "markdown",
   "metadata": {
    "papermill": {
     "duration": 0.089627,
     "end_time": "2020-11-08T14:29:24.328751",
     "exception": false,
     "start_time": "2020-11-08T14:29:24.239124",
     "status": "completed"
    },
    "tags": []
   },
   "source": [
    "- Remeber, ````not_vintage```` is the combination of non-numeric categorical features of ````country, province, region1, region2, winery, and designation````"
   ]
  },
  {
   "cell_type": "markdown",
   "metadata": {
    "papermill": {
     "duration": 0.090797,
     "end_time": "2020-11-08T14:29:24.512082",
     "exception": false,
     "start_time": "2020-11-08T14:29:24.421285",
     "status": "completed"
    },
    "tags": []
   },
   "source": [
    "### First, let's make a corpus where each document is ````description```` plus ````not_vintage````"
   ]
  },
  {
   "cell_type": "code",
   "execution_count": 25,
   "metadata": {
    "execution": {
     "iopub.execute_input": "2020-11-08T14:29:24.739651Z",
     "iopub.status.busy": "2020-11-08T14:29:24.734575Z",
     "iopub.status.idle": "2020-11-08T14:29:24.933352Z",
     "shell.execute_reply": "2020-11-08T14:29:24.932678Z"
    },
    "papermill": {
     "duration": 0.330003,
     "end_time": "2020-11-08T14:29:24.933470",
     "exception": false,
     "start_time": "2020-11-08T14:29:24.603467",
     "status": "completed"
    },
    "tags": []
   },
   "outputs": [],
   "source": [
    "# for sentence oversampling\n",
    "sent_oversample_corpus = [doc1 + ' ' + doc2 for doc1, doc2 in zip(\\\n",
    "                                                        balanced_df['description'], balanced_df['not_vintage'])]\n",
    "\n",
    "# for no oversampling\n",
    "no_oversample_corpus = [doc1 + ' ' + doc2 for doc1, doc2 in zip(\\\n",
    "                                                        top_df['description'], top_df['not_vintage'])]"
   ]
  },
  {
   "cell_type": "markdown",
   "metadata": {
    "papermill": {
     "duration": 0.09291,
     "end_time": "2020-11-08T14:29:25.120616",
     "exception": false,
     "start_time": "2020-11-08T14:29:25.027706",
     "status": "completed"
    },
    "tags": []
   },
   "source": [
    "### let's see how the combination of ````description```` and ````not_vintage```` is like"
   ]
  },
  {
   "cell_type": "code",
   "execution_count": 26,
   "metadata": {
    "execution": {
     "iopub.execute_input": "2020-11-08T14:29:25.311038Z",
     "iopub.status.busy": "2020-11-08T14:29:25.310160Z",
     "iopub.status.idle": "2020-11-08T14:29:25.313772Z",
     "shell.execute_reply": "2020-11-08T14:29:25.314308Z"
    },
    "papermill": {
     "duration": 0.10214,
     "end_time": "2020-11-08T14:29:25.314439",
     "exception": false,
     "start_time": "2020-11-08T14:29:25.212299",
     "status": "completed"
    },
    "tags": []
   },
   "outputs": [
    {
     "data": {
      "text/plain": [
       "['It also has weight and a solid, powerful core of spice and baked apple flavors. France Alsace Alsace Domaine Marcel Deiss',\n",
       " 'With its structure still developing, the wine needs to age. France Alsace Alsace Domaine Marcel Deiss',\n",
       " 'Drink from 2015. France Alsace Alsace Domaine Marcel Deiss']"
      ]
     },
     "execution_count": 26,
     "metadata": {},
     "output_type": "execute_result"
    }
   ],
   "source": [
    "sent_oversample_corpus[-3:]"
   ]
  },
  {
   "cell_type": "code",
   "execution_count": 27,
   "metadata": {
    "execution": {
     "iopub.execute_input": "2020-11-08T14:29:25.503308Z",
     "iopub.status.busy": "2020-11-08T14:29:25.502388Z",
     "iopub.status.idle": "2020-11-08T14:29:25.506060Z",
     "shell.execute_reply": "2020-11-08T14:29:25.506564Z"
    },
    "papermill": {
     "duration": 0.100451,
     "end_time": "2020-11-08T14:29:25.506690",
     "exception": false,
     "start_time": "2020-11-08T14:29:25.406239",
     "status": "completed"
    },
    "tags": []
   },
   "outputs": [
    {
     "data": {
      "text/plain": [
       "[\"Aromas include tropical fruit, broom, brimstone and dried herb. The palate isn't overly expressive, offering unripened apple, citrus and dried sage alongside brisk acidity. Italy Vulkà Bianco Sicily & Sardinia Etna Nicosia\",\n",
       " \"This is ripe and fruity, a wine that is smooth while still structured. Firm tannins are filled out with juicy red berry fruits and freshened with acidity. It's  already drinkable, although it will certainly be better from 2016. Portugal Avidagos Douro Quinta dos Avidagos\",\n",
       " 'Tart and snappy, the flavors of lime flesh and rind dominate. Some green pineapple pokes through, with crisp acidity underscoring the flavors. The wine was all stainless-steel fermented. United States of America Oregon Willamette Valley Willamette Valley Rainstorm']"
      ]
     },
     "execution_count": 27,
     "metadata": {},
     "output_type": "execute_result"
    }
   ],
   "source": [
    "no_oversample_corpus[:3] "
   ]
  },
  {
   "cell_type": "code",
   "execution_count": null,
   "metadata": {
    "papermill": {
     "duration": 0.099962,
     "end_time": "2020-11-08T14:29:25.697639",
     "exception": false,
     "start_time": "2020-11-08T14:29:25.597677",
     "status": "completed"
    },
    "tags": []
   },
   "outputs": [],
   "source": []
  },
  {
   "cell_type": "code",
   "execution_count": 28,
   "metadata": {
    "execution": {
     "iopub.execute_input": "2020-11-08T14:29:25.990052Z",
     "iopub.status.busy": "2020-11-08T14:29:25.989200Z",
     "iopub.status.idle": "2020-11-08T14:29:26.359172Z",
     "shell.execute_reply": "2020-11-08T14:29:26.360432Z"
    },
    "papermill": {
     "duration": 0.515937,
     "end_time": "2020-11-08T14:29:26.360779",
     "exception": false,
     "start_time": "2020-11-08T14:29:25.844842",
     "status": "completed"
    },
    "tags": []
   },
   "outputs": [],
   "source": [
    "sent_oversample_le = LabelEncoder() # initializes a LabelEncoder object\n",
    "# encodes the labels\n",
    "sent_oversample_labels = sent_oversample_le.fit_transform([label for label in balanced_df['variety']])\n",
    "\n",
    "no_oversample_le = LabelEncoder() # initializes a LabelEncoder object\n",
    "# encodes the labels\n",
    "no_oversample_label = no_oversample_le.fit_transform([label for label in top_df['variety']])"
   ]
  },
  {
   "cell_type": "markdown",
   "metadata": {
    "papermill": {
     "duration": 0.130462,
     "end_time": "2020-11-08T14:29:26.633263",
     "exception": false,
     "start_time": "2020-11-08T14:29:26.502801",
     "status": "completed"
    },
    "tags": []
   },
   "source": [
    "### Let's have a view of ````sent_oversample_corpus```` and ````no_oversample_corpus````"
   ]
  },
  {
   "cell_type": "code",
   "execution_count": 29,
   "metadata": {
    "execution": {
     "iopub.execute_input": "2020-11-08T14:29:26.885903Z",
     "iopub.status.busy": "2020-11-08T14:29:26.883209Z",
     "iopub.status.idle": "2020-11-08T14:29:26.888855Z",
     "shell.execute_reply": "2020-11-08T14:29:26.888119Z"
    },
    "papermill": {
     "duration": 0.139927,
     "end_time": "2020-11-08T14:29:26.889002",
     "exception": false,
     "start_time": "2020-11-08T14:29:26.749075",
     "status": "completed"
    },
    "tags": []
   },
   "outputs": [
    {
     "data": {
      "text/plain": [
       "['It also has weight and a solid, powerful core of spice and baked apple flavors. France Alsace Alsace Domaine Marcel Deiss',\n",
       " 'With its structure still developing, the wine needs to age. France Alsace Alsace Domaine Marcel Deiss',\n",
       " 'Drink from 2015. France Alsace Alsace Domaine Marcel Deiss']"
      ]
     },
     "execution_count": 29,
     "metadata": {},
     "output_type": "execute_result"
    }
   ],
   "source": [
    "sent_oversample_corpus[-3:]"
   ]
  },
  {
   "cell_type": "code",
   "execution_count": 30,
   "metadata": {
    "execution": {
     "iopub.execute_input": "2020-11-08T14:29:27.134557Z",
     "iopub.status.busy": "2020-11-08T14:29:27.133575Z",
     "iopub.status.idle": "2020-11-08T14:29:27.137225Z",
     "shell.execute_reply": "2020-11-08T14:29:27.137918Z"
    },
    "papermill": {
     "duration": 0.106238,
     "end_time": "2020-11-08T14:29:27.138081",
     "exception": false,
     "start_time": "2020-11-08T14:29:27.031843",
     "status": "completed"
    },
    "tags": []
   },
   "outputs": [
    {
     "data": {
      "text/plain": [
       "[\"Notes of honeysuckle and cantaloupe sweeten this deliciously feather-light spätlese. It's intensely juicy, quenching the palate with streams of tart tangerine and grapefruit acidity, yet wraps up with a kiss of honey and peach. Germany Brauneberger Juffer-Sonnenuhr Spätlese Mosel Dr. H. Thanisch (Erben Müller-Burggraef)\",\n",
       " 'Citation is given as much as a decade of bottle age prior to release, which means it is pre-cellared and drinking at its peak. Baked cherry, cocoa and coconut flavors combine gracefully, with soft, secondary fruit compote highlights. United States of America Oregon Oregon Oregon Other Citation',\n",
       " 'A dry style of Pinot Gris, this is crisp with some acidity. It also has weight and a solid, powerful core of spice and baked apple flavors. With its structure still developing, the wine needs to age. Drink from 2015. France Alsace Alsace Domaine Marcel Deiss']"
      ]
     },
     "execution_count": 30,
     "metadata": {},
     "output_type": "execute_result"
    }
   ],
   "source": [
    "no_oversample_corpus[-3:]"
   ]
  },
  {
   "cell_type": "code",
   "execution_count": 31,
   "metadata": {
    "execution": {
     "iopub.execute_input": "2020-11-08T14:29:27.333193Z",
     "iopub.status.busy": "2020-11-08T14:29:27.332382Z",
     "iopub.status.idle": "2020-11-08T14:29:27.335955Z",
     "shell.execute_reply": "2020-11-08T14:29:27.335394Z"
    },
    "papermill": {
     "duration": 0.103382,
     "end_time": "2020-11-08T14:29:27.336081",
     "exception": false,
     "start_time": "2020-11-08T14:29:27.232699",
     "status": "completed"
    },
    "tags": []
   },
   "outputs": [],
   "source": [
    "# creating a dictionary to decode the encoded labels (we could also use the inverse_transform method of the \n",
    "# LabelEncoder object)\n",
    "sent_oversample_map = {v: k for k, v in enumerate(sent_oversample_le.classes_)}\n",
    "no_oversample_map = {v: k for k, v in enumerate(no_oversample_le.classes_)}"
   ]
  },
  {
   "cell_type": "code",
   "execution_count": 32,
   "metadata": {
    "execution": {
     "iopub.execute_input": "2020-11-08T14:29:27.526975Z",
     "iopub.status.busy": "2020-11-08T14:29:27.526316Z",
     "iopub.status.idle": "2020-11-08T14:29:27.533338Z",
     "shell.execute_reply": "2020-11-08T14:29:27.532747Z"
    },
    "papermill": {
     "duration": 0.104391,
     "end_time": "2020-11-08T14:29:27.533439",
     "exception": false,
     "start_time": "2020-11-08T14:29:27.429048",
     "status": "completed"
    },
    "tags": []
   },
   "outputs": [
    {
     "data": {
      "text/plain": [
       "array([11,  7,  1])"
      ]
     },
     "execution_count": 32,
     "metadata": {},
     "output_type": "execute_result"
    }
   ],
   "source": [
    "sent_oversample_labels[:3]"
   ]
  },
  {
   "cell_type": "code",
   "execution_count": 33,
   "metadata": {
    "execution": {
     "iopub.execute_input": "2020-11-08T14:29:27.727872Z",
     "iopub.status.busy": "2020-11-08T14:29:27.726998Z",
     "iopub.status.idle": "2020-11-08T14:29:27.775309Z",
     "shell.execute_reply": "2020-11-08T14:29:27.774285Z"
    },
    "papermill": {
     "duration": 0.148106,
     "end_time": "2020-11-08T14:29:27.775421",
     "exception": false,
     "start_time": "2020-11-08T14:29:27.627315",
     "status": "completed"
    },
    "tags": []
   },
   "outputs": [],
   "source": [
    "sent_oversample_one_hot = OneHotEncoder(sparse=False)\n",
    "sent_oversample_labels2 = sent_oversample_one_hot.fit_transform(sent_oversample_labels.reshape(-1, 1))"
   ]
  },
  {
   "cell_type": "code",
   "execution_count": 34,
   "metadata": {
    "execution": {
     "iopub.execute_input": "2020-11-08T14:29:27.972774Z",
     "iopub.status.busy": "2020-11-08T14:29:27.971762Z",
     "iopub.status.idle": "2020-11-08T14:29:27.977881Z",
     "shell.execute_reply": "2020-11-08T14:29:27.977216Z"
    },
    "papermill": {
     "duration": 0.108515,
     "end_time": "2020-11-08T14:29:27.978015",
     "exception": false,
     "start_time": "2020-11-08T14:29:27.869500",
     "status": "completed"
    },
    "tags": []
   },
   "outputs": [
    {
     "data": {
      "text/plain": [
       "array([[0., 0., 0., 0., 0., 0., 0., 0., 0., 0., 0., 1., 0., 0., 0., 0.,\n",
       "        0., 0., 0., 0.],\n",
       "       [0., 0., 0., 0., 0., 0., 0., 1., 0., 0., 0., 0., 0., 0., 0., 0.,\n",
       "        0., 0., 0., 0.],\n",
       "       [0., 1., 0., 0., 0., 0., 0., 0., 0., 0., 0., 0., 0., 0., 0., 0.,\n",
       "        0., 0., 0., 0.]])"
      ]
     },
     "execution_count": 34,
     "metadata": {},
     "output_type": "execute_result"
    }
   ],
   "source": [
    "sent_oversample_labels2[:3]"
   ]
  },
  {
   "cell_type": "code",
   "execution_count": 35,
   "metadata": {
    "execution": {
     "iopub.execute_input": "2020-11-08T14:29:28.185207Z",
     "iopub.status.busy": "2020-11-08T14:29:28.184335Z",
     "iopub.status.idle": "2020-11-08T14:29:28.188771Z",
     "shell.execute_reply": "2020-11-08T14:29:28.189647Z"
    },
    "papermill": {
     "duration": 0.112115,
     "end_time": "2020-11-08T14:29:28.189820",
     "exception": false,
     "start_time": "2020-11-08T14:29:28.077705",
     "status": "completed"
    },
    "tags": []
   },
   "outputs": [
    {
     "name": "stdout",
     "output_type": "stream",
     "text": [
      "['please', 'é', 'do', 'do', 'is', 'runs', 'honey', 'well', 'ran', 'it', 'did', 'doing', 'he', 'fr', 'erben', 'müller', 'burggraef']\n"
     ]
    }
   ],
   "source": [
    "sample_text = \"Please! é don't Do isn't? runs honey-well ran: lo50 it did, 0.5 doiNg he 100 #fr @h... +234 \" + \\\n",
    "                \"me3 (Erben Müller-Burggraef).\"\n",
    "lst = []\n",
    "for p in nlp(sample_text):\n",
    "    if p.is_alpha:\n",
    "        lst.append(p.lower_)\n",
    "print(lst)"
   ]
  },
  {
   "cell_type": "markdown",
   "metadata": {
    "papermill": {
     "duration": 0.095992,
     "end_time": "2020-11-08T14:29:28.383316",
     "exception": false,
     "start_time": "2020-11-08T14:29:28.287324",
     "status": "completed"
    },
    "tags": []
   },
   "source": [
    "### we will encapsulate the above code in a list comprehension, and that will be our tokenizer function."
   ]
  },
  {
   "cell_type": "code",
   "execution_count": 36,
   "metadata": {
    "execution": {
     "iopub.execute_input": "2020-11-08T14:29:28.584369Z",
     "iopub.status.busy": "2020-11-08T14:29:28.582413Z",
     "iopub.status.idle": "2020-11-08T14:29:28.585148Z",
     "shell.execute_reply": "2020-11-08T14:29:28.585641Z"
    },
    "papermill": {
     "duration": 0.106426,
     "end_time": "2020-11-08T14:29:28.585761",
     "exception": false,
     "start_time": "2020-11-08T14:29:28.479335",
     "status": "completed"
    },
    "tags": []
   },
   "outputs": [],
   "source": [
    "stop_words = spacy.lang.en.STOP_WORDS # getting spacy's stop-words"
   ]
  },
  {
   "cell_type": "markdown",
   "metadata": {
    "papermill": {
     "duration": 0.097578,
     "end_time": "2020-11-08T14:29:28.779320",
     "exception": false,
     "start_time": "2020-11-08T14:29:28.681742",
     "status": "completed"
    },
    "tags": []
   },
   "source": [
    "### After tokenizer, there is a weird word '-pron-' that appears probably because spacy lemmatizers some pronouns as '-pron-'. So numbers strangely still appeared after tokenizing (and double tokenizing)...it may be due to a bug in spacy. We wil include these to our stop-words. and lemmatize our stop words since we are lemmatizing our tokens."
   ]
  },
  {
   "cell_type": "code",
   "execution_count": 37,
   "metadata": {
    "execution": {
     "iopub.execute_input": "2020-11-08T14:29:28.991122Z",
     "iopub.status.busy": "2020-11-08T14:29:28.982588Z",
     "iopub.status.idle": "2020-11-08T14:29:28.994259Z",
     "shell.execute_reply": "2020-11-08T14:29:28.993663Z"
    },
    "papermill": {
     "duration": 0.121557,
     "end_time": "2020-11-08T14:29:28.994375",
     "exception": false,
     "start_time": "2020-11-08T14:29:28.872818",
     "status": "completed"
    },
    "tags": []
   },
   "outputs": [],
   "source": [
    "stop_words_lemma = {word.lemma_.lower() for word in nlp(' '.join(stop_words))} | {'-pron-', '10', '12', \n",
    "                    'aah', 'aa', 'ab', 'aaa', 'aand', '16', '2', '20', '30', '4', '40', '5', '6', '7', '8', '9'}"
   ]
  },
  {
   "cell_type": "code",
   "execution_count": 38,
   "metadata": {
    "execution": {
     "iopub.execute_input": "2020-11-08T14:29:29.191809Z",
     "iopub.status.busy": "2020-11-08T14:29:29.190825Z",
     "iopub.status.idle": "2020-11-08T14:29:29.193665Z",
     "shell.execute_reply": "2020-11-08T14:29:29.194191Z"
    },
    "papermill": {
     "duration": 0.105682,
     "end_time": "2020-11-08T14:29:29.194330",
     "exception": false,
     "start_time": "2020-11-08T14:29:29.088648",
     "status": "completed"
    },
    "tags": []
   },
   "outputs": [],
   "source": [
    "# defining tokenzer function to tokenize the lower case lemma of documents in a corpus and \n",
    "# filter out stop-words  \n",
    "def tokenizer(text):\n",
    "    return [word.lemma_.lower() for word in nlp(text) if word.is_alpha and word.lemma_.lower() \\\n",
    "                not in stop_words_lemma]"
   ]
  },
  {
   "cell_type": "markdown",
   "metadata": {
    "papermill": {
     "duration": 0.094391,
     "end_time": "2020-11-08T14:29:29.386874",
     "exception": false,
     "start_time": "2020-11-08T14:29:29.292483",
     "status": "completed"
    },
    "tags": []
   },
   "source": [
    "## Word2vec"
   ]
  },
  {
   "cell_type": "markdown",
   "metadata": {
    "papermill": {
     "duration": 0.094329,
     "end_time": "2020-11-08T14:29:29.576871",
     "exception": false,
     "start_time": "2020-11-08T14:29:29.482542",
     "status": "completed"
    },
    "tags": []
   },
   "source": [
    "### Word2vec converts each word to an n-dimensional vector by using neural network to encode the context usage of words in a sentence. It is advantageous than Tfidf because it takes context into consideration. For this notebook, we will encoding into a 300 dimensional vector with the continuous bag of words (CBOW) strategy (default) on a window size of 5 (default) which seems to be the best for our data."
   ]
  },
  {
   "cell_type": "code",
   "execution_count": 39,
   "metadata": {
    "execution": {
     "iopub.execute_input": "2020-11-08T14:29:29.774727Z",
     "iopub.status.busy": "2020-11-08T14:29:29.773941Z",
     "iopub.status.idle": "2020-11-08T14:29:30.039195Z",
     "shell.execute_reply": "2020-11-08T14:29:30.038484Z"
    },
    "papermill": {
     "duration": 0.366964,
     "end_time": "2020-11-08T14:29:30.039336",
     "exception": false,
     "start_time": "2020-11-08T14:29:29.672372",
     "status": "completed"
    },
    "tags": []
   },
   "outputs": [],
   "source": [
    "from gensim.models import Word2Vec # importing Word2Vec"
   ]
  },
  {
   "cell_type": "code",
   "execution_count": 40,
   "metadata": {
    "execution": {
     "iopub.execute_input": "2020-11-08T14:29:30.240531Z",
     "iopub.status.busy": "2020-11-08T14:29:30.239462Z",
     "iopub.status.idle": "2020-11-08T14:29:30.242636Z",
     "shell.execute_reply": "2020-11-08T14:29:30.242128Z"
    },
    "papermill": {
     "duration": 0.106213,
     "end_time": "2020-11-08T14:29:30.242744",
     "exception": false,
     "start_time": "2020-11-08T14:29:30.136531",
     "status": "completed"
    },
    "tags": []
   },
   "outputs": [],
   "source": [
    "# defining a function to return the mean word2vec vectors of words in a review (document) as the document vector \n",
    "def get_doc_vector(model, doc):\n",
    "    return np.mean([model[word] for word in doc if word in model.wv.vocab], axis=0)"
   ]
  },
  {
   "cell_type": "markdown",
   "metadata": {
    "papermill": {
     "duration": 0.092342,
     "end_time": "2020-11-08T14:29:30.432598",
     "exception": false,
     "start_time": "2020-11-08T14:29:30.340256",
     "status": "completed"
    },
    "tags": []
   },
   "source": [
    "### First, let's make a corpus where each document is ````description```` plus ````not_vintage````"
   ]
  },
  {
   "cell_type": "markdown",
   "metadata": {
    "papermill": {
     "duration": 0.095672,
     "end_time": "2020-11-08T14:29:30.621759",
     "exception": false,
     "start_time": "2020-11-08T14:29:30.526087",
     "status": "completed"
    },
    "tags": []
   },
   "source": [
    "## Step 4"
   ]
  },
  {
   "cell_type": "code",
   "execution_count": 41,
   "metadata": {
    "execution": {
     "iopub.execute_input": "2020-11-08T14:29:30.814281Z",
     "iopub.status.busy": "2020-11-08T14:29:30.813476Z",
     "iopub.status.idle": "2020-11-08T14:29:36.204961Z",
     "shell.execute_reply": "2020-11-08T14:29:36.204093Z"
    },
    "papermill": {
     "duration": 5.49047,
     "end_time": "2020-11-08T14:29:36.205071",
     "exception": false,
     "start_time": "2020-11-08T14:29:30.714601",
     "status": "completed"
    },
    "tags": []
   },
   "outputs": [],
   "source": [
    "import tensorflow as tf\n",
    "from tensorflow.keras.preprocessing.text import Tokenizer"
   ]
  },
  {
   "cell_type": "code",
   "execution_count": 42,
   "metadata": {
    "execution": {
     "iopub.execute_input": "2020-11-08T14:29:36.450971Z",
     "iopub.status.busy": "2020-11-08T14:29:36.414806Z",
     "iopub.status.idle": "2020-11-08T14:30:42.384658Z",
     "shell.execute_reply": "2020-11-08T14:30:42.385354Z"
    },
    "papermill": {
     "duration": 66.084858,
     "end_time": "2020-11-08T14:30:42.385521",
     "exception": false,
     "start_time": "2020-11-08T14:29:36.300663",
     "status": "completed"
    },
    "tags": []
   },
   "outputs": [
    {
     "name": "stdout",
     "output_type": "stream",
     "text": [
      "['weight solid powerful core spice bake apple flavor france alsace alsace domaine marcel deiss', 'structure develope wine need age france alsace alsace domaine marcel deiss', 'drink france alsace alsace domaine marcel deiss']\n"
     ]
    }
   ],
   "source": [
    "# tokenize (lemmatize and filter stop words) corpus \n",
    "sent_oversample_corpus1 = [' '.join(tokenizer(doc)) for doc in sent_oversample_corpus] \n",
    "print(sent_oversample_corpus1[-3:])"
   ]
  },
  {
   "cell_type": "code",
   "execution_count": 43,
   "metadata": {
    "execution": {
     "iopub.execute_input": "2020-11-08T14:30:42.605633Z",
     "iopub.status.busy": "2020-11-08T14:30:42.595324Z",
     "iopub.status.idle": "2020-11-08T14:30:49.056253Z",
     "shell.execute_reply": "2020-11-08T14:30:49.056841Z"
    },
    "papermill": {
     "duration": 6.578117,
     "end_time": "2020-11-08T14:30:49.057002",
     "exception": false,
     "start_time": "2020-11-08T14:30:42.478885",
     "status": "completed"
    },
    "tags": []
   },
   "outputs": [
    {
     "name": "stdout",
     "output_type": "stream",
     "text": [
      "vocab size (number of unique words + 1) is 39565\n"
     ]
    }
   ],
   "source": [
    "sequence_tokenizer = Tokenizer()\n",
    "sequence_tokenizer.fit_on_texts(sent_oversample_corpus1)\n",
    "\n",
    "words_indices = sequence_tokenizer.word_index\n",
    "\n",
    "print('vocab size (number of unique words + 1) is {}'.format(len(words_indices) + 1))  \n",
    "# Adding 1 because of reserved 0 index"
   ]
  },
  {
   "cell_type": "code",
   "execution_count": null,
   "metadata": {
    "papermill": {
     "duration": 0.10161,
     "end_time": "2020-11-08T14:30:49.294016",
     "exception": false,
     "start_time": "2020-11-08T14:30:49.192406",
     "status": "completed"
    },
    "tags": []
   },
   "outputs": [],
   "source": []
  },
  {
   "cell_type": "code",
   "execution_count": 44,
   "metadata": {
    "execution": {
     "iopub.execute_input": "2020-11-08T14:30:49.524887Z",
     "iopub.status.busy": "2020-11-08T14:30:49.504339Z",
     "iopub.status.idle": "2020-11-08T14:30:54.749418Z",
     "shell.execute_reply": "2020-11-08T14:30:54.748549Z"
    },
    "papermill": {
     "duration": 5.362336,
     "end_time": "2020-11-08T14:30:54.749600",
     "exception": false,
     "start_time": "2020-11-08T14:30:49.387264",
     "status": "completed"
    },
    "tags": []
   },
   "outputs": [
    {
     "name": "stdout",
     "output_type": "stream",
     "text": [
      "weight solid powerful core spice bake apple flavor france alsace alsace domaine marcel deiss\n",
      "\n",
      "[211, 209, 280, 212, 30, 133, 52, 7, 9, 99, 99, 80, 4050, 7438]\n"
     ]
    }
   ],
   "source": [
    "sent_oversample_corpus2 = sequence_tokenizer.texts_to_sequences(sent_oversample_corpus1)\n",
    "print(sent_oversample_corpus1[-3])\n",
    "print()\n",
    "print(sent_oversample_corpus2[-3])"
   ]
  },
  {
   "cell_type": "markdown",
   "metadata": {
    "papermill": {
     "duration": 0.127181,
     "end_time": "2020-11-08T14:30:55.032355",
     "exception": false,
     "start_time": "2020-11-08T14:30:54.905174",
     "status": "completed"
    },
    "tags": []
   },
   "source": [
    "## Padding: All wine review won't have the same number of words, for this reason, we will use a sequence length equal to the number of words the review with the maximum number of words has. For review word count lesser than this, we will fill (pad) with zeros."
   ]
  },
  {
   "cell_type": "code",
   "execution_count": 45,
   "metadata": {
    "execution": {
     "iopub.execute_input": "2020-11-08T14:30:55.302046Z",
     "iopub.status.busy": "2020-11-08T14:30:55.301026Z",
     "iopub.status.idle": "2020-11-08T14:30:55.420840Z",
     "shell.execute_reply": "2020-11-08T14:30:55.424098Z"
    },
    "papermill": {
     "duration": 0.266024,
     "end_time": "2020-11-08T14:30:55.424285",
     "exception": false,
     "start_time": "2020-11-08T14:30:55.158261",
     "status": "completed"
    },
    "tags": []
   },
   "outputs": [],
   "source": [
    "from keras.preprocessing.sequence import pad_sequences"
   ]
  },
  {
   "cell_type": "code",
   "execution_count": 46,
   "metadata": {
    "execution": {
     "iopub.execute_input": "2020-11-08T14:30:55.695720Z",
     "iopub.status.busy": "2020-11-08T14:30:55.694452Z",
     "iopub.status.idle": "2020-11-08T14:30:57.425991Z",
     "shell.execute_reply": "2020-11-08T14:30:57.426819Z"
    },
    "papermill": {
     "duration": 1.894616,
     "end_time": "2020-11-08T14:30:57.427007",
     "exception": false,
     "start_time": "2020-11-08T14:30:55.532391",
     "status": "completed"
    },
    "tags": []
   },
   "outputs": [
    {
     "data": {
      "text/plain": [
       "array([ 211,  209,  280,  212,   30,  133,   52,    7,    9,   99,   99,\n",
       "         80, 4050, 7438,    0,    0,    0,    0,    0,    0,    0,    0,\n",
       "          0,    0,    0,    0,    0,    0,    0,    0,    0,    0,    0,\n",
       "          0,    0,    0,    0,    0,    0,    0,    0,    0,    0,    0,\n",
       "          0,    0,    0,    0,    0,    0,    0,    0,    0,    0,    0,\n",
       "          0,    0,    0,    0,    0,    0,    0,    0,    0,    0,    0,\n",
       "          0,    0,    0,    0,    0,    0,    0,    0,    0,    0,    0,\n",
       "          0,    0,    0,    0,    0,    0,    0,    0,    0,    0],\n",
       "      dtype=int32)"
      ]
     },
     "execution_count": 46,
     "metadata": {},
     "output_type": "execute_result"
    }
   ],
   "source": [
    "sent_oversample_corpus3 = pad_sequences(sent_oversample_corpus2, padding='post')\n",
    "sent_oversample_corpus3[-3]"
   ]
  },
  {
   "cell_type": "code",
   "execution_count": null,
   "metadata": {
    "papermill": {
     "duration": 0.09388,
     "end_time": "2020-11-08T14:30:57.616072",
     "exception": false,
     "start_time": "2020-11-08T14:30:57.522192",
     "status": "completed"
    },
    "tags": []
   },
   "outputs": [],
   "source": []
  },
  {
   "cell_type": "markdown",
   "metadata": {
    "papermill": {
     "duration": 0.094047,
     "end_time": "2020-11-08T14:30:57.803635",
     "exception": false,
     "start_time": "2020-11-08T14:30:57.709588",
     "status": "completed"
    },
    "tags": []
   },
   "source": [
    "## Training word2vec"
   ]
  },
  {
   "cell_type": "code",
   "execution_count": 47,
   "metadata": {
    "execution": {
     "iopub.execute_input": "2020-11-08T14:30:58.040148Z",
     "iopub.status.busy": "2020-11-08T14:30:58.030029Z",
     "iopub.status.idle": "2020-11-08T14:32:03.948311Z",
     "shell.execute_reply": "2020-11-08T14:32:03.948942Z"
    },
    "papermill": {
     "duration": 66.050912,
     "end_time": "2020-11-08T14:32:03.949110",
     "exception": false,
     "start_time": "2020-11-08T14:30:57.898198",
     "status": "completed"
    },
    "tags": []
   },
   "outputs": [
    {
     "name": "stdout",
     "output_type": "stream",
     "text": [
      "[['pineapple', 'rind', 'lemon', 'pith', 'orange', 'blossom', 'start', 'aroma', 'palate', 'bite', 'opulent', 'note', 'honey', 'drizzle', 'guava', 'mango', 'way', 'slightly', 'astringent', 'semidry', 'finish', 'united', 'states', 'america', 'reserve', 'late', 'harvest', 'michigan', 'lake', 'michigan', 'shore', 'julian'], ['like', 'regular', 'bottle', 'come', 'rough', 'tannic', 'rustic', 'earthy', 'herbal', 'characteristic', 'nonetheless', 'think', 'pleasantly', 'unfussy', 'country', 'wine', 'companion', 'hearty', 'winter', 'stew', 'united', 'states', 'america', 'vintner', 'reserve', 'wild', 'child', 'block', 'oregon', 'willamette', 'valley', 'willamette', 'valley', 'sweet', 'cheeks']]\n"
     ]
    }
   ],
   "source": [
    "sent_oversample_corpus4 = [tokenizer(doc) for doc in sent_oversample_corpus] # gets corpus as a list of lists\n",
    "print(sent_oversample_corpus4[:2])"
   ]
  },
  {
   "cell_type": "code",
   "execution_count": 48,
   "metadata": {
    "execution": {
     "iopub.execute_input": "2020-11-08T14:32:04.193844Z",
     "iopub.status.busy": "2020-11-08T14:32:04.188687Z",
     "iopub.status.idle": "2020-11-08T14:33:52.593390Z",
     "shell.execute_reply": "2020-11-08T14:33:52.594265Z"
    },
    "papermill": {
     "duration": 108.5478,
     "end_time": "2020-11-08T14:33:52.594466",
     "exception": false,
     "start_time": "2020-11-08T14:32:04.046666",
     "status": "completed"
    },
    "tags": []
   },
   "outputs": [
    {
     "name": "stdout",
     "output_type": "stream",
     "text": [
      "Word2Vec(vocab=39564, size=300, alpha=0.025)\n"
     ]
    }
   ],
   "source": [
    "# trains sent_oversample_corpus2 on Word2Vec. For sent_oversample_corpus2, min_count of 5 and iter (epoch) of 10 \n",
    "# seems to be the best\n",
    "sent_w2v_model = Word2Vec(sent_oversample_corpus4, size=300, min_count=1, iter=10)\n",
    "\n",
    "print(sent_w2v_model) # sumarizes the word2vec"
   ]
  },
  {
   "cell_type": "code",
   "execution_count": 49,
   "metadata": {
    "execution": {
     "iopub.execute_input": "2020-11-08T14:33:52.889161Z",
     "iopub.status.busy": "2020-11-08T14:33:52.888108Z",
     "iopub.status.idle": "2020-11-08T14:33:52.891119Z",
     "shell.execute_reply": "2020-11-08T14:33:52.890068Z"
    },
    "papermill": {
     "duration": 0.157797,
     "end_time": "2020-11-08T14:33:52.891268",
     "exception": false,
     "start_time": "2020-11-08T14:33:52.733471",
     "status": "completed"
    },
    "tags": []
   },
   "outputs": [],
   "source": [
    "# getting the word2vec embeddings (vectors) of the corpus as input array\n",
    "#words_vectors = np.array([get_doc_vector(sent_w2v_model, doc) for doc in sent_oversample_corpus2])"
   ]
  },
  {
   "cell_type": "code",
   "execution_count": 50,
   "metadata": {
    "execution": {
     "iopub.execute_input": "2020-11-08T14:33:53.203207Z",
     "iopub.status.busy": "2020-11-08T14:33:53.202130Z",
     "iopub.status.idle": "2020-11-08T14:33:53.207306Z",
     "shell.execute_reply": "2020-11-08T14:33:53.208055Z"
    },
    "papermill": {
     "duration": 0.175243,
     "end_time": "2020-11-08T14:33:53.208229",
     "exception": false,
     "start_time": "2020-11-08T14:33:53.032986",
     "status": "completed"
    },
    "tags": []
   },
   "outputs": [
    {
     "data": {
      "text/plain": [
       "(300,)"
      ]
     },
     "execution_count": 50,
     "metadata": {},
     "output_type": "execute_result"
    }
   ],
   "source": [
    "sent_w2v_model['pineapple'].shape # confirms the dimension of our embedding"
   ]
  },
  {
   "cell_type": "markdown",
   "metadata": {
    "papermill": {
     "duration": 0.113484,
     "end_time": "2020-11-08T14:33:53.493266",
     "exception": false,
     "start_time": "2020-11-08T14:33:53.379782",
     "status": "completed"
    },
    "tags": []
   },
   "source": [
    "### Let's see some Word2Vec magic to boost our confidence in our trained word2vec model"
   ]
  },
  {
   "cell_type": "code",
   "execution_count": 51,
   "metadata": {
    "execution": {
     "iopub.execute_input": "2020-11-08T14:33:53.696623Z",
     "iopub.status.busy": "2020-11-08T14:33:53.695117Z",
     "iopub.status.idle": "2020-11-08T14:33:53.760617Z",
     "shell.execute_reply": "2020-11-08T14:33:53.761216Z"
    },
    "papermill": {
     "duration": 0.17143,
     "end_time": "2020-11-08T14:33:53.761385",
     "exception": false,
     "start_time": "2020-11-08T14:33:53.589955",
     "status": "completed"
    },
    "tags": []
   },
   "outputs": [
    {
     "data": {
      "text/plain": [
       "'italy'"
      ]
     },
     "execution_count": 51,
     "metadata": {},
     "output_type": "execute_result"
    }
   ],
   "source": [
    "# picking out the odd word\n",
    "sent_w2v_model.wv.doesnt_match(['cherry', 'italy', 'apple', 'pineapple', 'tangerine'])"
   ]
  },
  {
   "cell_type": "code",
   "execution_count": 52,
   "metadata": {
    "execution": {
     "iopub.execute_input": "2020-11-08T14:33:53.977574Z",
     "iopub.status.busy": "2020-11-08T14:33:53.976149Z",
     "iopub.status.idle": "2020-11-08T14:33:53.980150Z",
     "shell.execute_reply": "2020-11-08T14:33:53.980669Z"
    },
    "papermill": {
     "duration": 0.111304,
     "end_time": "2020-11-08T14:33:53.980809",
     "exception": false,
     "start_time": "2020-11-08T14:33:53.869505",
     "status": "completed"
    },
    "tags": []
   },
   "outputs": [
    {
     "data": {
      "text/plain": [
       "'france'"
      ]
     },
     "execution_count": 52,
     "metadata": {},
     "output_type": "execute_result"
    }
   ],
   "source": [
    "# picking out the odd word\n",
    "sent_w2v_model.wv.doesnt_match(['arizona', 'france', 'michigan', 'texas', 'pennsylvania'])"
   ]
  },
  {
   "cell_type": "code",
   "execution_count": 53,
   "metadata": {
    "execution": {
     "iopub.execute_input": "2020-11-08T14:33:54.230045Z",
     "iopub.status.busy": "2020-11-08T14:33:54.229130Z",
     "iopub.status.idle": "2020-11-08T14:33:54.240641Z",
     "shell.execute_reply": "2020-11-08T14:33:54.240053Z"
    },
    "papermill": {
     "duration": 0.1514,
     "end_time": "2020-11-08T14:33:54.240747",
     "exception": false,
     "start_time": "2020-11-08T14:33:54.089347",
     "status": "completed"
    },
    "tags": []
   },
   "outputs": [
    {
     "data": {
      "text/plain": [
       "'Estremadura'"
      ]
     },
     "execution_count": 53,
     "metadata": {},
     "output_type": "execute_result"
    }
   ],
   "source": [
    "# let's see a random province in Portugal\n",
    "balanced_df[balanced_df['country'] == 'Portugal']['province'].unique()[0]"
   ]
  },
  {
   "cell_type": "code",
   "execution_count": 54,
   "metadata": {
    "execution": {
     "iopub.execute_input": "2020-11-08T14:33:54.483865Z",
     "iopub.status.busy": "2020-11-08T14:33:54.482878Z",
     "iopub.status.idle": "2020-11-08T14:33:54.488952Z",
     "shell.execute_reply": "2020-11-08T14:33:54.489479Z"
    },
    "papermill": {
     "duration": 0.138358,
     "end_time": "2020-11-08T14:33:54.489623",
     "exception": false,
     "start_time": "2020-11-08T14:33:54.351265",
     "status": "completed"
    },
    "tags": []
   },
   "outputs": [
    {
     "data": {
      "text/plain": [
       "array(['British Columbia', 'Ontario'], dtype=object)"
      ]
     },
     "execution_count": 54,
     "metadata": {},
     "output_type": "execute_result"
    }
   ],
   "source": [
    "#provinces in Canada\n",
    "balanced_df[balanced_df['country'] == 'Canada']['province'].unique()"
   ]
  },
  {
   "cell_type": "code",
   "execution_count": 55,
   "metadata": {
    "execution": {
     "iopub.execute_input": "2020-11-08T14:33:54.701616Z",
     "iopub.status.busy": "2020-11-08T14:33:54.700110Z",
     "iopub.status.idle": "2020-11-08T14:33:54.711387Z",
     "shell.execute_reply": "2020-11-08T14:33:54.711885Z"
    },
    "papermill": {
     "duration": 0.12,
     "end_time": "2020-11-08T14:33:54.712021",
     "exception": false,
     "start_time": "2020-11-08T14:33:54.592021",
     "status": "completed"
    },
    "tags": []
   },
   "outputs": [
    {
     "name": "stdout",
     "output_type": "stream",
     "text": [
      "[('canada', 0.5695977807044983), ('germany', 0.44740062952041626), ('austria', 0.405597060918808), ('france', 0.3879120647907257), ('british', 0.3874151408672333), ('lip', 0.3806282877922058), ('hedgerow', 0.3725513815879822), ('stylish', 0.3717763125896454), ('gorgeously', 0.36772027611732483), ('balanced', 0.3612484335899353)]\n"
     ]
    }
   ],
   "source": [
    "# just like king - man + woman = queen, we want to prove that portugal - estremadura + ontario = canada\n",
    "print(sent_w2v_model.wv.most_similar(positive=['portugal', 'ontario'], negative=['estremadura']))"
   ]
  },
  {
   "cell_type": "markdown",
   "metadata": {
    "papermill": {
     "duration": 0.100521,
     "end_time": "2020-11-08T14:33:54.915369",
     "exception": false,
     "start_time": "2020-11-08T14:33:54.814848",
     "status": "completed"
    },
    "tags": []
   },
   "source": [
    "### From the result above, 'Canada' is our model's best answer"
   ]
  },
  {
   "cell_type": "code",
   "execution_count": 56,
   "metadata": {
    "execution": {
     "iopub.execute_input": "2020-11-08T14:33:55.124554Z",
     "iopub.status.busy": "2020-11-08T14:33:55.123266Z",
     "iopub.status.idle": "2020-11-08T14:33:55.133445Z",
     "shell.execute_reply": "2020-11-08T14:33:55.132910Z"
    },
    "papermill": {
     "duration": 0.117373,
     "end_time": "2020-11-08T14:33:55.133561",
     "exception": false,
     "start_time": "2020-11-08T14:33:55.016188",
     "status": "completed"
    },
    "tags": []
   },
   "outputs": [
    {
     "name": "stdout",
     "output_type": "stream",
     "text": [
      "[('scent', 0.7978876829147339), ('aromas', 0.7446494102478027), ('bouquet', 0.6791557669639587), ('note', 0.618213951587677), ('nose', 0.5941957831382751), ('smell', 0.5910501480102539), ('flavors', 0.5676277875900269), ('fragrance', 0.5558012127876282), ('whiff', 0.5382074117660522), ('mix', 0.5371959805488586)]\n"
     ]
    }
   ],
   "source": [
    "# let's see the most similar words to 'aroma'\n",
    "print(sent_w2v_model.wv.most_similar('aroma'))"
   ]
  },
  {
   "cell_type": "code",
   "execution_count": 57,
   "metadata": {
    "execution": {
     "iopub.execute_input": "2020-11-08T14:33:55.372722Z",
     "iopub.status.busy": "2020-11-08T14:33:55.371183Z",
     "iopub.status.idle": "2020-11-08T14:33:55.386865Z",
     "shell.execute_reply": "2020-11-08T14:33:55.387477Z"
    },
    "papermill": {
     "duration": 0.126658,
     "end_time": "2020-11-08T14:33:55.387626",
     "exception": false,
     "start_time": "2020-11-08T14:33:55.260968",
     "status": "completed"
    },
    "tags": []
   },
   "outputs": [
    {
     "name": "stdout",
     "output_type": "stream",
     "text": [
      "[('tangerine', 0.6614583730697632), ('lemon', 0.5908961296081543), ('citrus', 0.5715746283531189), ('watermelon', 0.5235946774482727), ('nasturtium', 0.5066062211990356), ('nectarine', 0.49952980875968933), ('grapefruit', 0.477028489112854), ('bergamot', 0.47427669167518616), ('clarified', 0.4739525020122528), ('lemongrass', 0.4706479012966156)]\n"
     ]
    }
   ],
   "source": [
    "# let's see the most similar words to 'orange'\n",
    "print(sent_w2v_model.wv.most_similar('orange'))"
   ]
  },
  {
   "cell_type": "markdown",
   "metadata": {
    "papermill": {
     "duration": 0.104091,
     "end_time": "2020-11-08T14:33:55.600344",
     "exception": false,
     "start_time": "2020-11-08T14:33:55.496253",
     "status": "completed"
    },
    "tags": []
   },
   "source": [
    "### Word2Vec is powerful in capturing contexual semantics of words. Our Word2Vec model is doing that just right to a large extent."
   ]
  },
  {
   "cell_type": "code",
   "execution_count": null,
   "metadata": {
    "papermill": {
     "duration": 0.106524,
     "end_time": "2020-11-08T14:33:55.809054",
     "exception": false,
     "start_time": "2020-11-08T14:33:55.702530",
     "status": "completed"
    },
    "tags": []
   },
   "outputs": [],
   "source": []
  },
  {
   "cell_type": "code",
   "execution_count": 58,
   "metadata": {
    "execution": {
     "iopub.execute_input": "2020-11-08T14:33:56.025457Z",
     "iopub.status.busy": "2020-11-08T14:33:56.024546Z",
     "iopub.status.idle": "2020-11-08T14:33:56.027953Z",
     "shell.execute_reply": "2020-11-08T14:33:56.027390Z"
    },
    "papermill": {
     "duration": 0.114524,
     "end_time": "2020-11-08T14:33:56.028057",
     "exception": false,
     "start_time": "2020-11-08T14:33:55.913533",
     "status": "completed"
    },
    "tags": []
   },
   "outputs": [],
   "source": [
    "assert len(words_indices) == len(sent_w2v_model.wv.vocab)"
   ]
  },
  {
   "cell_type": "markdown",
   "metadata": {
    "papermill": {
     "duration": 0.105252,
     "end_time": "2020-11-08T14:33:56.241736",
     "exception": false,
     "start_time": "2020-11-08T14:33:56.136484",
     "status": "completed"
    },
    "tags": []
   },
   "source": [
    "## Modelling"
   ]
  },
  {
   "cell_type": "markdown",
   "metadata": {
    "papermill": {
     "duration": 0.117392,
     "end_time": "2020-11-08T14:33:56.461292",
     "exception": false,
     "start_time": "2020-11-08T14:33:56.343900",
     "status": "completed"
    },
    "tags": []
   },
   "source": [
    "### Defining a function that creates an embedding matrix"
   ]
  },
  {
   "cell_type": "code",
   "execution_count": 59,
   "metadata": {
    "execution": {
     "iopub.execute_input": "2020-11-08T14:33:56.686816Z",
     "iopub.status.busy": "2020-11-08T14:33:56.685785Z",
     "iopub.status.idle": "2020-11-08T14:33:56.688708Z",
     "shell.execute_reply": "2020-11-08T14:33:56.688156Z"
    },
    "papermill": {
     "duration": 0.113873,
     "end_time": "2020-11-08T14:33:56.688817",
     "exception": false,
     "start_time": "2020-11-08T14:33:56.574944",
     "status": "completed"
    },
    "tags": []
   },
   "outputs": [],
   "source": [
    "def get_embedding_matrix(model, word_index):\n",
    "    vocab_size = len(word_index) + 1\n",
    "    embedding_dim = model.wv.vector_size\n",
    "    embedding_matrix = np.zeros((vocab_size, embedding_dim))\n",
    "    \n",
    "    for word in model.wv.vocab:\n",
    "        ind = word_index[word]\n",
    "        embedding_matrix[ind] = model[word]\n",
    "        \n",
    "    return embedding_matrix"
   ]
  },
  {
   "cell_type": "code",
   "execution_count": 60,
   "metadata": {
    "execution": {
     "iopub.execute_input": "2020-11-08T14:33:56.900590Z",
     "iopub.status.busy": "2020-11-08T14:33:56.899673Z",
     "iopub.status.idle": "2020-11-08T14:33:57.338758Z",
     "shell.execute_reply": "2020-11-08T14:33:57.337561Z"
    },
    "papermill": {
     "duration": 0.54598,
     "end_time": "2020-11-08T14:33:57.338874",
     "exception": false,
     "start_time": "2020-11-08T14:33:56.792894",
     "status": "completed"
    },
    "tags": []
   },
   "outputs": [],
   "source": [
    "embedding_matrix = get_embedding_matrix(sent_w2v_model, words_indices)"
   ]
  },
  {
   "cell_type": "code",
   "execution_count": 61,
   "metadata": {
    "execution": {
     "iopub.execute_input": "2020-11-08T14:33:57.556128Z",
     "iopub.status.busy": "2020-11-08T14:33:57.555404Z",
     "iopub.status.idle": "2020-11-08T14:33:57.561282Z",
     "shell.execute_reply": "2020-11-08T14:33:57.561905Z"
    },
    "papermill": {
     "duration": 0.118072,
     "end_time": "2020-11-08T14:33:57.562067",
     "exception": false,
     "start_time": "2020-11-08T14:33:57.443995",
     "status": "completed"
    },
    "tags": []
   },
   "outputs": [
    {
     "data": {
      "text/plain": [
       "(39565, 300)"
      ]
     },
     "execution_count": 61,
     "metadata": {},
     "output_type": "execute_result"
    }
   ],
   "source": [
    "embedding_matrix.shape"
   ]
  },
  {
   "cell_type": "markdown",
   "metadata": {
    "papermill": {
     "duration": 0.115795,
     "end_time": "2020-11-08T14:33:57.830000",
     "exception": false,
     "start_time": "2020-11-08T14:33:57.714205",
     "status": "completed"
    },
    "tags": []
   },
   "source": [
    "### defining custom fbeta function"
   ]
  },
  {
   "cell_type": "code",
   "execution_count": 62,
   "metadata": {
    "execution": {
     "iopub.execute_input": "2020-11-08T14:33:58.051089Z",
     "iopub.status.busy": "2020-11-08T14:33:58.050059Z",
     "iopub.status.idle": "2020-11-08T14:33:58.052691Z",
     "shell.execute_reply": "2020-11-08T14:33:58.053269Z"
    },
    "papermill": {
     "duration": 0.116822,
     "end_time": "2020-11-08T14:33:58.053409",
     "exception": false,
     "start_time": "2020-11-08T14:33:57.936587",
     "status": "completed"
    },
    "tags": []
   },
   "outputs": [],
   "source": [
    "def multi_class_fbeta(ytrue , ypred, beta=1, weighted=True, raw=False, epsilon=1e-7):\n",
    "    beta_squared = beta**2\n",
    "\n",
    "    ytrue = tf.cast(ytrue, tf.float32)\n",
    "    ypred= tf.cast(ypred, tf.float32)\n",
    "    \n",
    "    max_prob = tf.reduce_max(ypred, axis=-1, keepdims=True)\n",
    "    ypred = tf.cast(tf.equal(ypred, max_prob), tf.float32)\n",
    "        \n",
    "    tp = tf.reduce_sum(ytrue*ypred, axis=0)\n",
    "    predicted_positive = tf.reduce_sum(ypred, axis=0)\n",
    "    actual_positive = tf.reduce_sum(ytrue, axis=0)\n",
    "    \n",
    "    precision = tp/(predicted_positive+epsilon)\n",
    "    recall = tp/(actual_positive+epsilon)\n",
    "\n",
    "    fb = (1+beta_squared)*precision*recall / (beta_squared*precision + recall + epsilon)\n",
    "    \n",
    "    if raw:\n",
    "        return fb\n",
    "    \n",
    "    if weighted:\n",
    "        supports = tf.reduce_sum(ytrue, axis=0)\n",
    "        return tf.reduce_sum(fb*supports / tf.reduce_sum(supports))\n",
    "\n",
    "    return tf.reduce_mean(fb)"
   ]
  },
  {
   "cell_type": "markdown",
   "metadata": {
    "papermill": {
     "duration": 0.108117,
     "end_time": "2020-11-08T14:33:58.266494",
     "exception": false,
     "start_time": "2020-11-08T14:33:58.158377",
     "status": "completed"
    },
    "tags": []
   },
   "source": [
    "### setting class weights"
   ]
  },
  {
   "cell_type": "code",
   "execution_count": 63,
   "metadata": {
    "execution": {
     "iopub.execute_input": "2020-11-08T14:33:58.484083Z",
     "iopub.status.busy": "2020-11-08T14:33:58.481817Z",
     "iopub.status.idle": "2020-11-08T14:33:58.484769Z",
     "shell.execute_reply": "2020-11-08T14:33:58.485328Z"
    },
    "papermill": {
     "duration": 0.113676,
     "end_time": "2020-11-08T14:33:58.485454",
     "exception": false,
     "start_time": "2020-11-08T14:33:58.371778",
     "status": "completed"
    },
    "tags": []
   },
   "outputs": [],
   "source": [
    "from sklearn.utils import class_weight"
   ]
  },
  {
   "cell_type": "code",
   "execution_count": 64,
   "metadata": {
    "execution": {
     "iopub.execute_input": "2020-11-08T14:33:58.789716Z",
     "iopub.status.busy": "2020-11-08T14:33:58.788748Z",
     "iopub.status.idle": "2020-11-08T14:33:58.894173Z",
     "shell.execute_reply": "2020-11-08T14:33:58.895350Z"
    },
    "papermill": {
     "duration": 0.279576,
     "end_time": "2020-11-08T14:33:58.895547",
     "exception": false,
     "start_time": "2020-11-08T14:33:58.615971",
     "status": "completed"
    },
    "tags": []
   },
   "outputs": [],
   "source": [
    "class_weights = class_weight.compute_class_weight('balanced', np.arange(20), sent_oversample_labels)\n",
    "class_weights = {k: v for k, v in enumerate(class_weights)}"
   ]
  },
  {
   "cell_type": "code",
   "execution_count": 65,
   "metadata": {
    "execution": {
     "iopub.execute_input": "2020-11-08T14:33:59.216187Z",
     "iopub.status.busy": "2020-11-08T14:33:59.215162Z",
     "iopub.status.idle": "2020-11-08T14:33:59.219288Z",
     "shell.execute_reply": "2020-11-08T14:33:59.217065Z"
    },
    "papermill": {
     "duration": 0.165834,
     "end_time": "2020-11-08T14:33:59.219444",
     "exception": false,
     "start_time": "2020-11-08T14:33:59.053610",
     "status": "completed"
    },
    "tags": []
   },
   "outputs": [
    {
     "name": "stdout",
     "output_type": "stream",
     "text": [
      "{0: 1.1543600867678958, 1: 0.8427364864864865, 2: 0.6791797838849656, 3: 0.9919721635392071, 4: 1.013766827533655, 5: 0.9846305661773775, 6: 2.015248674577127, 7: 0.6014466546112116, 8: 1.0321179208688906, 9: 0.8922870556673373, 10: 2.009667673716012, 11: 1.5383310849874734, 12: 0.8669925057021831, 13: 1.0740581270182992, 14: 0.6235762831028826, 15: 1.3906620209059233, 16: 0.7173256649892163, 17: 1.4377521613832853, 18: 1.3229035465694399, 19: 1.2257985257985258}\n"
     ]
    }
   ],
   "source": [
    "print(class_weights)"
   ]
  },
  {
   "cell_type": "code",
   "execution_count": 66,
   "metadata": {
    "execution": {
     "iopub.execute_input": "2020-11-08T14:33:59.534278Z",
     "iopub.status.busy": "2020-11-08T14:33:59.533354Z",
     "iopub.status.idle": "2020-11-08T14:33:59.537155Z",
     "shell.execute_reply": "2020-11-08T14:33:59.537778Z"
    },
    "papermill": {
     "duration": 0.163468,
     "end_time": "2020-11-08T14:33:59.538069",
     "exception": false,
     "start_time": "2020-11-08T14:33:59.374601",
     "status": "completed"
    },
    "tags": []
   },
   "outputs": [],
   "source": [
    "# importing deep learning libraries\n",
    "from tensorflow.keras.layers import Embedding, Dense, GlobalMaxPool1D, GlobalAvgPool1D, Conv1D, Dropout\n",
    "from tensorflow.keras.models import Sequential\n",
    "from tensorflow.keras.wrappers.scikit_learn import KerasClassifier\n",
    "from tensorflow.keras.callbacks import EarlyStopping\n",
    "from sklearn.model_selection import cross_val_score, RepeatedStratifiedKFold"
   ]
  },
  {
   "cell_type": "markdown",
   "metadata": {
    "papermill": {
     "duration": 0.160728,
     "end_time": "2020-11-08T14:33:59.851353",
     "exception": false,
     "start_time": "2020-11-08T14:33:59.690625",
     "status": "completed"
    },
    "tags": []
   },
   "source": [
    "### Defining a function to build a neural network"
   ]
  },
  {
   "cell_type": "code",
   "execution_count": 67,
   "metadata": {
    "execution": {
     "iopub.execute_input": "2020-11-08T14:34:00.084491Z",
     "iopub.status.busy": "2020-11-08T14:34:00.083271Z",
     "iopub.status.idle": "2020-11-08T14:34:00.087299Z",
     "shell.execute_reply": "2020-11-08T14:34:00.087803Z"
    },
    "papermill": {
     "duration": 0.11899,
     "end_time": "2020-11-08T14:34:00.087954",
     "exception": false,
     "start_time": "2020-11-08T14:33:59.968964",
     "status": "completed"
    },
    "tags": []
   },
   "outputs": [
    {
     "data": {
      "text/plain": [
       "(159648, 87)"
      ]
     },
     "execution_count": 67,
     "metadata": {},
     "output_type": "execute_result"
    }
   ],
   "source": [
    "sent_oversample_corpus3.shape"
   ]
  },
  {
   "cell_type": "code",
   "execution_count": 68,
   "metadata": {
    "execution": {
     "iopub.execute_input": "2020-11-08T14:34:00.319760Z",
     "iopub.status.busy": "2020-11-08T14:34:00.318908Z",
     "iopub.status.idle": "2020-11-08T14:34:00.322074Z",
     "shell.execute_reply": "2020-11-08T14:34:00.321492Z"
    },
    "papermill": {
     "duration": 0.123905,
     "end_time": "2020-11-08T14:34:00.322190",
     "exception": false,
     "start_time": "2020-11-08T14:34:00.198285",
     "status": "completed"
    },
    "tags": []
   },
   "outputs": [],
   "source": [
    "def build_cnn_model():\n",
    "    model = Sequential()\n",
    "    model.add(Embedding(embedding_matrix.shape[0], embedding_matrix.shape[1], \n",
    "                           weights=[embedding_matrix], \n",
    "                           input_length=sent_oversample_corpus3.shape[1], \n",
    "                           trainable=False))\n",
    "    \n",
    "    model.add(Conv1D(128, 3, activation='relu'))\n",
    "    model.add(Conv1D(128, 3, activation='relu'))\n",
    "    \n",
    "    model.add(GlobalMaxPool1D())\n",
    "    \n",
    "    model.add(Dropout(0.2))\n",
    "    \n",
    "    model.add(Dense(20, activation='softmax'))\n",
    "\n",
    "    model.compile(optimizer='adam',\n",
    "              loss='categorical_crossentropy',\n",
    "              metrics=['accuracy', multi_class_fbeta])\n",
    "\n",
    "    return model"
   ]
  },
  {
   "cell_type": "code",
   "execution_count": 69,
   "metadata": {
    "execution": {
     "iopub.execute_input": "2020-11-08T14:34:00.546436Z",
     "iopub.status.busy": "2020-11-08T14:34:00.545832Z",
     "iopub.status.idle": "2020-11-08T14:34:03.770180Z",
     "shell.execute_reply": "2020-11-08T14:34:03.769160Z"
    },
    "papermill": {
     "duration": 3.336807,
     "end_time": "2020-11-08T14:34:03.770378",
     "exception": false,
     "start_time": "2020-11-08T14:34:00.433571",
     "status": "completed"
    },
    "tags": []
   },
   "outputs": [
    {
     "name": "stdout",
     "output_type": "stream",
     "text": [
      "Model: \"sequential\"\n",
      "_________________________________________________________________\n",
      "Layer (type)                 Output Shape              Param #   \n",
      "=================================================================\n",
      "embedding (Embedding)        (None, 87, 300)           11869500  \n",
      "_________________________________________________________________\n",
      "conv1d (Conv1D)              (None, 85, 128)           115328    \n",
      "_________________________________________________________________\n",
      "conv1d_1 (Conv1D)            (None, 83, 128)           49280     \n",
      "_________________________________________________________________\n",
      "global_max_pooling1d (Global (None, 128)               0         \n",
      "_________________________________________________________________\n",
      "dropout (Dropout)            (None, 128)               0         \n",
      "_________________________________________________________________\n",
      "dense (Dense)                (None, 20)                2580      \n",
      "=================================================================\n",
      "Total params: 12,036,688\n",
      "Trainable params: 167,188\n",
      "Non-trainable params: 11,869,500\n",
      "_________________________________________________________________\n"
     ]
    }
   ],
   "source": [
    "model = build_cnn_model() # builds model\n",
    "\n",
    "model.summary()"
   ]
  },
  {
   "cell_type": "code",
   "execution_count": 70,
   "metadata": {
    "execution": {
     "iopub.execute_input": "2020-11-08T14:34:03.991231Z",
     "iopub.status.busy": "2020-11-08T14:34:03.990521Z",
     "iopub.status.idle": "2020-11-08T14:37:09.713202Z",
     "shell.execute_reply": "2020-11-08T14:37:09.712497Z"
    },
    "papermill": {
     "duration": 185.835601,
     "end_time": "2020-11-08T14:37:09.713372",
     "exception": false,
     "start_time": "2020-11-08T14:34:03.877771",
     "status": "completed"
    },
    "tags": []
   },
   "outputs": [
    {
     "name": "stdout",
     "output_type": "stream",
     "text": [
      "Epoch 1/20\n",
      "936/936 [==============================] - 9s 10ms/step - loss: 0.8269 - accuracy: 0.7336 - multi_class_fbeta: 0.7323 - val_loss: 0.7900 - val_accuracy: 0.7493 - val_multi_class_fbeta: 0.7648\n",
      "Epoch 2/20\n",
      "936/936 [==============================] - 9s 9ms/step - loss: 0.5785 - accuracy: 0.8061 - multi_class_fbeta: 0.8066 - val_loss: 0.8080 - val_accuracy: 0.7440 - val_multi_class_fbeta: 0.7640\n",
      "Epoch 3/20\n",
      "936/936 [==============================] - 9s 10ms/step - loss: 0.5137 - accuracy: 0.8244 - multi_class_fbeta: 0.8252 - val_loss: 0.7251 - val_accuracy: 0.7664 - val_multi_class_fbeta: 0.7824\n",
      "Epoch 4/20\n",
      "936/936 [==============================] - 9s 10ms/step - loss: 0.4738 - accuracy: 0.8357 - multi_class_fbeta: 0.8362 - val_loss: 0.7383 - val_accuracy: 0.7692 - val_multi_class_fbeta: 0.7885\n",
      "Epoch 5/20\n",
      "936/936 [==============================] - 9s 10ms/step - loss: 0.4395 - accuracy: 0.8445 - multi_class_fbeta: 0.8455 - val_loss: 0.7068 - val_accuracy: 0.7780 - val_multi_class_fbeta: 0.7934\n",
      "Epoch 6/20\n",
      "936/936 [==============================] - 9s 10ms/step - loss: 0.4165 - accuracy: 0.8520 - multi_class_fbeta: 0.8528 - val_loss: 0.7016 - val_accuracy: 0.7819 - val_multi_class_fbeta: 0.7963\n",
      "Epoch 7/20\n",
      "936/936 [==============================] - 9s 9ms/step - loss: 0.3940 - accuracy: 0.8594 - multi_class_fbeta: 0.8605 - val_loss: 0.7270 - val_accuracy: 0.7769 - val_multi_class_fbeta: 0.7926\n",
      "Epoch 8/20\n",
      "936/936 [==============================] - 9s 9ms/step - loss: 0.3743 - accuracy: 0.8649 - multi_class_fbeta: 0.8659 - val_loss: 0.7130 - val_accuracy: 0.7819 - val_multi_class_fbeta: 0.7959\n",
      "Epoch 9/20\n",
      "936/936 [==============================] - 9s 9ms/step - loss: 0.3589 - accuracy: 0.8699 - multi_class_fbeta: 0.8707 - val_loss: 0.8088 - val_accuracy: 0.7596 - val_multi_class_fbeta: 0.7840\n",
      "Epoch 10/20\n",
      "936/936 [==============================] - 9s 10ms/step - loss: 0.3426 - accuracy: 0.8744 - multi_class_fbeta: 0.8751 - val_loss: 0.7417 - val_accuracy: 0.7800 - val_multi_class_fbeta: 0.7965\n",
      "Epoch 11/20\n",
      "936/936 [==============================] - 9s 9ms/step - loss: 0.3305 - accuracy: 0.8779 - multi_class_fbeta: 0.8787 - val_loss: 0.7420 - val_accuracy: 0.7854 - val_multi_class_fbeta: 0.8005\n",
      "Epoch 12/20\n",
      "936/936 [==============================] - 9s 10ms/step - loss: 0.3173 - accuracy: 0.8828 - multi_class_fbeta: 0.8833 - val_loss: 0.7429 - val_accuracy: 0.7896 - val_multi_class_fbeta: 0.8030\n",
      "Epoch 13/20\n",
      "936/936 [==============================] - 9s 9ms/step - loss: 0.3028 - accuracy: 0.8873 - multi_class_fbeta: 0.8880 - val_loss: 0.7936 - val_accuracy: 0.7787 - val_multi_class_fbeta: 0.7958\n",
      "Epoch 14/20\n",
      "936/936 [==============================] - 9s 10ms/step - loss: 0.2973 - accuracy: 0.8891 - multi_class_fbeta: 0.8899 - val_loss: 0.8440 - val_accuracy: 0.7712 - val_multi_class_fbeta: 0.7939\n",
      "Epoch 15/20\n",
      "936/936 [==============================] - 9s 9ms/step - loss: 0.2842 - accuracy: 0.8935 - multi_class_fbeta: 0.8941 - val_loss: 0.7948 - val_accuracy: 0.7828 - val_multi_class_fbeta: 0.7978\n",
      "Epoch 16/20\n",
      "936/936 [==============================] - 9s 9ms/step - loss: 0.2762 - accuracy: 0.8965 - multi_class_fbeta: 0.8970 - val_loss: 0.7723 - val_accuracy: 0.7916 - val_multi_class_fbeta: 0.8056\n",
      "Epoch 17/20\n",
      "936/936 [==============================] - 9s 10ms/step - loss: 0.2674 - accuracy: 0.8989 - multi_class_fbeta: 0.8994 - val_loss: 0.8263 - val_accuracy: 0.7820 - val_multi_class_fbeta: 0.8014\n",
      "Epoch 18/20\n",
      "936/936 [==============================] - 10s 10ms/step - loss: 0.2638 - accuracy: 0.9002 - multi_class_fbeta: 0.9008 - val_loss: 0.8192 - val_accuracy: 0.7869 - val_multi_class_fbeta: 0.8029\n",
      "Epoch 19/20\n",
      "936/936 [==============================] - 9s 10ms/step - loss: 0.2548 - accuracy: 0.9045 - multi_class_fbeta: 0.9051 - val_loss: 0.8201 - val_accuracy: 0.7874 - val_multi_class_fbeta: 0.8015\n",
      "Epoch 20/20\n",
      "936/936 [==============================] - 9s 9ms/step - loss: 0.2483 - accuracy: 0.9057 - multi_class_fbeta: 0.9062 - val_loss: 0.8369 - val_accuracy: 0.7875 - val_multi_class_fbeta: 0.8022\n"
     ]
    }
   ],
   "source": [
    "history = model.fit(sent_oversample_corpus3, sent_oversample_labels2,\n",
    "                    epochs=20,\n",
    "                    verbose=True,\n",
    "                    validation_split=0.25,\n",
    "                    batch_size=128,\n",
    "                    class_weight=class_weights)"
   ]
  },
  {
   "cell_type": "markdown",
   "metadata": {
    "papermill": {
     "duration": 1.354219,
     "end_time": "2020-11-08T14:37:12.350417",
     "exception": false,
     "start_time": "2020-11-08T14:37:10.996198",
     "status": "completed"
    },
    "tags": []
   },
   "source": [
    "### defining a function to plot learning curves"
   ]
  },
  {
   "cell_type": "code",
   "execution_count": 71,
   "metadata": {
    "execution": {
     "iopub.execute_input": "2020-11-08T14:37:14.626355Z",
     "iopub.status.busy": "2020-11-08T14:37:14.625544Z",
     "iopub.status.idle": "2020-11-08T14:37:14.629635Z",
     "shell.execute_reply": "2020-11-08T14:37:14.630449Z"
    },
    "papermill": {
     "duration": 1.158891,
     "end_time": "2020-11-08T14:37:14.630595",
     "exception": false,
     "start_time": "2020-11-08T14:37:13.471704",
     "status": "completed"
    },
    "tags": []
   },
   "outputs": [],
   "source": [
    "plt.style.use('ggplot')\n",
    "\n",
    "def plot_history(history):\n",
    "    acc = history.history['accuracy']\n",
    "    val_acc = history.history['val_accuracy']\n",
    "    fbeta = history.history['multi_class_fbeta']\n",
    "    val_fbeta = history.history['val_multi_class_fbeta']\n",
    "    loss = history.history['loss']\n",
    "    val_loss = history.history['val_loss']\n",
    "    epochs = range(1, len(acc) + 1)\n",
    "\n",
    "    metrics = {'loss': (loss, val_loss), 'accuracy': (acc, val_acc), 'fbeta': (fbeta, val_fbeta)}\n",
    "    \n",
    "    plt.figure(figsize=(18, 5))\n",
    "    \n",
    "    for i, metric in zip(range(1, 4), list(metrics.keys())):\n",
    "        plt.subplot(1, 3, i)\n",
    "        plt.plot(epochs, metrics[metric][0], 'b', label='Training ' + metric)\n",
    "        plt.plot(epochs, metrics[metric][1], 'r', label='Validation ' + metric)\n",
    "        plt.title('Training and validation ' + metric)\n",
    "        plt.legend()"
   ]
  },
  {
   "cell_type": "code",
   "execution_count": 72,
   "metadata": {
    "execution": {
     "iopub.execute_input": "2020-11-08T14:37:16.869041Z",
     "iopub.status.busy": "2020-11-08T14:37:16.867976Z",
     "iopub.status.idle": "2020-11-08T14:37:17.415956Z",
     "shell.execute_reply": "2020-11-08T14:37:17.416613Z"
    },
    "papermill": {
     "duration": 1.682674,
     "end_time": "2020-11-08T14:37:17.416768",
     "exception": false,
     "start_time": "2020-11-08T14:37:15.734094",
     "status": "completed"
    },
    "tags": []
   },
   "outputs": [
    {
     "data": {
      "image/png": "[encoded data removed]",
      "text/plain": [
       "<Figure size 1296x360 with 3 Axes>"
      ]
     },
     "metadata": {},
     "output_type": "display_data"
    }
   ],
   "source": [
    "plot_history(history)"
   ]
  },
  {
   "cell_type": "markdown",
   "metadata": {
    "papermill": {
     "duration": 1.331991,
     "end_time": "2020-11-08T14:37:19.873560",
     "exception": false,
     "start_time": "2020-11-08T14:37:18.541569",
     "status": "completed"
    },
    "tags": []
   },
   "source": [
    "### from the plots, the best number of epoch seems to be 7 (where the validation loss is minimal)"
   ]
  },
  {
   "cell_type": "markdown",
   "metadata": {
    "papermill": {
     "duration": 1.134963,
     "end_time": "2020-11-08T14:37:22.122116",
     "exception": false,
     "start_time": "2020-11-08T14:37:20.987153",
     "status": "completed"
    },
    "tags": []
   },
   "source": [
    "### cross validation score (important score to report that is less affected by overfitting)"
   ]
  },
  {
   "cell_type": "code",
   "execution_count": 73,
   "metadata": {
    "execution": {
     "iopub.execute_input": "2020-11-08T14:37:24.348538Z",
     "iopub.status.busy": "2020-11-08T14:37:24.347469Z",
     "iopub.status.idle": "2020-11-08T14:37:24.349684Z",
     "shell.execute_reply": "2020-11-08T14:37:24.350218Z"
    },
    "papermill": {
     "duration": 1.119815,
     "end_time": "2020-11-08T14:37:24.350341",
     "exception": false,
     "start_time": "2020-11-08T14:37:23.230526",
     "status": "completed"
    },
    "tags": []
   },
   "outputs": [],
   "source": [
    "model2 = KerasClassifier(build_fn=build_cnn_model) # build model\n",
    "early_stop = EarlyStopping(monitor='val_loss', min_delta=0, patience=5, verbose=0, mode='min',\\\n",
    "    restore_best_weights=True)"
   ]
  },
  {
   "cell_type": "code",
   "execution_count": 74,
   "metadata": {
    "execution": {
     "iopub.execute_input": "2020-11-08T14:37:26.568029Z",
     "iopub.status.busy": "2020-11-08T14:37:26.567260Z",
     "iopub.status.idle": "2020-11-08T14:37:26.570445Z",
     "shell.execute_reply": "2020-11-08T14:37:26.570993Z"
    },
    "papermill": {
     "duration": 1.117808,
     "end_time": "2020-11-08T14:37:26.571129",
     "exception": false,
     "start_time": "2020-11-08T14:37:25.453321",
     "status": "completed"
    },
    "tags": []
   },
   "outputs": [],
   "source": [
    "# creating a RepeatedStratifiedKFold object. Since we plan using 25% as our test-size, we will use 4 fold cv.\n",
    "# to have a level plain ground for comparing different models, we will be using random state of 1 through out.\n",
    "cv = RepeatedStratifiedKFold(n_splits=4, n_repeats=3, random_state=1)"
   ]
  },
  {
   "cell_type": "markdown",
   "metadata": {
    "papermill": {
     "duration": 1.095621,
     "end_time": "2020-11-08T14:37:28.795217",
     "exception": false,
     "start_time": "2020-11-08T14:37:27.699596",
     "status": "completed"
    },
    "tags": []
   },
   "source": [
    "### setting n_jobs greater than 1 always throw error. After looking up keras and sklearn's related issues in their github repo, it seems it is a bug that needs to be fixed. We have no option but to use njobs=1, although, it will run for long."
   ]
  },
  {
   "cell_type": "code",
   "execution_count": 75,
   "metadata": {
    "execution": {
     "iopub.execute_input": "2020-11-08T14:37:31.226085Z",
     "iopub.status.busy": "2020-11-08T14:37:31.225243Z",
     "iopub.status.idle": "2020-11-08T15:01:07.039616Z",
     "shell.execute_reply": "2020-11-08T15:01:07.040386Z"
    },
    "papermill": {
     "duration": 1417.030699,
     "end_time": "2020-11-08T15:01:07.040551",
     "exception": false,
     "start_time": "2020-11-08T14:37:30.009852",
     "status": "completed"
    },
    "tags": []
   },
   "outputs": [
    {
     "name": "stderr",
     "output_type": "stream",
     "text": [
      "[Parallel(n_jobs=1)]: Using backend SequentialBackend with 1 concurrent workers.\n",
      "[Parallel(n_jobs=1)]: Done  12 out of  12 | elapsed: 23.6min finished\n"
     ]
    }
   ],
   "source": [
    "# getting cross validation scores\n",
    "score = cross_val_score(model2, sent_oversample_corpus3, sent_oversample_labels, scoring='f1_weighted', cv=cv,\\\n",
    "                        n_jobs=1, verbose=1, fit_params={\\\n",
    "                        'epochs': 20, 'batch_size': 128, 'class_weight': class_weights, 'verbose': 0, \\\n",
    "                                                         'callbacks': [early_stop]})"
   ]
  },
  {
   "cell_type": "code",
   "execution_count": 76,
   "metadata": {
    "execution": {
     "iopub.execute_input": "2020-11-08T15:01:09.706870Z",
     "iopub.status.busy": "2020-11-08T15:01:09.706053Z",
     "iopub.status.idle": "2020-11-08T15:01:09.712454Z",
     "shell.execute_reply": "2020-11-08T15:01:09.713029Z"
    },
    "papermill": {
     "duration": 1.492975,
     "end_time": "2020-11-08T15:01:09.713189",
     "exception": false,
     "start_time": "2020-11-08T15:01:08.220214",
     "status": "completed"
    },
    "tags": []
   },
   "outputs": [
    {
     "name": "stdout",
     "output_type": "stream",
     "text": [
      "[0.85235188 0.85040839 0.85811615 0.85246251 0.85380574 0.8531287\n",
      " 0.85040901 0.85092278 0.85348933 0.85211283 0.8573018  0.85173536]\n"
     ]
    },
    {
     "data": {
      "text/plain": [
       "0.8530203734257648"
      ]
     },
     "execution_count": 76,
     "metadata": {},
     "output_type": "execute_result"
    }
   ],
   "source": [
    "print(score)\n",
    "np.mean(score) # reporting the mean score"
   ]
  },
  {
   "cell_type": "markdown",
   "metadata": {
    "papermill": {
     "duration": 1.227003,
     "end_time": "2020-11-08T15:01:12.198377",
     "exception": false,
     "start_time": "2020-11-08T15:01:10.971374",
     "status": "completed"
    },
    "tags": []
   },
   "source": [
    "## Reporting other useful results."
   ]
  },
  {
   "cell_type": "code",
   "execution_count": 77,
   "metadata": {
    "execution": {
     "iopub.execute_input": "2020-11-08T15:01:14.646903Z",
     "iopub.status.busy": "2020-11-08T15:01:14.645293Z",
     "iopub.status.idle": "2020-11-08T15:01:14.647691Z",
     "shell.execute_reply": "2020-11-08T15:01:14.648247Z"
    },
    "papermill": {
     "duration": 1.242927,
     "end_time": "2020-11-08T15:01:14.648384",
     "exception": false,
     "start_time": "2020-11-08T15:01:13.405457",
     "status": "completed"
    },
    "tags": []
   },
   "outputs": [],
   "source": [
    "from sklearn.model_selection import train_test_split\n",
    "from sklearn.metrics import roc_auc_score"
   ]
  },
  {
   "cell_type": "code",
   "execution_count": 78,
   "metadata": {
    "execution": {
     "iopub.execute_input": "2020-11-08T15:01:17.083727Z",
     "iopub.status.busy": "2020-11-08T15:01:17.082790Z",
     "iopub.status.idle": "2020-11-08T15:01:17.135747Z",
     "shell.execute_reply": "2020-11-08T15:01:17.135128Z"
    },
    "papermill": {
     "duration": 1.265023,
     "end_time": "2020-11-08T15:01:17.135861",
     "exception": false,
     "start_time": "2020-11-08T15:01:15.870838",
     "status": "completed"
    },
    "tags": []
   },
   "outputs": [],
   "source": [
    "# train-test split\n",
    "X_train, X_test, y_train, y_test = train_test_split(sent_oversample_corpus3, sent_oversample_labels2, \\\n",
    "                                                    test_size=0.25, random_state=1)"
   ]
  },
  {
   "cell_type": "markdown",
   "metadata": {
    "papermill": {
     "duration": 1.432005,
     "end_time": "2020-11-08T15:01:20.216012",
     "exception": false,
     "start_time": "2020-11-08T15:01:18.784007",
     "status": "completed"
    },
    "tags": []
   },
   "source": [
    "### We don't want to use either model 1 or model 2 to predict the test set because both must have somehow be trained on the test set. So we need to rebuild another model that won't see the test set."
   ]
  },
  {
   "cell_type": "code",
   "execution_count": 79,
   "metadata": {
    "execution": {
     "iopub.execute_input": "2020-11-08T15:01:22.885975Z",
     "iopub.status.busy": "2020-11-08T15:01:22.884803Z",
     "iopub.status.idle": "2020-11-08T15:01:23.146949Z",
     "shell.execute_reply": "2020-11-08T15:01:23.146031Z"
    },
    "papermill": {
     "duration": 1.570628,
     "end_time": "2020-11-08T15:01:23.147086",
     "exception": false,
     "start_time": "2020-11-08T15:01:21.576458",
     "status": "completed"
    },
    "tags": []
   },
   "outputs": [],
   "source": [
    "model3 = build_cnn_model() # builds model"
   ]
  },
  {
   "cell_type": "code",
   "execution_count": 80,
   "metadata": {
    "execution": {
     "iopub.execute_input": "2020-11-08T15:01:25.651835Z",
     "iopub.status.busy": "2020-11-08T15:01:25.650699Z",
     "iopub.status.idle": "2020-11-08T15:02:06.525481Z",
     "shell.execute_reply": "2020-11-08T15:02:06.524448Z"
    },
    "papermill": {
     "duration": 42.13292,
     "end_time": "2020-11-08T15:02:06.525612",
     "exception": false,
     "start_time": "2020-11-08T15:01:24.392692",
     "status": "completed"
    },
    "tags": []
   },
   "outputs": [
    {
     "name": "stdout",
     "output_type": "stream",
     "text": [
      "Epoch 1/5\n",
      "936/936 [==============================] - 8s 8ms/step - loss: 0.8705 - accuracy: 0.7209 - multi_class_fbeta: 0.7207\n",
      "Epoch 2/5\n",
      "936/936 [==============================] - 7s 8ms/step - loss: 0.6216 - accuracy: 0.7920 - multi_class_fbeta: 0.7930\n",
      "Epoch 3/5\n",
      "936/936 [==============================] - 8s 9ms/step - loss: 0.5556 - accuracy: 0.8107 - multi_class_fbeta: 0.8120\n",
      "Epoch 4/5\n",
      "936/936 [==============================] - 9s 10ms/step - loss: 0.5137 - accuracy: 0.8229 - multi_class_fbeta: 0.8238\n",
      "Epoch 5/5\n",
      "936/936 [==============================] - 8s 8ms/step - loss: 0.4857 - accuracy: 0.8297 - multi_class_fbeta: 0.8309\n"
     ]
    },
    {
     "data": {
      "text/plain": [
       "<tensorflow.python.keras.callbacks.History at 0x7f62181adf10>"
      ]
     },
     "execution_count": 80,
     "metadata": {},
     "output_type": "execute_result"
    }
   ],
   "source": [
    "model3.fit(X_train, y_train,\n",
    "                    epochs=5, # using the best epoch from model1\n",
    "                    verbose=True,\n",
    "                    batch_size=128,\n",
    "                    class_weight=class_weights)"
   ]
  },
  {
   "cell_type": "code",
   "execution_count": null,
   "metadata": {
    "papermill": {
     "duration": 1.488323,
     "end_time": "2020-11-08T15:02:09.505678",
     "exception": false,
     "start_time": "2020-11-08T15:02:08.017355",
     "status": "completed"
    },
    "tags": []
   },
   "outputs": [],
   "source": []
  },
  {
   "cell_type": "code",
   "execution_count": 81,
   "metadata": {
    "execution": {
     "iopub.execute_input": "2020-11-08T15:02:12.531717Z",
     "iopub.status.busy": "2020-11-08T15:02:12.530516Z",
     "iopub.status.idle": "2020-11-08T15:02:19.716224Z",
     "shell.execute_reply": "2020-11-08T15:02:19.716783Z"
    },
    "papermill": {
     "duration": 8.697387,
     "end_time": "2020-11-08T15:02:19.716958",
     "exception": false,
     "start_time": "2020-11-08T15:02:11.019571",
     "status": "completed"
    },
    "tags": []
   },
   "outputs": [
    {
     "name": "stdout",
     "output_type": "stream",
     "text": [
      "Training Accuracy: 0.8671\n",
      "Training Fbeta: 0.8676\n",
      "\n",
      "Testing Accuracy: 0.8402\n",
      "Testing Fbeta: 0.8410\n"
     ]
    }
   ],
   "source": [
    "loss, accuracy, fbeta = model3.evaluate(X_train, y_train, batch_size=128, verbose=False)\n",
    "print('Training Accuracy: {:.4f}\\nTraining Fbeta: {:.4f}'.format(accuracy, fbeta))\n",
    "print()\n",
    "loss, accuracy, fbeta = model3.evaluate(X_test, y_test, batch_size=128, verbose=False)\n",
    "print('Testing Accuracy: {:.4f}\\nTesting Fbeta: {:.4f}'.format(accuracy, fbeta))\n"
   ]
  },
  {
   "cell_type": "code",
   "execution_count": 82,
   "metadata": {
    "execution": {
     "iopub.execute_input": "2020-11-08T15:02:23.269080Z",
     "iopub.status.busy": "2020-11-08T15:02:23.267872Z",
     "iopub.status.idle": "2020-11-08T15:02:32.915671Z",
     "shell.execute_reply": "2020-11-08T15:02:32.913901Z"
    },
    "papermill": {
     "duration": 11.646555,
     "end_time": "2020-11-08T15:02:32.915807",
     "exception": false,
     "start_time": "2020-11-08T15:02:21.269252",
     "status": "completed"
    },
    "tags": []
   },
   "outputs": [],
   "source": [
    "y_pred_train = model.predict(X_train)\n",
    "y_pred_test = model.predict(X_test)"
   ]
  },
  {
   "cell_type": "code",
   "execution_count": 83,
   "metadata": {
    "execution": {
     "iopub.execute_input": "2020-11-08T15:02:36.010302Z",
     "iopub.status.busy": "2020-11-08T15:02:36.008684Z",
     "iopub.status.idle": "2020-11-08T15:02:37.052850Z",
     "shell.execute_reply": "2020-11-08T15:02:37.053768Z"
    },
    "papermill": {
     "duration": 2.548554,
     "end_time": "2020-11-08T15:02:37.053992",
     "exception": false,
     "start_time": "2020-11-08T15:02:34.505438",
     "status": "completed"
    },
    "tags": []
   },
   "outputs": [
    {
     "name": "stdout",
     "output_type": "stream",
     "text": [
      "Training AUC: 0.9953\n",
      "Testing AUC: 0.9953\n"
     ]
    }
   ],
   "source": [
    "print('Training AUC: {:.4f}'.format(\\\n",
    "    roc_auc_score(y_train, y_pred_train, average='weighted', multi_class='ovr')))\n",
    "      \n",
    "print('Testing AUC: {:.4f}'.format(\\\n",
    "    roc_auc_score(y_test, y_pred_test, average='weighted', multi_class='ovr')))"
   ]
  },
  {
   "cell_type": "code",
   "execution_count": 84,
   "metadata": {
    "_cell_guid": "79c7e3d0-c299-4dcb-8224-4455121ee9b0",
    "_uuid": "d629ff2d2480ee46fbb7e2d37f6b5fab8052498a",
    "execution": {
     "iopub.execute_input": "2020-11-08T15:02:40.256859Z",
     "iopub.status.busy": "2020-11-08T15:02:40.255429Z",
     "iopub.status.idle": "2020-11-08T15:02:40.274460Z",
     "shell.execute_reply": "2020-11-08T15:02:40.275122Z"
    },
    "papermill": {
     "duration": 1.575688,
     "end_time": "2020-11-08T15:02:40.275284",
     "exception": false,
     "start_time": "2020-11-08T15:02:38.699596",
     "status": "completed"
    },
    "tags": []
   },
   "outputs": [
    {
     "data": {
      "text/plain": [
       "<tf.Tensor: shape=(20,), dtype=float32, numpy=\n",
       "array([0.9563961 , 0.9142281 , 0.96803904, 0.88873696, 0.7148915 ,\n",
       "       0.9905091 , 0.8981954 , 0.9700616 , 0.9746996 , 0.9336343 ,\n",
       "       0.81479275, 0.969516  , 0.87759304, 0.9279533 , 0.87622124,\n",
       "       0.9712339 , 0.73728085, 0.9260514 , 0.86909485, 0.8525659 ],\n",
       "      dtype=float32)>"
      ]
     },
     "execution_count": 84,
     "metadata": {},
     "output_type": "execute_result"
    }
   ],
   "source": [
    "multi_class_fbeta(y_train, y_pred_train, raw=True)"
   ]
  },
  {
   "cell_type": "code",
   "execution_count": 85,
   "metadata": {
    "execution": {
     "iopub.execute_input": "2020-11-08T15:02:43.465220Z",
     "iopub.status.busy": "2020-11-08T15:02:43.464132Z",
     "iopub.status.idle": "2020-11-08T15:02:43.473265Z",
     "shell.execute_reply": "2020-11-08T15:02:43.473775Z"
    },
    "papermill": {
     "duration": 1.511975,
     "end_time": "2020-11-08T15:02:43.473941",
     "exception": false,
     "start_time": "2020-11-08T15:02:41.961966",
     "status": "completed"
    },
    "tags": []
   },
   "outputs": [
    {
     "data": {
      "text/plain": [
       "<tf.Tensor: shape=(20,), dtype=float32, numpy=\n",
       "array([0.9618276 , 0.9181347 , 0.96328145, 0.89026904, 0.7202863 ,\n",
       "       0.99227124, 0.8921466 , 0.9726334 , 0.9758044 , 0.93951786,\n",
       "       0.81589395, 0.9695121 , 0.8749178 , 0.9318181 , 0.8671974 ,\n",
       "       0.97215533, 0.7468711 , 0.9260563 , 0.8687872 , 0.85496175],\n",
       "      dtype=float32)>"
      ]
     },
     "execution_count": 85,
     "metadata": {},
     "output_type": "execute_result"
    }
   ],
   "source": [
    "multi_class_fbeta(y_test, y_pred_test, raw=True)"
   ]
  },
  {
   "cell_type": "code",
   "execution_count": null,
   "metadata": {
    "papermill": {
     "duration": 1.483818,
     "end_time": "2020-11-08T15:02:46.510627",
     "exception": false,
     "start_time": "2020-11-08T15:02:45.026809",
     "status": "completed"
    },
    "tags": []
   },
   "outputs": [],
   "source": []
  }
 ],
 "metadata": {
  "kernelspec": {
   "display_name": "Python 3",
   "language": "python",
   "name": "python3"
  },
  "language_info": {
   "codemirror_mode": {
    "name": "ipython",
    "version": 3
   },
   "file_extension": ".py",
   "mimetype": "text/x-python",
   "name": "python",
   "nbconvert_exporter": "python",
   "pygments_lexer": "ipython3",
   "version": "3.7.6"
  },
  "papermill": {
   "duration": 2034.515,
   "end_time": "2020-11-08T15:02:50.469370",
   "environment_variables": {},
   "exception": null,
   "input_path": "__notebook__.ipynb",
   "output_path": "__notebook__.ipynb",
   "parameters": {},
   "start_time": "2020-11-08T14:28:55.954370",
   "version": "2.1.0"
  }
 },
 "nbformat": 4,
 "nbformat_minor": 4
}
