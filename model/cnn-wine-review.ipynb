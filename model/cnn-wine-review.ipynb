{
 "cells": [
  {
   "cell_type": "markdown",
   "metadata": {
    "papermill": {
     "duration": 0.084676,
     "end_time": "2020-11-12T20:06:44.641123",
     "exception": false,
     "start_time": "2020-11-12T20:06:44.556447",
     "status": "completed"
    },
    "tags": []
   },
   "source": [
    "# Modelling with CNN"
   ]
  },
  {
   "cell_type": "code",
   "execution_count": 1,
   "metadata": {
    "execution": {
     "iopub.execute_input": "2020-11-12T20:06:44.815600Z",
     "iopub.status.busy": "2020-11-12T20:06:44.814801Z",
     "iopub.status.idle": "2020-11-12T20:06:45.584972Z",
     "shell.execute_reply": "2020-11-12T20:06:45.584363Z"
    },
    "papermill": {
     "duration": 0.86178,
     "end_time": "2020-11-12T20:06:45.585096",
     "exception": false,
     "start_time": "2020-11-12T20:06:44.723316",
     "status": "completed"
    },
    "tags": []
   },
   "outputs": [],
   "source": [
    "# importing useful libraries\n",
    "import numpy as np\n",
    "import pandas as pd\n",
    "import matplotlib.pyplot as plt\n",
    "import seaborn as sns\n",
    "\n",
    "import requests\n",
    "import re\n",
    "\n",
    "import warnings\n",
    "warnings.filterwarnings('ignore')\n",
    "\n",
    "%matplotlib inline"
   ]
  },
  {
   "cell_type": "markdown",
   "metadata": {
    "papermill": {
     "duration": 0.081934,
     "end_time": "2020-11-12T20:06:45.751434",
     "exception": false,
     "start_time": "2020-11-12T20:06:45.669500",
     "status": "completed"
    },
    "tags": []
   },
   "source": [
    "## Loading in our selected top varieties data "
   ]
  },
  {
   "cell_type": "code",
   "execution_count": 2,
   "metadata": {
    "execution": {
     "iopub.execute_input": "2020-11-12T20:06:45.926612Z",
     "iopub.status.busy": "2020-11-12T20:06:45.925700Z",
     "iopub.status.idle": "2020-11-12T20:06:46.944341Z",
     "shell.execute_reply": "2020-11-12T20:06:46.944982Z"
    },
    "papermill": {
     "duration": 1.110991,
     "end_time": "2020-11-12T20:06:46.945147",
     "exception": false,
     "start_time": "2020-11-12T20:06:45.834156",
     "status": "completed"
    },
    "tags": []
   },
   "outputs": [
    {
     "data": {
      "text/html": [
       "<div>\n",
       "<style scoped>\n",
       "    .dataframe tbody tr th:only-of-type {\n",
       "        vertical-align: middle;\n",
       "    }\n",
       "\n",
       "    .dataframe tbody tr th {\n",
       "        vertical-align: top;\n",
       "    }\n",
       "\n",
       "    .dataframe thead th {\n",
       "        text-align: right;\n",
       "    }\n",
       "</style>\n",
       "<table border=\"1\" class=\"dataframe\">\n",
       "  <thead>\n",
       "    <tr style=\"text-align: right;\">\n",
       "      <th></th>\n",
       "      <th>country</th>\n",
       "      <th>description</th>\n",
       "      <th>designation</th>\n",
       "      <th>points</th>\n",
       "      <th>price</th>\n",
       "      <th>province</th>\n",
       "      <th>region_1</th>\n",
       "      <th>region_2</th>\n",
       "      <th>taster_name</th>\n",
       "      <th>taster_twitter_handle</th>\n",
       "      <th>title</th>\n",
       "      <th>variety</th>\n",
       "      <th>winery</th>\n",
       "      <th>not_vintage</th>\n",
       "      <th>vintage</th>\n",
       "    </tr>\n",
       "  </thead>\n",
       "  <tbody>\n",
       "    <tr>\n",
       "      <th>0</th>\n",
       "      <td>Italy</td>\n",
       "      <td>Aromas include tropical fruit, broom, brimston...</td>\n",
       "      <td>Vulkà Bianco</td>\n",
       "      <td>87</td>\n",
       "      <td>NaN</td>\n",
       "      <td>Sicily &amp; Sardinia</td>\n",
       "      <td>Etna</td>\n",
       "      <td>NaN</td>\n",
       "      <td>Kerin O’Keefe</td>\n",
       "      <td>@kerinokeefe</td>\n",
       "      <td>Nicosia 2013 Vulkà Bianco  (Etna)</td>\n",
       "      <td>White Blend</td>\n",
       "      <td>Nicosia</td>\n",
       "      <td>Italy Vulkà Bianco Sicily &amp; Sardinia Etna Nicosia</td>\n",
       "      <td>2013.0</td>\n",
       "    </tr>\n",
       "    <tr>\n",
       "      <th>1</th>\n",
       "      <td>Portugal</td>\n",
       "      <td>This is ripe and fruity, a wine that is smooth...</td>\n",
       "      <td>Avidagos</td>\n",
       "      <td>87</td>\n",
       "      <td>15.0</td>\n",
       "      <td>Douro</td>\n",
       "      <td>NaN</td>\n",
       "      <td>NaN</td>\n",
       "      <td>Roger Voss</td>\n",
       "      <td>@vossroger</td>\n",
       "      <td>Quinta dos Avidagos 2011 Avidagos Red (Douro)</td>\n",
       "      <td>Portuguese Red</td>\n",
       "      <td>Quinta dos Avidagos</td>\n",
       "      <td>Portugal Avidagos Douro Quinta dos Avidagos</td>\n",
       "      <td>2011.0</td>\n",
       "    </tr>\n",
       "  </tbody>\n",
       "</table>\n",
       "</div>"
      ],
      "text/plain": [
       "    country                                        description   designation  \\\n",
       "0     Italy  Aromas include tropical fruit, broom, brimston...  Vulkà Bianco   \n",
       "1  Portugal  This is ripe and fruity, a wine that is smooth...      Avidagos   \n",
       "\n",
       "   points  price           province region_1 region_2    taster_name  \\\n",
       "0      87    NaN  Sicily & Sardinia     Etna      NaN  Kerin O’Keefe   \n",
       "1      87   15.0              Douro      NaN      NaN     Roger Voss   \n",
       "\n",
       "  taster_twitter_handle                                          title  \\\n",
       "0          @kerinokeefe              Nicosia 2013 Vulkà Bianco  (Etna)   \n",
       "1            @vossroger  Quinta dos Avidagos 2011 Avidagos Red (Douro)   \n",
       "\n",
       "          variety               winery  \\\n",
       "0     White Blend              Nicosia   \n",
       "1  Portuguese Red  Quinta dos Avidagos   \n",
       "\n",
       "                                         not_vintage  vintage  \n",
       "0  Italy Vulkà Bianco Sicily & Sardinia Etna Nicosia   2013.0  \n",
       "1        Portugal Avidagos Douro Quinta dos Avidagos   2011.0  "
      ]
     },
     "execution_count": 2,
     "metadata": {},
     "output_type": "execute_result"
    }
   ],
   "source": [
    "top_varieties_count = pd.read_csv('../input/wine-review-data-top-varieties/top_varieties_count.csv')\n",
    "top_40_varieties = pd.read_csv('../input/wine-review-data-top-varieties/top_40_varieties.csv')\n",
    "top_40_varieties.head(2)"
   ]
  },
  {
   "cell_type": "markdown",
   "metadata": {
    "papermill": {
     "duration": 0.088087,
     "end_time": "2020-11-12T20:06:47.130047",
     "exception": false,
     "start_time": "2020-11-12T20:06:47.041960",
     "status": "completed"
    },
    "tags": []
   },
   "source": [
    "### We know that in our dataset, *'United States of America'* is abrreviated as *'US'* and this will make our model to find it difficult to differentiate between the word *'us'* as a first person plural and as a country (after converting to lower case). We will solve this issue by replacing every occurence of *'US'* in ````country```` and ````not_vintage```` with *'United States of America'*."
   ]
  },
  {
   "cell_type": "code",
   "execution_count": 3,
   "metadata": {
    "execution": {
     "iopub.execute_input": "2020-11-12T20:06:47.534280Z",
     "iopub.status.busy": "2020-11-12T20:06:47.533075Z",
     "iopub.status.idle": "2020-11-12T20:06:47.586548Z",
     "shell.execute_reply": "2020-11-12T20:06:47.587407Z"
    },
    "papermill": {
     "duration": 0.259975,
     "end_time": "2020-11-12T20:06:47.587648",
     "exception": false,
     "start_time": "2020-11-12T20:06:47.327673",
     "status": "completed"
    },
    "tags": []
   },
   "outputs": [
    {
     "data": {
      "text/html": [
       "<div>\n",
       "<style scoped>\n",
       "    .dataframe tbody tr th:only-of-type {\n",
       "        vertical-align: middle;\n",
       "    }\n",
       "\n",
       "    .dataframe tbody tr th {\n",
       "        vertical-align: top;\n",
       "    }\n",
       "\n",
       "    .dataframe thead th {\n",
       "        text-align: right;\n",
       "    }\n",
       "</style>\n",
       "<table border=\"1\" class=\"dataframe\">\n",
       "  <thead>\n",
       "    <tr style=\"text-align: right;\">\n",
       "      <th></th>\n",
       "      <th>country</th>\n",
       "      <th>description</th>\n",
       "      <th>designation</th>\n",
       "      <th>points</th>\n",
       "      <th>price</th>\n",
       "      <th>province</th>\n",
       "      <th>region_1</th>\n",
       "      <th>region_2</th>\n",
       "      <th>taster_name</th>\n",
       "      <th>taster_twitter_handle</th>\n",
       "      <th>title</th>\n",
       "      <th>variety</th>\n",
       "      <th>winery</th>\n",
       "      <th>not_vintage</th>\n",
       "      <th>vintage</th>\n",
       "    </tr>\n",
       "  </thead>\n",
       "  <tbody>\n",
       "    <tr>\n",
       "      <th>2</th>\n",
       "      <td>US</td>\n",
       "      <td>Tart and snappy, the flavors of lime flesh and...</td>\n",
       "      <td>NaN</td>\n",
       "      <td>87</td>\n",
       "      <td>14.0</td>\n",
       "      <td>Oregon</td>\n",
       "      <td>Willamette Valley</td>\n",
       "      <td>Willamette Valley</td>\n",
       "      <td>Paul Gregutt</td>\n",
       "      <td>@paulgwine</td>\n",
       "      <td>Rainstorm 2013 Pinot Gris (Willamette Valley)</td>\n",
       "      <td>Pinot Gris</td>\n",
       "      <td>Rainstorm</td>\n",
       "      <td>US Oregon Willamette Valley Willamette Valley ...</td>\n",
       "      <td>2013.0</td>\n",
       "    </tr>\n",
       "    <tr>\n",
       "      <th>3</th>\n",
       "      <td>US</td>\n",
       "      <td>Pineapple rind, lemon pith and orange blossom ...</td>\n",
       "      <td>Reserve Late Harvest</td>\n",
       "      <td>87</td>\n",
       "      <td>13.0</td>\n",
       "      <td>Michigan</td>\n",
       "      <td>Lake Michigan Shore</td>\n",
       "      <td>NaN</td>\n",
       "      <td>Alexander Peartree</td>\n",
       "      <td>NaN</td>\n",
       "      <td>St. Julian 2013 Reserve Late Harvest Riesling ...</td>\n",
       "      <td>Riesling</td>\n",
       "      <td>St. Julian</td>\n",
       "      <td>US Reserve Late Harvest Michigan Lake Michigan...</td>\n",
       "      <td>2013.0</td>\n",
       "    </tr>\n",
       "  </tbody>\n",
       "</table>\n",
       "</div>"
      ],
      "text/plain": [
       "  country                                        description  \\\n",
       "2      US  Tart and snappy, the flavors of lime flesh and...   \n",
       "3      US  Pineapple rind, lemon pith and orange blossom ...   \n",
       "\n",
       "            designation  points  price  province             region_1  \\\n",
       "2                   NaN      87   14.0    Oregon    Willamette Valley   \n",
       "3  Reserve Late Harvest      87   13.0  Michigan  Lake Michigan Shore   \n",
       "\n",
       "            region_2         taster_name taster_twitter_handle  \\\n",
       "2  Willamette Valley        Paul Gregutt           @paulgwine    \n",
       "3                NaN  Alexander Peartree                   NaN   \n",
       "\n",
       "                                               title     variety      winery  \\\n",
       "2      Rainstorm 2013 Pinot Gris (Willamette Valley)  Pinot Gris   Rainstorm   \n",
       "3  St. Julian 2013 Reserve Late Harvest Riesling ...    Riesling  St. Julian   \n",
       "\n",
       "                                         not_vintage  vintage  \n",
       "2  US Oregon Willamette Valley Willamette Valley ...   2013.0  \n",
       "3  US Reserve Late Harvest Michigan Lake Michigan...   2013.0  "
      ]
     },
     "execution_count": 3,
     "metadata": {},
     "output_type": "execute_result"
    }
   ],
   "source": [
    "top_40_varieties[top_40_varieties['country'] == 'US'].head(2) # a view of wine review data of US"
   ]
  },
  {
   "cell_type": "code",
   "execution_count": 4,
   "metadata": {
    "execution": {
     "iopub.execute_input": "2020-11-12T20:06:47.876817Z",
     "iopub.status.busy": "2020-11-12T20:06:47.875693Z",
     "iopub.status.idle": "2020-11-12T20:06:47.969366Z",
     "shell.execute_reply": "2020-11-12T20:06:47.970686Z"
    },
    "papermill": {
     "duration": 0.244579,
     "end_time": "2020-11-12T20:06:47.970906",
     "exception": false,
     "start_time": "2020-11-12T20:06:47.726327",
     "status": "completed"
    },
    "tags": []
   },
   "outputs": [
    {
     "data": {
      "text/plain": [
       "50734"
      ]
     },
     "execution_count": 4,
     "metadata": {},
     "output_type": "execute_result"
    }
   ],
   "source": [
    "top_40_varieties['not_vintage'].apply(lambda x: 'US' in x).sum() # checks the number of rows with US"
   ]
  },
  {
   "cell_type": "code",
   "execution_count": 5,
   "metadata": {
    "execution": {
     "iopub.execute_input": "2020-11-12T20:06:48.192895Z",
     "iopub.status.busy": "2020-11-12T20:06:48.191133Z",
     "iopub.status.idle": "2020-11-12T20:06:48.288592Z",
     "shell.execute_reply": "2020-11-12T20:06:48.290219Z"
    },
    "papermill": {
     "duration": 0.213135,
     "end_time": "2020-11-12T20:06:48.290481",
     "exception": false,
     "start_time": "2020-11-12T20:06:48.077346",
     "status": "completed"
    },
    "tags": []
   },
   "outputs": [],
   "source": [
    "# replacing every occurence of 'US' in country with 'United States of America'\n",
    "top_40_varieties['country'].replace('US', 'United States of America', inplace=True)\n",
    "\n",
    "# replacing every occurence of 'US' in not_vintage with 'United States of America'\n",
    "top_40_varieties['not_vintage'] = top_40_varieties['not_vintage'].apply(lambda x: x.replace(\\\n",
    "                                                                        'US', 'United States of America'))"
   ]
  },
  {
   "cell_type": "code",
   "execution_count": 6,
   "metadata": {
    "execution": {
     "iopub.execute_input": "2020-11-12T20:06:48.521879Z",
     "iopub.status.busy": "2020-11-12T20:06:48.520816Z",
     "iopub.status.idle": "2020-11-12T20:06:48.555796Z",
     "shell.execute_reply": "2020-11-12T20:06:48.555178Z"
    },
    "papermill": {
     "duration": 0.163996,
     "end_time": "2020-11-12T20:06:48.555918",
     "exception": false,
     "start_time": "2020-11-12T20:06:48.391922",
     "status": "completed"
    },
    "tags": []
   },
   "outputs": [
    {
     "data": {
      "text/html": [
       "<div>\n",
       "<style scoped>\n",
       "    .dataframe tbody tr th:only-of-type {\n",
       "        vertical-align: middle;\n",
       "    }\n",
       "\n",
       "    .dataframe tbody tr th {\n",
       "        vertical-align: top;\n",
       "    }\n",
       "\n",
       "    .dataframe thead th {\n",
       "        text-align: right;\n",
       "    }\n",
       "</style>\n",
       "<table border=\"1\" class=\"dataframe\">\n",
       "  <thead>\n",
       "    <tr style=\"text-align: right;\">\n",
       "      <th></th>\n",
       "      <th>country</th>\n",
       "      <th>description</th>\n",
       "      <th>designation</th>\n",
       "      <th>points</th>\n",
       "      <th>price</th>\n",
       "      <th>province</th>\n",
       "      <th>region_1</th>\n",
       "      <th>region_2</th>\n",
       "      <th>taster_name</th>\n",
       "      <th>taster_twitter_handle</th>\n",
       "      <th>title</th>\n",
       "      <th>variety</th>\n",
       "      <th>winery</th>\n",
       "      <th>not_vintage</th>\n",
       "      <th>vintage</th>\n",
       "    </tr>\n",
       "  </thead>\n",
       "  <tbody>\n",
       "    <tr>\n",
       "      <th>2</th>\n",
       "      <td>United States of America</td>\n",
       "      <td>Tart and snappy, the flavors of lime flesh and...</td>\n",
       "      <td>NaN</td>\n",
       "      <td>87</td>\n",
       "      <td>14.0</td>\n",
       "      <td>Oregon</td>\n",
       "      <td>Willamette Valley</td>\n",
       "      <td>Willamette Valley</td>\n",
       "      <td>Paul Gregutt</td>\n",
       "      <td>@paulgwine</td>\n",
       "      <td>Rainstorm 2013 Pinot Gris (Willamette Valley)</td>\n",
       "      <td>Pinot Gris</td>\n",
       "      <td>Rainstorm</td>\n",
       "      <td>United States of America Oregon Willamette Val...</td>\n",
       "      <td>2013.0</td>\n",
       "    </tr>\n",
       "    <tr>\n",
       "      <th>3</th>\n",
       "      <td>United States of America</td>\n",
       "      <td>Pineapple rind, lemon pith and orange blossom ...</td>\n",
       "      <td>Reserve Late Harvest</td>\n",
       "      <td>87</td>\n",
       "      <td>13.0</td>\n",
       "      <td>Michigan</td>\n",
       "      <td>Lake Michigan Shore</td>\n",
       "      <td>NaN</td>\n",
       "      <td>Alexander Peartree</td>\n",
       "      <td>NaN</td>\n",
       "      <td>St. Julian 2013 Reserve Late Harvest Riesling ...</td>\n",
       "      <td>Riesling</td>\n",
       "      <td>St. Julian</td>\n",
       "      <td>United States of America Reserve Late Harvest ...</td>\n",
       "      <td>2013.0</td>\n",
       "    </tr>\n",
       "  </tbody>\n",
       "</table>\n",
       "</div>"
      ],
      "text/plain": [
       "                    country  \\\n",
       "2  United States of America   \n",
       "3  United States of America   \n",
       "\n",
       "                                         description           designation  \\\n",
       "2  Tart and snappy, the flavors of lime flesh and...                   NaN   \n",
       "3  Pineapple rind, lemon pith and orange blossom ...  Reserve Late Harvest   \n",
       "\n",
       "   points  price  province             region_1           region_2  \\\n",
       "2      87   14.0    Oregon    Willamette Valley  Willamette Valley   \n",
       "3      87   13.0  Michigan  Lake Michigan Shore                NaN   \n",
       "\n",
       "          taster_name taster_twitter_handle  \\\n",
       "2        Paul Gregutt           @paulgwine    \n",
       "3  Alexander Peartree                   NaN   \n",
       "\n",
       "                                               title     variety      winery  \\\n",
       "2      Rainstorm 2013 Pinot Gris (Willamette Valley)  Pinot Gris   Rainstorm   \n",
       "3  St. Julian 2013 Reserve Late Harvest Riesling ...    Riesling  St. Julian   \n",
       "\n",
       "                                         not_vintage  vintage  \n",
       "2  United States of America Oregon Willamette Val...   2013.0  \n",
       "3  United States of America Reserve Late Harvest ...   2013.0  "
      ]
     },
     "execution_count": 6,
     "metadata": {},
     "output_type": "execute_result"
    }
   ],
   "source": [
    "top_40_varieties[top_40_varieties['country'] == 'United States of America'].head(2) # a view of the dataset"
   ]
  },
  {
   "cell_type": "code",
   "execution_count": 7,
   "metadata": {
    "execution": {
     "iopub.execute_input": "2020-11-12T20:06:48.770824Z",
     "iopub.status.busy": "2020-11-12T20:06:48.758777Z",
     "iopub.status.idle": "2020-11-12T20:06:48.808054Z",
     "shell.execute_reply": "2020-11-12T20:06:48.807474Z"
    },
    "papermill": {
     "duration": 0.152063,
     "end_time": "2020-11-12T20:06:48.808173",
     "exception": false,
     "start_time": "2020-11-12T20:06:48.656110",
     "status": "completed"
    },
    "tags": []
   },
   "outputs": [],
   "source": [
    "# asserting that there is no occurence of 'US' in country and not_vintage\n",
    "assert 'US' not in top_40_varieties['country']\n",
    "assert top_40_varieties['not_vintage'].apply(lambda x: 'US' in x).sum() == 0  "
   ]
  },
  {
   "cell_type": "code",
   "execution_count": 8,
   "metadata": {
    "execution": {
     "iopub.execute_input": "2020-11-12T20:06:48.992846Z",
     "iopub.status.busy": "2020-11-12T20:06:48.991903Z",
     "iopub.status.idle": "2020-11-12T20:06:48.996089Z",
     "shell.execute_reply": "2020-11-12T20:06:48.996683Z"
    },
    "papermill": {
     "duration": 0.102667,
     "end_time": "2020-11-12T20:06:48.996844",
     "exception": false,
     "start_time": "2020-11-12T20:06:48.894177",
     "status": "completed"
    },
    "tags": []
   },
   "outputs": [
    {
     "data": {
      "text/plain": [
       "variety\n",
       "Pinot Noir                       13272\n",
       "Chardonnay                       11753\n",
       "Cabernet Sauvignon                9472\n",
       "Red Blend                         8946\n",
       "Bordeaux-style Red Blend          6915\n",
       "Riesling                          5189\n",
       "Sauvignon Blanc                   4967\n",
       "Syrah                             4142\n",
       "Rosé                              3564\n",
       "Merlot                            3102\n",
       "Nebbiolo                          2804\n",
       "Zinfandel                         2714\n",
       "Sangiovese                        2707\n",
       "Malbec                            2652\n",
       "Portuguese Red                    2466\n",
       "White Blend                       2360\n",
       "Sparkling Blend                   2153\n",
       "Tempranillo                       1810\n",
       "Rhône-style Red Blend             1471\n",
       "Pinot Gris                        1455\n",
       "Champagne Blend                   1396\n",
       "Cabernet Franc                    1353\n",
       "Grüner Veltliner                  1345\n",
       "Portuguese White                  1159\n",
       "Bordeaux-style White Blend        1066\n",
       "Pinot Grigio                      1052\n",
       "Gamay                             1025\n",
       "Gewürztraminer                    1012\n",
       "Viognier                           996\n",
       "Shiraz                             836\n",
       "Petite Sirah                       770\n",
       "Sangiovese Grosso                  751\n",
       "Barbera                            721\n",
       "Glera                              709\n",
       "Port                               668\n",
       "Grenache                           651\n",
       "Corvina, Rondinella, Molinara      619\n",
       "Chenin Blanc                       591\n",
       "Tempranillo Blend                  588\n",
       "Carmenère                          575\n",
       "Name: count, dtype: int64"
      ]
     },
     "execution_count": 8,
     "metadata": {},
     "output_type": "execute_result"
    }
   ],
   "source": [
    "# renaming the columns in top_varieties_count\n",
    "top_varieties_count = top_varieties_count.rename(columns={'variety': 'count', 'Unnamed: 0': 'variety'})\n",
    "top_varieties_count = top_varieties_count.set_index('variety') # setting the index\n",
    "top_varieties_count = top_varieties_count['count'] # making it a Series\n",
    "top_varieties_count"
   ]
  },
  {
   "cell_type": "code",
   "execution_count": 9,
   "metadata": {
    "execution": {
     "iopub.execute_input": "2020-11-12T20:06:49.189921Z",
     "iopub.status.busy": "2020-11-12T20:06:49.188828Z",
     "iopub.status.idle": "2020-11-12T20:06:49.247891Z",
     "shell.execute_reply": "2020-11-12T20:06:49.249470Z"
    },
    "papermill": {
     "duration": 0.164545,
     "end_time": "2020-11-12T20:06:49.249703",
     "exception": false,
     "start_time": "2020-11-12T20:06:49.085158",
     "status": "completed"
    },
    "tags": []
   },
   "outputs": [
    {
     "name": "stdout",
     "output_type": "stream",
     "text": [
      "percentage of initial 130k dataframe is 72%\n",
      "20\n"
     ]
    },
    {
     "data": {
      "text/html": [
       "<div>\n",
       "<style scoped>\n",
       "    .dataframe tbody tr th:only-of-type {\n",
       "        vertical-align: middle;\n",
       "    }\n",
       "\n",
       "    .dataframe tbody tr th {\n",
       "        vertical-align: top;\n",
       "    }\n",
       "\n",
       "    .dataframe thead th {\n",
       "        text-align: right;\n",
       "    }\n",
       "</style>\n",
       "<table border=\"1\" class=\"dataframe\">\n",
       "  <thead>\n",
       "    <tr style=\"text-align: right;\">\n",
       "      <th></th>\n",
       "      <th>country</th>\n",
       "      <th>description</th>\n",
       "      <th>designation</th>\n",
       "      <th>points</th>\n",
       "      <th>price</th>\n",
       "      <th>province</th>\n",
       "      <th>region_1</th>\n",
       "      <th>region_2</th>\n",
       "      <th>taster_name</th>\n",
       "      <th>taster_twitter_handle</th>\n",
       "      <th>title</th>\n",
       "      <th>variety</th>\n",
       "      <th>winery</th>\n",
       "      <th>not_vintage</th>\n",
       "      <th>vintage</th>\n",
       "    </tr>\n",
       "  </thead>\n",
       "  <tbody>\n",
       "    <tr>\n",
       "      <th>0</th>\n",
       "      <td>Italy</td>\n",
       "      <td>Aromas include tropical fruit, broom, brimston...</td>\n",
       "      <td>Vulkà Bianco</td>\n",
       "      <td>87</td>\n",
       "      <td>NaN</td>\n",
       "      <td>Sicily &amp; Sardinia</td>\n",
       "      <td>Etna</td>\n",
       "      <td>NaN</td>\n",
       "      <td>Kerin O’Keefe</td>\n",
       "      <td>@kerinokeefe</td>\n",
       "      <td>Nicosia 2013 Vulkà Bianco  (Etna)</td>\n",
       "      <td>White Blend</td>\n",
       "      <td>Nicosia</td>\n",
       "      <td>Italy Vulkà Bianco Sicily &amp; Sardinia Etna Nicosia</td>\n",
       "      <td>2013.0</td>\n",
       "    </tr>\n",
       "    <tr>\n",
       "      <th>1</th>\n",
       "      <td>Portugal</td>\n",
       "      <td>This is ripe and fruity, a wine that is smooth...</td>\n",
       "      <td>Avidagos</td>\n",
       "      <td>87</td>\n",
       "      <td>15.0</td>\n",
       "      <td>Douro</td>\n",
       "      <td>NaN</td>\n",
       "      <td>NaN</td>\n",
       "      <td>Roger Voss</td>\n",
       "      <td>@vossroger</td>\n",
       "      <td>Quinta dos Avidagos 2011 Avidagos Red (Douro)</td>\n",
       "      <td>Portuguese Red</td>\n",
       "      <td>Quinta dos Avidagos</td>\n",
       "      <td>Portugal Avidagos Douro Quinta dos Avidagos</td>\n",
       "      <td>2011.0</td>\n",
       "    </tr>\n",
       "  </tbody>\n",
       "</table>\n",
       "</div>"
      ],
      "text/plain": [
       "    country                                        description   designation  \\\n",
       "0     Italy  Aromas include tropical fruit, broom, brimston...  Vulkà Bianco   \n",
       "1  Portugal  This is ripe and fruity, a wine that is smooth...      Avidagos   \n",
       "\n",
       "   points  price           province region_1 region_2    taster_name  \\\n",
       "0      87    NaN  Sicily & Sardinia     Etna      NaN  Kerin O’Keefe   \n",
       "1      87   15.0              Douro      NaN      NaN     Roger Voss   \n",
       "\n",
       "  taster_twitter_handle                                          title  \\\n",
       "0          @kerinokeefe              Nicosia 2013 Vulkà Bianco  (Etna)   \n",
       "1            @vossroger  Quinta dos Avidagos 2011 Avidagos Red (Douro)   \n",
       "\n",
       "          variety               winery  \\\n",
       "0     White Blend              Nicosia   \n",
       "1  Portuguese Red  Quinta dos Avidagos   \n",
       "\n",
       "                                         not_vintage  vintage  \n",
       "0  Italy Vulkà Bianco Sicily & Sardinia Etna Nicosia   2013.0  \n",
       "1        Portugal Avidagos Douro Quinta dos Avidagos   2011.0  "
      ]
     },
     "execution_count": 9,
     "metadata": {},
     "output_type": "execute_result"
    }
   ],
   "source": [
    "top = 20 # selecting top 20 varities as our working varieties. note 1 < n <= 40\n",
    "\n",
    "# making a datframe of our selecting top n varieties\n",
    "top_df = top_40_varieties[top_40_varieties['variety'].isin(top_varieties_count.iloc[:top].index)]\n",
    "print('percentage of initial 130k dataframe is {}%'.format(72))\n",
    "print(len(top_df['variety'].unique()))\n",
    "top_df.head(2)"
   ]
  },
  {
   "cell_type": "code",
   "execution_count": 10,
   "metadata": {
    "execution": {
     "iopub.execute_input": "2020-11-12T20:06:49.439286Z",
     "iopub.status.busy": "2020-11-12T20:06:49.438485Z",
     "iopub.status.idle": "2020-11-12T20:06:49.501592Z",
     "shell.execute_reply": "2020-11-12T20:06:49.500941Z"
    },
    "papermill": {
     "duration": 0.159116,
     "end_time": "2020-11-12T20:06:49.501715",
     "exception": false,
     "start_time": "2020-11-12T20:06:49.342599",
     "status": "completed"
    },
    "tags": []
   },
   "outputs": [
    {
     "name": "stdout",
     "output_type": "stream",
     "text": [
      "(38367, 15)\n",
      "14\n"
     ]
    },
    {
     "data": {
      "text/html": [
       "<div>\n",
       "<style scoped>\n",
       "    .dataframe tbody tr th:only-of-type {\n",
       "        vertical-align: middle;\n",
       "    }\n",
       "\n",
       "    .dataframe tbody tr th {\n",
       "        vertical-align: top;\n",
       "    }\n",
       "\n",
       "    .dataframe thead th {\n",
       "        text-align: right;\n",
       "    }\n",
       "</style>\n",
       "<table border=\"1\" class=\"dataframe\">\n",
       "  <thead>\n",
       "    <tr style=\"text-align: right;\">\n",
       "      <th></th>\n",
       "      <th>country</th>\n",
       "      <th>description</th>\n",
       "      <th>designation</th>\n",
       "      <th>points</th>\n",
       "      <th>price</th>\n",
       "      <th>province</th>\n",
       "      <th>region_1</th>\n",
       "      <th>region_2</th>\n",
       "      <th>taster_name</th>\n",
       "      <th>taster_twitter_handle</th>\n",
       "      <th>title</th>\n",
       "      <th>variety</th>\n",
       "      <th>winery</th>\n",
       "      <th>not_vintage</th>\n",
       "      <th>vintage</th>\n",
       "    </tr>\n",
       "  </thead>\n",
       "  <tbody>\n",
       "    <tr>\n",
       "      <th>0</th>\n",
       "      <td>Italy</td>\n",
       "      <td>Aromas include tropical fruit, broom, brimston...</td>\n",
       "      <td>Vulkà Bianco</td>\n",
       "      <td>87</td>\n",
       "      <td>NaN</td>\n",
       "      <td>Sicily &amp; Sardinia</td>\n",
       "      <td>Etna</td>\n",
       "      <td>NaN</td>\n",
       "      <td>Kerin O’Keefe</td>\n",
       "      <td>@kerinokeefe</td>\n",
       "      <td>Nicosia 2013 Vulkà Bianco  (Etna)</td>\n",
       "      <td>White Blend</td>\n",
       "      <td>Nicosia</td>\n",
       "      <td>Italy Vulkà Bianco Sicily &amp; Sardinia Etna Nicosia</td>\n",
       "      <td>2013.0</td>\n",
       "    </tr>\n",
       "    <tr>\n",
       "      <th>1</th>\n",
       "      <td>Portugal</td>\n",
       "      <td>This is ripe and fruity, a wine that is smooth...</td>\n",
       "      <td>Avidagos</td>\n",
       "      <td>87</td>\n",
       "      <td>15.0</td>\n",
       "      <td>Douro</td>\n",
       "      <td>NaN</td>\n",
       "      <td>NaN</td>\n",
       "      <td>Roger Voss</td>\n",
       "      <td>@vossroger</td>\n",
       "      <td>Quinta dos Avidagos 2011 Avidagos Red (Douro)</td>\n",
       "      <td>Portuguese Red</td>\n",
       "      <td>Quinta dos Avidagos</td>\n",
       "      <td>Portugal Avidagos Douro Quinta dos Avidagos</td>\n",
       "      <td>2011.0</td>\n",
       "    </tr>\n",
       "  </tbody>\n",
       "</table>\n",
       "</div>"
      ],
      "text/plain": [
       "    country                                        description   designation  \\\n",
       "0     Italy  Aromas include tropical fruit, broom, brimston...  Vulkà Bianco   \n",
       "1  Portugal  This is ripe and fruity, a wine that is smooth...      Avidagos   \n",
       "\n",
       "   points  price           province region_1 region_2    taster_name  \\\n",
       "0      87    NaN  Sicily & Sardinia     Etna      NaN  Kerin O’Keefe   \n",
       "1      87   15.0              Douro      NaN      NaN     Roger Voss   \n",
       "\n",
       "  taster_twitter_handle                                          title  \\\n",
       "0          @kerinokeefe              Nicosia 2013 Vulkà Bianco  (Etna)   \n",
       "1            @vossroger  Quinta dos Avidagos 2011 Avidagos Red (Douro)   \n",
       "\n",
       "          variety               winery  \\\n",
       "0     White Blend              Nicosia   \n",
       "1  Portuguese Red  Quinta dos Avidagos   \n",
       "\n",
       "                                         not_vintage  vintage  \n",
       "0  Italy Vulkà Bianco Sicily & Sardinia Etna Nicosia   2013.0  \n",
       "1        Portugal Avidagos Douro Quinta dos Avidagos   2011.0  "
      ]
     },
     "execution_count": 10,
     "metadata": {},
     "output_type": "execute_result"
    }
   ],
   "source": [
    "# threshold of miniority variety to over sample (use sentences as document instead of the whole description)\n",
    "minority_threshold = 5000 \n",
    "\n",
    "# making a dataframe of the miniority classes\n",
    "minority_df = top_df[top_df['variety'].isin(top_varieties_count[top_varieties_count < \\\n",
    "                                                                      minority_threshold].index)]\n",
    "print(minority_df.shape)\n",
    "print(len(minority_df['variety'].unique()))\n",
    "minority_df.head(2)"
   ]
  },
  {
   "cell_type": "markdown",
   "metadata": {
    "papermill": {
     "duration": 0.098287,
     "end_time": "2020-11-12T20:06:49.705396",
     "exception": false,
     "start_time": "2020-11-12T20:06:49.607109",
     "status": "completed"
    },
    "tags": []
   },
   "source": [
    "### nltk and spacy are the two most popular libraries in NLP. We will just use nltk to tokenize sentences in our miniority class but for our heavy weight preprocessing, we will use spacy because it is mostly used in industries and has wealth of functionalities."
   ]
  },
  {
   "cell_type": "code",
   "execution_count": 11,
   "metadata": {
    "execution": {
     "iopub.execute_input": "2020-11-12T20:06:49.893182Z",
     "iopub.status.busy": "2020-11-12T20:06:49.892379Z",
     "iopub.status.idle": "2020-11-12T20:06:50.708453Z",
     "shell.execute_reply": "2020-11-12T20:06:50.709858Z"
    },
    "papermill": {
     "duration": 0.910695,
     "end_time": "2020-11-12T20:06:50.710046",
     "exception": false,
     "start_time": "2020-11-12T20:06:49.799351",
     "status": "completed"
    },
    "tags": []
   },
   "outputs": [],
   "source": [
    "from nltk.tokenize import sent_tokenize # importing useful library"
   ]
  },
  {
   "cell_type": "code",
   "execution_count": 12,
   "metadata": {
    "execution": {
     "iopub.execute_input": "2020-11-12T20:06:51.052460Z",
     "iopub.status.busy": "2020-11-12T20:06:51.050567Z",
     "iopub.status.idle": "2020-11-12T20:06:51.055364Z",
     "shell.execute_reply": "2020-11-12T20:06:51.051532Z"
    },
    "papermill": {
     "duration": 0.191966,
     "end_time": "2020-11-12T20:06:51.055489",
     "exception": false,
     "start_time": "2020-11-12T20:06:50.863523",
     "status": "completed"
    },
    "tags": []
   },
   "outputs": [],
   "source": [
    "oversampled_miniority_lst = [] # empty list to store sentences as tokens miniority corpus\n",
    "\n",
    "# creating a function to use sentences as tokens for the miniority classes\n",
    "def over_sample_miniority(row):\n",
    "    doc_list = sent_tokenize(row['description'])\n",
    "    for sent in doc_list:\n",
    "        row['description'] = sent\n",
    "        oversampled_miniority_lst.append(list(row))"
   ]
  },
  {
   "cell_type": "code",
   "execution_count": 13,
   "metadata": {
    "execution": {
     "iopub.execute_input": "2020-11-12T20:06:51.338868Z",
     "iopub.status.busy": "2020-11-12T20:06:51.337845Z",
     "iopub.status.idle": "2020-11-12T20:07:02.345683Z",
     "shell.execute_reply": "2020-11-12T20:07:02.344497Z"
    },
    "papermill": {
     "duration": 11.152847,
     "end_time": "2020-11-12T20:07:02.345823",
     "exception": false,
     "start_time": "2020-11-12T20:06:51.192976",
     "status": "completed"
    },
    "tags": []
   },
   "outputs": [],
   "source": [
    "minority_df.apply(over_sample_miniority, axis=1); # over sample the miniority classes"
   ]
  },
  {
   "cell_type": "code",
   "execution_count": 14,
   "metadata": {
    "execution": {
     "iopub.execute_input": "2020-11-12T20:07:02.532018Z",
     "iopub.status.busy": "2020-11-12T20:07:02.531035Z",
     "iopub.status.idle": "2020-11-12T20:07:02.768857Z",
     "shell.execute_reply": "2020-11-12T20:07:02.769520Z"
    },
    "papermill": {
     "duration": 0.332366,
     "end_time": "2020-11-12T20:07:02.769681",
     "exception": false,
     "start_time": "2020-11-12T20:07:02.437315",
     "status": "completed"
    },
    "tags": []
   },
   "outputs": [
    {
     "name": "stdout",
     "output_type": "stream",
     "text": [
      "(104101, 15)\n"
     ]
    },
    {
     "data": {
      "text/html": [
       "<div>\n",
       "<style scoped>\n",
       "    .dataframe tbody tr th:only-of-type {\n",
       "        vertical-align: middle;\n",
       "    }\n",
       "\n",
       "    .dataframe tbody tr th {\n",
       "        vertical-align: top;\n",
       "    }\n",
       "\n",
       "    .dataframe thead th {\n",
       "        text-align: right;\n",
       "    }\n",
       "</style>\n",
       "<table border=\"1\" class=\"dataframe\">\n",
       "  <thead>\n",
       "    <tr style=\"text-align: right;\">\n",
       "      <th></th>\n",
       "      <th>country</th>\n",
       "      <th>description</th>\n",
       "      <th>designation</th>\n",
       "      <th>points</th>\n",
       "      <th>price</th>\n",
       "      <th>province</th>\n",
       "      <th>region_1</th>\n",
       "      <th>region_2</th>\n",
       "      <th>taster_name</th>\n",
       "      <th>taster_twitter_handle</th>\n",
       "      <th>title</th>\n",
       "      <th>variety</th>\n",
       "      <th>winery</th>\n",
       "      <th>not_vintage</th>\n",
       "      <th>vintage</th>\n",
       "    </tr>\n",
       "  </thead>\n",
       "  <tbody>\n",
       "    <tr>\n",
       "      <th>0</th>\n",
       "      <td>Italy</td>\n",
       "      <td>Aromas include tropical fruit, broom, brimston...</td>\n",
       "      <td>Vulkà Bianco</td>\n",
       "      <td>87</td>\n",
       "      <td>NaN</td>\n",
       "      <td>Sicily &amp; Sardinia</td>\n",
       "      <td>Etna</td>\n",
       "      <td>NaN</td>\n",
       "      <td>Kerin O’Keefe</td>\n",
       "      <td>@kerinokeefe</td>\n",
       "      <td>Nicosia 2013 Vulkà Bianco  (Etna)</td>\n",
       "      <td>White Blend</td>\n",
       "      <td>Nicosia</td>\n",
       "      <td>Italy Vulkà Bianco Sicily &amp; Sardinia Etna Nicosia</td>\n",
       "      <td>2013.0</td>\n",
       "    </tr>\n",
       "    <tr>\n",
       "      <th>1</th>\n",
       "      <td>Italy</td>\n",
       "      <td>The palate isn't overly expressive, offering u...</td>\n",
       "      <td>Vulkà Bianco</td>\n",
       "      <td>87</td>\n",
       "      <td>NaN</td>\n",
       "      <td>Sicily &amp; Sardinia</td>\n",
       "      <td>Etna</td>\n",
       "      <td>NaN</td>\n",
       "      <td>Kerin O’Keefe</td>\n",
       "      <td>@kerinokeefe</td>\n",
       "      <td>Nicosia 2013 Vulkà Bianco  (Etna)</td>\n",
       "      <td>White Blend</td>\n",
       "      <td>Nicosia</td>\n",
       "      <td>Italy Vulkà Bianco Sicily &amp; Sardinia Etna Nicosia</td>\n",
       "      <td>2013.0</td>\n",
       "    </tr>\n",
       "  </tbody>\n",
       "</table>\n",
       "</div>"
      ],
      "text/plain": [
       "  country                                        description   designation  \\\n",
       "0   Italy  Aromas include tropical fruit, broom, brimston...  Vulkà Bianco   \n",
       "1   Italy  The palate isn't overly expressive, offering u...  Vulkà Bianco   \n",
       "\n",
       "   points  price           province region_1 region_2    taster_name  \\\n",
       "0      87    NaN  Sicily & Sardinia     Etna      NaN  Kerin O’Keefe   \n",
       "1      87    NaN  Sicily & Sardinia     Etna      NaN  Kerin O’Keefe   \n",
       "\n",
       "  taster_twitter_handle                              title      variety  \\\n",
       "0          @kerinokeefe  Nicosia 2013 Vulkà Bianco  (Etna)  White Blend   \n",
       "1          @kerinokeefe  Nicosia 2013 Vulkà Bianco  (Etna)  White Blend   \n",
       "\n",
       "    winery                                        not_vintage  vintage  \n",
       "0  Nicosia  Italy Vulkà Bianco Sicily & Sardinia Etna Nicosia   2013.0  \n",
       "1  Nicosia  Italy Vulkà Bianco Sicily & Sardinia Etna Nicosia   2013.0  "
      ]
     },
     "execution_count": 14,
     "metadata": {},
     "output_type": "execute_result"
    }
   ],
   "source": [
    "# converts oversampled_miniority_lst to a dataframe\n",
    "oversampled_miniority_df = pd.DataFrame(oversampled_miniority_lst, columns=minority_df.columns)\n",
    "print(oversampled_miniority_df.shape)\n",
    "oversampled_miniority_df.head(2)"
   ]
  },
  {
   "cell_type": "code",
   "execution_count": 15,
   "metadata": {
    "execution": {
     "iopub.execute_input": "2020-11-12T20:07:02.956979Z",
     "iopub.status.busy": "2020-11-12T20:07:02.956189Z",
     "iopub.status.idle": "2020-11-12T20:07:02.959922Z",
     "shell.execute_reply": "2020-11-12T20:07:02.960455Z"
    },
    "papermill": {
     "duration": 0.100633,
     "end_time": "2020-11-12T20:07:02.960586",
     "exception": false,
     "start_time": "2020-11-12T20:07:02.859953",
     "status": "completed"
    },
    "tags": []
   },
   "outputs": [
    {
     "data": {
      "text/plain": [
       "array(['Aromas include tropical fruit, broom, brimstone and dried herb.',\n",
       "       \"The palate isn't overly expressive, offering unripened apple, citrus and dried sage alongside brisk acidity.\",\n",
       "       'This is ripe and fruity, a wine that is smooth while still structured.',\n",
       "       'Firm tannins are filled out with juicy red berry fruits and freshened with acidity.',\n",
       "       \"It's  already drinkable, although it will certainly be better from 2016.\"],\n",
       "      dtype=object)"
      ]
     },
     "execution_count": 15,
     "metadata": {},
     "output_type": "execute_result"
    }
   ],
   "source": [
    "# a view at the new descriptions of the oversampled miniority classes\n",
    "oversampled_miniority_df['description'][:5].values"
   ]
  },
  {
   "cell_type": "markdown",
   "metadata": {
    "papermill": {
     "duration": 0.092385,
     "end_time": "2020-11-12T20:07:03.142755",
     "exception": false,
     "start_time": "2020-11-12T20:07:03.050370",
     "status": "completed"
    },
    "tags": []
   },
   "source": [
    "### we see that sentences are counted as tokens instead of the whole review"
   ]
  },
  {
   "cell_type": "code",
   "execution_count": 16,
   "metadata": {
    "execution": {
     "iopub.execute_input": "2020-11-12T20:07:03.343090Z",
     "iopub.status.busy": "2020-11-12T20:07:03.342017Z",
     "iopub.status.idle": "2020-11-12T20:07:03.603960Z",
     "shell.execute_reply": "2020-11-12T20:07:03.604558Z"
    },
    "papermill": {
     "duration": 0.370224,
     "end_time": "2020-11-12T20:07:03.604717",
     "exception": false,
     "start_time": "2020-11-12T20:07:03.234493",
     "status": "completed"
    },
    "tags": []
   },
   "outputs": [
    {
     "name": "stdout",
     "output_type": "stream",
     "text": [
      "(159648, 15)\n"
     ]
    },
    {
     "data": {
      "text/html": [
       "<div>\n",
       "<style scoped>\n",
       "    .dataframe tbody tr th:only-of-type {\n",
       "        vertical-align: middle;\n",
       "    }\n",
       "\n",
       "    .dataframe tbody tr th {\n",
       "        vertical-align: top;\n",
       "    }\n",
       "\n",
       "    .dataframe thead th {\n",
       "        text-align: right;\n",
       "    }\n",
       "</style>\n",
       "<table border=\"1\" class=\"dataframe\">\n",
       "  <thead>\n",
       "    <tr style=\"text-align: right;\">\n",
       "      <th></th>\n",
       "      <th>country</th>\n",
       "      <th>description</th>\n",
       "      <th>designation</th>\n",
       "      <th>points</th>\n",
       "      <th>price</th>\n",
       "      <th>province</th>\n",
       "      <th>region_1</th>\n",
       "      <th>region_2</th>\n",
       "      <th>taster_name</th>\n",
       "      <th>taster_twitter_handle</th>\n",
       "      <th>title</th>\n",
       "      <th>variety</th>\n",
       "      <th>winery</th>\n",
       "      <th>not_vintage</th>\n",
       "      <th>vintage</th>\n",
       "    </tr>\n",
       "  </thead>\n",
       "  <tbody>\n",
       "    <tr>\n",
       "      <th>0</th>\n",
       "      <td>United States of America</td>\n",
       "      <td>Pineapple rind, lemon pith and orange blossom ...</td>\n",
       "      <td>Reserve Late Harvest</td>\n",
       "      <td>87</td>\n",
       "      <td>13.0</td>\n",
       "      <td>Michigan</td>\n",
       "      <td>Lake Michigan Shore</td>\n",
       "      <td>NaN</td>\n",
       "      <td>Alexander Peartree</td>\n",
       "      <td>NaN</td>\n",
       "      <td>St. Julian 2013 Reserve Late Harvest Riesling ...</td>\n",
       "      <td>Riesling</td>\n",
       "      <td>St. Julian</td>\n",
       "      <td>United States of America Reserve Late Harvest ...</td>\n",
       "      <td>2013.0</td>\n",
       "    </tr>\n",
       "    <tr>\n",
       "      <th>1</th>\n",
       "      <td>United States of America</td>\n",
       "      <td>Much like the regular bottling from 2012, this...</td>\n",
       "      <td>Vintner's Reserve Wild Child Block</td>\n",
       "      <td>87</td>\n",
       "      <td>65.0</td>\n",
       "      <td>Oregon</td>\n",
       "      <td>Willamette Valley</td>\n",
       "      <td>Willamette Valley</td>\n",
       "      <td>Paul Gregutt</td>\n",
       "      <td>@paulgwine</td>\n",
       "      <td>Sweet Cheeks 2012 Vintner's Reserve Wild Child...</td>\n",
       "      <td>Pinot Noir</td>\n",
       "      <td>Sweet Cheeks</td>\n",
       "      <td>United States of America Vintner's Reserve Wil...</td>\n",
       "      <td>2012.0</td>\n",
       "    </tr>\n",
       "  </tbody>\n",
       "</table>\n",
       "</div>"
      ],
      "text/plain": [
       "                    country  \\\n",
       "0  United States of America   \n",
       "1  United States of America   \n",
       "\n",
       "                                         description  \\\n",
       "0  Pineapple rind, lemon pith and orange blossom ...   \n",
       "1  Much like the regular bottling from 2012, this...   \n",
       "\n",
       "                          designation  points  price  province  \\\n",
       "0                Reserve Late Harvest      87   13.0  Michigan   \n",
       "1  Vintner's Reserve Wild Child Block      87   65.0    Oregon   \n",
       "\n",
       "              region_1           region_2         taster_name  \\\n",
       "0  Lake Michigan Shore                NaN  Alexander Peartree   \n",
       "1    Willamette Valley  Willamette Valley        Paul Gregutt   \n",
       "\n",
       "  taster_twitter_handle                                              title  \\\n",
       "0                   NaN  St. Julian 2013 Reserve Late Harvest Riesling ...   \n",
       "1           @paulgwine   Sweet Cheeks 2012 Vintner's Reserve Wild Child...   \n",
       "\n",
       "      variety        winery  \\\n",
       "0    Riesling    St. Julian   \n",
       "1  Pinot Noir  Sweet Cheeks   \n",
       "\n",
       "                                         not_vintage  vintage  \n",
       "0  United States of America Reserve Late Harvest ...   2013.0  \n",
       "1  United States of America Vintner's Reserve Wil...   2012.0  "
      ]
     },
     "execution_count": 16,
     "metadata": {},
     "output_type": "execute_result"
    }
   ],
   "source": [
    "# selecting majority classes as a dataframe to concatenate to oversampled_miniority_lst\n",
    "majority_df = top_df[top_df['variety'].isin(\\\n",
    "                                        top_varieties_count[top_varieties_count >= minority_threshold].index)]\n",
    "\n",
    "# concatenates majority_df to oversampled_miniority_lst\n",
    "balanced_df = pd.concat([majority_df, oversampled_miniority_df]) \n",
    "balanced_df = balanced_df.reset_index().drop('index', axis=1) # resets index\n",
    "print(balanced_df.shape)\n",
    "balanced_df.head(2)"
   ]
  },
  {
   "cell_type": "code",
   "execution_count": 17,
   "metadata": {
    "execution": {
     "iopub.execute_input": "2020-11-12T20:07:03.848057Z",
     "iopub.status.busy": "2020-11-12T20:07:03.846989Z",
     "iopub.status.idle": "2020-11-12T20:07:03.850955Z",
     "shell.execute_reply": "2020-11-12T20:07:03.851481Z"
    },
    "papermill": {
     "duration": 0.143762,
     "end_time": "2020-11-12T20:07:03.851643",
     "exception": false,
     "start_time": "2020-11-12T20:07:03.707881",
     "status": "completed"
    },
    "tags": []
   },
   "outputs": [
    {
     "data": {
      "text/plain": [
       "Pinot Noir                  13272\n",
       "Sauvignon Blanc             12801\n",
       "Chardonnay                  11753\n",
       "Syrah                       11128\n",
       "Cabernet Sauvignon           9472\n",
       "Rosé                         9207\n",
       "Red Blend                    8946\n",
       "Nebbiolo                     8107\n",
       "Malbec                       8047\n",
       "Merlot                       7874\n",
       "Portuguese Red               7734\n",
       "Sangiovese                   7432\n",
       "Bordeaux-style Red Blend     6915\n",
       "Zinfandel                    6512\n",
       "White Blend                  6034\n",
       "Sparkling Blend              5740\n",
       "Tempranillo                  5552\n",
       "Riesling                     5189\n",
       "Rhône-style Red Blend        3972\n",
       "Pinot Gris                   3961\n",
       "Name: variety, dtype: int64"
      ]
     },
     "execution_count": 17,
     "metadata": {},
     "output_type": "execute_result"
    }
   ],
   "source": [
    "balanced_variety = balanced_df['variety'].value_counts() # gets a Series of the variety count in balanced_df\n",
    "balanced_variety"
   ]
  },
  {
   "cell_type": "code",
   "execution_count": 18,
   "metadata": {
    "execution": {
     "iopub.execute_input": "2020-11-12T20:07:04.044150Z",
     "iopub.status.busy": "2020-11-12T20:07:04.043397Z",
     "iopub.status.idle": "2020-11-12T20:07:04.048842Z",
     "shell.execute_reply": "2020-11-12T20:07:04.048041Z"
    },
    "papermill": {
     "duration": 0.103286,
     "end_time": "2020-11-12T20:07:04.049007",
     "exception": false,
     "start_time": "2020-11-12T20:07:03.945721",
     "status": "completed"
    },
    "tags": []
   },
   "outputs": [
    {
     "name": "stdout",
     "output_type": "stream",
     "text": [
      "before sentence oversampling, highest class ratio was 9.507163323782235\n"
     ]
    }
   ],
   "source": [
    "print('before sentence oversampling, highest class ratio was {}'.format(\\\n",
    "                                        top_varieties_count.iloc[0] / top_varieties_count.iloc[top]))"
   ]
  },
  {
   "cell_type": "code",
   "execution_count": 19,
   "metadata": {
    "execution": {
     "iopub.execute_input": "2020-11-12T20:07:04.248003Z",
     "iopub.status.busy": "2020-11-12T20:07:04.247273Z",
     "iopub.status.idle": "2020-11-12T20:07:04.561530Z",
     "shell.execute_reply": "2020-11-12T20:07:04.560911Z"
    },
    "papermill": {
     "duration": 0.415785,
     "end_time": "2020-11-12T20:07:04.561668",
     "exception": false,
     "start_time": "2020-11-12T20:07:04.145883",
     "status": "completed"
    },
    "tags": []
   },
   "outputs": [
    {
     "data": {
      "image/png": "[encoded data removed]",
      "text/plain": [
       "<Figure size 1296x288 with 1 Axes>"
      ]
     },
     "metadata": {
      "needs_background": "light"
     },
     "output_type": "display_data"
    }
   ],
   "source": [
    "fig = plt.figure(figsize=(18, 4))\n",
    "plt.bar(top_varieties_count[:top].index, top_varieties_count[:top].values)\n",
    "plt.xticks(rotation=90)\n",
    "plt.xlabel('variety')\n",
    "plt.ylabel('count')\n",
    "plt.title('Counts of varieties before sentence oversampling')\n",
    "plt.show()"
   ]
  },
  {
   "cell_type": "code",
   "execution_count": 20,
   "metadata": {
    "execution": {
     "iopub.execute_input": "2020-11-12T20:07:04.819698Z",
     "iopub.status.busy": "2020-11-12T20:07:04.818693Z",
     "iopub.status.idle": "2020-11-12T20:07:04.823106Z",
     "shell.execute_reply": "2020-11-12T20:07:04.823955Z"
    },
    "papermill": {
     "duration": 0.15805,
     "end_time": "2020-11-12T20:07:04.824155",
     "exception": false,
     "start_time": "2020-11-12T20:07:04.666105",
     "status": "completed"
    },
    "tags": []
   },
   "outputs": [
    {
     "name": "stdout",
     "output_type": "stream",
     "text": [
      "after sentence oversampling, highest class ratio is 3.3506690229739964\n"
     ]
    }
   ],
   "source": [
    "print('after sentence oversampling, highest class ratio is {}'.format(\\\n",
    "                                                    balanced_variety.iloc[0] / balanced_variety.iloc[-1]))"
   ]
  },
  {
   "cell_type": "code",
   "execution_count": 21,
   "metadata": {
    "execution": {
     "iopub.execute_input": "2020-11-12T20:07:05.038724Z",
     "iopub.status.busy": "2020-11-12T20:07:05.037735Z",
     "iopub.status.idle": "2020-11-12T20:07:05.319259Z",
     "shell.execute_reply": "2020-11-12T20:07:05.319878Z"
    },
    "papermill": {
     "duration": 0.381409,
     "end_time": "2020-11-12T20:07:05.320024",
     "exception": false,
     "start_time": "2020-11-12T20:07:04.938615",
     "status": "completed"
    },
    "tags": []
   },
   "outputs": [
    {
     "data": {
      "image/png": "[encoded data removed]",
      "text/plain": [
       "<Figure size 1296x288 with 1 Axes>"
      ]
     },
     "metadata": {
      "needs_background": "light"
     },
     "output_type": "display_data"
    }
   ],
   "source": [
    "fig = plt.figure(figsize=(18, 4))\n",
    "plt.bar(balanced_variety.index, balanced_variety.values)\n",
    "plt.xticks(rotation=90)\n",
    "plt.xlabel('variety')\n",
    "plt.ylabel('count')\n",
    "plt.title('Counts of varieties after sentence oversampling')\n",
    "plt.show()"
   ]
  },
  {
   "cell_type": "code",
   "execution_count": null,
   "metadata": {
    "papermill": {
     "duration": 0.110177,
     "end_time": "2020-11-12T20:07:05.540262",
     "exception": false,
     "start_time": "2020-11-12T20:07:05.430085",
     "status": "completed"
    },
    "tags": []
   },
   "outputs": [],
   "source": []
  },
  {
   "cell_type": "code",
   "execution_count": 22,
   "metadata": {
    "execution": {
     "iopub.execute_input": "2020-11-12T20:07:05.755452Z",
     "iopub.status.busy": "2020-11-12T20:07:05.754472Z",
     "iopub.status.idle": "2020-11-12T20:07:07.748471Z",
     "shell.execute_reply": "2020-11-12T20:07:07.746954Z"
    },
    "papermill": {
     "duration": 2.100661,
     "end_time": "2020-11-12T20:07:07.748597",
     "exception": false,
     "start_time": "2020-11-12T20:07:05.647936",
     "status": "completed"
    },
    "tags": []
   },
   "outputs": [],
   "source": [
    "# importing useful libraries\n",
    "import spacy\n",
    "from imblearn.over_sampling import SMOTE\n",
    "from imblearn.pipeline import Pipeline\n",
    "from sklearn.tree import DecisionTreeClassifier\n",
    "from sklearn.preprocessing import LabelEncoder, OneHotEncoder\n",
    "from sklearn.model_selection import RepeatedStratifiedKFold, cross_val_score"
   ]
  },
  {
   "cell_type": "markdown",
   "metadata": {
    "papermill": {
     "duration": 0.10697,
     "end_time": "2020-11-12T20:07:07.953875",
     "exception": false,
     "start_time": "2020-11-12T20:07:07.846905",
     "status": "completed"
    },
    "tags": []
   },
   "source": [
    "### Let's check for Nan values"
   ]
  },
  {
   "cell_type": "code",
   "execution_count": 23,
   "metadata": {
    "execution": {
     "iopub.execute_input": "2020-11-12T20:07:08.156387Z",
     "iopub.status.busy": "2020-11-12T20:07:08.155500Z",
     "iopub.status.idle": "2020-11-12T20:07:08.289391Z",
     "shell.execute_reply": "2020-11-12T20:07:08.289948Z"
    },
    "papermill": {
     "duration": 0.239167,
     "end_time": "2020-11-12T20:07:08.290092",
     "exception": false,
     "start_time": "2020-11-12T20:07:08.050925",
     "status": "completed"
    },
    "tags": []
   },
   "outputs": [
    {
     "data": {
      "text/html": [
       "<div>\n",
       "<style scoped>\n",
       "    .dataframe tbody tr th:only-of-type {\n",
       "        vertical-align: middle;\n",
       "    }\n",
       "\n",
       "    .dataframe tbody tr th {\n",
       "        vertical-align: top;\n",
       "    }\n",
       "\n",
       "    .dataframe thead th {\n",
       "        text-align: right;\n",
       "    }\n",
       "</style>\n",
       "<table border=\"1\" class=\"dataframe\">\n",
       "  <thead>\n",
       "    <tr style=\"text-align: right;\">\n",
       "      <th></th>\n",
       "      <th>n_Nan</th>\n",
       "      <th>%missing</th>\n",
       "    </tr>\n",
       "  </thead>\n",
       "  <tbody>\n",
       "    <tr>\n",
       "      <th>country</th>\n",
       "      <td>37</td>\n",
       "      <td>0.039398</td>\n",
       "    </tr>\n",
       "    <tr>\n",
       "      <th>description</th>\n",
       "      <td>0</td>\n",
       "      <td>0.000000</td>\n",
       "    </tr>\n",
       "    <tr>\n",
       "      <th>designation</th>\n",
       "      <td>26985</td>\n",
       "      <td>28.733735</td>\n",
       "    </tr>\n",
       "    <tr>\n",
       "      <th>points</th>\n",
       "      <td>0</td>\n",
       "      <td>0.000000</td>\n",
       "    </tr>\n",
       "    <tr>\n",
       "      <th>price</th>\n",
       "      <td>5691</td>\n",
       "      <td>6.059799</td>\n",
       "    </tr>\n",
       "    <tr>\n",
       "      <th>province</th>\n",
       "      <td>37</td>\n",
       "      <td>0.039398</td>\n",
       "    </tr>\n",
       "    <tr>\n",
       "      <th>region_1</th>\n",
       "      <td>13466</td>\n",
       "      <td>14.338650</td>\n",
       "    </tr>\n",
       "    <tr>\n",
       "      <th>region_2</th>\n",
       "      <td>50804</td>\n",
       "      <td>54.096301</td>\n",
       "    </tr>\n",
       "    <tr>\n",
       "      <th>taster_name</th>\n",
       "      <td>18863</td>\n",
       "      <td>20.085397</td>\n",
       "    </tr>\n",
       "    <tr>\n",
       "      <th>taster_twitter_handle</th>\n",
       "      <td>22626</td>\n",
       "      <td>24.092255</td>\n",
       "    </tr>\n",
       "    <tr>\n",
       "      <th>title</th>\n",
       "      <td>0</td>\n",
       "      <td>0.000000</td>\n",
       "    </tr>\n",
       "    <tr>\n",
       "      <th>variety</th>\n",
       "      <td>0</td>\n",
       "      <td>0.000000</td>\n",
       "    </tr>\n",
       "    <tr>\n",
       "      <th>winery</th>\n",
       "      <td>0</td>\n",
       "      <td>0.000000</td>\n",
       "    </tr>\n",
       "    <tr>\n",
       "      <th>not_vintage</th>\n",
       "      <td>0</td>\n",
       "      <td>0.000000</td>\n",
       "    </tr>\n",
       "    <tr>\n",
       "      <th>vintage</th>\n",
       "      <td>2202</td>\n",
       "      <td>2.344698</td>\n",
       "    </tr>\n",
       "  </tbody>\n",
       "</table>\n",
       "</div>"
      ],
      "text/plain": [
       "                       n_Nan   %missing\n",
       "country                   37   0.039398\n",
       "description                0   0.000000\n",
       "designation            26985  28.733735\n",
       "points                     0   0.000000\n",
       "price                   5691   6.059799\n",
       "province                  37   0.039398\n",
       "region_1               13466  14.338650\n",
       "region_2               50804  54.096301\n",
       "taster_name            18863  20.085397\n",
       "taster_twitter_handle  22626  24.092255\n",
       "title                      0   0.000000\n",
       "variety                    0   0.000000\n",
       "winery                     0   0.000000\n",
       "not_vintage                0   0.000000\n",
       "vintage                 2202   2.344698"
      ]
     },
     "execution_count": 23,
     "metadata": {},
     "output_type": "execute_result"
    }
   ],
   "source": [
    "nan_df = top_df.isnull().sum().to_frame()\n",
    "nan_df.rename(columns={0: 'n_Nan'}, inplace=True)\n",
    "nan_df['%missing'] = 100*nan_df['n_Nan'] / top_df.shape[0]\n",
    "nan_df"
   ]
  },
  {
   "cell_type": "code",
   "execution_count": 24,
   "metadata": {
    "execution": {
     "iopub.execute_input": "2020-11-12T20:07:08.516041Z",
     "iopub.status.busy": "2020-11-12T20:07:08.515138Z",
     "iopub.status.idle": "2020-11-12T20:07:09.770981Z",
     "shell.execute_reply": "2020-11-12T20:07:09.771532Z"
    },
    "papermill": {
     "duration": 1.371228,
     "end_time": "2020-11-12T20:07:09.771693",
     "exception": false,
     "start_time": "2020-11-12T20:07:08.400465",
     "status": "completed"
    },
    "tags": []
   },
   "outputs": [],
   "source": [
    "# creating a spacy pipeline and disabling tagger, parser and ner to speed up tokenizer\n",
    "nlp = spacy.load('en', disable=['tagger', 'parser', 'ner']) "
   ]
  },
  {
   "cell_type": "markdown",
   "metadata": {
    "papermill": {
     "duration": 0.099284,
     "end_time": "2020-11-12T20:07:09.970010",
     "exception": false,
     "start_time": "2020-11-12T20:07:09.870726",
     "status": "completed"
    },
    "tags": []
   },
   "source": [
    "### We will be evaluating six preprocessing approaches to choose the best one.\n",
    "\n",
    "1. sentence oversampling without including 'not_vintage'\n",
    "2. no oversampling without including 'not_vintage'\n",
    "3. SMOTE oversampling without including 'not_vintage'\n",
    "4. sentence oversampling including 'not_vintage'\n",
    "5. no oversampling including 'not_vintage'\n",
    "6. SMOTE oversampling without including 'not_vintage'"
   ]
  },
  {
   "cell_type": "markdown",
   "metadata": {
    "papermill": {
     "duration": 0.098357,
     "end_time": "2020-11-12T20:07:10.167030",
     "exception": false,
     "start_time": "2020-11-12T20:07:10.068673",
     "status": "completed"
    },
    "tags": []
   },
   "source": [
    "- Remeber, ````not_vintage```` is the combination of non-numeric categorical features of ````country, province, region1, region2, winery, and designation````"
   ]
  },
  {
   "cell_type": "markdown",
   "metadata": {
    "papermill": {
     "duration": 0.096658,
     "end_time": "2020-11-12T20:07:10.361210",
     "exception": false,
     "start_time": "2020-11-12T20:07:10.264552",
     "status": "completed"
    },
    "tags": []
   },
   "source": [
    "### First, let's make a corpus where each document is ````description```` plus ````not_vintage````"
   ]
  },
  {
   "cell_type": "code",
   "execution_count": 25,
   "metadata": {
    "execution": {
     "iopub.execute_input": "2020-11-12T20:07:10.596132Z",
     "iopub.status.busy": "2020-11-12T20:07:10.580725Z",
     "iopub.status.idle": "2020-11-12T20:07:10.800462Z",
     "shell.execute_reply": "2020-11-12T20:07:10.800952Z"
    },
    "papermill": {
     "duration": 0.34244,
     "end_time": "2020-11-12T20:07:10.801101",
     "exception": false,
     "start_time": "2020-11-12T20:07:10.458661",
     "status": "completed"
    },
    "tags": []
   },
   "outputs": [],
   "source": [
    "# for sentence oversampling\n",
    "sent_oversample_corpus = [doc1 + ' ' + doc2 for doc1, doc2 in zip(\\\n",
    "                                                        balanced_df['description'], balanced_df['not_vintage'])]\n",
    "\n",
    "# for no oversampling\n",
    "no_oversample_corpus = [doc1 + ' ' + doc2 for doc1, doc2 in zip(\\\n",
    "                                                        top_df['description'], top_df['not_vintage'])]"
   ]
  },
  {
   "cell_type": "markdown",
   "metadata": {
    "papermill": {
     "duration": 0.099532,
     "end_time": "2020-11-12T20:07:10.998631",
     "exception": false,
     "start_time": "2020-11-12T20:07:10.899099",
     "status": "completed"
    },
    "tags": []
   },
   "source": [
    "### let's see how the combination of ````description```` and ````not_vintage```` is like"
   ]
  },
  {
   "cell_type": "code",
   "execution_count": 26,
   "metadata": {
    "execution": {
     "iopub.execute_input": "2020-11-12T20:07:11.205338Z",
     "iopub.status.busy": "2020-11-12T20:07:11.203993Z",
     "iopub.status.idle": "2020-11-12T20:07:11.207976Z",
     "shell.execute_reply": "2020-11-12T20:07:11.208540Z"
    },
    "papermill": {
     "duration": 0.110313,
     "end_time": "2020-11-12T20:07:11.208673",
     "exception": false,
     "start_time": "2020-11-12T20:07:11.098360",
     "status": "completed"
    },
    "tags": []
   },
   "outputs": [
    {
     "data": {
      "text/plain": [
       "['It also has weight and a solid, powerful core of spice and baked apple flavors. France Alsace Alsace Domaine Marcel Deiss',\n",
       " 'With its structure still developing, the wine needs to age. France Alsace Alsace Domaine Marcel Deiss',\n",
       " 'Drink from 2015. France Alsace Alsace Domaine Marcel Deiss']"
      ]
     },
     "execution_count": 26,
     "metadata": {},
     "output_type": "execute_result"
    }
   ],
   "source": [
    "sent_oversample_corpus[-3:]"
   ]
  },
  {
   "cell_type": "code",
   "execution_count": 27,
   "metadata": {
    "execution": {
     "iopub.execute_input": "2020-11-12T20:07:11.413818Z",
     "iopub.status.busy": "2020-11-12T20:07:11.412886Z",
     "iopub.status.idle": "2020-11-12T20:07:11.416760Z",
     "shell.execute_reply": "2020-11-12T20:07:11.417339Z"
    },
    "papermill": {
     "duration": 0.109412,
     "end_time": "2020-11-12T20:07:11.417477",
     "exception": false,
     "start_time": "2020-11-12T20:07:11.308065",
     "status": "completed"
    },
    "tags": []
   },
   "outputs": [
    {
     "data": {
      "text/plain": [
       "[\"Aromas include tropical fruit, broom, brimstone and dried herb. The palate isn't overly expressive, offering unripened apple, citrus and dried sage alongside brisk acidity. Italy Vulkà Bianco Sicily & Sardinia Etna Nicosia\",\n",
       " \"This is ripe and fruity, a wine that is smooth while still structured. Firm tannins are filled out with juicy red berry fruits and freshened with acidity. It's  already drinkable, although it will certainly be better from 2016. Portugal Avidagos Douro Quinta dos Avidagos\",\n",
       " 'Tart and snappy, the flavors of lime flesh and rind dominate. Some green pineapple pokes through, with crisp acidity underscoring the flavors. The wine was all stainless-steel fermented. United States of America Oregon Willamette Valley Willamette Valley Rainstorm']"
      ]
     },
     "execution_count": 27,
     "metadata": {},
     "output_type": "execute_result"
    }
   ],
   "source": [
    "no_oversample_corpus[:3] "
   ]
  },
  {
   "cell_type": "code",
   "execution_count": null,
   "metadata": {
    "papermill": {
     "duration": 0.098671,
     "end_time": "2020-11-12T20:07:11.614729",
     "exception": false,
     "start_time": "2020-11-12T20:07:11.516058",
     "status": "completed"
    },
    "tags": []
   },
   "outputs": [],
   "source": []
  },
  {
   "cell_type": "code",
   "execution_count": 28,
   "metadata": {
    "execution": {
     "iopub.execute_input": "2020-11-12T20:07:11.840844Z",
     "iopub.status.busy": "2020-11-12T20:07:11.830555Z",
     "iopub.status.idle": "2020-11-12T20:07:12.102042Z",
     "shell.execute_reply": "2020-11-12T20:07:12.102723Z"
    },
    "papermill": {
     "duration": 0.390223,
     "end_time": "2020-11-12T20:07:12.102918",
     "exception": false,
     "start_time": "2020-11-12T20:07:11.712695",
     "status": "completed"
    },
    "tags": []
   },
   "outputs": [],
   "source": [
    "sent_oversample_le = LabelEncoder() # initializes a LabelEncoder object\n",
    "# encodes the labels\n",
    "sent_oversample_labels = sent_oversample_le.fit_transform([label for label in balanced_df['variety']])\n",
    "\n",
    "no_oversample_le = LabelEncoder() # initializes a LabelEncoder object\n",
    "# encodes the labels\n",
    "no_oversample_label = no_oversample_le.fit_transform([label for label in top_df['variety']])"
   ]
  },
  {
   "cell_type": "markdown",
   "metadata": {
    "papermill": {
     "duration": 0.172959,
     "end_time": "2020-11-12T20:07:12.417739",
     "exception": false,
     "start_time": "2020-11-12T20:07:12.244780",
     "status": "completed"
    },
    "tags": []
   },
   "source": [
    "### Let's have a view of ````sent_oversample_corpus```` and ````no_oversample_corpus````"
   ]
  },
  {
   "cell_type": "code",
   "execution_count": 29,
   "metadata": {
    "execution": {
     "iopub.execute_input": "2020-11-12T20:07:12.731337Z",
     "iopub.status.busy": "2020-11-12T20:07:12.730561Z",
     "iopub.status.idle": "2020-11-12T20:07:12.735533Z",
     "shell.execute_reply": "2020-11-12T20:07:12.736199Z"
    },
    "papermill": {
     "duration": 0.168677,
     "end_time": "2020-11-12T20:07:12.736391",
     "exception": false,
     "start_time": "2020-11-12T20:07:12.567714",
     "status": "completed"
    },
    "tags": []
   },
   "outputs": [
    {
     "data": {
      "text/plain": [
       "['It also has weight and a solid, powerful core of spice and baked apple flavors. France Alsace Alsace Domaine Marcel Deiss',\n",
       " 'With its structure still developing, the wine needs to age. France Alsace Alsace Domaine Marcel Deiss',\n",
       " 'Drink from 2015. France Alsace Alsace Domaine Marcel Deiss']"
      ]
     },
     "execution_count": 29,
     "metadata": {},
     "output_type": "execute_result"
    }
   ],
   "source": [
    "sent_oversample_corpus[-3:]"
   ]
  },
  {
   "cell_type": "code",
   "execution_count": 30,
   "metadata": {
    "execution": {
     "iopub.execute_input": "2020-11-12T20:07:13.002145Z",
     "iopub.status.busy": "2020-11-12T20:07:13.001289Z",
     "iopub.status.idle": "2020-11-12T20:07:13.006705Z",
     "shell.execute_reply": "2020-11-12T20:07:13.007381Z"
    },
    "papermill": {
     "duration": 0.133096,
     "end_time": "2020-11-12T20:07:13.007552",
     "exception": false,
     "start_time": "2020-11-12T20:07:12.874456",
     "status": "completed"
    },
    "tags": []
   },
   "outputs": [
    {
     "data": {
      "text/plain": [
       "[\"Notes of honeysuckle and cantaloupe sweeten this deliciously feather-light spätlese. It's intensely juicy, quenching the palate with streams of tart tangerine and grapefruit acidity, yet wraps up with a kiss of honey and peach. Germany Brauneberger Juffer-Sonnenuhr Spätlese Mosel Dr. H. Thanisch (Erben Müller-Burggraef)\",\n",
       " 'Citation is given as much as a decade of bottle age prior to release, which means it is pre-cellared and drinking at its peak. Baked cherry, cocoa and coconut flavors combine gracefully, with soft, secondary fruit compote highlights. United States of America Oregon Oregon Oregon Other Citation',\n",
       " 'A dry style of Pinot Gris, this is crisp with some acidity. It also has weight and a solid, powerful core of spice and baked apple flavors. With its structure still developing, the wine needs to age. Drink from 2015. France Alsace Alsace Domaine Marcel Deiss']"
      ]
     },
     "execution_count": 30,
     "metadata": {},
     "output_type": "execute_result"
    }
   ],
   "source": [
    "no_oversample_corpus[-3:]"
   ]
  },
  {
   "cell_type": "code",
   "execution_count": 31,
   "metadata": {
    "execution": {
     "iopub.execute_input": "2020-11-12T20:07:13.297960Z",
     "iopub.status.busy": "2020-11-12T20:07:13.295950Z",
     "iopub.status.idle": "2020-11-12T20:07:13.298728Z",
     "shell.execute_reply": "2020-11-12T20:07:13.299282Z"
    },
    "papermill": {
     "duration": 0.153995,
     "end_time": "2020-11-12T20:07:13.299428",
     "exception": false,
     "start_time": "2020-11-12T20:07:13.145433",
     "status": "completed"
    },
    "tags": []
   },
   "outputs": [],
   "source": [
    "# creating a dictionary to decode the encoded labels (we could also use the inverse_transform method of the \n",
    "# LabelEncoder object)\n",
    "sent_oversample_map = {v: k for k, v in enumerate(sent_oversample_le.classes_)}\n",
    "no_oversample_map = {v: k for k, v in enumerate(no_oversample_le.classes_)}"
   ]
  },
  {
   "cell_type": "code",
   "execution_count": 32,
   "metadata": {
    "execution": {
     "iopub.execute_input": "2020-11-12T20:07:13.510907Z",
     "iopub.status.busy": "2020-11-12T20:07:13.510034Z",
     "iopub.status.idle": "2020-11-12T20:07:13.514825Z",
     "shell.execute_reply": "2020-11-12T20:07:13.515338Z"
    },
    "papermill": {
     "duration": 0.111368,
     "end_time": "2020-11-12T20:07:13.515476",
     "exception": false,
     "start_time": "2020-11-12T20:07:13.404108",
     "status": "completed"
    },
    "tags": []
   },
   "outputs": [
    {
     "data": {
      "text/plain": [
       "array([11,  7,  1])"
      ]
     },
     "execution_count": 32,
     "metadata": {},
     "output_type": "execute_result"
    }
   ],
   "source": [
    "sent_oversample_labels[:3]"
   ]
  },
  {
   "cell_type": "code",
   "execution_count": 33,
   "metadata": {
    "execution": {
     "iopub.execute_input": "2020-11-12T20:07:13.720391Z",
     "iopub.status.busy": "2020-11-12T20:07:13.719433Z",
     "iopub.status.idle": "2020-11-12T20:07:13.770125Z",
     "shell.execute_reply": "2020-11-12T20:07:13.769480Z"
    },
    "papermill": {
     "duration": 0.154738,
     "end_time": "2020-11-12T20:07:13.770258",
     "exception": false,
     "start_time": "2020-11-12T20:07:13.615520",
     "status": "completed"
    },
    "tags": []
   },
   "outputs": [],
   "source": [
    "sent_oversample_one_hot = OneHotEncoder(sparse=False)\n",
    "sent_oversample_labels2 = sent_oversample_one_hot.fit_transform(sent_oversample_labels.reshape(-1, 1))"
   ]
  },
  {
   "cell_type": "code",
   "execution_count": 34,
   "metadata": {
    "execution": {
     "iopub.execute_input": "2020-11-12T20:07:13.981668Z",
     "iopub.status.busy": "2020-11-12T20:07:13.980575Z",
     "iopub.status.idle": "2020-11-12T20:07:13.984173Z",
     "shell.execute_reply": "2020-11-12T20:07:13.984813Z"
    },
    "papermill": {
     "duration": 0.112954,
     "end_time": "2020-11-12T20:07:13.984973",
     "exception": false,
     "start_time": "2020-11-12T20:07:13.872019",
     "status": "completed"
    },
    "tags": []
   },
   "outputs": [
    {
     "data": {
      "text/plain": [
       "array([[0., 0., 0., 0., 0., 0., 0., 0., 0., 0., 0., 1., 0., 0., 0., 0.,\n",
       "        0., 0., 0., 0.],\n",
       "       [0., 0., 0., 0., 0., 0., 0., 1., 0., 0., 0., 0., 0., 0., 0., 0.,\n",
       "        0., 0., 0., 0.],\n",
       "       [0., 1., 0., 0., 0., 0., 0., 0., 0., 0., 0., 0., 0., 0., 0., 0.,\n",
       "        0., 0., 0., 0.]])"
      ]
     },
     "execution_count": 34,
     "metadata": {},
     "output_type": "execute_result"
    }
   ],
   "source": [
    "sent_oversample_labels2[:3]"
   ]
  },
  {
   "cell_type": "code",
   "execution_count": 35,
   "metadata": {
    "execution": {
     "iopub.execute_input": "2020-11-12T20:07:14.207622Z",
     "iopub.status.busy": "2020-11-12T20:07:14.206775Z",
     "iopub.status.idle": "2020-11-12T20:07:14.211200Z",
     "shell.execute_reply": "2020-11-12T20:07:14.211899Z"
    },
    "papermill": {
     "duration": 0.116244,
     "end_time": "2020-11-12T20:07:14.212043",
     "exception": false,
     "start_time": "2020-11-12T20:07:14.095799",
     "status": "completed"
    },
    "tags": []
   },
   "outputs": [
    {
     "name": "stdout",
     "output_type": "stream",
     "text": [
      "['please', 'é', 'do', 'do', 'is', 'runs', 'honey', 'well', 'ran', 'it', 'did', 'doing', 'he', 'fr', 'erben', 'müller', 'burggraef']\n"
     ]
    }
   ],
   "source": [
    "sample_text = \"Please! é don't Do isn't? runs honey-well ran: lo50 it did, 0.5 doiNg he 100 #fr @h... +234 \" + \\\n",
    "                \"me3 (Erben Müller-Burggraef).\"\n",
    "lst = []\n",
    "for p in nlp(sample_text):\n",
    "    if p.is_alpha:\n",
    "        lst.append(p.lower_)\n",
    "print(lst)"
   ]
  },
  {
   "cell_type": "markdown",
   "metadata": {
    "papermill": {
     "duration": 0.102961,
     "end_time": "2020-11-12T20:07:14.420037",
     "exception": false,
     "start_time": "2020-11-12T20:07:14.317076",
     "status": "completed"
    },
    "tags": []
   },
   "source": [
    "### we will encapsulate the above code in a list comprehension, and that will be our tokenizer function."
   ]
  },
  {
   "cell_type": "code",
   "execution_count": 36,
   "metadata": {
    "execution": {
     "iopub.execute_input": "2020-11-12T20:07:14.629688Z",
     "iopub.status.busy": "2020-11-12T20:07:14.628942Z",
     "iopub.status.idle": "2020-11-12T20:07:14.633496Z",
     "shell.execute_reply": "2020-11-12T20:07:14.632922Z"
    },
    "papermill": {
     "duration": 0.110094,
     "end_time": "2020-11-12T20:07:14.633592",
     "exception": false,
     "start_time": "2020-11-12T20:07:14.523498",
     "status": "completed"
    },
    "tags": []
   },
   "outputs": [],
   "source": [
    "spacy_stop_words = spacy.lang.en.STOP_WORDS # getting spacy's stop-words"
   ]
  },
  {
   "cell_type": "code",
   "execution_count": 37,
   "metadata": {
    "execution": {
     "iopub.execute_input": "2020-11-12T20:07:14.846196Z",
     "iopub.status.busy": "2020-11-12T20:07:14.845318Z",
     "iopub.status.idle": "2020-11-12T20:07:16.142104Z",
     "shell.execute_reply": "2020-11-12T20:07:16.141125Z"
    },
    "papermill": {
     "duration": 1.405864,
     "end_time": "2020-11-12T20:07:16.142271",
     "exception": false,
     "start_time": "2020-11-12T20:07:14.736407",
     "status": "completed"
    },
    "tags": []
   },
   "outputs": [],
   "source": [
    "response = requests.get('https://raw.github.com/Yoast/YoastSEO.js/develop/src/config/stopwords.js')\n",
    "yoast_stop_words = response.content.decode()"
   ]
  },
  {
   "cell_type": "code",
   "execution_count": 38,
   "metadata": {
    "execution": {
     "iopub.execute_input": "2020-11-12T20:07:16.358666Z",
     "iopub.status.busy": "2020-11-12T20:07:16.357769Z",
     "iopub.status.idle": "2020-11-12T20:07:16.362663Z",
     "shell.execute_reply": "2020-11-12T20:07:16.363185Z"
    },
    "papermill": {
     "duration": 0.115565,
     "end_time": "2020-11-12T20:07:16.363333",
     "exception": false,
     "start_time": "2020-11-12T20:07:16.247768",
     "status": "completed"
    },
    "tags": []
   },
   "outputs": [
    {
     "name": "stdout",
     "output_type": "stream",
     "text": [
      "length of yoast_stop_words is 153\n",
      "\n",
      "{'theirs', 'was', \"you're\", 'are', 'because', 'nor', \"they'll\", 'few', 'did', 'further', 'a', \"they've\", 'with', 'we', 'and', 'those', 'while', 'your', 'after', \"where's\", 'me', 'both', 'this', 'only', 'they', 'below', \"he'd\", 'has', \"you'll\", \"it's\", 'it', 'until', 'between', 'were', 'up', 'through', 'whom', 'ought', 'here', 'their', \"they'd\", 'do', \"i'm\", 'my', 'ourselves', 'for', 'all', 'her', 'would', 'when', 'against', 'yours', \"when's\", \"how's\", \"you've\", \"i've\", 'these', 'that', 'most', 'in', 'own', 'he', 'you', 'out', 'i', \"there's\", 'down', 'about', 'on', 'but', 'she', 'is', 'which', 'how', 'above', 'does', 'same', 'again', 'as', 'him', \"they're\", \"that's\", 'hers', 'than', \"she'd\", 'where', 'am', \"he's\", 'the', \"we'd\", 'of', \"she'll\", 'by', 'from', 'into', \"who's\", 'his', 'during', 'myself', 'its', 'our', 'at', 'itself', 'an', 'so', \"she's\", 'doing', 'more', 'had', 'once', \"i'll\", \"i'd\", 'some', 'yourselves', \"why's\", 'what', 'to', 'been', 'having', 'themselves', 'or', 'such', 'under', 'before', 'be', \"let's\", 'any', \"here's\", \"we're\", 'why', \"you'd\", 'too', 'ours', 'have', 'yourself', \"we've\", 'then', 'if', 'over', 'each', 'herself', 'them', 'other', 'should', 'who', 'being', 'very', \"we'll\", \"he'll\", 'himself', \"what's\", 'could', 'there'}\n"
     ]
    }
   ],
   "source": [
    "pattern = r'\\[.+\\]'\n",
    "match = re.search(pattern, yoast_stop_words)\n",
    "yoast_stop_words = set(match.group()[1:-1].replace('\"', '').replace(',', '').split())\n",
    "print(f'length of yoast_stop_words is {len(yoast_stop_words)}\\n')\n",
    "print(yoast_stop_words)"
   ]
  },
  {
   "cell_type": "code",
   "execution_count": 39,
   "metadata": {
    "execution": {
     "iopub.execute_input": "2020-11-12T20:07:16.596533Z",
     "iopub.status.busy": "2020-11-12T20:07:16.595571Z",
     "iopub.status.idle": "2020-11-12T20:07:16.598553Z",
     "shell.execute_reply": "2020-11-12T20:07:16.598033Z"
    },
    "papermill": {
     "duration": 0.132072,
     "end_time": "2020-11-12T20:07:16.598657",
     "exception": false,
     "start_time": "2020-11-12T20:07:16.466585",
     "status": "completed"
    },
    "tags": []
   },
   "outputs": [],
   "source": [
    "stop_words_lemma = {word.lemma_.lower() for word in nlp(' '.join(spacy_stop_words | yoast_stop_words))} | \\\n",
    "{'-pron-', '10', '12', 'aah', 'aa', 'ab', 'aaa', 'aand', '16', '2', '20', '30', '4', '40', '5', '6', '7', \\\n",
    " '8', '9'}"
   ]
  },
  {
   "cell_type": "code",
   "execution_count": null,
   "metadata": {
    "papermill": {
     "duration": 0.101904,
     "end_time": "2020-11-12T20:07:16.803902",
     "exception": false,
     "start_time": "2020-11-12T20:07:16.701998",
     "status": "completed"
    },
    "tags": []
   },
   "outputs": [],
   "source": []
  },
  {
   "cell_type": "markdown",
   "metadata": {
    "papermill": {
     "duration": 0.104207,
     "end_time": "2020-11-12T20:07:17.011252",
     "exception": false,
     "start_time": "2020-11-12T20:07:16.907045",
     "status": "completed"
    },
    "tags": []
   },
   "source": [
    "### After tokenizer, there is a weird word '-pron-' that appears probably because spacy lemmatizers some pronouns as '-pron-'. So numbers strangely still appeared after tokenizing (and double tokenizing)...it may be due to a bug in spacy. We wil include these to our stop-words. and lemmatize our stop words since we are lemmatizing our tokens."
   ]
  },
  {
   "cell_type": "code",
   "execution_count": 40,
   "metadata": {
    "execution": {
     "iopub.execute_input": "2020-11-12T20:07:17.226119Z",
     "iopub.status.busy": "2020-11-12T20:07:17.225280Z",
     "iopub.status.idle": "2020-11-12T20:07:17.229293Z",
     "shell.execute_reply": "2020-11-12T20:07:17.228695Z"
    },
    "papermill": {
     "duration": 0.113283,
     "end_time": "2020-11-12T20:07:17.229405",
     "exception": false,
     "start_time": "2020-11-12T20:07:17.116122",
     "status": "completed"
    },
    "tags": []
   },
   "outputs": [],
   "source": [
    "# defining tokenzer function to tokenize the lower case lemma of documents in a corpus and \n",
    "# filter out stop-words  \n",
    "def tokenizer(text):\n",
    "    return [word.lemma_.lower() for word in nlp(text) if word.is_alpha and word.lemma_.lower() \\\n",
    "                not in stop_words_lemma]"
   ]
  },
  {
   "cell_type": "markdown",
   "metadata": {
    "papermill": {
     "duration": 0.105225,
     "end_time": "2020-11-12T20:07:17.438914",
     "exception": false,
     "start_time": "2020-11-12T20:07:17.333689",
     "status": "completed"
    },
    "tags": []
   },
   "source": [
    "## Word2vec"
   ]
  },
  {
   "cell_type": "markdown",
   "metadata": {
    "papermill": {
     "duration": 0.104638,
     "end_time": "2020-11-12T20:07:17.649566",
     "exception": false,
     "start_time": "2020-11-12T20:07:17.544928",
     "status": "completed"
    },
    "tags": []
   },
   "source": [
    "### Word2vec converts each word to an n-dimensional vector by using neural network to encode the context usage of words in a sentence. It is advantageous than Tfidf because it takes context into consideration. For this notebook, we will encoding into a 300 dimensional vector with the continuous bag of words (CBOW) strategy (default) on a window size of 5 (default) which seems to be the best for our data."
   ]
  },
  {
   "cell_type": "code",
   "execution_count": 41,
   "metadata": {
    "execution": {
     "iopub.execute_input": "2020-11-12T20:07:17.859426Z",
     "iopub.status.busy": "2020-11-12T20:07:17.858566Z",
     "iopub.status.idle": "2020-11-12T20:07:18.090606Z",
     "shell.execute_reply": "2020-11-12T20:07:18.089932Z"
    },
    "papermill": {
     "duration": 0.338509,
     "end_time": "2020-11-12T20:07:18.090720",
     "exception": false,
     "start_time": "2020-11-12T20:07:17.752211",
     "status": "completed"
    },
    "tags": []
   },
   "outputs": [],
   "source": [
    "from gensim.models import Word2Vec # importing Word2Vec"
   ]
  },
  {
   "cell_type": "code",
   "execution_count": 42,
   "metadata": {
    "execution": {
     "iopub.execute_input": "2020-11-12T20:07:18.308305Z",
     "iopub.status.busy": "2020-11-12T20:07:18.307499Z",
     "iopub.status.idle": "2020-11-12T20:07:18.310021Z",
     "shell.execute_reply": "2020-11-12T20:07:18.310526Z"
    },
    "papermill": {
     "duration": 0.114229,
     "end_time": "2020-11-12T20:07:18.310664",
     "exception": false,
     "start_time": "2020-11-12T20:07:18.196435",
     "status": "completed"
    },
    "tags": []
   },
   "outputs": [],
   "source": [
    "# defining a function to return the mean word2vec vectors of words in a review (document) as the document vector \n",
    "def get_doc_vector(model, doc):\n",
    "    return np.mean([model[word] for word in doc if word in model.wv.vocab], axis=0)"
   ]
  },
  {
   "cell_type": "markdown",
   "metadata": {
    "papermill": {
     "duration": 0.103808,
     "end_time": "2020-11-12T20:07:18.522196",
     "exception": false,
     "start_time": "2020-11-12T20:07:18.418388",
     "status": "completed"
    },
    "tags": []
   },
   "source": [
    "### First, let's make a corpus where each document is ````description```` plus ````not_vintage````"
   ]
  },
  {
   "cell_type": "markdown",
   "metadata": {
    "papermill": {
     "duration": 0.104528,
     "end_time": "2020-11-12T20:07:18.729694",
     "exception": false,
     "start_time": "2020-11-12T20:07:18.625166",
     "status": "completed"
    },
    "tags": []
   },
   "source": [
    "## Step 4"
   ]
  },
  {
   "cell_type": "code",
   "execution_count": 43,
   "metadata": {
    "execution": {
     "iopub.execute_input": "2020-11-12T20:07:18.944153Z",
     "iopub.status.busy": "2020-11-12T20:07:18.943436Z",
     "iopub.status.idle": "2020-11-12T20:07:23.782215Z",
     "shell.execute_reply": "2020-11-12T20:07:23.783389Z"
    },
    "papermill": {
     "duration": 4.949684,
     "end_time": "2020-11-12T20:07:23.783606",
     "exception": false,
     "start_time": "2020-11-12T20:07:18.833922",
     "status": "completed"
    },
    "tags": []
   },
   "outputs": [],
   "source": [
    "import tensorflow as tf\n",
    "from tensorflow.keras.preprocessing.text import Tokenizer"
   ]
  },
  {
   "cell_type": "code",
   "execution_count": 44,
   "metadata": {
    "execution": {
     "iopub.execute_input": "2020-11-12T20:07:24.095342Z",
     "iopub.status.busy": "2020-11-12T20:07:24.094300Z",
     "iopub.status.idle": "2020-11-12T20:08:35.223968Z",
     "shell.execute_reply": "2020-11-12T20:08:35.224765Z"
    },
    "papermill": {
     "duration": 71.29572,
     "end_time": "2020-11-12T20:08:35.224980",
     "exception": false,
     "start_time": "2020-11-12T20:07:23.929260",
     "status": "completed"
    },
    "tags": []
   },
   "outputs": [
    {
     "name": "stdout",
     "output_type": "stream",
     "text": [
      "['weight solid powerful core spice bake apple flavor france alsace alsace domaine marcel deiss', 'structure develope wine need age france alsace alsace domaine marcel deiss', 'drink france alsace alsace domaine marcel deiss']\n"
     ]
    }
   ],
   "source": [
    "# tokenize (lemmatize and filter stop words) corpus \n",
    "sent_oversample_corpus1 = [' '.join(tokenizer(doc)) for doc in sent_oversample_corpus] \n",
    "print(sent_oversample_corpus1[-3:])"
   ]
  },
  {
   "cell_type": "code",
   "execution_count": 45,
   "metadata": {
    "execution": {
     "iopub.execute_input": "2020-11-12T20:08:35.550603Z",
     "iopub.status.busy": "2020-11-12T20:08:35.545477Z",
     "iopub.status.idle": "2020-11-12T20:08:41.640332Z",
     "shell.execute_reply": "2020-11-12T20:08:41.639419Z"
    },
    "papermill": {
     "duration": 6.260998,
     "end_time": "2020-11-12T20:08:41.640481",
     "exception": false,
     "start_time": "2020-11-12T20:08:35.379483",
     "status": "completed"
    },
    "tags": []
   },
   "outputs": [
    {
     "name": "stdout",
     "output_type": "stream",
     "text": [
      "vocab size (number of unique words + 1) is 39563\n"
     ]
    }
   ],
   "source": [
    "sequence_tokenizer = Tokenizer()\n",
    "sequence_tokenizer.fit_on_texts(sent_oversample_corpus1)\n",
    "\n",
    "words_indices = sequence_tokenizer.word_index\n",
    "\n",
    "print('vocab size (number of unique words + 1) is {}'.format(len(words_indices) + 1))  \n",
    "# Adding 1 because of reserved 0 index"
   ]
  },
  {
   "cell_type": "code",
   "execution_count": null,
   "metadata": {
    "papermill": {
     "duration": 0.105436,
     "end_time": "2020-11-12T20:08:41.850056",
     "exception": false,
     "start_time": "2020-11-12T20:08:41.744620",
     "status": "completed"
    },
    "tags": []
   },
   "outputs": [],
   "source": []
  },
  {
   "cell_type": "code",
   "execution_count": 46,
   "metadata": {
    "execution": {
     "iopub.execute_input": "2020-11-12T20:08:42.102017Z",
     "iopub.status.busy": "2020-11-12T20:08:42.086632Z",
     "iopub.status.idle": "2020-11-12T20:08:46.990200Z",
     "shell.execute_reply": "2020-11-12T20:08:46.991148Z"
    },
    "papermill": {
     "duration": 5.035561,
     "end_time": "2020-11-12T20:08:46.991344",
     "exception": false,
     "start_time": "2020-11-12T20:08:41.955783",
     "status": "completed"
    },
    "tags": []
   },
   "outputs": [
    {
     "name": "stdout",
     "output_type": "stream",
     "text": [
      "weight solid powerful core spice bake apple flavor france alsace alsace domaine marcel deiss\n",
      "\n",
      "[211, 209, 280, 212, 30, 133, 52, 7, 9, 99, 99, 80, 4049, 7437]\n"
     ]
    }
   ],
   "source": [
    "sent_oversample_corpus2 = sequence_tokenizer.texts_to_sequences(sent_oversample_corpus1)\n",
    "print(sent_oversample_corpus1[-3])\n",
    "print()\n",
    "print(sent_oversample_corpus2[-3])"
   ]
  },
  {
   "cell_type": "markdown",
   "metadata": {
    "papermill": {
     "duration": 0.223174,
     "end_time": "2020-11-12T20:08:47.321052",
     "exception": false,
     "start_time": "2020-11-12T20:08:47.097878",
     "status": "completed"
    },
    "tags": []
   },
   "source": [
    "## Padding: All wine review won't have the same number of words, for this reason, we will use a sequence length equal to the number of words the review with the maximum number of words has. For review word count lesser than this, we will fill (pad) with zeros."
   ]
  },
  {
   "cell_type": "code",
   "execution_count": 47,
   "metadata": {
    "execution": {
     "iopub.execute_input": "2020-11-12T20:08:47.686153Z",
     "iopub.status.busy": "2020-11-12T20:08:47.684764Z",
     "iopub.status.idle": "2020-11-12T20:08:47.740909Z",
     "shell.execute_reply": "2020-11-12T20:08:47.742154Z"
    },
    "papermill": {
     "duration": 0.219082,
     "end_time": "2020-11-12T20:08:47.742374",
     "exception": false,
     "start_time": "2020-11-12T20:08:47.523292",
     "status": "completed"
    },
    "tags": []
   },
   "outputs": [],
   "source": [
    "from keras.preprocessing.sequence import pad_sequences"
   ]
  },
  {
   "cell_type": "code",
   "execution_count": 48,
   "metadata": {
    "execution": {
     "iopub.execute_input": "2020-11-12T20:08:48.114384Z",
     "iopub.status.busy": "2020-11-12T20:08:48.068218Z",
     "iopub.status.idle": "2020-11-12T20:08:49.986651Z",
     "shell.execute_reply": "2020-11-12T20:08:49.986065Z"
    },
    "papermill": {
     "duration": 2.077428,
     "end_time": "2020-11-12T20:08:49.986771",
     "exception": false,
     "start_time": "2020-11-12T20:08:47.909343",
     "status": "completed"
    },
    "tags": []
   },
   "outputs": [
    {
     "data": {
      "text/plain": [
       "array([ 211,  209,  280,  212,   30,  133,   52,    7,    9,   99,   99,\n",
       "         80, 4049, 7437,    0,    0,    0,    0,    0,    0,    0,    0,\n",
       "          0,    0,    0,    0,    0,    0,    0,    0,    0,    0,    0,\n",
       "          0,    0,    0,    0,    0,    0,    0,    0,    0,    0,    0,\n",
       "          0,    0,    0,    0,    0,    0,    0,    0,    0,    0,    0,\n",
       "          0,    0,    0,    0,    0,    0,    0,    0,    0,    0,    0,\n",
       "          0,    0,    0,    0,    0,    0,    0,    0,    0,    0,    0,\n",
       "          0,    0,    0,    0,    0,    0,    0,    0,    0,    0],\n",
       "      dtype=int32)"
      ]
     },
     "execution_count": 48,
     "metadata": {},
     "output_type": "execute_result"
    }
   ],
   "source": [
    "sent_oversample_corpus3 = pad_sequences(sent_oversample_corpus2, padding='post')\n",
    "sent_oversample_corpus3[-3]"
   ]
  },
  {
   "cell_type": "markdown",
   "metadata": {
    "papermill": {
     "duration": 0.105834,
     "end_time": "2020-11-12T20:08:50.201199",
     "exception": false,
     "start_time": "2020-11-12T20:08:50.095365",
     "status": "completed"
    },
    "tags": []
   },
   "source": [
    "## Training word2vec"
   ]
  },
  {
   "cell_type": "code",
   "execution_count": 49,
   "metadata": {
    "execution": {
     "iopub.execute_input": "2020-11-12T20:08:50.444827Z",
     "iopub.status.busy": "2020-11-12T20:08:50.443920Z",
     "iopub.status.idle": "2020-11-12T20:10:00.815779Z",
     "shell.execute_reply": "2020-11-12T20:10:00.816537Z"
    },
    "papermill": {
     "duration": 70.488105,
     "end_time": "2020-11-12T20:10:00.816693",
     "exception": false,
     "start_time": "2020-11-12T20:08:50.328588",
     "status": "completed"
    },
    "tags": []
   },
   "outputs": [
    {
     "name": "stdout",
     "output_type": "stream",
     "text": [
      "[['pineapple', 'rind', 'lemon', 'pith', 'orange', 'blossom', 'start', 'aroma', 'palate', 'bite', 'opulent', 'note', 'honey', 'drizzle', 'guava', 'mango', 'way', 'slightly', 'astringent', 'semidry', 'finish', 'united', 'states', 'america', 'reserve', 'late', 'harvest', 'michigan', 'lake', 'michigan', 'shore', 'julian'], ['like', 'regular', 'bottle', 'come', 'rough', 'tannic', 'rustic', 'earthy', 'herbal', 'characteristic', 'nonetheless', 'think', 'pleasantly', 'unfussy', 'country', 'wine', 'companion', 'hearty', 'winter', 'stew', 'united', 'states', 'america', 'vintner', 'reserve', 'wild', 'child', 'block', 'oregon', 'willamette', 'valley', 'willamette', 'valley', 'sweet', 'cheeks']]\n"
     ]
    }
   ],
   "source": [
    "sent_oversample_corpus4 = [tokenizer(doc) for doc in sent_oversample_corpus] # gets corpus as a list of lists\n",
    "print(sent_oversample_corpus4[:2])"
   ]
  },
  {
   "cell_type": "code",
   "execution_count": 50,
   "metadata": {
    "execution": {
     "iopub.execute_input": "2020-11-12T20:10:01.068603Z",
     "iopub.status.busy": "2020-11-12T20:10:01.053189Z",
     "iopub.status.idle": "2020-11-12T20:11:49.589849Z",
     "shell.execute_reply": "2020-11-12T20:11:49.590621Z"
    },
    "papermill": {
     "duration": 108.669233,
     "end_time": "2020-11-12T20:11:49.590802",
     "exception": false,
     "start_time": "2020-11-12T20:10:00.921569",
     "status": "completed"
    },
    "tags": []
   },
   "outputs": [
    {
     "name": "stdout",
     "output_type": "stream",
     "text": [
      "Word2Vec(vocab=39562, size=300, alpha=0.025)\n"
     ]
    }
   ],
   "source": [
    "# trains sent_oversample_corpus2 on Word2Vec. For sent_oversample_corpus2, min_count of 5 and iter (epoch) of 10 \n",
    "# seems to be the best\n",
    "sent_w2v_model = Word2Vec(sent_oversample_corpus4, size=300, min_count=1, iter=10)\n",
    "\n",
    "print(sent_w2v_model) # sumarizes the word2vec"
   ]
  },
  {
   "cell_type": "code",
   "execution_count": 51,
   "metadata": {
    "execution": {
     "iopub.execute_input": "2020-11-12T20:11:49.928177Z",
     "iopub.status.busy": "2020-11-12T20:11:49.927147Z",
     "iopub.status.idle": "2020-11-12T20:11:49.934497Z",
     "shell.execute_reply": "2020-11-12T20:11:49.935255Z"
    },
    "papermill": {
     "duration": 0.171604,
     "end_time": "2020-11-12T20:11:49.935440",
     "exception": false,
     "start_time": "2020-11-12T20:11:49.763836",
     "status": "completed"
    },
    "tags": []
   },
   "outputs": [],
   "source": [
    "# getting the word2vec embeddings (vectors) of the corpus as input array\n",
    "#words_vectors = np.array([get_doc_vector(sent_w2v_model, doc) for doc in sent_oversample_corpus2])"
   ]
  },
  {
   "cell_type": "code",
   "execution_count": 52,
   "metadata": {
    "execution": {
     "iopub.execute_input": "2020-11-12T20:11:50.250300Z",
     "iopub.status.busy": "2020-11-12T20:11:50.249363Z",
     "iopub.status.idle": "2020-11-12T20:11:50.254633Z",
     "shell.execute_reply": "2020-11-12T20:11:50.255340Z"
    },
    "papermill": {
     "duration": 0.160341,
     "end_time": "2020-11-12T20:11:50.255512",
     "exception": false,
     "start_time": "2020-11-12T20:11:50.095171",
     "status": "completed"
    },
    "tags": []
   },
   "outputs": [
    {
     "data": {
      "text/plain": [
       "(300,)"
      ]
     },
     "execution_count": 52,
     "metadata": {},
     "output_type": "execute_result"
    }
   ],
   "source": [
    "sent_w2v_model['pineapple'].shape # confirms the dimension of our embedding"
   ]
  },
  {
   "cell_type": "markdown",
   "metadata": {
    "papermill": {
     "duration": 0.14535,
     "end_time": "2020-11-12T20:11:50.544008",
     "exception": false,
     "start_time": "2020-11-12T20:11:50.398658",
     "status": "completed"
    },
    "tags": []
   },
   "source": [
    "### Let's see some Word2Vec magic to boost our confidence in our trained word2vec model"
   ]
  },
  {
   "cell_type": "code",
   "execution_count": 53,
   "metadata": {
    "execution": {
     "iopub.execute_input": "2020-11-12T20:11:50.798316Z",
     "iopub.status.busy": "2020-11-12T20:11:50.796540Z",
     "iopub.status.idle": "2020-11-12T20:11:50.862390Z",
     "shell.execute_reply": "2020-11-12T20:11:50.862946Z"
    },
    "papermill": {
     "duration": 0.180698,
     "end_time": "2020-11-12T20:11:50.863091",
     "exception": false,
     "start_time": "2020-11-12T20:11:50.682393",
     "status": "completed"
    },
    "tags": []
   },
   "outputs": [
    {
     "data": {
      "text/plain": [
       "'italy'"
      ]
     },
     "execution_count": 53,
     "metadata": {},
     "output_type": "execute_result"
    }
   ],
   "source": [
    "# picking out the odd word\n",
    "sent_w2v_model.wv.doesnt_match(['cherry', 'italy', 'apple', 'pineapple', 'tangerine'])"
   ]
  },
  {
   "cell_type": "code",
   "execution_count": 54,
   "metadata": {
    "execution": {
     "iopub.execute_input": "2020-11-12T20:11:51.118187Z",
     "iopub.status.busy": "2020-11-12T20:11:51.117123Z",
     "iopub.status.idle": "2020-11-12T20:11:51.121138Z",
     "shell.execute_reply": "2020-11-12T20:11:51.121781Z"
    },
    "papermill": {
     "duration": 0.121008,
     "end_time": "2020-11-12T20:11:51.121974",
     "exception": false,
     "start_time": "2020-11-12T20:11:51.000966",
     "status": "completed"
    },
    "tags": []
   },
   "outputs": [
    {
     "data": {
      "text/plain": [
       "'france'"
      ]
     },
     "execution_count": 54,
     "metadata": {},
     "output_type": "execute_result"
    }
   ],
   "source": [
    "# picking out the odd word\n",
    "sent_w2v_model.wv.doesnt_match(['arizona', 'france', 'michigan', 'texas', 'pennsylvania'])"
   ]
  },
  {
   "cell_type": "code",
   "execution_count": 55,
   "metadata": {
    "execution": {
     "iopub.execute_input": "2020-11-12T20:11:51.374772Z",
     "iopub.status.busy": "2020-11-12T20:11:51.373998Z",
     "iopub.status.idle": "2020-11-12T20:11:51.386801Z",
     "shell.execute_reply": "2020-11-12T20:11:51.385904Z"
    },
    "papermill": {
     "duration": 0.147245,
     "end_time": "2020-11-12T20:11:51.386901",
     "exception": false,
     "start_time": "2020-11-12T20:11:51.239656",
     "status": "completed"
    },
    "tags": []
   },
   "outputs": [
    {
     "data": {
      "text/plain": [
       "'Estremadura'"
      ]
     },
     "execution_count": 55,
     "metadata": {},
     "output_type": "execute_result"
    }
   ],
   "source": [
    "# let's see a random province in Portugal\n",
    "balanced_df[balanced_df['country'] == 'Portugal']['province'].unique()[0]"
   ]
  },
  {
   "cell_type": "code",
   "execution_count": 56,
   "metadata": {
    "execution": {
     "iopub.execute_input": "2020-11-12T20:11:51.625659Z",
     "iopub.status.busy": "2020-11-12T20:11:51.624778Z",
     "iopub.status.idle": "2020-11-12T20:11:51.630936Z",
     "shell.execute_reply": "2020-11-12T20:11:51.630316Z"
    },
    "papermill": {
     "duration": 0.139993,
     "end_time": "2020-11-12T20:11:51.631036",
     "exception": false,
     "start_time": "2020-11-12T20:11:51.491043",
     "status": "completed"
    },
    "tags": []
   },
   "outputs": [
    {
     "data": {
      "text/plain": [
       "array(['British Columbia', 'Ontario'], dtype=object)"
      ]
     },
     "execution_count": 56,
     "metadata": {},
     "output_type": "execute_result"
    }
   ],
   "source": [
    "#provinces in Canada\n",
    "balanced_df[balanced_df['country'] == 'Canada']['province'].unique()"
   ]
  },
  {
   "cell_type": "code",
   "execution_count": 57,
   "metadata": {
    "execution": {
     "iopub.execute_input": "2020-11-12T20:11:51.843848Z",
     "iopub.status.busy": "2020-11-12T20:11:51.842499Z",
     "iopub.status.idle": "2020-11-12T20:11:51.852844Z",
     "shell.execute_reply": "2020-11-12T20:11:51.853442Z"
    },
    "papermill": {
     "duration": 0.118392,
     "end_time": "2020-11-12T20:11:51.853581",
     "exception": false,
     "start_time": "2020-11-12T20:11:51.735189",
     "status": "completed"
    },
    "tags": []
   },
   "outputs": [
    {
     "name": "stdout",
     "output_type": "stream",
     "text": [
      "[('canada', 0.5424488186836243), ('austria', 0.41617709398269653), ('germany', 0.40679845213890076), ('france', 0.383762389421463), ('hedgerow', 0.37560054659843445), ('right', 0.34819576144218445), ('emphasize', 0.33922499418258667), ('intensely', 0.33312445878982544), ('stylish', 0.33024829626083374), ('lethargic', 0.32343965768814087)]\n"
     ]
    }
   ],
   "source": [
    "# just like king - man + woman = queen, we want to prove that portugal - estremadura + ontario = canada\n",
    "print(sent_w2v_model.wv.most_similar(positive=['portugal', 'ontario'], negative=['estremadura']))"
   ]
  },
  {
   "cell_type": "markdown",
   "metadata": {
    "papermill": {
     "duration": 0.117926,
     "end_time": "2020-11-12T20:11:52.082429",
     "exception": false,
     "start_time": "2020-11-12T20:11:51.964503",
     "status": "completed"
    },
    "tags": []
   },
   "source": [
    "### From the result above, 'Canada' is our model's best answer"
   ]
  },
  {
   "cell_type": "code",
   "execution_count": 58,
   "metadata": {
    "execution": {
     "iopub.execute_input": "2020-11-12T20:11:52.305561Z",
     "iopub.status.busy": "2020-11-12T20:11:52.304189Z",
     "iopub.status.idle": "2020-11-12T20:11:52.313637Z",
     "shell.execute_reply": "2020-11-12T20:11:52.313062Z"
    },
    "papermill": {
     "duration": 0.117624,
     "end_time": "2020-11-12T20:11:52.313736",
     "exception": false,
     "start_time": "2020-11-12T20:11:52.196112",
     "status": "completed"
    },
    "tags": []
   },
   "outputs": [
    {
     "name": "stdout",
     "output_type": "stream",
     "text": [
      "[('scent', 0.7939147353172302), ('aromas', 0.740172266960144), ('bouquet', 0.6753575801849365), ('note', 0.6243996620178223), ('smell', 0.5944929718971252), ('nose', 0.5862178802490234), ('fragrance', 0.5699716210365295), ('flavors', 0.5643193125724792), ('whiff', 0.5482006072998047), ('mix', 0.5271143913269043)]\n"
     ]
    }
   ],
   "source": [
    "# let's see the most similar words to 'aroma'\n",
    "print(sent_w2v_model.wv.most_similar('aroma'))"
   ]
  },
  {
   "cell_type": "code",
   "execution_count": 59,
   "metadata": {
    "execution": {
     "iopub.execute_input": "2020-11-12T20:11:52.528854Z",
     "iopub.status.busy": "2020-11-12T20:11:52.526934Z",
     "iopub.status.idle": "2020-11-12T20:11:52.536372Z",
     "shell.execute_reply": "2020-11-12T20:11:52.537057Z"
    },
    "papermill": {
     "duration": 0.119817,
     "end_time": "2020-11-12T20:11:52.537187",
     "exception": false,
     "start_time": "2020-11-12T20:11:52.417370",
     "status": "completed"
    },
    "tags": []
   },
   "outputs": [
    {
     "name": "stdout",
     "output_type": "stream",
     "text": [
      "[('tangerine', 0.6724633574485779), ('nasturtium', 0.6068532466888428), ('lemon', 0.6018402576446533), ('citrus', 0.5880270600318909), ('watermelon', 0.5184085965156555), ('nectarine', 0.5143868923187256), ('wakeup', 0.5094265937805176), ('guava', 0.4990750253200531), ('grapefruit', 0.4981709420681), ('bergamot', 0.4938284754753113)]\n"
     ]
    }
   ],
   "source": [
    "# let's see the most similar words to 'orange'\n",
    "print(sent_w2v_model.wv.most_similar('orange'))"
   ]
  },
  {
   "cell_type": "markdown",
   "metadata": {
    "papermill": {
     "duration": 0.115656,
     "end_time": "2020-11-12T20:11:52.765391",
     "exception": false,
     "start_time": "2020-11-12T20:11:52.649735",
     "status": "completed"
    },
    "tags": []
   },
   "source": [
    "### Word2Vec is powerful in capturing contexual semantics of words. Our Word2Vec model is doing that just right to a large extent."
   ]
  },
  {
   "cell_type": "code",
   "execution_count": null,
   "metadata": {
    "papermill": {
     "duration": 0.133168,
     "end_time": "2020-11-12T20:11:53.010661",
     "exception": false,
     "start_time": "2020-11-12T20:11:52.877493",
     "status": "completed"
    },
    "tags": []
   },
   "outputs": [],
   "source": []
  },
  {
   "cell_type": "code",
   "execution_count": 60,
   "metadata": {
    "execution": {
     "iopub.execute_input": "2020-11-12T20:11:53.342996Z",
     "iopub.status.busy": "2020-11-12T20:11:53.341843Z",
     "iopub.status.idle": "2020-11-12T20:11:53.344820Z",
     "shell.execute_reply": "2020-11-12T20:11:53.343943Z"
    },
    "papermill": {
     "duration": 0.169791,
     "end_time": "2020-11-12T20:11:53.344984",
     "exception": false,
     "start_time": "2020-11-12T20:11:53.175193",
     "status": "completed"
    },
    "tags": []
   },
   "outputs": [],
   "source": [
    "assert len(words_indices) == len(sent_w2v_model.wv.vocab)"
   ]
  },
  {
   "cell_type": "markdown",
   "metadata": {
    "papermill": {
     "duration": 0.152063,
     "end_time": "2020-11-12T20:11:53.659497",
     "exception": false,
     "start_time": "2020-11-12T20:11:53.507434",
     "status": "completed"
    },
    "tags": []
   },
   "source": [
    "## Modelling"
   ]
  },
  {
   "cell_type": "markdown",
   "metadata": {
    "papermill": {
     "duration": 0.106817,
     "end_time": "2020-11-12T20:11:53.914599",
     "exception": false,
     "start_time": "2020-11-12T20:11:53.807782",
     "status": "completed"
    },
    "tags": []
   },
   "source": [
    "### Defining a function that creates an embedding matrix"
   ]
  },
  {
   "cell_type": "code",
   "execution_count": 61,
   "metadata": {
    "execution": {
     "iopub.execute_input": "2020-11-12T20:11:54.144649Z",
     "iopub.status.busy": "2020-11-12T20:11:54.143752Z",
     "iopub.status.idle": "2020-11-12T20:11:54.146463Z",
     "shell.execute_reply": "2020-11-12T20:11:54.145981Z"
    },
    "papermill": {
     "duration": 0.118,
     "end_time": "2020-11-12T20:11:54.146563",
     "exception": false,
     "start_time": "2020-11-12T20:11:54.028563",
     "status": "completed"
    },
    "tags": []
   },
   "outputs": [],
   "source": [
    "def get_embedding_matrix(model, word_index):\n",
    "    vocab_size = len(word_index) + 1\n",
    "    embedding_dim = model.wv.vector_size\n",
    "    embedding_matrix = np.zeros((vocab_size, embedding_dim))\n",
    "    \n",
    "    for word in model.wv.vocab:\n",
    "        ind = word_index[word]\n",
    "        embedding_matrix[ind] = model[word]\n",
    "        \n",
    "    return embedding_matrix"
   ]
  },
  {
   "cell_type": "code",
   "execution_count": 62,
   "metadata": {
    "execution": {
     "iopub.execute_input": "2020-11-12T20:11:54.372487Z",
     "iopub.status.busy": "2020-11-12T20:11:54.371560Z",
     "iopub.status.idle": "2020-11-12T20:11:54.828375Z",
     "shell.execute_reply": "2020-11-12T20:11:54.827189Z"
    },
    "papermill": {
     "duration": 0.575891,
     "end_time": "2020-11-12T20:11:54.828518",
     "exception": false,
     "start_time": "2020-11-12T20:11:54.252627",
     "status": "completed"
    },
    "tags": []
   },
   "outputs": [],
   "source": [
    "embedding_matrix = get_embedding_matrix(sent_w2v_model, words_indices)"
   ]
  },
  {
   "cell_type": "code",
   "execution_count": 63,
   "metadata": {
    "execution": {
     "iopub.execute_input": "2020-11-12T20:11:55.106359Z",
     "iopub.status.busy": "2020-11-12T20:11:55.104953Z",
     "iopub.status.idle": "2020-11-12T20:11:55.108877Z",
     "shell.execute_reply": "2020-11-12T20:11:55.109653Z"
    },
    "papermill": {
     "duration": 0.169434,
     "end_time": "2020-11-12T20:11:55.109804",
     "exception": false,
     "start_time": "2020-11-12T20:11:54.940370",
     "status": "completed"
    },
    "tags": []
   },
   "outputs": [
    {
     "data": {
      "text/plain": [
       "(39563, 300)"
      ]
     },
     "execution_count": 63,
     "metadata": {},
     "output_type": "execute_result"
    }
   ],
   "source": [
    "embedding_matrix.shape"
   ]
  },
  {
   "cell_type": "markdown",
   "metadata": {
    "papermill": {
     "duration": 0.106746,
     "end_time": "2020-11-12T20:11:55.333620",
     "exception": false,
     "start_time": "2020-11-12T20:11:55.226874",
     "status": "completed"
    },
    "tags": []
   },
   "source": [
    "### defining custom fbeta function"
   ]
  },
  {
   "cell_type": "code",
   "execution_count": 64,
   "metadata": {
    "execution": {
     "iopub.execute_input": "2020-11-12T20:11:55.570069Z",
     "iopub.status.busy": "2020-11-12T20:11:55.568613Z",
     "iopub.status.idle": "2020-11-12T20:11:55.570884Z",
     "shell.execute_reply": "2020-11-12T20:11:55.571596Z"
    },
    "papermill": {
     "duration": 0.131786,
     "end_time": "2020-11-12T20:11:55.571729",
     "exception": false,
     "start_time": "2020-11-12T20:11:55.439943",
     "status": "completed"
    },
    "tags": []
   },
   "outputs": [],
   "source": [
    "def multi_class_fbeta(ytrue , ypred, beta=1, weighted=True, raw=False, epsilon=1e-7):\n",
    "    beta_squared = beta**2\n",
    "\n",
    "    ytrue = tf.cast(ytrue, tf.float32)\n",
    "    ypred= tf.cast(ypred, tf.float32)\n",
    "    \n",
    "    max_prob = tf.reduce_max(ypred, axis=-1, keepdims=True)\n",
    "    ypred = tf.cast(tf.equal(ypred, max_prob), tf.float32)\n",
    "        \n",
    "    tp = tf.reduce_sum(ytrue*ypred, axis=0)\n",
    "    predicted_positive = tf.reduce_sum(ypred, axis=0)\n",
    "    actual_positive = tf.reduce_sum(ytrue, axis=0)\n",
    "    \n",
    "    precision = tp/(predicted_positive+epsilon)\n",
    "    recall = tp/(actual_positive+epsilon)\n",
    "\n",
    "    fb = (1+beta_squared)*precision*recall / (beta_squared*precision + recall + epsilon)\n",
    "    \n",
    "    if raw:\n",
    "        return fb\n",
    "    \n",
    "    if weighted:\n",
    "        supports = tf.reduce_sum(ytrue, axis=0)\n",
    "        return tf.reduce_sum(fb*supports / tf.reduce_sum(supports))\n",
    "\n",
    "    return tf.reduce_mean(fb)"
   ]
  },
  {
   "cell_type": "markdown",
   "metadata": {
    "papermill": {
     "duration": 0.103423,
     "end_time": "2020-11-12T20:11:55.779446",
     "exception": false,
     "start_time": "2020-11-12T20:11:55.676023",
     "status": "completed"
    },
    "tags": []
   },
   "source": [
    "### setting class weights"
   ]
  },
  {
   "cell_type": "code",
   "execution_count": 65,
   "metadata": {
    "execution": {
     "iopub.execute_input": "2020-11-12T20:11:55.994766Z",
     "iopub.status.busy": "2020-11-12T20:11:55.993911Z",
     "iopub.status.idle": "2020-11-12T20:11:55.997272Z",
     "shell.execute_reply": "2020-11-12T20:11:55.996714Z"
    },
    "papermill": {
     "duration": 0.113126,
     "end_time": "2020-11-12T20:11:55.997393",
     "exception": false,
     "start_time": "2020-11-12T20:11:55.884267",
     "status": "completed"
    },
    "tags": []
   },
   "outputs": [],
   "source": [
    "from sklearn.utils import class_weight"
   ]
  },
  {
   "cell_type": "code",
   "execution_count": 66,
   "metadata": {
    "execution": {
     "iopub.execute_input": "2020-11-12T20:11:56.259878Z",
     "iopub.status.busy": "2020-11-12T20:11:56.258961Z",
     "iopub.status.idle": "2020-11-12T20:11:56.273150Z",
     "shell.execute_reply": "2020-11-12T20:11:56.272661Z"
    },
    "papermill": {
     "duration": 0.168765,
     "end_time": "2020-11-12T20:11:56.273267",
     "exception": false,
     "start_time": "2020-11-12T20:11:56.104502",
     "status": "completed"
    },
    "tags": []
   },
   "outputs": [],
   "source": [
    "class_weights = class_weight.compute_class_weight('balanced', np.arange(20), sent_oversample_labels)\n",
    "class_weights = {k: v for k, v in enumerate(class_weights)}"
   ]
  },
  {
   "cell_type": "code",
   "execution_count": 67,
   "metadata": {
    "execution": {
     "iopub.execute_input": "2020-11-12T20:11:56.489064Z",
     "iopub.status.busy": "2020-11-12T20:11:56.488248Z",
     "iopub.status.idle": "2020-11-12T20:11:56.491729Z",
     "shell.execute_reply": "2020-11-12T20:11:56.492345Z"
    },
    "papermill": {
     "duration": 0.115073,
     "end_time": "2020-11-12T20:11:56.492485",
     "exception": false,
     "start_time": "2020-11-12T20:11:56.377412",
     "status": "completed"
    },
    "tags": []
   },
   "outputs": [
    {
     "name": "stdout",
     "output_type": "stream",
     "text": [
      "{0: 1.1543600867678958, 1: 0.8427364864864865, 2: 0.6791797838849656, 3: 0.9919721635392071, 4: 1.013766827533655, 5: 0.9846305661773775, 6: 2.015248674577127, 7: 0.6014466546112116, 8: 1.0321179208688906, 9: 0.8922870556673373, 10: 2.009667673716012, 11: 1.5383310849874734, 12: 0.8669925057021831, 13: 1.0740581270182992, 14: 0.6235762831028826, 15: 1.3906620209059233, 16: 0.7173256649892163, 17: 1.4377521613832853, 18: 1.3229035465694399, 19: 1.2257985257985258}\n"
     ]
    }
   ],
   "source": [
    "print(class_weights)"
   ]
  },
  {
   "cell_type": "code",
   "execution_count": 68,
   "metadata": {
    "execution": {
     "iopub.execute_input": "2020-11-12T20:11:56.712934Z",
     "iopub.status.busy": "2020-11-12T20:11:56.712012Z",
     "iopub.status.idle": "2020-11-12T20:11:56.714980Z",
     "shell.execute_reply": "2020-11-12T20:11:56.714473Z"
    },
    "papermill": {
     "duration": 0.115286,
     "end_time": "2020-11-12T20:11:56.715073",
     "exception": false,
     "start_time": "2020-11-12T20:11:56.599787",
     "status": "completed"
    },
    "tags": []
   },
   "outputs": [],
   "source": [
    "# importing deep learning libraries\n",
    "from tensorflow.keras.layers import Embedding, Dense, GlobalMaxPool1D, GlobalAvgPool1D, Conv1D, Dropout\n",
    "from tensorflow.keras.models import Sequential\n",
    "from tensorflow.keras.wrappers.scikit_learn import KerasClassifier\n",
    "from tensorflow.keras.callbacks import EarlyStopping\n",
    "from sklearn.model_selection import cross_val_score, RepeatedStratifiedKFold"
   ]
  },
  {
   "cell_type": "markdown",
   "metadata": {
    "papermill": {
     "duration": 0.10648,
     "end_time": "2020-11-12T20:11:56.932125",
     "exception": false,
     "start_time": "2020-11-12T20:11:56.825645",
     "status": "completed"
    },
    "tags": []
   },
   "source": [
    "### Defining a function to build a neural network"
   ]
  },
  {
   "cell_type": "code",
   "execution_count": 69,
   "metadata": {
    "execution": {
     "iopub.execute_input": "2020-11-12T20:11:57.188105Z",
     "iopub.status.busy": "2020-11-12T20:11:57.187219Z",
     "iopub.status.idle": "2020-11-12T20:11:57.190728Z",
     "shell.execute_reply": "2020-11-12T20:11:57.191299Z"
    },
    "papermill": {
     "duration": 0.117523,
     "end_time": "2020-11-12T20:11:57.191449",
     "exception": false,
     "start_time": "2020-11-12T20:11:57.073926",
     "status": "completed"
    },
    "tags": []
   },
   "outputs": [
    {
     "data": {
      "text/plain": [
       "(159648, 87)"
      ]
     },
     "execution_count": 69,
     "metadata": {},
     "output_type": "execute_result"
    }
   ],
   "source": [
    "sent_oversample_corpus3.shape"
   ]
  },
  {
   "cell_type": "code",
   "execution_count": 70,
   "metadata": {
    "execution": {
     "iopub.execute_input": "2020-11-12T20:11:57.412543Z",
     "iopub.status.busy": "2020-11-12T20:11:57.411632Z",
     "iopub.status.idle": "2020-11-12T20:11:57.414637Z",
     "shell.execute_reply": "2020-11-12T20:11:57.414084Z"
    },
    "papermill": {
     "duration": 0.116088,
     "end_time": "2020-11-12T20:11:57.414755",
     "exception": false,
     "start_time": "2020-11-12T20:11:57.298667",
     "status": "completed"
    },
    "tags": []
   },
   "outputs": [],
   "source": [
    "def build_cnn_model():\n",
    "    model = Sequential()\n",
    "    model.add(Embedding(embedding_matrix.shape[0], embedding_matrix.shape[1], \n",
    "                           weights=[embedding_matrix], \n",
    "                           input_length=sent_oversample_corpus3.shape[1],\n",
    "                           mask_zero=True,\n",
    "                           trainable=False))\n",
    "    \n",
    "    model.add(Conv1D(128, 3, activation='relu'))\n",
    "    model.add(Conv1D(128, 3, activation='relu'))\n",
    "    \n",
    "    model.add(GlobalMaxPool1D())\n",
    "    \n",
    "    model.add(Dropout(0.2))\n",
    "    \n",
    "    model.add(Dense(20, activation='softmax'))\n",
    "\n",
    "    model.compile(optimizer='adam',\n",
    "              loss='categorical_crossentropy',\n",
    "              metrics=['accuracy', multi_class_fbeta])\n",
    "\n",
    "    return model"
   ]
  },
  {
   "cell_type": "code",
   "execution_count": 71,
   "metadata": {
    "execution": {
     "iopub.execute_input": "2020-11-12T20:11:57.632345Z",
     "iopub.status.busy": "2020-11-12T20:11:57.631700Z",
     "iopub.status.idle": "2020-11-12T20:12:00.471208Z",
     "shell.execute_reply": "2020-11-12T20:12:00.470648Z"
    },
    "papermill": {
     "duration": 2.948598,
     "end_time": "2020-11-12T20:12:00.471365",
     "exception": false,
     "start_time": "2020-11-12T20:11:57.522767",
     "status": "completed"
    },
    "tags": []
   },
   "outputs": [
    {
     "name": "stdout",
     "output_type": "stream",
     "text": [
      "Model: \"sequential\"\n",
      "_________________________________________________________________\n",
      "Layer (type)                 Output Shape              Param #   \n",
      "=================================================================\n",
      "embedding (Embedding)        (None, 87, 300)           11868900  \n",
      "_________________________________________________________________\n",
      "conv1d (Conv1D)              (None, 85, 128)           115328    \n",
      "_________________________________________________________________\n",
      "conv1d_1 (Conv1D)            (None, 83, 128)           49280     \n",
      "_________________________________________________________________\n",
      "global_max_pooling1d (Global (None, 128)               0         \n",
      "_________________________________________________________________\n",
      "dropout (Dropout)            (None, 128)               0         \n",
      "_________________________________________________________________\n",
      "dense (Dense)                (None, 20)                2580      \n",
      "=================================================================\n",
      "Total params: 12,036,088\n",
      "Trainable params: 167,188\n",
      "Non-trainable params: 11,868,900\n",
      "_________________________________________________________________\n"
     ]
    }
   ],
   "source": [
    "model = build_cnn_model() # builds model\n",
    "\n",
    "model.summary()"
   ]
  },
  {
   "cell_type": "code",
   "execution_count": 72,
   "metadata": {
    "execution": {
     "iopub.execute_input": "2020-11-12T20:12:00.695519Z",
     "iopub.status.busy": "2020-11-12T20:12:00.694860Z",
     "iopub.status.idle": "2020-11-12T20:15:00.959434Z",
     "shell.execute_reply": "2020-11-12T20:15:00.958827Z"
    },
    "papermill": {
     "duration": 180.380122,
     "end_time": "2020-11-12T20:15:00.959552",
     "exception": false,
     "start_time": "2020-11-12T20:12:00.579430",
     "status": "completed"
    },
    "tags": []
   },
   "outputs": [
    {
     "name": "stdout",
     "output_type": "stream",
     "text": [
      "Epoch 1/20\n",
      "936/936 [==============================] - 9s 10ms/step - loss: 0.8224 - accuracy: 0.7359 - multi_class_fbeta: 0.7345 - val_loss: 0.8511 - val_accuracy: 0.7298 - val_multi_class_fbeta: 0.7480\n",
      "Epoch 2/20\n",
      "936/936 [==============================] - 9s 9ms/step - loss: 0.5712 - accuracy: 0.8085 - multi_class_fbeta: 0.8091 - val_loss: 0.7782 - val_accuracy: 0.7503 - val_multi_class_fbeta: 0.7674\n",
      "Epoch 3/20\n",
      "936/936 [==============================] - 8s 9ms/step - loss: 0.5114 - accuracy: 0.8258 - multi_class_fbeta: 0.8266 - val_loss: 0.7261 - val_accuracy: 0.7698 - val_multi_class_fbeta: 0.7855\n",
      "Epoch 4/20\n",
      "936/936 [==============================] - 9s 9ms/step - loss: 0.4692 - accuracy: 0.8386 - multi_class_fbeta: 0.8394 - val_loss: 0.7579 - val_accuracy: 0.7605 - val_multi_class_fbeta: 0.7850\n",
      "Epoch 5/20\n",
      "936/936 [==============================] - 9s 10ms/step - loss: 0.4366 - accuracy: 0.8468 - multi_class_fbeta: 0.8475 - val_loss: 0.7155 - val_accuracy: 0.7753 - val_multi_class_fbeta: 0.7906\n",
      "Epoch 6/20\n",
      "936/936 [==============================] - 10s 10ms/step - loss: 0.4152 - accuracy: 0.8531 - multi_class_fbeta: 0.8538 - val_loss: 0.7028 - val_accuracy: 0.7801 - val_multi_class_fbeta: 0.7971\n",
      "Epoch 7/20\n",
      "936/936 [==============================] - 9s 9ms/step - loss: 0.3950 - accuracy: 0.8587 - multi_class_fbeta: 0.8596 - val_loss: 0.7045 - val_accuracy: 0.7825 - val_multi_class_fbeta: 0.7962\n",
      "Epoch 8/20\n",
      "936/936 [==============================] - 8s 9ms/step - loss: 0.3738 - accuracy: 0.8658 - multi_class_fbeta: 0.8667 - val_loss: 0.7321 - val_accuracy: 0.7795 - val_multi_class_fbeta: 0.7975\n",
      "Epoch 9/20\n",
      "936/936 [==============================] - 8s 9ms/step - loss: 0.3595 - accuracy: 0.8708 - multi_class_fbeta: 0.8715 - val_loss: 0.6985 - val_accuracy: 0.7875 - val_multi_class_fbeta: 0.8004\n",
      "Epoch 10/20\n",
      "936/936 [==============================] - 9s 10ms/step - loss: 0.3452 - accuracy: 0.8747 - multi_class_fbeta: 0.8754 - val_loss: 0.7316 - val_accuracy: 0.7841 - val_multi_class_fbeta: 0.7993\n",
      "Epoch 11/20\n",
      "936/936 [==============================] - 9s 9ms/step - loss: 0.3281 - accuracy: 0.8805 - multi_class_fbeta: 0.8810 - val_loss: 0.6987 - val_accuracy: 0.7945 - val_multi_class_fbeta: 0.8075\n",
      "Epoch 12/20\n",
      "936/936 [==============================] - 9s 10ms/step - loss: 0.3178 - accuracy: 0.8827 - multi_class_fbeta: 0.8833 - val_loss: 0.7642 - val_accuracy: 0.7829 - val_multi_class_fbeta: 0.7977\n",
      "Epoch 13/20\n",
      "936/936 [==============================] - 9s 10ms/step - loss: 0.3022 - accuracy: 0.8887 - multi_class_fbeta: 0.8892 - val_loss: 0.7487 - val_accuracy: 0.7879 - val_multi_class_fbeta: 0.8037\n",
      "Epoch 14/20\n",
      "936/936 [==============================] - 9s 9ms/step - loss: 0.2976 - accuracy: 0.8904 - multi_class_fbeta: 0.8911 - val_loss: 0.7323 - val_accuracy: 0.7957 - val_multi_class_fbeta: 0.8083\n",
      "Epoch 15/20\n",
      "936/936 [==============================] - 8s 9ms/step - loss: 0.2845 - accuracy: 0.8942 - multi_class_fbeta: 0.8948 - val_loss: 0.7841 - val_accuracy: 0.7875 - val_multi_class_fbeta: 0.8032\n",
      "Epoch 16/20\n",
      "936/936 [==============================] - 8s 9ms/step - loss: 0.2769 - accuracy: 0.8960 - multi_class_fbeta: 0.8966 - val_loss: 0.7789 - val_accuracy: 0.7942 - val_multi_class_fbeta: 0.8062\n",
      "Epoch 17/20\n",
      "936/936 [==============================] - 9s 9ms/step - loss: 0.2711 - accuracy: 0.8989 - multi_class_fbeta: 0.8995 - val_loss: 0.7587 - val_accuracy: 0.7948 - val_multi_class_fbeta: 0.8081\n",
      "Epoch 18/20\n",
      "936/936 [==============================] - 9s 9ms/step - loss: 0.2603 - accuracy: 0.9015 - multi_class_fbeta: 0.9020 - val_loss: 0.8141 - val_accuracy: 0.7890 - val_multi_class_fbeta: 0.8029\n",
      "Epoch 19/20\n",
      "936/936 [==============================] - 9s 10ms/step - loss: 0.2565 - accuracy: 0.9032 - multi_class_fbeta: 0.9039 - val_loss: 0.8119 - val_accuracy: 0.7916 - val_multi_class_fbeta: 0.8074\n",
      "Epoch 20/20\n",
      "936/936 [==============================] - 9s 9ms/step - loss: 0.2500 - accuracy: 0.9056 - multi_class_fbeta: 0.9063 - val_loss: 0.8510 - val_accuracy: 0.7860 - val_multi_class_fbeta: 0.8034\n"
     ]
    }
   ],
   "source": [
    "history = model.fit(sent_oversample_corpus3, sent_oversample_labels2,\n",
    "                    epochs=20,\n",
    "                    verbose=True,\n",
    "                    validation_split=0.25,\n",
    "                    batch_size=128,\n",
    "                    class_weight=class_weights)"
   ]
  },
  {
   "cell_type": "markdown",
   "metadata": {
    "papermill": {
     "duration": 1.087362,
     "end_time": "2020-11-12T20:15:03.135366",
     "exception": false,
     "start_time": "2020-11-12T20:15:02.048004",
     "status": "completed"
    },
    "tags": []
   },
   "source": [
    "### defining a function to plot learning curves"
   ]
  },
  {
   "cell_type": "code",
   "execution_count": 73,
   "metadata": {
    "execution": {
     "iopub.execute_input": "2020-11-12T20:15:05.520205Z",
     "iopub.status.busy": "2020-11-12T20:15:05.519343Z",
     "iopub.status.idle": "2020-11-12T20:15:05.523745Z",
     "shell.execute_reply": "2020-11-12T20:15:05.524850Z"
    },
    "papermill": {
     "duration": 1.304126,
     "end_time": "2020-11-12T20:15:05.525020",
     "exception": false,
     "start_time": "2020-11-12T20:15:04.220894",
     "status": "completed"
    },
    "tags": []
   },
   "outputs": [],
   "source": [
    "plt.style.use('ggplot')\n",
    "\n",
    "def plot_history(history):\n",
    "    acc = history.history['accuracy']\n",
    "    val_acc = history.history['val_accuracy']\n",
    "    fbeta = history.history['multi_class_fbeta']\n",
    "    val_fbeta = history.history['val_multi_class_fbeta']\n",
    "    loss = history.history['loss']\n",
    "    val_loss = history.history['val_loss']\n",
    "    epochs = range(1, len(acc)+1)\n",
    "\n",
    "    metrics = {'loss': (loss, val_loss), 'accuracy': (acc, val_acc), 'fbeta': (fbeta, val_fbeta)}\n",
    "    \n",
    "    plt.figure(figsize=(18, 5))\n",
    "    \n",
    "    for i, metric in zip(range(1, 4), list(metrics.keys())):\n",
    "        plt.subplot(1, 3, i)\n",
    "        plt.plot(epochs, metrics[metric][0], 'b', label='Training ' + metric)\n",
    "        plt.plot(epochs, metrics[metric][1], 'r', label='Validation ' + metric)\n",
    "        plt.title('Training and validation ' + metric)\n",
    "        plt.legend()"
   ]
  },
  {
   "cell_type": "code",
   "execution_count": 74,
   "metadata": {
    "execution": {
     "iopub.execute_input": "2020-11-12T20:15:07.788042Z",
     "iopub.status.busy": "2020-11-12T20:15:07.786706Z",
     "iopub.status.idle": "2020-11-12T20:15:08.379723Z",
     "shell.execute_reply": "2020-11-12T20:15:08.380386Z"
    },
    "papermill": {
     "duration": 1.701335,
     "end_time": "2020-11-12T20:15:08.380547",
     "exception": false,
     "start_time": "2020-11-12T20:15:06.679212",
     "status": "completed"
    },
    "tags": []
   },
   "outputs": [
    {
     "data": {
      "image/png": "[encoded data removed]",
      "text/plain": [
       "<Figure size 1296x360 with 3 Axes>"
      ]
     },
     "metadata": {},
     "output_type": "display_data"
    }
   ],
   "source": [
    "plot_history(history)"
   ]
  },
  {
   "cell_type": "markdown",
   "metadata": {
    "papermill": {
     "duration": 1.057926,
     "end_time": "2020-11-12T20:15:10.529408",
     "exception": false,
     "start_time": "2020-11-12T20:15:09.471482",
     "status": "completed"
    },
    "tags": []
   },
   "source": [
    "### cross validation score (important score to report that is less affected by overfitting)"
   ]
  },
  {
   "cell_type": "code",
   "execution_count": 75,
   "metadata": {
    "execution": {
     "iopub.execute_input": "2020-11-12T20:15:12.686536Z",
     "iopub.status.busy": "2020-11-12T20:15:12.684790Z",
     "iopub.status.idle": "2020-11-12T20:15:12.687177Z",
     "shell.execute_reply": "2020-11-12T20:15:12.687669Z"
    },
    "papermill": {
     "duration": 1.070252,
     "end_time": "2020-11-12T20:15:12.687791",
     "exception": false,
     "start_time": "2020-11-12T20:15:11.617539",
     "status": "completed"
    },
    "tags": []
   },
   "outputs": [],
   "source": [
    "model2 = KerasClassifier(build_fn=build_cnn_model) # build model\n",
    "early_stop = EarlyStopping(monitor='val_loss', min_delta=0, patience=5, verbose=0, mode='min',\\\n",
    "    restore_best_weights=True)"
   ]
  },
  {
   "cell_type": "code",
   "execution_count": 76,
   "metadata": {
    "execution": {
     "iopub.execute_input": "2020-11-12T20:15:15.189218Z",
     "iopub.status.busy": "2020-11-12T20:15:15.187477Z",
     "iopub.status.idle": "2020-11-12T20:15:15.189901Z",
     "shell.execute_reply": "2020-11-12T20:15:15.190396Z"
    },
    "papermill": {
     "duration": 1.080144,
     "end_time": "2020-11-12T20:15:15.190520",
     "exception": false,
     "start_time": "2020-11-12T20:15:14.110376",
     "status": "completed"
    },
    "tags": []
   },
   "outputs": [],
   "source": [
    "# creating a RepeatedStratifiedKFold object. Since we plan using 25% as our test-size, we will use 4 fold cv.\n",
    "# to have a level plain ground for comparing different models, we will be using random state of 1 through out.\n",
    "cv = RepeatedStratifiedKFold(n_splits=4, n_repeats=3, random_state=1)"
   ]
  },
  {
   "cell_type": "markdown",
   "metadata": {
    "papermill": {
     "duration": 1.104707,
     "end_time": "2020-11-12T20:15:17.544284",
     "exception": false,
     "start_time": "2020-11-12T20:15:16.439577",
     "status": "completed"
    },
    "tags": []
   },
   "source": [
    "### setting n_jobs greater than 1 always throw error. After looking up keras and sklearn's related issues in their github repo, it seems it is a bug that needs to be fixed. We have no option but to use njobs=1, although, it will run for long."
   ]
  },
  {
   "cell_type": "code",
   "execution_count": 77,
   "metadata": {
    "execution": {
     "iopub.execute_input": "2020-11-12T20:15:19.716965Z",
     "iopub.status.busy": "2020-11-12T20:15:19.715705Z",
     "iopub.status.idle": "2020-11-12T20:37:46.664917Z",
     "shell.execute_reply": "2020-11-12T20:37:46.665492Z"
    },
    "papermill": {
     "duration": 1348.04481,
     "end_time": "2020-11-12T20:37:46.665662",
     "exception": false,
     "start_time": "2020-11-12T20:15:18.620852",
     "status": "completed"
    },
    "tags": []
   },
   "outputs": [
    {
     "name": "stderr",
     "output_type": "stream",
     "text": [
      "[Parallel(n_jobs=1)]: Using backend SequentialBackend with 1 concurrent workers.\n",
      "[Parallel(n_jobs=1)]: Done  12 out of  12 | elapsed: 22.4min finished\n"
     ]
    }
   ],
   "source": [
    "# getting cross validation scores\n",
    "score = cross_val_score(model2, sent_oversample_corpus3, sent_oversample_labels, scoring='f1_weighted', cv=cv,\\\n",
    "                        n_jobs=1, verbose=1, fit_params={\\\n",
    "                        'epochs': 20, 'batch_size': 128, 'class_weight': class_weights, 'verbose': 0, \\\n",
    "                                                         'callbacks': [early_stop]})"
   ]
  },
  {
   "cell_type": "code",
   "execution_count": 78,
   "metadata": {
    "execution": {
     "iopub.execute_input": "2020-11-12T20:37:49.373864Z",
     "iopub.status.busy": "2020-11-12T20:37:49.371106Z",
     "iopub.status.idle": "2020-11-12T20:37:49.381159Z",
     "shell.execute_reply": "2020-11-12T20:37:49.380291Z"
    },
    "papermill": {
     "duration": 1.305718,
     "end_time": "2020-11-12T20:37:49.381382",
     "exception": false,
     "start_time": "2020-11-12T20:37:48.075664",
     "status": "completed"
    },
    "tags": []
   },
   "outputs": [
    {
     "name": "stdout",
     "output_type": "stream",
     "text": [
      "[0.85260353 0.85118054 0.8574041  0.8492256  0.85378532 0.85365255\n",
      " 0.84899958 0.85380891 0.85407603 0.85501637 0.85151736 0.85044587]\n"
     ]
    },
    {
     "data": {
      "text/plain": [
       "0.8526429804373009"
      ]
     },
     "execution_count": 78,
     "metadata": {},
     "output_type": "execute_result"
    }
   ],
   "source": [
    "print(score)\n",
    "np.mean(score) # reporting the mean score"
   ]
  },
  {
   "cell_type": "code",
   "execution_count": null,
   "metadata": {
    "papermill": {
     "duration": 1.124717,
     "end_time": "2020-11-12T20:37:52.162594",
     "exception": false,
     "start_time": "2020-11-12T20:37:51.037877",
     "status": "completed"
    },
    "tags": []
   },
   "outputs": [],
   "source": []
  },
  {
   "cell_type": "markdown",
   "metadata": {
    "papermill": {
     "duration": 1.093263,
     "end_time": "2020-11-12T20:37:54.488288",
     "exception": false,
     "start_time": "2020-11-12T20:37:53.395025",
     "status": "completed"
    },
    "tags": []
   },
   "source": [
    "## Reporting other useful results."
   ]
  },
  {
   "cell_type": "code",
   "execution_count": 79,
   "metadata": {
    "execution": {
     "iopub.execute_input": "2020-11-12T20:37:56.582749Z",
     "iopub.status.busy": "2020-11-12T20:37:56.581114Z",
     "iopub.status.idle": "2020-11-12T20:37:56.583409Z",
     "shell.execute_reply": "2020-11-12T20:37:56.583862Z"
    },
    "papermill": {
     "duration": 1.056156,
     "end_time": "2020-11-12T20:37:56.583983",
     "exception": false,
     "start_time": "2020-11-12T20:37:55.527827",
     "status": "completed"
    },
    "tags": []
   },
   "outputs": [],
   "source": [
    "from sklearn.model_selection import train_test_split\n",
    "from sklearn.metrics import roc_auc_score"
   ]
  },
  {
   "cell_type": "code",
   "execution_count": 80,
   "metadata": {
    "execution": {
     "iopub.execute_input": "2020-11-12T20:37:58.707300Z",
     "iopub.status.busy": "2020-11-12T20:37:58.706298Z",
     "iopub.status.idle": "2020-11-12T20:38:02.741136Z",
     "shell.execute_reply": "2020-11-12T20:38:02.740607Z"
    },
    "papermill": {
     "duration": 5.081465,
     "end_time": "2020-11-12T20:38:02.741277",
     "exception": false,
     "start_time": "2020-11-12T20:37:57.659812",
     "status": "completed"
    },
    "tags": []
   },
   "outputs": [],
   "source": [
    "# train-test split\n",
    "X_train, X_test, y_train, y_test = train_test_split(sent_oversample_corpus3, sent_oversample_labels2, \\\n",
    "                                        test_size=0.25, random_state=1, stratify=sent_oversample_labels2)"
   ]
  },
  {
   "cell_type": "markdown",
   "metadata": {
    "papermill": {
     "duration": 1.040784,
     "end_time": "2020-11-12T20:38:04.818209",
     "exception": false,
     "start_time": "2020-11-12T20:38:03.777425",
     "status": "completed"
    },
    "tags": []
   },
   "source": [
    "### We don't want to use either model 1 or model 2 to predict the test set because both must have somehow be trained on the test set. So we need to rebuild another model that won't see the test set."
   ]
  },
  {
   "cell_type": "code",
   "execution_count": 81,
   "metadata": {
    "execution": {
     "iopub.execute_input": "2020-11-12T20:38:06.926386Z",
     "iopub.status.busy": "2020-11-12T20:38:06.925759Z",
     "iopub.status.idle": "2020-11-12T20:38:07.155310Z",
     "shell.execute_reply": "2020-11-12T20:38:07.154761Z"
    },
    "papermill": {
     "duration": 1.267923,
     "end_time": "2020-11-12T20:38:07.155430",
     "exception": false,
     "start_time": "2020-11-12T20:38:05.887507",
     "status": "completed"
    },
    "tags": []
   },
   "outputs": [],
   "source": [
    "model3 = build_cnn_model() # builds model"
   ]
  },
  {
   "cell_type": "code",
   "execution_count": 82,
   "metadata": {
    "execution": {
     "iopub.execute_input": "2020-11-12T20:38:09.274360Z",
     "iopub.status.busy": "2020-11-12T20:38:09.272687Z",
     "iopub.status.idle": "2020-11-12T20:38:09.277486Z",
     "shell.execute_reply": "2020-11-12T20:38:09.276945Z"
    },
    "papermill": {
     "duration": 1.055086,
     "end_time": "2020-11-12T20:38:09.277596",
     "exception": false,
     "start_time": "2020-11-12T20:38:08.222510",
     "status": "completed"
    },
    "tags": []
   },
   "outputs": [
    {
     "data": {
      "text/plain": [
       "9"
      ]
     },
     "execution_count": 82,
     "metadata": {},
     "output_type": "execute_result"
    }
   ],
   "source": [
    "val_loss = history.history['val_loss']\n",
    "best_epoch = np.argmin(val_loss) + 1\n",
    "best_epoch"
   ]
  },
  {
   "cell_type": "code",
   "execution_count": 83,
   "metadata": {
    "execution": {
     "iopub.execute_input": "2020-11-12T20:38:11.593808Z",
     "iopub.status.busy": "2020-11-12T20:38:11.592794Z",
     "iopub.status.idle": "2020-11-12T20:39:15.957182Z",
     "shell.execute_reply": "2020-11-12T20:39:15.940412Z"
    },
    "papermill": {
     "duration": 65.639019,
     "end_time": "2020-11-12T20:39:15.957306",
     "exception": false,
     "start_time": "2020-11-12T20:38:10.318287",
     "status": "completed"
    },
    "tags": []
   },
   "outputs": [
    {
     "name": "stdout",
     "output_type": "stream",
     "text": [
      "Epoch 1/9\n",
      "936/936 [==============================] - 7s 7ms/step - loss: 0.8846 - accuracy: 0.7179 - multi_class_fbeta: 0.7178\n",
      "Epoch 2/9\n",
      "936/936 [==============================] - 7s 8ms/step - loss: 0.6228 - accuracy: 0.7928 - multi_class_fbeta: 0.7940\n",
      "Epoch 3/9\n",
      "936/936 [==============================] - 7s 7ms/step - loss: 0.5599 - accuracy: 0.8109 - multi_class_fbeta: 0.8120\n",
      "Epoch 4/9\n",
      "936/936 [==============================] - 7s 7ms/step - loss: 0.5158 - accuracy: 0.8234 - multi_class_fbeta: 0.8242\n",
      "Epoch 5/9\n",
      "936/936 [==============================] - 7s 7ms/step - loss: 0.4890 - accuracy: 0.8307 - multi_class_fbeta: 0.8317\n",
      "Epoch 6/9\n",
      "936/936 [==============================] - 7s 8ms/step - loss: 0.4595 - accuracy: 0.8394 - multi_class_fbeta: 0.8404\n",
      "Epoch 7/9\n",
      "936/936 [==============================] - 7s 8ms/step - loss: 0.4363 - accuracy: 0.8462 - multi_class_fbeta: 0.8470\n",
      "Epoch 8/9\n",
      "936/936 [==============================] - 7s 7ms/step - loss: 0.4179 - accuracy: 0.8516 - multi_class_fbeta: 0.8523\n",
      "Epoch 9/9\n",
      "936/936 [==============================] - 7s 7ms/step - loss: 0.3985 - accuracy: 0.8577 - multi_class_fbeta: 0.8587\n"
     ]
    },
    {
     "data": {
      "text/plain": [
       "<tensorflow.python.keras.callbacks.History at 0x7f64345728d0>"
      ]
     },
     "execution_count": 83,
     "metadata": {},
     "output_type": "execute_result"
    }
   ],
   "source": [
    "model3.fit(X_train, y_train,\n",
    "                    epochs=best_epoch, # using the best epoch from model1\n",
    "                    verbose=True,\n",
    "                    batch_size=128,\n",
    "                    class_weight=class_weights)"
   ]
  },
  {
   "cell_type": "code",
   "execution_count": null,
   "metadata": {
    "papermill": {
     "duration": 1.445526,
     "end_time": "2020-11-12T20:39:19.068834",
     "exception": false,
     "start_time": "2020-11-12T20:39:17.623308",
     "status": "completed"
    },
    "tags": []
   },
   "outputs": [],
   "source": []
  },
  {
   "cell_type": "code",
   "execution_count": 84,
   "metadata": {
    "execution": {
     "iopub.execute_input": "2020-11-12T20:39:21.958298Z",
     "iopub.status.busy": "2020-11-12T20:39:21.957082Z",
     "iopub.status.idle": "2020-11-12T20:39:27.944535Z",
     "shell.execute_reply": "2020-11-12T20:39:27.940516Z"
    },
    "papermill": {
     "duration": 7.444946,
     "end_time": "2020-11-12T20:39:27.944696",
     "exception": false,
     "start_time": "2020-11-12T20:39:20.499750",
     "status": "completed"
    },
    "tags": []
   },
   "outputs": [
    {
     "name": "stdout",
     "output_type": "stream",
     "text": [
      "Training Accuracy: 0.8957\n",
      "Training Fbeta: 0.8960\n",
      "\n",
      "Testing Accuracy: 0.8439\n",
      "Testing Fbeta: 0.8440\n"
     ]
    }
   ],
   "source": [
    "loss, accuracy, fbeta = model3.evaluate(X_train, y_train, batch_size=128, verbose=False)\n",
    "print('Training Accuracy: {:.4f}\\nTraining Fbeta: {:.4f}'.format(accuracy, fbeta))\n",
    "print()\n",
    "loss, accuracy, fbeta = model3.evaluate(X_test, y_test, batch_size=128, verbose=False)\n",
    "print('Testing Accuracy: {:.4f}\\nTesting Fbeta: {:.4f}'.format(accuracy, fbeta))\n"
   ]
  },
  {
   "cell_type": "code",
   "execution_count": 85,
   "metadata": {
    "execution": {
     "iopub.execute_input": "2020-11-12T20:39:31.058642Z",
     "iopub.status.busy": "2020-11-12T20:39:31.057619Z",
     "iopub.status.idle": "2020-11-12T20:39:39.205652Z",
     "shell.execute_reply": "2020-11-12T20:39:39.206760Z"
    },
    "papermill": {
     "duration": 9.613178,
     "end_time": "2020-11-12T20:39:39.206954",
     "exception": false,
     "start_time": "2020-11-12T20:39:29.593776",
     "status": "completed"
    },
    "tags": []
   },
   "outputs": [],
   "source": [
    "y_pred_train = model.predict(X_train)\n",
    "y_pred_test = model.predict(X_test)"
   ]
  },
  {
   "cell_type": "code",
   "execution_count": 86,
   "metadata": {
    "execution": {
     "iopub.execute_input": "2020-11-12T20:39:42.209421Z",
     "iopub.status.busy": "2020-11-12T20:39:42.207881Z",
     "iopub.status.idle": "2020-11-12T20:39:42.984705Z",
     "shell.execute_reply": "2020-11-12T20:39:42.984185Z"
    },
    "papermill": {
     "duration": 2.216676,
     "end_time": "2020-11-12T20:39:42.984813",
     "exception": false,
     "start_time": "2020-11-12T20:39:40.768137",
     "status": "completed"
    },
    "tags": []
   },
   "outputs": [
    {
     "name": "stdout",
     "output_type": "stream",
     "text": [
      "Training AUC: 0.9953\n",
      "Testing AUC: 0.9951\n"
     ]
    }
   ],
   "source": [
    "print('Training AUC: {:.4f}'.format(\\\n",
    "    roc_auc_score(y_train, y_pred_train, average='weighted', multi_class='ovr')))\n",
    "      \n",
    "print('Testing AUC: {:.4f}'.format(\\\n",
    "    roc_auc_score(y_test, y_pred_test, average='weighted', multi_class='ovr')))"
   ]
  },
  {
   "cell_type": "code",
   "execution_count": 87,
   "metadata": {
    "_cell_guid": "79c7e3d0-c299-4dcb-8224-4455121ee9b0",
    "_uuid": "d629ff2d2480ee46fbb7e2d37f6b5fab8052498a",
    "execution": {
     "iopub.execute_input": "2020-11-12T20:39:45.876527Z",
     "iopub.status.busy": "2020-11-12T20:39:45.875086Z",
     "iopub.status.idle": "2020-11-12T20:39:45.893109Z",
     "shell.execute_reply": "2020-11-12T20:39:45.892603Z"
    },
    "papermill": {
     "duration": 1.467278,
     "end_time": "2020-11-12T20:39:45.893215",
     "exception": false,
     "start_time": "2020-11-12T20:39:44.425937",
     "status": "completed"
    },
    "tags": []
   },
   "outputs": [
    {
     "data": {
      "text/plain": [
       "<tf.Tensor: shape=(20,), dtype=float32, numpy=\n",
       "array([0.9484651 , 0.9148774 , 0.96276057, 0.8904026 , 0.7159241 ,\n",
       "       0.9921481 , 0.8951025 , 0.97027206, 0.97221285, 0.9287649 ,\n",
       "       0.8604081 , 0.9605149 , 0.87186563, 0.92354673, 0.8737672 ,\n",
       "       0.9739394 , 0.76467204, 0.91796213, 0.8725099 , 0.82575685],\n",
       "      dtype=float32)>"
      ]
     },
     "execution_count": 87,
     "metadata": {},
     "output_type": "execute_result"
    }
   ],
   "source": [
    "multi_class_fbeta(y_train, y_pred_train, raw=True)"
   ]
  },
  {
   "cell_type": "code",
   "execution_count": 88,
   "metadata": {
    "execution": {
     "iopub.execute_input": "2020-11-12T20:39:49.145163Z",
     "iopub.status.busy": "2020-11-12T20:39:49.143994Z",
     "iopub.status.idle": "2020-11-12T20:39:49.152303Z",
     "shell.execute_reply": "2020-11-12T20:39:49.152783Z"
    },
    "papermill": {
     "duration": 1.587032,
     "end_time": "2020-11-12T20:39:49.152908",
     "exception": false,
     "start_time": "2020-11-12T20:39:47.565876",
     "status": "completed"
    },
    "tags": []
   },
   "outputs": [
    {
     "data": {
      "text/plain": [
       "<tf.Tensor: shape=(20,), dtype=float32, numpy=\n",
       "array([0.9486745 , 0.92144626, 0.9655635 , 0.88111883, 0.7035732 ,\n",
       "       0.98982877, 0.8842315 , 0.9699609 , 0.9753744 , 0.92871153,\n",
       "       0.85827154, 0.95887357, 0.8722627 , 0.92562425, 0.87766474,\n",
       "       0.97576386, 0.75880545, 0.9156798 , 0.86295426, 0.8108836 ],\n",
       "      dtype=float32)>"
      ]
     },
     "execution_count": 88,
     "metadata": {},
     "output_type": "execute_result"
    }
   ],
   "source": [
    "multi_class_fbeta(y_test, y_pred_test, raw=True)"
   ]
  },
  {
   "cell_type": "code",
   "execution_count": null,
   "metadata": {
    "papermill": {
     "duration": 1.507053,
     "end_time": "2020-11-12T20:39:52.326825",
     "exception": false,
     "start_time": "2020-11-12T20:39:50.819772",
     "status": "completed"
    },
    "tags": []
   },
   "outputs": [],
   "source": []
  }
 ],
 "metadata": {
  "kernelspec": {
   "display_name": "Python 3",
   "language": "python",
   "name": "python3"
  },
  "language_info": {
   "codemirror_mode": {
    "name": "ipython",
    "version": 3
   },
   "file_extension": ".py",
   "mimetype": "text/x-python",
   "name": "python",
   "nbconvert_exporter": "python",
   "pygments_lexer": "ipython3",
   "version": "3.7.6"
  },
  "papermill": {
   "duration": 1995.592038,
   "end_time": "2020-11-12T20:39:55.802419",
   "environment_variables": {},
   "exception": null,
   "input_path": "__notebook__.ipynb",
   "output_path": "__notebook__.ipynb",
   "parameters": {},
   "start_time": "2020-11-12T20:06:40.210381",
   "version": "2.1.0"
  }
 },
 "nbformat": 4,
 "nbformat_minor": 4
}
