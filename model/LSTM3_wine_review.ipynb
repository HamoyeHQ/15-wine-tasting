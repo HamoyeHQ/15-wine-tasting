{
  "nbformat": 4,
  "nbformat_minor": 0,
  "metadata": {
    "accelerator": "GPU",
    "colab": {
      "name": "LSTM3 wine review.ipynb",
      "provenance": [],
      "collapsed_sections": []
    },
    "kernelspec": {
      "display_name": "Python 3",
      "name": "python3"
    }
  },
  "cells": [
    {
      "cell_type": "code",
      "metadata": {
        "id": "UFfzm-f_gfPJ"
      },
      "source": [
        "import os\n",
        "os.environ['KAGGLE_CONFIG_DIR'] = \"/content/drive/My Drive/Kaggle\""
      ],
      "execution_count": 3,
      "outputs": []
    },
    {
      "cell_type": "code",
      "metadata": {
        "id": "iC8YCpOPhsS4",
        "outputId": "3f5ea3eb-042a-466c-8df3-f2db15d68908",
        "colab": {
          "base_uri": "https://localhost:8080/"
        }
      },
      "source": [
        "#changing the working directory\n",
        "%cd /content\n",
        "\n",
        "#Check the present working directory using pwd command"
      ],
      "execution_count": 4,
      "outputs": [
        {
          "output_type": "stream",
          "text": [
            "/content\n"
          ],
          "name": "stdout"
        }
      ]
    },
    {
      "cell_type": "code",
      "metadata": {
        "id": "0WclKNrQjl8A",
        "outputId": "0d30f221-babf-4439-96c3-9e176c47c5ea",
        "colab": {
          "base_uri": "https://localhost:8080/"
        }
      },
      "source": [
        "!kaggle datasets download -d zynicide/wine-reviews"
      ],
      "execution_count": 5,
      "outputs": [
        {
          "output_type": "stream",
          "text": [
            "Downloading wine-reviews.zip to /content\n",
            " 65% 33.0M/50.9M [00:00<00:00, 34.7MB/s]\n",
            "100% 50.9M/50.9M [00:00<00:00, 86.7MB/s]\n"
          ],
          "name": "stdout"
        }
      ]
    },
    {
      "cell_type": "code",
      "metadata": {
        "id": "AeLg7YhlvR7w",
        "outputId": "e4bbbceb-422e-46b4-b119-67d4ca911f41",
        "colab": {
          "base_uri": "https://localhost:8080/"
        }
      },
      "source": [
        "from google.colab import drive\n",
        "drive.mount('/content/drive')"
      ],
      "execution_count": 2,
      "outputs": [
        {
          "output_type": "stream",
          "text": [
            "Mounted at /content/drive\n"
          ],
          "name": "stdout"
        }
      ]
    },
    {
      "cell_type": "code",
      "metadata": {
        "id": "f-MAav7Jj8IM",
        "outputId": "a61b8731-d239-4f59-f11d-e3210745e565",
        "colab": {
          "base_uri": "https://localhost:8080/"
        }
      },
      "source": [
        "!unzip /content/wine-reviews.zip"
      ],
      "execution_count": 6,
      "outputs": [
        {
          "output_type": "stream",
          "text": [
            "Archive:  /content/wine-reviews.zip\n",
            "  inflating: winemag-data-130k-v2.csv  \n",
            "  inflating: winemag-data-130k-v2.json  \n",
            "  inflating: winemag-data_first150k.csv  \n"
          ],
          "name": "stdout"
        }
      ]
    },
    {
      "cell_type": "code",
      "metadata": {
        "id": "p6lsqKZtkDAW",
        "outputId": "70aac758-6aed-4bf2-9aa1-21e9e3750190",
        "colab": {
          "base_uri": "https://localhost:8080/"
        }
      },
      "source": [
        "!ls"
      ],
      "execution_count": 7,
      "outputs": [
        {
          "output_type": "stream",
          "text": [
            "drive\t     winemag-data-130k-v2.csv\twinemag-data_first150k.csv\n",
            "sample_data  winemag-data-130k-v2.json\twine-reviews.zip\n"
          ],
          "name": "stdout"
        }
      ]
    },
    {
      "cell_type": "code",
      "metadata": {
        "id": "QRSP8JGtkE9U"
      },
      "source": [
        "import pandas as pd\n",
        "import numpy as np\n",
        "import matplotlib.pyplot as plt\n",
        "import seaborn as sns\n",
        "\n",
        "import spacy\n",
        "from gensim.models import Word2Vec # importing Word2Vec\n",
        "\n",
        "import tensorflow as tf\n",
        "from tensorflow.keras.optimizers import Adam, SGD\n",
        "from tensorflow.keras.models import Sequential\n",
        "from tensorflow.keras.layers import Dense, GlobalAveragePooling1D, Conv1D, Dropout, SpatialDropout1D, LSTM, Embedding, GlobalMaxPool1D\n",
        "from tensorflow.keras.callbacks import ModelCheckpoint, EarlyStopping, ReduceLROnPlateau, LearningRateScheduler\n",
        "from tensorflow.keras.preprocessing.text import Tokenizer\n",
        "from tensorflow.keras.preprocessing.sequence import pad_sequences\n",
        "\n",
        "\n",
        "import warnings\n",
        "warnings.filterwarnings('ignore')"
      ],
      "execution_count": 8,
      "outputs": []
    },
    {
      "cell_type": "code",
      "metadata": {
        "id": "3UbYsEvOkYGL"
      },
      "source": [
        "df = pd.read_csv('/content/winemag-data-130k-v2.csv')"
      ],
      "execution_count": 9,
      "outputs": []
    },
    {
      "cell_type": "code",
      "metadata": {
        "id": "QMpRxxmAk6hq",
        "outputId": "7046d3d9-f36b-4e85-8f3f-3c6663eabf0b",
        "colab": {
          "base_uri": "https://localhost:8080/",
          "height": 571
        }
      },
      "source": [
        "df.head()"
      ],
      "execution_count": 10,
      "outputs": [
        {
          "output_type": "execute_result",
          "data": {
            "text/html": [
              "<div>\n",
              "<style scoped>\n",
              "    .dataframe tbody tr th:only-of-type {\n",
              "        vertical-align: middle;\n",
              "    }\n",
              "\n",
              "    .dataframe tbody tr th {\n",
              "        vertical-align: top;\n",
              "    }\n",
              "\n",
              "    .dataframe thead th {\n",
              "        text-align: right;\n",
              "    }\n",
              "</style>\n",
              "<table border=\"1\" class=\"dataframe\">\n",
              "  <thead>\n",
              "    <tr style=\"text-align: right;\">\n",
              "      <th></th>\n",
              "      <th>Unnamed: 0</th>\n",
              "      <th>country</th>\n",
              "      <th>description</th>\n",
              "      <th>designation</th>\n",
              "      <th>points</th>\n",
              "      <th>price</th>\n",
              "      <th>province</th>\n",
              "      <th>region_1</th>\n",
              "      <th>region_2</th>\n",
              "      <th>taster_name</th>\n",
              "      <th>taster_twitter_handle</th>\n",
              "      <th>title</th>\n",
              "      <th>variety</th>\n",
              "      <th>winery</th>\n",
              "    </tr>\n",
              "  </thead>\n",
              "  <tbody>\n",
              "    <tr>\n",
              "      <th>0</th>\n",
              "      <td>0</td>\n",
              "      <td>Italy</td>\n",
              "      <td>Aromas include tropical fruit, broom, brimston...</td>\n",
              "      <td>Vulkà Bianco</td>\n",
              "      <td>87</td>\n",
              "      <td>NaN</td>\n",
              "      <td>Sicily &amp; Sardinia</td>\n",
              "      <td>Etna</td>\n",
              "      <td>NaN</td>\n",
              "      <td>Kerin O’Keefe</td>\n",
              "      <td>@kerinokeefe</td>\n",
              "      <td>Nicosia 2013 Vulkà Bianco  (Etna)</td>\n",
              "      <td>White Blend</td>\n",
              "      <td>Nicosia</td>\n",
              "    </tr>\n",
              "    <tr>\n",
              "      <th>1</th>\n",
              "      <td>1</td>\n",
              "      <td>Portugal</td>\n",
              "      <td>This is ripe and fruity, a wine that is smooth...</td>\n",
              "      <td>Avidagos</td>\n",
              "      <td>87</td>\n",
              "      <td>15.0</td>\n",
              "      <td>Douro</td>\n",
              "      <td>NaN</td>\n",
              "      <td>NaN</td>\n",
              "      <td>Roger Voss</td>\n",
              "      <td>@vossroger</td>\n",
              "      <td>Quinta dos Avidagos 2011 Avidagos Red (Douro)</td>\n",
              "      <td>Portuguese Red</td>\n",
              "      <td>Quinta dos Avidagos</td>\n",
              "    </tr>\n",
              "    <tr>\n",
              "      <th>2</th>\n",
              "      <td>2</td>\n",
              "      <td>US</td>\n",
              "      <td>Tart and snappy, the flavors of lime flesh and...</td>\n",
              "      <td>NaN</td>\n",
              "      <td>87</td>\n",
              "      <td>14.0</td>\n",
              "      <td>Oregon</td>\n",
              "      <td>Willamette Valley</td>\n",
              "      <td>Willamette Valley</td>\n",
              "      <td>Paul Gregutt</td>\n",
              "      <td>@paulgwine</td>\n",
              "      <td>Rainstorm 2013 Pinot Gris (Willamette Valley)</td>\n",
              "      <td>Pinot Gris</td>\n",
              "      <td>Rainstorm</td>\n",
              "    </tr>\n",
              "    <tr>\n",
              "      <th>3</th>\n",
              "      <td>3</td>\n",
              "      <td>US</td>\n",
              "      <td>Pineapple rind, lemon pith and orange blossom ...</td>\n",
              "      <td>Reserve Late Harvest</td>\n",
              "      <td>87</td>\n",
              "      <td>13.0</td>\n",
              "      <td>Michigan</td>\n",
              "      <td>Lake Michigan Shore</td>\n",
              "      <td>NaN</td>\n",
              "      <td>Alexander Peartree</td>\n",
              "      <td>NaN</td>\n",
              "      <td>St. Julian 2013 Reserve Late Harvest Riesling ...</td>\n",
              "      <td>Riesling</td>\n",
              "      <td>St. Julian</td>\n",
              "    </tr>\n",
              "    <tr>\n",
              "      <th>4</th>\n",
              "      <td>4</td>\n",
              "      <td>US</td>\n",
              "      <td>Much like the regular bottling from 2012, this...</td>\n",
              "      <td>Vintner's Reserve Wild Child Block</td>\n",
              "      <td>87</td>\n",
              "      <td>65.0</td>\n",
              "      <td>Oregon</td>\n",
              "      <td>Willamette Valley</td>\n",
              "      <td>Willamette Valley</td>\n",
              "      <td>Paul Gregutt</td>\n",
              "      <td>@paulgwine</td>\n",
              "      <td>Sweet Cheeks 2012 Vintner's Reserve Wild Child...</td>\n",
              "      <td>Pinot Noir</td>\n",
              "      <td>Sweet Cheeks</td>\n",
              "    </tr>\n",
              "  </tbody>\n",
              "</table>\n",
              "</div>"
            ],
            "text/plain": [
              "   Unnamed: 0   country  ...         variety               winery\n",
              "0           0     Italy  ...     White Blend              Nicosia\n",
              "1           1  Portugal  ...  Portuguese Red  Quinta dos Avidagos\n",
              "2           2        US  ...      Pinot Gris            Rainstorm\n",
              "3           3        US  ...        Riesling           St. Julian\n",
              "4           4        US  ...      Pinot Noir         Sweet Cheeks\n",
              "\n",
              "[5 rows x 14 columns]"
            ]
          },
          "metadata": {
            "tags": []
          },
          "execution_count": 10
        }
      ]
    },
    {
      "cell_type": "code",
      "metadata": {
        "id": "KqsL5vdWnRL3",
        "outputId": "90f00795-6e3b-4151-e617-9941c37586be",
        "colab": {
          "base_uri": "https://localhost:8080/"
        }
      },
      "source": [
        "df.shape"
      ],
      "execution_count": 11,
      "outputs": [
        {
          "output_type": "execute_result",
          "data": {
            "text/plain": [
              "(129971, 14)"
            ]
          },
          "metadata": {
            "tags": []
          },
          "execution_count": 11
        }
      ]
    },
    {
      "cell_type": "code",
      "metadata": {
        "id": "ZgWBMskak8wT",
        "outputId": "22f5c744-3bdd-4cf6-ccd1-210e3e738256",
        "colab": {
          "base_uri": "https://localhost:8080/"
        }
      },
      "source": [
        "df['description'].nunique()"
      ],
      "execution_count": 12,
      "outputs": [
        {
          "output_type": "execute_result",
          "data": {
            "text/plain": [
              "119955"
            ]
          },
          "metadata": {
            "tags": []
          },
          "execution_count": 12
        }
      ]
    },
    {
      "cell_type": "code",
      "metadata": {
        "id": "xuAnbgJTmKKh"
      },
      "source": [
        "duplicate = df[df.duplicated('description', keep=False)]"
      ],
      "execution_count": 13,
      "outputs": []
    },
    {
      "cell_type": "code",
      "metadata": {
        "id": "ArwmN6ssptaj",
        "outputId": "69c0b4a5-72cd-4c34-87a0-08020f88d54a",
        "colab": {
          "base_uri": "https://localhost:8080/"
        }
      },
      "source": [
        "duplicate.shape"
      ],
      "execution_count": 14,
      "outputs": [
        {
          "output_type": "execute_result",
          "data": {
            "text/plain": [
              "(20026, 14)"
            ]
          },
          "metadata": {
            "tags": []
          },
          "execution_count": 14
        }
      ]
    },
    {
      "cell_type": "code",
      "metadata": {
        "id": "-E1-2qY8m9sl",
        "outputId": "a877f387-55aa-4447-e3c2-c7cb12364427",
        "colab": {
          "base_uri": "https://localhost:8080/"
        }
      },
      "source": [
        "duplicate['description'].value_counts()"
      ],
      "execution_count": 15,
      "outputs": [
        {
          "output_type": "execute_result",
          "data": {
            "text/plain": [
              "Gravenstein apple, honeysuckle and jasmine aromas show on the relatively boisterous nose of this bottling from a large vineyard on Highway 46 east of Paso Robles. There is compellingly grippy texture to the sip, with ripe flavors of pear and honeydew melon. A salty acidity takes it to the next level.                     3\n",
              "Cigar box, café au lait, and dried tobacco aromas are followed by coffee and cherry flavors, with barrel spices lingering on the finish. The wood gets a bit out front but it still delivers enjoyment.                                                                                                                           3\n",
              "Seductively tart in lemon pith, cranberry and pomegranate, this refreshing, light-bodied quaff is infinitely enjoyable, both on its own or at the table. It continues to expand on the palate into an increasing array of fresh flavors, finishing in cherry and orange.                                                          3\n",
              "Ripe plum, game, truffle, leather and menthol are some of the aromas you'll find on this earthy wine. The tightly wound palate offers dried black cherry, chopped sage, mint and roasted coffee bean alongside raspy tannins that leave a mouth-drying finish.                                                                    3\n",
              "Stalky aromas suggest hay and green herbs, with raspberry in the backdrop. It's hot and short in terms of mouthfeel, with herbal flavors leading the way and berry fruit running behind. Dry red fruit and herbal notes dominate the finish.                                                                                      3\n",
              "                                                                                                                                                                                                                                                                                                                                 ..\n",
              "Rich in tropical fruit, apricot and pear flavors, with a buttery, creamy texture, this is a satisfying Chardonnay made in the popular style. Brisk acidity makes it clean and balanced.                                                                                                                                           2\n",
              "Chappellet winemaker Phillip Corallo-Titus helps make this wine, a blend of 79% Cabernet Sauvignon with 11% Petit Verdot, 5% Merlot, 3% Cabernet Franc and 2% Malbec. While possessing a sizable tannin structure it remains balanced and elegant in cedar, pencil shavings, tart cranberry and cassis. It's rich and velvety.    2\n",
              "This wine's aromas are surprisingly reserved for the variety, with faint peach, lime and mandarin orange notes. It's just off dry on the palate, with zippy fruit flavors. It delivers enjoyment despite its muted aromatic expression.                                                                                           2\n",
              "Fresh strawberry flavors fizz lightly and easily on a fruit-driven, dry and light-bodied palate. This is a fruity haze of fizzy, pale-pink fun, ideal for parties and light-hearted gatherings.                                                                                                                                   2\n",
              "Though not indicated as such on its label, this is a sweet wine. It has spiced, ripe fruit flavors, notably pear, which are deliciously laced with honey and cinnamon notes. There is also a fine streak of lively acidity that keeps this very fresh.                                                                            2\n",
              "Name: description, Length: 10010, dtype: int64"
            ]
          },
          "metadata": {
            "tags": []
          },
          "execution_count": 15
        }
      ]
    },
    {
      "cell_type": "code",
      "metadata": {
        "id": "zcENAVlLofSj"
      },
      "source": [
        "vardescr = df[df.duplicated(['description', 'variety'],keep=False)]"
      ],
      "execution_count": 16,
      "outputs": []
    },
    {
      "cell_type": "code",
      "metadata": {
        "id": "gsF6QzUXpnlZ",
        "outputId": "4925104c-e9fb-4ae9-cc58-397dae02e9b2",
        "colab": {
          "base_uri": "https://localhost:8080/"
        }
      },
      "source": [
        "vardescr.shape"
      ],
      "execution_count": 17,
      "outputs": [
        {
          "output_type": "execute_result",
          "data": {
            "text/plain": [
              "(20008, 14)"
            ]
          },
          "metadata": {
            "tags": []
          },
          "execution_count": 17
        }
      ]
    },
    {
      "cell_type": "code",
      "metadata": {
        "id": "L6Q-E-ajpqP2",
        "outputId": "fc91ac2d-5a1c-4fa4-9507-a1c80426fb6f",
        "colab": {
          "base_uri": "https://localhost:8080/",
          "height": 1000
        }
      },
      "source": [
        "duplicate[duplicate[['description', 'variety']].eq(vardescr[['description', 'variety']]).all(axis=1)==False]"
      ],
      "execution_count": 18,
      "outputs": [
        {
          "output_type": "execute_result",
          "data": {
            "text/html": [
              "<div>\n",
              "<style scoped>\n",
              "    .dataframe tbody tr th:only-of-type {\n",
              "        vertical-align: middle;\n",
              "    }\n",
              "\n",
              "    .dataframe tbody tr th {\n",
              "        vertical-align: top;\n",
              "    }\n",
              "\n",
              "    .dataframe thead th {\n",
              "        text-align: right;\n",
              "    }\n",
              "</style>\n",
              "<table border=\"1\" class=\"dataframe\">\n",
              "  <thead>\n",
              "    <tr style=\"text-align: right;\">\n",
              "      <th></th>\n",
              "      <th>Unnamed: 0</th>\n",
              "      <th>country</th>\n",
              "      <th>description</th>\n",
              "      <th>designation</th>\n",
              "      <th>points</th>\n",
              "      <th>price</th>\n",
              "      <th>province</th>\n",
              "      <th>region_1</th>\n",
              "      <th>region_2</th>\n",
              "      <th>taster_name</th>\n",
              "      <th>taster_twitter_handle</th>\n",
              "      <th>title</th>\n",
              "      <th>variety</th>\n",
              "      <th>winery</th>\n",
              "    </tr>\n",
              "  </thead>\n",
              "  <tbody>\n",
              "    <tr>\n",
              "      <th>16162</th>\n",
              "      <td>16162</td>\n",
              "      <td>Italy</td>\n",
              "      <td>This opens with subtle aromas of wild flower a...</td>\n",
              "      <td>Ventidue</td>\n",
              "      <td>93</td>\n",
              "      <td>35.0</td>\n",
              "      <td>Southern Italy</td>\n",
              "      <td>Fiano di Avellino</td>\n",
              "      <td>NaN</td>\n",
              "      <td>Kerin O’Keefe</td>\n",
              "      <td>@kerinokeefe</td>\n",
              "      <td>Villa Raiano 2014 Ventidue  (Fiano di Avellino)</td>\n",
              "      <td>Fiano</td>\n",
              "      <td>Villa Raiano</td>\n",
              "    </tr>\n",
              "    <tr>\n",
              "      <th>21810</th>\n",
              "      <td>21810</td>\n",
              "      <td>Italy</td>\n",
              "      <td>Vibrant and spicy, this savory red delivers ar...</td>\n",
              "      <td>Grotta Rossa</td>\n",
              "      <td>89</td>\n",
              "      <td>14.0</td>\n",
              "      <td>Sicily &amp; Sardinia</td>\n",
              "      <td>Carignano del Sulcis</td>\n",
              "      <td>NaN</td>\n",
              "      <td>Kerin O’Keefe</td>\n",
              "      <td>@kerinokeefe</td>\n",
              "      <td>Cantina Santadi 2012 Grotta Rossa  (Carignano ...</td>\n",
              "      <td>Carignano</td>\n",
              "      <td>Cantina Santadi</td>\n",
              "    </tr>\n",
              "    <tr>\n",
              "      <th>26490</th>\n",
              "      <td>26490</td>\n",
              "      <td>Italy</td>\n",
              "      <td>This opens with subtle aromas of wild flower a...</td>\n",
              "      <td>Vigne di Sande</td>\n",
              "      <td>87</td>\n",
              "      <td>NaN</td>\n",
              "      <td>Veneto</td>\n",
              "      <td>Soave</td>\n",
              "      <td>NaN</td>\n",
              "      <td>Kerin O’Keefe</td>\n",
              "      <td>@kerinokeefe</td>\n",
              "      <td>Villa Canestrari 2016 Vigne di Sande  (Soave)</td>\n",
              "      <td>Garganega</td>\n",
              "      <td>Villa Canestrari</td>\n",
              "    </tr>\n",
              "    <tr>\n",
              "      <th>31584</th>\n",
              "      <td>31584</td>\n",
              "      <td>Italy</td>\n",
              "      <td>Vibrant and spicy, this savory red delivers ar...</td>\n",
              "      <td>Costera</td>\n",
              "      <td>90</td>\n",
              "      <td>18.0</td>\n",
              "      <td>Sicily &amp; Sardinia</td>\n",
              "      <td>Cannonau di Sardegna</td>\n",
              "      <td>NaN</td>\n",
              "      <td>Kerin O’Keefe</td>\n",
              "      <td>@kerinokeefe</td>\n",
              "      <td>Argiolas 2013 Costera  (Cannonau di Sardegna)</td>\n",
              "      <td>Red Blend</td>\n",
              "      <td>Argiolas</td>\n",
              "    </tr>\n",
              "    <tr>\n",
              "      <th>33110</th>\n",
              "      <td>33110</td>\n",
              "      <td>Argentina</td>\n",
              "      <td>Stalky aromas suggest hay and green herbs, wit...</td>\n",
              "      <td>Finca La Niña</td>\n",
              "      <td>84</td>\n",
              "      <td>10.0</td>\n",
              "      <td>Mendoza Province</td>\n",
              "      <td>Mendoza</td>\n",
              "      <td>NaN</td>\n",
              "      <td>Michael Schachner</td>\n",
              "      <td>@wineschach</td>\n",
              "      <td>Don Cristobal 1492 2010 Finca La Niña Cabernet...</td>\n",
              "      <td>Cabernet Sauvignon</td>\n",
              "      <td>Don Cristobal 1492</td>\n",
              "    </tr>\n",
              "    <tr>\n",
              "      <th>33463</th>\n",
              "      <td>33463</td>\n",
              "      <td>Greece</td>\n",
              "      <td>Aromas of citrus, melon and orange blossom sta...</td>\n",
              "      <td>NaN</td>\n",
              "      <td>88</td>\n",
              "      <td>15.0</td>\n",
              "      <td>Atalanti Valley</td>\n",
              "      <td>NaN</td>\n",
              "      <td>NaN</td>\n",
              "      <td>Susan Kostrzewa</td>\n",
              "      <td>@suskostrzewa</td>\n",
              "      <td>Hatzimichalis 2015 Chardonnay (Atalanti Valley)</td>\n",
              "      <td>Chardonnay</td>\n",
              "      <td>Hatzimichalis</td>\n",
              "    </tr>\n",
              "    <tr>\n",
              "      <th>36475</th>\n",
              "      <td>36475</td>\n",
              "      <td>Italy</td>\n",
              "      <td>Green bell pepper, red currant and dark spice ...</td>\n",
              "      <td>NaN</td>\n",
              "      <td>85</td>\n",
              "      <td>NaN</td>\n",
              "      <td>Northeastern Italy</td>\n",
              "      <td>Collio</td>\n",
              "      <td>NaN</td>\n",
              "      <td>Kerin O’Keefe</td>\n",
              "      <td>@kerinokeefe</td>\n",
              "      <td>Ca'Ronesca 2013 Pinot Nero (Collio)</td>\n",
              "      <td>Pinot Nero</td>\n",
              "      <td>Ca'Ronesca</td>\n",
              "    </tr>\n",
              "    <tr>\n",
              "      <th>37160</th>\n",
              "      <td>37160</td>\n",
              "      <td>Italy</td>\n",
              "      <td>The subdued nose eventually reveals black cher...</td>\n",
              "      <td>Marchese Montefusco</td>\n",
              "      <td>85</td>\n",
              "      <td>10.0</td>\n",
              "      <td>Sicily &amp; Sardinia</td>\n",
              "      <td>Terre Siciliane</td>\n",
              "      <td>NaN</td>\n",
              "      <td>Kerin O’Keefe</td>\n",
              "      <td>@kerinokeefe</td>\n",
              "      <td>Cantine Ermes 2014 Marchese Montefusco Nero d'...</td>\n",
              "      <td>Nero d'Avola</td>\n",
              "      <td>Cantine Ermes</td>\n",
              "    </tr>\n",
              "    <tr>\n",
              "      <th>51315</th>\n",
              "      <td>51315</td>\n",
              "      <td>Australia</td>\n",
              "      <td>In 2009 this single vineyard offering includes...</td>\n",
              "      <td>Noble Baron</td>\n",
              "      <td>90</td>\n",
              "      <td>50.0</td>\n",
              "      <td>South Australia</td>\n",
              "      <td>Barossa</td>\n",
              "      <td>NaN</td>\n",
              "      <td>Joe Czerwinski</td>\n",
              "      <td>@JoeCz</td>\n",
              "      <td>Château Tanunda 2007 Noble Baron Cabernet Sauv...</td>\n",
              "      <td>Cabernet Sauvignon</td>\n",
              "      <td>Château Tanunda</td>\n",
              "    </tr>\n",
              "    <tr>\n",
              "      <th>52601</th>\n",
              "      <td>52601</td>\n",
              "      <td>Italy</td>\n",
              "      <td>This offers aromas and flavors suggesting unri...</td>\n",
              "      <td>Vermentino del marchese</td>\n",
              "      <td>85</td>\n",
              "      <td>20.0</td>\n",
              "      <td>Sicily &amp; Sardinia</td>\n",
              "      <td>Sicilia</td>\n",
              "      <td>NaN</td>\n",
              "      <td>Kerin O’Keefe</td>\n",
              "      <td>@kerinokeefe</td>\n",
              "      <td>Marchesi De Gregorio 2015 Vermentino del march...</td>\n",
              "      <td>White Blend</td>\n",
              "      <td>Marchesi De Gregorio</td>\n",
              "    </tr>\n",
              "    <tr>\n",
              "      <th>59358</th>\n",
              "      <td>59358</td>\n",
              "      <td>US</td>\n",
              "      <td>In 2009 this single vineyard offering includes...</td>\n",
              "      <td>Horse Heaven Vineyard</td>\n",
              "      <td>90</td>\n",
              "      <td>15.0</td>\n",
              "      <td>Washington</td>\n",
              "      <td>Horse Heaven Hills</td>\n",
              "      <td>Columbia Valley</td>\n",
              "      <td>Paul Gregutt</td>\n",
              "      <td>@paulgwine</td>\n",
              "      <td>Chateau Ste. Michelle 2009 Horse Heaven Vineya...</td>\n",
              "      <td>Sauvignon Blanc</td>\n",
              "      <td>Chateau Ste. Michelle</td>\n",
              "    </tr>\n",
              "    <tr>\n",
              "      <th>62186</th>\n",
              "      <td>62186</td>\n",
              "      <td>Italy</td>\n",
              "      <td>The subdued nose eventually reveals black cher...</td>\n",
              "      <td>Poggionotte</td>\n",
              "      <td>86</td>\n",
              "      <td>18.0</td>\n",
              "      <td>Sicily &amp; Sardinia</td>\n",
              "      <td>Terre Siciliane</td>\n",
              "      <td>NaN</td>\n",
              "      <td>Kerin O’Keefe</td>\n",
              "      <td>@kerinokeefe</td>\n",
              "      <td>Di Giovanna 2013 Poggionotte Red (Terre Sicili...</td>\n",
              "      <td>Red Blend</td>\n",
              "      <td>Di Giovanna</td>\n",
              "    </tr>\n",
              "    <tr>\n",
              "      <th>87797</th>\n",
              "      <td>87797</td>\n",
              "      <td>Italy</td>\n",
              "      <td>Green bell pepper, red currant and dark spice ...</td>\n",
              "      <td>NaN</td>\n",
              "      <td>90</td>\n",
              "      <td>NaN</td>\n",
              "      <td>Northeastern Italy</td>\n",
              "      <td>Collio</td>\n",
              "      <td>NaN</td>\n",
              "      <td>Kerin O’Keefe</td>\n",
              "      <td>@kerinokeefe</td>\n",
              "      <td>Zorzon 2013 Cabernet Franc (Collio)</td>\n",
              "      <td>Cabernet Franc</td>\n",
              "      <td>Zorzon</td>\n",
              "    </tr>\n",
              "    <tr>\n",
              "      <th>93839</th>\n",
              "      <td>93839</td>\n",
              "      <td>Italy</td>\n",
              "      <td>This offers aromas and flavors suggesting unri...</td>\n",
              "      <td>NaN</td>\n",
              "      <td>87</td>\n",
              "      <td>NaN</td>\n",
              "      <td>Sicily &amp; Sardinia</td>\n",
              "      <td>Terre Siciliane</td>\n",
              "      <td>NaN</td>\n",
              "      <td>Kerin O’Keefe</td>\n",
              "      <td>@kerinokeefe</td>\n",
              "      <td>MandraRossa 2015 Zibibbo (Terre Siciliane)</td>\n",
              "      <td>Zibibbo</td>\n",
              "      <td>MandraRossa</td>\n",
              "    </tr>\n",
              "    <tr>\n",
              "      <th>103115</th>\n",
              "      <td>103115</td>\n",
              "      <td>US</td>\n",
              "      <td>The tannins are so fierce on this baby Caberne...</td>\n",
              "      <td>NaN</td>\n",
              "      <td>95</td>\n",
              "      <td>65.0</td>\n",
              "      <td>California</td>\n",
              "      <td>Howell Mountain</td>\n",
              "      <td>Napa</td>\n",
              "      <td>NaN</td>\n",
              "      <td>NaN</td>\n",
              "      <td>La Jota Vineyard 2009 Cabernet Sauvignon (Howe...</td>\n",
              "      <td>Cabernet Sauvignon</td>\n",
              "      <td>La Jota Vineyard</td>\n",
              "    </tr>\n",
              "    <tr>\n",
              "      <th>113218</th>\n",
              "      <td>113218</td>\n",
              "      <td>US</td>\n",
              "      <td>Gravenstein apple, honeysuckle and jasmine aro...</td>\n",
              "      <td>NaN</td>\n",
              "      <td>89</td>\n",
              "      <td>24.0</td>\n",
              "      <td>California</td>\n",
              "      <td>Paso Robles</td>\n",
              "      <td>Central Coast</td>\n",
              "      <td>Matt Kettmann</td>\n",
              "      <td>@mattkettmann</td>\n",
              "      <td>Broken Earth 2015 Grenache Blanc (Paso Robles)</td>\n",
              "      <td>Grenache Blanc</td>\n",
              "      <td>Broken Earth</td>\n",
              "    </tr>\n",
              "    <tr>\n",
              "      <th>118069</th>\n",
              "      <td>118069</td>\n",
              "      <td>US</td>\n",
              "      <td>The tannins are so fierce on this baby Caberne...</td>\n",
              "      <td>NaN</td>\n",
              "      <td>95</td>\n",
              "      <td>55.0</td>\n",
              "      <td>California</td>\n",
              "      <td>Howell Mountain</td>\n",
              "      <td>Napa</td>\n",
              "      <td>NaN</td>\n",
              "      <td>NaN</td>\n",
              "      <td>La Jota Vineyard 2009 Merlot (Howell Mountain)</td>\n",
              "      <td>Merlot</td>\n",
              "      <td>La Jota Vineyard</td>\n",
              "    </tr>\n",
              "    <tr>\n",
              "      <th>124931</th>\n",
              "      <td>124931</td>\n",
              "      <td>Greece</td>\n",
              "      <td>Aromas of citrus, melon and orange blossom sta...</td>\n",
              "      <td>NaN</td>\n",
              "      <td>89</td>\n",
              "      <td>22.0</td>\n",
              "      <td>Cephalonia</td>\n",
              "      <td>NaN</td>\n",
              "      <td>NaN</td>\n",
              "      <td>Susan Kostrzewa</td>\n",
              "      <td>@suskostrzewa</td>\n",
              "      <td>Gentilini 2015 Robola (Cephalonia)</td>\n",
              "      <td>Robola</td>\n",
              "      <td>Gentilini</td>\n",
              "    </tr>\n",
              "  </tbody>\n",
              "</table>\n",
              "</div>"
            ],
            "text/plain": [
              "        Unnamed: 0    country  ...             variety                 winery\n",
              "16162        16162      Italy  ...               Fiano           Villa Raiano\n",
              "21810        21810      Italy  ...           Carignano        Cantina Santadi\n",
              "26490        26490      Italy  ...           Garganega       Villa Canestrari\n",
              "31584        31584      Italy  ...           Red Blend               Argiolas\n",
              "33110        33110  Argentina  ...  Cabernet Sauvignon     Don Cristobal 1492\n",
              "33463        33463     Greece  ...          Chardonnay          Hatzimichalis\n",
              "36475        36475      Italy  ...          Pinot Nero             Ca'Ronesca\n",
              "37160        37160      Italy  ...        Nero d'Avola          Cantine Ermes\n",
              "51315        51315  Australia  ...  Cabernet Sauvignon        Château Tanunda\n",
              "52601        52601      Italy  ...         White Blend   Marchesi De Gregorio\n",
              "59358        59358         US  ...     Sauvignon Blanc  Chateau Ste. Michelle\n",
              "62186        62186      Italy  ...           Red Blend            Di Giovanna\n",
              "87797        87797      Italy  ...      Cabernet Franc                 Zorzon\n",
              "93839        93839      Italy  ...             Zibibbo            MandraRossa\n",
              "103115      103115         US  ...  Cabernet Sauvignon       La Jota Vineyard\n",
              "113218      113218         US  ...      Grenache Blanc           Broken Earth\n",
              "118069      118069         US  ...              Merlot       La Jota Vineyard\n",
              "124931      124931     Greece  ...              Robola              Gentilini\n",
              "\n",
              "[18 rows x 14 columns]"
            ]
          },
          "metadata": {
            "tags": []
          },
          "execution_count": 18
        }
      ]
    },
    {
      "cell_type": "code",
      "metadata": {
        "id": "RI0mdUDjqK4r",
        "outputId": "676e30b1-e70c-4ebd-844e-4006f44e8ea2",
        "colab": {
          "base_uri": "https://localhost:8080/"
        }
      },
      "source": [
        "df.isna().sum()"
      ],
      "execution_count": 19,
      "outputs": [
        {
          "output_type": "execute_result",
          "data": {
            "text/plain": [
              "Unnamed: 0                   0\n",
              "country                     63\n",
              "description                  0\n",
              "designation              37465\n",
              "points                       0\n",
              "price                     8996\n",
              "province                    63\n",
              "region_1                 21247\n",
              "region_2                 79460\n",
              "taster_name              26244\n",
              "taster_twitter_handle    31213\n",
              "title                        0\n",
              "variety                      1\n",
              "winery                       0\n",
              "dtype: int64"
            ]
          },
          "metadata": {
            "tags": []
          },
          "execution_count": 19
        }
      ]
    },
    {
      "cell_type": "code",
      "metadata": {
        "id": "OXs7vETAx3C-"
      },
      "source": [
        "top40df = pd.DataFrame(df['variety'].value_counts().head(20))"
      ],
      "execution_count": 20,
      "outputs": []
    },
    {
      "cell_type": "code",
      "metadata": {
        "id": "kDoF-qH40xYx",
        "outputId": "131352b4-a5db-404b-98bc-8ae8bacb928d",
        "colab": {
          "base_uri": "https://localhost:8080/",
          "height": 677
        }
      },
      "source": [
        "top40df"
      ],
      "execution_count": 21,
      "outputs": [
        {
          "output_type": "execute_result",
          "data": {
            "text/html": [
              "<div>\n",
              "<style scoped>\n",
              "    .dataframe tbody tr th:only-of-type {\n",
              "        vertical-align: middle;\n",
              "    }\n",
              "\n",
              "    .dataframe tbody tr th {\n",
              "        vertical-align: top;\n",
              "    }\n",
              "\n",
              "    .dataframe thead th {\n",
              "        text-align: right;\n",
              "    }\n",
              "</style>\n",
              "<table border=\"1\" class=\"dataframe\">\n",
              "  <thead>\n",
              "    <tr style=\"text-align: right;\">\n",
              "      <th></th>\n",
              "      <th>variety</th>\n",
              "    </tr>\n",
              "  </thead>\n",
              "  <tbody>\n",
              "    <tr>\n",
              "      <th>Pinot Noir</th>\n",
              "      <td>13272</td>\n",
              "    </tr>\n",
              "    <tr>\n",
              "      <th>Chardonnay</th>\n",
              "      <td>11753</td>\n",
              "    </tr>\n",
              "    <tr>\n",
              "      <th>Cabernet Sauvignon</th>\n",
              "      <td>9472</td>\n",
              "    </tr>\n",
              "    <tr>\n",
              "      <th>Red Blend</th>\n",
              "      <td>8946</td>\n",
              "    </tr>\n",
              "    <tr>\n",
              "      <th>Bordeaux-style Red Blend</th>\n",
              "      <td>6915</td>\n",
              "    </tr>\n",
              "    <tr>\n",
              "      <th>Riesling</th>\n",
              "      <td>5189</td>\n",
              "    </tr>\n",
              "    <tr>\n",
              "      <th>Sauvignon Blanc</th>\n",
              "      <td>4967</td>\n",
              "    </tr>\n",
              "    <tr>\n",
              "      <th>Syrah</th>\n",
              "      <td>4142</td>\n",
              "    </tr>\n",
              "    <tr>\n",
              "      <th>Rosé</th>\n",
              "      <td>3564</td>\n",
              "    </tr>\n",
              "    <tr>\n",
              "      <th>Merlot</th>\n",
              "      <td>3102</td>\n",
              "    </tr>\n",
              "    <tr>\n",
              "      <th>Nebbiolo</th>\n",
              "      <td>2804</td>\n",
              "    </tr>\n",
              "    <tr>\n",
              "      <th>Zinfandel</th>\n",
              "      <td>2714</td>\n",
              "    </tr>\n",
              "    <tr>\n",
              "      <th>Sangiovese</th>\n",
              "      <td>2707</td>\n",
              "    </tr>\n",
              "    <tr>\n",
              "      <th>Malbec</th>\n",
              "      <td>2652</td>\n",
              "    </tr>\n",
              "    <tr>\n",
              "      <th>Portuguese Red</th>\n",
              "      <td>2466</td>\n",
              "    </tr>\n",
              "    <tr>\n",
              "      <th>White Blend</th>\n",
              "      <td>2360</td>\n",
              "    </tr>\n",
              "    <tr>\n",
              "      <th>Sparkling Blend</th>\n",
              "      <td>2153</td>\n",
              "    </tr>\n",
              "    <tr>\n",
              "      <th>Tempranillo</th>\n",
              "      <td>1810</td>\n",
              "    </tr>\n",
              "    <tr>\n",
              "      <th>Rhône-style Red Blend</th>\n",
              "      <td>1471</td>\n",
              "    </tr>\n",
              "    <tr>\n",
              "      <th>Pinot Gris</th>\n",
              "      <td>1455</td>\n",
              "    </tr>\n",
              "  </tbody>\n",
              "</table>\n",
              "</div>"
            ],
            "text/plain": [
              "                          variety\n",
              "Pinot Noir                  13272\n",
              "Chardonnay                  11753\n",
              "Cabernet Sauvignon           9472\n",
              "Red Blend                    8946\n",
              "Bordeaux-style Red Blend     6915\n",
              "Riesling                     5189\n",
              "Sauvignon Blanc              4967\n",
              "Syrah                        4142\n",
              "Rosé                         3564\n",
              "Merlot                       3102\n",
              "Nebbiolo                     2804\n",
              "Zinfandel                    2714\n",
              "Sangiovese                   2707\n",
              "Malbec                       2652\n",
              "Portuguese Red               2466\n",
              "White Blend                  2360\n",
              "Sparkling Blend              2153\n",
              "Tempranillo                  1810\n",
              "Rhône-style Red Blend        1471\n",
              "Pinot Gris                   1455"
            ]
          },
          "metadata": {
            "tags": []
          },
          "execution_count": 21
        }
      ]
    },
    {
      "cell_type": "code",
      "metadata": {
        "id": "QSsRKfWwJjpq"
      },
      "source": [
        "newdf = df[df['variety'].isin(top40df.index)]"
      ],
      "execution_count": 22,
      "outputs": []
    },
    {
      "cell_type": "code",
      "metadata": {
        "id": "QZt28twL11VG",
        "outputId": "279d9d01-57f0-419e-d6dc-0ab20653fde9",
        "colab": {
          "base_uri": "https://localhost:8080/",
          "height": 288
        }
      },
      "source": [
        "# threshold of miniority variety to over sample (use sentences as document instead of the whole description)\n",
        "minority_threshold = 5000 \n",
        "\n",
        "# making a dataframe of the miniority classes\n",
        "minority_df = newdf[newdf['variety'].isin(top40df[top40df <  minority_threshold].dropna().index)]\n",
        "print(minority_df.shape)\n",
        "print(len(minority_df['variety'].unique()))\n",
        "minority_df.head(2)"
      ],
      "execution_count": 23,
      "outputs": [
        {
          "output_type": "stream",
          "text": [
            "(38367, 14)\n",
            "14\n"
          ],
          "name": "stdout"
        },
        {
          "output_type": "execute_result",
          "data": {
            "text/html": [
              "<div>\n",
              "<style scoped>\n",
              "    .dataframe tbody tr th:only-of-type {\n",
              "        vertical-align: middle;\n",
              "    }\n",
              "\n",
              "    .dataframe tbody tr th {\n",
              "        vertical-align: top;\n",
              "    }\n",
              "\n",
              "    .dataframe thead th {\n",
              "        text-align: right;\n",
              "    }\n",
              "</style>\n",
              "<table border=\"1\" class=\"dataframe\">\n",
              "  <thead>\n",
              "    <tr style=\"text-align: right;\">\n",
              "      <th></th>\n",
              "      <th>Unnamed: 0</th>\n",
              "      <th>country</th>\n",
              "      <th>description</th>\n",
              "      <th>designation</th>\n",
              "      <th>points</th>\n",
              "      <th>price</th>\n",
              "      <th>province</th>\n",
              "      <th>region_1</th>\n",
              "      <th>region_2</th>\n",
              "      <th>taster_name</th>\n",
              "      <th>taster_twitter_handle</th>\n",
              "      <th>title</th>\n",
              "      <th>variety</th>\n",
              "      <th>winery</th>\n",
              "    </tr>\n",
              "  </thead>\n",
              "  <tbody>\n",
              "    <tr>\n",
              "      <th>0</th>\n",
              "      <td>0</td>\n",
              "      <td>Italy</td>\n",
              "      <td>Aromas include tropical fruit, broom, brimston...</td>\n",
              "      <td>Vulkà Bianco</td>\n",
              "      <td>87</td>\n",
              "      <td>NaN</td>\n",
              "      <td>Sicily &amp; Sardinia</td>\n",
              "      <td>Etna</td>\n",
              "      <td>NaN</td>\n",
              "      <td>Kerin O’Keefe</td>\n",
              "      <td>@kerinokeefe</td>\n",
              "      <td>Nicosia 2013 Vulkà Bianco  (Etna)</td>\n",
              "      <td>White Blend</td>\n",
              "      <td>Nicosia</td>\n",
              "    </tr>\n",
              "    <tr>\n",
              "      <th>1</th>\n",
              "      <td>1</td>\n",
              "      <td>Portugal</td>\n",
              "      <td>This is ripe and fruity, a wine that is smooth...</td>\n",
              "      <td>Avidagos</td>\n",
              "      <td>87</td>\n",
              "      <td>15.0</td>\n",
              "      <td>Douro</td>\n",
              "      <td>NaN</td>\n",
              "      <td>NaN</td>\n",
              "      <td>Roger Voss</td>\n",
              "      <td>@vossroger</td>\n",
              "      <td>Quinta dos Avidagos 2011 Avidagos Red (Douro)</td>\n",
              "      <td>Portuguese Red</td>\n",
              "      <td>Quinta dos Avidagos</td>\n",
              "    </tr>\n",
              "  </tbody>\n",
              "</table>\n",
              "</div>"
            ],
            "text/plain": [
              "   Unnamed: 0   country  ...         variety               winery\n",
              "0           0     Italy  ...     White Blend              Nicosia\n",
              "1           1  Portugal  ...  Portuguese Red  Quinta dos Avidagos\n",
              "\n",
              "[2 rows x 14 columns]"
            ]
          },
          "metadata": {
            "tags": []
          },
          "execution_count": 23
        }
      ]
    },
    {
      "cell_type": "code",
      "metadata": {
        "id": "nmIIbGQ9NlxR",
        "outputId": "ea775eaa-686e-4f6e-88d3-1a77457b6024",
        "colab": {
          "base_uri": "https://localhost:8080/"
        }
      },
      "source": [
        "import nltk\n",
        "nltk.download('punkt')"
      ],
      "execution_count": 24,
      "outputs": [
        {
          "output_type": "stream",
          "text": [
            "[nltk_data] Downloading package punkt to /root/nltk_data...\n",
            "[nltk_data]   Unzipping tokenizers/punkt.zip.\n"
          ],
          "name": "stdout"
        },
        {
          "output_type": "execute_result",
          "data": {
            "text/plain": [
              "True"
            ]
          },
          "metadata": {
            "tags": []
          },
          "execution_count": 24
        }
      ]
    },
    {
      "cell_type": "code",
      "metadata": {
        "id": "8AEKhrdlNOlr"
      },
      "source": [
        "from nltk.tokenize import sent_tokenize # importing useful library"
      ],
      "execution_count": 25,
      "outputs": []
    },
    {
      "cell_type": "code",
      "metadata": {
        "id": "CJtEZTSMNOpH"
      },
      "source": [
        "oversampled_miniority_lst = [] # empty list to store sentences as tokens miniority corpus\n",
        "\n",
        "# creating a function to use sentences as tokens for the miniority classes\n",
        "def over_sample_miniority(row):\n",
        "    doc_list = sent_tokenize(row['description'])\n",
        "    for sent in doc_list:\n",
        "        row['description'] = sent\n",
        "        oversampled_miniority_lst.append(list(row))"
      ],
      "execution_count": 26,
      "outputs": []
    },
    {
      "cell_type": "code",
      "metadata": {
        "id": "l0Kud8nFNOsb"
      },
      "source": [
        "minority_df.apply(over_sample_miniority, axis=1); # over sample the miniority classes"
      ],
      "execution_count": 27,
      "outputs": []
    },
    {
      "cell_type": "code",
      "metadata": {
        "id": "S9crvqOkNOva",
        "outputId": "74dda4ec-da22-43f2-a5e3-c4a20a2217d1",
        "colab": {
          "base_uri": "https://localhost:8080/"
        }
      },
      "source": [
        "oversampled_miniority_lst[:4]"
      ],
      "execution_count": 28,
      "outputs": [
        {
          "output_type": "execute_result",
          "data": {
            "text/plain": [
              "[[0,\n",
              "  'Italy',\n",
              "  'Aromas include tropical fruit, broom, brimstone and dried herb.',\n",
              "  'Vulkà Bianco',\n",
              "  87,\n",
              "  nan,\n",
              "  'Sicily & Sardinia',\n",
              "  'Etna',\n",
              "  nan,\n",
              "  'Kerin O’Keefe',\n",
              "  '@kerinokeefe',\n",
              "  'Nicosia 2013 Vulkà Bianco  (Etna)',\n",
              "  'White Blend',\n",
              "  'Nicosia'],\n",
              " [0,\n",
              "  'Italy',\n",
              "  \"The palate isn't overly expressive, offering unripened apple, citrus and dried sage alongside brisk acidity.\",\n",
              "  'Vulkà Bianco',\n",
              "  87,\n",
              "  nan,\n",
              "  'Sicily & Sardinia',\n",
              "  'Etna',\n",
              "  nan,\n",
              "  'Kerin O’Keefe',\n",
              "  '@kerinokeefe',\n",
              "  'Nicosia 2013 Vulkà Bianco  (Etna)',\n",
              "  'White Blend',\n",
              "  'Nicosia'],\n",
              " [1,\n",
              "  'Portugal',\n",
              "  'This is ripe and fruity, a wine that is smooth while still structured.',\n",
              "  'Avidagos',\n",
              "  87,\n",
              "  15.0,\n",
              "  'Douro',\n",
              "  nan,\n",
              "  nan,\n",
              "  'Roger Voss',\n",
              "  '@vossroger',\n",
              "  'Quinta dos Avidagos 2011 Avidagos Red (Douro)',\n",
              "  'Portuguese Red',\n",
              "  'Quinta dos Avidagos'],\n",
              " [1,\n",
              "  'Portugal',\n",
              "  'Firm tannins are filled out with juicy red berry fruits and freshened with acidity.',\n",
              "  'Avidagos',\n",
              "  87,\n",
              "  15.0,\n",
              "  'Douro',\n",
              "  nan,\n",
              "  nan,\n",
              "  'Roger Voss',\n",
              "  '@vossroger',\n",
              "  'Quinta dos Avidagos 2011 Avidagos Red (Douro)',\n",
              "  'Portuguese Red',\n",
              "  'Quinta dos Avidagos']]"
            ]
          },
          "metadata": {
            "tags": []
          },
          "execution_count": 28
        }
      ]
    },
    {
      "cell_type": "code",
      "metadata": {
        "id": "Vn2OGOc2NOy4",
        "outputId": "fb2abd7f-2388-4566-9a46-7a150f255f84",
        "colab": {
          "base_uri": "https://localhost:8080/",
          "height": 252
        }
      },
      "source": [
        "# converts oversampled_miniority_lst to a dataframe\n",
        "oversampled_miniority_df = pd.DataFrame(oversampled_miniority_lst, columns=minority_df.columns)\n",
        "print(oversampled_miniority_df.shape)\n",
        "oversampled_miniority_df.head(2)"
      ],
      "execution_count": 29,
      "outputs": [
        {
          "output_type": "stream",
          "text": [
            "(104101, 14)\n"
          ],
          "name": "stdout"
        },
        {
          "output_type": "execute_result",
          "data": {
            "text/html": [
              "<div>\n",
              "<style scoped>\n",
              "    .dataframe tbody tr th:only-of-type {\n",
              "        vertical-align: middle;\n",
              "    }\n",
              "\n",
              "    .dataframe tbody tr th {\n",
              "        vertical-align: top;\n",
              "    }\n",
              "\n",
              "    .dataframe thead th {\n",
              "        text-align: right;\n",
              "    }\n",
              "</style>\n",
              "<table border=\"1\" class=\"dataframe\">\n",
              "  <thead>\n",
              "    <tr style=\"text-align: right;\">\n",
              "      <th></th>\n",
              "      <th>Unnamed: 0</th>\n",
              "      <th>country</th>\n",
              "      <th>description</th>\n",
              "      <th>designation</th>\n",
              "      <th>points</th>\n",
              "      <th>price</th>\n",
              "      <th>province</th>\n",
              "      <th>region_1</th>\n",
              "      <th>region_2</th>\n",
              "      <th>taster_name</th>\n",
              "      <th>taster_twitter_handle</th>\n",
              "      <th>title</th>\n",
              "      <th>variety</th>\n",
              "      <th>winery</th>\n",
              "    </tr>\n",
              "  </thead>\n",
              "  <tbody>\n",
              "    <tr>\n",
              "      <th>0</th>\n",
              "      <td>0</td>\n",
              "      <td>Italy</td>\n",
              "      <td>Aromas include tropical fruit, broom, brimston...</td>\n",
              "      <td>Vulkà Bianco</td>\n",
              "      <td>87</td>\n",
              "      <td>NaN</td>\n",
              "      <td>Sicily &amp; Sardinia</td>\n",
              "      <td>Etna</td>\n",
              "      <td>NaN</td>\n",
              "      <td>Kerin O’Keefe</td>\n",
              "      <td>@kerinokeefe</td>\n",
              "      <td>Nicosia 2013 Vulkà Bianco  (Etna)</td>\n",
              "      <td>White Blend</td>\n",
              "      <td>Nicosia</td>\n",
              "    </tr>\n",
              "    <tr>\n",
              "      <th>1</th>\n",
              "      <td>0</td>\n",
              "      <td>Italy</td>\n",
              "      <td>The palate isn't overly expressive, offering u...</td>\n",
              "      <td>Vulkà Bianco</td>\n",
              "      <td>87</td>\n",
              "      <td>NaN</td>\n",
              "      <td>Sicily &amp; Sardinia</td>\n",
              "      <td>Etna</td>\n",
              "      <td>NaN</td>\n",
              "      <td>Kerin O’Keefe</td>\n",
              "      <td>@kerinokeefe</td>\n",
              "      <td>Nicosia 2013 Vulkà Bianco  (Etna)</td>\n",
              "      <td>White Blend</td>\n",
              "      <td>Nicosia</td>\n",
              "    </tr>\n",
              "  </tbody>\n",
              "</table>\n",
              "</div>"
            ],
            "text/plain": [
              "   Unnamed: 0 country  ...      variety   winery\n",
              "0           0   Italy  ...  White Blend  Nicosia\n",
              "1           0   Italy  ...  White Blend  Nicosia\n",
              "\n",
              "[2 rows x 14 columns]"
            ]
          },
          "metadata": {
            "tags": []
          },
          "execution_count": 29
        }
      ]
    },
    {
      "cell_type": "code",
      "metadata": {
        "id": "EtjtCLp3NO2E",
        "outputId": "9eafb1cb-3fa7-49fa-d7fe-ddbeeaf1f94c",
        "colab": {
          "base_uri": "https://localhost:8080/",
          "height": 304
        }
      },
      "source": [
        "\n",
        "\n",
        "# selecting majority classes as a dataframe to concatenate to oversampled_miniority_lst\n",
        "majority_df = newdf[newdf['variety'].isin(top40df[top40df >= minority_threshold].dropna().index)]\n",
        "\n",
        "# concatenates majority_df to oversampled_miniority_lst\n",
        "balanced_df = pd.concat([majority_df, oversampled_miniority_df]) \n",
        "balanced_df = balanced_df.reset_index().drop('index', axis=1) # resets index\n",
        "print(balanced_df.shape)\n",
        "balanced_df.head(2)\n",
        "\n"
      ],
      "execution_count": 30,
      "outputs": [
        {
          "output_type": "stream",
          "text": [
            "(159648, 14)\n"
          ],
          "name": "stdout"
        },
        {
          "output_type": "execute_result",
          "data": {
            "text/html": [
              "<div>\n",
              "<style scoped>\n",
              "    .dataframe tbody tr th:only-of-type {\n",
              "        vertical-align: middle;\n",
              "    }\n",
              "\n",
              "    .dataframe tbody tr th {\n",
              "        vertical-align: top;\n",
              "    }\n",
              "\n",
              "    .dataframe thead th {\n",
              "        text-align: right;\n",
              "    }\n",
              "</style>\n",
              "<table border=\"1\" class=\"dataframe\">\n",
              "  <thead>\n",
              "    <tr style=\"text-align: right;\">\n",
              "      <th></th>\n",
              "      <th>Unnamed: 0</th>\n",
              "      <th>country</th>\n",
              "      <th>description</th>\n",
              "      <th>designation</th>\n",
              "      <th>points</th>\n",
              "      <th>price</th>\n",
              "      <th>province</th>\n",
              "      <th>region_1</th>\n",
              "      <th>region_2</th>\n",
              "      <th>taster_name</th>\n",
              "      <th>taster_twitter_handle</th>\n",
              "      <th>title</th>\n",
              "      <th>variety</th>\n",
              "      <th>winery</th>\n",
              "    </tr>\n",
              "  </thead>\n",
              "  <tbody>\n",
              "    <tr>\n",
              "      <th>0</th>\n",
              "      <td>3</td>\n",
              "      <td>US</td>\n",
              "      <td>Pineapple rind, lemon pith and orange blossom ...</td>\n",
              "      <td>Reserve Late Harvest</td>\n",
              "      <td>87</td>\n",
              "      <td>13.0</td>\n",
              "      <td>Michigan</td>\n",
              "      <td>Lake Michigan Shore</td>\n",
              "      <td>NaN</td>\n",
              "      <td>Alexander Peartree</td>\n",
              "      <td>NaN</td>\n",
              "      <td>St. Julian 2013 Reserve Late Harvest Riesling ...</td>\n",
              "      <td>Riesling</td>\n",
              "      <td>St. Julian</td>\n",
              "    </tr>\n",
              "    <tr>\n",
              "      <th>1</th>\n",
              "      <td>4</td>\n",
              "      <td>US</td>\n",
              "      <td>Much like the regular bottling from 2012, this...</td>\n",
              "      <td>Vintner's Reserve Wild Child Block</td>\n",
              "      <td>87</td>\n",
              "      <td>65.0</td>\n",
              "      <td>Oregon</td>\n",
              "      <td>Willamette Valley</td>\n",
              "      <td>Willamette Valley</td>\n",
              "      <td>Paul Gregutt</td>\n",
              "      <td>@paulgwine</td>\n",
              "      <td>Sweet Cheeks 2012 Vintner's Reserve Wild Child...</td>\n",
              "      <td>Pinot Noir</td>\n",
              "      <td>Sweet Cheeks</td>\n",
              "    </tr>\n",
              "  </tbody>\n",
              "</table>\n",
              "</div>"
            ],
            "text/plain": [
              "   Unnamed: 0 country  ...     variety        winery\n",
              "0           3      US  ...    Riesling    St. Julian\n",
              "1           4      US  ...  Pinot Noir  Sweet Cheeks\n",
              "\n",
              "[2 rows x 14 columns]"
            ]
          },
          "metadata": {
            "tags": []
          },
          "execution_count": 30
        }
      ]
    },
    {
      "cell_type": "code",
      "metadata": {
        "id": "Dt12oqFuPdNC"
      },
      "source": [
        "balanced_df.drop('Unnamed: 0', inplace=True, axis=1)"
      ],
      "execution_count": 31,
      "outputs": []
    },
    {
      "cell_type": "code",
      "metadata": {
        "id": "ntemhAo23BO5",
        "outputId": "ce38697a-10cb-49ba-ee5a-1e93f45f6f6b",
        "colab": {
          "base_uri": "https://localhost:8080/"
        }
      },
      "source": [
        "balanced_df.isna().sum()"
      ],
      "execution_count": 32,
      "outputs": [
        {
          "output_type": "execute_result",
          "data": {
            "text/plain": [
              "country                     69\n",
              "description                  0\n",
              "designation              43512\n",
              "points                       0\n",
              "price                     9325\n",
              "province                    69\n",
              "region_1                 25858\n",
              "region_2                 95561\n",
              "taster_name              30409\n",
              "taster_twitter_handle    35171\n",
              "title                        0\n",
              "variety                      0\n",
              "winery                       0\n",
              "dtype: int64"
            ]
          },
          "metadata": {
            "tags": []
          },
          "execution_count": 32
        }
      ]
    },
    {
      "cell_type": "code",
      "metadata": {
        "id": "6zb4f_w29EP7"
      },
      "source": [
        "balanced_df['country'].replace({'US':'United States of America'}, inplace=True)"
      ],
      "execution_count": 33,
      "outputs": []
    },
    {
      "cell_type": "code",
      "metadata": {
        "id": "hpD5RXai9gj3",
        "outputId": "f8e47455-6c94-491d-c402-5507c9d92a3a",
        "colab": {
          "base_uri": "https://localhost:8080/",
          "height": 449
        }
      },
      "source": [
        "balanced_df.head()"
      ],
      "execution_count": 34,
      "outputs": [
        {
          "output_type": "execute_result",
          "data": {
            "text/html": [
              "<div>\n",
              "<style scoped>\n",
              "    .dataframe tbody tr th:only-of-type {\n",
              "        vertical-align: middle;\n",
              "    }\n",
              "\n",
              "    .dataframe tbody tr th {\n",
              "        vertical-align: top;\n",
              "    }\n",
              "\n",
              "    .dataframe thead th {\n",
              "        text-align: right;\n",
              "    }\n",
              "</style>\n",
              "<table border=\"1\" class=\"dataframe\">\n",
              "  <thead>\n",
              "    <tr style=\"text-align: right;\">\n",
              "      <th></th>\n",
              "      <th>country</th>\n",
              "      <th>description</th>\n",
              "      <th>designation</th>\n",
              "      <th>points</th>\n",
              "      <th>price</th>\n",
              "      <th>province</th>\n",
              "      <th>region_1</th>\n",
              "      <th>region_2</th>\n",
              "      <th>taster_name</th>\n",
              "      <th>taster_twitter_handle</th>\n",
              "      <th>title</th>\n",
              "      <th>variety</th>\n",
              "      <th>winery</th>\n",
              "    </tr>\n",
              "  </thead>\n",
              "  <tbody>\n",
              "    <tr>\n",
              "      <th>0</th>\n",
              "      <td>United States of America</td>\n",
              "      <td>Pineapple rind, lemon pith and orange blossom ...</td>\n",
              "      <td>Reserve Late Harvest</td>\n",
              "      <td>87</td>\n",
              "      <td>13.0</td>\n",
              "      <td>Michigan</td>\n",
              "      <td>Lake Michigan Shore</td>\n",
              "      <td>NaN</td>\n",
              "      <td>Alexander Peartree</td>\n",
              "      <td>NaN</td>\n",
              "      <td>St. Julian 2013 Reserve Late Harvest Riesling ...</td>\n",
              "      <td>Riesling</td>\n",
              "      <td>St. Julian</td>\n",
              "    </tr>\n",
              "    <tr>\n",
              "      <th>1</th>\n",
              "      <td>United States of America</td>\n",
              "      <td>Much like the regular bottling from 2012, this...</td>\n",
              "      <td>Vintner's Reserve Wild Child Block</td>\n",
              "      <td>87</td>\n",
              "      <td>65.0</td>\n",
              "      <td>Oregon</td>\n",
              "      <td>Willamette Valley</td>\n",
              "      <td>Willamette Valley</td>\n",
              "      <td>Paul Gregutt</td>\n",
              "      <td>@paulgwine</td>\n",
              "      <td>Sweet Cheeks 2012 Vintner's Reserve Wild Child...</td>\n",
              "      <td>Pinot Noir</td>\n",
              "      <td>Sweet Cheeks</td>\n",
              "    </tr>\n",
              "    <tr>\n",
              "      <th>2</th>\n",
              "      <td>United States of America</td>\n",
              "      <td>Soft, supple plum envelopes an oaky structure ...</td>\n",
              "      <td>Mountain Cuvée</td>\n",
              "      <td>87</td>\n",
              "      <td>19.0</td>\n",
              "      <td>California</td>\n",
              "      <td>Napa Valley</td>\n",
              "      <td>Napa</td>\n",
              "      <td>Virginie Boone</td>\n",
              "      <td>@vboone</td>\n",
              "      <td>Kirkland Signature 2011 Mountain Cuvée Caberne...</td>\n",
              "      <td>Cabernet Sauvignon</td>\n",
              "      <td>Kirkland Signature</td>\n",
              "    </tr>\n",
              "    <tr>\n",
              "      <th>3</th>\n",
              "      <td>United States of America</td>\n",
              "      <td>Slightly reduced, this wine offers a chalky, t...</td>\n",
              "      <td>NaN</td>\n",
              "      <td>87</td>\n",
              "      <td>34.0</td>\n",
              "      <td>California</td>\n",
              "      <td>Alexander Valley</td>\n",
              "      <td>Sonoma</td>\n",
              "      <td>Virginie Boone</td>\n",
              "      <td>@vboone</td>\n",
              "      <td>Louis M. Martini 2012 Cabernet Sauvignon (Alex...</td>\n",
              "      <td>Cabernet Sauvignon</td>\n",
              "      <td>Louis M. Martini</td>\n",
              "    </tr>\n",
              "    <tr>\n",
              "      <th>4</th>\n",
              "      <td>United States of America</td>\n",
              "      <td>Building on 150 years and six generations of w...</td>\n",
              "      <td>NaN</td>\n",
              "      <td>87</td>\n",
              "      <td>12.0</td>\n",
              "      <td>California</td>\n",
              "      <td>Central Coast</td>\n",
              "      <td>Central Coast</td>\n",
              "      <td>Matt Kettmann</td>\n",
              "      <td>@mattkettmann</td>\n",
              "      <td>Mirassou 2012 Chardonnay (Central Coast)</td>\n",
              "      <td>Chardonnay</td>\n",
              "      <td>Mirassou</td>\n",
              "    </tr>\n",
              "  </tbody>\n",
              "</table>\n",
              "</div>"
            ],
            "text/plain": [
              "                    country  ...              winery\n",
              "0  United States of America  ...          St. Julian\n",
              "1  United States of America  ...        Sweet Cheeks\n",
              "2  United States of America  ...  Kirkland Signature\n",
              "3  United States of America  ...    Louis M. Martini\n",
              "4  United States of America  ...            Mirassou\n",
              "\n",
              "[5 rows x 13 columns]"
            ]
          },
          "metadata": {
            "tags": []
          },
          "execution_count": 34
        }
      ]
    },
    {
      "cell_type": "code",
      "metadata": {
        "id": "Qoa6MN5R-S4l",
        "outputId": "97f1330f-4a20-4be6-9cba-feb0d1df8c03",
        "colab": {
          "base_uri": "https://localhost:8080/"
        }
      },
      "source": [
        "balanced_variety = balanced_df['variety'].value_counts() # gets a Series of the variety count in balanced_df\n",
        "balanced_variety"
      ],
      "execution_count": 35,
      "outputs": [
        {
          "output_type": "execute_result",
          "data": {
            "text/plain": [
              "Pinot Noir                  13272\n",
              "Sauvignon Blanc             12801\n",
              "Chardonnay                  11753\n",
              "Syrah                       11128\n",
              "Cabernet Sauvignon           9472\n",
              "Rosé                         9207\n",
              "Red Blend                    8946\n",
              "Nebbiolo                     8107\n",
              "Malbec                       8047\n",
              "Merlot                       7874\n",
              "Portuguese Red               7734\n",
              "Sangiovese                   7432\n",
              "Bordeaux-style Red Blend     6915\n",
              "Zinfandel                    6512\n",
              "White Blend                  6034\n",
              "Sparkling Blend              5740\n",
              "Tempranillo                  5552\n",
              "Riesling                     5189\n",
              "Rhône-style Red Blend        3972\n",
              "Pinot Gris                   3961\n",
              "Name: variety, dtype: int64"
            ]
          },
          "metadata": {
            "tags": []
          },
          "execution_count": 35
        }
      ]
    },
    {
      "cell_type": "code",
      "metadata": {
        "id": "7Q6HiVQOAxoB"
      },
      "source": [
        "newdf = balanced_df.copy()"
      ],
      "execution_count": 36,
      "outputs": []
    },
    {
      "cell_type": "code",
      "metadata": {
        "id": "5eKJr97PA2pK"
      },
      "source": [
        "newdf.fillna('', inplace=True)"
      ],
      "execution_count": 37,
      "outputs": []
    },
    {
      "cell_type": "code",
      "metadata": {
        "id": "8WWquNwY3fzM"
      },
      "source": [
        "balanced_df['not vintage'] = newdf['country'] + ' ' + newdf['designation'] + ' ' + newdf['province']\\\n",
        "   + ' ' + newdf['region_1'] + ' ' + newdf['region_2'] + ' ' + newdf['winery']"
      ],
      "execution_count": 38,
      "outputs": []
    },
    {
      "cell_type": "code",
      "metadata": {
        "id": "iIBS8C2r_1Mg"
      },
      "source": [
        "balanced_df['sentences'] = balanced_df['description'] + ' ' + balanced_df['not vintage']"
      ],
      "execution_count": 39,
      "outputs": []
    },
    {
      "cell_type": "code",
      "metadata": {
        "id": "PXU1Icz1boYl",
        "outputId": "d3baf575-f69e-4929-e064-c6484db7e17f",
        "colab": {
          "base_uri": "https://localhost:8080/",
          "height": 375
        }
      },
      "source": [
        "balanced_df.head(2)"
      ],
      "execution_count": 40,
      "outputs": [
        {
          "output_type": "execute_result",
          "data": {
            "text/html": [
              "<div>\n",
              "<style scoped>\n",
              "    .dataframe tbody tr th:only-of-type {\n",
              "        vertical-align: middle;\n",
              "    }\n",
              "\n",
              "    .dataframe tbody tr th {\n",
              "        vertical-align: top;\n",
              "    }\n",
              "\n",
              "    .dataframe thead th {\n",
              "        text-align: right;\n",
              "    }\n",
              "</style>\n",
              "<table border=\"1\" class=\"dataframe\">\n",
              "  <thead>\n",
              "    <tr style=\"text-align: right;\">\n",
              "      <th></th>\n",
              "      <th>country</th>\n",
              "      <th>description</th>\n",
              "      <th>designation</th>\n",
              "      <th>points</th>\n",
              "      <th>price</th>\n",
              "      <th>province</th>\n",
              "      <th>region_1</th>\n",
              "      <th>region_2</th>\n",
              "      <th>taster_name</th>\n",
              "      <th>taster_twitter_handle</th>\n",
              "      <th>title</th>\n",
              "      <th>variety</th>\n",
              "      <th>winery</th>\n",
              "      <th>not vintage</th>\n",
              "      <th>sentences</th>\n",
              "    </tr>\n",
              "  </thead>\n",
              "  <tbody>\n",
              "    <tr>\n",
              "      <th>0</th>\n",
              "      <td>United States of America</td>\n",
              "      <td>Pineapple rind, lemon pith and orange blossom ...</td>\n",
              "      <td>Reserve Late Harvest</td>\n",
              "      <td>87</td>\n",
              "      <td>13.0</td>\n",
              "      <td>Michigan</td>\n",
              "      <td>Lake Michigan Shore</td>\n",
              "      <td>NaN</td>\n",
              "      <td>Alexander Peartree</td>\n",
              "      <td>NaN</td>\n",
              "      <td>St. Julian 2013 Reserve Late Harvest Riesling ...</td>\n",
              "      <td>Riesling</td>\n",
              "      <td>St. Julian</td>\n",
              "      <td>United States of America Reserve Late Harvest ...</td>\n",
              "      <td>Pineapple rind, lemon pith and orange blossom ...</td>\n",
              "    </tr>\n",
              "    <tr>\n",
              "      <th>1</th>\n",
              "      <td>United States of America</td>\n",
              "      <td>Much like the regular bottling from 2012, this...</td>\n",
              "      <td>Vintner's Reserve Wild Child Block</td>\n",
              "      <td>87</td>\n",
              "      <td>65.0</td>\n",
              "      <td>Oregon</td>\n",
              "      <td>Willamette Valley</td>\n",
              "      <td>Willamette Valley</td>\n",
              "      <td>Paul Gregutt</td>\n",
              "      <td>@paulgwine</td>\n",
              "      <td>Sweet Cheeks 2012 Vintner's Reserve Wild Child...</td>\n",
              "      <td>Pinot Noir</td>\n",
              "      <td>Sweet Cheeks</td>\n",
              "      <td>United States of America Vintner's Reserve Wil...</td>\n",
              "      <td>Much like the regular bottling from 2012, this...</td>\n",
              "    </tr>\n",
              "  </tbody>\n",
              "</table>\n",
              "</div>"
            ],
            "text/plain": [
              "                    country  ...                                          sentences\n",
              "0  United States of America  ...  Pineapple rind, lemon pith and orange blossom ...\n",
              "1  United States of America  ...  Much like the regular bottling from 2012, this...\n",
              "\n",
              "[2 rows x 15 columns]"
            ]
          },
          "metadata": {
            "tags": []
          },
          "execution_count": 40
        }
      ]
    },
    {
      "cell_type": "markdown",
      "metadata": {
        "id": "xI_zYydOIVWz"
      },
      "source": [
        "# Loading spacy\n",
        "\n",
        "Text Preparation"
      ]
    },
    {
      "cell_type": "code",
      "metadata": {
        "id": "C9kul1wzcFSO"
      },
      "source": [
        "nlp = spacy.load('en', disable=['tagger', 'parser', 'ner'])\n",
        "spacy_stop_words = spacy.lang.en.STOP_WORDS # getting spacy's stop-words"
      ],
      "execution_count": 41,
      "outputs": []
    },
    {
      "cell_type": "code",
      "metadata": {
        "id": "gKLWxRz3DSTV"
      },
      "source": [
        "#Stopwords list from https://github.com/Yoast/YoastSEO.js/blob/develop/src/config/stopwords.js\n",
        "# Convert it to a Python list and paste it here\n",
        "stopwords = [ \"a\", \"about\", \"above\", \"after\", \"again\", \"against\", \"all\", \"am\", \"an\", \"and\", \"any\", \"are\", \"as\", \"at\", \"be\", \"because\", \"been\", \"before\", \"being\", \"below\", \"between\", \"both\", \"but\", \"by\", \"could\", \"did\", \"do\", \"does\", \"doing\", \"down\", \"during\", \"each\", \"few\", \"for\", \"from\", \"further\", \"had\", \"has\", \"have\", \"having\", \"he\", \"he'd\", \"he'll\", \"he's\", \"her\", \"here\", \"here's\", \"hers\", \"herself\", \"him\", \"himself\", \"his\", \"how\", \"how's\", \"i\", \"i'd\", \"i'll\", \"i'm\", \"i've\", \"if\", \"in\", \"into\", \"is\", \"it\", \"it's\", \"its\", \"itself\", \"let's\", \"me\", \"more\", \"most\", \"my\", \"myself\", \"nor\", \"of\", \"on\", \"once\", \"only\", \"or\", \"other\", \"ought\", \"our\", \"ours\", \"ourselves\", \"out\", \"over\", \"own\", \"same\", \"she\", \"she'd\", \"she'll\", \"she's\", \"should\", \"so\", \"some\", \"such\", \"than\", \"that\", \"that's\", \"the\", \"their\", \"theirs\", \"them\", \"themselves\", \"then\", \"there\", \"there's\", \"these\", \"they\", \"they'd\", \"they'll\", \"they're\", \"they've\", \"this\", \"those\", \"through\", \"to\", \"too\", \"under\", \"until\", \"up\", \"very\", \"was\", \"we\", \"we'd\", \"we'll\", \"we're\", \"we've\", \"were\", \"what\", \"what's\", \"when\", \"when's\", \"where\", \"where's\", \"which\", \"while\", \"who\", \"who's\", \"whom\", \"why\", \"why's\", \"with\", \"would\", \"you\", \"you'd\", \"you'll\", \"you're\", \"you've\", \"your\", \"yours\", \"yourself\", \"yourselves\" ]"
      ],
      "execution_count": 42,
      "outputs": []
    },
    {
      "cell_type": "code",
      "metadata": {
        "id": "pTPuxmA6dLI0",
        "outputId": "69915a2f-4026-492b-93cc-b8ee9f8a40ce",
        "colab": {
          "base_uri": "https://localhost:8080/"
        }
      },
      "source": [
        "type(spacy_stop_words)"
      ],
      "execution_count": 43,
      "outputs": [
        {
          "output_type": "execute_result",
          "data": {
            "text/plain": [
              "set"
            ]
          },
          "metadata": {
            "tags": []
          },
          "execution_count": 43
        }
      ]
    },
    {
      "cell_type": "code",
      "metadata": {
        "id": "uszi_qnvqbWN"
      },
      "source": [
        "odd_stop = ['-pron-', '10', '12', 'aah', 'aa', 'ab', 'aaa', 'aand', '16', '2', '20', '30', '4', '40', '5', '6', '7', '8', '9']"
      ],
      "execution_count": 44,
      "outputs": []
    },
    {
      "cell_type": "code",
      "metadata": {
        "id": "Pc5Dz9Wu7CF9"
      },
      "source": [
        "# lemmatized stopwords\n",
        "stop_words_lemma = {word.lemma_.lower() for word in nlp(' '.join(stopwords))}"
      ],
      "execution_count": 45,
      "outputs": []
    },
    {
      "cell_type": "code",
      "metadata": {
        "id": "iB5iwTmIcwsO"
      },
      "source": [
        "# stopwords compilations\n",
        "stopwords = list(set(list(spacy_stop_words) + stopwords + odd_stop + list(stop_words_lemma)))"
      ],
      "execution_count": 46,
      "outputs": []
    },
    {
      "cell_type": "code",
      "metadata": {
        "id": "Tzi9LpNz7kH4"
      },
      "source": [
        "# defining tokenzer function to tokenize the lower case lemma of documents in a corpus and \n",
        "# filter out stop-words  \n",
        "def tokenizer_spacy(text):\n",
        "    return [word.lemma_.lower() for word in nlp(text) if word.is_alpha and word.lemma_.lower() not in stopwords]\n",
        "\n"
      ],
      "execution_count": 47,
      "outputs": []
    },
    {
      "cell_type": "code",
      "metadata": {
        "id": "PScQeiUFKXxx"
      },
      "source": [
        "from sklearn.preprocessing import LabelEncoder\n",
        "from sklearn.model_selection import train_test_split, StratifiedKFold, RepeatedStratifiedKFold"
      ],
      "execution_count": 48,
      "outputs": []
    },
    {
      "cell_type": "code",
      "metadata": {
        "id": "NJklv5vBLRuV"
      },
      "source": [
        "sentences = balanced_df['sentences']\n",
        "labels = balanced_df['variety']"
      ],
      "execution_count": 49,
      "outputs": []
    },
    {
      "cell_type": "code",
      "metadata": {
        "id": "ogwCiJ5fKX1t"
      },
      "source": [
        "# Label encoding\n",
        "encode = LabelEncoder()\n",
        "labels = encode.fit_transform(labels)"
      ],
      "execution_count": 50,
      "outputs": []
    },
    {
      "cell_type": "code",
      "metadata": {
        "id": "1RqClFxdBu2a"
      },
      "source": [
        "embedding_dim = 300\n",
        "max_length = 80\n",
        "trunc_type='post'\n",
        "padding_type='post'\n",
        "oov_tok = \"<OOV>\"\n",
        "\n",
        "senten = []\n",
        "\n",
        "for sentence in sentences:\n",
        "  for word in stopwords:\n",
        "    token = \" \" + word + \" \"\n",
        "    sentence = sentence.lower().replace(token, \" \")\n",
        "    sentence = sentence.replace(\"  \", \" \")\n",
        "    sentence = sentence.replace(\"\\xa0\", \" \")\n",
        "  senten.append(sentence)\n",
        "\n",
        "senten = [word for word in senten if word not in stopwords] # stopword filtering"
      ],
      "execution_count": 51,
      "outputs": []
    },
    {
      "cell_type": "markdown",
      "metadata": {
        "id": "kVn_iLv3DyDz"
      },
      "source": [
        "Note the above line of code filters stopwords only, while the code below lemmatizes the text and filters the stopwords"
      ]
    },
    {
      "cell_type": "code",
      "metadata": {
        "id": "HrsoGMCp63WM"
      },
      "source": [
        "# tokenize (lemmatize and filter stop words) corpus \n",
        "senten = [' '.join(tokenizer_spacy(doc)) for doc in senten]"
      ],
      "execution_count": 52,
      "outputs": []
    },
    {
      "cell_type": "code",
      "metadata": {
        "id": "1Ns4hfJKEh9Y",
        "outputId": "a6c0c0e7-c549-43c5-b5f6-2add7d543234",
        "colab": {
          "base_uri": "https://localhost:8080/",
          "height": 55
        }
      },
      "source": [
        "# after filtering\n",
        "senten[0]"
      ],
      "execution_count": 54,
      "outputs": [
        {
          "output_type": "execute_result",
          "data": {
            "application/vnd.google.colaboratory.intrinsic+json": {
              "type": "string"
            },
            "text/plain": [
              "'pineapple rind lemon pith orange blossom start aroma palate bite opulent note honey drizzle guava mango way slightly astringent semidry finish unite state america reserve late harvest michigan lake michigan shore st julian'"
            ]
          },
          "metadata": {
            "tags": []
          },
          "execution_count": 54
        }
      ]
    },
    {
      "cell_type": "code",
      "metadata": {
        "id": "_B0bNIuBFnz8",
        "outputId": "1128c7f9-f8b1-460a-ab70-4eb989233dac",
        "colab": {
          "base_uri": "https://localhost:8080/",
          "height": 55
        }
      },
      "source": [
        "# before filtering\n",
        "sentences.iloc[0]"
      ],
      "execution_count": 120,
      "outputs": [
        {
          "output_type": "execute_result",
          "data": {
            "application/vnd.google.colaboratory.intrinsic+json": {
              "type": "string"
            },
            "text/plain": [
              "'Pineapple rind, lemon pith and orange blossom start off the aromas. The palate is a bit more opulent, with notes of honey-drizzled guava and mango giving way to a slightly astringent, semidry finish. United States of America Reserve Late Harvest Michigan Lake Michigan Shore  St. Julian'"
            ]
          },
          "metadata": {
            "tags": []
          },
          "execution_count": 120
        }
      ]
    },
    {
      "cell_type": "code",
      "metadata": {
        "id": "DB96K7b-CPME"
      },
      "source": [
        "# word tokenizing\n",
        "tokenizer = Tokenizer(oov_token=oov_tok)\n",
        "tokenizer.fit_on_texts(senten)\n",
        "\n",
        "word_index = tokenizer.word_index"
      ],
      "execution_count": 56,
      "outputs": []
    },
    {
      "cell_type": "code",
      "metadata": {
        "id": "kPs5ghXqClla"
      },
      "source": [
        "vocab_size = len(word_index)"
      ],
      "execution_count": 57,
      "outputs": []
    },
    {
      "cell_type": "code",
      "metadata": {
        "id": "7ZzBZQY-fBPd",
        "outputId": "58016ae2-cb6b-4fd1-83c2-ec00480b0438",
        "colab": {
          "base_uri": "https://localhost:8080/"
        }
      },
      "source": [
        "vocab_size"
      ],
      "execution_count": 58,
      "outputs": [
        {
          "output_type": "execute_result",
          "data": {
            "text/plain": [
              "37725"
            ]
          },
          "metadata": {
            "tags": []
          },
          "execution_count": 58
        }
      ]
    },
    {
      "cell_type": "code",
      "metadata": {
        "id": "DS_rznf3EU8I"
      },
      "source": [
        "# converting texts to numbers\n",
        "training_sequences = tokenizer.texts_to_sequences(senten)\n",
        "training_padded = pad_sequences(training_sequences, maxlen=max_length, padding=padding_type, truncating=trunc_type)"
      ],
      "execution_count": 59,
      "outputs": []
    },
    {
      "cell_type": "code",
      "metadata": {
        "id": "ysZ4Q1wrakg_"
      },
      "source": [
        "# converting numbers to text, this is for the Word2vec model\n",
        "senten_corpus = tokenizer.sequences_to_texts(training_sequences)"
      ],
      "execution_count": 60,
      "outputs": []
    },
    {
      "cell_type": "code",
      "metadata": {
        "id": "XN4jFUWabF4Y",
        "outputId": "796341e4-feba-4cb1-b929-cf5df9ce2542",
        "colab": {
          "base_uri": "https://localhost:8080/"
        }
      },
      "source": [
        "# The last 3 sentences\n",
        "senten_corpus[-3:]"
      ],
      "execution_count": 61,
      "outputs": [
        {
          "output_type": "execute_result",
          "data": {
            "text/plain": [
              "['weight solid powerful core spice bake apple flavor france alsace alsace domaine marcel deiss',\n",
              " 'structure develope wine need age france alsace alsace domaine marcel deiss',\n",
              " 'drink france alsace alsace domaine marcel deiss']"
            ]
          },
          "metadata": {
            "tags": []
          },
          "execution_count": 61
        }
      ]
    },
    {
      "cell_type": "code",
      "metadata": {
        "id": "FQL5EwUyhQKu",
        "outputId": "2122700c-398b-4df0-f8ad-2d7858d2ad35",
        "colab": {
          "base_uri": "https://localhost:8080/"
        }
      },
      "source": [
        "len(senten_corpus)"
      ],
      "execution_count": 63,
      "outputs": [
        {
          "output_type": "execute_result",
          "data": {
            "text/plain": [
              "159648"
            ]
          },
          "metadata": {
            "tags": []
          },
          "execution_count": 63
        }
      ]
    },
    {
      "cell_type": "code",
      "metadata": {
        "id": "FsqocNWshQOo"
      },
      "source": [
        "sent_oversample_corpus = [doc.split() for doc in senten_corpus] # gets corpus as a list of lists"
      ],
      "execution_count": 64,
      "outputs": []
    },
    {
      "cell_type": "code",
      "metadata": {
        "id": "YPTxtB58hQSC",
        "outputId": "f255e225-9331-4300-e69d-166f652d8d9b",
        "colab": {
          "base_uri": "https://localhost:8080/"
        }
      },
      "source": [
        "sent_oversample_corpus[:2]"
      ],
      "execution_count": 65,
      "outputs": [
        {
          "output_type": "execute_result",
          "data": {
            "text/plain": [
              "[['pineapple',\n",
              "  'rind',\n",
              "  'lemon',\n",
              "  'pith',\n",
              "  'orange',\n",
              "  'blossom',\n",
              "  'start',\n",
              "  'aroma',\n",
              "  'palate',\n",
              "  'bite',\n",
              "  'opulent',\n",
              "  'note',\n",
              "  'honey',\n",
              "  'drizzle',\n",
              "  'guava',\n",
              "  'mango',\n",
              "  'way',\n",
              "  'slightly',\n",
              "  'astringent',\n",
              "  'semidry',\n",
              "  'finish',\n",
              "  'unite',\n",
              "  'state',\n",
              "  'america',\n",
              "  'reserve',\n",
              "  'late',\n",
              "  'harvest',\n",
              "  'michigan',\n",
              "  'lake',\n",
              "  'michigan',\n",
              "  'shore',\n",
              "  'st',\n",
              "  'julian'],\n",
              " ['like',\n",
              "  'regular',\n",
              "  'bottle',\n",
              "  'come',\n",
              "  'rough',\n",
              "  'tannic',\n",
              "  'rustic',\n",
              "  'earthy',\n",
              "  'herbal',\n",
              "  'characteristic',\n",
              "  'nonetheless',\n",
              "  'think',\n",
              "  'pleasantly',\n",
              "  'unfussy',\n",
              "  'country',\n",
              "  'wine',\n",
              "  'good',\n",
              "  'companion',\n",
              "  'hearty',\n",
              "  'winter',\n",
              "  'stew',\n",
              "  'unite',\n",
              "  'state',\n",
              "  'america',\n",
              "  'vintner',\n",
              "  'reserve',\n",
              "  'wild',\n",
              "  'child',\n",
              "  'block',\n",
              "  'oregon',\n",
              "  'willamette',\n",
              "  'valley',\n",
              "  'willamette',\n",
              "  'valley',\n",
              "  'sweet',\n",
              "  'cheek']]"
            ]
          },
          "metadata": {
            "tags": []
          },
          "execution_count": 65
        }
      ]
    },
    {
      "cell_type": "code",
      "metadata": {
        "id": "sq_sh212iFw1",
        "outputId": "0af93fdc-8885-406c-8a9d-9eef3e881970",
        "colab": {
          "base_uri": "https://localhost:8080/"
        }
      },
      "source": [
        "# trains sent_oversample_corpus2 on Word2Vec. For sent_oversample_corpus2, min_count of 5 and iter (epoch) of 10 \n",
        "# seems to be the best\n",
        "sent_w2v_model = Word2Vec(sent_oversample_corpus, size=300, min_count=1, iter=10)\n",
        "\n",
        "print(sent_w2v_model) # sumarizes the word2vec"
      ],
      "execution_count": 66,
      "outputs": [
        {
          "output_type": "stream",
          "text": [
            "Word2Vec(vocab=37724, size=300, alpha=0.025)\n"
          ],
          "name": "stdout"
        }
      ]
    },
    {
      "cell_type": "code",
      "metadata": {
        "id": "3vVPpD8diGAk",
        "outputId": "cdb6dec4-abb9-424a-f566-de7d069e3648",
        "colab": {
          "base_uri": "https://localhost:8080/"
        }
      },
      "source": [
        "sent_w2v_model.wv.__getitem__('pineapple').shape # confirms the dimension of our embedding"
      ],
      "execution_count": 67,
      "outputs": [
        {
          "output_type": "execute_result",
          "data": {
            "text/plain": [
              "(300,)"
            ]
          },
          "metadata": {
            "tags": []
          },
          "execution_count": 67
        }
      ]
    },
    {
      "cell_type": "code",
      "metadata": {
        "id": "w1TIleJ3jM3-",
        "outputId": "9354b8b1-4667-4236-e104-6b9bc1f75883",
        "colab": {
          "base_uri": "https://localhost:8080/",
          "height": 36
        }
      },
      "source": [
        "# picking out the odd word\n",
        "sent_w2v_model.wv.doesnt_match(['cherry', 'italy', 'apple', 'pineapple', 'tangerine'])"
      ],
      "execution_count": 68,
      "outputs": [
        {
          "output_type": "execute_result",
          "data": {
            "application/vnd.google.colaboratory.intrinsic+json": {
              "type": "string"
            },
            "text/plain": [
              "'italy'"
            ]
          },
          "metadata": {
            "tags": []
          },
          "execution_count": 68
        }
      ]
    },
    {
      "cell_type": "code",
      "metadata": {
        "id": "pk5Vrv7NjM6w",
        "outputId": "f048e56c-b0fa-4bfd-cb8c-1a3fa5c7430b",
        "colab": {
          "base_uri": "https://localhost:8080/",
          "height": 36
        }
      },
      "source": [
        "# picking out the odd word\n",
        "sent_w2v_model.wv.doesnt_match(['arizona', 'france', 'michigan', 'texas', 'pennsylvania'])"
      ],
      "execution_count": 69,
      "outputs": [
        {
          "output_type": "execute_result",
          "data": {
            "application/vnd.google.colaboratory.intrinsic+json": {
              "type": "string"
            },
            "text/plain": [
              "'france'"
            ]
          },
          "metadata": {
            "tags": []
          },
          "execution_count": 69
        }
      ]
    },
    {
      "cell_type": "code",
      "metadata": {
        "id": "2NDYaS8HknzU",
        "outputId": "5314e0c8-3553-4809-b7ac-46c2a3d23691",
        "colab": {
          "base_uri": "https://localhost:8080/",
          "height": 36
        }
      },
      "source": [
        "# let's see a random province in Portugal\n",
        "balanced_df[balanced_df['country'] == 'Portugal']['province'].unique()[0]"
      ],
      "execution_count": 70,
      "outputs": [
        {
          "output_type": "execute_result",
          "data": {
            "application/vnd.google.colaboratory.intrinsic+json": {
              "type": "string"
            },
            "text/plain": [
              "'Estremadura'"
            ]
          },
          "metadata": {
            "tags": []
          },
          "execution_count": 70
        }
      ]
    },
    {
      "cell_type": "code",
      "metadata": {
        "id": "8mQZ9gdhjM-A",
        "outputId": "9f8a82cf-c903-437c-ed0a-b7213642884b",
        "colab": {
          "base_uri": "https://localhost:8080/"
        }
      },
      "source": [
        "# just like king - man + woman = queen, we want to prove that portugal - estremadura + ontario = canada\n",
        "print(sent_w2v_model.wv.most_similar(positive=['portugal', 'ontario'], negative=['estremadura']))"
      ],
      "execution_count": 71,
      "outputs": [
        {
          "output_type": "stream",
          "text": [
            "[('canada', 0.5216060876846313), ('vaïla', 0.4523846507072449), ('germany', 0.378110408782959), ('lickable', 0.3707464337348938), ('austria', 0.36494654417037964), ('british', 0.3471326529979706), ('gorgeously', 0.3460891842842102), ('intensely', 0.34229734539985657), ('lovely', 0.3339865207672119), ('hedgerow', 0.33338236808776855)]\n"
          ],
          "name": "stdout"
        }
      ]
    },
    {
      "cell_type": "code",
      "metadata": {
        "id": "ltAf-getjNBC",
        "outputId": "25b9aef5-fccc-48a8-8943-fa089489ef1b",
        "colab": {
          "base_uri": "https://localhost:8080/"
        }
      },
      "source": [
        "# let's see the most similar words to 'aroma'\n",
        "print(sent_w2v_model.wv.most_similar('aroma'))"
      ],
      "execution_count": 72,
      "outputs": [
        {
          "output_type": "stream",
          "text": [
            "[('scent', 0.7849467396736145), ('bouquet', 0.6565253734588623), ('note', 0.6157000064849854), ('smell', 0.5834255814552307), ('nose', 0.5762184858322144), ('whiff', 0.5724256038665771), ('recall', 0.5497909784317017), ('mix', 0.5447229146957397), ('fragrance', 0.542693555355072), ('tone', 0.5259038209915161)]\n"
          ],
          "name": "stdout"
        }
      ]
    },
    {
      "cell_type": "code",
      "metadata": {
        "id": "aEPmO6KWkzll",
        "outputId": "a9342f0b-dbee-4b9e-9c97-1cc5bde8da0f",
        "colab": {
          "base_uri": "https://localhost:8080/"
        }
      },
      "source": [
        "len(sent_w2v_model.wv.vocab)"
      ],
      "execution_count": 73,
      "outputs": [
        {
          "output_type": "execute_result",
          "data": {
            "text/plain": [
              "37724"
            ]
          },
          "metadata": {
            "tags": []
          },
          "execution_count": 73
        }
      ]
    },
    {
      "cell_type": "code",
      "metadata": {
        "id": "ddZtD8h9tRlX",
        "outputId": "5de7d2db-0316-469f-d3c6-8c5efbe1385c",
        "colab": {
          "base_uri": "https://localhost:8080/"
        }
      },
      "source": [
        "def Diff(li1, li2):\n",
        "    return (list(list(set(li1)-set(li2)) + list(set(li2)-set(li1))))\n",
        " \n",
        "# Comparing between the word2vec word index and tokenizer;s word index\n",
        "li1 = list(sent_w2v_model.wv.vocab.keys())\n",
        "li2 = list(word_index.keys())\n",
        "print(Diff(li1, li2))"
      ],
      "execution_count": 74,
      "outputs": [
        {
          "output_type": "stream",
          "text": [
            "['<OOV>']\n"
          ],
          "name": "stdout"
        }
      ]
    },
    {
      "cell_type": "markdown",
      "metadata": {
        "id": "1rCkcQkIojr8"
      },
      "source": [
        "# Modelling\n",
        "\n",
        "Defining a function that creates an embedding matrix"
      ]
    },
    {
      "cell_type": "code",
      "metadata": {
        "id": "8aaQhf4kZyqh"
      },
      "source": [
        "def get_embedding_matrix(model, word_index):\n",
        "    vocab_size = len(word_index) + 1\n",
        "    embedding_dim = model.wv.vector_size\n",
        "    embedding_matrix = np.zeros((vocab_size, embedding_dim))\n",
        "    \n",
        "    for word in model.wv.vocab:\n",
        "        ind = word_index[word]\n",
        "        embedding_matrix[ind] = model[word]\n",
        "        \n",
        "    return embedding_matrix"
      ],
      "execution_count": 75,
      "outputs": []
    },
    {
      "cell_type": "code",
      "metadata": {
        "id": "MKlPnLYXoq2W"
      },
      "source": [
        "embedding_matrix = get_embedding_matrix(sent_w2v_model, word_index)"
      ],
      "execution_count": 76,
      "outputs": []
    },
    {
      "cell_type": "code",
      "metadata": {
        "id": "Fr-kvTfNusE0",
        "outputId": "fb508490-86b6-4d18-d73b-bde512dd0cbc",
        "colab": {
          "base_uri": "https://localhost:8080/"
        }
      },
      "source": [
        "embedding_matrix.shape"
      ],
      "execution_count": 77,
      "outputs": [
        {
          "output_type": "execute_result",
          "data": {
            "text/plain": [
              "(37726, 300)"
            ]
          },
          "metadata": {
            "tags": []
          },
          "execution_count": 77
        }
      ]
    },
    {
      "cell_type": "code",
      "metadata": {
        "id": "ELpXfBfkusIf"
      },
      "source": [
        "def nlp_model():\n",
        "  model = tf.keras.Sequential([\n",
        "    tf.keras.layers.Embedding(vocab_size+1, embedding_dim, input_length=max_length,  mask_zero=True, weights=[embedding_matrix], trainable=False),\n",
        "    tf.keras.layers.Dropout(0.5),\n",
        "    tf.keras.layers.Bidirectional(tf.keras.layers.LSTM(300)),\n",
        "    tf.keras.layers.Dropout(0.4),\n",
        "    tf.keras.layers.Dense(20, activation='softmax')\n",
        "  ])\n",
        "\n",
        "  model.compile(loss='sparse_categorical_crossentropy',optimizer='adam',metrics=['accuracy'])\n",
        "\n",
        "  return model"
      ],
      "execution_count": 161,
      "outputs": []
    },
    {
      "cell_type": "code",
      "metadata": {
        "id": "Dh4CcE6TrkG4",
        "outputId": "4a0e30fd-f235-4718-d9a6-d2d36162dba4",
        "colab": {
          "base_uri": "https://localhost:8080/"
        }
      },
      "source": [
        "model = nlp_model()\n",
        "model.summary()"
      ],
      "execution_count": 162,
      "outputs": [
        {
          "output_type": "stream",
          "text": [
            "Model: \"sequential_25\"\n",
            "_________________________________________________________________\n",
            "Layer (type)                 Output Shape              Param #   \n",
            "=================================================================\n",
            "embedding_25 (Embedding)     (None, 80, 300)           11317800  \n",
            "_________________________________________________________________\n",
            "dropout_13 (Dropout)         (None, 80, 300)           0         \n",
            "_________________________________________________________________\n",
            "bidirectional_28 (Bidirectio (None, 600)               1442400   \n",
            "_________________________________________________________________\n",
            "dropout_14 (Dropout)         (None, 600)               0         \n",
            "_________________________________________________________________\n",
            "dense_25 (Dense)             (None, 20)                12020     \n",
            "=================================================================\n",
            "Total params: 12,772,220\n",
            "Trainable params: 1,454,420\n",
            "Non-trainable params: 11,317,800\n",
            "_________________________________________________________________\n"
          ],
          "name": "stdout"
        }
      ]
    },
    {
      "cell_type": "code",
      "metadata": {
        "id": "xb7sjzNKusO8"
      },
      "source": [
        "from sklearn.utils import class_weight\n",
        "class_weights = dict(zip(np.unique(labels), class_weight.compute_class_weight('balanced',\n",
        "                                                 np.unique(labels),\n",
        "                                                 labels))) "
      ],
      "execution_count": 163,
      "outputs": []
    },
    {
      "cell_type": "code",
      "metadata": {
        "id": "-hRdYrBqzEhr",
        "outputId": "42bd5bff-171a-481c-b767-120145cb428c",
        "colab": {
          "base_uri": "https://localhost:8080/"
        }
      },
      "source": [
        "training_padded = np.array(training_padded)\n",
        "\n",
        "\n",
        "num_epochs = 20\n",
        "\n",
        "early_stopping = tf.keras.callbacks.EarlyStopping(monitor='val_loss',\n",
        "                               patience=5,\n",
        "                               verbose=1,\n",
        "                               min_delta=1e-4)\n",
        "lrp = tf.keraslrp = tf.keras.callbacks.ReduceLROnPlateau(monitor='val_loss',\n",
        "                                   factor=0.1,\n",
        "                                   patience=2,\n",
        "                                   cooldown=2,\n",
        "                                   verbose=1)\n",
        "\n",
        "\n",
        "history = model.fit(training_padded, labels, epochs=num_epochs, class_weight=class_weights, \n",
        "                    validation_split=0.25,\n",
        "                    batch_size=128, verbose=1,\n",
        "                    callbacks=[early_stopping, lrp])"
      ],
      "execution_count": 164,
      "outputs": [
        {
          "output_type": "stream",
          "text": [
            "Epoch 1/20\n",
            "936/936 [==============================] - 32s 34ms/step - loss: 0.6734 - accuracy: 0.7766 - val_loss: 0.6970 - val_accuracy: 0.7749\n",
            "Epoch 2/20\n",
            "936/936 [==============================] - 29s 31ms/step - loss: 0.4764 - accuracy: 0.8361 - val_loss: 0.6197 - val_accuracy: 0.7984\n",
            "Epoch 3/20\n",
            "936/936 [==============================] - 29s 31ms/step - loss: 0.4208 - accuracy: 0.8535 - val_loss: 0.5972 - val_accuracy: 0.8051\n",
            "Epoch 4/20\n",
            "936/936 [==============================] - 29s 31ms/step - loss: 0.3860 - accuracy: 0.8634 - val_loss: 0.5760 - val_accuracy: 0.8119\n",
            "Epoch 5/20\n",
            "936/936 [==============================] - 29s 31ms/step - loss: 0.3611 - accuracy: 0.8709 - val_loss: 0.5693 - val_accuracy: 0.8179\n",
            "Epoch 6/20\n",
            "936/936 [==============================] - 29s 31ms/step - loss: 0.3347 - accuracy: 0.8792 - val_loss: 0.5546 - val_accuracy: 0.8201\n",
            "Epoch 7/20\n",
            "936/936 [==============================] - 29s 31ms/step - loss: 0.3218 - accuracy: 0.8836 - val_loss: 0.5591 - val_accuracy: 0.8206\n",
            "Epoch 8/20\n",
            "935/936 [============================>.] - ETA: 0s - loss: 0.3027 - accuracy: 0.8893\n",
            "Epoch 00008: ReduceLROnPlateau reducing learning rate to 0.00010000000474974513.\n",
            "936/936 [==============================] - 29s 31ms/step - loss: 0.3028 - accuracy: 0.8893 - val_loss: 0.5679 - val_accuracy: 0.8246\n",
            "Epoch 9/20\n",
            "936/936 [==============================] - 29s 31ms/step - loss: 0.2645 - accuracy: 0.9020 - val_loss: 0.5477 - val_accuracy: 0.8317\n",
            "Epoch 10/20\n",
            "936/936 [==============================] - 29s 31ms/step - loss: 0.2512 - accuracy: 0.9071 - val_loss: 0.5514 - val_accuracy: 0.8306\n",
            "Epoch 11/20\n",
            "935/936 [============================>.] - ETA: 0s - loss: 0.2442 - accuracy: 0.9086\n",
            "Epoch 00011: ReduceLROnPlateau reducing learning rate to 1.0000000474974514e-05.\n",
            "936/936 [==============================] - 30s 32ms/step - loss: 0.2441 - accuracy: 0.9086 - val_loss: 0.5496 - val_accuracy: 0.8307\n",
            "Epoch 12/20\n",
            "936/936 [==============================] - 29s 31ms/step - loss: 0.2368 - accuracy: 0.9114 - val_loss: 0.5481 - val_accuracy: 0.8312\n",
            "Epoch 13/20\n",
            "936/936 [==============================] - 29s 32ms/step - loss: 0.2365 - accuracy: 0.9114 - val_loss: 0.5472 - val_accuracy: 0.8320\n",
            "Epoch 14/20\n",
            "936/936 [==============================] - 29s 31ms/step - loss: 0.2348 - accuracy: 0.9120 - val_loss: 0.5470 - val_accuracy: 0.8317\n",
            "Epoch 15/20\n",
            "936/936 [==============================] - 29s 31ms/step - loss: 0.2348 - accuracy: 0.9114 - val_loss: 0.5469 - val_accuracy: 0.8318\n",
            "Epoch 16/20\n",
            "935/936 [============================>.] - ETA: 0s - loss: 0.2353 - accuracy: 0.9120\n",
            "Epoch 00016: ReduceLROnPlateau reducing learning rate to 1.0000000656873453e-06.\n",
            "936/936 [==============================] - 29s 31ms/step - loss: 0.2352 - accuracy: 0.9121 - val_loss: 0.5476 - val_accuracy: 0.8320\n",
            "Epoch 17/20\n",
            "936/936 [==============================] - 29s 31ms/step - loss: 0.2334 - accuracy: 0.9127 - val_loss: 0.5476 - val_accuracy: 0.8319\n",
            "Epoch 18/20\n",
            "936/936 [==============================] - 29s 31ms/step - loss: 0.2328 - accuracy: 0.9123 - val_loss: 0.5475 - val_accuracy: 0.8319\n",
            "Epoch 19/20\n",
            "935/936 [============================>.] - ETA: 0s - loss: 0.2315 - accuracy: 0.9131\n",
            "Epoch 00019: ReduceLROnPlateau reducing learning rate to 1.0000001111620805e-07.\n",
            "936/936 [==============================] - 30s 32ms/step - loss: 0.2315 - accuracy: 0.9131 - val_loss: 0.5476 - val_accuracy: 0.8320\n",
            "Epoch 00019: early stopping\n"
          ],
          "name": "stdout"
        }
      ]
    },
    {
      "cell_type": "code",
      "metadata": {
        "id": "tRzYW_dCzEk0",
        "outputId": "8ad321aa-3173-4b48-f3b9-8fea2bf25891",
        "colab": {
          "base_uri": "https://localhost:8080/",
          "height": 871
        }
      },
      "source": [
        "def plot_graphs(history, string):\n",
        "  plt.figure(figsize=(12,7))\n",
        "  plt.plot(history.history[string])\n",
        "  plt.plot(history.history['val_'+string])\n",
        "  plt.xlabel(\"Epochs\")\n",
        "  plt.ylabel(string)\n",
        "  plt.legend([string, 'val_'+string])\n",
        "  plt.show()\n",
        "\n",
        "plot_graphs(history, 'accuracy')\n",
        "plot_graphs(history, 'loss')"
      ],
      "execution_count": 165,
      "outputs": [
        {
          "output_type": "display_data",
          "data": {
            "image/png": "[encoded data removed]",
            "text/plain": [
              "<Figure size 864x504 with 1 Axes>"
            ]
          },
          "metadata": {
            "tags": [],
            "needs_background": "light"
          }
        },
        {
          "output_type": "display_data",
          "data": {
            "image/png": "[encoded data removed]",
            "text/plain": [
              "<Figure size 864x504 with 1 Axes>"
            ]
          },
          "metadata": {
            "tags": [],
            "needs_background": "light"
          }
        }
      ]
    },
    {
      "cell_type": "code",
      "metadata": {
        "id": "1ksZUAliOasT"
      },
      "source": [
        "from tensorflow.keras.wrappers.scikit_learn import KerasClassifier\n",
        "from tensorflow.keras.callbacks import EarlyStopping\n",
        "from sklearn.model_selection import cross_val_score, RepeatedStratifiedKFold"
      ],
      "execution_count": 166,
      "outputs": []
    },
    {
      "cell_type": "code",
      "metadata": {
        "id": "CVdSMqCxzErN"
      },
      "source": [
        "model2 = KerasClassifier(build_fn=nlp_model) # build model"
      ],
      "execution_count": 167,
      "outputs": []
    },
    {
      "cell_type": "code",
      "metadata": {
        "id": "Vgw-ApgAzDaQ"
      },
      "source": [
        "# creating a RepeatedStratifiedKFold object. Since we plan using 25% as our test-size, we will use 4 fold cv.\n",
        "# to have a level plain ground for comparing different models, we will be using random state of 1 through out.\n",
        "cv = RepeatedStratifiedKFold(n_splits=4, n_repeats=3, random_state=1)"
      ],
      "execution_count": 168,
      "outputs": []
    },
    {
      "cell_type": "code",
      "metadata": {
        "id": "NCIlW1TmzDf_",
        "outputId": "14bb89bc-78ae-42b5-f895-0b98c440edcf",
        "colab": {
          "base_uri": "https://localhost:8080/"
        }
      },
      "source": [
        "# getting cross validation scores\n",
        "score = cross_val_score(model2, training_padded, labels, scoring='f1_weighted', cv=cv,\\\n",
        "                        n_jobs=1, verbose=2, fit_params={\\\n",
        "                        'epochs': 5, 'batch_size': 128, 'class_weight': class_weights, 'verbose': 0, \\\n",
        "                                                         })"
      ],
      "execution_count": 169,
      "outputs": [
        {
          "output_type": "stream",
          "text": [
            "[Parallel(n_jobs=1)]: Using backend SequentialBackend with 1 concurrent workers.\n"
          ],
          "name": "stderr"
        },
        {
          "output_type": "stream",
          "text": [
            "[CV]  ................................................................\n",
            "[CV] ................................................. , total= 2.3min\n",
            "[CV]  ................................................................\n"
          ],
          "name": "stdout"
        },
        {
          "output_type": "stream",
          "text": [
            "[Parallel(n_jobs=1)]: Done   1 out of   1 | elapsed:  2.3min remaining:    0.0s\n"
          ],
          "name": "stderr"
        },
        {
          "output_type": "stream",
          "text": [
            "[CV] ................................................. , total= 2.2min\n",
            "[CV]  ................................................................\n",
            "[CV] ................................................. , total= 2.2min\n",
            "[CV]  ................................................................\n",
            "[CV] ................................................. , total= 2.2min\n",
            "[CV]  ................................................................\n",
            "[CV] ................................................. , total= 2.2min\n",
            "[CV]  ................................................................\n",
            "[CV] ................................................. , total= 2.2min\n",
            "[CV]  ................................................................\n",
            "[CV] ................................................. , total= 2.2min\n",
            "[CV]  ................................................................\n",
            "[CV] ................................................. , total= 2.2min\n",
            "[CV]  ................................................................\n",
            "[CV] ................................................. , total= 2.2min\n",
            "[CV]  ................................................................\n",
            "[CV] ................................................. , total= 2.2min\n",
            "[CV]  ................................................................\n",
            "[CV] ................................................. , total= 2.2min\n",
            "[CV]  ................................................................\n",
            "[CV] ................................................. , total= 2.2min\n"
          ],
          "name": "stdout"
        },
        {
          "output_type": "stream",
          "text": [
            "[Parallel(n_jobs=1)]: Done  12 out of  12 | elapsed: 26.6min finished\n"
          ],
          "name": "stderr"
        }
      ]
    },
    {
      "cell_type": "code",
      "metadata": {
        "id": "9dpSzeVMzDlJ",
        "outputId": "cea3f5e6-3639-42de-edce-93ab0b57e1e6",
        "colab": {
          "base_uri": "https://localhost:8080/"
        }
      },
      "source": [
        "print(score)\n",
        "np.mean(score) # reporting the mean score"
      ],
      "execution_count": 170,
      "outputs": [
        {
          "output_type": "stream",
          "text": [
            "[0.86303001 0.86343861 0.86701165 0.86344658 0.86527557 0.86826956\n",
            " 0.85840729 0.86361882 0.86752425 0.86678448 0.8670574  0.86028657]\n"
          ],
          "name": "stdout"
        },
        {
          "output_type": "execute_result",
          "data": {
            "text/plain": [
              "0.8645125650979901"
            ]
          },
          "metadata": {
            "tags": []
          },
          "execution_count": 170
        }
      ]
    },
    {
      "cell_type": "markdown",
      "metadata": {
        "id": "GmKaGpq1FhWY"
      },
      "source": [
        "# Trying Other means"
      ]
    },
    {
      "cell_type": "code",
      "metadata": {
        "id": "nDosGZevzDoc"
      },
      "source": [
        "# train-test split\n",
        "X_train, X_test, y_train, y_test = train_test_split(training_padded, labels, \\\n",
        "                                                    test_size=0.25, random_state=1)"
      ],
      "execution_count": 200,
      "outputs": []
    },
    {
      "cell_type": "code",
      "metadata": {
        "id": "2dVw8zz6zDjj"
      },
      "source": [
        "model2 = nlp_model() # builds model"
      ],
      "execution_count": 201,
      "outputs": []
    },
    {
      "cell_type": "code",
      "metadata": {
        "id": "SZNOK-z4usRq",
        "outputId": "e9f26ad3-82b1-4df9-b6bc-7e962d42d8af",
        "colab": {
          "base_uri": "https://localhost:8080/"
        }
      },
      "source": [
        "model2.fit(X_train, y_train,\n",
        "                    epochs=7, # using the best epoch from model1\n",
        "                    verbose=True,\n",
        "                    batch_size=128,\n",
        "                    class_weight=class_weights)"
      ],
      "execution_count": 202,
      "outputs": [
        {
          "output_type": "stream",
          "text": [
            "Epoch 1/7\n",
            "936/936 [==============================] - 26s 28ms/step - loss: 0.7336 - accuracy: 0.7571\n",
            "Epoch 2/7\n",
            "936/936 [==============================] - 26s 27ms/step - loss: 0.5259 - accuracy: 0.8205\n",
            "Epoch 3/7\n",
            "936/936 [==============================] - 25s 27ms/step - loss: 0.4696 - accuracy: 0.8383\n",
            "Epoch 4/7\n",
            "936/936 [==============================] - 26s 27ms/step - loss: 0.4354 - accuracy: 0.8477\n",
            "Epoch 5/7\n",
            "936/936 [==============================] - 26s 28ms/step - loss: 0.4021 - accuracy: 0.8572\n",
            "Epoch 6/7\n",
            "936/936 [==============================] - 26s 28ms/step - loss: 0.3818 - accuracy: 0.8634\n",
            "Epoch 7/7\n",
            "936/936 [==============================] - 26s 28ms/step - loss: 0.3611 - accuracy: 0.8697\n"
          ],
          "name": "stdout"
        },
        {
          "output_type": "execute_result",
          "data": {
            "text/plain": [
              "<tensorflow.python.keras.callbacks.History at 0x7f76bd2a57b8>"
            ]
          },
          "metadata": {
            "tags": []
          },
          "execution_count": 202
        }
      ]
    },
    {
      "cell_type": "code",
      "metadata": {
        "id": "Vd3L9tExGl2w",
        "outputId": "8fa89c46-74ed-42f3-fbd8-07b0519cd503",
        "colab": {
          "base_uri": "https://localhost:8080/"
        }
      },
      "source": [
        "loss, accuracy = model2.evaluate(X_train, y_train, batch_size=128, verbose=False)\n",
        "print('Training Accuracy: {:.4f}\\nTraining loss: {:.4f}'.format(accuracy, loss))\n",
        "print()\n",
        "loss, accuracy = model2.evaluate(X_test, y_test, batch_size=128, verbose=False)\n",
        "print('Testing Accuracy: {:.4f}\\nTesting loss: {:.4f}'.format(accuracy, loss))"
      ],
      "execution_count": 203,
      "outputs": [
        {
          "output_type": "stream",
          "text": [
            "Training Accuracy: 0.9085\n",
            "Training loss: 0.2641\n",
            "\n",
            "Testing Accuracy: 0.8741\n",
            "Testing loss: 0.3807\n"
          ],
          "name": "stdout"
        }
      ]
    },
    {
      "cell_type": "code",
      "metadata": {
        "id": "-5cmCbJXH0ME"
      },
      "source": [
        "y_pred_train = model.predict(X_train)\n",
        "y_pred_test = model.predict(X_test)"
      ],
      "execution_count": 204,
      "outputs": []
    },
    {
      "cell_type": "code",
      "metadata": {
        "id": "jAvGVeqpeMy6"
      },
      "source": [
        "from sklearn.metrics import f1_score, accuracy_score, precision_score, roc_auc_score"
      ],
      "execution_count": 205,
      "outputs": []
    },
    {
      "cell_type": "code",
      "metadata": {
        "id": "gJTKqmMkJPOk"
      },
      "source": [
        "y_pred_train = [np.argmax(i) for i in y_pred_train]\n",
        "y_pred_test = [np.argmax(i) for i in y_pred_test]"
      ],
      "execution_count": 206,
      "outputs": []
    },
    {
      "cell_type": "code",
      "metadata": {
        "id": "0tjQPCgmIem-",
        "outputId": "ac24190a-1c0b-42fc-a74d-57befa4b57c1",
        "colab": {
          "base_uri": "https://localhost:8080/"
        }
      },
      "source": [
        "print('Training F1 score: {:.4f}'.format(\\\n",
        "    f1_score(y_train, y_pred_train, average='weighted')))\n",
        "      \n",
        "print('Testing F1 score: {:.4f}'.format(\\\n",
        "    f1_score(y_test, y_pred_test, average='weighted')))\n",
        "\n",
        "print('\\n')\n",
        "\n",
        "print('Training precision_score: {:.4f}'.format(\\\n",
        "    precision_score(y_train, y_pred_train, average='weighted')))\n",
        "      \n",
        "print('Testing precision_score: {:.4f}'.format(\\\n",
        "    precision_score(y_test, y_pred_test, average='weighted')))"
      ],
      "execution_count": 207,
      "outputs": [
        {
          "output_type": "stream",
          "text": [
            "Training F1 score: 0.9135\n",
            "Testing F1 score: 0.9143\n",
            "\n",
            "\n",
            "Training precision_score: 0.9155\n",
            "Testing precision_score: 0.9161\n"
          ],
          "name": "stdout"
        }
      ]
    },
    {
      "cell_type": "markdown",
      "metadata": {
        "id": "C33M93jG69cs"
      },
      "source": [
        "# Dr Loosen, Blue Slate Riesling Kabinett, Mosel, 2018"
      ]
    },
    {
      "cell_type": "code",
      "metadata": {
        "id": "Qz-jyoHxfYpf"
      },
      "source": [
        "user_input = [\"A classic Mosel ambassador with all the verve, lively acidity and forward fruit one would expect.\\\n",
        " Off-dry in style with loads of apricot, baked apple, snappy citrus and engaging spice.\\\n",
        "  A defined minerality weaves through the mid-palate and carries on in intensity through the long, clean finish.\"]"
      ],
      "execution_count": 438,
      "outputs": []
    },
    {
      "cell_type": "code",
      "metadata": {
        "id": "Y5PZHjdH0Wwg"
      },
      "source": [
        "def top_5_variety(model, model2nd, input):\n",
        "  # tokenize with spacy\n",
        "  user_input = [' '.join(tokenizer_spacy(doc)) for doc in input]\n",
        "\n",
        "  # converting texts to numbers\n",
        "  test1 = tokenizer.texts_to_sequences(user_input)\n",
        "  test1_padded = pad_sequences(test1, maxlen=max_length, padding=padding_type, truncating=trunc_type)\n",
        "\n",
        "  test1pred = model.predict(test1_padded)\n",
        "  top5 = test1pred[0].argsort()[-4:][::-1]\n",
        "\n",
        "  test2pred = model2nd.predict(test1_padded)\n",
        "  top2nd5 = test2pred[0].argsort()[-4:][::-1]\n",
        "\n",
        "  a = []\n",
        "  b = []\n",
        "  c = []\n",
        "  d = [] \n",
        "  for i,j in zip(top5,top2nd5):\n",
        "    a.append(encode.inverse_transform([i])[0])\n",
        "    b.append(test1pred[0][i])\n",
        "    c.append(encode.inverse_transform([j])[0])\n",
        "    d.append(test2pred[0][j])\n",
        "\n",
        "  df = pd.DataFrame({'variety 1' : a, 'probability' : b, 'variety 2' : c, 'probability 2' : d})\n",
        "  return df"
      ],
      "execution_count": 439,
      "outputs": []
    },
    {
      "cell_type": "code",
      "metadata": {
        "id": "uwP9Y6b32ta2",
        "outputId": "8db47b75-1371-4a8a-8b76-54ff1f8cfb34",
        "colab": {
          "base_uri": "https://localhost:8080/",
          "height": 175
        }
      },
      "source": [
        "top_5_variety(model, model2, user_input)"
      ],
      "execution_count": 440,
      "outputs": [
        {
          "output_type": "execute_result",
          "data": {
            "text/html": [
              "<div>\n",
              "<style scoped>\n",
              "    .dataframe tbody tr th:only-of-type {\n",
              "        vertical-align: middle;\n",
              "    }\n",
              "\n",
              "    .dataframe tbody tr th {\n",
              "        vertical-align: top;\n",
              "    }\n",
              "\n",
              "    .dataframe thead th {\n",
              "        text-align: right;\n",
              "    }\n",
              "</style>\n",
              "<table border=\"1\" class=\"dataframe\">\n",
              "  <thead>\n",
              "    <tr style=\"text-align: right;\">\n",
              "      <th></th>\n",
              "      <th>variety 1</th>\n",
              "      <th>probability</th>\n",
              "      <th>variety 2</th>\n",
              "      <th>probability 2</th>\n",
              "    </tr>\n",
              "  </thead>\n",
              "  <tbody>\n",
              "    <tr>\n",
              "      <th>0</th>\n",
              "      <td>Riesling</td>\n",
              "      <td>0.999367</td>\n",
              "      <td>Riesling</td>\n",
              "      <td>0.999448</td>\n",
              "    </tr>\n",
              "    <tr>\n",
              "      <th>1</th>\n",
              "      <td>Chardonnay</td>\n",
              "      <td>0.000622</td>\n",
              "      <td>Chardonnay</td>\n",
              "      <td>0.000541</td>\n",
              "    </tr>\n",
              "    <tr>\n",
              "      <th>2</th>\n",
              "      <td>Pinot Noir</td>\n",
              "      <td>0.000008</td>\n",
              "      <td>Pinot Noir</td>\n",
              "      <td>0.000005</td>\n",
              "    </tr>\n",
              "    <tr>\n",
              "      <th>3</th>\n",
              "      <td>White Blend</td>\n",
              "      <td>0.000001</td>\n",
              "      <td>White Blend</td>\n",
              "      <td>0.000002</td>\n",
              "    </tr>\n",
              "  </tbody>\n",
              "</table>\n",
              "</div>"
            ],
            "text/plain": [
              "     variety 1  probability    variety 2  probability 2\n",
              "0     Riesling     0.999367     Riesling       0.999448\n",
              "1   Chardonnay     0.000622   Chardonnay       0.000541\n",
              "2   Pinot Noir     0.000008   Pinot Noir       0.000005\n",
              "3  White Blend     0.000001  White Blend       0.000002"
            ]
          },
          "metadata": {
            "tags": []
          },
          "execution_count": 440
        }
      ]
    },
    {
      "cell_type": "code",
      "metadata": {
        "id": "5jj3LCz-h2QD"
      },
      "source": [
        "user_input2 = ['A bright, clean character shines forth thanks to neutral barrels and \\\n",
        "stainless steel fermentation. A heady mix of green apple, citrus and stone fruit gives way \\\n",
        "to subtle earth-driven nuances and a crisp, lean body with innate minerality. The finish carries\\\n",
        " silky textures and a touch of herbal spice.']"
      ],
      "execution_count": 441,
      "outputs": []
    },
    {
      "cell_type": "markdown",
      "metadata": {
        "id": "kGg-82T575Ki"
      },
      "source": [
        "# Schug, Chardonnay, Sonoma Coast, California, USA, 2018"
      ]
    },
    {
      "cell_type": "code",
      "metadata": {
        "id": "I-cHYHEr7Ufg",
        "outputId": "c92a0253-638d-442f-d7d7-e24b4926fd6a",
        "colab": {
          "base_uri": "https://localhost:8080/",
          "height": 175
        }
      },
      "source": [
        "top_5_variety(model, model2, user_input2)"
      ],
      "execution_count": 442,
      "outputs": [
        {
          "output_type": "execute_result",
          "data": {
            "text/html": [
              "<div>\n",
              "<style scoped>\n",
              "    .dataframe tbody tr th:only-of-type {\n",
              "        vertical-align: middle;\n",
              "    }\n",
              "\n",
              "    .dataframe tbody tr th {\n",
              "        vertical-align: top;\n",
              "    }\n",
              "\n",
              "    .dataframe thead th {\n",
              "        text-align: right;\n",
              "    }\n",
              "</style>\n",
              "<table border=\"1\" class=\"dataframe\">\n",
              "  <thead>\n",
              "    <tr style=\"text-align: right;\">\n",
              "      <th></th>\n",
              "      <th>variety 1</th>\n",
              "      <th>probability</th>\n",
              "      <th>variety 2</th>\n",
              "      <th>probability 2</th>\n",
              "    </tr>\n",
              "  </thead>\n",
              "  <tbody>\n",
              "    <tr>\n",
              "      <th>0</th>\n",
              "      <td>Chardonnay</td>\n",
              "      <td>0.940334</td>\n",
              "      <td>Chardonnay</td>\n",
              "      <td>0.996303</td>\n",
              "    </tr>\n",
              "    <tr>\n",
              "      <th>1</th>\n",
              "      <td>Riesling</td>\n",
              "      <td>0.058257</td>\n",
              "      <td>Riesling</td>\n",
              "      <td>0.002673</td>\n",
              "    </tr>\n",
              "    <tr>\n",
              "      <th>2</th>\n",
              "      <td>Pinot Noir</td>\n",
              "      <td>0.001316</td>\n",
              "      <td>Pinot Noir</td>\n",
              "      <td>0.000839</td>\n",
              "    </tr>\n",
              "    <tr>\n",
              "      <th>3</th>\n",
              "      <td>Cabernet Sauvignon</td>\n",
              "      <td>0.000052</td>\n",
              "      <td>Cabernet Sauvignon</td>\n",
              "      <td>0.000103</td>\n",
              "    </tr>\n",
              "  </tbody>\n",
              "</table>\n",
              "</div>"
            ],
            "text/plain": [
              "            variety 1  probability           variety 2  probability 2\n",
              "0          Chardonnay     0.940334          Chardonnay       0.996303\n",
              "1            Riesling     0.058257            Riesling       0.002673\n",
              "2          Pinot Noir     0.001316          Pinot Noir       0.000839\n",
              "3  Cabernet Sauvignon     0.000052  Cabernet Sauvignon       0.000103"
            ]
          },
          "metadata": {
            "tags": []
          },
          "execution_count": 442
        }
      ]
    },
    {
      "cell_type": "markdown",
      "metadata": {
        "id": "8wzJheS18N8N"
      },
      "source": [
        "# Sebastiani, Cabernet Sauvignon, Alexander Valley, Sonoma County, California, USA 2018"
      ]
    },
    {
      "cell_type": "code",
      "metadata": {
        "id": "_QOukZXt7XQZ"
      },
      "source": [
        "user_input3 = ['With fruit sourced from vineyards on the north side of the Alexander Valley, \\\n",
        "there is real decadence here: ripe blackberry meets sweet spice, plus dense notes of cocoa, \\\n",
        "black tea and herbal undertones. French oak provides vanilla spice and tannins and encourages an almost sweet finish.']"
      ],
      "execution_count": 445,
      "outputs": []
    },
    {
      "cell_type": "code",
      "metadata": {
        "id": "rdNLqP-h7sCT",
        "outputId": "c1032c55-37e0-408c-b404-3c013e77199d",
        "colab": {
          "base_uri": "https://localhost:8080/",
          "height": 175
        }
      },
      "source": [
        "top_5_variety(model, model2, user_input3)"
      ],
      "execution_count": 446,
      "outputs": [
        {
          "output_type": "execute_result",
          "data": {
            "text/html": [
              "<div>\n",
              "<style scoped>\n",
              "    .dataframe tbody tr th:only-of-type {\n",
              "        vertical-align: middle;\n",
              "    }\n",
              "\n",
              "    .dataframe tbody tr th {\n",
              "        vertical-align: top;\n",
              "    }\n",
              "\n",
              "    .dataframe thead th {\n",
              "        text-align: right;\n",
              "    }\n",
              "</style>\n",
              "<table border=\"1\" class=\"dataframe\">\n",
              "  <thead>\n",
              "    <tr style=\"text-align: right;\">\n",
              "      <th></th>\n",
              "      <th>variety 1</th>\n",
              "      <th>probability</th>\n",
              "      <th>variety 2</th>\n",
              "      <th>probability 2</th>\n",
              "    </tr>\n",
              "  </thead>\n",
              "  <tbody>\n",
              "    <tr>\n",
              "      <th>0</th>\n",
              "      <td>Cabernet Sauvignon</td>\n",
              "      <td>0.991038</td>\n",
              "      <td>Cabernet Sauvignon</td>\n",
              "      <td>0.964795</td>\n",
              "    </tr>\n",
              "    <tr>\n",
              "      <th>1</th>\n",
              "      <td>Red Blend</td>\n",
              "      <td>0.003427</td>\n",
              "      <td>Pinot Noir</td>\n",
              "      <td>0.017261</td>\n",
              "    </tr>\n",
              "    <tr>\n",
              "      <th>2</th>\n",
              "      <td>Bordeaux-style Red Blend</td>\n",
              "      <td>0.002724</td>\n",
              "      <td>Red Blend</td>\n",
              "      <td>0.016530</td>\n",
              "    </tr>\n",
              "    <tr>\n",
              "      <th>3</th>\n",
              "      <td>Pinot Noir</td>\n",
              "      <td>0.002721</td>\n",
              "      <td>Bordeaux-style Red Blend</td>\n",
              "      <td>0.001063</td>\n",
              "    </tr>\n",
              "  </tbody>\n",
              "</table>\n",
              "</div>"
            ],
            "text/plain": [
              "                  variety 1  ...  probability 2\n",
              "0        Cabernet Sauvignon  ...       0.964795\n",
              "1                 Red Blend  ...       0.017261\n",
              "2  Bordeaux-style Red Blend  ...       0.016530\n",
              "3                Pinot Noir  ...       0.001063\n",
              "\n",
              "[4 rows x 4 columns]"
            ]
          },
          "metadata": {
            "tags": []
          },
          "execution_count": 446
        }
      ]
    },
    {
      "cell_type": "code",
      "metadata": {
        "id": "KBcn2XL87uK-"
      },
      "source": [
        ""
      ],
      "execution_count": null,
      "outputs": []
    }
  ]
}