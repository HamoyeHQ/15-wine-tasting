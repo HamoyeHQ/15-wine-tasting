{
 "cells": [
  {
   "cell_type": "markdown",
   "metadata": {
    "_cell_guid": "79c7e3d0-c299-4dcb-8224-4455121ee9b0",
    "_uuid": "d629ff2d2480ee46fbb7e2d37f6b5fab8052498a",
    "collapsed": true,
    "papermill": {
     "duration": 0.044031,
     "end_time": "2020-11-13T02:43:36.489916",
     "exception": false,
     "start_time": "2020-11-13T02:43:36.445885",
     "status": "completed"
    },
    "tags": []
   },
   "source": [
    "## 1.0 Getting Data"
   ]
  },
  {
   "cell_type": "code",
   "execution_count": 1,
   "metadata": {
    "execution": {
     "iopub.execute_input": "2020-11-13T02:43:36.589048Z",
     "iopub.status.busy": "2020-11-13T02:43:36.588308Z",
     "iopub.status.idle": "2020-11-13T02:43:37.630856Z",
     "shell.execute_reply": "2020-11-13T02:43:37.629790Z"
    },
    "papermill": {
     "duration": 1.094551,
     "end_time": "2020-11-13T02:43:37.630999",
     "exception": false,
     "start_time": "2020-11-13T02:43:36.536448",
     "status": "completed"
    },
    "tags": []
   },
   "outputs": [],
   "source": [
    "# importing useful libraries\n",
    "import numpy as np\n",
    "import pandas as pd\n",
    "import matplotlib.pyplot as plt\n",
    "import seaborn as sns\n",
    "\n",
    "import requests\n",
    "import re\n",
    "\n",
    "import warnings\n",
    "warnings.filterwarnings('ignore')\n",
    "\n",
    "%matplotlib inline"
   ]
  },
  {
   "cell_type": "markdown",
   "metadata": {
    "papermill": {
     "duration": 0.043184,
     "end_time": "2020-11-13T02:43:37.717028",
     "exception": false,
     "start_time": "2020-11-13T02:43:37.673844",
     "status": "completed"
    },
    "tags": []
   },
   "source": [
    "### Downloading the data from our github repository"
   ]
  },
  {
   "cell_type": "code",
   "execution_count": 2,
   "metadata": {
    "execution": {
     "iopub.execute_input": "2020-11-13T02:43:37.811808Z",
     "iopub.status.busy": "2020-11-13T02:43:37.810740Z",
     "iopub.status.idle": "2020-11-13T02:43:37.813723Z",
     "shell.execute_reply": "2020-11-13T02:43:37.813016Z"
    },
    "papermill": {
     "duration": 0.053738,
     "end_time": "2020-11-13T02:43:37.813849",
     "exception": false,
     "start_time": "2020-11-13T02:43:37.760111",
     "status": "completed"
    },
    "tags": []
   },
   "outputs": [],
   "source": [
    "url1 = 'https://raw.github.com/HamoyeHQ/stage-f-06-wine-tasting/master/data/top_40_varieties.zip'\n",
    "url2 = 'https://raw.github.com/HamoyeHQ/stage-f-06-wine-tasting/master/data/top_varieties_count.csv'"
   ]
  },
  {
   "cell_type": "code",
   "execution_count": 3,
   "metadata": {
    "execution": {
     "iopub.execute_input": "2020-11-13T02:43:37.922128Z",
     "iopub.status.busy": "2020-11-13T02:43:37.920337Z",
     "iopub.status.idle": "2020-11-13T02:43:40.828118Z",
     "shell.execute_reply": "2020-11-13T02:43:40.828912Z"
    },
    "papermill": {
     "duration": 2.968756,
     "end_time": "2020-11-13T02:43:40.829166",
     "exception": false,
     "start_time": "2020-11-13T02:43:37.860410",
     "status": "completed"
    },
    "tags": []
   },
   "outputs": [],
   "source": [
    "top_40_varieties = pd.read_csv(url1)\n",
    "top_varieties_count = pd.read_csv(url2)"
   ]
  },
  {
   "cell_type": "code",
   "execution_count": 4,
   "metadata": {
    "execution": {
     "iopub.execute_input": "2020-11-13T02:43:40.940968Z",
     "iopub.status.busy": "2020-11-13T02:43:40.940143Z",
     "iopub.status.idle": "2020-11-13T02:43:41.084331Z",
     "shell.execute_reply": "2020-11-13T02:43:41.085443Z"
    },
    "papermill": {
     "duration": 0.205978,
     "end_time": "2020-11-13T02:43:41.085637",
     "exception": false,
     "start_time": "2020-11-13T02:43:40.879659",
     "status": "completed"
    },
    "tags": []
   },
   "outputs": [],
   "source": [
    "# replacing every occurence of 'US' in country with 'United States of America'\n",
    "top_40_varieties['country'].replace('US', 'United States of America', inplace=True)\n",
    "\n",
    "# replacing every occurence of 'US' in not_vintage with 'United States of America'\n",
    "top_40_varieties['not_vintage'] = top_40_varieties['not_vintage'].apply(lambda x: x.replace(\\\n",
    "                                                                        'US', 'United States of America'))"
   ]
  },
  {
   "cell_type": "code",
   "execution_count": 5,
   "metadata": {
    "execution": {
     "iopub.execute_input": "2020-11-13T02:43:41.222917Z",
     "iopub.status.busy": "2020-11-13T02:43:41.221851Z",
     "iopub.status.idle": "2020-11-13T02:43:41.233053Z",
     "shell.execute_reply": "2020-11-13T02:43:41.234390Z"
    },
    "papermill": {
     "duration": 0.090412,
     "end_time": "2020-11-13T02:43:41.234714",
     "exception": false,
     "start_time": "2020-11-13T02:43:41.144302",
     "status": "completed"
    },
    "tags": []
   },
   "outputs": [],
   "source": [
    "# renaming the columns in top_varieties_count\n",
    "top_varieties_count = top_varieties_count.rename(columns={'variety': 'count', 'Unnamed: 0': 'variety'})\n",
    "top_varieties_count = top_varieties_count.set_index('variety') # setting the index\n",
    "top_varieties_count = top_varieties_count['count'] # making it a Series"
   ]
  },
  {
   "cell_type": "code",
   "execution_count": 6,
   "metadata": {
    "execution": {
     "iopub.execute_input": "2020-11-13T02:43:41.342132Z",
     "iopub.status.busy": "2020-11-13T02:43:41.341458Z",
     "iopub.status.idle": "2020-11-13T02:43:41.367632Z",
     "shell.execute_reply": "2020-11-13T02:43:41.367028Z"
    },
    "papermill": {
     "duration": 0.086364,
     "end_time": "2020-11-13T02:43:41.367748",
     "exception": false,
     "start_time": "2020-11-13T02:43:41.281384",
     "status": "completed"
    },
    "tags": []
   },
   "outputs": [],
   "source": [
    "top = 20 # selecting top 20 varities as our working varieties. note 1 < n <= 40\n",
    "\n",
    "# making a datframe of our selecting top n varieties\n",
    "top_df = top_40_varieties[top_40_varieties['variety'].isin(top_varieties_count.iloc[:top].index)]"
   ]
  },
  {
   "cell_type": "code",
   "execution_count": 7,
   "metadata": {
    "execution": {
     "iopub.execute_input": "2020-11-13T02:43:41.462941Z",
     "iopub.status.busy": "2020-11-13T02:43:41.462213Z",
     "iopub.status.idle": "2020-11-13T02:43:41.503891Z",
     "shell.execute_reply": "2020-11-13T02:43:41.502688Z"
    },
    "papermill": {
     "duration": 0.092547,
     "end_time": "2020-11-13T02:43:41.504022",
     "exception": false,
     "start_time": "2020-11-13T02:43:41.411475",
     "status": "completed"
    },
    "tags": []
   },
   "outputs": [],
   "source": [
    "# threshold of miniority variety to over sample (use sentences as document instead of the whole description)\n",
    "minority_threshold = 5000 \n",
    "\n",
    "# making a dataframe of the miniority classes\n",
    "minority_df = top_df[top_df['variety'].isin(top_varieties_count[top_varieties_count < \\\n",
    "                                                                      minority_threshold].index)]"
   ]
  },
  {
   "cell_type": "code",
   "execution_count": 8,
   "metadata": {
    "execution": {
     "iopub.execute_input": "2020-11-13T02:43:41.599441Z",
     "iopub.status.busy": "2020-11-13T02:43:41.598653Z",
     "iopub.status.idle": "2020-11-13T02:43:42.380899Z",
     "shell.execute_reply": "2020-11-13T02:43:42.379409Z"
    },
    "papermill": {
     "duration": 0.83172,
     "end_time": "2020-11-13T02:43:42.381023",
     "exception": false,
     "start_time": "2020-11-13T02:43:41.549303",
     "status": "completed"
    },
    "tags": []
   },
   "outputs": [],
   "source": [
    "from nltk.tokenize import sent_tokenize # importing useful library"
   ]
  },
  {
   "cell_type": "code",
   "execution_count": 9,
   "metadata": {
    "execution": {
     "iopub.execute_input": "2020-11-13T02:43:42.482679Z",
     "iopub.status.busy": "2020-11-13T02:43:42.480767Z",
     "iopub.status.idle": "2020-11-13T02:43:42.483455Z",
     "shell.execute_reply": "2020-11-13T02:43:42.483981Z"
    },
    "papermill": {
     "duration": 0.059186,
     "end_time": "2020-11-13T02:43:42.484104",
     "exception": false,
     "start_time": "2020-11-13T02:43:42.424918",
     "status": "completed"
    },
    "tags": []
   },
   "outputs": [],
   "source": [
    "oversampled_miniority_lst = [] # empty list to store sentences as tokens miniority corpus\n",
    "\n",
    "# creating a function to use sentences as tokens for the miniority classes\n",
    "def over_sample_miniority(row):\n",
    "    doc_list = sent_tokenize(row['description'])\n",
    "    for sent in doc_list:\n",
    "        row['description'] = sent\n",
    "        oversampled_miniority_lst.append(list(row))"
   ]
  },
  {
   "cell_type": "code",
   "execution_count": 10,
   "metadata": {
    "execution": {
     "iopub.execute_input": "2020-11-13T02:43:42.579372Z",
     "iopub.status.busy": "2020-11-13T02:43:42.578356Z",
     "iopub.status.idle": "2020-11-13T02:43:51.354910Z",
     "shell.execute_reply": "2020-11-13T02:43:51.356203Z"
    },
    "papermill": {
     "duration": 8.827644,
     "end_time": "2020-11-13T02:43:51.356399",
     "exception": false,
     "start_time": "2020-11-13T02:43:42.528755",
     "status": "completed"
    },
    "tags": []
   },
   "outputs": [],
   "source": [
    "minority_df.apply(over_sample_miniority, axis=1); # over sample the miniority classes"
   ]
  },
  {
   "cell_type": "code",
   "execution_count": 11,
   "metadata": {
    "execution": {
     "iopub.execute_input": "2020-11-13T02:43:51.496784Z",
     "iopub.status.busy": "2020-11-13T02:43:51.495883Z",
     "iopub.status.idle": "2020-11-13T02:43:51.782132Z",
     "shell.execute_reply": "2020-11-13T02:43:51.782813Z"
    },
    "papermill": {
     "duration": 0.362668,
     "end_time": "2020-11-13T02:43:51.783030",
     "exception": false,
     "start_time": "2020-11-13T02:43:51.420362",
     "status": "completed"
    },
    "tags": []
   },
   "outputs": [],
   "source": [
    "# converts oversampled_miniority_lst to a dataframe\n",
    "oversampled_miniority_df = pd.DataFrame(oversampled_miniority_lst, columns=minority_df.columns)"
   ]
  },
  {
   "cell_type": "code",
   "execution_count": 12,
   "metadata": {
    "execution": {
     "iopub.execute_input": "2020-11-13T02:43:51.924009Z",
     "iopub.status.busy": "2020-11-13T02:43:51.923128Z",
     "iopub.status.idle": "2020-11-13T02:43:52.348156Z",
     "shell.execute_reply": "2020-11-13T02:43:52.349375Z"
    },
    "papermill": {
     "duration": 0.515708,
     "end_time": "2020-11-13T02:43:52.349593",
     "exception": false,
     "start_time": "2020-11-13T02:43:51.833885",
     "status": "completed"
    },
    "tags": []
   },
   "outputs": [],
   "source": [
    "# selecting majority classes as a dataframe to concatenate to oversampled_miniority_lst\n",
    "majority_df = top_df[top_df['variety'].isin(\\\n",
    "                                top_varieties_count[top_varieties_count >= minority_threshold].index)]\n",
    "\n",
    "# concatenates majority_df to oversampled_miniority_lst\n",
    "balanced_df = pd.concat([majority_df, oversampled_miniority_df]) \n",
    "balanced_df = balanced_df.reset_index().drop('index', axis=1) # resets index"
   ]
  },
  {
   "cell_type": "code",
   "execution_count": 13,
   "metadata": {
    "execution": {
     "iopub.execute_input": "2020-11-13T02:43:52.488965Z",
     "iopub.status.busy": "2020-11-13T02:43:52.488079Z",
     "iopub.status.idle": "2020-11-13T02:43:52.540985Z",
     "shell.execute_reply": "2020-11-13T02:43:52.541715Z"
    },
    "papermill": {
     "duration": 0.125735,
     "end_time": "2020-11-13T02:43:52.541928",
     "exception": false,
     "start_time": "2020-11-13T02:43:52.416193",
     "status": "completed"
    },
    "tags": []
   },
   "outputs": [],
   "source": [
    "balanced_variety = balanced_df['variety'].value_counts() # gets a Series of the variety count in balanced_df"
   ]
  },
  {
   "cell_type": "code",
   "execution_count": 14,
   "metadata": {
    "execution": {
     "iopub.execute_input": "2020-11-13T02:43:52.680780Z",
     "iopub.status.busy": "2020-11-13T02:43:52.679690Z",
     "iopub.status.idle": "2020-11-13T02:43:52.682572Z",
     "shell.execute_reply": "2020-11-13T02:43:52.681691Z"
    },
    "papermill": {
     "duration": 0.074531,
     "end_time": "2020-11-13T02:43:52.682731",
     "exception": false,
     "start_time": "2020-11-13T02:43:52.608200",
     "status": "completed"
    },
    "tags": []
   },
   "outputs": [],
   "source": [
    "# importing useful libraries\n",
    "from sklearn.preprocessing import LabelEncoder, OneHotEncoder"
   ]
  },
  {
   "cell_type": "code",
   "execution_count": 15,
   "metadata": {
    "execution": {
     "iopub.execute_input": "2020-11-13T02:43:52.825181Z",
     "iopub.status.busy": "2020-11-13T02:43:52.824197Z",
     "iopub.status.idle": "2020-11-13T02:43:52.995856Z",
     "shell.execute_reply": "2020-11-13T02:43:52.994350Z"
    },
    "papermill": {
     "duration": 0.247102,
     "end_time": "2020-11-13T02:43:52.995980",
     "exception": false,
     "start_time": "2020-11-13T02:43:52.748878",
     "status": "completed"
    },
    "tags": []
   },
   "outputs": [],
   "source": [
    "# for sentence oversampling\n",
    "sent_oversample_corpus = [doc1 + ' ' + doc2 for doc1, doc2 in zip(\\\n",
    "                                                balanced_df['description'], balanced_df['not_vintage'])]"
   ]
  },
  {
   "cell_type": "code",
   "execution_count": 16,
   "metadata": {
    "execution": {
     "iopub.execute_input": "2020-11-13T02:43:53.117565Z",
     "iopub.status.busy": "2020-11-13T02:43:53.106973Z",
     "iopub.status.idle": "2020-11-13T02:43:53.120448Z",
     "shell.execute_reply": "2020-11-13T02:43:53.119858Z"
    },
    "papermill": {
     "duration": 0.077476,
     "end_time": "2020-11-13T02:43:53.120573",
     "exception": false,
     "start_time": "2020-11-13T02:43:53.043097",
     "status": "completed"
    },
    "tags": []
   },
   "outputs": [],
   "source": [
    "labels = [label for label in balanced_df['variety']]"
   ]
  },
  {
   "cell_type": "markdown",
   "metadata": {
    "papermill": {
     "duration": 0.073121,
     "end_time": "2020-11-13T02:43:53.266186",
     "exception": false,
     "start_time": "2020-11-13T02:43:53.193065",
     "status": "completed"
    },
    "tags": []
   },
   "source": [
    "## 2.0 Data Preprocessing"
   ]
  },
  {
   "cell_type": "code",
   "execution_count": 17,
   "metadata": {
    "execution": {
     "iopub.execute_input": "2020-11-13T02:43:53.423638Z",
     "iopub.status.busy": "2020-11-13T02:43:53.422684Z",
     "iopub.status.idle": "2020-11-13T02:43:55.790720Z",
     "shell.execute_reply": "2020-11-13T02:43:55.789832Z"
    },
    "papermill": {
     "duration": 2.443796,
     "end_time": "2020-11-13T02:43:55.790840",
     "exception": false,
     "start_time": "2020-11-13T02:43:53.347044",
     "status": "completed"
    },
    "tags": []
   },
   "outputs": [],
   "source": [
    "import spacy"
   ]
  },
  {
   "cell_type": "code",
   "execution_count": 18,
   "metadata": {
    "execution": {
     "iopub.execute_input": "2020-11-13T02:43:55.887157Z",
     "iopub.status.busy": "2020-11-13T02:43:55.886406Z",
     "iopub.status.idle": "2020-11-13T02:43:57.112124Z",
     "shell.execute_reply": "2020-11-13T02:43:57.111445Z"
    },
    "papermill": {
     "duration": 1.27571,
     "end_time": "2020-11-13T02:43:57.112245",
     "exception": false,
     "start_time": "2020-11-13T02:43:55.836535",
     "status": "completed"
    },
    "tags": []
   },
   "outputs": [],
   "source": [
    "# creating a spacy pipeline and disabling tagger, parser and ner to speed up tokenizer\n",
    "nlp = spacy.load('en', disable=['tagger', 'parser', 'ner']) "
   ]
  },
  {
   "cell_type": "code",
   "execution_count": 19,
   "metadata": {
    "execution": {
     "iopub.execute_input": "2020-11-13T02:43:57.237957Z",
     "iopub.status.busy": "2020-11-13T02:43:57.235931Z",
     "iopub.status.idle": "2020-11-13T02:43:57.238654Z",
     "shell.execute_reply": "2020-11-13T02:43:57.239137Z"
    },
    "papermill": {
     "duration": 0.081431,
     "end_time": "2020-11-13T02:43:57.239258",
     "exception": false,
     "start_time": "2020-11-13T02:43:57.157827",
     "status": "completed"
    },
    "tags": []
   },
   "outputs": [],
   "source": [
    "spacy_stop_words = spacy.lang.en.STOP_WORDS # getting spacy's stop-words"
   ]
  },
  {
   "cell_type": "code",
   "execution_count": 20,
   "metadata": {
    "execution": {
     "iopub.execute_input": "2020-11-13T02:43:57.344435Z",
     "iopub.status.busy": "2020-11-13T02:43:57.343665Z",
     "iopub.status.idle": "2020-11-13T02:43:57.733120Z",
     "shell.execute_reply": "2020-11-13T02:43:57.732017Z"
    },
    "papermill": {
     "duration": 0.445057,
     "end_time": "2020-11-13T02:43:57.733245",
     "exception": false,
     "start_time": "2020-11-13T02:43:57.288188",
     "status": "completed"
    },
    "tags": []
   },
   "outputs": [],
   "source": [
    "response = requests.get('https://raw.github.com/Yoast/YoastSEO.js/develop/src/config/stopwords.js')\n",
    "yoast_stop_words = response.content.decode()"
   ]
  },
  {
   "cell_type": "code",
   "execution_count": 21,
   "metadata": {
    "execution": {
     "iopub.execute_input": "2020-11-13T02:43:57.835343Z",
     "iopub.status.busy": "2020-11-13T02:43:57.834502Z",
     "iopub.status.idle": "2020-11-13T02:43:57.838066Z",
     "shell.execute_reply": "2020-11-13T02:43:57.839254Z"
    },
    "papermill": {
     "duration": 0.059684,
     "end_time": "2020-11-13T02:43:57.839438",
     "exception": false,
     "start_time": "2020-11-13T02:43:57.779754",
     "status": "completed"
    },
    "tags": []
   },
   "outputs": [
    {
     "name": "stdout",
     "output_type": "stream",
     "text": [
      "length of yoast_stop_words is 153\n",
      "\n",
      "{'very', \"i've\", 'until', 'where', 'into', 'itself', \"i'll\", 'only', 'ought', 'were', 'them', 'has', 'herself', 'but', 'about', 'as', 'these', 'further', 'theirs', \"that's\", 'more', \"he's\", 'below', 'do', \"there's\", 'there', 'himself', 'yours', 'up', 'before', \"you'll\", 'between', 'with', \"when's\", \"we've\", 'myself', 'any', 'his', 'her', 'nor', 'yourselves', 'hers', 'she', 'to', 'all', 'under', 'have', 'in', 'other', \"she'd\", \"why's\", 'me', 'most', 'your', \"she's\", 'how', \"he'll\", 'which', 'a', 'down', \"we'd\", 'who', 'once', 'be', \"it's\", 'because', 'after', 'did', 'during', 'that', 'same', 'are', 'having', 'than', 'through', 'when', 'our', 'both', \"what's\", 'their', 'am', 'they', 'or', 'each', 'been', 'again', 'you', \"she'll\", 'whom', \"here's\", 'yourself', 'if', \"you're\", 'few', 'out', 'while', \"we'll\", 'the', 'would', \"i'd\", \"you've\", \"i'm\", \"where's\", 'doing', 'him', 'above', 'was', 'he', 'being', 'and', 'against', 'for', 'i', 'is', 'so', 'could', 'from', \"how's\", 'ours', 'then', 'own', \"we're\", 'at', 'what', 'themselves', 'why', 'its', 'should', 'ourselves', \"they're\", 'by', 'such', 'does', \"they'd\", \"you'd\", 'it', 'some', \"they've\", 'too', 'an', 'my', \"who's\", 'this', 'of', 'here', \"let's\", \"they'll\", 'those', \"he'd\", 'had', 'over', 'we', 'on'}\n"
     ]
    }
   ],
   "source": [
    "pattern = r'\\[.+\\]'\n",
    "match = re.search(pattern, yoast_stop_words)\n",
    "yoast_stop_words = set(match.group()[1:-1].replace('\"', '').replace(',', '').split())\n",
    "print(f'length of yoast_stop_words is {len(yoast_stop_words)}\\n')\n",
    "print(yoast_stop_words)"
   ]
  },
  {
   "cell_type": "code",
   "execution_count": 22,
   "metadata": {
    "execution": {
     "iopub.execute_input": "2020-11-13T02:43:57.963398Z",
     "iopub.status.busy": "2020-11-13T02:43:57.962518Z",
     "iopub.status.idle": "2020-11-13T02:43:57.965477Z",
     "shell.execute_reply": "2020-11-13T02:43:57.964955Z"
    },
    "papermill": {
     "duration": 0.077229,
     "end_time": "2020-11-13T02:43:57.965611",
     "exception": false,
     "start_time": "2020-11-13T02:43:57.888382",
     "status": "completed"
    },
    "tags": []
   },
   "outputs": [],
   "source": [
    "stop_words_lemma = {word.lemma_.lower() for word in nlp(' '.join(spacy_stop_words | yoast_stop_words))} | \\\n",
    "{'-pron-', '10', '12', 'aah', 'aa', 'ab', 'aaa', 'aand', '16', '2', '20', '30', '4', '40', '5', '6', '7', \\\n",
    " '8', '9'}"
   ]
  },
  {
   "cell_type": "code",
   "execution_count": null,
   "metadata": {
    "papermill": {
     "duration": 0.051299,
     "end_time": "2020-11-13T02:43:58.067960",
     "exception": false,
     "start_time": "2020-11-13T02:43:58.016661",
     "status": "completed"
    },
    "tags": []
   },
   "outputs": [],
   "source": []
  },
  {
   "cell_type": "markdown",
   "metadata": {
    "papermill": {
     "duration": 0.067688,
     "end_time": "2020-11-13T02:43:58.190965",
     "exception": false,
     "start_time": "2020-11-13T02:43:58.123277",
     "status": "completed"
    },
    "tags": []
   },
   "source": [
    "### creating custom transformers to encapsulate our preprocessing"
   ]
  },
  {
   "cell_type": "code",
   "execution_count": 23,
   "metadata": {
    "execution": {
     "iopub.execute_input": "2020-11-13T02:43:58.307934Z",
     "iopub.status.busy": "2020-11-13T02:43:58.307114Z",
     "iopub.status.idle": "2020-11-13T02:43:58.311463Z",
     "shell.execute_reply": "2020-11-13T02:43:58.310938Z"
    },
    "papermill": {
     "duration": 0.058448,
     "end_time": "2020-11-13T02:43:58.311613",
     "exception": false,
     "start_time": "2020-11-13T02:43:58.253165",
     "status": "completed"
    },
    "tags": []
   },
   "outputs": [],
   "source": [
    "from sklearn.base import BaseEstimator, TransformerMixin, ClassifierMixin"
   ]
  },
  {
   "cell_type": "code",
   "execution_count": 24,
   "metadata": {
    "execution": {
     "iopub.execute_input": "2020-11-13T02:43:58.418885Z",
     "iopub.status.busy": "2020-11-13T02:43:58.418060Z",
     "iopub.status.idle": "2020-11-13T02:43:58.421714Z",
     "shell.execute_reply": "2020-11-13T02:43:58.421171Z"
    },
    "papermill": {
     "duration": 0.061518,
     "end_time": "2020-11-13T02:43:58.421823",
     "exception": false,
     "start_time": "2020-11-13T02:43:58.360305",
     "status": "completed"
    },
    "tags": []
   },
   "outputs": [],
   "source": [
    "class GetTokens(BaseEstimator, TransformerMixin):\n",
    "    def __init__(self, stop_words=stop_words_lemma):\n",
    "        self.stop_words = stop_words\n",
    "    \n",
    "    # defining tokenzer function to tokenize the lower case lemma of documents in a corpus and \n",
    "    # filter out stop-words  \n",
    "    def tokenize(self, text):\n",
    "        return [word.lemma_.lower() for word in nlp(text) if word.is_alpha and word.lemma_.lower() \\\n",
    "                not in self.stop_words]\n",
    "\n",
    "    def fit(self, X, y=None):\n",
    "        return self\n",
    "    \n",
    "    def transform(self, X):\n",
    "        self.tokens = [self.tokenize(doc) for doc in X]\n",
    "            \n",
    "        return self.tokens"
   ]
  },
  {
   "cell_type": "code",
   "execution_count": 25,
   "metadata": {
    "execution": {
     "iopub.execute_input": "2020-11-13T02:43:58.522153Z",
     "iopub.status.busy": "2020-11-13T02:43:58.521255Z",
     "iopub.status.idle": "2020-11-13T02:43:58.523820Z",
     "shell.execute_reply": "2020-11-13T02:43:58.524421Z"
    },
    "papermill": {
     "duration": 0.054406,
     "end_time": "2020-11-13T02:43:58.524569",
     "exception": false,
     "start_time": "2020-11-13T02:43:58.470163",
     "status": "completed"
    },
    "tags": []
   },
   "outputs": [],
   "source": [
    "tokens = GetTokens()"
   ]
  },
  {
   "cell_type": "code",
   "execution_count": 26,
   "metadata": {
    "execution": {
     "iopub.execute_input": "2020-11-13T02:43:58.625405Z",
     "iopub.status.busy": "2020-11-13T02:43:58.624809Z",
     "iopub.status.idle": "2020-11-13T02:44:04.401679Z",
     "shell.execute_reply": "2020-11-13T02:44:04.400257Z"
    },
    "papermill": {
     "duration": 5.827651,
     "end_time": "2020-11-13T02:44:04.401852",
     "exception": false,
     "start_time": "2020-11-13T02:43:58.574201",
     "status": "completed"
    },
    "tags": []
   },
   "outputs": [],
   "source": [
    "import tensorflow as tf\n",
    "from tensorflow.keras.preprocessing.text import Tokenizer"
   ]
  },
  {
   "cell_type": "code",
   "execution_count": 27,
   "metadata": {
    "execution": {
     "iopub.execute_input": "2020-11-13T02:44:04.518693Z",
     "iopub.status.busy": "2020-11-13T02:44:04.516825Z",
     "iopub.status.idle": "2020-11-13T02:44:04.519483Z",
     "shell.execute_reply": "2020-11-13T02:44:04.520052Z"
    },
    "papermill": {
     "duration": 0.05854,
     "end_time": "2020-11-13T02:44:04.520181",
     "exception": false,
     "start_time": "2020-11-13T02:44:04.461641",
     "status": "completed"
    },
    "tags": []
   },
   "outputs": [],
   "source": [
    "class Text2Sequence(BaseEstimator, TransformerMixin):\n",
    "    def __init__(self):\n",
    "        self.sequence_tokenizer = Tokenizer(oov_token='<oov>')\n",
    "\n",
    "    def fit(self, X, y=None):\n",
    "        self.sequence_tokenizer.fit_on_texts(X)\n",
    "        self.words_indices = self.sequence_tokenizer.word_index\n",
    "        return self\n",
    "    \n",
    "    def transform(self, X):\n",
    "        self.get_sequences = self.sequence_tokenizer.texts_to_sequences(X)\n",
    "        return self.get_sequences"
   ]
  },
  {
   "cell_type": "code",
   "execution_count": 28,
   "metadata": {
    "execution": {
     "iopub.execute_input": "2020-11-13T02:44:04.620851Z",
     "iopub.status.busy": "2020-11-13T02:44:04.620204Z",
     "iopub.status.idle": "2020-11-13T02:44:04.624400Z",
     "shell.execute_reply": "2020-11-13T02:44:04.623884Z"
    },
    "papermill": {
     "duration": 0.054517,
     "end_time": "2020-11-13T02:44:04.624494",
     "exception": false,
     "start_time": "2020-11-13T02:44:04.569977",
     "status": "completed"
    },
    "tags": []
   },
   "outputs": [],
   "source": [
    "text_2_seq = Text2Sequence()"
   ]
  },
  {
   "cell_type": "code",
   "execution_count": 29,
   "metadata": {
    "execution": {
     "iopub.execute_input": "2020-11-13T02:44:04.721765Z",
     "iopub.status.busy": "2020-11-13T02:44:04.721040Z",
     "iopub.status.idle": "2020-11-13T02:44:04.778851Z",
     "shell.execute_reply": "2020-11-13T02:44:04.778031Z"
    },
    "papermill": {
     "duration": 0.108184,
     "end_time": "2020-11-13T02:44:04.778966",
     "exception": false,
     "start_time": "2020-11-13T02:44:04.670782",
     "status": "completed"
    },
    "tags": []
   },
   "outputs": [],
   "source": [
    "from keras.preprocessing.sequence import pad_sequences"
   ]
  },
  {
   "cell_type": "code",
   "execution_count": 30,
   "metadata": {
    "execution": {
     "iopub.execute_input": "2020-11-13T02:44:04.882334Z",
     "iopub.status.busy": "2020-11-13T02:44:04.881466Z",
     "iopub.status.idle": "2020-11-13T02:44:04.884478Z",
     "shell.execute_reply": "2020-11-13T02:44:04.883982Z"
    },
    "papermill": {
     "duration": 0.057411,
     "end_time": "2020-11-13T02:44:04.884595",
     "exception": false,
     "start_time": "2020-11-13T02:44:04.827184",
     "status": "completed"
    },
    "tags": []
   },
   "outputs": [],
   "source": [
    "class Padding(BaseEstimator, TransformerMixin):\n",
    "    def __init__(self, pad='post'):\n",
    "        self.pad = pad\n",
    "    \n",
    "    def fit(self, X, y=None):\n",
    "        return self\n",
    "    \n",
    "    def transform(self, X):\n",
    "        self.get_paddings = pad_sequences(X, padding=self.pad)\n",
    "        return self.get_paddings"
   ]
  },
  {
   "cell_type": "code",
   "execution_count": 31,
   "metadata": {
    "execution": {
     "iopub.execute_input": "2020-11-13T02:44:04.988314Z",
     "iopub.status.busy": "2020-11-13T02:44:04.987406Z",
     "iopub.status.idle": "2020-11-13T02:44:04.990406Z",
     "shell.execute_reply": "2020-11-13T02:44:04.989890Z"
    },
    "papermill": {
     "duration": 0.057646,
     "end_time": "2020-11-13T02:44:04.990516",
     "exception": false,
     "start_time": "2020-11-13T02:44:04.932870",
     "status": "completed"
    },
    "tags": []
   },
   "outputs": [],
   "source": [
    "pad = Padding()"
   ]
  },
  {
   "cell_type": "code",
   "execution_count": 32,
   "metadata": {
    "execution": {
     "iopub.execute_input": "2020-11-13T02:44:05.092086Z",
     "iopub.status.busy": "2020-11-13T02:44:05.091297Z",
     "iopub.status.idle": "2020-11-13T02:44:05.094349Z",
     "shell.execute_reply": "2020-11-13T02:44:05.093726Z"
    },
    "papermill": {
     "duration": 0.055065,
     "end_time": "2020-11-13T02:44:05.094443",
     "exception": false,
     "start_time": "2020-11-13T02:44:05.039378",
     "status": "completed"
    },
    "tags": []
   },
   "outputs": [],
   "source": [
    "from sklearn.pipeline import Pipeline"
   ]
  },
  {
   "cell_type": "code",
   "execution_count": 33,
   "metadata": {
    "execution": {
     "iopub.execute_input": "2020-11-13T02:44:05.196399Z",
     "iopub.status.busy": "2020-11-13T02:44:05.195469Z",
     "iopub.status.idle": "2020-11-13T02:44:05.198403Z",
     "shell.execute_reply": "2020-11-13T02:44:05.197940Z"
    },
    "papermill": {
     "duration": 0.056714,
     "end_time": "2020-11-13T02:44:05.198504",
     "exception": false,
     "start_time": "2020-11-13T02:44:05.141790",
     "status": "completed"
    },
    "tags": []
   },
   "outputs": [],
   "source": [
    "data_prep_pipe = Pipeline([('get_tokens', tokens), ('text_2_sequence', text_2_seq), ('padding', pad)], verbose=1)"
   ]
  },
  {
   "cell_type": "markdown",
   "metadata": {
    "papermill": {
     "duration": 0.050792,
     "end_time": "2020-11-13T02:44:05.297266",
     "exception": false,
     "start_time": "2020-11-13T02:44:05.246474",
     "status": "completed"
    },
    "tags": []
   },
   "source": [
    "#### The above should return preprocessed X_train and y_train from data_prep_pipe.fit_transform(X_train, y_train)"
   ]
  },
  {
   "cell_type": "markdown",
   "metadata": {
    "papermill": {
     "duration": 0.049529,
     "end_time": "2020-11-13T02:44:05.395455",
     "exception": false,
     "start_time": "2020-11-13T02:44:05.345926",
     "status": "completed"
    },
    "tags": []
   },
   "source": [
    "## Training"
   ]
  },
  {
   "cell_type": "code",
   "execution_count": 34,
   "metadata": {
    "execution": {
     "iopub.execute_input": "2020-11-13T02:44:05.539068Z",
     "iopub.status.busy": "2020-11-13T02:44:05.538272Z",
     "iopub.status.idle": "2020-11-13T02:44:05.721156Z",
     "shell.execute_reply": "2020-11-13T02:44:05.719915Z"
    },
    "papermill": {
     "duration": 0.276685,
     "end_time": "2020-11-13T02:44:05.721279",
     "exception": false,
     "start_time": "2020-11-13T02:44:05.444594",
     "status": "completed"
    },
    "tags": []
   },
   "outputs": [],
   "source": [
    "from gensim.models import Word2Vec # importing Word2Vec"
   ]
  },
  {
   "cell_type": "code",
   "execution_count": 35,
   "metadata": {
    "execution": {
     "iopub.execute_input": "2020-11-13T02:44:05.827169Z",
     "iopub.status.busy": "2020-11-13T02:44:05.825228Z",
     "iopub.status.idle": "2020-11-13T02:44:05.827873Z",
     "shell.execute_reply": "2020-11-13T02:44:05.828358Z"
    },
    "papermill": {
     "duration": 0.059002,
     "end_time": "2020-11-13T02:44:05.828486",
     "exception": false,
     "start_time": "2020-11-13T02:44:05.769484",
     "status": "completed"
    },
    "tags": []
   },
   "outputs": [],
   "source": [
    "def get_embedding_matrix(model, word_index):\n",
    "    vocab_size = len(word_index) + 1\n",
    "    embedding_dim = model.wv.vector_size\n",
    "    embedding_matrix = np.zeros((vocab_size, embedding_dim))\n",
    "    \n",
    "    for word in model.wv.vocab:\n",
    "        ind = word_index[word]\n",
    "        embedding_matrix[ind] = model[word]\n",
    "        \n",
    "    return embedding_matrix"
   ]
  },
  {
   "cell_type": "code",
   "execution_count": 36,
   "metadata": {
    "execution": {
     "iopub.execute_input": "2020-11-13T02:44:05.938370Z",
     "iopub.status.busy": "2020-11-13T02:44:05.937356Z",
     "iopub.status.idle": "2020-11-13T02:44:05.940354Z",
     "shell.execute_reply": "2020-11-13T02:44:05.939818Z"
    },
    "papermill": {
     "duration": 0.061505,
     "end_time": "2020-11-13T02:44:05.940467",
     "exception": false,
     "start_time": "2020-11-13T02:44:05.878962",
     "status": "completed"
    },
    "tags": []
   },
   "outputs": [],
   "source": [
    "from sklearn.utils import class_weight"
   ]
  },
  {
   "cell_type": "code",
   "execution_count": 37,
   "metadata": {
    "execution": {
     "iopub.execute_input": "2020-11-13T02:44:06.048192Z",
     "iopub.status.busy": "2020-11-13T02:44:06.047262Z",
     "iopub.status.idle": "2020-11-13T02:44:06.050606Z",
     "shell.execute_reply": "2020-11-13T02:44:06.050047Z"
    },
    "papermill": {
     "duration": 0.060128,
     "end_time": "2020-11-13T02:44:06.050742",
     "exception": false,
     "start_time": "2020-11-13T02:44:05.990614",
     "status": "completed"
    },
    "tags": []
   },
   "outputs": [],
   "source": [
    "# importing deep learning libraries\n",
    "from tensorflow.keras.layers import Embedding, Dense, GlobalMaxPool1D, Conv1D, Dropout\n",
    "from tensorflow.keras.models import Sequential"
   ]
  },
  {
   "cell_type": "code",
   "execution_count": 38,
   "metadata": {
    "execution": {
     "iopub.execute_input": "2020-11-13T02:44:06.164302Z",
     "iopub.status.busy": "2020-11-13T02:44:06.160453Z",
     "iopub.status.idle": "2020-11-13T02:44:06.167415Z",
     "shell.execute_reply": "2020-11-13T02:44:06.166895Z"
    },
    "papermill": {
     "duration": 0.065315,
     "end_time": "2020-11-13T02:44:06.167521",
     "exception": false,
     "start_time": "2020-11-13T02:44:06.102206",
     "status": "completed"
    },
    "tags": []
   },
   "outputs": [],
   "source": [
    "def multi_class_fbeta(ytrue , ypred, beta=1, weighted=True, raw=False, epsilon=1e-7):\n",
    "    beta_squared = beta**2\n",
    "\n",
    "    ytrue = tf.cast(ytrue, tf.float32)\n",
    "    ypred= tf.cast(ypred, tf.float32)\n",
    "    \n",
    "    max_prob = tf.reduce_max(ypred, axis=-1, keepdims=True)\n",
    "    ypred = tf.cast(tf.equal(ypred, max_prob), tf.float32)\n",
    "        \n",
    "    tp = tf.reduce_sum(ytrue*ypred, axis=0)\n",
    "    predicted_positive = tf.reduce_sum(ypred, axis=0)\n",
    "    actual_positive = tf.reduce_sum(ytrue, axis=0)\n",
    "    \n",
    "    precision = tp/(predicted_positive+epsilon)\n",
    "    recall = tp/(actual_positive+epsilon)\n",
    "    \n",
    "    fb = (1+beta_squared)*precision*recall / (beta_squared*precision + recall + epsilon)\n",
    "    \n",
    "    if raw:\n",
    "        return fb\n",
    "    \n",
    "    if weighted:\n",
    "        supports = tf.reduce_sum(ytrue, axis=0)\n",
    "        return tf.reduce_sum(fb*supports / tf.reduce_sum(supports))\n",
    "\n",
    "    return tf.reduce_mean(fb)"
   ]
  },
  {
   "cell_type": "code",
   "execution_count": 39,
   "metadata": {
    "execution": {
     "iopub.execute_input": "2020-11-13T02:44:06.278696Z",
     "iopub.status.busy": "2020-11-13T02:44:06.277699Z",
     "iopub.status.idle": "2020-11-13T02:44:06.280939Z",
     "shell.execute_reply": "2020-11-13T02:44:06.280362Z"
    },
    "papermill": {
     "duration": 0.063844,
     "end_time": "2020-11-13T02:44:06.281059",
     "exception": false,
     "start_time": "2020-11-13T02:44:06.217215",
     "status": "completed"
    },
    "tags": []
   },
   "outputs": [],
   "source": [
    "def build_cnn_model(embedding_matrix, input_length):\n",
    "    model = Sequential()\n",
    "    model.add(Embedding(embedding_matrix.shape[0], embedding_matrix.shape[1], \n",
    "                           weights=[embedding_matrix], \n",
    "                           input_length=input_length,\n",
    "                           mask_zero=True,\n",
    "                           trainable=False))\n",
    "    \n",
    "    model.add(Conv1D(128, 3, activation='relu'))\n",
    "    model.add(Conv1D(128, 3, activation='relu'))\n",
    "    \n",
    "    model.add(GlobalMaxPool1D())\n",
    "    \n",
    "    model.add(Dropout(0.2))\n",
    "    \n",
    "    model.add(Dense(20, activation='softmax'))\n",
    "\n",
    "    model.compile(optimizer='adam',\n",
    "              loss='categorical_crossentropy',\n",
    "              metrics=['accuracy', multi_class_fbeta])\n",
    "\n",
    "    return model"
   ]
  },
  {
   "cell_type": "code",
   "execution_count": 40,
   "metadata": {
    "execution": {
     "iopub.execute_input": "2020-11-13T02:44:06.396981Z",
     "iopub.status.busy": "2020-11-13T02:44:06.396001Z",
     "iopub.status.idle": "2020-11-13T02:44:06.399003Z",
     "shell.execute_reply": "2020-11-13T02:44:06.398445Z"
    },
    "papermill": {
     "duration": 0.067322,
     "end_time": "2020-11-13T02:44:06.399114",
     "exception": false,
     "start_time": "2020-11-13T02:44:06.331792",
     "status": "completed"
    },
    "tags": []
   },
   "outputs": [],
   "source": [
    "class CNNModel(BaseEstimator, ClassifierMixin):\n",
    "    def __init__(self, epochs=7, batch_size=128, verbose=1):\n",
    "        self.epochs = epochs\n",
    "        self.batch_size = batch_size\n",
    "        self.verbose = verbose\n",
    "        \n",
    "    def fit(self, X, y):\n",
    "        self.corpus = data_prep_pipe.named_steps['get_tokens'].tokens\n",
    "        self.w2v_model = Word2Vec(self.corpus, size=300, min_count=1, iter=10)\n",
    "        self.embedding_matrix = get_embedding_matrix(self.w2v_model, \\\n",
    "                                                     data_prep_pipe.named_steps['text_2_sequence'].words_indices)\n",
    "        \n",
    "        self.model = build_cnn_model(self.embedding_matrix, X.shape[1])\n",
    "        \n",
    "        self.le = LabelEncoder()\n",
    "        self.one_hot = OneHotEncoder(sparse=False) # initializes a LabelEncoder object\n",
    "        \n",
    "        encoded_labels = self.le.fit_transform(y)\n",
    "        \n",
    "        self.class_weights = class_weight.compute_class_weight('balanced', np.arange(20), encoded_labels)\n",
    "        self.class_weights = dict(enumerate(self.class_weights))\n",
    "\n",
    "        one_hot_labels = self.one_hot.fit_transform(encoded_labels.reshape(-1, 1))\n",
    "        \n",
    "        self.history = self.model.fit(X, one_hot_labels, epochs=self.epochs, batch_size=self.batch_size, \\\n",
    "                                      class_weight=self.class_weights, verbose=self.verbose)\n",
    "        \n",
    "        return self\n",
    "    \n",
    "    def predict(self, X):\n",
    "        self.pred = self.model.predict(X)\n",
    "        return self.pred \n",
    "        "
   ]
  },
  {
   "cell_type": "code",
   "execution_count": 41,
   "metadata": {
    "execution": {
     "iopub.execute_input": "2020-11-13T02:44:06.504425Z",
     "iopub.status.busy": "2020-11-13T02:44:06.503468Z",
     "iopub.status.idle": "2020-11-13T02:44:06.506497Z",
     "shell.execute_reply": "2020-11-13T02:44:06.505967Z"
    },
    "papermill": {
     "duration": 0.057506,
     "end_time": "2020-11-13T02:44:06.506621",
     "exception": false,
     "start_time": "2020-11-13T02:44:06.449115",
     "status": "completed"
    },
    "tags": []
   },
   "outputs": [],
   "source": [
    "cnn_model = CNNModel()"
   ]
  },
  {
   "cell_type": "markdown",
   "metadata": {
    "papermill": {
     "duration": 0.04867,
     "end_time": "2020-11-13T02:44:06.605283",
     "exception": false,
     "start_time": "2020-11-13T02:44:06.556613",
     "status": "completed"
    },
    "tags": []
   },
   "source": [
    "#### The above should be fitted on the preprocessed X_train and y_train from data_prep_pipe.fit_transform(X_train, y_train)."
   ]
  },
  {
   "cell_type": "markdown",
   "metadata": {
    "papermill": {
     "duration": 0.048294,
     "end_time": "2020-11-13T02:44:06.703767",
     "exception": false,
     "start_time": "2020-11-13T02:44:06.655473",
     "status": "completed"
    },
    "tags": []
   },
   "source": [
    "## Prediction"
   ]
  },
  {
   "cell_type": "markdown",
   "metadata": {
    "papermill": {
     "duration": 0.051147,
     "end_time": "2020-11-13T02:44:06.804623",
     "exception": false,
     "start_time": "2020-11-13T02:44:06.753476",
     "status": "completed"
    },
    "tags": []
   },
   "source": [
    "#### the user's input to be predicted will be transformed by being fed into the preprocessor by actually doing somehing like prep_input = data_prep_pipe.transform(user_input) and then be fed into the model by doing something like pred = cnn_model.predict(prep_input)"
   ]
  },
  {
   "cell_type": "markdown",
   "metadata": {
    "papermill": {
     "duration": 0.051165,
     "end_time": "2020-11-13T02:44:06.905901",
     "exception": false,
     "start_time": "2020-11-13T02:44:06.854736",
     "status": "completed"
    },
    "tags": []
   },
   "source": [
    "# Note: lines of code below are for demostration purposes and should not be included in our deployment."
   ]
  },
  {
   "cell_type": "markdown",
   "metadata": {
    "papermill": {
     "duration": 0.05002,
     "end_time": "2020-11-13T02:44:07.008224",
     "exception": false,
     "start_time": "2020-11-13T02:44:06.958204",
     "status": "completed"
    },
    "tags": []
   },
   "source": [
    "### Our model only predicts the top 20 varieties and they are as listed below"
   ]
  },
  {
   "cell_type": "code",
   "execution_count": 42,
   "metadata": {
    "execution": {
     "iopub.execute_input": "2020-11-13T02:44:07.127905Z",
     "iopub.status.busy": "2020-11-13T02:44:07.127094Z",
     "iopub.status.idle": "2020-11-13T02:44:07.137261Z",
     "shell.execute_reply": "2020-11-13T02:44:07.137859Z"
    },
    "papermill": {
     "duration": 0.07811,
     "end_time": "2020-11-13T02:44:07.137988",
     "exception": false,
     "start_time": "2020-11-13T02:44:07.059878",
     "status": "completed"
    },
    "tags": []
   },
   "outputs": [
    {
     "data": {
      "text/plain": [
       "array(['Riesling', 'Pinot Noir', 'Cabernet Sauvignon', 'Chardonnay',\n",
       "       'Red Blend', 'Bordeaux-style Red Blend', 'White Blend',\n",
       "       'Portuguese Red', 'Pinot Gris', 'Malbec', 'Merlot',\n",
       "       'Sauvignon Blanc', 'Sangiovese', 'Rosé', 'Zinfandel', 'Syrah',\n",
       "       'Nebbiolo', 'Rhône-style Red Blend', 'Sparkling Blend',\n",
       "       'Tempranillo'], dtype=object)"
      ]
     },
     "execution_count": 42,
     "metadata": {},
     "output_type": "execute_result"
    }
   ],
   "source": [
    "balanced_df['variety'].unique()"
   ]
  },
  {
   "cell_type": "code",
   "execution_count": 43,
   "metadata": {
    "execution": {
     "iopub.execute_input": "2020-11-13T02:44:07.285086Z",
     "iopub.status.busy": "2020-11-13T02:44:07.267543Z",
     "iopub.status.idle": "2020-11-13T02:44:07.293969Z",
     "shell.execute_reply": "2020-11-13T02:44:07.294461Z"
    },
    "papermill": {
     "duration": 0.105615,
     "end_time": "2020-11-13T02:44:07.294632",
     "exception": false,
     "start_time": "2020-11-13T02:44:07.189017",
     "status": "completed"
    },
    "tags": []
   },
   "outputs": [
    {
     "data": {
      "text/plain": [
       "Pinot Noir                  13272\n",
       "Sauvignon Blanc             12801\n",
       "Chardonnay                  11753\n",
       "Syrah                       11128\n",
       "Cabernet Sauvignon           9472\n",
       "Rosé                         9207\n",
       "Red Blend                    8946\n",
       "Nebbiolo                     8107\n",
       "Malbec                       8047\n",
       "Merlot                       7874\n",
       "Portuguese Red               7734\n",
       "Sangiovese                   7432\n",
       "Bordeaux-style Red Blend     6915\n",
       "Zinfandel                    6512\n",
       "White Blend                  6034\n",
       "Sparkling Blend              5740\n",
       "Tempranillo                  5552\n",
       "Riesling                     5189\n",
       "Rhône-style Red Blend        3972\n",
       "Pinot Gris                   3961\n",
       "Name: variety, dtype: int64"
      ]
     },
     "execution_count": 43,
     "metadata": {},
     "output_type": "execute_result"
    }
   ],
   "source": [
    "balanced_df['variety'].value_counts() # checking for miniority and majority classes"
   ]
  },
  {
   "cell_type": "code",
   "execution_count": 44,
   "metadata": {
    "execution": {
     "iopub.execute_input": "2020-11-13T02:44:07.404518Z",
     "iopub.status.busy": "2020-11-13T02:44:07.403691Z",
     "iopub.status.idle": "2020-11-13T02:44:07.406759Z",
     "shell.execute_reply": "2020-11-13T02:44:07.406237Z"
    },
    "papermill": {
     "duration": 0.059813,
     "end_time": "2020-11-13T02:44:07.406866",
     "exception": false,
     "start_time": "2020-11-13T02:44:07.347053",
     "status": "completed"
    },
    "tags": []
   },
   "outputs": [],
   "source": [
    "model_pipe = Pipeline([('data_prep', data_prep_pipe), ('model', cnn_model)])"
   ]
  },
  {
   "cell_type": "code",
   "execution_count": 45,
   "metadata": {
    "execution": {
     "iopub.execute_input": "2020-11-13T02:44:07.527835Z",
     "iopub.status.busy": "2020-11-13T02:44:07.526892Z",
     "iopub.status.idle": "2020-11-13T02:48:37.216334Z",
     "shell.execute_reply": "2020-11-13T02:48:37.217396Z"
    },
    "papermill": {
     "duration": 269.760388,
     "end_time": "2020-11-13T02:48:37.217627",
     "exception": false,
     "start_time": "2020-11-13T02:44:07.457239",
     "status": "completed"
    },
    "tags": []
   },
   "outputs": [
    {
     "name": "stdout",
     "output_type": "stream",
     "text": [
      "[Pipeline] ........ (step 1 of 3) Processing get_tokens, total= 1.1min\n",
      "[Pipeline] ... (step 2 of 3) Processing text_2_sequence, total=   6.9s\n",
      "[Pipeline] ........... (step 3 of 3) Processing padding, total=   1.8s\n",
      "Epoch 1/7\n",
      "1248/1248 [==============================] - 11s 9ms/step - loss: 0.8241 - accuracy: 0.7354 - multi_class_fbeta: 0.7361\n",
      "Epoch 2/7\n",
      "1248/1248 [==============================] - 10s 8ms/step - loss: 0.5940 - accuracy: 0.8010 - multi_class_fbeta: 0.8021\n",
      "Epoch 3/7\n",
      "1248/1248 [==============================] - 11s 8ms/step - loss: 0.5375 - accuracy: 0.8166 - multi_class_fbeta: 0.8178\n",
      "Epoch 4/7\n",
      "1248/1248 [==============================] - 11s 9ms/step - loss: 0.4980 - accuracy: 0.8287 - multi_class_fbeta: 0.8296\n",
      "Epoch 5/7\n",
      "1248/1248 [==============================] - 10s 8ms/step - loss: 0.4709 - accuracy: 0.8365 - multi_class_fbeta: 0.8376\n",
      "Epoch 6/7\n",
      "1248/1248 [==============================] - 10s 8ms/step - loss: 0.4485 - accuracy: 0.8432 - multi_class_fbeta: 0.8442\n",
      "Epoch 7/7\n",
      "1248/1248 [==============================] - 11s 9ms/step - loss: 0.4253 - accuracy: 0.8491 - multi_class_fbeta: 0.8499\n"
     ]
    },
    {
     "data": {
      "text/plain": [
       "Pipeline(steps=[('data_prep',\n",
       "                 Pipeline(steps=[('get_tokens', GetTokens()),\n",
       "                                 ('text_2_sequence', Text2Sequence()),\n",
       "                                 ('padding', Padding())],\n",
       "                          verbose=1)),\n",
       "                ('model', CNNModel())])"
      ]
     },
     "execution_count": 45,
     "metadata": {},
     "output_type": "execute_result"
    }
   ],
   "source": [
    "model_pipe.fit(sent_oversample_corpus, labels)"
   ]
  },
  {
   "cell_type": "code",
   "execution_count": null,
   "metadata": {
    "papermill": {
     "duration": 0.556234,
     "end_time": "2020-11-13T02:48:38.481067",
     "exception": false,
     "start_time": "2020-11-13T02:48:37.924833",
     "status": "completed"
    },
    "tags": []
   },
   "outputs": [],
   "source": []
  },
  {
   "cell_type": "markdown",
   "metadata": {
    "papermill": {
     "duration": 0.552265,
     "end_time": "2020-11-13T02:48:39.571973",
     "exception": false,
     "start_time": "2020-11-13T02:48:39.019708",
     "status": "completed"
    },
    "tags": []
   },
   "source": [
    "### Let's do a demo prediction of a majority class'Pinot Noir' wine variety from a recent review (published 12/1/2020) not in our training set from [wine ethusiast](https://www.winemag.com/buying-guide/albert-bichot-2018-domaine-du-pavilion-clos-des-marechaudes-grand-cru-corton/). As we know, adding info like country, designation, province, region1, region2, and winery as the last sentence of our wine description boosted our model's performance during training. We therefore advise users to input them also for best performance."
   ]
  },
  {
   "cell_type": "code",
   "execution_count": 46,
   "metadata": {
    "execution": {
     "iopub.execute_input": "2020-11-13T02:48:40.664096Z",
     "iopub.status.busy": "2020-11-13T02:48:40.663041Z",
     "iopub.status.idle": "2020-11-13T02:48:40.665069Z",
     "shell.execute_reply": "2020-11-13T02:48:40.665569Z"
    },
    "papermill": {
     "duration": 0.555183,
     "end_time": "2020-11-13T02:48:40.665696",
     "exception": false,
     "start_time": "2020-11-13T02:48:40.110513",
     "status": "completed"
    },
    "tags": []
   },
   "outputs": [],
   "source": [
    "user_input = \"A hint of woodsmoke combines with this wine's shy aromas of black cherry. \" + \\\n",
    "              \"The palate comes in with surprising grace and svelteness, presenting a filigreed but \" + \\\n",
    "              \"firm structure. Cherry aromas shimmering with Morello and Amarena are expressed against \" + \\\n",
    "              \"that frame, crunching slightly and heightened by vivid freshness. This wine has compact, \" + \\\n",
    "              \"elegant power and inherent conviction. Drink through 2050. France Domaine du Pavilion Clos \" + \\\n",
    "              \"des Maréchaudes Grand Cru Burgundy Corton Albert Bichot\""
   ]
  },
  {
   "cell_type": "markdown",
   "metadata": {
    "papermill": {
     "duration": 0.544694,
     "end_time": "2020-11-13T02:48:41.755319",
     "exception": false,
     "start_time": "2020-11-13T02:48:41.210625",
     "status": "completed"
    },
    "tags": []
   },
   "source": [
    "### Notice the double quotes we used. This is to prevent error should the user's input contain apostrophe."
   ]
  },
  {
   "cell_type": "code",
   "execution_count": 47,
   "metadata": {
    "execution": {
     "iopub.execute_input": "2020-11-13T02:48:42.847130Z",
     "iopub.status.busy": "2020-11-13T02:48:42.846419Z",
     "iopub.status.idle": "2020-11-13T02:48:42.853678Z",
     "shell.execute_reply": "2020-11-13T02:48:42.853133Z"
    },
    "papermill": {
     "duration": 0.553652,
     "end_time": "2020-11-13T02:48:42.853800",
     "exception": false,
     "start_time": "2020-11-13T02:48:42.300148",
     "status": "completed"
    },
    "tags": []
   },
   "outputs": [
    {
     "data": {
      "text/plain": [
       "\"A hint of woodsmoke combines with this wine's shy aromas of black cherry. The palate comes in with surprising grace and svelteness, presenting a filigreed but firm structure. Cherry aromas shimmering with Morello and Amarena are expressed against that frame, crunching slightly and heightened by vivid freshness. This wine has compact, elegant power and inherent conviction. Drink through 2050. France Domaine du Pavilion Clos des Maréchaudes Grand Cru Burgundy Corton Albert Bichot\""
      ]
     },
     "execution_count": 47,
     "metadata": {},
     "output_type": "execute_result"
    }
   ],
   "source": [
    "user_input"
   ]
  },
  {
   "cell_type": "code",
   "execution_count": 48,
   "metadata": {
    "execution": {
     "iopub.execute_input": "2020-11-13T02:48:43.956430Z",
     "iopub.status.busy": "2020-11-13T02:48:43.955670Z",
     "iopub.status.idle": "2020-11-13T02:48:43.958913Z",
     "shell.execute_reply": "2020-11-13T02:48:43.959387Z"
    },
    "papermill": {
     "duration": 0.558806,
     "end_time": "2020-11-13T02:48:43.959527",
     "exception": false,
     "start_time": "2020-11-13T02:48:43.400721",
     "status": "completed"
    },
    "tags": []
   },
   "outputs": [],
   "source": [
    "# predicting user's description\n",
    "def get_prediction(user_inp):\n",
    "    pred = model_pipe.predict([user_inp])\n",
    "    top_5_pred = np.argsort(pred[0])[-1:-6:-1]\n",
    "    \n",
    "    print(\"The wine's variety is most likely {} with a probability of {}%\".format(\\\n",
    "                                            model_pipe.named_steps['model'].le.inverse_transform(\\\n",
    "                                            [top_5_pred[0]])[0], round(pred[0][top_5_pred[0]]*100, 3)))\n",
    "        \n",
    "    print('\\nOther possible varieties are:\\n')\n",
    "\n",
    "    for i in range(1, len(top_5_pred)):\n",
    "        print('{} ==> {}%'.format(model_pipe.named_steps['model'].le.inverse_transform(\\\n",
    "                                [top_5_pred[i]])[0], round(pred[0][top_5_pred[i]]*100, 3)))"
   ]
  },
  {
   "cell_type": "code",
   "execution_count": null,
   "metadata": {
    "papermill": {
     "duration": 0.531432,
     "end_time": "2020-11-13T02:48:45.030482",
     "exception": false,
     "start_time": "2020-11-13T02:48:44.499050",
     "status": "completed"
    },
    "tags": []
   },
   "outputs": [],
   "source": []
  },
  {
   "cell_type": "code",
   "execution_count": 49,
   "metadata": {
    "execution": {
     "iopub.execute_input": "2020-11-13T02:48:46.187326Z",
     "iopub.status.busy": "2020-11-13T02:48:46.186423Z",
     "iopub.status.idle": "2020-11-13T02:48:46.351744Z",
     "shell.execute_reply": "2020-11-13T02:48:46.351146Z"
    },
    "papermill": {
     "duration": 0.779368,
     "end_time": "2020-11-13T02:48:46.351863",
     "exception": false,
     "start_time": "2020-11-13T02:48:45.572495",
     "status": "completed"
    },
    "tags": []
   },
   "outputs": [
    {
     "name": "stdout",
     "output_type": "stream",
     "text": [
      "The wine's variety is most likely Pinot Noir with a probability of 99.998%\n",
      "\n",
      "Other possible varieties are:\n",
      "\n",
      "Chardonnay ==> 0.002%\n",
      "Red Blend ==> 0.0%\n",
      "Cabernet Sauvignon ==> 0.0%\n",
      "Bordeaux-style Red Blend ==> 0.0%\n"
     ]
    }
   ],
   "source": [
    "get_prediction(user_input)"
   ]
  },
  {
   "cell_type": "markdown",
   "metadata": {
    "papermill": {
     "duration": 0.542996,
     "end_time": "2020-11-13T02:48:47.432791",
     "exception": false,
     "start_time": "2020-11-13T02:48:46.889795",
     "status": "completed"
    },
    "tags": []
   },
   "source": [
    "### ...and voila, our model's prediction was as good as right!"
   ]
  },
  {
   "cell_type": "markdown",
   "metadata": {
    "papermill": {
     "duration": 0.76319,
     "end_time": "2020-11-13T02:48:48.742247",
     "exception": false,
     "start_time": "2020-11-13T02:48:47.979057",
     "status": "completed"
    },
    "tags": []
   },
   "source": [
    "### Let's consider predicting a miniority class 'Pinot Gris' wine variety from a recent review (published 12/1/2020) not in our training set from [wine ethusiast](https://www.winemag.com/buying-guide/antiquum-farm-2019-daisy-pinot-gris-willamette-valley/)."
   ]
  },
  {
   "cell_type": "code",
   "execution_count": 50,
   "metadata": {
    "execution": {
     "iopub.execute_input": "2020-11-13T02:48:49.830041Z",
     "iopub.status.busy": "2020-11-13T02:48:49.828389Z",
     "iopub.status.idle": "2020-11-13T02:48:49.830737Z",
     "shell.execute_reply": "2020-11-13T02:48:49.831288Z"
    },
    "papermill": {
     "duration": 0.544794,
     "end_time": "2020-11-13T02:48:49.831423",
     "exception": false,
     "start_time": "2020-11-13T02:48:49.286629",
     "status": "completed"
    },
    "tags": []
   },
   "outputs": [],
   "source": [
    "user_input2 = \"This breaks new ground for Oregon's signature white grape. It's rich and leesy, fragrant \" + \\\n",
    "              \"and full, a bonanza of apple, pear and melon fruits. There's a lingering trail of honeysuckle, \" + \\\n",
    "              \"and a lush minerality that underscores the freshness. A stunning wine. United States of America \" + \\\n",
    "              \"Diasy Oregon Willamette Valley Willamette Valley Antiquum Farm\""
   ]
  },
  {
   "cell_type": "code",
   "execution_count": 51,
   "metadata": {
    "execution": {
     "iopub.execute_input": "2020-11-13T02:48:50.916175Z",
     "iopub.status.busy": "2020-11-13T02:48:50.915391Z",
     "iopub.status.idle": "2020-11-13T02:48:50.918968Z",
     "shell.execute_reply": "2020-11-13T02:48:50.919429Z"
    },
    "papermill": {
     "duration": 0.548595,
     "end_time": "2020-11-13T02:48:50.919568",
     "exception": false,
     "start_time": "2020-11-13T02:48:50.370973",
     "status": "completed"
    },
    "tags": []
   },
   "outputs": [
    {
     "data": {
      "text/plain": [
       "\"This breaks new ground for Oregon's signature white grape. It's rich and leesy, fragrant and full, a bonanza of apple, pear and melon fruits. There's a lingering trail of honeysuckle, and a lush minerality that underscores the freshness. A stunning wine. United States of America Diasy Oregon Willamette Valley Willamette Valley Antiquum Farm\""
      ]
     },
     "execution_count": 51,
     "metadata": {},
     "output_type": "execute_result"
    }
   ],
   "source": [
    "user_input2"
   ]
  },
  {
   "cell_type": "code",
   "execution_count": 52,
   "metadata": {
    "execution": {
     "iopub.execute_input": "2020-11-13T02:48:52.008377Z",
     "iopub.status.busy": "2020-11-13T02:48:52.007492Z",
     "iopub.status.idle": "2020-11-13T02:48:52.233280Z",
     "shell.execute_reply": "2020-11-13T02:48:52.233942Z"
    },
    "papermill": {
     "duration": 0.773459,
     "end_time": "2020-11-13T02:48:52.234142",
     "exception": false,
     "start_time": "2020-11-13T02:48:51.460683",
     "status": "completed"
    },
    "tags": []
   },
   "outputs": [
    {
     "name": "stdout",
     "output_type": "stream",
     "text": [
      "The wine's variety is most likely Pinot Gris with a probability of 40.686%\n",
      "\n",
      "Other possible varieties are:\n",
      "\n",
      "Riesling ==> 26.947%\n",
      "Chardonnay ==> 22.473%\n",
      "White Blend ==> 9.554%\n",
      "Sparkling Blend ==> 0.16%\n"
     ]
    }
   ],
   "source": [
    "get_prediction(user_input2)"
   ]
  },
  {
   "cell_type": "code",
   "execution_count": null,
   "metadata": {
    "papermill": {
     "duration": 0.58383,
     "end_time": "2020-11-13T02:48:53.560913",
     "exception": false,
     "start_time": "2020-11-13T02:48:52.977083",
     "status": "completed"
    },
    "tags": []
   },
   "outputs": [],
   "source": []
  }
 ],
 "metadata": {
  "kernelspec": {
   "display_name": "Python 3",
   "language": "python",
   "name": "python3"
  },
  "language_info": {
   "codemirror_mode": {
    "name": "ipython",
    "version": 3
   },
   "file_extension": ".py",
   "mimetype": "text/x-python",
   "name": "python",
   "nbconvert_exporter": "python",
   "pygments_lexer": "ipython3",
   "version": "3.7.6"
  },
  "papermill": {
   "duration": 323.524643,
   "end_time": "2020-11-13T02:48:55.494717",
   "environment_variables": {},
   "exception": null,
   "input_path": "__notebook__.ipynb",
   "output_path": "__notebook__.ipynb",
   "parameters": {},
   "start_time": "2020-11-13T02:43:31.970074",
   "version": "2.1.0"
  }
 },
 "nbformat": 4,
 "nbformat_minor": 4
}
