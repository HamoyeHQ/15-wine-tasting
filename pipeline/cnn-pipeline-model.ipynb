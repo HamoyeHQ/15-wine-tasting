{
 "cells": [
  {
   "cell_type": "markdown",
   "metadata": {
    "_cell_guid": "79c7e3d0-c299-4dcb-8224-4455121ee9b0",
    "_uuid": "d629ff2d2480ee46fbb7e2d37f6b5fab8052498a",
    "collapsed": true,
    "papermill": {
     "duration": 0.039949,
     "end_time": "2020-11-11T00:23:20.015405",
     "exception": false,
     "start_time": "2020-11-11T00:23:19.975456",
     "status": "completed"
    },
    "tags": []
   },
   "source": [
    "## 1.0 Getting Data"
   ]
  },
  {
   "cell_type": "code",
   "execution_count": 1,
   "metadata": {
    "execution": {
     "iopub.execute_input": "2020-11-11T00:23:20.098576Z",
     "iopub.status.busy": "2020-11-11T00:23:20.097880Z",
     "iopub.status.idle": "2020-11-11T00:23:20.918089Z",
     "shell.execute_reply": "2020-11-11T00:23:20.916956Z"
    },
    "papermill": {
     "duration": 0.86509,
     "end_time": "2020-11-11T00:23:20.918219",
     "exception": false,
     "start_time": "2020-11-11T00:23:20.053129",
     "status": "completed"
    },
    "tags": []
   },
   "outputs": [],
   "source": [
    "# importing useful libraries\n",
    "import numpy as np\n",
    "import pandas as pd\n",
    "import matplotlib.pyplot as plt\n",
    "import seaborn as sns\n",
    "\n",
    "import warnings\n",
    "warnings.filterwarnings('ignore')\n",
    "\n",
    "%matplotlib inline"
   ]
  },
  {
   "cell_type": "markdown",
   "metadata": {
    "papermill": {
     "duration": 0.038562,
     "end_time": "2020-11-11T00:23:21.000403",
     "exception": false,
     "start_time": "2020-11-11T00:23:20.961841",
     "status": "completed"
    },
    "tags": []
   },
   "source": [
    "### Downloading the data from our github repository"
   ]
  },
  {
   "cell_type": "code",
   "execution_count": 2,
   "metadata": {
    "execution": {
     "iopub.execute_input": "2020-11-11T00:23:21.080193Z",
     "iopub.status.busy": "2020-11-11T00:23:21.079405Z",
     "iopub.status.idle": "2020-11-11T00:23:21.081948Z",
     "shell.execute_reply": "2020-11-11T00:23:21.082425Z"
    },
    "papermill": {
     "duration": 0.044267,
     "end_time": "2020-11-11T00:23:21.082544",
     "exception": false,
     "start_time": "2020-11-11T00:23:21.038277",
     "status": "completed"
    },
    "tags": []
   },
   "outputs": [],
   "source": [
    "url1 = 'https://raw.github.com/HamoyeHQ/stage-f-06-wine-tasting/master/data/top_40_varieties.zip'\n",
    "url2 = 'https://raw.github.com/HamoyeHQ/stage-f-06-wine-tasting/master/data/top_varieties_count.csv'"
   ]
  },
  {
   "cell_type": "code",
   "execution_count": 3,
   "metadata": {
    "execution": {
     "iopub.execute_input": "2020-11-11T00:23:21.171674Z",
     "iopub.status.busy": "2020-11-11T00:23:21.171024Z",
     "iopub.status.idle": "2020-11-11T00:23:23.161666Z",
     "shell.execute_reply": "2020-11-11T00:23:23.160584Z"
    },
    "papermill": {
     "duration": 2.041484,
     "end_time": "2020-11-11T00:23:23.161790",
     "exception": false,
     "start_time": "2020-11-11T00:23:21.120306",
     "status": "completed"
    },
    "tags": []
   },
   "outputs": [],
   "source": [
    "top_40_varieties = pd.read_csv(url1)\n",
    "top_varieties_count = pd.read_csv(url2)"
   ]
  },
  {
   "cell_type": "code",
   "execution_count": 4,
   "metadata": {
    "execution": {
     "iopub.execute_input": "2020-11-11T00:23:23.259292Z",
     "iopub.status.busy": "2020-11-11T00:23:23.257590Z",
     "iopub.status.idle": "2020-11-11T00:23:23.317570Z",
     "shell.execute_reply": "2020-11-11T00:23:23.317038Z"
    },
    "papermill": {
     "duration": 0.115617,
     "end_time": "2020-11-11T00:23:23.317672",
     "exception": false,
     "start_time": "2020-11-11T00:23:23.202055",
     "status": "completed"
    },
    "tags": []
   },
   "outputs": [],
   "source": [
    "# replacing every occurence of 'US' in country with 'United States of America'\n",
    "top_40_varieties['country'].replace('US', 'United States of America', inplace=True)\n",
    "\n",
    "# replacing every occurence of 'US' in not_vintage with 'United States of America'\n",
    "top_40_varieties['not_vintage'] = top_40_varieties['not_vintage'].apply(lambda x: x.replace(\\\n",
    "                                                                        'US', 'United States of America'))"
   ]
  },
  {
   "cell_type": "code",
   "execution_count": 5,
   "metadata": {
    "execution": {
     "iopub.execute_input": "2020-11-11T00:23:23.403459Z",
     "iopub.status.busy": "2020-11-11T00:23:23.402674Z",
     "iopub.status.idle": "2020-11-11T00:23:23.405861Z",
     "shell.execute_reply": "2020-11-11T00:23:23.405267Z"
    },
    "papermill": {
     "duration": 0.049791,
     "end_time": "2020-11-11T00:23:23.405957",
     "exception": false,
     "start_time": "2020-11-11T00:23:23.356166",
     "status": "completed"
    },
    "tags": []
   },
   "outputs": [],
   "source": [
    "# renaming the columns in top_varieties_count\n",
    "top_varieties_count = top_varieties_count.rename(columns={'variety': 'count', 'Unnamed: 0': 'variety'})\n",
    "top_varieties_count = top_varieties_count.set_index('variety') # setting the index\n",
    "top_varieties_count = top_varieties_count['count'] # making it a Series"
   ]
  },
  {
   "cell_type": "code",
   "execution_count": 6,
   "metadata": {
    "execution": {
     "iopub.execute_input": "2020-11-11T00:23:23.544198Z",
     "iopub.status.busy": "2020-11-11T00:23:23.543292Z",
     "iopub.status.idle": "2020-11-11T00:23:23.594384Z",
     "shell.execute_reply": "2020-11-11T00:23:23.595557Z"
    },
    "papermill": {
     "duration": 0.132405,
     "end_time": "2020-11-11T00:23:23.595753",
     "exception": false,
     "start_time": "2020-11-11T00:23:23.463348",
     "status": "completed"
    },
    "tags": []
   },
   "outputs": [],
   "source": [
    "top = 20 # selecting top 20 varities as our working varieties. note 1 < n <= 40\n",
    "\n",
    "# making a datframe of our selecting top n varieties\n",
    "top_df = top_40_varieties[top_40_varieties['variety'].isin(top_varieties_count.iloc[:top].index)]"
   ]
  },
  {
   "cell_type": "code",
   "execution_count": 7,
   "metadata": {
    "execution": {
     "iopub.execute_input": "2020-11-11T00:23:23.720702Z",
     "iopub.status.busy": "2020-11-11T00:23:23.719282Z",
     "iopub.status.idle": "2020-11-11T00:23:23.767123Z",
     "shell.execute_reply": "2020-11-11T00:23:23.768305Z"
    },
    "papermill": {
     "duration": 0.114555,
     "end_time": "2020-11-11T00:23:23.768478",
     "exception": false,
     "start_time": "2020-11-11T00:23:23.653923",
     "status": "completed"
    },
    "tags": []
   },
   "outputs": [],
   "source": [
    "# threshold of miniority variety to over sample (use sentences as document instead of the whole description)\n",
    "minority_threshold = 5000 \n",
    "\n",
    "# making a dataframe of the miniority classes\n",
    "minority_df = top_df[top_df['variety'].isin(top_varieties_count[top_varieties_count < \\\n",
    "                                                                      minority_threshold].index)]"
   ]
  },
  {
   "cell_type": "code",
   "execution_count": 8,
   "metadata": {
    "execution": {
     "iopub.execute_input": "2020-11-11T00:23:23.895804Z",
     "iopub.status.busy": "2020-11-11T00:23:23.894379Z",
     "iopub.status.idle": "2020-11-11T00:23:24.619634Z",
     "shell.execute_reply": "2020-11-11T00:23:24.618502Z"
    },
    "papermill": {
     "duration": 0.794901,
     "end_time": "2020-11-11T00:23:24.619755",
     "exception": false,
     "start_time": "2020-11-11T00:23:23.824854",
     "status": "completed"
    },
    "tags": []
   },
   "outputs": [],
   "source": [
    "from nltk.tokenize import sent_tokenize # importing useful library"
   ]
  },
  {
   "cell_type": "code",
   "execution_count": 9,
   "metadata": {
    "execution": {
     "iopub.execute_input": "2020-11-11T00:23:24.710492Z",
     "iopub.status.busy": "2020-11-11T00:23:24.708752Z",
     "iopub.status.idle": "2020-11-11T00:23:24.711252Z",
     "shell.execute_reply": "2020-11-11T00:23:24.711730Z"
    },
    "papermill": {
     "duration": 0.052765,
     "end_time": "2020-11-11T00:23:24.711843",
     "exception": false,
     "start_time": "2020-11-11T00:23:24.659078",
     "status": "completed"
    },
    "tags": []
   },
   "outputs": [],
   "source": [
    "oversampled_miniority_lst = [] # empty list to store sentences as tokens miniority corpus\n",
    "\n",
    "# creating a function to use sentences as tokens for the miniority classes\n",
    "def over_sample_miniority(row):\n",
    "    doc_list = sent_tokenize(row['description'])\n",
    "    for sent in doc_list:\n",
    "        row['description'] = sent\n",
    "        oversampled_miniority_lst.append(list(row))"
   ]
  },
  {
   "cell_type": "code",
   "execution_count": 10,
   "metadata": {
    "execution": {
     "iopub.execute_input": "2020-11-11T00:23:24.794420Z",
     "iopub.status.busy": "2020-11-11T00:23:24.793784Z",
     "iopub.status.idle": "2020-11-11T00:23:33.459146Z",
     "shell.execute_reply": "2020-11-11T00:23:33.458520Z"
    },
    "papermill": {
     "duration": 8.708183,
     "end_time": "2020-11-11T00:23:33.459269",
     "exception": false,
     "start_time": "2020-11-11T00:23:24.751086",
     "status": "completed"
    },
    "tags": []
   },
   "outputs": [],
   "source": [
    "minority_df.apply(over_sample_miniority, axis=1); # over sample the miniority classes"
   ]
  },
  {
   "cell_type": "code",
   "execution_count": 11,
   "metadata": {
    "execution": {
     "iopub.execute_input": "2020-11-11T00:23:33.545673Z",
     "iopub.status.busy": "2020-11-11T00:23:33.544916Z",
     "iopub.status.idle": "2020-11-11T00:23:33.736498Z",
     "shell.execute_reply": "2020-11-11T00:23:33.735937Z"
    },
    "papermill": {
     "duration": 0.235514,
     "end_time": "2020-11-11T00:23:33.736621",
     "exception": false,
     "start_time": "2020-11-11T00:23:33.501107",
     "status": "completed"
    },
    "tags": []
   },
   "outputs": [],
   "source": [
    "# converts oversampled_miniority_lst to a dataframe\n",
    "oversampled_miniority_df = pd.DataFrame(oversampled_miniority_lst, columns=minority_df.columns)"
   ]
  },
  {
   "cell_type": "code",
   "execution_count": 12,
   "metadata": {
    "execution": {
     "iopub.execute_input": "2020-11-11T00:23:33.833137Z",
     "iopub.status.busy": "2020-11-11T00:23:33.832011Z",
     "iopub.status.idle": "2020-11-11T00:23:34.049372Z",
     "shell.execute_reply": "2020-11-11T00:23:34.048819Z"
    },
    "papermill": {
     "duration": 0.272128,
     "end_time": "2020-11-11T00:23:34.049487",
     "exception": false,
     "start_time": "2020-11-11T00:23:33.777359",
     "status": "completed"
    },
    "tags": []
   },
   "outputs": [],
   "source": [
    "# selecting majority classes as a dataframe to concatenate to oversampled_miniority_lst\n",
    "majority_df = top_df[top_df['variety'].isin(\\\n",
    "                                        top_varieties_count[top_varieties_count >= minority_threshold].index)]\n",
    "\n",
    "# concatenates majority_df to oversampled_miniority_lst\n",
    "balanced_df = pd.concat([majority_df, oversampled_miniority_df]) \n",
    "balanced_df = balanced_df.reset_index().drop('index', axis=1) # resets index"
   ]
  },
  {
   "cell_type": "code",
   "execution_count": 13,
   "metadata": {
    "execution": {
     "iopub.execute_input": "2020-11-11T00:23:34.171700Z",
     "iopub.status.busy": "2020-11-11T00:23:34.169786Z",
     "iopub.status.idle": "2020-11-11T00:23:34.172545Z",
     "shell.execute_reply": "2020-11-11T00:23:34.173053Z"
    },
    "papermill": {
     "duration": 0.083683,
     "end_time": "2020-11-11T00:23:34.173181",
     "exception": false,
     "start_time": "2020-11-11T00:23:34.089498",
     "status": "completed"
    },
    "tags": []
   },
   "outputs": [],
   "source": [
    "balanced_variety = balanced_df['variety'].value_counts() # gets a Series of the variety count in balanced_df"
   ]
  },
  {
   "cell_type": "code",
   "execution_count": 14,
   "metadata": {
    "execution": {
     "iopub.execute_input": "2020-11-11T00:23:34.257943Z",
     "iopub.status.busy": "2020-11-11T00:23:34.257203Z",
     "iopub.status.idle": "2020-11-11T00:23:34.260141Z",
     "shell.execute_reply": "2020-11-11T00:23:34.259535Z"
    },
    "papermill": {
     "duration": 0.04643,
     "end_time": "2020-11-11T00:23:34.260263",
     "exception": false,
     "start_time": "2020-11-11T00:23:34.213833",
     "status": "completed"
    },
    "tags": []
   },
   "outputs": [],
   "source": [
    "# importing useful libraries\n",
    "from sklearn.preprocessing import LabelEncoder, OneHotEncoder"
   ]
  },
  {
   "cell_type": "code",
   "execution_count": 15,
   "metadata": {
    "execution": {
     "iopub.execute_input": "2020-11-11T00:23:34.378742Z",
     "iopub.status.busy": "2020-11-11T00:23:34.373587Z",
     "iopub.status.idle": "2020-11-11T00:23:34.480752Z",
     "shell.execute_reply": "2020-11-11T00:23:34.480115Z"
    },
    "papermill": {
     "duration": 0.180675,
     "end_time": "2020-11-11T00:23:34.480874",
     "exception": false,
     "start_time": "2020-11-11T00:23:34.300199",
     "status": "completed"
    },
    "tags": []
   },
   "outputs": [],
   "source": [
    "# for sentence oversampling\n",
    "sent_oversample_corpus = [doc1 + ' ' + doc2 for doc1, doc2 in zip(\\\n",
    "                                                        balanced_df['description'], balanced_df['not_vintage'])]"
   ]
  },
  {
   "cell_type": "code",
   "execution_count": 16,
   "metadata": {
    "execution": {
     "iopub.execute_input": "2020-11-11T00:23:34.610761Z",
     "iopub.status.busy": "2020-11-11T00:23:34.590029Z",
     "iopub.status.idle": "2020-11-11T00:23:34.694714Z",
     "shell.execute_reply": "2020-11-11T00:23:34.694086Z"
    },
    "papermill": {
     "duration": 0.173282,
     "end_time": "2020-11-11T00:23:34.694835",
     "exception": false,
     "start_time": "2020-11-11T00:23:34.521553",
     "status": "completed"
    },
    "tags": []
   },
   "outputs": [],
   "source": [
    "sent_oversample_le = LabelEncoder()\n",
    "sent_oversample_one_hot = OneHotEncoder(sparse=False) # initializes a LabelEncoder object\n",
    "\n",
    "labels = [label for label in balanced_df['variety']]\n",
    "\n",
    "# encodes the labels\n",
    "encoded_labels = sent_oversample_le.fit_transform(labels)\n",
    "\n",
    "# one_hot encoding the labels\n",
    "one_hot_labels = sent_oversample_one_hot.fit_transform(encoded_labels.reshape(-1, 1))\n"
   ]
  },
  {
   "cell_type": "markdown",
   "metadata": {
    "papermill": {
     "duration": 0.040916,
     "end_time": "2020-11-11T00:23:34.776958",
     "exception": false,
     "start_time": "2020-11-11T00:23:34.736042",
     "status": "completed"
    },
    "tags": []
   },
   "source": [
    "## 2.0 Data Preprocessing"
   ]
  },
  {
   "cell_type": "code",
   "execution_count": 17,
   "metadata": {
    "execution": {
     "iopub.execute_input": "2020-11-11T00:23:34.863054Z",
     "iopub.status.busy": "2020-11-11T00:23:34.862287Z",
     "iopub.status.idle": "2020-11-11T00:23:36.998717Z",
     "shell.execute_reply": "2020-11-11T00:23:36.999324Z"
    },
    "papermill": {
     "duration": 2.182421,
     "end_time": "2020-11-11T00:23:36.999499",
     "exception": false,
     "start_time": "2020-11-11T00:23:34.817078",
     "status": "completed"
    },
    "tags": []
   },
   "outputs": [],
   "source": [
    "import spacy"
   ]
  },
  {
   "cell_type": "code",
   "execution_count": 18,
   "metadata": {
    "execution": {
     "iopub.execute_input": "2020-11-11T00:23:37.105143Z",
     "iopub.status.busy": "2020-11-11T00:23:37.104386Z",
     "iopub.status.idle": "2020-11-11T00:23:38.273892Z",
     "shell.execute_reply": "2020-11-11T00:23:38.273338Z"
    },
    "papermill": {
     "duration": 1.214667,
     "end_time": "2020-11-11T00:23:38.274032",
     "exception": false,
     "start_time": "2020-11-11T00:23:37.059365",
     "status": "completed"
    },
    "tags": []
   },
   "outputs": [],
   "source": [
    "# creating a spacy pipeline and disabling tagger, parser and ner to speed up tokenizer\n",
    "nlp = spacy.load('en', disable=['tagger', 'parser', 'ner']) "
   ]
  },
  {
   "cell_type": "code",
   "execution_count": 19,
   "metadata": {
    "execution": {
     "iopub.execute_input": "2020-11-11T00:23:38.358961Z",
     "iopub.status.busy": "2020-11-11T00:23:38.358368Z",
     "iopub.status.idle": "2020-11-11T00:23:38.362572Z",
     "shell.execute_reply": "2020-11-11T00:23:38.362082Z"
    },
    "papermill": {
     "duration": 0.048082,
     "end_time": "2020-11-11T00:23:38.362671",
     "exception": false,
     "start_time": "2020-11-11T00:23:38.314589",
     "status": "completed"
    },
    "tags": []
   },
   "outputs": [],
   "source": [
    "stop_words = spacy.lang.en.STOP_WORDS # getting spacy's stop-words"
   ]
  },
  {
   "cell_type": "code",
   "execution_count": 20,
   "metadata": {
    "execution": {
     "iopub.execute_input": "2020-11-11T00:23:38.463915Z",
     "iopub.status.busy": "2020-11-11T00:23:38.462634Z",
     "iopub.status.idle": "2020-11-11T00:23:38.465217Z",
     "shell.execute_reply": "2020-11-11T00:23:38.465822Z"
    },
    "papermill": {
     "duration": 0.062904,
     "end_time": "2020-11-11T00:23:38.465938",
     "exception": false,
     "start_time": "2020-11-11T00:23:38.403034",
     "status": "completed"
    },
    "tags": []
   },
   "outputs": [],
   "source": [
    "stop_words_lemma = {word.lemma_.lower() for word in nlp(' '.join(stop_words))} | {'-pron-', '10', '12', \n",
    "                    'aah', 'aa', 'ab', 'aaa', 'aand', '16', '2', '20', '30', '4', '40', '5', '6', '7', '8', '9'}"
   ]
  },
  {
   "cell_type": "markdown",
   "metadata": {
    "papermill": {
     "duration": 0.040932,
     "end_time": "2020-11-11T00:23:38.548041",
     "exception": false,
     "start_time": "2020-11-11T00:23:38.507109",
     "status": "completed"
    },
    "tags": []
   },
   "source": [
    "### creating custom transformers to encapsulate our preprocessing"
   ]
  },
  {
   "cell_type": "code",
   "execution_count": 21,
   "metadata": {
    "execution": {
     "iopub.execute_input": "2020-11-11T00:23:38.633271Z",
     "iopub.status.busy": "2020-11-11T00:23:38.632518Z",
     "iopub.status.idle": "2020-11-11T00:23:38.635498Z",
     "shell.execute_reply": "2020-11-11T00:23:38.635037Z"
    },
    "papermill": {
     "duration": 0.046944,
     "end_time": "2020-11-11T00:23:38.635598",
     "exception": false,
     "start_time": "2020-11-11T00:23:38.588654",
     "status": "completed"
    },
    "tags": []
   },
   "outputs": [],
   "source": [
    "from sklearn.base import BaseEstimator, TransformerMixin, ClassifierMixin"
   ]
  },
  {
   "cell_type": "code",
   "execution_count": 22,
   "metadata": {
    "execution": {
     "iopub.execute_input": "2020-11-11T00:23:38.726529Z",
     "iopub.status.busy": "2020-11-11T00:23:38.725674Z",
     "iopub.status.idle": "2020-11-11T00:23:38.730408Z",
     "shell.execute_reply": "2020-11-11T00:23:38.729801Z"
    },
    "papermill": {
     "duration": 0.054096,
     "end_time": "2020-11-11T00:23:38.730502",
     "exception": false,
     "start_time": "2020-11-11T00:23:38.676406",
     "status": "completed"
    },
    "tags": []
   },
   "outputs": [],
   "source": [
    "class GetTokens(BaseEstimator, TransformerMixin):\n",
    "    def __init__(self, stop_words=stop_words_lemma, list_of_lists=False):\n",
    "        self.stop_words = stop_words\n",
    "        self.list_of_lists = list_of_lists\n",
    "    \n",
    "    # defining tokenzer function to tokenize the lower case lemma of documents in a corpus and \n",
    "    # filter out stop-words  \n",
    "    def tokenize(self, text):\n",
    "        return [word.lemma_.lower() for word in nlp(text) if word.is_alpha and word.lemma_.lower() \\\n",
    "                not in self.stop_words]\n",
    "\n",
    "    def fit(self, X, y=None):\n",
    "        return self\n",
    "    \n",
    "    def transform(self, X):\n",
    "        if self.list_of_lists:\n",
    "            self.tokens = [self.tokenize(doc) for doc in X]\n",
    "        else:\n",
    "            self.tokens = [' '.join(self.tokenize(doc)) for doc in X]\n",
    "            \n",
    "        return self.tokens"
   ]
  },
  {
   "cell_type": "code",
   "execution_count": 23,
   "metadata": {
    "execution": {
     "iopub.execute_input": "2020-11-11T00:23:38.821353Z",
     "iopub.status.busy": "2020-11-11T00:23:38.820503Z",
     "iopub.status.idle": "2020-11-11T00:23:38.823244Z",
     "shell.execute_reply": "2020-11-11T00:23:38.822689Z"
    },
    "papermill": {
     "duration": 0.049046,
     "end_time": "2020-11-11T00:23:38.823342",
     "exception": false,
     "start_time": "2020-11-11T00:23:38.774296",
     "status": "completed"
    },
    "tags": []
   },
   "outputs": [],
   "source": [
    "tokens = GetTokens()"
   ]
  },
  {
   "cell_type": "code",
   "execution_count": 24,
   "metadata": {
    "execution": {
     "iopub.execute_input": "2020-11-11T00:23:38.909718Z",
     "iopub.status.busy": "2020-11-11T00:23:38.909010Z",
     "iopub.status.idle": "2020-11-11T00:23:43.485082Z",
     "shell.execute_reply": "2020-11-11T00:23:43.484314Z"
    },
    "papermill": {
     "duration": 4.620285,
     "end_time": "2020-11-11T00:23:43.485205",
     "exception": false,
     "start_time": "2020-11-11T00:23:38.864920",
     "status": "completed"
    },
    "tags": []
   },
   "outputs": [],
   "source": [
    "import tensorflow as tf\n",
    "from tensorflow.keras.preprocessing.text import Tokenizer"
   ]
  },
  {
   "cell_type": "code",
   "execution_count": 25,
   "metadata": {
    "execution": {
     "iopub.execute_input": "2020-11-11T00:23:43.576374Z",
     "iopub.status.busy": "2020-11-11T00:23:43.575539Z",
     "iopub.status.idle": "2020-11-11T00:23:43.578305Z",
     "shell.execute_reply": "2020-11-11T00:23:43.577819Z"
    },
    "papermill": {
     "duration": 0.051726,
     "end_time": "2020-11-11T00:23:43.578404",
     "exception": false,
     "start_time": "2020-11-11T00:23:43.526678",
     "status": "completed"
    },
    "tags": []
   },
   "outputs": [],
   "source": [
    "class Text2Sequence(BaseEstimator, TransformerMixin):\n",
    "    def __init__(self):\n",
    "        self.sequence_tokenizer = Tokenizer(oov_token=-99)\n",
    "\n",
    "    def fit(self, X, y=None):\n",
    "        self.sequence_tokenizer.fit_on_texts(X)\n",
    "        self.words_indices = self.sequence_tokenizer.word_index\n",
    "        return self\n",
    "    \n",
    "    def transform(self, X):\n",
    "        self.get_sequences = self.sequence_tokenizer.texts_to_sequences(X)\n",
    "        return self.get_sequences"
   ]
  },
  {
   "cell_type": "code",
   "execution_count": 26,
   "metadata": {
    "execution": {
     "iopub.execute_input": "2020-11-11T00:23:43.664504Z",
     "iopub.status.busy": "2020-11-11T00:23:43.663741Z",
     "iopub.status.idle": "2020-11-11T00:23:43.666172Z",
     "shell.execute_reply": "2020-11-11T00:23:43.666695Z"
    },
    "papermill": {
     "duration": 0.047176,
     "end_time": "2020-11-11T00:23:43.666801",
     "exception": false,
     "start_time": "2020-11-11T00:23:43.619625",
     "status": "completed"
    },
    "tags": []
   },
   "outputs": [],
   "source": [
    "text_2_seq = Text2Sequence()"
   ]
  },
  {
   "cell_type": "code",
   "execution_count": 27,
   "metadata": {
    "execution": {
     "iopub.execute_input": "2020-11-11T00:23:43.753512Z",
     "iopub.status.busy": "2020-11-11T00:23:43.752818Z",
     "iopub.status.idle": "2020-11-11T00:23:43.802144Z",
     "shell.execute_reply": "2020-11-11T00:23:43.801520Z"
    },
    "papermill": {
     "duration": 0.093872,
     "end_time": "2020-11-11T00:23:43.802242",
     "exception": false,
     "start_time": "2020-11-11T00:23:43.708370",
     "status": "completed"
    },
    "tags": []
   },
   "outputs": [],
   "source": [
    "from keras.preprocessing.sequence import pad_sequences"
   ]
  },
  {
   "cell_type": "code",
   "execution_count": 28,
   "metadata": {
    "execution": {
     "iopub.execute_input": "2020-11-11T00:23:43.892200Z",
     "iopub.status.busy": "2020-11-11T00:23:43.891362Z",
     "iopub.status.idle": "2020-11-11T00:23:43.893801Z",
     "shell.execute_reply": "2020-11-11T00:23:43.894325Z"
    },
    "papermill": {
     "duration": 0.050707,
     "end_time": "2020-11-11T00:23:43.894432",
     "exception": false,
     "start_time": "2020-11-11T00:23:43.843725",
     "status": "completed"
    },
    "tags": []
   },
   "outputs": [],
   "source": [
    "class Padding(BaseEstimator, TransformerMixin):\n",
    "    def __init__(self, pad='post'):\n",
    "        self.pad = pad\n",
    "    \n",
    "    def fit(self, X, y=None):\n",
    "        return self\n",
    "    \n",
    "    def transform(self, X):\n",
    "        self.get_paddings = pad_sequences(X, padding=self.pad)\n",
    "        return self.get_paddings"
   ]
  },
  {
   "cell_type": "code",
   "execution_count": 29,
   "metadata": {
    "execution": {
     "iopub.execute_input": "2020-11-11T00:23:43.989249Z",
     "iopub.status.busy": "2020-11-11T00:23:43.988483Z",
     "iopub.status.idle": "2020-11-11T00:23:43.990942Z",
     "shell.execute_reply": "2020-11-11T00:23:43.991528Z"
    },
    "papermill": {
     "duration": 0.053798,
     "end_time": "2020-11-11T00:23:43.991643",
     "exception": false,
     "start_time": "2020-11-11T00:23:43.937845",
     "status": "completed"
    },
    "tags": []
   },
   "outputs": [],
   "source": [
    "pad = Padding()"
   ]
  },
  {
   "cell_type": "code",
   "execution_count": 30,
   "metadata": {
    "execution": {
     "iopub.execute_input": "2020-11-11T00:23:44.079444Z",
     "iopub.status.busy": "2020-11-11T00:23:44.078637Z",
     "iopub.status.idle": "2020-11-11T00:23:44.081357Z",
     "shell.execute_reply": "2020-11-11T00:23:44.080873Z"
    },
    "papermill": {
     "duration": 0.047861,
     "end_time": "2020-11-11T00:23:44.081451",
     "exception": false,
     "start_time": "2020-11-11T00:23:44.033590",
     "status": "completed"
    },
    "tags": []
   },
   "outputs": [],
   "source": [
    "from sklearn.pipeline import Pipeline"
   ]
  },
  {
   "cell_type": "code",
   "execution_count": 31,
   "metadata": {
    "execution": {
     "iopub.execute_input": "2020-11-11T00:23:44.170675Z",
     "iopub.status.busy": "2020-11-11T00:23:44.169889Z",
     "iopub.status.idle": "2020-11-11T00:23:44.173087Z",
     "shell.execute_reply": "2020-11-11T00:23:44.172561Z"
    },
    "papermill": {
     "duration": 0.049512,
     "end_time": "2020-11-11T00:23:44.173181",
     "exception": false,
     "start_time": "2020-11-11T00:23:44.123669",
     "status": "completed"
    },
    "tags": []
   },
   "outputs": [],
   "source": [
    "data_prep_pipe = Pipeline([('get_tokens', tokens), ('text_2_sequence', text_2_seq), ('padding', pad)])"
   ]
  },
  {
   "cell_type": "code",
   "execution_count": 32,
   "metadata": {
    "execution": {
     "iopub.execute_input": "2020-11-11T00:23:44.270186Z",
     "iopub.status.busy": "2020-11-11T00:23:44.264981Z",
     "iopub.status.idle": "2020-11-11T00:24:57.750670Z",
     "shell.execute_reply": "2020-11-11T00:24:57.750145Z"
    },
    "papermill": {
     "duration": 73.535223,
     "end_time": "2020-11-11T00:24:57.750795",
     "exception": false,
     "start_time": "2020-11-11T00:23:44.215572",
     "status": "completed"
    },
    "tags": []
   },
   "outputs": [],
   "source": [
    "X_train = data_prep_pipe.fit_transform(sent_oversample_corpus)"
   ]
  },
  {
   "cell_type": "markdown",
   "metadata": {
    "papermill": {
     "duration": 0.042018,
     "end_time": "2020-11-11T00:24:57.835843",
     "exception": false,
     "start_time": "2020-11-11T00:24:57.793825",
     "status": "completed"
    },
    "tags": []
   },
   "source": [
    "## Training"
   ]
  },
  {
   "cell_type": "markdown",
   "metadata": {
    "papermill": {
     "duration": 0.042354,
     "end_time": "2020-11-11T00:24:57.920393",
     "exception": false,
     "start_time": "2020-11-11T00:24:57.878039",
     "status": "completed"
    },
    "tags": []
   },
   "source": [
    "#### Word2Vec"
   ]
  },
  {
   "cell_type": "code",
   "execution_count": 33,
   "metadata": {
    "execution": {
     "iopub.execute_input": "2020-11-11T00:24:58.020241Z",
     "iopub.status.busy": "2020-11-11T00:24:58.019598Z",
     "iopub.status.idle": "2020-11-11T00:24:58.178533Z",
     "shell.execute_reply": "2020-11-11T00:24:58.177912Z"
    },
    "papermill": {
     "duration": 0.210713,
     "end_time": "2020-11-11T00:24:58.178634",
     "exception": false,
     "start_time": "2020-11-11T00:24:57.967921",
     "status": "completed"
    },
    "tags": []
   },
   "outputs": [],
   "source": [
    "from gensim.models import Word2Vec # importing Word2Vec"
   ]
  },
  {
   "cell_type": "code",
   "execution_count": 34,
   "metadata": {
    "execution": {
     "iopub.execute_input": "2020-11-11T00:24:58.296340Z",
     "iopub.status.busy": "2020-11-11T00:24:58.280918Z",
     "iopub.status.idle": "2020-11-11T00:26:00.304165Z",
     "shell.execute_reply": "2020-11-11T00:26:00.303561Z"
    },
    "papermill": {
     "duration": 62.08334,
     "end_time": "2020-11-11T00:26:00.304300",
     "exception": false,
     "start_time": "2020-11-11T00:24:58.220960",
     "status": "completed"
    },
    "tags": []
   },
   "outputs": [],
   "source": [
    "list_of_lists_tokens = GetTokens(list_of_lists=True)\n",
    "sent_oversample_corpus2 = list_of_lists_tokens.fit_transform(sent_oversample_corpus)"
   ]
  },
  {
   "cell_type": "code",
   "execution_count": 35,
   "metadata": {
    "execution": {
     "iopub.execute_input": "2020-11-11T00:26:00.430561Z",
     "iopub.status.busy": "2020-11-11T00:26:00.404907Z",
     "iopub.status.idle": "2020-11-11T00:27:31.868890Z",
     "shell.execute_reply": "2020-11-11T00:27:31.868336Z"
    },
    "papermill": {
     "duration": 91.521485,
     "end_time": "2020-11-11T00:27:31.869026",
     "exception": false,
     "start_time": "2020-11-11T00:26:00.347541",
     "status": "completed"
    },
    "tags": []
   },
   "outputs": [],
   "source": [
    "# trains sent_oversample_corpus2 on Word2Vec. For sent_oversample_corpus2, min_count of 5 and iter (epoch) of 10 \n",
    "# seems to be the best\n",
    "sent_w2v_model = Word2Vec(sent_oversample_corpus2, size=300, min_count=1, iter=10)"
   ]
  },
  {
   "cell_type": "code",
   "execution_count": 36,
   "metadata": {
    "execution": {
     "iopub.execute_input": "2020-11-11T00:27:31.963743Z",
     "iopub.status.busy": "2020-11-11T00:27:31.963142Z",
     "iopub.status.idle": "2020-11-11T00:27:31.967188Z",
     "shell.execute_reply": "2020-11-11T00:27:31.966669Z"
    },
    "papermill": {
     "duration": 0.054126,
     "end_time": "2020-11-11T00:27:31.967293",
     "exception": false,
     "start_time": "2020-11-11T00:27:31.913167",
     "status": "completed"
    },
    "tags": []
   },
   "outputs": [],
   "source": [
    "def get_embedding_matrix(model, word_index):\n",
    "    vocab_size = len(word_index) + 1\n",
    "    embedding_dim = model.wv.vector_size\n",
    "    embedding_matrix = np.zeros((vocab_size, embedding_dim))\n",
    "    \n",
    "    for word in model.wv.vocab:\n",
    "        ind = word_index[word]\n",
    "        embedding_matrix[ind] = model[word]\n",
    "        \n",
    "    return embedding_matrix"
   ]
  },
  {
   "cell_type": "code",
   "execution_count": 37,
   "metadata": {
    "execution": {
     "iopub.execute_input": "2020-11-11T00:27:32.061566Z",
     "iopub.status.busy": "2020-11-11T00:27:32.060554Z",
     "iopub.status.idle": "2020-11-11T00:27:32.465547Z",
     "shell.execute_reply": "2020-11-11T00:27:32.464705Z"
    },
    "papermill": {
     "duration": 0.453925,
     "end_time": "2020-11-11T00:27:32.465676",
     "exception": false,
     "start_time": "2020-11-11T00:27:32.011751",
     "status": "completed"
    },
    "tags": []
   },
   "outputs": [],
   "source": [
    "words_indices = data_prep_pipe.named_steps['text_2_sequence'].words_indices\n",
    "embedding_matrix = get_embedding_matrix(sent_w2v_model, words_indices)"
   ]
  },
  {
   "cell_type": "code",
   "execution_count": 38,
   "metadata": {
    "execution": {
     "iopub.execute_input": "2020-11-11T00:27:32.558503Z",
     "iopub.status.busy": "2020-11-11T00:27:32.557669Z",
     "iopub.status.idle": "2020-11-11T00:27:32.560432Z",
     "shell.execute_reply": "2020-11-11T00:27:32.559833Z"
    },
    "papermill": {
     "duration": 0.050684,
     "end_time": "2020-11-11T00:27:32.560547",
     "exception": false,
     "start_time": "2020-11-11T00:27:32.509863",
     "status": "completed"
    },
    "tags": []
   },
   "outputs": [],
   "source": [
    "from sklearn.utils import class_weight"
   ]
  },
  {
   "cell_type": "code",
   "execution_count": 39,
   "metadata": {
    "execution": {
     "iopub.execute_input": "2020-11-11T00:27:32.697822Z",
     "iopub.status.busy": "2020-11-11T00:27:32.696941Z",
     "iopub.status.idle": "2020-11-11T00:27:32.709809Z",
     "shell.execute_reply": "2020-11-11T00:27:32.710317Z"
    },
    "papermill": {
     "duration": 0.10445,
     "end_time": "2020-11-11T00:27:32.710439",
     "exception": false,
     "start_time": "2020-11-11T00:27:32.605989",
     "status": "completed"
    },
    "tags": []
   },
   "outputs": [],
   "source": [
    "class_weights = class_weight.compute_class_weight('balanced', np.arange(20), encoded_labels)\n",
    "class_weights = dict(enumerate(class_weights))"
   ]
  },
  {
   "cell_type": "code",
   "execution_count": 40,
   "metadata": {
    "execution": {
     "iopub.execute_input": "2020-11-11T00:27:32.804142Z",
     "iopub.status.busy": "2020-11-11T00:27:32.803142Z",
     "iopub.status.idle": "2020-11-11T00:27:32.806725Z",
     "shell.execute_reply": "2020-11-11T00:27:32.806145Z"
    },
    "papermill": {
     "duration": 0.052492,
     "end_time": "2020-11-11T00:27:32.806814",
     "exception": false,
     "start_time": "2020-11-11T00:27:32.754322",
     "status": "completed"
    },
    "tags": []
   },
   "outputs": [],
   "source": [
    "# importing deep learning libraries\n",
    "from tensorflow.keras.layers import Embedding, Dense, GlobalMaxPool1D, Conv1D, Dropout\n",
    "from tensorflow.keras.models import Sequential\n",
    "from tensorflow.keras.wrappers.scikit_learn import KerasClassifier"
   ]
  },
  {
   "cell_type": "markdown",
   "metadata": {
    "papermill": {
     "duration": 0.043602,
     "end_time": "2020-11-11T00:27:32.894647",
     "exception": false,
     "start_time": "2020-11-11T00:27:32.851045",
     "status": "completed"
    },
    "tags": []
   },
   "source": [
    "#### Model"
   ]
  },
  {
   "cell_type": "code",
   "execution_count": 41,
   "metadata": {
    "execution": {
     "iopub.execute_input": "2020-11-11T00:27:33.003860Z",
     "iopub.status.busy": "2020-11-11T00:27:33.002107Z",
     "iopub.status.idle": "2020-11-11T00:27:33.004638Z",
     "shell.execute_reply": "2020-11-11T00:27:33.005125Z"
    },
    "papermill": {
     "duration": 0.066563,
     "end_time": "2020-11-11T00:27:33.005236",
     "exception": false,
     "start_time": "2020-11-11T00:27:32.938673",
     "status": "completed"
    },
    "tags": []
   },
   "outputs": [],
   "source": [
    "def multi_class_fbeta(ytrue , ypred, beta=1, weighted=True, raw=False, epsilon=1e-7):\n",
    "    beta_squared = beta**2\n",
    "\n",
    "    ytrue = tf.cast(ytrue, tf.float32)\n",
    "    ypred= tf.cast(ypred, tf.float32)\n",
    "    \n",
    "    max_prob = tf.reduce_max(ypred, axis=-1, keepdims=True)\n",
    "    ypred = tf.cast(tf.equal(ypred, max_prob), tf.float32)\n",
    "        \n",
    "    tp = tf.reduce_sum(ytrue*ypred, axis=0)\n",
    "    predicted_positive = tf.reduce_sum(ypred, axis=0)\n",
    "    actual_positive = tf.reduce_sum(ytrue, axis=0)\n",
    "    \n",
    "    precision = tp/(predicted_positive+epsilon)\n",
    "    recall = tp/(actual_positive+epsilon)\n",
    "    \n",
    "    fb = (1+beta_squared)*precision*recall / (beta_squared*precision + recall + epsilon)\n",
    "    \n",
    "    if raw:\n",
    "        return fb\n",
    "    \n",
    "    if weighted:\n",
    "        supports = tf.reduce_sum(ytrue, axis=0)\n",
    "        return tf.reduce_sum(fb*supports / tf.reduce_sum(supports))\n",
    "\n",
    "    return tf.reduce_mean(fb)"
   ]
  },
  {
   "cell_type": "code",
   "execution_count": 42,
   "metadata": {
    "execution": {
     "iopub.execute_input": "2020-11-11T00:27:33.099603Z",
     "iopub.status.busy": "2020-11-11T00:27:33.097738Z",
     "iopub.status.idle": "2020-11-11T00:27:33.100281Z",
     "shell.execute_reply": "2020-11-11T00:27:33.100868Z"
    },
    "papermill": {
     "duration": 0.051654,
     "end_time": "2020-11-11T00:27:33.101016",
     "exception": false,
     "start_time": "2020-11-11T00:27:33.049362",
     "status": "completed"
    },
    "tags": []
   },
   "outputs": [],
   "source": [
    "input_length = X_train.shape[1]"
   ]
  },
  {
   "cell_type": "code",
   "execution_count": 43,
   "metadata": {
    "execution": {
     "iopub.execute_input": "2020-11-11T00:27:33.199384Z",
     "iopub.status.busy": "2020-11-11T00:27:33.198652Z",
     "iopub.status.idle": "2020-11-11T00:27:33.202806Z",
     "shell.execute_reply": "2020-11-11T00:27:33.202262Z"
    },
    "papermill": {
     "duration": 0.056614,
     "end_time": "2020-11-11T00:27:33.202898",
     "exception": false,
     "start_time": "2020-11-11T00:27:33.146284",
     "status": "completed"
    },
    "tags": []
   },
   "outputs": [],
   "source": [
    "def build_cnn_model():\n",
    "    model = Sequential()\n",
    "    model.add(Embedding(embedding_matrix.shape[0], embedding_matrix.shape[1], \n",
    "                           weights=[embedding_matrix], \n",
    "                           input_length=input_length, \n",
    "                           trainable=False))\n",
    "    \n",
    "    model.add(Conv1D(128, 3, activation='relu'))\n",
    "    model.add(Conv1D(128, 3, activation='relu'))\n",
    "    \n",
    "    model.add(GlobalMaxPool1D())\n",
    "    \n",
    "    model.add(Dropout(0.2))\n",
    "    \n",
    "    model.add(Dense(20, activation='softmax'))\n",
    "\n",
    "    model.compile(optimizer='adam',\n",
    "              loss='categorical_crossentropy',\n",
    "              metrics=['accuracy', multi_class_fbeta])\n",
    "\n",
    "    return model"
   ]
  },
  {
   "cell_type": "code",
   "execution_count": 44,
   "metadata": {
    "execution": {
     "iopub.execute_input": "2020-11-11T00:27:33.297801Z",
     "iopub.status.busy": "2020-11-11T00:27:33.296444Z",
     "iopub.status.idle": "2020-11-11T00:27:33.299024Z",
     "shell.execute_reply": "2020-11-11T00:27:33.299457Z"
    },
    "papermill": {
     "duration": 0.052224,
     "end_time": "2020-11-11T00:27:33.299565",
     "exception": false,
     "start_time": "2020-11-11T00:27:33.247341",
     "status": "completed"
    },
    "tags": []
   },
   "outputs": [],
   "source": [
    "# build model\n",
    "cnn_model = KerasClassifier(build_fn=build_cnn_model, epochs=5, batch_size=128, class_weight=class_weights, \\\n",
    "                        verbose=0) "
   ]
  },
  {
   "cell_type": "code",
   "execution_count": 45,
   "metadata": {
    "execution": {
     "iopub.execute_input": "2020-11-11T00:27:33.394136Z",
     "iopub.status.busy": "2020-11-11T00:27:33.393399Z",
     "iopub.status.idle": "2020-11-11T00:27:33.396478Z",
     "shell.execute_reply": "2020-11-11T00:27:33.396008Z"
    },
    "papermill": {
     "duration": 0.051689,
     "end_time": "2020-11-11T00:27:33.396574",
     "exception": false,
     "start_time": "2020-11-11T00:27:33.344885",
     "status": "completed"
    },
    "tags": []
   },
   "outputs": [],
   "source": [
    "model = Pipeline([('data_prep', data_prep_pipe), ('model', cnn_model)], verbose=0)"
   ]
  },
  {
   "cell_type": "code",
   "execution_count": 46,
   "metadata": {
    "execution": {
     "iopub.execute_input": "2020-11-11T00:27:33.507546Z",
     "iopub.status.busy": "2020-11-11T00:27:33.497220Z",
     "iopub.status.idle": "2020-11-11T00:29:30.115552Z",
     "shell.execute_reply": "2020-11-11T00:29:30.116066Z"
    },
    "papermill": {
     "duration": 116.672637,
     "end_time": "2020-11-11T00:29:30.116191",
     "exception": false,
     "start_time": "2020-11-11T00:27:33.443554",
     "status": "completed"
    },
    "tags": []
   },
   "outputs": [
    {
     "data": {
      "text/plain": [
       "Pipeline(steps=[('data_prep',\n",
       "                 Pipeline(steps=[('get_tokens', GetTokens()),\n",
       "                                 ('text_2_sequence', Text2Sequence()),\n",
       "                                 ('padding', Padding())])),\n",
       "                ('model',\n",
       "                 <tensorflow.python.keras.wrappers.scikit_learn.KerasClassifier object at 0x7f74f6b1b8d0>)],\n",
       "         verbose=0)"
      ]
     },
     "execution_count": 46,
     "metadata": {},
     "output_type": "execute_result"
    }
   ],
   "source": [
    "model.fit(sent_oversample_corpus, encoded_labels)"
   ]
  },
  {
   "cell_type": "markdown",
   "metadata": {
    "papermill": {
     "duration": 0.045466,
     "end_time": "2020-11-11T00:29:30.206756",
     "exception": false,
     "start_time": "2020-11-11T00:29:30.161290",
     "status": "completed"
    },
    "tags": []
   },
   "source": [
    "## Prediction"
   ]
  },
  {
   "cell_type": "markdown",
   "metadata": {
    "papermill": {
     "duration": 0.044465,
     "end_time": "2020-11-11T00:29:30.296092",
     "exception": false,
     "start_time": "2020-11-11T00:29:30.251627",
     "status": "completed"
    },
    "tags": []
   },
   "source": [
    "### Note: lines of code starting with a triple '#' should be uncommented when running the deployment. I commented them out with a triple '#' in this notebook so they would be run in my notebook."
   ]
  },
  {
   "cell_type": "code",
   "execution_count": 47,
   "metadata": {
    "execution": {
     "iopub.execute_input": "2020-11-11T00:29:30.390219Z",
     "iopub.status.busy": "2020-11-11T00:29:30.389583Z",
     "iopub.status.idle": "2020-11-11T00:29:30.393955Z",
     "shell.execute_reply": "2020-11-11T00:29:30.393462Z"
    },
    "papermill": {
     "duration": 0.053179,
     "end_time": "2020-11-11T00:29:30.394076",
     "exception": false,
     "start_time": "2020-11-11T00:29:30.340897",
     "status": "completed"
    },
    "tags": []
   },
   "outputs": [],
   "source": [
    "### users_input = user's description will be inputed here as a string enclosed with double quotes and not single"
   ]
  },
  {
   "cell_type": "code",
   "execution_count": 48,
   "metadata": {
    "execution": {
     "iopub.execute_input": "2020-11-11T00:29:30.488741Z",
     "iopub.status.busy": "2020-11-11T00:29:30.487447Z",
     "iopub.status.idle": "2020-11-11T00:29:30.489926Z",
     "shell.execute_reply": "2020-11-11T00:29:30.490436Z"
    },
    "papermill": {
     "duration": 0.05163,
     "end_time": "2020-11-11T00:29:30.490544",
     "exception": false,
     "start_time": "2020-11-11T00:29:30.438914",
     "status": "completed"
    },
    "tags": []
   },
   "outputs": [],
   "source": [
    "# predicting user's description\n",
    "### pred = model.predict([users_input])\n",
    "\n",
    "#printing the prediction (variety) of the user's description\n",
    "### print(sent_oversample_le.inverse_transform(pred)[0])"
   ]
  },
  {
   "cell_type": "markdown",
   "metadata": {
    "papermill": {
     "duration": 0.045102,
     "end_time": "2020-11-11T00:29:30.581024",
     "exception": false,
     "start_time": "2020-11-11T00:29:30.535922",
     "status": "completed"
    },
    "tags": []
   },
   "source": [
    "# Note: lines of code below are for demostration purposes and should not be included in our deployment."
   ]
  },
  {
   "cell_type": "markdown",
   "metadata": {
    "papermill": {
     "duration": 0.045203,
     "end_time": "2020-11-11T00:29:30.671749",
     "exception": false,
     "start_time": "2020-11-11T00:29:30.626546",
     "status": "completed"
    },
    "tags": []
   },
   "source": [
    "### Our model only predicts the top 20 varieties and they are as listed below"
   ]
  },
  {
   "cell_type": "code",
   "execution_count": 49,
   "metadata": {
    "execution": {
     "iopub.execute_input": "2020-11-11T00:29:30.777387Z",
     "iopub.status.busy": "2020-11-11T00:29:30.776624Z",
     "iopub.status.idle": "2020-11-11T00:29:30.786077Z",
     "shell.execute_reply": "2020-11-11T00:29:30.786515Z"
    },
    "papermill": {
     "duration": 0.069219,
     "end_time": "2020-11-11T00:29:30.786634",
     "exception": false,
     "start_time": "2020-11-11T00:29:30.717415",
     "status": "completed"
    },
    "tags": []
   },
   "outputs": [
    {
     "data": {
      "text/plain": [
       "array(['Riesling', 'Pinot Noir', 'Cabernet Sauvignon', 'Chardonnay',\n",
       "       'Red Blend', 'Bordeaux-style Red Blend', 'White Blend',\n",
       "       'Portuguese Red', 'Pinot Gris', 'Malbec', 'Merlot',\n",
       "       'Sauvignon Blanc', 'Sangiovese', 'Rosé', 'Zinfandel', 'Syrah',\n",
       "       'Nebbiolo', 'Rhône-style Red Blend', 'Sparkling Blend',\n",
       "       'Tempranillo'], dtype=object)"
      ]
     },
     "execution_count": 49,
     "metadata": {},
     "output_type": "execute_result"
    }
   ],
   "source": [
    "balanced_df['variety'].unique()"
   ]
  },
  {
   "cell_type": "markdown",
   "metadata": {
    "papermill": {
     "duration": 0.045587,
     "end_time": "2020-11-11T00:29:30.877795",
     "exception": false,
     "start_time": "2020-11-11T00:29:30.832208",
     "status": "completed"
    },
    "tags": []
   },
   "source": [
    "### Let's do a demo prediction of Bordeaux-style Red Blend from a recent review (published 12/1/2020) not in our training set from [wine ethusiast](https://www.winemag.com/buying-guide/alpha-omega-2017-era-red-napa-valley/)"
   ]
  },
  {
   "cell_type": "code",
   "execution_count": 50,
   "metadata": {
    "execution": {
     "iopub.execute_input": "2020-11-11T00:29:30.975889Z",
     "iopub.status.busy": "2020-11-11T00:29:30.974329Z",
     "iopub.status.idle": "2020-11-11T00:29:30.976909Z",
     "shell.execute_reply": "2020-11-11T00:29:30.977399Z"
    },
    "papermill": {
     "duration": 0.053515,
     "end_time": "2020-11-11T00:29:30.977506",
     "exception": false,
     "start_time": "2020-11-11T00:29:30.923991",
     "status": "completed"
    },
    "tags": []
   },
   "outputs": [],
   "source": [
    "user_input = \"Juicy and richly interwoven with a fresh underlay of acidity, \" + \\\n",
    "             \"this powerhouse blend is substantially etched in cassis, plum and red currant. \" + \\\n",
    "             \"The oak and tannin are equally substantial and present, contributing weight, \" + \\\n",
    "             \"breadth and length. This will do well to cellar; enjoy best from 2027–2032\""
   ]
  },
  {
   "cell_type": "markdown",
   "metadata": {
    "papermill": {
     "duration": 0.045581,
     "end_time": "2020-11-11T00:29:31.068926",
     "exception": false,
     "start_time": "2020-11-11T00:29:31.023345",
     "status": "completed"
    },
    "tags": []
   },
   "source": [
    "### Notice the double quotes we used. This is to prevent error should the user's input contain apostrophe."
   ]
  },
  {
   "cell_type": "code",
   "execution_count": 51,
   "metadata": {
    "execution": {
     "iopub.execute_input": "2020-11-11T00:29:31.165407Z",
     "iopub.status.busy": "2020-11-11T00:29:31.164783Z",
     "iopub.status.idle": "2020-11-11T00:29:31.170421Z",
     "shell.execute_reply": "2020-11-11T00:29:31.169935Z"
    },
    "papermill": {
     "duration": 0.055099,
     "end_time": "2020-11-11T00:29:31.170529",
     "exception": false,
     "start_time": "2020-11-11T00:29:31.115430",
     "status": "completed"
    },
    "tags": []
   },
   "outputs": [
    {
     "data": {
      "text/plain": [
       "'Juicy and richly interwoven with a fresh underlay of acidity, this powerhouse blend is substantially etched in cassis, plum and red currant. The oak and tannin are equally substantial and present, contributing weight, breadth and length. This will do well to cellar; enjoy best from 2027–2032'"
      ]
     },
     "execution_count": 51,
     "metadata": {},
     "output_type": "execute_result"
    }
   ],
   "source": [
    "user_input"
   ]
  },
  {
   "cell_type": "code",
   "execution_count": 52,
   "metadata": {
    "execution": {
     "iopub.execute_input": "2020-11-11T00:29:31.326121Z",
     "iopub.status.busy": "2020-11-11T00:29:31.325274Z",
     "iopub.status.idle": "2020-11-11T00:29:31.469406Z",
     "shell.execute_reply": "2020-11-11T00:29:31.468522Z"
    },
    "papermill": {
     "duration": 0.251686,
     "end_time": "2020-11-11T00:29:31.469515",
     "exception": false,
     "start_time": "2020-11-11T00:29:31.217829",
     "status": "completed"
    },
    "tags": []
   },
   "outputs": [
    {
     "name": "stdout",
     "output_type": "stream",
     "text": [
      "Bordeaux-style Red Blend\n"
     ]
    }
   ],
   "source": [
    "# predicting user's description\n",
    "pred = model.predict([user_input])\n",
    "\n",
    "#printing the prediction (variety) of the user's description\n",
    "print(sent_oversample_le.inverse_transform(pred)[0])"
   ]
  },
  {
   "cell_type": "markdown",
   "metadata": {
    "papermill": {
     "duration": 0.046566,
     "end_time": "2020-11-11T00:29:31.563079",
     "exception": false,
     "start_time": "2020-11-11T00:29:31.516513",
     "status": "completed"
    },
    "tags": []
   },
   "source": [
    "### ...and voila, our model's prediction was as good as right!"
   ]
  }
 ],
 "metadata": {
  "kernelspec": {
   "display_name": "Python 3",
   "language": "python",
   "name": "python3"
  },
  "language_info": {
   "codemirror_mode": {
    "name": "ipython",
    "version": 3
   },
   "file_extension": ".py",
   "mimetype": "text/x-python",
   "name": "python",
   "nbconvert_exporter": "python",
   "pygments_lexer": "ipython3",
   "version": "3.7.6"
  },
  "papermill": {
   "duration": 377.112774,
   "end_time": "2020-11-11T00:29:33.213002",
   "environment_variables": {},
   "exception": null,
   "input_path": "__notebook__.ipynb",
   "output_path": "__notebook__.ipynb",
   "parameters": {},
   "start_time": "2020-11-11T00:23:16.100228",
   "version": "2.1.0"
  }
 },
 "nbformat": 4,
 "nbformat_minor": 4
}
