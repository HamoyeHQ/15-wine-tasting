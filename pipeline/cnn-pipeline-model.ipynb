{
 "cells": [
  {
   "cell_type": "markdown",
   "metadata": {
    "_cell_guid": "79c7e3d0-c299-4dcb-8224-4455121ee9b0",
    "_uuid": "d629ff2d2480ee46fbb7e2d37f6b5fab8052498a",
    "collapsed": true,
    "papermill": {
     "duration": 0.044643,
     "end_time": "2020-11-10T04:08:30.856510",
     "exception": false,
     "start_time": "2020-11-10T04:08:30.811867",
     "status": "completed"
    },
    "tags": []
   },
   "source": [
    "## 1.0 Getting Data"
   ]
  },
  {
   "cell_type": "code",
   "execution_count": 1,
   "metadata": {
    "execution": {
     "iopub.execute_input": "2020-11-10T04:08:30.952328Z",
     "iopub.status.busy": "2020-11-10T04:08:30.951493Z",
     "iopub.status.idle": "2020-11-10T04:08:32.044974Z",
     "shell.execute_reply": "2020-11-10T04:08:32.044368Z"
    },
    "papermill": {
     "duration": 1.144465,
     "end_time": "2020-11-10T04:08:32.045093",
     "exception": false,
     "start_time": "2020-11-10T04:08:30.900628",
     "status": "completed"
    },
    "tags": []
   },
   "outputs": [],
   "source": [
    "# importing useful libraries\n",
    "import numpy as np\n",
    "import pandas as pd\n",
    "import matplotlib.pyplot as plt\n",
    "import seaborn as sns\n",
    "\n",
    "import requests\n",
    "import zipfile\n",
    "import io\n",
    "\n",
    "import warnings\n",
    "warnings.filterwarnings('ignore')\n",
    "\n",
    "%matplotlib inline"
   ]
  },
  {
   "cell_type": "markdown",
   "metadata": {
    "papermill": {
     "duration": 0.046496,
     "end_time": "2020-11-10T04:08:32.133967",
     "exception": false,
     "start_time": "2020-11-10T04:08:32.087471",
     "status": "completed"
    },
    "tags": []
   },
   "source": [
    "### Downloading the data from our github repository"
   ]
  },
  {
   "cell_type": "code",
   "execution_count": 2,
   "metadata": {
    "execution": {
     "iopub.execute_input": "2020-11-10T04:08:32.222904Z",
     "iopub.status.busy": "2020-11-10T04:08:32.221995Z",
     "iopub.status.idle": "2020-11-10T04:08:32.224898Z",
     "shell.execute_reply": "2020-11-10T04:08:32.224385Z"
    },
    "papermill": {
     "duration": 0.049868,
     "end_time": "2020-11-10T04:08:32.225000",
     "exception": false,
     "start_time": "2020-11-10T04:08:32.175132",
     "status": "completed"
    },
    "tags": []
   },
   "outputs": [],
   "source": [
    "url1 = 'https://raw.github.com/HamoyeHQ/stage-f-06-wine-tasting/master/data/top_40_varieties.zip'\n",
    "url2 = 'https://raw.github.com/HamoyeHQ/stage-f-06-wine-tasting/master/data/top_varieties_count.csv'"
   ]
  },
  {
   "cell_type": "code",
   "execution_count": 3,
   "metadata": {
    "execution": {
     "iopub.execute_input": "2020-11-10T04:08:32.315331Z",
     "iopub.status.busy": "2020-11-10T04:08:32.314673Z",
     "iopub.status.idle": "2020-11-10T04:08:36.784805Z",
     "shell.execute_reply": "2020-11-10T04:08:36.783866Z"
    },
    "papermill": {
     "duration": 4.517526,
     "end_time": "2020-11-10T04:08:36.784930",
     "exception": false,
     "start_time": "2020-11-10T04:08:32.267404",
     "status": "completed"
    },
    "tags": []
   },
   "outputs": [],
   "source": [
    "resp = requests.get(url1)\n",
    "\n",
    "with zipfile.ZipFile(io.BytesIO(resp.content), 'r') as zf:\n",
    "    with zf.open('top_40_varieties.csv') as f:\n",
    "        top_40_varieties = pd.read_csv(f)"
   ]
  },
  {
   "cell_type": "code",
   "execution_count": 4,
   "metadata": {
    "execution": {
     "iopub.execute_input": "2020-11-10T04:08:36.894689Z",
     "iopub.status.busy": "2020-11-10T04:08:36.893982Z",
     "iopub.status.idle": "2020-11-10T04:08:37.421192Z",
     "shell.execute_reply": "2020-11-10T04:08:37.420026Z"
    },
    "papermill": {
     "duration": 0.592593,
     "end_time": "2020-11-10T04:08:37.421320",
     "exception": false,
     "start_time": "2020-11-10T04:08:36.828727",
     "status": "completed"
    },
    "tags": []
   },
   "outputs": [],
   "source": [
    "top_varieties_count = pd.read_csv(url2)"
   ]
  },
  {
   "cell_type": "code",
   "execution_count": 5,
   "metadata": {
    "execution": {
     "iopub.execute_input": "2020-11-10T04:08:37.529424Z",
     "iopub.status.busy": "2020-11-10T04:08:37.528260Z",
     "iopub.status.idle": "2020-11-10T04:08:37.593221Z",
     "shell.execute_reply": "2020-11-10T04:08:37.592664Z"
    },
    "papermill": {
     "duration": 0.128253,
     "end_time": "2020-11-10T04:08:37.593328",
     "exception": false,
     "start_time": "2020-11-10T04:08:37.465075",
     "status": "completed"
    },
    "tags": []
   },
   "outputs": [],
   "source": [
    "# replacing every occurence of 'US' in country with 'United States of America'\n",
    "top_40_varieties['country'].replace('US', 'United States of America', inplace=True)\n",
    "\n",
    "# replacing every occurence of 'US' in not_vintage with 'United States of America'\n",
    "top_40_varieties['not_vintage'] = top_40_varieties['not_vintage'].apply(lambda x: x.replace(\\\n",
    "                                                                        'US', 'United States of America'))"
   ]
  },
  {
   "cell_type": "code",
   "execution_count": 6,
   "metadata": {
    "execution": {
     "iopub.execute_input": "2020-11-10T04:08:37.689068Z",
     "iopub.status.busy": "2020-11-10T04:08:37.688074Z",
     "iopub.status.idle": "2020-11-10T04:08:37.690451Z",
     "shell.execute_reply": "2020-11-10T04:08:37.691088Z"
    },
    "papermill": {
     "duration": 0.056006,
     "end_time": "2020-11-10T04:08:37.691227",
     "exception": false,
     "start_time": "2020-11-10T04:08:37.635221",
     "status": "completed"
    },
    "tags": []
   },
   "outputs": [],
   "source": [
    "# renaming the columns in top_varieties_count\n",
    "top_varieties_count = top_varieties_count.rename(columns={'variety': 'count', 'Unnamed: 0': 'variety'})\n",
    "top_varieties_count = top_varieties_count.set_index('variety') # setting the index\n",
    "top_varieties_count = top_varieties_count['count'] # making it a Series"
   ]
  },
  {
   "cell_type": "code",
   "execution_count": 7,
   "metadata": {
    "execution": {
     "iopub.execute_input": "2020-11-10T04:08:37.794490Z",
     "iopub.status.busy": "2020-11-10T04:08:37.793684Z",
     "iopub.status.idle": "2020-11-10T04:08:37.819325Z",
     "shell.execute_reply": "2020-11-10T04:08:37.818766Z"
    },
    "papermill": {
     "duration": 0.084672,
     "end_time": "2020-11-10T04:08:37.819446",
     "exception": false,
     "start_time": "2020-11-10T04:08:37.734774",
     "status": "completed"
    },
    "tags": []
   },
   "outputs": [],
   "source": [
    "top = 20 # selecting top 20 varities as our working varieties. note 1 < n <= 40\n",
    "\n",
    "# making a datframe of our selecting top n varieties\n",
    "top_df = top_40_varieties[top_40_varieties['variety'].isin(top_varieties_count.iloc[:top].index)]"
   ]
  },
  {
   "cell_type": "code",
   "execution_count": 8,
   "metadata": {
    "execution": {
     "iopub.execute_input": "2020-11-10T04:08:37.917325Z",
     "iopub.status.busy": "2020-11-10T04:08:37.916280Z",
     "iopub.status.idle": "2020-11-10T04:08:37.959634Z",
     "shell.execute_reply": "2020-11-10T04:08:37.959039Z"
    },
    "papermill": {
     "duration": 0.096195,
     "end_time": "2020-11-10T04:08:37.959756",
     "exception": false,
     "start_time": "2020-11-10T04:08:37.863561",
     "status": "completed"
    },
    "tags": []
   },
   "outputs": [],
   "source": [
    "# threshold of miniority variety to over sample (use sentences as document instead of the whole description)\n",
    "minority_threshold = 5000 \n",
    "\n",
    "# making a dataframe of the miniority classes\n",
    "minority_df = top_df[top_df['variety'].isin(top_varieties_count[top_varieties_count < \\\n",
    "                                                                      minority_threshold].index)]"
   ]
  },
  {
   "cell_type": "code",
   "execution_count": 9,
   "metadata": {
    "execution": {
     "iopub.execute_input": "2020-11-10T04:08:38.050976Z",
     "iopub.status.busy": "2020-11-10T04:08:38.050186Z",
     "iopub.status.idle": "2020-11-10T04:08:38.849440Z",
     "shell.execute_reply": "2020-11-10T04:08:38.848827Z"
    },
    "papermill": {
     "duration": 0.846104,
     "end_time": "2020-11-10T04:08:38.849569",
     "exception": false,
     "start_time": "2020-11-10T04:08:38.003465",
     "status": "completed"
    },
    "tags": []
   },
   "outputs": [],
   "source": [
    "from nltk.tokenize import sent_tokenize # importing useful library"
   ]
  },
  {
   "cell_type": "code",
   "execution_count": 10,
   "metadata": {
    "execution": {
     "iopub.execute_input": "2020-11-10T04:08:38.953040Z",
     "iopub.status.busy": "2020-11-10T04:08:38.952024Z",
     "iopub.status.idle": "2020-11-10T04:08:38.955365Z",
     "shell.execute_reply": "2020-11-10T04:08:38.954817Z"
    },
    "papermill": {
     "duration": 0.058739,
     "end_time": "2020-11-10T04:08:38.955485",
     "exception": false,
     "start_time": "2020-11-10T04:08:38.896746",
     "status": "completed"
    },
    "tags": []
   },
   "outputs": [],
   "source": [
    "oversampled_miniority_lst = [] # empty list to store sentences as tokens miniority corpus\n",
    "\n",
    "# creating a function to use sentences as tokens for the miniority classes\n",
    "def over_sample_miniority(row):\n",
    "    doc_list = sent_tokenize(row['description'])\n",
    "    for sent in doc_list:\n",
    "        row['description'] = sent\n",
    "        oversampled_miniority_lst.append(list(row))"
   ]
  },
  {
   "cell_type": "code",
   "execution_count": 11,
   "metadata": {
    "execution": {
     "iopub.execute_input": "2020-11-10T04:08:39.046705Z",
     "iopub.status.busy": "2020-11-10T04:08:39.046028Z",
     "iopub.status.idle": "2020-11-10T04:08:48.512382Z",
     "shell.execute_reply": "2020-11-10T04:08:48.511566Z"
    },
    "papermill": {
     "duration": 9.513044,
     "end_time": "2020-11-10T04:08:48.512505",
     "exception": false,
     "start_time": "2020-11-10T04:08:38.999461",
     "status": "completed"
    },
    "tags": []
   },
   "outputs": [],
   "source": [
    "minority_df.apply(over_sample_miniority, axis=1); # over sample the miniority classes"
   ]
  },
  {
   "cell_type": "code",
   "execution_count": 12,
   "metadata": {
    "execution": {
     "iopub.execute_input": "2020-11-10T04:08:48.601684Z",
     "iopub.status.busy": "2020-11-10T04:08:48.601041Z",
     "iopub.status.idle": "2020-11-10T04:08:48.807215Z",
     "shell.execute_reply": "2020-11-10T04:08:48.806646Z"
    },
    "papermill": {
     "duration": 0.251907,
     "end_time": "2020-11-10T04:08:48.807337",
     "exception": false,
     "start_time": "2020-11-10T04:08:48.555430",
     "status": "completed"
    },
    "tags": []
   },
   "outputs": [],
   "source": [
    "# converts oversampled_miniority_lst to a dataframe\n",
    "oversampled_miniority_df = pd.DataFrame(oversampled_miniority_lst, columns=minority_df.columns)"
   ]
  },
  {
   "cell_type": "code",
   "execution_count": 13,
   "metadata": {
    "execution": {
     "iopub.execute_input": "2020-11-10T04:08:48.913788Z",
     "iopub.status.busy": "2020-11-10T04:08:48.912727Z",
     "iopub.status.idle": "2020-11-10T04:08:49.150877Z",
     "shell.execute_reply": "2020-11-10T04:08:49.150261Z"
    },
    "papermill": {
     "duration": 0.300396,
     "end_time": "2020-11-10T04:08:49.151005",
     "exception": false,
     "start_time": "2020-11-10T04:08:48.850609",
     "status": "completed"
    },
    "tags": []
   },
   "outputs": [],
   "source": [
    "# selecting majority classes as a dataframe to concatenate to oversampled_miniority_lst\n",
    "majority_df = top_df[top_df['variety'].isin(\\\n",
    "                                        top_varieties_count[top_varieties_count >= minority_threshold].index)]\n",
    "\n",
    "# concatenates majority_df to oversampled_miniority_lst\n",
    "balanced_df = pd.concat([majority_df, oversampled_miniority_df]) \n",
    "balanced_df = balanced_df.reset_index().drop('index', axis=1) # resets index"
   ]
  },
  {
   "cell_type": "code",
   "execution_count": 14,
   "metadata": {
    "execution": {
     "iopub.execute_input": "2020-11-10T04:08:49.284226Z",
     "iopub.status.busy": "2020-11-10T04:08:49.282278Z",
     "iopub.status.idle": "2020-11-10T04:08:49.284955Z",
     "shell.execute_reply": "2020-11-10T04:08:49.285489Z"
    },
    "papermill": {
     "duration": 0.089954,
     "end_time": "2020-11-10T04:08:49.285617",
     "exception": false,
     "start_time": "2020-11-10T04:08:49.195663",
     "status": "completed"
    },
    "tags": []
   },
   "outputs": [],
   "source": [
    "balanced_variety = balanced_df['variety'].value_counts() # gets a Series of the variety count in balanced_df"
   ]
  },
  {
   "cell_type": "code",
   "execution_count": 15,
   "metadata": {
    "execution": {
     "iopub.execute_input": "2020-11-10T04:08:49.375204Z",
     "iopub.status.busy": "2020-11-10T04:08:49.374583Z",
     "iopub.status.idle": "2020-11-10T04:08:49.378857Z",
     "shell.execute_reply": "2020-11-10T04:08:49.378164Z"
    },
    "papermill": {
     "duration": 0.051029,
     "end_time": "2020-11-10T04:08:49.378991",
     "exception": false,
     "start_time": "2020-11-10T04:08:49.327962",
     "status": "completed"
    },
    "tags": []
   },
   "outputs": [],
   "source": [
    "# importing useful libraries\n",
    "from sklearn.preprocessing import LabelEncoder, OneHotEncoder"
   ]
  },
  {
   "cell_type": "code",
   "execution_count": 16,
   "metadata": {
    "execution": {
     "iopub.execute_input": "2020-11-10T04:08:49.493334Z",
     "iopub.status.busy": "2020-11-10T04:08:49.488305Z",
     "iopub.status.idle": "2020-11-10T04:08:49.608662Z",
     "shell.execute_reply": "2020-11-10T04:08:49.608049Z"
    },
    "papermill": {
     "duration": 0.186636,
     "end_time": "2020-11-10T04:08:49.608790",
     "exception": false,
     "start_time": "2020-11-10T04:08:49.422154",
     "status": "completed"
    },
    "tags": []
   },
   "outputs": [],
   "source": [
    "# for sentence oversampling\n",
    "sent_oversample_corpus = [doc1 + ' ' + doc2 for doc1, doc2 in zip(\\\n",
    "                                                        balanced_df['description'], balanced_df['not_vintage'])]"
   ]
  },
  {
   "cell_type": "code",
   "execution_count": 17,
   "metadata": {
    "execution": {
     "iopub.execute_input": "2020-11-10T04:08:49.745913Z",
     "iopub.status.busy": "2020-11-10T04:08:49.744937Z",
     "iopub.status.idle": "2020-11-10T04:08:49.841514Z",
     "shell.execute_reply": "2020-11-10T04:08:49.840848Z"
    },
    "papermill": {
     "duration": 0.190326,
     "end_time": "2020-11-10T04:08:49.841655",
     "exception": false,
     "start_time": "2020-11-10T04:08:49.651329",
     "status": "completed"
    },
    "tags": []
   },
   "outputs": [],
   "source": [
    "sent_oversample_le = LabelEncoder()\n",
    "sent_oversample_one_hot = OneHotEncoder(sparse=False) # initializes a LabelEncoder object\n",
    "\n",
    "labels = [label for label in balanced_df['variety']]\n",
    "\n",
    "# encodes the labels\n",
    "encoded_labels = sent_oversample_le.fit_transform(labels)\n",
    "\n",
    "# one_hot encoding the labels\n",
    "one_hot_labels = sent_oversample_one_hot.fit_transform(encoded_labels.reshape(-1, 1))\n"
   ]
  },
  {
   "cell_type": "markdown",
   "metadata": {
    "papermill": {
     "duration": 0.047918,
     "end_time": "2020-11-10T04:08:49.938158",
     "exception": false,
     "start_time": "2020-11-10T04:08:49.890240",
     "status": "completed"
    },
    "tags": []
   },
   "source": [
    "## 2.0 Data Preprocessing"
   ]
  },
  {
   "cell_type": "code",
   "execution_count": 18,
   "metadata": {
    "execution": {
     "iopub.execute_input": "2020-11-10T04:08:50.028868Z",
     "iopub.status.busy": "2020-11-10T04:08:50.028166Z",
     "iopub.status.idle": "2020-11-10T04:08:52.699911Z",
     "shell.execute_reply": "2020-11-10T04:08:52.699223Z"
    },
    "papermill": {
     "duration": 2.718657,
     "end_time": "2020-11-10T04:08:52.700044",
     "exception": false,
     "start_time": "2020-11-10T04:08:49.981387",
     "status": "completed"
    },
    "tags": []
   },
   "outputs": [],
   "source": [
    "import spacy"
   ]
  },
  {
   "cell_type": "code",
   "execution_count": 19,
   "metadata": {
    "execution": {
     "iopub.execute_input": "2020-11-10T04:08:52.800632Z",
     "iopub.status.busy": "2020-11-10T04:08:52.799663Z",
     "iopub.status.idle": "2020-11-10T04:08:54.040691Z",
     "shell.execute_reply": "2020-11-10T04:08:54.040119Z"
    },
    "papermill": {
     "duration": 1.295807,
     "end_time": "2020-11-10T04:08:54.040804",
     "exception": false,
     "start_time": "2020-11-10T04:08:52.744997",
     "status": "completed"
    },
    "tags": []
   },
   "outputs": [],
   "source": [
    "# creating a spacy pipeline and disabling tagger, parser and ner to speed up tokenizer\n",
    "nlp = spacy.load('en', disable=['tagger', 'parser', 'ner']) "
   ]
  },
  {
   "cell_type": "code",
   "execution_count": 20,
   "metadata": {
    "execution": {
     "iopub.execute_input": "2020-11-10T04:08:54.137079Z",
     "iopub.status.busy": "2020-11-10T04:08:54.136449Z",
     "iopub.status.idle": "2020-11-10T04:08:54.140843Z",
     "shell.execute_reply": "2020-11-10T04:08:54.140369Z"
    },
    "papermill": {
     "duration": 0.055627,
     "end_time": "2020-11-10T04:08:54.140942",
     "exception": false,
     "start_time": "2020-11-10T04:08:54.085315",
     "status": "completed"
    },
    "tags": []
   },
   "outputs": [],
   "source": [
    "stop_words = spacy.lang.en.STOP_WORDS # getting spacy's stop-words"
   ]
  },
  {
   "cell_type": "code",
   "execution_count": 21,
   "metadata": {
    "execution": {
     "iopub.execute_input": "2020-11-10T04:08:54.254530Z",
     "iopub.status.busy": "2020-11-10T04:08:54.252604Z",
     "iopub.status.idle": "2020-11-10T04:08:54.255203Z",
     "shell.execute_reply": "2020-11-10T04:08:54.255749Z"
    },
    "papermill": {
     "duration": 0.070255,
     "end_time": "2020-11-10T04:08:54.255893",
     "exception": false,
     "start_time": "2020-11-10T04:08:54.185638",
     "status": "completed"
    },
    "tags": []
   },
   "outputs": [],
   "source": [
    "stop_words_lemma = {word.lemma_.lower() for word in nlp(' '.join(stop_words))} | {'-pron-', '10', '12', \n",
    "                    'aah', 'aa', 'ab', 'aaa', 'aand', '16', '2', '20', '30', '4', '40', '5', '6', '7', '8', '9'}"
   ]
  },
  {
   "cell_type": "markdown",
   "metadata": {
    "papermill": {
     "duration": 0.044756,
     "end_time": "2020-11-10T04:08:54.345158",
     "exception": false,
     "start_time": "2020-11-10T04:08:54.300402",
     "status": "completed"
    },
    "tags": []
   },
   "source": [
    "### creating custom transformers to encapsulate our preprocessing"
   ]
  },
  {
   "cell_type": "code",
   "execution_count": 22,
   "metadata": {
    "execution": {
     "iopub.execute_input": "2020-11-10T04:08:54.470566Z",
     "iopub.status.busy": "2020-11-10T04:08:54.469219Z",
     "iopub.status.idle": "2020-11-10T04:08:54.471568Z",
     "shell.execute_reply": "2020-11-10T04:08:54.469845Z"
    },
    "papermill": {
     "duration": 0.081562,
     "end_time": "2020-11-10T04:08:54.471718",
     "exception": false,
     "start_time": "2020-11-10T04:08:54.390156",
     "status": "completed"
    },
    "tags": []
   },
   "outputs": [],
   "source": [
    "from sklearn.base import BaseEstimator, TransformerMixin, ClassifierMixin"
   ]
  },
  {
   "cell_type": "code",
   "execution_count": 23,
   "metadata": {
    "execution": {
     "iopub.execute_input": "2020-11-10T04:08:54.585282Z",
     "iopub.status.busy": "2020-11-10T04:08:54.584235Z",
     "iopub.status.idle": "2020-11-10T04:08:54.587569Z",
     "shell.execute_reply": "2020-11-10T04:08:54.586988Z"
    },
    "papermill": {
     "duration": 0.064033,
     "end_time": "2020-11-10T04:08:54.587688",
     "exception": false,
     "start_time": "2020-11-10T04:08:54.523655",
     "status": "completed"
    },
    "tags": []
   },
   "outputs": [],
   "source": [
    "class GetTokens(BaseEstimator, TransformerMixin):\n",
    "    def __init__(self, stop_words=stop_words_lemma, list_of_lists=False):\n",
    "        self.stop_words = stop_words\n",
    "        self.list_of_lists = list_of_lists\n",
    "    \n",
    "    # defining tokenzer function to tokenize the lower case lemma of documents in a corpus and \n",
    "    # filter out stop-words  \n",
    "    def tokenize(self, text):\n",
    "        return [word.lemma_.lower() for word in nlp(text) if word.is_alpha and word.lemma_.lower() \\\n",
    "                not in self.stop_words]\n",
    "\n",
    "    def fit(self, X, y=None):\n",
    "        return self\n",
    "    \n",
    "    def transform(self, X):\n",
    "        if self.list_of_lists:\n",
    "            self.tokens = [self.tokenize(doc) for doc in X]\n",
    "        else:\n",
    "            self.tokens = [' '.join(self.tokenize(doc)) for doc in X]\n",
    "            \n",
    "        return self.tokens"
   ]
  },
  {
   "cell_type": "code",
   "execution_count": 24,
   "metadata": {
    "execution": {
     "iopub.execute_input": "2020-11-10T04:08:54.686865Z",
     "iopub.status.busy": "2020-11-10T04:08:54.686196Z",
     "iopub.status.idle": "2020-11-10T04:08:54.690630Z",
     "shell.execute_reply": "2020-11-10T04:08:54.690043Z"
    },
    "papermill": {
     "duration": 0.053968,
     "end_time": "2020-11-10T04:08:54.690761",
     "exception": false,
     "start_time": "2020-11-10T04:08:54.636793",
     "status": "completed"
    },
    "tags": []
   },
   "outputs": [],
   "source": [
    "tokens = GetTokens()"
   ]
  },
  {
   "cell_type": "code",
   "execution_count": 25,
   "metadata": {
    "execution": {
     "iopub.execute_input": "2020-11-10T04:08:54.800342Z",
     "iopub.status.busy": "2020-11-10T04:08:54.799516Z",
     "iopub.status.idle": "2020-11-10T04:09:00.995612Z",
     "shell.execute_reply": "2020-11-10T04:09:00.996106Z"
    },
    "papermill": {
     "duration": 6.255403,
     "end_time": "2020-11-10T04:09:00.996252",
     "exception": false,
     "start_time": "2020-11-10T04:08:54.740849",
     "status": "completed"
    },
    "tags": []
   },
   "outputs": [],
   "source": [
    "import tensorflow as tf\n",
    "from tensorflow.keras.preprocessing.text import Tokenizer"
   ]
  },
  {
   "cell_type": "code",
   "execution_count": 26,
   "metadata": {
    "execution": {
     "iopub.execute_input": "2020-11-10T04:09:01.095476Z",
     "iopub.status.busy": "2020-11-10T04:09:01.094797Z",
     "iopub.status.idle": "2020-11-10T04:09:01.099438Z",
     "shell.execute_reply": "2020-11-10T04:09:01.098840Z"
    },
    "papermill": {
     "duration": 0.057583,
     "end_time": "2020-11-10T04:09:01.099550",
     "exception": false,
     "start_time": "2020-11-10T04:09:01.041967",
     "status": "completed"
    },
    "tags": []
   },
   "outputs": [],
   "source": [
    "class Text2Sequence(BaseEstimator, TransformerMixin):\n",
    "    def __init__(self):\n",
    "        self.sequence_tokenizer = Tokenizer(oov_token=-99)\n",
    "\n",
    "    def fit(self, X, y=None):\n",
    "        self.sequence_tokenizer.fit_on_texts(X)\n",
    "        self.words_indices = self.sequence_tokenizer.word_index\n",
    "        return self\n",
    "    \n",
    "    def transform(self, X):\n",
    "        self.get_sequences = self.sequence_tokenizer.texts_to_sequences(X)\n",
    "        return self.get_sequences"
   ]
  },
  {
   "cell_type": "code",
   "execution_count": 27,
   "metadata": {
    "execution": {
     "iopub.execute_input": "2020-11-10T04:09:01.196927Z",
     "iopub.status.busy": "2020-11-10T04:09:01.196261Z",
     "iopub.status.idle": "2020-11-10T04:09:01.200223Z",
     "shell.execute_reply": "2020-11-10T04:09:01.199757Z"
    },
    "papermill": {
     "duration": 0.053455,
     "end_time": "2020-11-10T04:09:01.200321",
     "exception": false,
     "start_time": "2020-11-10T04:09:01.146866",
     "status": "completed"
    },
    "tags": []
   },
   "outputs": [],
   "source": [
    "text_2_seq = Text2Sequence()"
   ]
  },
  {
   "cell_type": "code",
   "execution_count": 28,
   "metadata": {
    "execution": {
     "iopub.execute_input": "2020-11-10T04:09:01.298853Z",
     "iopub.status.busy": "2020-11-10T04:09:01.298006Z",
     "iopub.status.idle": "2020-11-10T04:09:01.355933Z",
     "shell.execute_reply": "2020-11-10T04:09:01.354485Z"
    },
    "papermill": {
     "duration": 0.11003,
     "end_time": "2020-11-10T04:09:01.356060",
     "exception": false,
     "start_time": "2020-11-10T04:09:01.246030",
     "status": "completed"
    },
    "tags": []
   },
   "outputs": [],
   "source": [
    "from keras.preprocessing.sequence import pad_sequences"
   ]
  },
  {
   "cell_type": "code",
   "execution_count": 29,
   "metadata": {
    "execution": {
     "iopub.execute_input": "2020-11-10T04:09:01.465645Z",
     "iopub.status.busy": "2020-11-10T04:09:01.464649Z",
     "iopub.status.idle": "2020-11-10T04:09:01.467744Z",
     "shell.execute_reply": "2020-11-10T04:09:01.467218Z"
    },
    "papermill": {
     "duration": 0.065773,
     "end_time": "2020-11-10T04:09:01.467852",
     "exception": false,
     "start_time": "2020-11-10T04:09:01.402079",
     "status": "completed"
    },
    "tags": []
   },
   "outputs": [],
   "source": [
    "class Padding(BaseEstimator, TransformerMixin):\n",
    "    def __init__(self, pad='post'):\n",
    "        self.pad = pad\n",
    "    \n",
    "    def fit(self, X, y=None):\n",
    "        return self\n",
    "    \n",
    "    def transform(self, X):\n",
    "        self.get_paddings = pad_sequences(X, padding=self.pad)\n",
    "        return self.get_paddings"
   ]
  },
  {
   "cell_type": "code",
   "execution_count": 30,
   "metadata": {
    "execution": {
     "iopub.execute_input": "2020-11-10T04:09:01.565107Z",
     "iopub.status.busy": "2020-11-10T04:09:01.564256Z",
     "iopub.status.idle": "2020-11-10T04:09:01.567300Z",
     "shell.execute_reply": "2020-11-10T04:09:01.566839Z"
    },
    "papermill": {
     "duration": 0.052094,
     "end_time": "2020-11-10T04:09:01.567415",
     "exception": false,
     "start_time": "2020-11-10T04:09:01.515321",
     "status": "completed"
    },
    "tags": []
   },
   "outputs": [],
   "source": [
    "pad = Padding()"
   ]
  },
  {
   "cell_type": "code",
   "execution_count": 31,
   "metadata": {
    "execution": {
     "iopub.execute_input": "2020-11-10T04:09:01.662641Z",
     "iopub.status.busy": "2020-11-10T04:09:01.661767Z",
     "iopub.status.idle": "2020-11-10T04:09:01.665108Z",
     "shell.execute_reply": "2020-11-10T04:09:01.664571Z"
    },
    "papermill": {
     "duration": 0.05253,
     "end_time": "2020-11-10T04:09:01.665210",
     "exception": false,
     "start_time": "2020-11-10T04:09:01.612680",
     "status": "completed"
    },
    "tags": []
   },
   "outputs": [],
   "source": [
    "from sklearn.pipeline import Pipeline"
   ]
  },
  {
   "cell_type": "code",
   "execution_count": 32,
   "metadata": {
    "execution": {
     "iopub.execute_input": "2020-11-10T04:09:01.761586Z",
     "iopub.status.busy": "2020-11-10T04:09:01.760692Z",
     "iopub.status.idle": "2020-11-10T04:09:01.763596Z",
     "shell.execute_reply": "2020-11-10T04:09:01.762960Z"
    },
    "papermill": {
     "duration": 0.052644,
     "end_time": "2020-11-10T04:09:01.763690",
     "exception": false,
     "start_time": "2020-11-10T04:09:01.711046",
     "status": "completed"
    },
    "tags": []
   },
   "outputs": [],
   "source": [
    "data_prep_pipe = Pipeline([('get_tokens', tokens), ('text_2_sequence', text_2_seq), ('padding', pad)])"
   ]
  },
  {
   "cell_type": "code",
   "execution_count": 33,
   "metadata": {
    "execution": {
     "iopub.execute_input": "2020-11-10T04:09:01.897430Z",
     "iopub.status.busy": "2020-11-10T04:09:01.887081Z",
     "iopub.status.idle": "2020-11-10T04:10:22.452046Z",
     "shell.execute_reply": "2020-11-10T04:10:22.451500Z"
    },
    "papermill": {
     "duration": 80.641672,
     "end_time": "2020-11-10T04:10:22.452163",
     "exception": false,
     "start_time": "2020-11-10T04:09:01.810491",
     "status": "completed"
    },
    "tags": []
   },
   "outputs": [],
   "source": [
    "X_train = data_prep_pipe.fit_transform(sent_oversample_corpus)"
   ]
  },
  {
   "cell_type": "markdown",
   "metadata": {
    "papermill": {
     "duration": 0.046163,
     "end_time": "2020-11-10T04:10:22.547754",
     "exception": false,
     "start_time": "2020-11-10T04:10:22.501591",
     "status": "completed"
    },
    "tags": []
   },
   "source": [
    "## Training"
   ]
  },
  {
   "cell_type": "markdown",
   "metadata": {
    "papermill": {
     "duration": 0.046816,
     "end_time": "2020-11-10T04:10:22.641465",
     "exception": false,
     "start_time": "2020-11-10T04:10:22.594649",
     "status": "completed"
    },
    "tags": []
   },
   "source": [
    "#### Word2Vec"
   ]
  },
  {
   "cell_type": "code",
   "execution_count": 34,
   "metadata": {
    "execution": {
     "iopub.execute_input": "2020-11-10T04:10:22.739599Z",
     "iopub.status.busy": "2020-11-10T04:10:22.738842Z",
     "iopub.status.idle": "2020-11-10T04:10:22.920705Z",
     "shell.execute_reply": "2020-11-10T04:10:22.920004Z"
    },
    "papermill": {
     "duration": 0.23335,
     "end_time": "2020-11-10T04:10:22.920831",
     "exception": false,
     "start_time": "2020-11-10T04:10:22.687481",
     "status": "completed"
    },
    "tags": []
   },
   "outputs": [],
   "source": [
    "from gensim.models import Word2Vec # importing Word2Vec"
   ]
  },
  {
   "cell_type": "code",
   "execution_count": 35,
   "metadata": {
    "execution": {
     "iopub.execute_input": "2020-11-10T04:10:23.048312Z",
     "iopub.status.busy": "2020-11-10T04:10:23.038005Z",
     "iopub.status.idle": "2020-11-10T04:11:31.024699Z",
     "shell.execute_reply": "2020-11-10T04:11:31.023495Z"
    },
    "papermill": {
     "duration": 68.051519,
     "end_time": "2020-11-10T04:11:31.024838",
     "exception": false,
     "start_time": "2020-11-10T04:10:22.973319",
     "status": "completed"
    },
    "tags": []
   },
   "outputs": [],
   "source": [
    "list_of_lists_tokens = GetTokens(list_of_lists=True)\n",
    "sent_oversample_corpus2 = list_of_lists_tokens.fit_transform(sent_oversample_corpus)"
   ]
  },
  {
   "cell_type": "code",
   "execution_count": 36,
   "metadata": {
    "execution": {
     "iopub.execute_input": "2020-11-10T04:11:31.166763Z",
     "iopub.status.busy": "2020-11-10T04:11:31.146410Z",
     "iopub.status.idle": "2020-11-10T04:13:26.094646Z",
     "shell.execute_reply": "2020-11-10T04:13:26.093078Z"
    },
    "papermill": {
     "duration": 115.023787,
     "end_time": "2020-11-10T04:13:26.094800",
     "exception": false,
     "start_time": "2020-11-10T04:11:31.071013",
     "status": "completed"
    },
    "tags": []
   },
   "outputs": [],
   "source": [
    "# trains sent_oversample_corpus2 on Word2Vec. For sent_oversample_corpus2, min_count of 5 and iter (epoch) of 10 \n",
    "# seems to be the best\n",
    "sent_w2v_model = Word2Vec(sent_oversample_corpus2, size=300, min_count=1, iter=10)"
   ]
  },
  {
   "cell_type": "code",
   "execution_count": 37,
   "metadata": {
    "execution": {
     "iopub.execute_input": "2020-11-10T04:13:26.198059Z",
     "iopub.status.busy": "2020-11-10T04:13:26.196271Z",
     "iopub.status.idle": "2020-11-10T04:13:26.198845Z",
     "shell.execute_reply": "2020-11-10T04:13:26.199320Z"
    },
    "papermill": {
     "duration": 0.056788,
     "end_time": "2020-11-10T04:13:26.199456",
     "exception": false,
     "start_time": "2020-11-10T04:13:26.142668",
     "status": "completed"
    },
    "tags": []
   },
   "outputs": [],
   "source": [
    "def get_embedding_matrix(model, word_index):\n",
    "    vocab_size = len(word_index) + 1\n",
    "    embedding_dim = model.wv.vector_size\n",
    "    embedding_matrix = np.zeros((vocab_size, embedding_dim))\n",
    "    \n",
    "    for word in model.wv.vocab:\n",
    "        ind = word_index[word]\n",
    "        embedding_matrix[ind] = model[word]\n",
    "        \n",
    "    return embedding_matrix"
   ]
  },
  {
   "cell_type": "code",
   "execution_count": 38,
   "metadata": {
    "execution": {
     "iopub.execute_input": "2020-11-10T04:13:26.303600Z",
     "iopub.status.busy": "2020-11-10T04:13:26.295717Z",
     "iopub.status.idle": "2020-11-10T04:13:26.713705Z",
     "shell.execute_reply": "2020-11-10T04:13:26.714223Z"
    },
    "papermill": {
     "duration": 0.469171,
     "end_time": "2020-11-10T04:13:26.714397",
     "exception": false,
     "start_time": "2020-11-10T04:13:26.245226",
     "status": "completed"
    },
    "tags": []
   },
   "outputs": [],
   "source": [
    "words_indices = data_prep_pipe.named_steps['text_2_sequence'].words_indices\n",
    "embedding_matrix = get_embedding_matrix(sent_w2v_model, words_indices)"
   ]
  },
  {
   "cell_type": "code",
   "execution_count": 39,
   "metadata": {
    "execution": {
     "iopub.execute_input": "2020-11-10T04:13:26.813827Z",
     "iopub.status.busy": "2020-11-10T04:13:26.812943Z",
     "iopub.status.idle": "2020-11-10T04:13:26.815645Z",
     "shell.execute_reply": "2020-11-10T04:13:26.816119Z"
    },
    "papermill": {
     "duration": 0.053405,
     "end_time": "2020-11-10T04:13:26.816242",
     "exception": false,
     "start_time": "2020-11-10T04:13:26.762837",
     "status": "completed"
    },
    "tags": []
   },
   "outputs": [],
   "source": [
    "from sklearn.utils import class_weight"
   ]
  },
  {
   "cell_type": "code",
   "execution_count": 40,
   "metadata": {
    "execution": {
     "iopub.execute_input": "2020-11-10T04:13:26.963519Z",
     "iopub.status.busy": "2020-11-10T04:13:26.962510Z",
     "iopub.status.idle": "2020-11-10T04:13:26.976321Z",
     "shell.execute_reply": "2020-11-10T04:13:26.976816Z"
    },
    "papermill": {
     "duration": 0.113262,
     "end_time": "2020-11-10T04:13:26.976942",
     "exception": false,
     "start_time": "2020-11-10T04:13:26.863680",
     "status": "completed"
    },
    "tags": []
   },
   "outputs": [],
   "source": [
    "class_weights = class_weight.compute_class_weight('balanced', np.arange(20), encoded_labels)\n",
    "class_weights = dict(enumerate(class_weights))"
   ]
  },
  {
   "cell_type": "code",
   "execution_count": 41,
   "metadata": {
    "execution": {
     "iopub.execute_input": "2020-11-10T04:13:27.077900Z",
     "iopub.status.busy": "2020-11-10T04:13:27.077119Z",
     "iopub.status.idle": "2020-11-10T04:13:27.080196Z",
     "shell.execute_reply": "2020-11-10T04:13:27.079688Z"
    },
    "papermill": {
     "duration": 0.055616,
     "end_time": "2020-11-10T04:13:27.080317",
     "exception": false,
     "start_time": "2020-11-10T04:13:27.024701",
     "status": "completed"
    },
    "tags": []
   },
   "outputs": [],
   "source": [
    "# importing deep learning libraries\n",
    "from tensorflow.keras.layers import Embedding, Dense, GlobalMaxPool1D, Conv1D, Dropout\n",
    "from tensorflow.keras.models import Sequential\n",
    "from tensorflow.keras.wrappers.scikit_learn import KerasClassifier"
   ]
  },
  {
   "cell_type": "markdown",
   "metadata": {
    "papermill": {
     "duration": 0.047231,
     "end_time": "2020-11-10T04:13:27.175966",
     "exception": false,
     "start_time": "2020-11-10T04:13:27.128735",
     "status": "completed"
    },
    "tags": []
   },
   "source": [
    "#### Model"
   ]
  },
  {
   "cell_type": "code",
   "execution_count": 42,
   "metadata": {
    "execution": {
     "iopub.execute_input": "2020-11-10T04:13:27.282647Z",
     "iopub.status.busy": "2020-11-10T04:13:27.281913Z",
     "iopub.status.idle": "2020-11-10T04:13:27.286298Z",
     "shell.execute_reply": "2020-11-10T04:13:27.285708Z"
    },
    "papermill": {
     "duration": 0.063107,
     "end_time": "2020-11-10T04:13:27.286435",
     "exception": false,
     "start_time": "2020-11-10T04:13:27.223328",
     "status": "completed"
    },
    "tags": []
   },
   "outputs": [],
   "source": [
    "def multi_class_fbeta(ytrue , ypred, beta=1, weighted=True, raw=False, epsilon=1e-7):\n",
    "    beta_squared = beta**2\n",
    "\n",
    "    ytrue = tf.cast(ytrue, tf.float32)\n",
    "    ypred= tf.cast(ypred, tf.float32)\n",
    "    \n",
    "    max_prob = tf.reduce_max(ypred, axis=-1, keepdims=True)\n",
    "    ypred = tf.cast(tf.equal(ypred, max_prob), tf.float32)\n",
    "        \n",
    "    tp = tf.reduce_sum(ytrue*ypred, axis=0)\n",
    "    predicted_positive = tf.reduce_sum(ypred, axis=0)\n",
    "    actual_positive = tf.reduce_sum(ytrue, axis=0)\n",
    "    \n",
    "    precision = tp/(predicted_positive+epsilon)\n",
    "    recall = tp/(actual_positive+epsilon)\n",
    "    \n",
    "    fb = (1+beta_squared)*precision*recall / (beta_squared*precision + recall + epsilon)\n",
    "    \n",
    "    if raw:\n",
    "        return fb\n",
    "    \n",
    "    if weighted:\n",
    "        supports = tf.reduce_sum(ytrue, axis=0)\n",
    "        return tf.reduce_sum(fb*supports / tf.reduce_sum(supports))\n",
    "\n",
    "    return tf.reduce_mean(fb)"
   ]
  },
  {
   "cell_type": "code",
   "execution_count": 43,
   "metadata": {
    "execution": {
     "iopub.execute_input": "2020-11-10T04:13:27.423250Z",
     "iopub.status.busy": "2020-11-10T04:13:27.422617Z",
     "iopub.status.idle": "2020-11-10T04:13:27.427049Z",
     "shell.execute_reply": "2020-11-10T04:13:27.426340Z"
    },
    "papermill": {
     "duration": 0.094523,
     "end_time": "2020-11-10T04:13:27.427164",
     "exception": false,
     "start_time": "2020-11-10T04:13:27.332641",
     "status": "completed"
    },
    "tags": []
   },
   "outputs": [],
   "source": [
    "input_length = X_train.shape[1]"
   ]
  },
  {
   "cell_type": "code",
   "execution_count": 44,
   "metadata": {
    "execution": {
     "iopub.execute_input": "2020-11-10T04:13:27.531496Z",
     "iopub.status.busy": "2020-11-10T04:13:27.529779Z",
     "iopub.status.idle": "2020-11-10T04:13:27.532496Z",
     "shell.execute_reply": "2020-11-10T04:13:27.533008Z"
    },
    "papermill": {
     "duration": 0.059745,
     "end_time": "2020-11-10T04:13:27.533119",
     "exception": false,
     "start_time": "2020-11-10T04:13:27.473374",
     "status": "completed"
    },
    "tags": []
   },
   "outputs": [],
   "source": [
    "def build_cnn_model():\n",
    "    model = Sequential()\n",
    "    model.add(Embedding(embedding_matrix.shape[0], embedding_matrix.shape[1], \n",
    "                           weights=[embedding_matrix], \n",
    "                           input_length=input_length, \n",
    "                           trainable=False))\n",
    "    \n",
    "    model.add(Conv1D(128, 3, activation='relu'))\n",
    "    model.add(Conv1D(128, 3, activation='relu'))\n",
    "    \n",
    "    model.add(GlobalMaxPool1D())\n",
    "    \n",
    "    model.add(Dropout(0.2))\n",
    "    \n",
    "    model.add(Dense(20, activation='softmax'))\n",
    "\n",
    "    model.compile(optimizer='adam',\n",
    "              loss='categorical_crossentropy',\n",
    "              metrics=['accuracy', multi_class_fbeta])\n",
    "\n",
    "    return model"
   ]
  },
  {
   "cell_type": "code",
   "execution_count": 45,
   "metadata": {
    "execution": {
     "iopub.execute_input": "2020-11-10T04:13:27.633246Z",
     "iopub.status.busy": "2020-11-10T04:13:27.632621Z",
     "iopub.status.idle": "2020-11-10T04:13:27.635516Z",
     "shell.execute_reply": "2020-11-10T04:13:27.636048Z"
    },
    "papermill": {
     "duration": 0.055259,
     "end_time": "2020-11-10T04:13:27.636170",
     "exception": false,
     "start_time": "2020-11-10T04:13:27.580911",
     "status": "completed"
    },
    "tags": []
   },
   "outputs": [],
   "source": [
    "# build model\n",
    "cnn_model = KerasClassifier(build_fn=build_cnn_model, epochs=5, batch_size=128, class_weight=class_weights, \\\n",
    "                        verbose=0) "
   ]
  },
  {
   "cell_type": "code",
   "execution_count": 46,
   "metadata": {
    "execution": {
     "iopub.execute_input": "2020-11-10T04:13:27.739879Z",
     "iopub.status.busy": "2020-11-10T04:13:27.738885Z",
     "iopub.status.idle": "2020-11-10T04:13:27.742293Z",
     "shell.execute_reply": "2020-11-10T04:13:27.741617Z"
    },
    "papermill": {
     "duration": 0.058252,
     "end_time": "2020-11-10T04:13:27.742413",
     "exception": false,
     "start_time": "2020-11-10T04:13:27.684161",
     "status": "completed"
    },
    "tags": []
   },
   "outputs": [],
   "source": [
    "model = Pipeline([('data_prep', data_prep_pipe), ('model', cnn_model)], verbose=0)"
   ]
  },
  {
   "cell_type": "code",
   "execution_count": 47,
   "metadata": {
    "execution": {
     "iopub.execute_input": "2020-11-10T04:13:27.893593Z",
     "iopub.status.busy": "2020-11-10T04:13:27.888501Z",
     "iopub.status.idle": "2020-11-10T04:15:33.097059Z",
     "shell.execute_reply": "2020-11-10T04:15:33.097611Z"
    },
    "papermill": {
     "duration": 125.302526,
     "end_time": "2020-11-10T04:15:33.097789",
     "exception": false,
     "start_time": "2020-11-10T04:13:27.795263",
     "status": "completed"
    },
    "tags": []
   },
   "outputs": [
    {
     "data": {
      "text/plain": [
       "Pipeline(steps=[('data_prep',\n",
       "                 Pipeline(steps=[('get_tokens', GetTokens()),\n",
       "                                 ('text_2_sequence', Text2Sequence()),\n",
       "                                 ('padding', Padding())])),\n",
       "                ('model',\n",
       "                 <tensorflow.python.keras.wrappers.scikit_learn.KerasClassifier object at 0x7f45585e1210>)],\n",
       "         verbose=0)"
      ]
     },
     "execution_count": 47,
     "metadata": {},
     "output_type": "execute_result"
    }
   ],
   "source": [
    "model.fit(sent_oversample_corpus, encoded_labels)"
   ]
  },
  {
   "cell_type": "markdown",
   "metadata": {
    "papermill": {
     "duration": 0.048442,
     "end_time": "2020-11-10T04:15:33.196640",
     "exception": false,
     "start_time": "2020-11-10T04:15:33.148198",
     "status": "completed"
    },
    "tags": []
   },
   "source": [
    "## Prediction"
   ]
  },
  {
   "cell_type": "markdown",
   "metadata": {
    "papermill": {
     "duration": 0.04808,
     "end_time": "2020-11-10T04:15:33.294093",
     "exception": false,
     "start_time": "2020-11-10T04:15:33.246013",
     "status": "completed"
    },
    "tags": []
   },
   "source": [
    "### Note: lines of code starting with a triple '#' should be uncommented when running the deployment. I commented them out with a triple '#' in this notebook so they would be run in my notebook."
   ]
  },
  {
   "cell_type": "code",
   "execution_count": 48,
   "metadata": {
    "execution": {
     "iopub.execute_input": "2020-11-10T04:15:33.396658Z",
     "iopub.status.busy": "2020-11-10T04:15:33.394854Z",
     "iopub.status.idle": "2020-11-10T04:15:33.397560Z",
     "shell.execute_reply": "2020-11-10T04:15:33.398193Z"
    },
    "papermill": {
     "duration": 0.055477,
     "end_time": "2020-11-10T04:15:33.398316",
     "exception": false,
     "start_time": "2020-11-10T04:15:33.342839",
     "status": "completed"
    },
    "tags": []
   },
   "outputs": [],
   "source": [
    "### users_input = user's description will be inputed here as a string enclosed with double quotes and not single"
   ]
  },
  {
   "cell_type": "code",
   "execution_count": 49,
   "metadata": {
    "execution": {
     "iopub.execute_input": "2020-11-10T04:15:33.500378Z",
     "iopub.status.busy": "2020-11-10T04:15:33.499715Z",
     "iopub.status.idle": "2020-11-10T04:15:33.503407Z",
     "shell.execute_reply": "2020-11-10T04:15:33.504020Z"
    },
    "papermill": {
     "duration": 0.057085,
     "end_time": "2020-11-10T04:15:33.504143",
     "exception": false,
     "start_time": "2020-11-10T04:15:33.447058",
     "status": "completed"
    },
    "tags": []
   },
   "outputs": [],
   "source": [
    "# predicting user's description\n",
    "### pred = model.predict([users_input])\n",
    "\n",
    "#printing the prediction (variety) of the user's description\n",
    "### print(sent_oversample_le.inverse_transform(pred)[0])"
   ]
  },
  {
   "cell_type": "markdown",
   "metadata": {
    "papermill": {
     "duration": 0.049044,
     "end_time": "2020-11-10T04:15:33.601430",
     "exception": false,
     "start_time": "2020-11-10T04:15:33.552386",
     "status": "completed"
    },
    "tags": []
   },
   "source": [
    "# Note: lines of code below are for demostration purposes and should not be included in our deployment."
   ]
  },
  {
   "cell_type": "markdown",
   "metadata": {
    "papermill": {
     "duration": 0.048959,
     "end_time": "2020-11-10T04:15:33.699993",
     "exception": false,
     "start_time": "2020-11-10T04:15:33.651034",
     "status": "completed"
    },
    "tags": []
   },
   "source": [
    "### Our model only predicts the top 20 varieties and they are as listed below"
   ]
  },
  {
   "cell_type": "code",
   "execution_count": 50,
   "metadata": {
    "execution": {
     "iopub.execute_input": "2020-11-10T04:15:33.815839Z",
     "iopub.status.busy": "2020-11-10T04:15:33.815011Z",
     "iopub.status.idle": "2020-11-10T04:15:33.824459Z",
     "shell.execute_reply": "2020-11-10T04:15:33.823941Z"
    },
    "papermill": {
     "duration": 0.07524,
     "end_time": "2020-11-10T04:15:33.824553",
     "exception": false,
     "start_time": "2020-11-10T04:15:33.749313",
     "status": "completed"
    },
    "tags": []
   },
   "outputs": [
    {
     "data": {
      "text/plain": [
       "array(['Riesling', 'Pinot Noir', 'Cabernet Sauvignon', 'Chardonnay',\n",
       "       'Red Blend', 'Bordeaux-style Red Blend', 'White Blend',\n",
       "       'Portuguese Red', 'Pinot Gris', 'Malbec', 'Merlot',\n",
       "       'Sauvignon Blanc', 'Sangiovese', 'Rosé', 'Zinfandel', 'Syrah',\n",
       "       'Nebbiolo', 'Rhône-style Red Blend', 'Sparkling Blend',\n",
       "       'Tempranillo'], dtype=object)"
      ]
     },
     "execution_count": 50,
     "metadata": {},
     "output_type": "execute_result"
    }
   ],
   "source": [
    "balanced_df['variety'].unique()"
   ]
  },
  {
   "cell_type": "markdown",
   "metadata": {
    "papermill": {
     "duration": 0.053583,
     "end_time": "2020-11-10T04:15:33.927844",
     "exception": false,
     "start_time": "2020-11-10T04:15:33.874261",
     "status": "completed"
    },
    "tags": []
   },
   "source": [
    "### Let's do a demo prediction of Bordeaux-style Red Blend from a recent review (published 12/1/2020) not in our training set from [wine ethusiast](https://www.winemag.com/buying-guide/alpha-omega-2017-era-red-napa-valley/)"
   ]
  },
  {
   "cell_type": "code",
   "execution_count": 51,
   "metadata": {
    "execution": {
     "iopub.execute_input": "2020-11-10T04:15:34.038895Z",
     "iopub.status.busy": "2020-11-10T04:15:34.038086Z",
     "iopub.status.idle": "2020-11-10T04:15:34.041666Z",
     "shell.execute_reply": "2020-11-10T04:15:34.042144Z"
    },
    "papermill": {
     "duration": 0.059519,
     "end_time": "2020-11-10T04:15:34.042322",
     "exception": false,
     "start_time": "2020-11-10T04:15:33.982803",
     "status": "completed"
    },
    "tags": []
   },
   "outputs": [],
   "source": [
    "user_input = \"Juicy and richly interwoven with a fresh underlay of acidity, \" + \\\n",
    "             \"this powerhouse blend is substantially etched in cassis, plum and red currant. \" + \\\n",
    "             \"The oak and tannin are equally substantial and present, contributing weight, \" + \\\n",
    "             \"breadth and length. This will do well to cellar; enjoy best from 2027–2032\""
   ]
  },
  {
   "cell_type": "markdown",
   "metadata": {
    "papermill": {
     "duration": 0.051798,
     "end_time": "2020-11-10T04:15:34.146309",
     "exception": false,
     "start_time": "2020-11-10T04:15:34.094511",
     "status": "completed"
    },
    "tags": []
   },
   "source": [
    "### Notice the double quotes we used. This is top prevent error should the user's input contain apostrophe."
   ]
  },
  {
   "cell_type": "code",
   "execution_count": 52,
   "metadata": {
    "execution": {
     "iopub.execute_input": "2020-11-10T04:15:34.257323Z",
     "iopub.status.busy": "2020-11-10T04:15:34.256474Z",
     "iopub.status.idle": "2020-11-10T04:15:34.260316Z",
     "shell.execute_reply": "2020-11-10T04:15:34.260823Z"
    },
    "papermill": {
     "duration": 0.062189,
     "end_time": "2020-11-10T04:15:34.260942",
     "exception": false,
     "start_time": "2020-11-10T04:15:34.198753",
     "status": "completed"
    },
    "tags": []
   },
   "outputs": [
    {
     "data": {
      "text/plain": [
       "'Juicy and richly interwoven with a fresh underlay of acidity, this powerhouse blend is substantially etched in cassis, plum and red currant. The oak and tannin are equally substantial and present, contributing weight, breadth and length. This will do well to cellar; enjoy best from 2027–2032'"
      ]
     },
     "execution_count": 52,
     "metadata": {},
     "output_type": "execute_result"
    }
   ],
   "source": [
    "user_input"
   ]
  },
  {
   "cell_type": "code",
   "execution_count": 53,
   "metadata": {
    "execution": {
     "iopub.execute_input": "2020-11-10T04:15:34.422847Z",
     "iopub.status.busy": "2020-11-10T04:15:34.421929Z",
     "iopub.status.idle": "2020-11-10T04:15:34.584598Z",
     "shell.execute_reply": "2020-11-10T04:15:34.585132Z"
    },
    "papermill": {
     "duration": 0.2761,
     "end_time": "2020-11-10T04:15:34.585314",
     "exception": false,
     "start_time": "2020-11-10T04:15:34.309214",
     "status": "completed"
    },
    "tags": []
   },
   "outputs": [
    {
     "name": "stdout",
     "output_type": "stream",
     "text": [
      "Bordeaux-style Red Blend\n"
     ]
    }
   ],
   "source": [
    "# predicting user's description\n",
    "pred = model.predict([user_input])\n",
    "\n",
    "#printing the prediction (variety) of the user's description\n",
    "print(sent_oversample_le.inverse_transform(pred)[0])"
   ]
  },
  {
   "cell_type": "markdown",
   "metadata": {
    "papermill": {
     "duration": 0.05268,
     "end_time": "2020-11-10T04:15:34.688762",
     "exception": false,
     "start_time": "2020-11-10T04:15:34.636082",
     "status": "completed"
    },
    "tags": []
   },
   "source": [
    "### ...and voila, our model's prediction was as good as right!"
   ]
  }
 ],
 "metadata": {
  "kernelspec": {
   "display_name": "Python 3",
   "language": "python",
   "name": "python3"
  },
  "language_info": {
   "codemirror_mode": {
    "name": "ipython",
    "version": 3
   },
   "file_extension": ".py",
   "mimetype": "text/x-python",
   "name": "python",
   "nbconvert_exporter": "python",
   "pygments_lexer": "ipython3",
   "version": "3.7.6"
  },
  "papermill": {
   "duration": 430.675991,
   "end_time": "2020-11-10T04:15:36.668166",
   "environment_variables": {},
   "exception": null,
   "input_path": "__notebook__.ipynb",
   "output_path": "__notebook__.ipynb",
   "parameters": {},
   "start_time": "2020-11-10T04:08:25.992175",
   "version": "2.1.0"
  }
 },
 "nbformat": 4,
 "nbformat_minor": 4
}
