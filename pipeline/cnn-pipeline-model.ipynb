{
 "cells": [
  {
   "cell_type": "markdown",
   "metadata": {
    "_cell_guid": "79c7e3d0-c299-4dcb-8224-4455121ee9b0",
    "_uuid": "d629ff2d2480ee46fbb7e2d37f6b5fab8052498a",
    "collapsed": true,
    "papermill": {
     "duration": 0.037392,
     "end_time": "2020-11-11T19:46:00.577057",
     "exception": false,
     "start_time": "2020-11-11T19:46:00.539665",
     "status": "completed"
    },
    "tags": []
   },
   "source": [
    "## 1.0 Getting Data"
   ]
  },
  {
   "cell_type": "code",
   "execution_count": 1,
   "metadata": {
    "execution": {
     "iopub.execute_input": "2020-11-11T19:46:00.661788Z",
     "iopub.status.busy": "2020-11-11T19:46:00.660937Z",
     "iopub.status.idle": "2020-11-11T19:46:01.528909Z",
     "shell.execute_reply": "2020-11-11T19:46:01.527235Z"
    },
    "papermill": {
     "duration": 0.914437,
     "end_time": "2020-11-11T19:46:01.529061",
     "exception": false,
     "start_time": "2020-11-11T19:46:00.614624",
     "status": "completed"
    },
    "tags": []
   },
   "outputs": [],
   "source": [
    "# importing useful libraries\n",
    "import numpy as np\n",
    "import pandas as pd\n",
    "import matplotlib.pyplot as plt\n",
    "import seaborn as sns\n",
    "\n",
    "import warnings\n",
    "warnings.filterwarnings('ignore')\n",
    "\n",
    "%matplotlib inline"
   ]
  },
  {
   "cell_type": "markdown",
   "metadata": {
    "papermill": {
     "duration": 0.038536,
     "end_time": "2020-11-11T19:46:01.606478",
     "exception": false,
     "start_time": "2020-11-11T19:46:01.567942",
     "status": "completed"
    },
    "tags": []
   },
   "source": [
    "### Downloading the data from our github repository"
   ]
  },
  {
   "cell_type": "code",
   "execution_count": 2,
   "metadata": {
    "execution": {
     "iopub.execute_input": "2020-11-11T19:46:01.688165Z",
     "iopub.status.busy": "2020-11-11T19:46:01.686567Z",
     "iopub.status.idle": "2020-11-11T19:46:01.689423Z",
     "shell.execute_reply": "2020-11-11T19:46:01.690005Z"
    },
    "papermill": {
     "duration": 0.046039,
     "end_time": "2020-11-11T19:46:01.690130",
     "exception": false,
     "start_time": "2020-11-11T19:46:01.644091",
     "status": "completed"
    },
    "tags": []
   },
   "outputs": [],
   "source": [
    "url1 = 'https://raw.github.com/HamoyeHQ/stage-f-06-wine-tasting/master/data/top_40_varieties.zip'\n",
    "url2 = 'https://raw.github.com/HamoyeHQ/stage-f-06-wine-tasting/master/data/top_varieties_count.csv'"
   ]
  },
  {
   "cell_type": "code",
   "execution_count": 3,
   "metadata": {
    "execution": {
     "iopub.execute_input": "2020-11-11T19:46:01.779858Z",
     "iopub.status.busy": "2020-11-11T19:46:01.779162Z",
     "iopub.status.idle": "2020-11-11T19:46:03.891982Z",
     "shell.execute_reply": "2020-11-11T19:46:03.890859Z"
    },
    "papermill": {
     "duration": 2.164793,
     "end_time": "2020-11-11T19:46:03.892106",
     "exception": false,
     "start_time": "2020-11-11T19:46:01.727313",
     "status": "completed"
    },
    "tags": []
   },
   "outputs": [],
   "source": [
    "top_40_varieties = pd.read_csv(url1)\n",
    "top_varieties_count = pd.read_csv(url2)"
   ]
  },
  {
   "cell_type": "code",
   "execution_count": 4,
   "metadata": {
    "execution": {
     "iopub.execute_input": "2020-11-11T19:46:03.990394Z",
     "iopub.status.busy": "2020-11-11T19:46:03.988673Z",
     "iopub.status.idle": "2020-11-11T19:46:04.054036Z",
     "shell.execute_reply": "2020-11-11T19:46:04.053476Z"
    },
    "papermill": {
     "duration": 0.124528,
     "end_time": "2020-11-11T19:46:04.054161",
     "exception": false,
     "start_time": "2020-11-11T19:46:03.929633",
     "status": "completed"
    },
    "tags": []
   },
   "outputs": [],
   "source": [
    "# replacing every occurence of 'US' in country with 'United States of America'\n",
    "top_40_varieties['country'].replace('US', 'United States of America', inplace=True)\n",
    "\n",
    "# replacing every occurence of 'US' in not_vintage with 'United States of America'\n",
    "top_40_varieties['not_vintage'] = top_40_varieties['not_vintage'].apply(lambda x: x.replace(\\\n",
    "                                                                        'US', 'United States of America'))"
   ]
  },
  {
   "cell_type": "code",
   "execution_count": 5,
   "metadata": {
    "execution": {
     "iopub.execute_input": "2020-11-11T19:46:04.140296Z",
     "iopub.status.busy": "2020-11-11T19:46:04.138301Z",
     "iopub.status.idle": "2020-11-11T19:46:04.141027Z",
     "shell.execute_reply": "2020-11-11T19:46:04.141551Z"
    },
    "papermill": {
     "duration": 0.050546,
     "end_time": "2020-11-11T19:46:04.141672",
     "exception": false,
     "start_time": "2020-11-11T19:46:04.091126",
     "status": "completed"
    },
    "tags": []
   },
   "outputs": [],
   "source": [
    "# renaming the columns in top_varieties_count\n",
    "top_varieties_count = top_varieties_count.rename(columns={'variety': 'count', 'Unnamed: 0': 'variety'})\n",
    "top_varieties_count = top_varieties_count.set_index('variety') # setting the index\n",
    "top_varieties_count = top_varieties_count['count'] # making it a Series"
   ]
  },
  {
   "cell_type": "code",
   "execution_count": 6,
   "metadata": {
    "execution": {
     "iopub.execute_input": "2020-11-11T19:46:04.231906Z",
     "iopub.status.busy": "2020-11-11T19:46:04.231076Z",
     "iopub.status.idle": "2020-11-11T19:46:04.258457Z",
     "shell.execute_reply": "2020-11-11T19:46:04.257851Z"
    },
    "papermill": {
     "duration": 0.079394,
     "end_time": "2020-11-11T19:46:04.258581",
     "exception": false,
     "start_time": "2020-11-11T19:46:04.179187",
     "status": "completed"
    },
    "tags": []
   },
   "outputs": [],
   "source": [
    "top = 20 # selecting top 20 varities as our working varieties. note 1 < n <= 40\n",
    "\n",
    "# making a datframe of our selecting top n varieties\n",
    "top_df = top_40_varieties[top_40_varieties['variety'].isin(top_varieties_count.iloc[:top].index)]"
   ]
  },
  {
   "cell_type": "code",
   "execution_count": 7,
   "metadata": {
    "execution": {
     "iopub.execute_input": "2020-11-11T19:46:04.341173Z",
     "iopub.status.busy": "2020-11-11T19:46:04.340402Z",
     "iopub.status.idle": "2020-11-11T19:46:04.374944Z",
     "shell.execute_reply": "2020-11-11T19:46:04.374335Z"
    },
    "papermill": {
     "duration": 0.07782,
     "end_time": "2020-11-11T19:46:04.375060",
     "exception": false,
     "start_time": "2020-11-11T19:46:04.297240",
     "status": "completed"
    },
    "tags": []
   },
   "outputs": [],
   "source": [
    "# threshold of miniority variety to over sample (use sentences as document instead of the whole description)\n",
    "minority_threshold = 5000 \n",
    "\n",
    "# making a dataframe of the miniority classes\n",
    "minority_df = top_df[top_df['variety'].isin(top_varieties_count[top_varieties_count < \\\n",
    "                                                                      minority_threshold].index)]"
   ]
  },
  {
   "cell_type": "code",
   "execution_count": 8,
   "metadata": {
    "execution": {
     "iopub.execute_input": "2020-11-11T19:46:04.457340Z",
     "iopub.status.busy": "2020-11-11T19:46:04.456542Z",
     "iopub.status.idle": "2020-11-11T19:46:05.388784Z",
     "shell.execute_reply": "2020-11-11T19:46:05.388086Z"
    },
    "papermill": {
     "duration": 0.975377,
     "end_time": "2020-11-11T19:46:05.388914",
     "exception": false,
     "start_time": "2020-11-11T19:46:04.413537",
     "status": "completed"
    },
    "tags": []
   },
   "outputs": [],
   "source": [
    "from nltk.tokenize import sent_tokenize # importing useful library"
   ]
  },
  {
   "cell_type": "code",
   "execution_count": 9,
   "metadata": {
    "execution": {
     "iopub.execute_input": "2020-11-11T19:46:05.499669Z",
     "iopub.status.busy": "2020-11-11T19:46:05.498844Z",
     "iopub.status.idle": "2020-11-11T19:46:05.508428Z",
     "shell.execute_reply": "2020-11-11T19:46:05.509532Z"
    },
    "papermill": {
     "duration": 0.077456,
     "end_time": "2020-11-11T19:46:05.509705",
     "exception": false,
     "start_time": "2020-11-11T19:46:05.432249",
     "status": "completed"
    },
    "tags": []
   },
   "outputs": [],
   "source": [
    "oversampled_miniority_lst = [] # empty list to store sentences as tokens miniority corpus\n",
    "\n",
    "# creating a function to use sentences as tokens for the miniority classes\n",
    "def over_sample_miniority(row):\n",
    "    doc_list = sent_tokenize(row['description'])\n",
    "    for sent in doc_list:\n",
    "        row['description'] = sent\n",
    "        oversampled_miniority_lst.append(list(row))"
   ]
  },
  {
   "cell_type": "code",
   "execution_count": 10,
   "metadata": {
    "execution": {
     "iopub.execute_input": "2020-11-11T19:46:05.626421Z",
     "iopub.status.busy": "2020-11-11T19:46:05.625490Z",
     "iopub.status.idle": "2020-11-11T19:46:15.328940Z",
     "shell.execute_reply": "2020-11-11T19:46:15.327813Z"
    },
    "papermill": {
     "duration": 9.769063,
     "end_time": "2020-11-11T19:46:15.329077",
     "exception": false,
     "start_time": "2020-11-11T19:46:05.560014",
     "status": "completed"
    },
    "tags": []
   },
   "outputs": [],
   "source": [
    "minority_df.apply(over_sample_miniority, axis=1); # over sample the miniority classes"
   ]
  },
  {
   "cell_type": "code",
   "execution_count": 11,
   "metadata": {
    "execution": {
     "iopub.execute_input": "2020-11-11T19:46:15.413065Z",
     "iopub.status.busy": "2020-11-11T19:46:15.412080Z",
     "iopub.status.idle": "2020-11-11T19:46:15.628052Z",
     "shell.execute_reply": "2020-11-11T19:46:15.627449Z"
    },
    "papermill": {
     "duration": 0.259073,
     "end_time": "2020-11-11T19:46:15.628165",
     "exception": false,
     "start_time": "2020-11-11T19:46:15.369092",
     "status": "completed"
    },
    "tags": []
   },
   "outputs": [],
   "source": [
    "# converts oversampled_miniority_lst to a dataframe\n",
    "oversampled_miniority_df = pd.DataFrame(oversampled_miniority_lst, columns=minority_df.columns)"
   ]
  },
  {
   "cell_type": "code",
   "execution_count": 12,
   "metadata": {
    "execution": {
     "iopub.execute_input": "2020-11-11T19:46:15.722639Z",
     "iopub.status.busy": "2020-11-11T19:46:15.721569Z",
     "iopub.status.idle": "2020-11-11T19:46:15.945253Z",
     "shell.execute_reply": "2020-11-11T19:46:15.944665Z"
    },
    "papermill": {
     "duration": 0.278326,
     "end_time": "2020-11-11T19:46:15.945400",
     "exception": false,
     "start_time": "2020-11-11T19:46:15.667074",
     "status": "completed"
    },
    "tags": []
   },
   "outputs": [],
   "source": [
    "# selecting majority classes as a dataframe to concatenate to oversampled_miniority_lst\n",
    "majority_df = top_df[top_df['variety'].isin(\\\n",
    "                                        top_varieties_count[top_varieties_count >= minority_threshold].index)]\n",
    "\n",
    "# concatenates majority_df to oversampled_miniority_lst\n",
    "balanced_df = pd.concat([majority_df, oversampled_miniority_df]) \n",
    "balanced_df = balanced_df.reset_index().drop('index', axis=1) # resets index"
   ]
  },
  {
   "cell_type": "code",
   "execution_count": 13,
   "metadata": {
    "execution": {
     "iopub.execute_input": "2020-11-11T19:46:16.066660Z",
     "iopub.status.busy": "2020-11-11T19:46:16.064755Z",
     "iopub.status.idle": "2020-11-11T19:46:16.068906Z",
     "shell.execute_reply": "2020-11-11T19:46:16.069353Z"
    },
    "papermill": {
     "duration": 0.085909,
     "end_time": "2020-11-11T19:46:16.069508",
     "exception": false,
     "start_time": "2020-11-11T19:46:15.983599",
     "status": "completed"
    },
    "tags": []
   },
   "outputs": [],
   "source": [
    "balanced_variety = balanced_df['variety'].value_counts() # gets a Series of the variety count in balanced_df"
   ]
  },
  {
   "cell_type": "code",
   "execution_count": 14,
   "metadata": {
    "execution": {
     "iopub.execute_input": "2020-11-11T19:46:16.152068Z",
     "iopub.status.busy": "2020-11-11T19:46:16.151209Z",
     "iopub.status.idle": "2020-11-11T19:46:16.153894Z",
     "shell.execute_reply": "2020-11-11T19:46:16.154416Z"
    },
    "papermill": {
     "duration": 0.044997,
     "end_time": "2020-11-11T19:46:16.154541",
     "exception": false,
     "start_time": "2020-11-11T19:46:16.109544",
     "status": "completed"
    },
    "tags": []
   },
   "outputs": [],
   "source": [
    "# importing useful libraries\n",
    "from sklearn.preprocessing import LabelEncoder, OneHotEncoder"
   ]
  },
  {
   "cell_type": "code",
   "execution_count": 15,
   "metadata": {
    "execution": {
     "iopub.execute_input": "2020-11-11T19:46:16.278816Z",
     "iopub.status.busy": "2020-11-11T19:46:16.258287Z",
     "iopub.status.idle": "2020-11-11T19:46:16.431179Z",
     "shell.execute_reply": "2020-11-11T19:46:16.432594Z"
    },
    "papermill": {
     "duration": 0.238335,
     "end_time": "2020-11-11T19:46:16.432832",
     "exception": false,
     "start_time": "2020-11-11T19:46:16.194497",
     "status": "completed"
    },
    "tags": []
   },
   "outputs": [],
   "source": [
    "# for sentence oversampling\n",
    "sent_oversample_corpus = [doc1 + ' ' + doc2 for doc1, doc2 in zip(\\\n",
    "                                                        balanced_df['description'], balanced_df['not_vintage'])]"
   ]
  },
  {
   "cell_type": "code",
   "execution_count": 16,
   "metadata": {
    "execution": {
     "iopub.execute_input": "2020-11-11T19:46:16.608553Z",
     "iopub.status.busy": "2020-11-11T19:46:16.583069Z",
     "iopub.status.idle": "2020-11-11T19:46:16.613920Z",
     "shell.execute_reply": "2020-11-11T19:46:16.612899Z"
    },
    "papermill": {
     "duration": 0.111608,
     "end_time": "2020-11-11T19:46:16.614074",
     "exception": false,
     "start_time": "2020-11-11T19:46:16.502466",
     "status": "completed"
    },
    "tags": []
   },
   "outputs": [],
   "source": [
    "labels = [label for label in balanced_df['variety']]"
   ]
  },
  {
   "cell_type": "markdown",
   "metadata": {
    "papermill": {
     "duration": 0.113835,
     "end_time": "2020-11-11T19:46:16.808000",
     "exception": false,
     "start_time": "2020-11-11T19:46:16.694165",
     "status": "completed"
    },
    "tags": []
   },
   "source": [
    "## 2.0 Data Preprocessing"
   ]
  },
  {
   "cell_type": "code",
   "execution_count": 17,
   "metadata": {
    "execution": {
     "iopub.execute_input": "2020-11-11T19:46:17.027695Z",
     "iopub.status.busy": "2020-11-11T19:46:17.026775Z",
     "iopub.status.idle": "2020-11-11T19:46:19.535768Z",
     "shell.execute_reply": "2020-11-11T19:46:19.534982Z"
    },
    "papermill": {
     "duration": 2.651203,
     "end_time": "2020-11-11T19:46:19.535898",
     "exception": false,
     "start_time": "2020-11-11T19:46:16.884695",
     "status": "completed"
    },
    "tags": []
   },
   "outputs": [],
   "source": [
    "import spacy"
   ]
  },
  {
   "cell_type": "code",
   "execution_count": 18,
   "metadata": {
    "execution": {
     "iopub.execute_input": "2020-11-11T19:46:19.620791Z",
     "iopub.status.busy": "2020-11-11T19:46:19.620006Z",
     "iopub.status.idle": "2020-11-11T19:46:20.878522Z",
     "shell.execute_reply": "2020-11-11T19:46:20.879023Z"
    },
    "papermill": {
     "duration": 1.303166,
     "end_time": "2020-11-11T19:46:20.879199",
     "exception": false,
     "start_time": "2020-11-11T19:46:19.576033",
     "status": "completed"
    },
    "tags": []
   },
   "outputs": [],
   "source": [
    "# creating a spacy pipeline and disabling tagger, parser and ner to speed up tokenizer\n",
    "nlp = spacy.load('en', disable=['tagger', 'parser', 'ner']) "
   ]
  },
  {
   "cell_type": "code",
   "execution_count": 19,
   "metadata": {
    "execution": {
     "iopub.execute_input": "2020-11-11T19:46:20.967539Z",
     "iopub.status.busy": "2020-11-11T19:46:20.965579Z",
     "iopub.status.idle": "2020-11-11T19:46:20.968246Z",
     "shell.execute_reply": "2020-11-11T19:46:20.968826Z"
    },
    "papermill": {
     "duration": 0.04956,
     "end_time": "2020-11-11T19:46:20.968980",
     "exception": false,
     "start_time": "2020-11-11T19:46:20.919420",
     "status": "completed"
    },
    "tags": []
   },
   "outputs": [],
   "source": [
    "stop_words = spacy.lang.en.STOP_WORDS # getting spacy's stop-words"
   ]
  },
  {
   "cell_type": "code",
   "execution_count": 20,
   "metadata": {
    "execution": {
     "iopub.execute_input": "2020-11-11T19:46:21.070178Z",
     "iopub.status.busy": "2020-11-11T19:46:21.069313Z",
     "iopub.status.idle": "2020-11-11T19:46:21.072112Z",
     "shell.execute_reply": "2020-11-11T19:46:21.071616Z"
    },
    "papermill": {
     "duration": 0.063429,
     "end_time": "2020-11-11T19:46:21.072206",
     "exception": false,
     "start_time": "2020-11-11T19:46:21.008777",
     "status": "completed"
    },
    "tags": []
   },
   "outputs": [],
   "source": [
    "stop_words_lemma = {word.lemma_.lower() for word in nlp(' '.join(stop_words))} | {'-pron-', '10', '12', \n",
    "                    'aah', 'aa', 'ab', 'aaa', 'aand', '16', '2', '20', '30', '4', '40', '5', '6', '7', '8', '9'}"
   ]
  },
  {
   "cell_type": "markdown",
   "metadata": {
    "papermill": {
     "duration": 0.040695,
     "end_time": "2020-11-11T19:46:21.152990",
     "exception": false,
     "start_time": "2020-11-11T19:46:21.112295",
     "status": "completed"
    },
    "tags": []
   },
   "source": [
    "### creating custom transformers to encapsulate our preprocessing"
   ]
  },
  {
   "cell_type": "code",
   "execution_count": 21,
   "metadata": {
    "execution": {
     "iopub.execute_input": "2020-11-11T19:46:21.241620Z",
     "iopub.status.busy": "2020-11-11T19:46:21.240613Z",
     "iopub.status.idle": "2020-11-11T19:46:21.243514Z",
     "shell.execute_reply": "2020-11-11T19:46:21.244088Z"
    },
    "papermill": {
     "duration": 0.049458,
     "end_time": "2020-11-11T19:46:21.244227",
     "exception": false,
     "start_time": "2020-11-11T19:46:21.194769",
     "status": "completed"
    },
    "tags": []
   },
   "outputs": [],
   "source": [
    "from sklearn.base import BaseEstimator, TransformerMixin, ClassifierMixin"
   ]
  },
  {
   "cell_type": "code",
   "execution_count": 22,
   "metadata": {
    "execution": {
     "iopub.execute_input": "2020-11-11T19:46:21.334895Z",
     "iopub.status.busy": "2020-11-11T19:46:21.334042Z",
     "iopub.status.idle": "2020-11-11T19:46:21.336630Z",
     "shell.execute_reply": "2020-11-11T19:46:21.337118Z"
    },
    "papermill": {
     "duration": 0.051514,
     "end_time": "2020-11-11T19:46:21.337238",
     "exception": false,
     "start_time": "2020-11-11T19:46:21.285724",
     "status": "completed"
    },
    "tags": []
   },
   "outputs": [],
   "source": [
    "class GetTokens(BaseEstimator, TransformerMixin):\n",
    "    def __init__(self, stop_words=stop_words_lemma):\n",
    "        self.stop_words = stop_words\n",
    "    \n",
    "    # defining tokenzer function to tokenize the lower case lemma of documents in a corpus and \n",
    "    # filter out stop-words  \n",
    "    def tokenize(self, text):\n",
    "        return [word.lemma_.lower() for word in nlp(text) if word.is_alpha and word.lemma_.lower() \\\n",
    "                not in self.stop_words]\n",
    "\n",
    "    def fit(self, X, y=None):\n",
    "        return self\n",
    "    \n",
    "    def transform(self, X):\n",
    "        self.tokens = [self.tokenize(doc) for doc in X]\n",
    "            \n",
    "        return self.tokens"
   ]
  },
  {
   "cell_type": "code",
   "execution_count": 23,
   "metadata": {
    "execution": {
     "iopub.execute_input": "2020-11-11T19:46:21.426479Z",
     "iopub.status.busy": "2020-11-11T19:46:21.425537Z",
     "iopub.status.idle": "2020-11-11T19:46:21.428186Z",
     "shell.execute_reply": "2020-11-11T19:46:21.428725Z"
    },
    "papermill": {
     "duration": 0.048696,
     "end_time": "2020-11-11T19:46:21.428851",
     "exception": false,
     "start_time": "2020-11-11T19:46:21.380155",
     "status": "completed"
    },
    "tags": []
   },
   "outputs": [],
   "source": [
    "tokens = GetTokens()"
   ]
  },
  {
   "cell_type": "code",
   "execution_count": 24,
   "metadata": {
    "execution": {
     "iopub.execute_input": "2020-11-11T19:46:21.513389Z",
     "iopub.status.busy": "2020-11-11T19:46:21.512673Z",
     "iopub.status.idle": "2020-11-11T19:46:26.212590Z",
     "shell.execute_reply": "2020-11-11T19:46:26.211934Z"
    },
    "papermill": {
     "duration": 4.743408,
     "end_time": "2020-11-11T19:46:26.212724",
     "exception": false,
     "start_time": "2020-11-11T19:46:21.469316",
     "status": "completed"
    },
    "tags": []
   },
   "outputs": [],
   "source": [
    "import tensorflow as tf\n",
    "from tensorflow.keras.preprocessing.text import Tokenizer"
   ]
  },
  {
   "cell_type": "code",
   "execution_count": 25,
   "metadata": {
    "execution": {
     "iopub.execute_input": "2020-11-11T19:46:26.309985Z",
     "iopub.status.busy": "2020-11-11T19:46:26.308943Z",
     "iopub.status.idle": "2020-11-11T19:46:26.312114Z",
     "shell.execute_reply": "2020-11-11T19:46:26.311559Z"
    },
    "papermill": {
     "duration": 0.056043,
     "end_time": "2020-11-11T19:46:26.312230",
     "exception": false,
     "start_time": "2020-11-11T19:46:26.256187",
     "status": "completed"
    },
    "tags": []
   },
   "outputs": [],
   "source": [
    "class Text2Sequence(BaseEstimator, TransformerMixin):\n",
    "    def __init__(self):\n",
    "        self.sequence_tokenizer = Tokenizer(oov_token=-99)\n",
    "\n",
    "    def fit(self, X, y=None):\n",
    "        self.sequence_tokenizer.fit_on_texts(X)\n",
    "        self.words_indices = self.sequence_tokenizer.word_index\n",
    "        return self\n",
    "    \n",
    "    def transform(self, X):\n",
    "        self.get_sequences = self.sequence_tokenizer.texts_to_sequences(X)\n",
    "        return self.get_sequences"
   ]
  },
  {
   "cell_type": "code",
   "execution_count": 26,
   "metadata": {
    "execution": {
     "iopub.execute_input": "2020-11-11T19:46:26.399760Z",
     "iopub.status.busy": "2020-11-11T19:46:26.398934Z",
     "iopub.status.idle": "2020-11-11T19:46:26.402252Z",
     "shell.execute_reply": "2020-11-11T19:46:26.401711Z"
    },
    "papermill": {
     "duration": 0.048332,
     "end_time": "2020-11-11T19:46:26.402382",
     "exception": false,
     "start_time": "2020-11-11T19:46:26.354050",
     "status": "completed"
    },
    "tags": []
   },
   "outputs": [],
   "source": [
    "text_2_seq = Text2Sequence()"
   ]
  },
  {
   "cell_type": "code",
   "execution_count": 27,
   "metadata": {
    "execution": {
     "iopub.execute_input": "2020-11-11T19:46:26.492698Z",
     "iopub.status.busy": "2020-11-11T19:46:26.491853Z",
     "iopub.status.idle": "2020-11-11T19:46:26.542759Z",
     "shell.execute_reply": "2020-11-11T19:46:26.542029Z"
    },
    "papermill": {
     "duration": 0.098691,
     "end_time": "2020-11-11T19:46:26.542901",
     "exception": false,
     "start_time": "2020-11-11T19:46:26.444210",
     "status": "completed"
    },
    "tags": []
   },
   "outputs": [],
   "source": [
    "from keras.preprocessing.sequence import pad_sequences"
   ]
  },
  {
   "cell_type": "code",
   "execution_count": 28,
   "metadata": {
    "execution": {
     "iopub.execute_input": "2020-11-11T19:46:26.667915Z",
     "iopub.status.busy": "2020-11-11T19:46:26.664278Z",
     "iopub.status.idle": "2020-11-11T19:46:26.682875Z",
     "shell.execute_reply": "2020-11-11T19:46:26.683853Z"
    },
    "papermill": {
     "duration": 0.09102,
     "end_time": "2020-11-11T19:46:26.684074",
     "exception": false,
     "start_time": "2020-11-11T19:46:26.593054",
     "status": "completed"
    },
    "tags": []
   },
   "outputs": [],
   "source": [
    "class Padding(BaseEstimator, TransformerMixin):\n",
    "    def __init__(self, pad='post'):\n",
    "        self.pad = pad\n",
    "    \n",
    "    def fit(self, X, y=None):\n",
    "        return self\n",
    "    \n",
    "    def transform(self, X):\n",
    "        self.get_paddings = pad_sequences(X, padding=self.pad)\n",
    "        return self.get_paddings"
   ]
  },
  {
   "cell_type": "code",
   "execution_count": 29,
   "metadata": {
    "execution": {
     "iopub.execute_input": "2020-11-11T19:46:26.835764Z",
     "iopub.status.busy": "2020-11-11T19:46:26.834822Z",
     "iopub.status.idle": "2020-11-11T19:46:26.838130Z",
     "shell.execute_reply": "2020-11-11T19:46:26.837396Z"
    },
    "papermill": {
     "duration": 0.072356,
     "end_time": "2020-11-11T19:46:26.838273",
     "exception": false,
     "start_time": "2020-11-11T19:46:26.765917",
     "status": "completed"
    },
    "tags": []
   },
   "outputs": [],
   "source": [
    "pad = Padding()"
   ]
  },
  {
   "cell_type": "code",
   "execution_count": 30,
   "metadata": {
    "execution": {
     "iopub.execute_input": "2020-11-11T19:46:26.965696Z",
     "iopub.status.busy": "2020-11-11T19:46:26.964640Z",
     "iopub.status.idle": "2020-11-11T19:46:26.967307Z",
     "shell.execute_reply": "2020-11-11T19:46:26.968144Z"
    },
    "papermill": {
     "duration": 0.069675,
     "end_time": "2020-11-11T19:46:26.968324",
     "exception": false,
     "start_time": "2020-11-11T19:46:26.898649",
     "status": "completed"
    },
    "tags": []
   },
   "outputs": [],
   "source": [
    "from sklearn.pipeline import Pipeline"
   ]
  },
  {
   "cell_type": "code",
   "execution_count": 31,
   "metadata": {
    "execution": {
     "iopub.execute_input": "2020-11-11T19:46:27.099818Z",
     "iopub.status.busy": "2020-11-11T19:46:27.098984Z",
     "iopub.status.idle": "2020-11-11T19:46:27.102389Z",
     "shell.execute_reply": "2020-11-11T19:46:27.103980Z"
    },
    "papermill": {
     "duration": 0.072571,
     "end_time": "2020-11-11T19:46:27.104155",
     "exception": false,
     "start_time": "2020-11-11T19:46:27.031584",
     "status": "completed"
    },
    "tags": []
   },
   "outputs": [],
   "source": [
    "data_prep_pipe = Pipeline([('get_tokens', tokens), ('text_2_sequence', text_2_seq), ('padding', pad)], verbose=1)"
   ]
  },
  {
   "cell_type": "markdown",
   "metadata": {
    "papermill": {
     "duration": 0.061796,
     "end_time": "2020-11-11T19:46:27.226462",
     "exception": false,
     "start_time": "2020-11-11T19:46:27.164666",
     "status": "completed"
    },
    "tags": []
   },
   "source": [
    "#### The above should return preprocessed X_train and y_train from data_prep_pipe.fit_transform(X_train, y_train)"
   ]
  },
  {
   "cell_type": "markdown",
   "metadata": {
    "papermill": {
     "duration": 0.064055,
     "end_time": "2020-11-11T19:46:27.365907",
     "exception": false,
     "start_time": "2020-11-11T19:46:27.301852",
     "status": "completed"
    },
    "tags": []
   },
   "source": [
    "## Training"
   ]
  },
  {
   "cell_type": "code",
   "execution_count": 32,
   "metadata": {
    "execution": {
     "iopub.execute_input": "2020-11-11T19:46:27.486275Z",
     "iopub.status.busy": "2020-11-11T19:46:27.485314Z",
     "iopub.status.idle": "2020-11-11T19:46:27.749634Z",
     "shell.execute_reply": "2020-11-11T19:46:27.750269Z"
    },
    "papermill": {
     "duration": 0.329009,
     "end_time": "2020-11-11T19:46:27.750468",
     "exception": false,
     "start_time": "2020-11-11T19:46:27.421459",
     "status": "completed"
    },
    "tags": []
   },
   "outputs": [],
   "source": [
    "from gensim.models import Word2Vec # importing Word2Vec"
   ]
  },
  {
   "cell_type": "code",
   "execution_count": 33,
   "metadata": {
    "execution": {
     "iopub.execute_input": "2020-11-11T19:46:27.880792Z",
     "iopub.status.busy": "2020-11-11T19:46:27.879918Z",
     "iopub.status.idle": "2020-11-11T19:46:27.883278Z",
     "shell.execute_reply": "2020-11-11T19:46:27.884398Z"
    },
    "papermill": {
     "duration": 0.077871,
     "end_time": "2020-11-11T19:46:27.884566",
     "exception": false,
     "start_time": "2020-11-11T19:46:27.806695",
     "status": "completed"
    },
    "tags": []
   },
   "outputs": [],
   "source": [
    "def get_embedding_matrix(model, word_index):\n",
    "    vocab_size = len(word_index) + 1\n",
    "    embedding_dim = model.wv.vector_size\n",
    "    embedding_matrix = np.zeros((vocab_size, embedding_dim))\n",
    "    \n",
    "    for word in model.wv.vocab:\n",
    "        ind = word_index[word]\n",
    "        embedding_matrix[ind] = model[word]\n",
    "        \n",
    "    return embedding_matrix"
   ]
  },
  {
   "cell_type": "code",
   "execution_count": 34,
   "metadata": {
    "execution": {
     "iopub.execute_input": "2020-11-11T19:46:28.002440Z",
     "iopub.status.busy": "2020-11-11T19:46:28.001409Z",
     "iopub.status.idle": "2020-11-11T19:46:28.004861Z",
     "shell.execute_reply": "2020-11-11T19:46:28.004276Z"
    },
    "papermill": {
     "duration": 0.052689,
     "end_time": "2020-11-11T19:46:28.004994",
     "exception": false,
     "start_time": "2020-11-11T19:46:27.952305",
     "status": "completed"
    },
    "tags": []
   },
   "outputs": [],
   "source": [
    "from sklearn.utils import class_weight"
   ]
  },
  {
   "cell_type": "code",
   "execution_count": 35,
   "metadata": {
    "execution": {
     "iopub.execute_input": "2020-11-11T19:46:28.097223Z",
     "iopub.status.busy": "2020-11-11T19:46:28.096341Z",
     "iopub.status.idle": "2020-11-11T19:46:28.099518Z",
     "shell.execute_reply": "2020-11-11T19:46:28.099000Z"
    },
    "papermill": {
     "duration": 0.050865,
     "end_time": "2020-11-11T19:46:28.099622",
     "exception": false,
     "start_time": "2020-11-11T19:46:28.048757",
     "status": "completed"
    },
    "tags": []
   },
   "outputs": [],
   "source": [
    "# importing deep learning libraries\n",
    "from tensorflow.keras.layers import Embedding, Dense, GlobalMaxPool1D, Conv1D, Dropout\n",
    "from tensorflow.keras.models import Sequential"
   ]
  },
  {
   "cell_type": "code",
   "execution_count": 36,
   "metadata": {
    "execution": {
     "iopub.execute_input": "2020-11-11T19:46:28.199558Z",
     "iopub.status.busy": "2020-11-11T19:46:28.198643Z",
     "iopub.status.idle": "2020-11-11T19:46:28.201688Z",
     "shell.execute_reply": "2020-11-11T19:46:28.201063Z"
    },
    "papermill": {
     "duration": 0.058744,
     "end_time": "2020-11-11T19:46:28.201789",
     "exception": false,
     "start_time": "2020-11-11T19:46:28.143045",
     "status": "completed"
    },
    "tags": []
   },
   "outputs": [],
   "source": [
    "def multi_class_fbeta(ytrue , ypred, beta=1, weighted=True, raw=False, epsilon=1e-7):\n",
    "    beta_squared = beta**2\n",
    "\n",
    "    ytrue = tf.cast(ytrue, tf.float32)\n",
    "    ypred= tf.cast(ypred, tf.float32)\n",
    "    \n",
    "    max_prob = tf.reduce_max(ypred, axis=-1, keepdims=True)\n",
    "    ypred = tf.cast(tf.equal(ypred, max_prob), tf.float32)\n",
    "        \n",
    "    tp = tf.reduce_sum(ytrue*ypred, axis=0)\n",
    "    predicted_positive = tf.reduce_sum(ypred, axis=0)\n",
    "    actual_positive = tf.reduce_sum(ytrue, axis=0)\n",
    "    \n",
    "    precision = tp/(predicted_positive+epsilon)\n",
    "    recall = tp/(actual_positive+epsilon)\n",
    "    \n",
    "    fb = (1+beta_squared)*precision*recall / (beta_squared*precision + recall + epsilon)\n",
    "    \n",
    "    if raw:\n",
    "        return fb\n",
    "    \n",
    "    if weighted:\n",
    "        supports = tf.reduce_sum(ytrue, axis=0)\n",
    "        return tf.reduce_sum(fb*supports / tf.reduce_sum(supports))\n",
    "\n",
    "    return tf.reduce_mean(fb)"
   ]
  },
  {
   "cell_type": "code",
   "execution_count": 37,
   "metadata": {
    "execution": {
     "iopub.execute_input": "2020-11-11T19:46:28.302005Z",
     "iopub.status.busy": "2020-11-11T19:46:28.301053Z",
     "iopub.status.idle": "2020-11-11T19:46:28.304285Z",
     "shell.execute_reply": "2020-11-11T19:46:28.303677Z"
    },
    "papermill": {
     "duration": 0.057425,
     "end_time": "2020-11-11T19:46:28.304423",
     "exception": false,
     "start_time": "2020-11-11T19:46:28.246998",
     "status": "completed"
    },
    "tags": []
   },
   "outputs": [],
   "source": [
    "def build_cnn_model(embedding_matrix, input_length):\n",
    "    model = Sequential()\n",
    "    model.add(Embedding(embedding_matrix.shape[0], embedding_matrix.shape[1], \n",
    "                           weights=[embedding_matrix], \n",
    "                           input_length=input_length, \n",
    "                           trainable=False))\n",
    "    \n",
    "    model.add(Conv1D(128, 3, activation='relu'))\n",
    "    model.add(Conv1D(128, 3, activation='relu'))\n",
    "    \n",
    "    model.add(GlobalMaxPool1D())\n",
    "    \n",
    "    model.add(Dropout(0.2))\n",
    "    \n",
    "    model.add(Dense(20, activation='softmax'))\n",
    "\n",
    "    model.compile(optimizer='adam',\n",
    "              loss='categorical_crossentropy',\n",
    "              metrics=['accuracy', multi_class_fbeta])\n",
    "\n",
    "    return model"
   ]
  },
  {
   "cell_type": "code",
   "execution_count": 38,
   "metadata": {
    "execution": {
     "iopub.execute_input": "2020-11-11T19:46:28.406280Z",
     "iopub.status.busy": "2020-11-11T19:46:28.405428Z",
     "iopub.status.idle": "2020-11-11T19:46:28.408355Z",
     "shell.execute_reply": "2020-11-11T19:46:28.407769Z"
    },
    "papermill": {
     "duration": 0.061183,
     "end_time": "2020-11-11T19:46:28.408474",
     "exception": false,
     "start_time": "2020-11-11T19:46:28.347291",
     "status": "completed"
    },
    "tags": []
   },
   "outputs": [],
   "source": [
    "class CNNModel(BaseEstimator, ClassifierMixin):\n",
    "    def __init__(self, epochs=5, batch_size=128, verbose=1):\n",
    "        self.epochs = epochs\n",
    "        self.batch_size = batch_size\n",
    "        self.verbose = verbose\n",
    "        \n",
    "    def fit(self, X, y):\n",
    "        self.corpus = data_prep_pipe.named_steps['get_tokens'].tokens\n",
    "        self.w2v_model = Word2Vec(self.corpus, size=300, min_count=1, iter=10)\n",
    "        self.embedding_matrix = get_embedding_matrix(self.w2v_model, \\\n",
    "                                                     data_prep_pipe.named_steps['text_2_sequence'].words_indices)\n",
    "        \n",
    "        self.model = build_cnn_model(self.embedding_matrix, X.shape[1])\n",
    "        \n",
    "        self.le = LabelEncoder()\n",
    "        self.one_hot = OneHotEncoder(sparse=False) # initializes a LabelEncoder object\n",
    "        \n",
    "        encoded_labels = self.le.fit_transform(y)\n",
    "        \n",
    "        self.class_weights = class_weight.compute_class_weight('balanced', np.arange(20), encoded_labels)\n",
    "        self.class_weights = dict(enumerate(self.class_weights))\n",
    "\n",
    "        one_hot_labels = self.one_hot.fit_transform(encoded_labels.reshape(-1, 1))\n",
    "        \n",
    "        self.history = self.model.fit(X, one_hot_labels, epochs=self.epochs, batch_size=self.batch_size, \\\n",
    "                                      class_weight=self.class_weights, verbose=self.verbose)\n",
    "        \n",
    "        return self.model\n",
    "    \n",
    "    def predict(self, X):\n",
    "        self.pred = self.model.predict(X)\n",
    "        return self.le.inverse_transform(self.one_hot.inverse_transform(self.pred))[0]\n",
    "        "
   ]
  },
  {
   "cell_type": "code",
   "execution_count": 39,
   "metadata": {
    "execution": {
     "iopub.execute_input": "2020-11-11T19:46:28.499801Z",
     "iopub.status.busy": "2020-11-11T19:46:28.498943Z",
     "iopub.status.idle": "2020-11-11T19:46:28.502016Z",
     "shell.execute_reply": "2020-11-11T19:46:28.501460Z"
    },
    "papermill": {
     "duration": 0.049868,
     "end_time": "2020-11-11T19:46:28.502119",
     "exception": false,
     "start_time": "2020-11-11T19:46:28.452251",
     "status": "completed"
    },
    "tags": []
   },
   "outputs": [],
   "source": [
    "cnn_model = CNNModel()"
   ]
  },
  {
   "cell_type": "markdown",
   "metadata": {
    "papermill": {
     "duration": 0.043387,
     "end_time": "2020-11-11T19:46:28.589787",
     "exception": false,
     "start_time": "2020-11-11T19:46:28.546400",
     "status": "completed"
    },
    "tags": []
   },
   "source": [
    "#### The above should be fitted on the preprocessed X_train and y_train from data_prep_pipe.fit_transform(X_train, y_train)."
   ]
  },
  {
   "cell_type": "markdown",
   "metadata": {
    "papermill": {
     "duration": 0.042769,
     "end_time": "2020-11-11T19:46:28.676256",
     "exception": false,
     "start_time": "2020-11-11T19:46:28.633487",
     "status": "completed"
    },
    "tags": []
   },
   "source": [
    "## Prediction"
   ]
  },
  {
   "cell_type": "markdown",
   "metadata": {
    "papermill": {
     "duration": 0.042857,
     "end_time": "2020-11-11T19:46:28.764911",
     "exception": false,
     "start_time": "2020-11-11T19:46:28.722054",
     "status": "completed"
    },
    "tags": []
   },
   "source": [
    "#### the user's input to be predicted will be transformed by being fed into the preprocessor by actually doing somehing like prep_input = data_prep_pipe.transform(user_input) and then be fed into the model by doing something like pred = cnn_model.predict(prep_input)"
   ]
  },
  {
   "cell_type": "markdown",
   "metadata": {
    "papermill": {
     "duration": 0.042941,
     "end_time": "2020-11-11T19:46:28.850747",
     "exception": false,
     "start_time": "2020-11-11T19:46:28.807806",
     "status": "completed"
    },
    "tags": []
   },
   "source": [
    "# Note: lines of code below are for demostration purposes and should not be included in our deployment."
   ]
  },
  {
   "cell_type": "markdown",
   "metadata": {
    "papermill": {
     "duration": 0.043004,
     "end_time": "2020-11-11T19:46:28.937802",
     "exception": false,
     "start_time": "2020-11-11T19:46:28.894798",
     "status": "completed"
    },
    "tags": []
   },
   "source": [
    "### Our model only predicts the top 20 varieties and they are as listed below"
   ]
  },
  {
   "cell_type": "code",
   "execution_count": 40,
   "metadata": {
    "execution": {
     "iopub.execute_input": "2020-11-11T19:46:29.042359Z",
     "iopub.status.busy": "2020-11-11T19:46:29.041502Z",
     "iopub.status.idle": "2020-11-11T19:46:29.051676Z",
     "shell.execute_reply": "2020-11-11T19:46:29.052252Z"
    },
    "papermill": {
     "duration": 0.070521,
     "end_time": "2020-11-11T19:46:29.052392",
     "exception": false,
     "start_time": "2020-11-11T19:46:28.981871",
     "status": "completed"
    },
    "tags": []
   },
   "outputs": [
    {
     "data": {
      "text/plain": [
       "array(['Riesling', 'Pinot Noir', 'Cabernet Sauvignon', 'Chardonnay',\n",
       "       'Red Blend', 'Bordeaux-style Red Blend', 'White Blend',\n",
       "       'Portuguese Red', 'Pinot Gris', 'Malbec', 'Merlot',\n",
       "       'Sauvignon Blanc', 'Sangiovese', 'Rosé', 'Zinfandel', 'Syrah',\n",
       "       'Nebbiolo', 'Rhône-style Red Blend', 'Sparkling Blend',\n",
       "       'Tempranillo'], dtype=object)"
      ]
     },
     "execution_count": 40,
     "metadata": {},
     "output_type": "execute_result"
    }
   ],
   "source": [
    "balanced_df['variety'].unique()"
   ]
  },
  {
   "cell_type": "code",
   "execution_count": 41,
   "metadata": {
    "execution": {
     "iopub.execute_input": "2020-11-11T19:46:29.145865Z",
     "iopub.status.busy": "2020-11-11T19:46:29.144937Z",
     "iopub.status.idle": "2020-11-11T19:46:29.147856Z",
     "shell.execute_reply": "2020-11-11T19:46:29.147281Z"
    },
    "papermill": {
     "duration": 0.051996,
     "end_time": "2020-11-11T19:46:29.147953",
     "exception": false,
     "start_time": "2020-11-11T19:46:29.095957",
     "status": "completed"
    },
    "tags": []
   },
   "outputs": [],
   "source": [
    "model_pipe = Pipeline([('data_prep', data_prep_pipe), ('model', cnn_model)])"
   ]
  },
  {
   "cell_type": "code",
   "execution_count": 42,
   "metadata": {
    "execution": {
     "iopub.execute_input": "2020-11-11T19:46:29.300405Z",
     "iopub.status.busy": "2020-11-11T19:46:29.299464Z",
     "iopub.status.idle": "2020-11-11T19:50:27.395979Z",
     "shell.execute_reply": "2020-11-11T19:50:27.395419Z"
    },
    "papermill": {
     "duration": 238.180206,
     "end_time": "2020-11-11T19:50:27.396097",
     "exception": false,
     "start_time": "2020-11-11T19:46:29.215891",
     "status": "completed"
    },
    "tags": []
   },
   "outputs": [
    {
     "name": "stdout",
     "output_type": "stream",
     "text": [
      "[Pipeline] ........ (step 1 of 3) Processing get_tokens, total= 1.1min\n",
      "[Pipeline] ... (step 2 of 3) Processing text_2_sequence, total=   6.2s\n",
      "[Pipeline] ........... (step 3 of 3) Processing padding, total=   2.0s\n",
      "Epoch 1/5\n",
      "1248/1248 [==============================] - 10s 8ms/step - loss: 0.8262 - accuracy: 0.7344 - multi_class_fbeta: 0.7346\n",
      "Epoch 2/5\n",
      "1248/1248 [==============================] - 9s 7ms/step - loss: 0.5939 - accuracy: 0.8004 - multi_class_fbeta: 0.8017\n",
      "Epoch 3/5\n",
      "1248/1248 [==============================] - 9s 8ms/step - loss: 0.5379 - accuracy: 0.8168 - multi_class_fbeta: 0.8179\n",
      "Epoch 4/5\n",
      "1248/1248 [==============================] - 10s 8ms/step - loss: 0.5006 - accuracy: 0.8272 - multi_class_fbeta: 0.8286\n",
      "Epoch 5/5\n",
      "1248/1248 [==============================] - 10s 8ms/step - loss: 0.4723 - accuracy: 0.8350 - multi_class_fbeta: 0.8362\n"
     ]
    },
    {
     "data": {
      "text/plain": [
       "Pipeline(steps=[('data_prep',\n",
       "                 Pipeline(steps=[('get_tokens', GetTokens()),\n",
       "                                 ('text_2_sequence', Text2Sequence()),\n",
       "                                 ('padding', Padding())],\n",
       "                          verbose=1)),\n",
       "                ('model', CNNModel())])"
      ]
     },
     "execution_count": 42,
     "metadata": {},
     "output_type": "execute_result"
    }
   ],
   "source": [
    "model_pipe.fit(sent_oversample_corpus, labels)"
   ]
  },
  {
   "cell_type": "markdown",
   "metadata": {
    "papermill": {
     "duration": 0.368692,
     "end_time": "2020-11-11T19:50:28.132042",
     "exception": false,
     "start_time": "2020-11-11T19:50:27.763350",
     "status": "completed"
    },
    "tags": []
   },
   "source": [
    "### Let's do a demo prediction of 'Pinot Noir' wine variety from a recent review (published 12/1/2020) not in our training set from [wine ethusiast](https://www.winemag.com/buying-guide/albert-bichot-2018-domaine-du-pavilion-clos-des-marechaudes-grand-cru-corton/)"
   ]
  },
  {
   "cell_type": "code",
   "execution_count": 43,
   "metadata": {
    "execution": {
     "iopub.execute_input": "2020-11-11T19:50:29.031325Z",
     "iopub.status.busy": "2020-11-11T19:50:29.030330Z",
     "iopub.status.idle": "2020-11-11T19:50:29.032878Z",
     "shell.execute_reply": "2020-11-11T19:50:29.032096Z"
    },
    "papermill": {
     "duration": 0.530753,
     "end_time": "2020-11-11T19:50:29.033024",
     "exception": false,
     "start_time": "2020-11-11T19:50:28.502271",
     "status": "completed"
    },
    "tags": []
   },
   "outputs": [],
   "source": [
    "user_input = \"A hint of woodsmoke combines with this wine's shy aromas of black cherry. \" + \\\n",
    "              \"The palate comes in with surprising grace and svelteness, presenting a filigreed but \" + \\\n",
    "              \"firm structure. Cherry aromas shimmering with Morello and Amarena are expressed against \" + \\\n",
    "              \"that frame, crunching slightly and heightened by vivid freshness. This wine has compact, \" + \\\n",
    "              \"elegant power and inherent conviction. Drink through 2050.\""
   ]
  },
  {
   "cell_type": "markdown",
   "metadata": {
    "papermill": {
     "duration": 0.404914,
     "end_time": "2020-11-11T19:50:29.886239",
     "exception": false,
     "start_time": "2020-11-11T19:50:29.481325",
     "status": "completed"
    },
    "tags": []
   },
   "source": [
    "### Notice the double quotes we used. This is to prevent error should the user's input contain apostrophe."
   ]
  },
  {
   "cell_type": "code",
   "execution_count": 44,
   "metadata": {
    "execution": {
     "iopub.execute_input": "2020-11-11T19:50:30.629919Z",
     "iopub.status.busy": "2020-11-11T19:50:30.629018Z",
     "iopub.status.idle": "2020-11-11T19:50:30.632970Z",
     "shell.execute_reply": "2020-11-11T19:50:30.633495Z"
    },
    "papermill": {
     "duration": 0.382464,
     "end_time": "2020-11-11T19:50:30.633634",
     "exception": false,
     "start_time": "2020-11-11T19:50:30.251170",
     "status": "completed"
    },
    "tags": []
   },
   "outputs": [
    {
     "data": {
      "text/plain": [
       "\"A hint of woodsmoke combines with this wine's shy aromas of black cherry. The palate comes in with surprising grace and svelteness, presenting a filigreed but firm structure. Cherry aromas shimmering with Morello and Amarena are expressed against that frame, crunching slightly and heightened by vivid freshness. This wine has compact, elegant power and inherent conviction. Drink through 2050.\""
      ]
     },
     "execution_count": 44,
     "metadata": {},
     "output_type": "execute_result"
    }
   ],
   "source": [
    "user_input"
   ]
  },
  {
   "cell_type": "code",
   "execution_count": 45,
   "metadata": {
    "execution": {
     "iopub.execute_input": "2020-11-11T19:50:31.426315Z",
     "iopub.status.busy": "2020-11-11T19:50:31.425428Z",
     "iopub.status.idle": "2020-11-11T19:50:31.581222Z",
     "shell.execute_reply": "2020-11-11T19:50:31.582064Z"
    },
    "papermill": {
     "duration": 0.58348,
     "end_time": "2020-11-11T19:50:31.582208",
     "exception": false,
     "start_time": "2020-11-11T19:50:30.998728",
     "status": "completed"
    },
    "tags": []
   },
   "outputs": [
    {
     "name": "stdout",
     "output_type": "stream",
     "text": [
      "Pinot Noir\n"
     ]
    }
   ],
   "source": [
    "# predicting user's description\n",
    "pred = model_pipe.predict([user_input])\n",
    "print(pred)"
   ]
  },
  {
   "cell_type": "markdown",
   "metadata": {
    "papermill": {
     "duration": 0.364703,
     "end_time": "2020-11-11T19:50:32.319548",
     "exception": false,
     "start_time": "2020-11-11T19:50:31.954845",
     "status": "completed"
    },
    "tags": []
   },
   "source": [
    "### ...and voila, our model's prediction was as good as right!"
   ]
  }
 ],
 "metadata": {
  "kernelspec": {
   "display_name": "Python 3",
   "language": "python",
   "name": "python3"
  },
  "language_info": {
   "codemirror_mode": {
    "name": "ipython",
    "version": 3
   },
   "file_extension": ".py",
   "mimetype": "text/x-python",
   "name": "python",
   "nbconvert_exporter": "python",
   "pygments_lexer": "ipython3",
   "version": "3.7.6"
  },
  "papermill": {
   "duration": 278.10329,
   "end_time": "2020-11-11T19:50:33.995567",
   "environment_variables": {},
   "exception": null,
   "input_path": "__notebook__.ipynb",
   "output_path": "__notebook__.ipynb",
   "parameters": {},
   "start_time": "2020-11-11T19:45:55.892277",
   "version": "2.1.0"
  }
 },
 "nbformat": 4,
 "nbformat_minor": 4
}
